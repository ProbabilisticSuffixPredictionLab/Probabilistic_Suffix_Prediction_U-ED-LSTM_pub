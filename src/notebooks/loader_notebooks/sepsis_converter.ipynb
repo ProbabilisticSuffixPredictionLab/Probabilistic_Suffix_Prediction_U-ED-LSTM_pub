{
 "cells": [
  {
   "cell_type": "code",
   "execution_count": 1,
   "id": "05699f01-bd12-4ada-b933-48549300d9d6",
   "metadata": {},
   "outputs": [],
   "source": [
    "import pm4py"
   ]
  },
  {
   "cell_type": "code",
   "execution_count": null,
   "id": "79bc1b62-464a-41a7-85ed-081b5e55fe26",
   "metadata": {},
   "outputs": [
    {
     "ename": "XMLSyntaxError",
     "evalue": "no element found (line 0)",
     "output_type": "error",
     "traceback": [
      "Traceback \u001b[36m(most recent call last)\u001b[39m:\n",
      "  File \u001b[92m~/.local/share/virtualenvs/PrimePPM-tDGhFIeG/lib/python3.13/site-packages/IPython/core/interactiveshell.py:3667\u001b[39m in \u001b[95mrun_code\u001b[39m\n    exec(code_obj, self.user_global_ns, self.user_ns)\n",
      "  Cell \u001b[92mIn[2]\u001b[39m\u001b[92m, line 2\u001b[39m\n    event_log = pm4py.read_xes(file_path)\n",
      "  File \u001b[92m~/pm4py/pm4py/read.py:138\u001b[39m in \u001b[95mread_xes\u001b[39m\n    log = xes_importer.apply(local_path, variant=v, parameters=parameters)\n",
      "  File \u001b[92m~/pm4py/pm4py/objects/log/importer/xes/importer.py:91\u001b[39m in \u001b[95mapply\u001b[39m\n    log = variant.value.apply(path, parameters=parameters)\n",
      "  File \u001b[92m~/pm4py/pm4py/objects/log/importer/xes/variants/iterparse.py:305\u001b[39m in \u001b[95mapply\u001b[39m\n    return import_log(filename, parameters)\n",
      "  File \u001b[92m~/pm4py/pm4py/objects/log/importer/xes/variants/iterparse.py:345\u001b[39m in \u001b[95mimport_log\u001b[39m\n    num_traces = count_traces(context)\n",
      "  File \u001b[92m~/pm4py/pm4py/objects/log/importer/xes/variants/iterparse.py:66\u001b[39m in \u001b[95mcount_traces\u001b[39m\n    for tree_event, elem in context:\n",
      "  File \u001b[92msrc/lxml/iterparse.pxi:208\u001b[39m in \u001b[95mlxml.etree.iterparse.__next__\u001b[39m\n",
      "  File \u001b[92msrc/lxml/iterparse.pxi:193\u001b[39m in \u001b[95mlxml.etree.iterparse.__next__\u001b[39m\n",
      "  File \u001b[92msrc/lxml/iterparse.pxi:224\u001b[39m in \u001b[95mlxml.etree.iterparse._read_more_events\u001b[39m\n",
      "\u001b[36m  \u001b[39m\u001b[36mFile \u001b[39m\u001b[32msrc/lxml/parser.pxi:1467\u001b[39m\u001b[36m in \u001b[39m\u001b[35mlxml.etree._FeedParser.close\u001b[39m\n",
      "  \u001b[36mFile \u001b[39m\u001b[32m~/prob_suffix_pred_sim_framework/probabilistic_suffix_prediction_dev/data/Sepsis Cases - Event Log.xes.gz\u001b[39m\n\u001b[31mXMLSyntaxError\u001b[39m\u001b[31m:\u001b[39m no element found\n"
     ]
    }
   ],
   "source": [
    "file_path = '../../../../data/Sepsis Cases - Event Log.xes.gz'\n",
    "event_log = pm4py.read_xes(file_path)"
   ]
  },
  {
   "cell_type": "code",
   "execution_count": null,
   "id": "dc1b009e-53cf-460f-9fbd-699cd64ce369",
   "metadata": {},
   "outputs": [],
   "source": [
    "event_log"
   ]
  },
  {
   "cell_type": "code",
   "execution_count": null,
   "id": "22c37f45-50f5-4591-9b69-e34b6059c79b",
   "metadata": {},
   "outputs": [],
   "source": [
    "event_log.to_csv('../../../data/Sepsis.csv', index=False, date_format='%Y-%m-%d %H:%M:%S.%f')"
   ]
  },
  {
   "cell_type": "markdown",
   "id": "2ce28c93",
   "metadata": {},
   "source": [
    "We manually deleted the two 'Variant' columns because they are redundant to 'VariantIndex'"
   ]
  }
 ],
 "metadata": {
  "kernelspec": {
   "display_name": "PrimePPM-tDGhFIeG",
   "language": "python",
   "name": "python3"
  },
  "language_info": {
   "codemirror_mode": {
    "name": "ipython",
    "version": 3
   },
   "file_extension": ".py",
   "mimetype": "text/x-python",
   "name": "python",
   "nbconvert_exporter": "python",
   "pygments_lexer": "ipython3",
   "version": "3.13.1"
  }
 },
 "nbformat": 4,
 "nbformat_minor": 5
}
