{
 "cells": [
  {
   "cell_type": "markdown",
   "metadata": {},
   "source": [
    "# Imports"
   ]
  },
  {
   "cell_type": "code",
   "execution_count": 1,
   "metadata": {
    "execution": {
     "iopub.execute_input": "2025-05-06T13:26:05.874692Z",
     "iopub.status.busy": "2025-05-06T13:26:05.874302Z",
     "iopub.status.idle": "2025-05-06T13:26:07.314851Z",
     "shell.execute_reply": "2025-05-06T13:26:07.314378Z"
    }
   },
   "outputs": [],
   "source": [
    "import importlib\n",
    "import sys\n",
    "import torch\n",
    "\n",
    "sys.path.insert(0, '..')\n",
    "sys.path.insert(0, '../..')\n",
    "sys.path.insert(0, '../../..')"
   ]
  },
  {
   "cell_type": "markdown",
   "metadata": {},
   "source": [
    "# Data"
   ]
  },
  {
   "cell_type": "markdown",
   "metadata": {},
   "source": [
    "### Load Data Files"
   ]
  },
  {
   "cell_type": "code",
   "execution_count": 2,
   "metadata": {
    "execution": {
     "iopub.execute_input": "2025-05-06T13:26:07.317185Z",
     "iopub.status.busy": "2025-05-06T13:26:07.316949Z",
     "iopub.status.idle": "2025-05-06T13:26:08.740341Z",
     "shell.execute_reply": "2025-05-06T13:26:08.739892Z"
    }
   },
   "outputs": [
    {
     "name": "stdout",
     "output_type": "stream",
     "text": [
      "<class 'event_log_loader.new_event_log_loader.EventLogDataset'>\n"
     ]
    },
    {
     "name": "stdout",
     "output_type": "stream",
     "text": [
      "<class 'event_log_loader.new_event_log_loader.EventLogDataset'>\n"
     ]
    }
   ],
   "source": [
    "# Path to your pickle file (saved with torch.save)\n",
    "file_path_train = '../../../../encoded_data/PCR_5_train.pkl'\n",
    "# Load the dataset using torch.load\n",
    "PCR_train_dataset = torch.load(file_path_train, weights_only=False)\n",
    "# Check the type of the loaded dataset\n",
    "print(type(PCR_train_dataset))  # Should output something like <class 'torch.utils.data.dataset.TensorDataset'>\n",
    "\n",
    "# Path to your pickle file (saved with torch.save)\n",
    "file_path_val = '../../../../encoded_data/PCR_5_val.pkl'\n",
    "# Load the dataset using torch.load\n",
    "PCR_val_dataset = torch.load(file_path_val, weights_only=False)\n",
    "# Check the type of the loaded dataset\n",
    "print(type(PCR_val_dataset))  # Should output something like <class 'torch.utils.data.dataset.TensorDataset'>"
   ]
  },
  {
   "cell_type": "markdown",
   "metadata": {},
   "source": [
    "### Train Data Insights"
   ]
  },
  {
   "cell_type": "code",
   "execution_count": 3,
   "metadata": {
    "execution": {
     "iopub.execute_input": "2025-05-06T13:26:08.815471Z",
     "iopub.status.busy": "2025-05-06T13:26:08.811480Z",
     "iopub.status.idle": "2025-05-06T13:26:08.824401Z",
     "shell.execute_reply": "2025-05-06T13:26:08.820991Z"
    }
   },
   "outputs": [
    {
     "name": "stdout",
     "output_type": "stream",
     "text": [
      "[('concept:name', 10, {'Callback timeout': 1, 'EOS': 2, 'Export result': 3, 'Export to EMS': 4, 'Match patient data': 5, 'Receive sample state': 6, 'Send notification': 7, 'Wait for plate validation': 8, 'timeout': 9}), ('cpee:lifecycle:transition', 6, {'EOS': 1, 'activity/calling': 2, 'activity/done': 3, 'activity/receiving': 4, 'dataelements/change': 5})]\n",
      "[('case_elapsed_time', 1, {}), ('event_elapsed_time', 1, {}), ('day_in_week', 1, {}), ('seconds_in_day', 1, {})]\n",
      "PCR (5) Categorical feature: concept:name, Index position in categorical data list: 0\n",
      "PCR (5) Total Amount of Category labels: 10\n",
      "PCR (5) Categorical feature: cpee:lifecycle:transition, Index position in categorical data list: 1\n",
      "PCR (5) Total Amount of Category labels: 6\n",
      "\n",
      "\n",
      "PCR (5) Numerical feature: case_elapsed_time, Index position in categorical data list: 0\n",
      "PCR (5) Amount Category Lables: 1\n",
      "PCR (5) Numerical feature: event_elapsed_time, Index position in categorical data list: 1\n",
      "PCR (5) Amount Category Lables: 1\n",
      "PCR (5) Numerical feature: day_in_week, Index position in categorical data list: 2\n",
      "PCR (5) Amount Category Lables: 1\n",
      "PCR (5) Numerical feature: seconds_in_day, Index position in categorical data list: 3\n",
      "PCR (5) Amount Category Lables: 1\n"
     ]
    }
   ],
   "source": [
    "# PCR Dataset Categories, Features:\n",
    "\n",
    "PCR_all_categories = PCR_train_dataset.all_categories\n",
    "\n",
    "PCR_all_categories_cat = PCR_all_categories[0]\n",
    "print(PCR_all_categories_cat)\n",
    "\n",
    "PCR_all_categories_num = PCR_all_categories[1]\n",
    "print(PCR_all_categories_num)\n",
    "\n",
    "for i, cat in enumerate(PCR_all_categories_cat):\n",
    "     print(f\"PCR (5) Categorical feature: {cat[0]}, Index position in categorical data list: {i}\")\n",
    "     print(f\"PCR (5) Total Amount of Category labels: {cat[1]}\")\n",
    "print('\\n')    \n",
    "for i, num in enumerate(PCR_all_categories_num):\n",
    "     print(f\"PCR (5) Numerical feature: {num[0]}, Index position in categorical data list: {i}\")\n",
    "     print(f\"PCR (5) Amount Category Lables: {num[1]}\")"
   ]
  },
  {
   "cell_type": "markdown",
   "metadata": {},
   "source": [
    "### Input Features for Encoder and Decoder"
   ]
  },
  {
   "cell_type": "code",
   "execution_count": 4,
   "metadata": {
    "execution": {
     "iopub.execute_input": "2025-05-06T13:26:08.825978Z",
     "iopub.status.busy": "2025-05-06T13:26:08.825786Z",
     "iopub.status.idle": "2025-05-06T13:26:08.828544Z",
     "shell.execute_reply": "2025-05-06T13:26:08.828282Z"
    }
   },
   "outputs": [
    {
     "name": "stdout",
     "output_type": "stream",
     "text": [
      "Input features encoder:  [['concept:name', 'cpee:lifecycle:transition'], ['case_elapsed_time', 'event_elapsed_time', 'day_in_week', 'seconds_in_day']]\n",
      "Features decoder:  [['concept:name'], ['case_elapsed_time', 'event_elapsed_time']]\n"
     ]
    }
   ],
   "source": [
    "# Create lists with name of Encoder features (input) and decoder features (input & output)\n",
    "\n",
    "# Encoder features:\n",
    "enc_feat_cat = []\n",
    "enc_feat_num = []\n",
    "for cat in PCR_all_categories_cat:\n",
    "    enc_feat_cat.append(cat[0])\n",
    "for num in PCR_all_categories_num:\n",
    "    enc_feat_num.append(num[0])\n",
    "enc_feat = [enc_feat_cat, enc_feat_num]\n",
    "print(\"Input features encoder: \", enc_feat)\n",
    "\n",
    "\"\"\"\n",
    "# Decoder features:\n",
    "dec_feat_cat = enc_feat_cat\n",
    "dec_feat_num = enc_feat_num\n",
    "dec_feat = [dec_feat_cat, dec_feat_num]\n",
    "print(\"Features decoder: \", dec_feat)\n",
    "\"\"\"\n",
    "\n",
    "# Decoder features:\n",
    "dec_feat_cat = ['concept:name']\n",
    "dec_feat_num = ['case_elapsed_time', 'event_elapsed_time']\n",
    "dec_feat = [dec_feat_cat, dec_feat_num]\n",
    "print(\"Features decoder: \", dec_feat)"
   ]
  },
  {
   "cell_type": "markdown",
   "metadata": {},
   "source": [
    "# Model"
   ]
  },
  {
   "cell_type": "code",
   "execution_count": 5,
   "metadata": {
    "execution": {
     "iopub.execute_input": "2025-05-06T13:26:08.829791Z",
     "iopub.status.busy": "2025-05-06T13:26:08.829636Z",
     "iopub.status.idle": "2025-05-06T13:26:08.857325Z",
     "shell.execute_reply": "2025-05-06T13:26:08.856962Z"
    }
   },
   "outputs": [
    {
     "name": "stdout",
     "output_type": "stream",
     "text": [
      "Data set categories:  ([('concept:name', 10, {'Callback timeout': 1, 'EOS': 2, 'Export result': 3, 'Export to EMS': 4, 'Match patient data': 5, 'Receive sample state': 6, 'Send notification': 7, 'Wait for plate validation': 8, 'timeout': 9}), ('cpee:lifecycle:transition', 6, {'EOS': 1, 'activity/calling': 2, 'activity/done': 3, 'activity/receiving': 4, 'dataelements/change': 5})], [('case_elapsed_time', 1, {}), ('event_elapsed_time', 1, {}), ('day_in_week', 1, {}), ('seconds_in_day', 1, {})])\n",
      "Encoder input features:  [['concept:name', 'cpee:lifecycle:transition'], ['case_elapsed_time', 'event_elapsed_time', 'day_in_week', 'seconds_in_day']]\n",
      "Decoder input+output features:  [['concept:name'], ['case_elapsed_time', 'event_elapsed_time']]\n",
      "\n",
      "\n",
      "Sequence length of decoder output:  4\n",
      "\n",
      "\n",
      "Cells hidden size:  128\n",
      "Number of LSTM layer:  4\n",
      "Dropout rate:  0.1\n",
      "\n",
      "\n",
      "Encoder number of labels for each input feature (categorical, numerical):  [[10, 6], [1, 1, 1, 1]]\n",
      "Encoder indices of tensors in dataset used as input:  [[0, 1], [0, 1, 2, 3]]\n",
      "Embeddings encoder:  ModuleList(\n",
      "  (0): Embedding(10, 6)\n",
      "  (1): Embedding(6, 4)\n",
      ")\n",
      "Total embedding feature size encoder:  10\n",
      "Total numerical feature size encoder:  4\n",
      "Input feature size encoder:  14\n",
      "Encoder initialized! \n",
      "\n",
      "Decoder label values size for each categorical input feature:  [10]\n",
      "Decoder label values size for each numerical input feature:  [1, 1]\n",
      "Decoder indices of tensors in dataset used as input:  [[0], [0, 1]]\n",
      "Embeddings decoder:  ModuleList(\n",
      "  (0): Embedding(10, 6)\n",
      ")\n",
      "Total embedding feature size decoder:  6\n",
      "Total numerical feature size decoder:  2\n",
      "Input feature size decoder:  8\n",
      "Output feature list of dicts (featue name, feature output size) of decoder:  [{'concept:name': 10}, {'case_elapsed_time': 1, 'event_elapsed_time': 1}]\n",
      "Decoder initialized! \n",
      "\n",
      "Output feature list of dicts (featue name, tensor index in dataset) of decoder:  [{'concept:name': 0}, {'case_elapsed_time': 0, 'event_elapsed_time': 1}]\n"
     ]
    }
   ],
   "source": [
    "import model.dropout_uncertainty_enc_dec_LSTM.dropout_uncertainty_model\n",
    "importlib.reload(model.dropout_uncertainty_enc_dec_LSTM.dropout_uncertainty_model)\n",
    "from model.dropout_uncertainty_enc_dec_LSTM.dropout_uncertainty_model import DropoutUncertaintyEncoderDecoderLSTM\n",
    "\n",
    "# Prediction decoder output sequence length\n",
    "seq_len_pred = 4\n",
    "\n",
    "# Size hidden layer\n",
    "hidden_size = 128\n",
    "\n",
    "# Number of cells\n",
    "num_layers = 4\n",
    "\n",
    "# Fixed Dropout probability \n",
    "dropout = 0.1\n",
    "\n",
    "# Encoder Decoder model initialization\n",
    "model = DropoutUncertaintyEncoderDecoderLSTM(data_set_categories=PCR_all_categories,\n",
    "                                             enc_feat=enc_feat,\n",
    "                                             dec_feat=dec_feat,\n",
    "                                             seq_len_pred=seq_len_pred,\n",
    "                                             hidden_size=hidden_size,\n",
    "                                             num_layers=num_layers,\n",
    "                                             dropout=dropout)"
   ]
  },
  {
   "cell_type": "markdown",
   "metadata": {},
   "source": [
    "# Loss Object Creation"
   ]
  },
  {
   "cell_type": "code",
   "execution_count": 6,
   "metadata": {
    "execution": {
     "iopub.execute_input": "2025-05-06T13:26:08.858723Z",
     "iopub.status.busy": "2025-05-06T13:26:08.858571Z",
     "iopub.status.idle": "2025-05-06T13:26:08.863193Z",
     "shell.execute_reply": "2025-05-06T13:26:08.862903Z"
    }
   },
   "outputs": [],
   "source": [
    "import loss.losses\n",
    "importlib.reload(loss.losses)\n",
    "from loss.losses import Loss\n",
    "\n",
    "loss_obj = Loss()\n",
    "\n",
    "# Numerical features trained with log-normal loss:\n",
    "log_normal_loss_num_feature = ['case_elapsed_time', 'event_elapsed_time']"
   ]
  },
  {
   "cell_type": "markdown",
   "metadata": {},
   "source": [
    "# Training Configuration"
   ]
  },
  {
   "cell_type": "code",
   "execution_count": 7,
   "metadata": {
    "execution": {
     "iopub.execute_input": "2025-05-06T13:26:08.866414Z",
     "iopub.status.busy": "2025-05-06T13:26:08.864328Z",
     "iopub.status.idle": "2025-05-07T07:31:16.331072Z",
     "shell.execute_reply": "2025-05-07T07:31:16.330789Z"
    }
   },
   "outputs": [
    {
     "name": "stdout",
     "output_type": "stream",
     "text": [
      "Device:  cuda\n"
     ]
    },
    {
     "name": "stdout",
     "output_type": "stream",
     "text": [
      "Model:  DropoutUncertaintyEncoderDecoderLSTM(\n",
      "  (embeddings_enc): ModuleList(\n",
      "    (0): Embedding(10, 6)\n",
      "    (1): Embedding(6, 4)\n",
      "  )\n",
      "  (encoder): DropoutUncertaintyLSTMEncoder(\n",
      "    (embeddings): ModuleList(\n",
      "      (0): Embedding(10, 6)\n",
      "      (1): Embedding(6, 4)\n",
      "    )\n",
      "    (first_layer): DropoutUncertaintyLSTMCell(\n",
      "      (Wi): Linear(in_features=14, out_features=128, bias=True)\n",
      "      (Ui): Linear(in_features=128, out_features=128, bias=True)\n",
      "      (Wf): Linear(in_features=14, out_features=128, bias=True)\n",
      "      (Uf): Linear(in_features=128, out_features=128, bias=True)\n",
      "      (Wc): Linear(in_features=14, out_features=128, bias=True)\n",
      "      (Uc): Linear(in_features=128, out_features=128, bias=True)\n",
      "      (Wo): Linear(in_features=14, out_features=128, bias=True)\n",
      "      (Uo): Linear(in_features=128, out_features=128, bias=True)\n",
      "    )\n",
      "    (hidden_layers): ModuleList(\n",
      "      (0-2): 3 x DropoutUncertaintyLSTMCell(\n",
      "        (Wi): Linear(in_features=128, out_features=128, bias=True)\n",
      "        (Ui): Linear(in_features=128, out_features=128, bias=True)\n",
      "        (Wf): Linear(in_features=128, out_features=128, bias=True)\n",
      "        (Uf): Linear(in_features=128, out_features=128, bias=True)\n",
      "        (Wc): Linear(in_features=128, out_features=128, bias=True)\n",
      "        (Uc): Linear(in_features=128, out_features=128, bias=True)\n",
      "        (Wo): Linear(in_features=128, out_features=128, bias=True)\n",
      "        (Uo): Linear(in_features=128, out_features=128, bias=True)\n",
      "      )\n",
      "    )\n",
      "  )\n",
      "  (embeddings_dec): ModuleList(\n",
      "    (0): Embedding(10, 6)\n",
      "  )\n",
      "  (decoder): DropoutUncertaintyLSTMDecoder(\n",
      "    (embeddings): ModuleList(\n",
      "      (0): Embedding(10, 6)\n",
      "    )\n",
      "    (first_layer): DropoutUncertaintyLSTMCell(\n",
      "      (Wi): Linear(in_features=8, out_features=128, bias=True)\n",
      "      (Ui): Linear(in_features=128, out_features=128, bias=True)\n",
      "      (Wf): Linear(in_features=8, out_features=128, bias=True)\n",
      "      (Uf): Linear(in_features=128, out_features=128, bias=True)\n",
      "      (Wc): Linear(in_features=8, out_features=128, bias=True)\n",
      "      (Uc): Linear(in_features=128, out_features=128, bias=True)\n",
      "      (Wo): Linear(in_features=8, out_features=128, bias=True)\n",
      "      (Uo): Linear(in_features=128, out_features=128, bias=True)\n",
      "    )\n",
      "    (hidden_layers): ModuleList(\n",
      "      (0-2): 3 x DropoutUncertaintyLSTMCell(\n",
      "        (Wi): Linear(in_features=128, out_features=128, bias=True)\n",
      "        (Ui): Linear(in_features=128, out_features=128, bias=True)\n",
      "        (Wf): Linear(in_features=128, out_features=128, bias=True)\n",
      "        (Uf): Linear(in_features=128, out_features=128, bias=True)\n",
      "        (Wc): Linear(in_features=128, out_features=128, bias=True)\n",
      "        (Uc): Linear(in_features=128, out_features=128, bias=True)\n",
      "        (Wo): Linear(in_features=128, out_features=128, bias=True)\n",
      "        (Uo): Linear(in_features=128, out_features=128, bias=True)\n",
      "      )\n",
      "    )\n",
      "    (output_layers): ModuleDict(\n",
      "      (concept:name_mean): Linear(in_features=128, out_features=10, bias=True)\n",
      "      (concept:name_var): Linear(in_features=128, out_features=10, bias=True)\n",
      "      (case_elapsed_time_mean): Linear(in_features=128, out_features=1, bias=True)\n",
      "      (case_elapsed_time_var): Linear(in_features=128, out_features=1, bias=True)\n",
      "      (event_elapsed_time_mean): Linear(in_features=128, out_features=1, bias=True)\n",
      "      (event_elapsed_time_var): Linear(in_features=128, out_features=1, bias=True)\n",
      "    )\n",
      "  )\n",
      ")\n",
      "Train Dataset:  <event_log_loader.new_event_log_loader.EventLogDataset object at 0x7fade2fe0980>\n",
      "Validation Dataset:  <event_log_loader.new_event_log_loader.EventLogDataset object at 0x7faddee7b9d0>\n",
      "Loss object for method calling:  <loss.losses.Loss object at 0x7faddfce9160>\n",
      "Num. feautures that follow log-normal PDF:  ['case_elapsed_time', 'event_elapsed_time']\n",
      "regularization:  0.0001\n",
      "Optimizer:  AdamW (\n",
      "Parameter Group 0\n",
      "    amsgrad: False\n",
      "    betas: (0.9, 0.999)\n",
      "    capturable: False\n",
      "    differentiable: False\n",
      "    eps: 1e-08\n",
      "    foreach: None\n",
      "    fused: None\n",
      "    lr: 0.0001\n",
      "    maximize: False\n",
      "    weight_decay: 0\n",
      ")\n",
      "Scheduler:  <torch.optim.lr_scheduler.ReduceLROnPlateau object at 0x7fadd6745fd0>\n",
      "Epochs:  100\n",
      "Mini baches:  128\n",
      "Shuffle batched dataset:  True\n",
      "Teacher forcing ratio:  0.8\n",
      "Use GradNorm:  True\n",
      "GradNorm alpha:  1.5\n",
      "GradNorm learning rate:  0.0001\n",
      "Initial GradNorm loss weights:  Parameter containing:\n",
      "tensor([1., 1., 1.], requires_grad=True)\n",
      "Initial loss values:  None\n",
      "GradNorm optimizer:  Adam (\n",
      "Parameter Group 0\n",
      "    amsgrad: False\n",
      "    betas: (0.9, 0.999)\n",
      "    capturable: False\n",
      "    differentiable: False\n",
      "    eps: 1e-08\n",
      "    foreach: None\n",
      "    fused: None\n",
      "    lr: 0.0001\n",
      "    maximize: False\n",
      "    weight_decay: 0\n",
      ")\n"
     ]
    },
    {
     "data": {
      "application/vnd.jupyter.widget-view+json": {
       "model_id": "dd78659cf66647d6b5332c9656de56d8",
       "version_major": 2,
       "version_minor": 0
      },
      "text/plain": [
       "  0%|          | 0/100 [00:00<?, ?it/s]"
      ]
     },
     "metadata": {},
     "output_type": "display_data"
    },
    {
     "name": "stdout",
     "output_type": "stream",
     "text": [
      "Epoch [1/100], Learning Rate: 0.0001, Teacher forcing ratio: 0.8\n",
      "Training: Avg Attenuated Training Loss: 2.4718\n"
     ]
    },
    {
     "name": "stdout",
     "output_type": "stream",
     "text": [
      "Validation: Avg Standard Validation Loss: 3.4021\n",
      "Validation: Avg Attenuated Validation Loss: 4.0696\n",
      "Validation Loss for Scheduler: 3.4021\n",
      "saving model\n"
     ]
    },
    {
     "name": "stdout",
     "output_type": "stream",
     "text": [
      "Epoch [2/100], Learning Rate: 0.0001, Teacher forcing ratio: 0.8\n",
      "Training: Avg Attenuated Training Loss: 0.8172\n"
     ]
    },
    {
     "name": "stdout",
     "output_type": "stream",
     "text": [
      "Validation: Avg Standard Validation Loss: 3.0227\n",
      "Validation: Avg Attenuated Validation Loss: 11.5945\n",
      "Validation Loss for Scheduler: 3.0227\n",
      "saving model\n"
     ]
    },
    {
     "name": "stdout",
     "output_type": "stream",
     "text": [
      "Epoch [3/100], Learning Rate: 0.0001, Teacher forcing ratio: 0.8\n",
      "Training: Avg Attenuated Training Loss: 0.3802\n"
     ]
    },
    {
     "name": "stdout",
     "output_type": "stream",
     "text": [
      "Validation: Avg Standard Validation Loss: 2.7704\n",
      "Validation: Avg Attenuated Validation Loss: 7.3163\n",
      "Validation Loss for Scheduler: 2.7704\n",
      "saving model\n"
     ]
    },
    {
     "name": "stdout",
     "output_type": "stream",
     "text": [
      "Epoch [4/100], Learning Rate: 0.0001, Teacher forcing ratio: 0.8\n",
      "Training: Avg Attenuated Training Loss: -0.0662\n"
     ]
    },
    {
     "name": "stdout",
     "output_type": "stream",
     "text": [
      "Validation: Avg Standard Validation Loss: 2.6664\n",
      "Validation: Avg Attenuated Validation Loss: 10.1068\n",
      "Validation Loss for Scheduler: 2.6664\n",
      "saving model\n"
     ]
    },
    {
     "name": "stdout",
     "output_type": "stream",
     "text": [
      "Epoch [5/100], Learning Rate: 0.0001, Teacher forcing ratio: 0.8\n",
      "Training: Avg Attenuated Training Loss: -0.5688\n"
     ]
    },
    {
     "name": "stdout",
     "output_type": "stream",
     "text": [
      "Validation: Avg Standard Validation Loss: 2.5998\n",
      "Validation: Avg Attenuated Validation Loss: 13.2880\n",
      "Validation Loss for Scheduler: 2.5998\n",
      "saving model\n"
     ]
    },
    {
     "name": "stdout",
     "output_type": "stream",
     "text": [
      "Epoch [6/100], Learning Rate: 0.0001, Teacher forcing ratio: 0.8\n",
      "Training: Avg Attenuated Training Loss: -0.3429\n"
     ]
    },
    {
     "name": "stdout",
     "output_type": "stream",
     "text": [
      "Validation: Avg Standard Validation Loss: 2.5265\n",
      "Validation: Avg Attenuated Validation Loss: 16.3067\n",
      "Validation Loss for Scheduler: 2.5265\n",
      "saving model\n"
     ]
    },
    {
     "name": "stdout",
     "output_type": "stream",
     "text": [
      "Epoch [7/100], Learning Rate: 0.0001, Teacher forcing ratio: 0.8\n",
      "Training: Avg Attenuated Training Loss: 0.1717\n"
     ]
    },
    {
     "name": "stdout",
     "output_type": "stream",
     "text": [
      "Validation: Avg Standard Validation Loss: 2.4710\n",
      "Validation: Avg Attenuated Validation Loss: 20.5610\n",
      "Validation Loss for Scheduler: 2.4710\n",
      "saving model\n"
     ]
    },
    {
     "name": "stdout",
     "output_type": "stream",
     "text": [
      "Epoch [8/100], Learning Rate: 0.0001, Teacher forcing ratio: 0.8\n",
      "Training: Avg Attenuated Training Loss: -1.3820\n"
     ]
    },
    {
     "name": "stdout",
     "output_type": "stream",
     "text": [
      "Validation: Avg Standard Validation Loss: 2.4234\n",
      "Validation: Avg Attenuated Validation Loss: 17.9021\n",
      "Validation Loss for Scheduler: 2.4234\n",
      "saving model\n"
     ]
    },
    {
     "name": "stdout",
     "output_type": "stream",
     "text": [
      "Epoch [9/100], Learning Rate: 0.0001, Teacher forcing ratio: 0.8\n",
      "Training: Avg Attenuated Training Loss: -0.8625\n"
     ]
    },
    {
     "name": "stdout",
     "output_type": "stream",
     "text": [
      "Validation: Avg Standard Validation Loss: 2.4477\n",
      "Validation: Avg Attenuated Validation Loss: 26.9472\n",
      "Validation Loss for Scheduler: 2.4477\n",
      "saving model\n"
     ]
    },
    {
     "name": "stdout",
     "output_type": "stream",
     "text": [
      "Epoch [10/100], Learning Rate: 0.0001, Teacher forcing ratio: 0.8\n",
      "Training: Avg Attenuated Training Loss: -0.3637\n"
     ]
    },
    {
     "name": "stdout",
     "output_type": "stream",
     "text": [
      "Validation: Avg Standard Validation Loss: 2.3553\n",
      "Validation: Avg Attenuated Validation Loss: 18.9680\n",
      "Validation Loss for Scheduler: 2.3553\n",
      "saving model\n"
     ]
    },
    {
     "name": "stdout",
     "output_type": "stream",
     "text": [
      "Epoch [11/100], Learning Rate: 0.0001, Teacher forcing ratio: 0.8\n",
      "Training: Avg Attenuated Training Loss: 0.3747\n"
     ]
    },
    {
     "name": "stdout",
     "output_type": "stream",
     "text": [
      "Validation: Avg Standard Validation Loss: 2.3102\n",
      "Validation: Avg Attenuated Validation Loss: 30.8297\n",
      "Validation Loss for Scheduler: 2.3102\n",
      "saving model\n"
     ]
    },
    {
     "name": "stdout",
     "output_type": "stream",
     "text": [
      "Epoch [12/100], Learning Rate: 0.0001, Teacher forcing ratio: 0.8\n",
      "Training: Avg Attenuated Training Loss: 2.3043\n"
     ]
    },
    {
     "name": "stdout",
     "output_type": "stream",
     "text": [
      "Validation: Avg Standard Validation Loss: 2.3533\n",
      "Validation: Avg Attenuated Validation Loss: 40.2846\n",
      "Validation Loss for Scheduler: 2.3533\n",
      "saving model\n"
     ]
    },
    {
     "name": "stdout",
     "output_type": "stream",
     "text": [
      "Epoch [13/100], Learning Rate: 0.0001, Teacher forcing ratio: 0.8\n",
      "Training: Avg Attenuated Training Loss: 1.1981\n"
     ]
    },
    {
     "name": "stdout",
     "output_type": "stream",
     "text": [
      "Validation: Avg Standard Validation Loss: 2.3157\n",
      "Validation: Avg Attenuated Validation Loss: 42.7472\n",
      "Validation Loss for Scheduler: 2.3157\n",
      "saving model\n"
     ]
    },
    {
     "name": "stdout",
     "output_type": "stream",
     "text": [
      "Epoch [14/100], Learning Rate: 0.0001, Teacher forcing ratio: 0.8\n",
      "Training: Avg Attenuated Training Loss: 8.8234\n"
     ]
    },
    {
     "name": "stdout",
     "output_type": "stream",
     "text": [
      "Validation: Avg Standard Validation Loss: 2.2516\n",
      "Validation: Avg Attenuated Validation Loss: 27.2568\n",
      "Validation Loss for Scheduler: 2.2516\n",
      "saving model\n"
     ]
    },
    {
     "name": "stdout",
     "output_type": "stream",
     "text": [
      "Epoch [15/100], Learning Rate: 0.0001, Teacher forcing ratio: 0.8\n",
      "Training: Avg Attenuated Training Loss: 27.7567\n"
     ]
    },
    {
     "name": "stdout",
     "output_type": "stream",
     "text": [
      "Validation: Avg Standard Validation Loss: 2.2312\n",
      "Validation: Avg Attenuated Validation Loss: 63.6886\n",
      "Validation Loss for Scheduler: 2.2312\n",
      "saving model\n"
     ]
    },
    {
     "name": "stdout",
     "output_type": "stream",
     "text": [
      "Epoch [16/100], Learning Rate: 0.0001, Teacher forcing ratio: 0.8\n",
      "Training: Avg Attenuated Training Loss: 28.6783\n"
     ]
    },
    {
     "name": "stdout",
     "output_type": "stream",
     "text": [
      "Validation: Avg Standard Validation Loss: 2.2287\n",
      "Validation: Avg Attenuated Validation Loss: 46.6641\n",
      "Validation Loss for Scheduler: 2.2287\n",
      "saving model\n"
     ]
    },
    {
     "name": "stdout",
     "output_type": "stream",
     "text": [
      "Epoch [17/100], Learning Rate: 0.0001, Teacher forcing ratio: 0.8\n",
      "Training: Avg Attenuated Training Loss: 14.6452\n"
     ]
    },
    {
     "name": "stdout",
     "output_type": "stream",
     "text": [
      "Validation: Avg Standard Validation Loss: 2.2654\n",
      "Validation: Avg Attenuated Validation Loss: 38.4383\n",
      "Validation Loss for Scheduler: 2.2654\n",
      "saving model\n"
     ]
    },
    {
     "name": "stdout",
     "output_type": "stream",
     "text": [
      "Epoch [18/100], Learning Rate: 0.0001, Teacher forcing ratio: 0.8\n",
      "Training: Avg Attenuated Training Loss: 15.4509\n"
     ]
    },
    {
     "name": "stdout",
     "output_type": "stream",
     "text": [
      "Validation: Avg Standard Validation Loss: 2.2417\n",
      "Validation: Avg Attenuated Validation Loss: 58.8337\n",
      "Validation Loss for Scheduler: 2.2417\n",
      "saving model\n"
     ]
    },
    {
     "name": "stdout",
     "output_type": "stream",
     "text": [
      "Epoch [19/100], Learning Rate: 0.0001, Teacher forcing ratio: 0.8\n",
      "Training: Avg Attenuated Training Loss: 4.3406\n"
     ]
    },
    {
     "name": "stdout",
     "output_type": "stream",
     "text": [
      "Validation: Avg Standard Validation Loss: 2.2111\n",
      "Validation: Avg Attenuated Validation Loss: 54.3149\n",
      "Validation Loss for Scheduler: 2.2111\n",
      "saving model\n"
     ]
    },
    {
     "name": "stdout",
     "output_type": "stream",
     "text": [
      "Epoch [20/100], Learning Rate: 0.0001, Teacher forcing ratio: 0.8\n",
      "Training: Avg Attenuated Training Loss: 10.2370\n"
     ]
    },
    {
     "name": "stdout",
     "output_type": "stream",
     "text": [
      "Validation: Avg Standard Validation Loss: 2.1841\n",
      "Validation: Avg Attenuated Validation Loss: 42.4394\n",
      "Validation Loss for Scheduler: 2.1841\n",
      "saving model\n"
     ]
    },
    {
     "name": "stdout",
     "output_type": "stream",
     "text": [
      "Epoch [21/100], Learning Rate: 0.0001, Teacher forcing ratio: 0.768\n",
      "Training: Avg Attenuated Training Loss: 31.3507\n"
     ]
    },
    {
     "name": "stdout",
     "output_type": "stream",
     "text": [
      "Validation: Avg Standard Validation Loss: 2.2224\n",
      "Validation: Avg Attenuated Validation Loss: 43.1733\n",
      "Validation Loss for Scheduler: 2.2224\n",
      "saving model\n"
     ]
    },
    {
     "name": "stdout",
     "output_type": "stream",
     "text": [
      "Epoch [22/100], Learning Rate: 0.0001, Teacher forcing ratio: 0.768\n",
      "Training: Avg Attenuated Training Loss: 32.6828\n"
     ]
    },
    {
     "name": "stdout",
     "output_type": "stream",
     "text": [
      "Validation: Avg Standard Validation Loss: 2.1873\n",
      "Validation: Avg Attenuated Validation Loss: 31.1307\n",
      "Validation Loss for Scheduler: 2.1873\n",
      "saving model\n"
     ]
    },
    {
     "name": "stdout",
     "output_type": "stream",
     "text": [
      "Epoch [23/100], Learning Rate: 0.0001, Teacher forcing ratio: 0.768\n",
      "Training: Avg Attenuated Training Loss: 20.8112\n"
     ]
    },
    {
     "name": "stdout",
     "output_type": "stream",
     "text": [
      "Validation: Avg Standard Validation Loss: 2.2266\n",
      "Validation: Avg Attenuated Validation Loss: 58.8342\n",
      "Validation Loss for Scheduler: 2.2266\n",
      "saving model\n"
     ]
    },
    {
     "name": "stdout",
     "output_type": "stream",
     "text": [
      "Epoch [24/100], Learning Rate: 1.0000000000000002e-06, Teacher forcing ratio: 0.768\n",
      "Training: Avg Attenuated Training Loss: 32.7932\n"
     ]
    },
    {
     "name": "stdout",
     "output_type": "stream",
     "text": [
      "Validation: Avg Standard Validation Loss: 2.1966\n",
      "Validation: Avg Attenuated Validation Loss: 53.3474\n",
      "Validation Loss for Scheduler: 2.1966\n",
      "saving model\n"
     ]
    },
    {
     "name": "stdout",
     "output_type": "stream",
     "text": [
      "Epoch [25/100], Learning Rate: 1.0000000000000002e-06, Teacher forcing ratio: 0.768\n",
      "Training: Avg Attenuated Training Loss: 29.7789\n"
     ]
    },
    {
     "name": "stdout",
     "output_type": "stream",
     "text": [
      "Validation: Avg Standard Validation Loss: 2.1987\n",
      "Validation: Avg Attenuated Validation Loss: 65.3512\n",
      "Validation Loss for Scheduler: 2.1987\n",
      "saving model\n"
     ]
    },
    {
     "name": "stdout",
     "output_type": "stream",
     "text": [
      "Epoch [26/100], Learning Rate: 1.0000000000000002e-06, Teacher forcing ratio: 0.768\n",
      "Training: Avg Attenuated Training Loss: 30.3783\n"
     ]
    },
    {
     "name": "stdout",
     "output_type": "stream",
     "text": [
      "Validation: Avg Standard Validation Loss: 2.1866\n",
      "Validation: Avg Attenuated Validation Loss: 50.8840\n",
      "Validation Loss for Scheduler: 2.1866\n",
      "saving model\n"
     ]
    },
    {
     "name": "stdout",
     "output_type": "stream",
     "text": [
      "Epoch [27/100], Learning Rate: 1.0000000000000002e-08, Teacher forcing ratio: 0.768\n",
      "Training: Avg Attenuated Training Loss: 31.7340\n"
     ]
    },
    {
     "name": "stdout",
     "output_type": "stream",
     "text": [
      "Validation: Avg Standard Validation Loss: 2.1826\n",
      "Validation: Avg Attenuated Validation Loss: 58.6701\n",
      "Validation Loss for Scheduler: 2.1826\n",
      "saving model\n"
     ]
    },
    {
     "name": "stdout",
     "output_type": "stream",
     "text": [
      "Epoch [28/100], Learning Rate: 1.0000000000000002e-08, Teacher forcing ratio: 0.768\n",
      "Training: Avg Attenuated Training Loss: 30.8583\n"
     ]
    },
    {
     "name": "stdout",
     "output_type": "stream",
     "text": [
      "Validation: Avg Standard Validation Loss: 2.2077\n",
      "Validation: Avg Attenuated Validation Loss: 61.5868\n",
      "Validation Loss for Scheduler: 2.2077\n",
      "saving model\n"
     ]
    },
    {
     "name": "stdout",
     "output_type": "stream",
     "text": [
      "Epoch [29/100], Learning Rate: 1.0000000000000002e-08, Teacher forcing ratio: 0.768\n",
      "Training: Avg Attenuated Training Loss: 30.3891\n"
     ]
    },
    {
     "name": "stdout",
     "output_type": "stream",
     "text": [
      "Validation: Avg Standard Validation Loss: 2.1798\n",
      "Validation: Avg Attenuated Validation Loss: 52.4961\n",
      "Validation Loss for Scheduler: 2.1798\n",
      "saving model\n"
     ]
    },
    {
     "name": "stdout",
     "output_type": "stream",
     "text": [
      "Epoch [30/100], Learning Rate: 1.0000000000000002e-08, Teacher forcing ratio: 0.768\n",
      "Training: Avg Attenuated Training Loss: 30.7816\n"
     ]
    },
    {
     "name": "stdout",
     "output_type": "stream",
     "text": [
      "Validation: Avg Standard Validation Loss: 2.1888\n",
      "Validation: Avg Attenuated Validation Loss: 54.6355\n",
      "Validation Loss for Scheduler: 2.1888\n",
      "saving model\n"
     ]
    },
    {
     "name": "stdout",
     "output_type": "stream",
     "text": [
      "Epoch [31/100], Learning Rate: 1.0000000000000002e-08, Teacher forcing ratio: 0.768\n",
      "Training: Avg Attenuated Training Loss: 33.0602\n"
     ]
    },
    {
     "name": "stdout",
     "output_type": "stream",
     "text": [
      "Validation: Avg Standard Validation Loss: 2.1783\n",
      "Validation: Avg Attenuated Validation Loss: 54.6755\n",
      "Validation Loss for Scheduler: 2.1783\n",
      "saving model\n"
     ]
    },
    {
     "name": "stdout",
     "output_type": "stream",
     "text": [
      "Epoch [32/100], Learning Rate: 1.0000000000000002e-08, Teacher forcing ratio: 0.768\n",
      "Training: Avg Attenuated Training Loss: 33.1028\n"
     ]
    },
    {
     "name": "stdout",
     "output_type": "stream",
     "text": [
      "Validation: Avg Standard Validation Loss: 2.1892\n",
      "Validation: Avg Attenuated Validation Loss: 57.9544\n",
      "Validation Loss for Scheduler: 2.1892\n",
      "saving model\n"
     ]
    },
    {
     "name": "stdout",
     "output_type": "stream",
     "text": [
      "Epoch [33/100], Learning Rate: 1.0000000000000002e-08, Teacher forcing ratio: 0.768\n",
      "Training: Avg Attenuated Training Loss: 36.6596\n"
     ]
    },
    {
     "name": "stdout",
     "output_type": "stream",
     "text": [
      "Validation: Avg Standard Validation Loss: 2.1939\n",
      "Validation: Avg Attenuated Validation Loss: 52.4594\n",
      "Validation Loss for Scheduler: 2.1939\n",
      "saving model\n"
     ]
    },
    {
     "name": "stdout",
     "output_type": "stream",
     "text": [
      "Epoch [34/100], Learning Rate: 1.0000000000000002e-08, Teacher forcing ratio: 0.768\n",
      "Training: Avg Attenuated Training Loss: 32.8252\n"
     ]
    },
    {
     "name": "stdout",
     "output_type": "stream",
     "text": [
      "Validation: Avg Standard Validation Loss: 2.1801\n",
      "Validation: Avg Attenuated Validation Loss: 51.9689\n",
      "Validation Loss for Scheduler: 2.1801\n",
      "saving model\n"
     ]
    },
    {
     "name": "stdout",
     "output_type": "stream",
     "text": [
      "Epoch [35/100], Learning Rate: 1.0000000000000002e-08, Teacher forcing ratio: 0.768\n",
      "Training: Avg Attenuated Training Loss: 33.2527\n"
     ]
    },
    {
     "name": "stdout",
     "output_type": "stream",
     "text": [
      "Validation: Avg Standard Validation Loss: 2.1881\n",
      "Validation: Avg Attenuated Validation Loss: 52.1221\n",
      "Validation Loss for Scheduler: 2.1881\n",
      "saving model\n"
     ]
    },
    {
     "name": "stdout",
     "output_type": "stream",
     "text": [
      "Epoch [36/100], Learning Rate: 1.0000000000000002e-08, Teacher forcing ratio: 0.768\n",
      "Training: Avg Attenuated Training Loss: 33.0938\n"
     ]
    },
    {
     "name": "stdout",
     "output_type": "stream",
     "text": [
      "Validation: Avg Standard Validation Loss: 2.1843\n",
      "Validation: Avg Attenuated Validation Loss: 51.6827\n",
      "Validation Loss for Scheduler: 2.1843\n",
      "saving model\n"
     ]
    },
    {
     "name": "stdout",
     "output_type": "stream",
     "text": [
      "Epoch [37/100], Learning Rate: 1.0000000000000002e-08, Teacher forcing ratio: 0.768\n",
      "Training: Avg Attenuated Training Loss: 35.1214\n"
     ]
    },
    {
     "name": "stdout",
     "output_type": "stream",
     "text": [
      "Validation: Avg Standard Validation Loss: 2.1848\n",
      "Validation: Avg Attenuated Validation Loss: 55.1191\n",
      "Validation Loss for Scheduler: 2.1848\n",
      "saving model\n"
     ]
    },
    {
     "name": "stdout",
     "output_type": "stream",
     "text": [
      "Epoch [38/100], Learning Rate: 1.0000000000000002e-08, Teacher forcing ratio: 0.768\n",
      "Training: Avg Attenuated Training Loss: 32.3673\n"
     ]
    },
    {
     "name": "stdout",
     "output_type": "stream",
     "text": [
      "Validation: Avg Standard Validation Loss: 2.2059\n",
      "Validation: Avg Attenuated Validation Loss: 56.1270\n",
      "Validation Loss for Scheduler: 2.2059\n",
      "saving model\n"
     ]
    },
    {
     "name": "stdout",
     "output_type": "stream",
     "text": [
      "Epoch [39/100], Learning Rate: 1.0000000000000002e-08, Teacher forcing ratio: 0.768\n",
      "Training: Avg Attenuated Training Loss: 34.3213\n"
     ]
    },
    {
     "name": "stdout",
     "output_type": "stream",
     "text": [
      "Validation: Avg Standard Validation Loss: 2.1771\n",
      "Validation: Avg Attenuated Validation Loss: 52.8813\n",
      "Validation Loss for Scheduler: 2.1771\n",
      "saving model\n"
     ]
    },
    {
     "name": "stdout",
     "output_type": "stream",
     "text": [
      "Epoch [40/100], Learning Rate: 1.0000000000000002e-08, Teacher forcing ratio: 0.768\n",
      "Training: Avg Attenuated Training Loss: 35.5101\n"
     ]
    },
    {
     "name": "stdout",
     "output_type": "stream",
     "text": [
      "Validation: Avg Standard Validation Loss: 2.1812\n",
      "Validation: Avg Attenuated Validation Loss: 51.6350\n",
      "Validation Loss for Scheduler: 2.1812\n",
      "saving model\n"
     ]
    },
    {
     "name": "stdout",
     "output_type": "stream",
     "text": [
      "Epoch [41/100], Learning Rate: 1.0000000000000002e-08, Teacher forcing ratio: 0.73728\n",
      "Training: Avg Attenuated Training Loss: 36.8706\n"
     ]
    },
    {
     "name": "stdout",
     "output_type": "stream",
     "text": [
      "Validation: Avg Standard Validation Loss: 2.1830\n",
      "Validation: Avg Attenuated Validation Loss: 53.8844\n",
      "Validation Loss for Scheduler: 2.1830\n",
      "saving model\n"
     ]
    },
    {
     "name": "stdout",
     "output_type": "stream",
     "text": [
      "Epoch [42/100], Learning Rate: 1.0000000000000002e-08, Teacher forcing ratio: 0.73728\n",
      "Training: Avg Attenuated Training Loss: 34.7530\n"
     ]
    },
    {
     "name": "stdout",
     "output_type": "stream",
     "text": [
      "Validation: Avg Standard Validation Loss: 2.1868\n",
      "Validation: Avg Attenuated Validation Loss: 51.7104\n",
      "Validation Loss for Scheduler: 2.1868\n",
      "saving model\n"
     ]
    },
    {
     "name": "stdout",
     "output_type": "stream",
     "text": [
      "Epoch [43/100], Learning Rate: 1.0000000000000002e-08, Teacher forcing ratio: 0.73728\n",
      "Training: Avg Attenuated Training Loss: 37.6066\n"
     ]
    },
    {
     "name": "stdout",
     "output_type": "stream",
     "text": [
      "Validation: Avg Standard Validation Loss: 2.1922\n",
      "Validation: Avg Attenuated Validation Loss: 52.7987\n",
      "Validation Loss for Scheduler: 2.1922\n",
      "saving model\n"
     ]
    },
    {
     "name": "stdout",
     "output_type": "stream",
     "text": [
      "Epoch [44/100], Learning Rate: 1.0000000000000002e-08, Teacher forcing ratio: 0.73728\n",
      "Training: Avg Attenuated Training Loss: 38.1036\n"
     ]
    },
    {
     "name": "stdout",
     "output_type": "stream",
     "text": [
      "Validation: Avg Standard Validation Loss: 2.2110\n",
      "Validation: Avg Attenuated Validation Loss: 52.0216\n",
      "Validation Loss for Scheduler: 2.2110\n",
      "saving model\n"
     ]
    },
    {
     "name": "stdout",
     "output_type": "stream",
     "text": [
      "Epoch [45/100], Learning Rate: 1.0000000000000002e-08, Teacher forcing ratio: 0.73728\n",
      "Training: Avg Attenuated Training Loss: 35.7354\n"
     ]
    },
    {
     "name": "stdout",
     "output_type": "stream",
     "text": [
      "Validation: Avg Standard Validation Loss: 2.1786\n",
      "Validation: Avg Attenuated Validation Loss: 52.8227\n",
      "Validation Loss for Scheduler: 2.1786\n",
      "saving model\n"
     ]
    },
    {
     "name": "stdout",
     "output_type": "stream",
     "text": [
      "Epoch [46/100], Learning Rate: 1.0000000000000002e-08, Teacher forcing ratio: 0.73728\n",
      "Training: Avg Attenuated Training Loss: 36.5796\n"
     ]
    },
    {
     "name": "stdout",
     "output_type": "stream",
     "text": [
      "Validation: Avg Standard Validation Loss: 2.1849\n",
      "Validation: Avg Attenuated Validation Loss: 51.7067\n",
      "Validation Loss for Scheduler: 2.1849\n",
      "saving model\n"
     ]
    },
    {
     "name": "stdout",
     "output_type": "stream",
     "text": [
      "Epoch [47/100], Learning Rate: 1.0000000000000002e-08, Teacher forcing ratio: 0.73728\n",
      "Training: Avg Attenuated Training Loss: 38.3348\n"
     ]
    },
    {
     "name": "stdout",
     "output_type": "stream",
     "text": [
      "Validation: Avg Standard Validation Loss: 2.1843\n",
      "Validation: Avg Attenuated Validation Loss: 53.3377\n",
      "Validation Loss for Scheduler: 2.1843\n",
      "saving model\n"
     ]
    },
    {
     "name": "stdout",
     "output_type": "stream",
     "text": [
      "Epoch [48/100], Learning Rate: 1.0000000000000002e-08, Teacher forcing ratio: 0.73728\n",
      "Training: Avg Attenuated Training Loss: 36.6602\n"
     ]
    },
    {
     "name": "stdout",
     "output_type": "stream",
     "text": [
      "Validation: Avg Standard Validation Loss: 2.1898\n",
      "Validation: Avg Attenuated Validation Loss: 51.5535\n",
      "Validation Loss for Scheduler: 2.1898\n",
      "saving model\n"
     ]
    },
    {
     "name": "stdout",
     "output_type": "stream",
     "text": [
      "Epoch [49/100], Learning Rate: 1.0000000000000002e-08, Teacher forcing ratio: 0.73728\n",
      "Training: Avg Attenuated Training Loss: 38.6491\n"
     ]
    },
    {
     "name": "stdout",
     "output_type": "stream",
     "text": [
      "Validation: Avg Standard Validation Loss: 2.1862\n",
      "Validation: Avg Attenuated Validation Loss: 54.9088\n",
      "Validation Loss for Scheduler: 2.1862\n",
      "saving model\n"
     ]
    },
    {
     "name": "stdout",
     "output_type": "stream",
     "text": [
      "Epoch [50/100], Learning Rate: 1.0000000000000002e-08, Teacher forcing ratio: 0.73728\n",
      "Training: Avg Attenuated Training Loss: 36.4700\n"
     ]
    },
    {
     "name": "stdout",
     "output_type": "stream",
     "text": [
      "Validation: Avg Standard Validation Loss: 2.1943\n",
      "Validation: Avg Attenuated Validation Loss: 53.3411\n",
      "Validation Loss for Scheduler: 2.1943\n",
      "saving model\n"
     ]
    },
    {
     "name": "stdout",
     "output_type": "stream",
     "text": [
      "Epoch [51/100], Learning Rate: 1.0000000000000002e-08, Teacher forcing ratio: 0.73728\n",
      "Training: Avg Attenuated Training Loss: 36.7076\n"
     ]
    },
    {
     "name": "stdout",
     "output_type": "stream",
     "text": [
      "Validation: Avg Standard Validation Loss: 2.1825\n",
      "Validation: Avg Attenuated Validation Loss: 53.3074\n",
      "Validation Loss for Scheduler: 2.1825\n",
      "saving model\n"
     ]
    },
    {
     "name": "stdout",
     "output_type": "stream",
     "text": [
      "Epoch [52/100], Learning Rate: 1.0000000000000002e-08, Teacher forcing ratio: 0.73728\n",
      "Training: Avg Attenuated Training Loss: 34.8675\n"
     ]
    },
    {
     "name": "stdout",
     "output_type": "stream",
     "text": [
      "Validation: Avg Standard Validation Loss: 2.1855\n",
      "Validation: Avg Attenuated Validation Loss: 53.8776\n",
      "Validation Loss for Scheduler: 2.1855\n",
      "saving model\n"
     ]
    },
    {
     "name": "stdout",
     "output_type": "stream",
     "text": [
      "Epoch [53/100], Learning Rate: 1.0000000000000002e-08, Teacher forcing ratio: 0.73728\n",
      "Training: Avg Attenuated Training Loss: 38.1180\n"
     ]
    },
    {
     "name": "stdout",
     "output_type": "stream",
     "text": [
      "Validation: Avg Standard Validation Loss: 2.1849\n",
      "Validation: Avg Attenuated Validation Loss: 53.3063\n",
      "Validation Loss for Scheduler: 2.1849\n",
      "saving model\n"
     ]
    },
    {
     "name": "stdout",
     "output_type": "stream",
     "text": [
      "Epoch [54/100], Learning Rate: 1.0000000000000002e-08, Teacher forcing ratio: 0.73728\n",
      "Training: Avg Attenuated Training Loss: 37.7427\n"
     ]
    },
    {
     "name": "stdout",
     "output_type": "stream",
     "text": [
      "Validation: Avg Standard Validation Loss: 2.1806\n",
      "Validation: Avg Attenuated Validation Loss: 54.6624\n",
      "Validation Loss for Scheduler: 2.1806\n",
      "saving model\n"
     ]
    },
    {
     "name": "stdout",
     "output_type": "stream",
     "text": [
      "Epoch [55/100], Learning Rate: 1.0000000000000002e-08, Teacher forcing ratio: 0.73728\n",
      "Training: Avg Attenuated Training Loss: 36.3918\n"
     ]
    },
    {
     "name": "stdout",
     "output_type": "stream",
     "text": [
      "Validation: Avg Standard Validation Loss: 2.1757\n",
      "Validation: Avg Attenuated Validation Loss: 60.3720\n",
      "Validation Loss for Scheduler: 2.1757\n",
      "saving model\n"
     ]
    },
    {
     "name": "stdout",
     "output_type": "stream",
     "text": [
      "Epoch [56/100], Learning Rate: 1.0000000000000002e-08, Teacher forcing ratio: 0.73728\n",
      "Training: Avg Attenuated Training Loss: 35.7380\n"
     ]
    },
    {
     "name": "stdout",
     "output_type": "stream",
     "text": [
      "Validation: Avg Standard Validation Loss: 2.1855\n",
      "Validation: Avg Attenuated Validation Loss: 56.4985\n",
      "Validation Loss for Scheduler: 2.1855\n",
      "saving model\n"
     ]
    },
    {
     "name": "stdout",
     "output_type": "stream",
     "text": [
      "Epoch [57/100], Learning Rate: 1.0000000000000002e-08, Teacher forcing ratio: 0.73728\n",
      "Training: Avg Attenuated Training Loss: 39.8905\n"
     ]
    },
    {
     "name": "stdout",
     "output_type": "stream",
     "text": [
      "Validation: Avg Standard Validation Loss: 2.1758\n",
      "Validation: Avg Attenuated Validation Loss: 55.9824\n",
      "Validation Loss for Scheduler: 2.1758\n",
      "saving model\n"
     ]
    },
    {
     "name": "stdout",
     "output_type": "stream",
     "text": [
      "Epoch [58/100], Learning Rate: 1.0000000000000002e-08, Teacher forcing ratio: 0.73728\n",
      "Training: Avg Attenuated Training Loss: 37.3640\n"
     ]
    },
    {
     "name": "stdout",
     "output_type": "stream",
     "text": [
      "Validation: Avg Standard Validation Loss: 2.1866\n",
      "Validation: Avg Attenuated Validation Loss: 51.7968\n",
      "Validation Loss for Scheduler: 2.1866\n",
      "saving model\n"
     ]
    },
    {
     "name": "stdout",
     "output_type": "stream",
     "text": [
      "Epoch [59/100], Learning Rate: 1.0000000000000002e-08, Teacher forcing ratio: 0.73728\n",
      "Training: Avg Attenuated Training Loss: 37.3746\n"
     ]
    },
    {
     "name": "stdout",
     "output_type": "stream",
     "text": [
      "Validation: Avg Standard Validation Loss: 2.2367\n",
      "Validation: Avg Attenuated Validation Loss: 63.3161\n",
      "Validation Loss for Scheduler: 2.2367\n",
      "saving model\n"
     ]
    },
    {
     "name": "stdout",
     "output_type": "stream",
     "text": [
      "Epoch [60/100], Learning Rate: 1.0000000000000002e-08, Teacher forcing ratio: 0.73728\n",
      "Training: Avg Attenuated Training Loss: 36.8851\n"
     ]
    },
    {
     "name": "stdout",
     "output_type": "stream",
     "text": [
      "Validation: Avg Standard Validation Loss: 2.1844\n",
      "Validation: Avg Attenuated Validation Loss: 50.7589\n",
      "Validation Loss for Scheduler: 2.1844\n",
      "saving model\n"
     ]
    },
    {
     "name": "stdout",
     "output_type": "stream",
     "text": [
      "Epoch [61/100], Learning Rate: 1.0000000000000002e-08, Teacher forcing ratio: 0.7077888\n",
      "Training: Avg Attenuated Training Loss: 36.5314\n"
     ]
    },
    {
     "name": "stdout",
     "output_type": "stream",
     "text": [
      "Validation: Avg Standard Validation Loss: 2.1844\n",
      "Validation: Avg Attenuated Validation Loss: 51.7995\n",
      "Validation Loss for Scheduler: 2.1844\n",
      "saving model\n"
     ]
    },
    {
     "name": "stdout",
     "output_type": "stream",
     "text": [
      "Epoch [62/100], Learning Rate: 1.0000000000000002e-08, Teacher forcing ratio: 0.7077888\n",
      "Training: Avg Attenuated Training Loss: 40.2195\n"
     ]
    },
    {
     "name": "stdout",
     "output_type": "stream",
     "text": [
      "Validation: Avg Standard Validation Loss: 2.1828\n",
      "Validation: Avg Attenuated Validation Loss: 52.4660\n",
      "Validation Loss for Scheduler: 2.1828\n",
      "saving model\n"
     ]
    },
    {
     "name": "stdout",
     "output_type": "stream",
     "text": [
      "Epoch [63/100], Learning Rate: 1.0000000000000002e-08, Teacher forcing ratio: 0.7077888\n",
      "Training: Avg Attenuated Training Loss: 37.6787\n"
     ]
    },
    {
     "name": "stdout",
     "output_type": "stream",
     "text": [
      "Validation: Avg Standard Validation Loss: 2.1869\n",
      "Validation: Avg Attenuated Validation Loss: 52.6108\n",
      "Validation Loss for Scheduler: 2.1869\n",
      "saving model\n"
     ]
    },
    {
     "name": "stdout",
     "output_type": "stream",
     "text": [
      "Epoch [64/100], Learning Rate: 1.0000000000000002e-08, Teacher forcing ratio: 0.7077888\n",
      "Training: Avg Attenuated Training Loss: 41.1588\n"
     ]
    },
    {
     "name": "stdout",
     "output_type": "stream",
     "text": [
      "Validation: Avg Standard Validation Loss: 2.1924\n",
      "Validation: Avg Attenuated Validation Loss: 51.8030\n",
      "Validation Loss for Scheduler: 2.1924\n",
      "saving model\n"
     ]
    },
    {
     "name": "stdout",
     "output_type": "stream",
     "text": [
      "Epoch [65/100], Learning Rate: 1.0000000000000002e-08, Teacher forcing ratio: 0.7077888\n",
      "Training: Avg Attenuated Training Loss: 40.0970\n"
     ]
    },
    {
     "name": "stdout",
     "output_type": "stream",
     "text": [
      "Validation: Avg Standard Validation Loss: 2.1816\n",
      "Validation: Avg Attenuated Validation Loss: 54.5058\n",
      "Validation Loss for Scheduler: 2.1816\n",
      "saving model\n"
     ]
    },
    {
     "name": "stdout",
     "output_type": "stream",
     "text": [
      "Epoch [66/100], Learning Rate: 1.0000000000000002e-08, Teacher forcing ratio: 0.7077888\n",
      "Training: Avg Attenuated Training Loss: 38.2317\n"
     ]
    },
    {
     "name": "stdout",
     "output_type": "stream",
     "text": [
      "Validation: Avg Standard Validation Loss: 2.2477\n",
      "Validation: Avg Attenuated Validation Loss: 54.0486\n",
      "Validation Loss for Scheduler: 2.2477\n",
      "saving model\n"
     ]
    },
    {
     "name": "stdout",
     "output_type": "stream",
     "text": [
      "Epoch [67/100], Learning Rate: 1.0000000000000002e-08, Teacher forcing ratio: 0.7077888\n",
      "Training: Avg Attenuated Training Loss: 38.7204\n"
     ]
    },
    {
     "name": "stdout",
     "output_type": "stream",
     "text": [
      "Validation: Avg Standard Validation Loss: 2.1792\n",
      "Validation: Avg Attenuated Validation Loss: 60.3509\n",
      "Validation Loss for Scheduler: 2.1792\n",
      "saving model\n"
     ]
    },
    {
     "name": "stdout",
     "output_type": "stream",
     "text": [
      "Epoch [68/100], Learning Rate: 1.0000000000000002e-08, Teacher forcing ratio: 0.7077888\n",
      "Training: Avg Attenuated Training Loss: 37.4211\n"
     ]
    },
    {
     "name": "stdout",
     "output_type": "stream",
     "text": [
      "Validation: Avg Standard Validation Loss: 2.1798\n",
      "Validation: Avg Attenuated Validation Loss: 51.4899\n",
      "Validation Loss for Scheduler: 2.1798\n",
      "saving model\n"
     ]
    },
    {
     "name": "stdout",
     "output_type": "stream",
     "text": [
      "Epoch [69/100], Learning Rate: 1.0000000000000002e-08, Teacher forcing ratio: 0.7077888\n",
      "Training: Avg Attenuated Training Loss: 37.8647\n"
     ]
    },
    {
     "name": "stdout",
     "output_type": "stream",
     "text": [
      "Validation: Avg Standard Validation Loss: 2.1811\n",
      "Validation: Avg Attenuated Validation Loss: 52.6191\n",
      "Validation Loss for Scheduler: 2.1811\n",
      "saving model\n"
     ]
    },
    {
     "name": "stdout",
     "output_type": "stream",
     "text": [
      "Epoch [70/100], Learning Rate: 1.0000000000000002e-08, Teacher forcing ratio: 0.7077888\n",
      "Training: Avg Attenuated Training Loss: 37.3760\n"
     ]
    },
    {
     "name": "stdout",
     "output_type": "stream",
     "text": [
      "Validation: Avg Standard Validation Loss: 2.1836\n",
      "Validation: Avg Attenuated Validation Loss: 52.1416\n",
      "Validation Loss for Scheduler: 2.1836\n",
      "saving model\n"
     ]
    },
    {
     "name": "stdout",
     "output_type": "stream",
     "text": [
      "Epoch [71/100], Learning Rate: 1.0000000000000002e-08, Teacher forcing ratio: 0.7077888\n",
      "Training: Avg Attenuated Training Loss: 36.2512\n"
     ]
    },
    {
     "name": "stdout",
     "output_type": "stream",
     "text": [
      "Validation: Avg Standard Validation Loss: 2.1876\n",
      "Validation: Avg Attenuated Validation Loss: 60.3804\n",
      "Validation Loss for Scheduler: 2.1876\n",
      "saving model\n"
     ]
    },
    {
     "name": "stdout",
     "output_type": "stream",
     "text": [
      "Epoch [72/100], Learning Rate: 1.0000000000000002e-08, Teacher forcing ratio: 0.7077888\n",
      "Training: Avg Attenuated Training Loss: 37.3473\n"
     ]
    },
    {
     "name": "stdout",
     "output_type": "stream",
     "text": [
      "Validation: Avg Standard Validation Loss: 2.2082\n",
      "Validation: Avg Attenuated Validation Loss: 57.9321\n",
      "Validation Loss for Scheduler: 2.2082\n",
      "saving model\n"
     ]
    },
    {
     "name": "stdout",
     "output_type": "stream",
     "text": [
      "Epoch [73/100], Learning Rate: 1.0000000000000002e-08, Teacher forcing ratio: 0.7077888\n",
      "Training: Avg Attenuated Training Loss: 37.2816\n"
     ]
    },
    {
     "name": "stdout",
     "output_type": "stream",
     "text": [
      "Validation: Avg Standard Validation Loss: 2.1858\n",
      "Validation: Avg Attenuated Validation Loss: 53.0557\n",
      "Validation Loss for Scheduler: 2.1858\n",
      "saving model\n"
     ]
    },
    {
     "name": "stdout",
     "output_type": "stream",
     "text": [
      "Epoch [74/100], Learning Rate: 1.0000000000000002e-08, Teacher forcing ratio: 0.7077888\n",
      "Training: Avg Attenuated Training Loss: 37.2309\n"
     ]
    },
    {
     "name": "stdout",
     "output_type": "stream",
     "text": [
      "Validation: Avg Standard Validation Loss: 2.1780\n",
      "Validation: Avg Attenuated Validation Loss: 54.6394\n",
      "Validation Loss for Scheduler: 2.1780\n",
      "saving model\n"
     ]
    },
    {
     "name": "stdout",
     "output_type": "stream",
     "text": [
      "Epoch [75/100], Learning Rate: 1.0000000000000002e-08, Teacher forcing ratio: 0.7077888\n",
      "Training: Avg Attenuated Training Loss: 37.2149\n"
     ]
    },
    {
     "name": "stdout",
     "output_type": "stream",
     "text": [
      "Validation: Avg Standard Validation Loss: 2.4610\n",
      "Validation: Avg Attenuated Validation Loss: 53.8307\n",
      "Validation Loss for Scheduler: 2.4610\n",
      "saving model\n"
     ]
    },
    {
     "name": "stdout",
     "output_type": "stream",
     "text": [
      "Epoch [76/100], Learning Rate: 1.0000000000000002e-08, Teacher forcing ratio: 0.7077888\n",
      "Training: Avg Attenuated Training Loss: 39.6077\n"
     ]
    },
    {
     "name": "stdout",
     "output_type": "stream",
     "text": [
      "Validation: Avg Standard Validation Loss: 2.1756\n",
      "Validation: Avg Attenuated Validation Loss: 53.1681\n",
      "Validation Loss for Scheduler: 2.1756\n",
      "saving model\n"
     ]
    },
    {
     "name": "stdout",
     "output_type": "stream",
     "text": [
      "Epoch [77/100], Learning Rate: 1.0000000000000002e-08, Teacher forcing ratio: 0.7077888\n",
      "Training: Avg Attenuated Training Loss: 38.0453\n"
     ]
    },
    {
     "name": "stdout",
     "output_type": "stream",
     "text": [
      "Validation: Avg Standard Validation Loss: 2.1808\n",
      "Validation: Avg Attenuated Validation Loss: 63.3818\n",
      "Validation Loss for Scheduler: 2.1808\n",
      "saving model\n"
     ]
    },
    {
     "name": "stdout",
     "output_type": "stream",
     "text": [
      "Epoch [78/100], Learning Rate: 1.0000000000000002e-08, Teacher forcing ratio: 0.7077888\n",
      "Training: Avg Attenuated Training Loss: 40.2583\n"
     ]
    },
    {
     "name": "stdout",
     "output_type": "stream",
     "text": [
      "Validation: Avg Standard Validation Loss: 2.1893\n",
      "Validation: Avg Attenuated Validation Loss: 56.5801\n",
      "Validation Loss for Scheduler: 2.1893\n",
      "saving model\n"
     ]
    },
    {
     "name": "stdout",
     "output_type": "stream",
     "text": [
      "Epoch [79/100], Learning Rate: 1.0000000000000002e-08, Teacher forcing ratio: 0.7077888\n",
      "Training: Avg Attenuated Training Loss: 35.7171\n"
     ]
    },
    {
     "name": "stdout",
     "output_type": "stream",
     "text": [
      "Validation: Avg Standard Validation Loss: 2.1775\n",
      "Validation: Avg Attenuated Validation Loss: 52.1344\n",
      "Validation Loss for Scheduler: 2.1775\n",
      "saving model\n"
     ]
    },
    {
     "name": "stdout",
     "output_type": "stream",
     "text": [
      "Epoch [80/100], Learning Rate: 1.0000000000000002e-08, Teacher forcing ratio: 0.7077888\n",
      "Training: Avg Attenuated Training Loss: 37.7311\n"
     ]
    },
    {
     "name": "stdout",
     "output_type": "stream",
     "text": [
      "Validation: Avg Standard Validation Loss: 2.1795\n",
      "Validation: Avg Attenuated Validation Loss: 51.4762\n",
      "Validation Loss for Scheduler: 2.1795\n",
      "saving model\n"
     ]
    },
    {
     "name": "stdout",
     "output_type": "stream",
     "text": [
      "Epoch [81/100], Learning Rate: 1.0000000000000002e-08, Teacher forcing ratio: 0.679477248\n",
      "Training: Avg Attenuated Training Loss: 38.7981\n"
     ]
    },
    {
     "name": "stdout",
     "output_type": "stream",
     "text": [
      "Validation: Avg Standard Validation Loss: 2.1766\n",
      "Validation: Avg Attenuated Validation Loss: 52.4318\n",
      "Validation Loss for Scheduler: 2.1766\n",
      "saving model\n"
     ]
    },
    {
     "name": "stdout",
     "output_type": "stream",
     "text": [
      "Epoch [82/100], Learning Rate: 1.0000000000000002e-08, Teacher forcing ratio: 0.679477248\n",
      "Training: Avg Attenuated Training Loss: 37.4944\n"
     ]
    },
    {
     "name": "stdout",
     "output_type": "stream",
     "text": [
      "Validation: Avg Standard Validation Loss: 2.1802\n",
      "Validation: Avg Attenuated Validation Loss: 57.6937\n",
      "Validation Loss for Scheduler: 2.1802\n",
      "saving model\n"
     ]
    },
    {
     "name": "stdout",
     "output_type": "stream",
     "text": [
      "Epoch [83/100], Learning Rate: 1.0000000000000002e-08, Teacher forcing ratio: 0.679477248\n",
      "Training: Avg Attenuated Training Loss: 38.3767\n"
     ]
    },
    {
     "name": "stdout",
     "output_type": "stream",
     "text": [
      "Validation: Avg Standard Validation Loss: 2.1862\n",
      "Validation: Avg Attenuated Validation Loss: 59.8965\n",
      "Validation Loss for Scheduler: 2.1862\n",
      "saving model\n"
     ]
    },
    {
     "name": "stdout",
     "output_type": "stream",
     "text": [
      "Epoch [84/100], Learning Rate: 1.0000000000000002e-08, Teacher forcing ratio: 0.679477248\n",
      "Training: Avg Attenuated Training Loss: 37.4435\n"
     ]
    },
    {
     "name": "stdout",
     "output_type": "stream",
     "text": [
      "Validation: Avg Standard Validation Loss: 2.1778\n",
      "Validation: Avg Attenuated Validation Loss: 52.6905\n",
      "Validation Loss for Scheduler: 2.1778\n",
      "saving model\n"
     ]
    },
    {
     "name": "stdout",
     "output_type": "stream",
     "text": [
      "Epoch [85/100], Learning Rate: 1.0000000000000002e-08, Teacher forcing ratio: 0.679477248\n",
      "Training: Avg Attenuated Training Loss: 36.6945\n"
     ]
    },
    {
     "name": "stdout",
     "output_type": "stream",
     "text": [
      "Validation: Avg Standard Validation Loss: 2.1843\n",
      "Validation: Avg Attenuated Validation Loss: 51.7791\n",
      "Validation Loss for Scheduler: 2.1843\n",
      "saving model\n"
     ]
    },
    {
     "name": "stdout",
     "output_type": "stream",
     "text": [
      "Epoch [86/100], Learning Rate: 1.0000000000000002e-08, Teacher forcing ratio: 0.679477248\n",
      "Training: Avg Attenuated Training Loss: 38.2579\n"
     ]
    },
    {
     "name": "stdout",
     "output_type": "stream",
     "text": [
      "Validation: Avg Standard Validation Loss: 2.1815\n",
      "Validation: Avg Attenuated Validation Loss: 52.5040\n",
      "Validation Loss for Scheduler: 2.1815\n",
      "saving model\n"
     ]
    },
    {
     "name": "stdout",
     "output_type": "stream",
     "text": [
      "Epoch [87/100], Learning Rate: 1.0000000000000002e-08, Teacher forcing ratio: 0.679477248\n",
      "Training: Avg Attenuated Training Loss: 39.0893\n"
     ]
    },
    {
     "name": "stdout",
     "output_type": "stream",
     "text": [
      "Validation: Avg Standard Validation Loss: 2.1908\n",
      "Validation: Avg Attenuated Validation Loss: 53.5955\n",
      "Validation Loss for Scheduler: 2.1908\n",
      "saving model\n"
     ]
    },
    {
     "name": "stdout",
     "output_type": "stream",
     "text": [
      "Epoch [88/100], Learning Rate: 1.0000000000000002e-08, Teacher forcing ratio: 0.679477248\n",
      "Training: Avg Attenuated Training Loss: 39.7114\n"
     ]
    },
    {
     "name": "stdout",
     "output_type": "stream",
     "text": [
      "Validation: Avg Standard Validation Loss: 2.1800\n",
      "Validation: Avg Attenuated Validation Loss: 60.1935\n",
      "Validation Loss for Scheduler: 2.1800\n",
      "saving model\n"
     ]
    },
    {
     "name": "stdout",
     "output_type": "stream",
     "text": [
      "Epoch [89/100], Learning Rate: 1.0000000000000002e-08, Teacher forcing ratio: 0.679477248\n",
      "Training: Avg Attenuated Training Loss: 36.2853\n"
     ]
    },
    {
     "name": "stdout",
     "output_type": "stream",
     "text": [
      "Validation: Avg Standard Validation Loss: 2.2312\n",
      "Validation: Avg Attenuated Validation Loss: 49.9593\n",
      "Validation Loss for Scheduler: 2.2312\n",
      "saving model\n"
     ]
    },
    {
     "name": "stdout",
     "output_type": "stream",
     "text": [
      "Epoch [90/100], Learning Rate: 1.0000000000000002e-08, Teacher forcing ratio: 0.679477248\n",
      "Training: Avg Attenuated Training Loss: 38.8717\n"
     ]
    },
    {
     "name": "stdout",
     "output_type": "stream",
     "text": [
      "Validation: Avg Standard Validation Loss: 2.2084\n",
      "Validation: Avg Attenuated Validation Loss: 52.3417\n",
      "Validation Loss for Scheduler: 2.2084\n",
      "saving model\n"
     ]
    },
    {
     "name": "stdout",
     "output_type": "stream",
     "text": [
      "Epoch [91/100], Learning Rate: 1.0000000000000002e-08, Teacher forcing ratio: 0.679477248\n",
      "Training: Avg Attenuated Training Loss: 37.6327\n"
     ]
    },
    {
     "name": "stdout",
     "output_type": "stream",
     "text": [
      "Validation: Avg Standard Validation Loss: 2.2338\n",
      "Validation: Avg Attenuated Validation Loss: 58.5345\n",
      "Validation Loss for Scheduler: 2.2338\n",
      "saving model\n"
     ]
    },
    {
     "name": "stdout",
     "output_type": "stream",
     "text": [
      "Epoch [92/100], Learning Rate: 1.0000000000000002e-08, Teacher forcing ratio: 0.679477248\n",
      "Training: Avg Attenuated Training Loss: 37.7417\n"
     ]
    },
    {
     "name": "stdout",
     "output_type": "stream",
     "text": [
      "Validation: Avg Standard Validation Loss: 2.1900\n",
      "Validation: Avg Attenuated Validation Loss: 52.8709\n",
      "Validation Loss for Scheduler: 2.1900\n",
      "saving model\n"
     ]
    },
    {
     "name": "stdout",
     "output_type": "stream",
     "text": [
      "Epoch [93/100], Learning Rate: 1.0000000000000002e-08, Teacher forcing ratio: 0.679477248\n",
      "Training: Avg Attenuated Training Loss: 35.0525\n"
     ]
    },
    {
     "name": "stdout",
     "output_type": "stream",
     "text": [
      "Validation: Avg Standard Validation Loss: 2.1876\n",
      "Validation: Avg Attenuated Validation Loss: 51.9130\n",
      "Validation Loss for Scheduler: 2.1876\n",
      "saving model\n"
     ]
    },
    {
     "name": "stdout",
     "output_type": "stream",
     "text": [
      "Epoch [94/100], Learning Rate: 1.0000000000000002e-08, Teacher forcing ratio: 0.679477248\n",
      "Training: Avg Attenuated Training Loss: 38.0076\n"
     ]
    },
    {
     "name": "stdout",
     "output_type": "stream",
     "text": [
      "Validation: Avg Standard Validation Loss: 2.1771\n",
      "Validation: Avg Attenuated Validation Loss: 52.1691\n",
      "Validation Loss for Scheduler: 2.1771\n",
      "saving model\n"
     ]
    },
    {
     "name": "stdout",
     "output_type": "stream",
     "text": [
      "Epoch [95/100], Learning Rate: 1.0000000000000002e-08, Teacher forcing ratio: 0.679477248\n",
      "Training: Avg Attenuated Training Loss: 41.0241\n"
     ]
    },
    {
     "name": "stdout",
     "output_type": "stream",
     "text": [
      "Validation: Avg Standard Validation Loss: 2.1781\n",
      "Validation: Avg Attenuated Validation Loss: 53.7041\n",
      "Validation Loss for Scheduler: 2.1781\n",
      "saving model\n"
     ]
    },
    {
     "name": "stdout",
     "output_type": "stream",
     "text": [
      "Epoch [96/100], Learning Rate: 1.0000000000000002e-08, Teacher forcing ratio: 0.679477248\n",
      "Training: Avg Attenuated Training Loss: 36.3679\n"
     ]
    },
    {
     "name": "stdout",
     "output_type": "stream",
     "text": [
      "Validation: Avg Standard Validation Loss: 2.1880\n",
      "Validation: Avg Attenuated Validation Loss: 58.8850\n",
      "Validation Loss for Scheduler: 2.1880\n",
      "saving model\n"
     ]
    },
    {
     "name": "stdout",
     "output_type": "stream",
     "text": [
      "Epoch [97/100], Learning Rate: 1.0000000000000002e-08, Teacher forcing ratio: 0.679477248\n",
      "Training: Avg Attenuated Training Loss: 36.0530\n"
     ]
    },
    {
     "name": "stdout",
     "output_type": "stream",
     "text": [
      "Validation: Avg Standard Validation Loss: 2.1786\n",
      "Validation: Avg Attenuated Validation Loss: 51.6173\n",
      "Validation Loss for Scheduler: 2.1786\n",
      "saving model\n"
     ]
    },
    {
     "name": "stdout",
     "output_type": "stream",
     "text": [
      "Epoch [98/100], Learning Rate: 1.0000000000000002e-08, Teacher forcing ratio: 0.679477248\n",
      "Training: Avg Attenuated Training Loss: 37.9515\n"
     ]
    },
    {
     "name": "stdout",
     "output_type": "stream",
     "text": [
      "Validation: Avg Standard Validation Loss: 2.1858\n",
      "Validation: Avg Attenuated Validation Loss: 52.3202\n",
      "Validation Loss for Scheduler: 2.1858\n",
      "saving model\n"
     ]
    },
    {
     "name": "stdout",
     "output_type": "stream",
     "text": [
      "Epoch [99/100], Learning Rate: 1.0000000000000002e-08, Teacher forcing ratio: 0.679477248\n",
      "Training: Avg Attenuated Training Loss: 35.0147\n"
     ]
    },
    {
     "name": "stdout",
     "output_type": "stream",
     "text": [
      "Validation: Avg Standard Validation Loss: 2.1831\n",
      "Validation: Avg Attenuated Validation Loss: 50.8830\n",
      "Validation Loss for Scheduler: 2.1831\n",
      "saving model\n"
     ]
    },
    {
     "name": "stdout",
     "output_type": "stream",
     "text": [
      "Epoch [100/100], Learning Rate: 1.0000000000000002e-08, Teacher forcing ratio: 0.679477248\n",
      "Training: Avg Attenuated Training Loss: 35.8586\n"
     ]
    },
    {
     "name": "stdout",
     "output_type": "stream",
     "text": [
      "Validation: Avg Standard Validation Loss: 2.1757\n",
      "Validation: Avg Attenuated Validation Loss: 51.4449\n",
      "Validation Loss for Scheduler: 2.1757\n",
      "saving model\n",
      "Training complete.\n",
      "Model saved to path: PCR_full_grad_norm_new_4layer.pkl\n"
     ]
    }
   ],
   "source": [
    "import trainer.trainer\n",
    "importlib.reload(trainer.trainer)\n",
    "from trainer.trainer import Trainer\n",
    "from torch.optim.lr_scheduler import ReduceLROnPlateau\n",
    "\n",
    "from torch.utils.tensorboard import SummaryWriter\n",
    "\n",
    "writer = SummaryWriter(comment=\"Full_PCR_grad\")\n",
    "\n",
    "# device\n",
    "device = torch.device(\"cuda\" if torch.cuda.is_available() else \"cpu\")\n",
    "\n",
    "# Start learning rate\n",
    "learning_rate = 1e-4\n",
    "\n",
    "# Optimizer and Scheduler\n",
    "# optimizer = torch.optim.Adam(params=model.parameters(), lr=learning_rate, weight_decay=0)\n",
    "optimizer = torch.optim.AdamW(model.parameters(), lr=learning_rate, weight_decay=0)\n",
    "scheduler = ReduceLROnPlateau(optimizer, mode='min', factor=0.01, patience=2, min_lr=1e-9)\n",
    "\n",
    "# Epochs\n",
    "num_epochs = 100\n",
    "\n",
    "# Batch size\n",
    "batch_size = 128\n",
    "\n",
    "# lambda for L2 (weight, bias, dropout) regularization: According to formula: 1/2N\n",
    "# regularization_term = 1.0/(2.0*batch_size)\n",
    "regularization_term =  1e-4\n",
    "\n",
    "# shuffle data\n",
    "shuffle = True\n",
    "\n",
    "# Teacher forcing: Smaller 0.5 more predicted events are used for next event prediction.\n",
    "teacher_forcing_ratio = 0.8\n",
    "\n",
    "optimize_values = {\"regularization_term\":regularization_term,\n",
    "                   \"optimizer\":optimizer,\n",
    "                   \"scheduler\": scheduler,\n",
    "                   \"epochs\":num_epochs,\n",
    "                   \"mini_batches\":batch_size,\n",
    "                   \"shuffle\": shuffle,\n",
    "                   \"teacher_forcing_ratio\":teacher_forcing_ratio,}\n",
    "\n",
    "suffix_data_split_value = 4\n",
    "\n",
    "# GradNorm parameter\n",
    "use_gradnorm = True\n",
    "gn_alpha = 1.5\n",
    "gn_learning_rate = 1e-4\n",
    "# gn_learning_rate =  0.025\n",
    "\n",
    "number_tasks = len(dec_feat[0]) + len(dec_feat[1])\n",
    "\n",
    "gradNorm = {\"use_gradnorm\":use_gradnorm,\n",
    "            \"number_tasks\": number_tasks,\n",
    "            \"gn_alpha\":gn_alpha,\n",
    "            \"gn_learning_rate\": gn_learning_rate}\n",
    "\n",
    "trainer = Trainer(device=device,\n",
    "                  model=model,\n",
    "                  data_train=PCR_train_dataset,\n",
    "                  data_val=PCR_val_dataset,\n",
    "                  loss_obj=loss_obj,\n",
    "                  log_normal_loss_num_feature = log_normal_loss_num_feature,\n",
    "                  optimize_values=optimize_values,\n",
    "                  suffix_data_split_value=suffix_data_split_value,\n",
    "                  writer=writer,\n",
    "                  gradnorm_values=gradNorm,\n",
    "                  save_model_n_th_epoch = 1,\n",
    "                  saving_path = 'PCR_full_grad_norm_new_4layer.pkl')\n",
    "\n",
    "# Train the model:\n",
    "train_attenuated_losses, val_losses, val_attenuated_losses = trainer.train_model()"
   ]
  },
  {
   "cell_type": "markdown",
   "metadata": {},
   "source": [
    "# Training Visualization"
   ]
  },
  {
   "cell_type": "code",
   "execution_count": 8,
   "metadata": {
    "execution": {
     "iopub.execute_input": "2025-05-07T07:31:16.334547Z",
     "iopub.status.busy": "2025-05-07T07:31:16.334217Z",
     "iopub.status.idle": "2025-05-07T07:31:16.636963Z",
     "shell.execute_reply": "2025-05-07T07:31:16.636656Z"
    }
   },
   "outputs": [
    {
     "data": {
      "image/png": "[encoded data removed]",
      "text/plain": [
       "<Figure size 640x480 with 1 Axes>"
      ]
     },
     "metadata": {},
     "output_type": "display_data"
    }
   ],
   "source": [
    "import matplotlib.pyplot as plt\n",
    "\n",
    "# After training is finished, plot the loss curves\n",
    "plt.plot(range(1, num_epochs+1), train_attenuated_losses, label='Training Attenuated Loss', color='blue')\n",
    "plt.plot(range(1, num_epochs+1), val_losses, label='Validation Loss', color='orange')\n",
    "plt.plot(range(1, num_epochs+1), val_attenuated_losses, label='Validation Attenuated Loss', color='green')\n",
    "# Labeling x and y axes\n",
    "plt.xlabel('Epochs', fontsize=12)\n",
    "plt.ylabel('Loss', fontsize=12)\n",
    "# Adding title\n",
    "plt.title('Training and Validation Loss Curve', fontsize=14)\n",
    "# Adding legend\n",
    "plt.legend()\n",
    "# Show the plot\n",
    "plt.show()"
   ]
  }
 ],
 "metadata": {
  "kernelspec": {
   "display_name": "PrimePPM-tDGhFIeG",
   "language": "python",
   "name": "python3"
  },
  "language_info": {
   "codemirror_mode": {
    "name": "ipython",
    "version": 3
   },
   "file_extension": ".py",
   "mimetype": "text/x-python",
   "name": "python",
   "nbconvert_exporter": "python",
   "pygments_lexer": "ipython3",
   "version": "3.13.1"
  },
  "widgets": {
   "application/vnd.jupyter.widget-state+json": {
    "state": {
     "0f8fb82c0f6947f6bda0c196c5c0d8bf": {
      "model_module": "@jupyter-widgets/controls",
      "model_module_version": "2.0.0",
      "model_name": "HTMLStyleModel",
      "state": {
       "_model_module": "@jupyter-widgets/controls",
       "_model_module_version": "2.0.0",
       "_model_name": "HTMLStyleModel",
       "_view_count": null,
       "_view_module": "@jupyter-widgets/base",
       "_view_module_version": "2.0.0",
       "_view_name": "StyleView",
       "background": null,
       "description_width": "",
       "font_size": null,
       "text_color": null
      }
     },
     "2932bd83ef4747ce885517e40cb1d1bf": {
      "model_module": "@jupyter-widgets/controls",
      "model_module_version": "2.0.0",
      "model_name": "HTMLModel",
      "state": {
       "_dom_classes": [],
       "_model_module": "@jupyter-widgets/controls",
       "_model_module_version": "2.0.0",
       "_model_name": "HTMLModel",
       "_view_count": null,
       "_view_module": "@jupyter-widgets/controls",
       "_view_module_version": "2.0.0",
       "_view_name": "HTMLView",
       "description": "",
       "description_allow_html": false,
       "layout": "IPY_MODEL_cc4e0eb61c8349cd8e3c61bb8fb20329",
       "placeholder": "​",
       "style": "IPY_MODEL_0f8fb82c0f6947f6bda0c196c5c0d8bf",
       "tabbable": null,
       "tooltip": null,
       "value": " 100/100 [18:05:06&lt;00:00, 536.50s/it]"
      }
     },
     "42479184a4074fa894406c46c6634e9a": {
      "model_module": "@jupyter-widgets/base",
      "model_module_version": "2.0.0",
      "model_name": "LayoutModel",
      "state": {
       "_model_module": "@jupyter-widgets/base",
       "_model_module_version": "2.0.0",
       "_model_name": "LayoutModel",
       "_view_count": null,
       "_view_module": "@jupyter-widgets/base",
       "_view_module_version": "2.0.0",
       "_view_name": "LayoutView",
       "align_content": null,
       "align_items": null,
       "align_self": null,
       "border_bottom": null,
       "border_left": null,
       "border_right": null,
       "border_top": null,
       "bottom": null,
       "display": null,
       "flex": null,
       "flex_flow": null,
       "grid_area": null,
       "grid_auto_columns": null,
       "grid_auto_flow": null,
       "grid_auto_rows": null,
       "grid_column": null,
       "grid_gap": null,
       "grid_row": null,
       "grid_template_areas": null,
       "grid_template_columns": null,
       "grid_template_rows": null,
       "height": null,
       "justify_content": null,
       "justify_items": null,
       "left": null,
       "margin": null,
       "max_height": null,
       "max_width": null,
       "min_height": null,
       "min_width": null,
       "object_fit": null,
       "object_position": null,
       "order": null,
       "overflow": null,
       "padding": null,
       "right": null,
       "top": null,
       "visibility": null,
       "width": null
      }
     },
     "62ae93c4a58e4dd38ecc9ffb9775ddc8": {
      "model_module": "@jupyter-widgets/base",
      "model_module_version": "2.0.0",
      "model_name": "LayoutModel",
      "state": {
       "_model_module": "@jupyter-widgets/base",
       "_model_module_version": "2.0.0",
       "_model_name": "LayoutModel",
       "_view_count": null,
       "_view_module": "@jupyter-widgets/base",
       "_view_module_version": "2.0.0",
       "_view_name": "LayoutView",
       "align_content": null,
       "align_items": null,
       "align_self": null,
       "border_bottom": null,
       "border_left": null,
       "border_right": null,
       "border_top": null,
       "bottom": null,
       "display": null,
       "flex": null,
       "flex_flow": null,
       "grid_area": null,
       "grid_auto_columns": null,
       "grid_auto_flow": null,
       "grid_auto_rows": null,
       "grid_column": null,
       "grid_gap": null,
       "grid_row": null,
       "grid_template_areas": null,
       "grid_template_columns": null,
       "grid_template_rows": null,
       "height": null,
       "justify_content": null,
       "justify_items": null,
       "left": null,
       "margin": null,
       "max_height": null,
       "max_width": null,
       "min_height": null,
       "min_width": null,
       "object_fit": null,
       "object_position": null,
       "order": null,
       "overflow": null,
       "padding": null,
       "right": null,
       "top": null,
       "visibility": null,
       "width": null
      }
     },
     "76f2a6981c364654bbc15a95f5a0015b": {
      "model_module": "@jupyter-widgets/controls",
      "model_module_version": "2.0.0",
      "model_name": "HTMLModel",
      "state": {
       "_dom_classes": [],
       "_model_module": "@jupyter-widgets/controls",
       "_model_module_version": "2.0.0",
       "_model_name": "HTMLModel",
       "_view_count": null,
       "_view_module": "@jupyter-widgets/controls",
       "_view_module_version": "2.0.0",
       "_view_name": "HTMLView",
       "description": "",
       "description_allow_html": false,
       "layout": "IPY_MODEL_62ae93c4a58e4dd38ecc9ffb9775ddc8",
       "placeholder": "​",
       "style": "IPY_MODEL_ea0bb3b2909749a78c42596568cd3754",
       "tabbable": null,
       "tooltip": null,
       "value": "100%"
      }
     },
     "89663cbb7e8847cf991cf7c9408b8993": {
      "model_module": "@jupyter-widgets/controls",
      "model_module_version": "2.0.0",
      "model_name": "ProgressStyleModel",
      "state": {
       "_model_module": "@jupyter-widgets/controls",
       "_model_module_version": "2.0.0",
       "_model_name": "ProgressStyleModel",
       "_view_count": null,
       "_view_module": "@jupyter-widgets/base",
       "_view_module_version": "2.0.0",
       "_view_name": "StyleView",
       "bar_color": null,
       "description_width": ""
      }
     },
     "a2666e1a3a924a589333edf57f0ccc59": {
      "model_module": "@jupyter-widgets/base",
      "model_module_version": "2.0.0",
      "model_name": "LayoutModel",
      "state": {
       "_model_module": "@jupyter-widgets/base",
       "_model_module_version": "2.0.0",
       "_model_name": "LayoutModel",
       "_view_count": null,
       "_view_module": "@jupyter-widgets/base",
       "_view_module_version": "2.0.0",
       "_view_name": "LayoutView",
       "align_content": null,
       "align_items": null,
       "align_self": null,
       "border_bottom": null,
       "border_left": null,
       "border_right": null,
       "border_top": null,
       "bottom": null,
       "display": null,
       "flex": null,
       "flex_flow": null,
       "grid_area": null,
       "grid_auto_columns": null,
       "grid_auto_flow": null,
       "grid_auto_rows": null,
       "grid_column": null,
       "grid_gap": null,
       "grid_row": null,
       "grid_template_areas": null,
       "grid_template_columns": null,
       "grid_template_rows": null,
       "height": null,
       "justify_content": null,
       "justify_items": null,
       "left": null,
       "margin": null,
       "max_height": null,
       "max_width": null,
       "min_height": null,
       "min_width": null,
       "object_fit": null,
       "object_position": null,
       "order": null,
       "overflow": null,
       "padding": null,
       "right": null,
       "top": null,
       "visibility": null,
       "width": null
      }
     },
     "cc4e0eb61c8349cd8e3c61bb8fb20329": {
      "model_module": "@jupyter-widgets/base",
      "model_module_version": "2.0.0",
      "model_name": "LayoutModel",
      "state": {
       "_model_module": "@jupyter-widgets/base",
       "_model_module_version": "2.0.0",
       "_model_name": "LayoutModel",
       "_view_count": null,
       "_view_module": "@jupyter-widgets/base",
       "_view_module_version": "2.0.0",
       "_view_name": "LayoutView",
       "align_content": null,
       "align_items": null,
       "align_self": null,
       "border_bottom": null,
       "border_left": null,
       "border_right": null,
       "border_top": null,
       "bottom": null,
       "display": null,
       "flex": null,
       "flex_flow": null,
       "grid_area": null,
       "grid_auto_columns": null,
       "grid_auto_flow": null,
       "grid_auto_rows": null,
       "grid_column": null,
       "grid_gap": null,
       "grid_row": null,
       "grid_template_areas": null,
       "grid_template_columns": null,
       "grid_template_rows": null,
       "height": null,
       "justify_content": null,
       "justify_items": null,
       "left": null,
       "margin": null,
       "max_height": null,
       "max_width": null,
       "min_height": null,
       "min_width": null,
       "object_fit": null,
       "object_position": null,
       "order": null,
       "overflow": null,
       "padding": null,
       "right": null,
       "top": null,
       "visibility": null,
       "width": null
      }
     },
     "dd78659cf66647d6b5332c9656de56d8": {
      "model_module": "@jupyter-widgets/controls",
      "model_module_version": "2.0.0",
      "model_name": "HBoxModel",
      "state": {
       "_dom_classes": [],
       "_model_module": "@jupyter-widgets/controls",
       "_model_module_version": "2.0.0",
       "_model_name": "HBoxModel",
       "_view_count": null,
       "_view_module": "@jupyter-widgets/controls",
       "_view_module_version": "2.0.0",
       "_view_name": "HBoxView",
       "box_style": "",
       "children": [
        "IPY_MODEL_76f2a6981c364654bbc15a95f5a0015b",
        "IPY_MODEL_f7245ac88dec42d28580f36c2bf926ee",
        "IPY_MODEL_2932bd83ef4747ce885517e40cb1d1bf"
       ],
       "layout": "IPY_MODEL_42479184a4074fa894406c46c6634e9a",
       "tabbable": null,
       "tooltip": null
      }
     },
     "ea0bb3b2909749a78c42596568cd3754": {
      "model_module": "@jupyter-widgets/controls",
      "model_module_version": "2.0.0",
      "model_name": "HTMLStyleModel",
      "state": {
       "_model_module": "@jupyter-widgets/controls",
       "_model_module_version": "2.0.0",
       "_model_name": "HTMLStyleModel",
       "_view_count": null,
       "_view_module": "@jupyter-widgets/base",
       "_view_module_version": "2.0.0",
       "_view_name": "StyleView",
       "background": null,
       "description_width": "",
       "font_size": null,
       "text_color": null
      }
     },
     "f7245ac88dec42d28580f36c2bf926ee": {
      "model_module": "@jupyter-widgets/controls",
      "model_module_version": "2.0.0",
      "model_name": "FloatProgressModel",
      "state": {
       "_dom_classes": [],
       "_model_module": "@jupyter-widgets/controls",
       "_model_module_version": "2.0.0",
       "_model_name": "FloatProgressModel",
       "_view_count": null,
       "_view_module": "@jupyter-widgets/controls",
       "_view_module_version": "2.0.0",
       "_view_name": "ProgressView",
       "bar_style": "success",
       "description": "",
       "description_allow_html": false,
       "layout": "IPY_MODEL_a2666e1a3a924a589333edf57f0ccc59",
       "max": 100.0,
       "min": 0.0,
       "orientation": "horizontal",
       "style": "IPY_MODEL_89663cbb7e8847cf991cf7c9408b8993",
       "tabbable": null,
       "tooltip": null,
       "value": 100.0
      }
     }
    },
    "version_major": 2,
    "version_minor": 0
   }
  }
 },
 "nbformat": 4,
 "nbformat_minor": 4
}
