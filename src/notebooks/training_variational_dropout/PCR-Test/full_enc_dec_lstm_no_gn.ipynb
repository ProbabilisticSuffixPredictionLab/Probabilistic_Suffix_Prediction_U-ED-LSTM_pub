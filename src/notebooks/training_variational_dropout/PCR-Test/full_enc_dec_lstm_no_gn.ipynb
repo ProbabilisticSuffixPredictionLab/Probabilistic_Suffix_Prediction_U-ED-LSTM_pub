{
 "cells": [
  {
   "cell_type": "markdown",
   "metadata": {},
   "source": [
    "# Imports"
   ]
  },
  {
   "cell_type": "code",
   "execution_count": null,
   "metadata": {
    "execution": {
     "iopub.execute_input": "2025-02-28T14:04:11.842109Z",
     "iopub.status.busy": "2025-02-28T14:04:11.841827Z",
     "iopub.status.idle": "2025-02-28T14:04:12.740034Z",
     "shell.execute_reply": "2025-02-28T14:04:12.739668Z"
    }
   },
   "outputs": [],
   "source": [
    "import importlib\n",
    "import sys\n",
    "import torch\n",
    "\n",
    "sys.path.insert(0, '..')\n",
    "sys.path.insert(1, '../..')\n",
    "sys.path.insert(2, '../../..')\n",
    "sys.path.insert(3, '../../../..')"
   ]
  },
  {
   "cell_type": "markdown",
   "metadata": {},
   "source": [
    "# Data"
   ]
  },
  {
   "cell_type": "markdown",
   "metadata": {},
   "source": [
    "### Load Data Files"
   ]
  },
  {
   "cell_type": "code",
   "execution_count": null,
   "metadata": {
    "execution": {
     "iopub.execute_input": "2025-02-28T14:04:12.741962Z",
     "iopub.status.busy": "2025-02-28T14:04:12.741800Z",
     "iopub.status.idle": "2025-02-28T14:04:13.484489Z",
     "shell.execute_reply": "2025-02-28T14:04:13.484131Z"
    }
   },
   "outputs": [],
   "source": [
    "# Path to your pickle file (saved with torch.save)\n",
    "file_path_train = '../../../../encoded_data/PCR_5_train.pkl'\n",
    "# Load the dataset using torch.load\n",
    "PCR_train_dataset = torch.load(file_path_train)\n",
    "# Check the type of the loaded dataset\n",
    "print(type(PCR_train_dataset))  # Should output something like <class 'torch.utils.data.dataset.TensorDataset'>\n",
    "\n",
    "# Path to your pickle file (saved with torch.save)\n",
    "file_path_val = '../../../../encoded_data/PCR_5_val.pkl'\n",
    "# Load the dataset using torch.load\n",
    "PCR_val_dataset = torch.load(file_path_val)\n",
    "# Check the type of the loaded dataset\n",
    "print(type(PCR_val_dataset))  # Should output something like <class 'torch.utils.data.dataset.TensorDataset'>"
   ]
  },
  {
   "cell_type": "markdown",
   "metadata": {},
   "source": [
    "### Train Data Insights"
   ]
  },
  {
   "cell_type": "code",
   "execution_count": null,
   "metadata": {
    "execution": {
     "iopub.execute_input": "2025-02-28T14:04:13.486073Z",
     "iopub.status.busy": "2025-02-28T14:04:13.485902Z",
     "iopub.status.idle": "2025-02-28T14:04:13.488876Z",
     "shell.execute_reply": "2025-02-28T14:04:13.488669Z"
    }
   },
   "outputs": [],
   "source": [
    "# PCR Dataset Categories, Features:\n",
    "\n",
    "PCR_all_categories = PCR_train_dataset.all_categories\n",
    "\n",
    "PCR_all_categories_cat = PCR_all_categories[0]\n",
    "print(PCR_all_categories_cat)\n",
    "\n",
    "PCR_all_categories_num = PCR_all_categories[1]\n",
    "print(PCR_all_categories_num)\n",
    "\n",
    "for i, cat in enumerate(PCR_all_categories_cat):\n",
    "     print(f\"PCR (5) Categorical feature: {cat[0]}, Index position in categorical data list: {i}\")\n",
    "     print(f\"PCR (5) Total Amount of Category labels: {cat[1]}\")\n",
    "print('\\n')    \n",
    "for i, num in enumerate(PCR_all_categories_num):\n",
    "     print(f\"PCR (5) Numerical feature: {num[0]}, Index position in categorical data list: {i}\")\n",
    "     print(f\"PCR (5) Amount Category Lables: {num[1]}\")"
   ]
  },
  {
   "cell_type": "markdown",
   "metadata": {},
   "source": [
    "### Input Features for Encoder and Decoder"
   ]
  },
  {
   "cell_type": "code",
   "execution_count": null,
   "metadata": {
    "execution": {
     "iopub.execute_input": "2025-02-28T14:04:13.489746Z",
     "iopub.status.busy": "2025-02-28T14:04:13.489659Z",
     "iopub.status.idle": "2025-02-28T14:04:13.491960Z",
     "shell.execute_reply": "2025-02-28T14:04:13.491773Z"
    }
   },
   "outputs": [],
   "source": [
    "# Create lists with name of Encoder features (input) and decoder features (input & output)\n",
    "\n",
    "# Encoder features:\n",
    "enc_feat_cat = []\n",
    "enc_feat_num = []\n",
    "for cat in PCR_all_categories_cat:\n",
    "    enc_feat_cat.append(cat[0])\n",
    "for num in PCR_all_categories_num:\n",
    "    enc_feat_num.append(num[0])\n",
    "enc_feat = [enc_feat_cat, enc_feat_num]\n",
    "print(\"Input features encoder: \", enc_feat)\n",
    "\n",
    "# Decoder features:\n",
    "dec_feat_cat = enc_feat_cat\n",
    "dec_feat_num = enc_feat_num\n",
    "dec_feat = [dec_feat_cat, dec_feat_num]\n",
    "print(\"Features decoder: \", dec_feat)"
   ]
  },
  {
   "cell_type": "markdown",
   "metadata": {},
   "source": [
    "# Model"
   ]
  },
  {
   "cell_type": "code",
   "execution_count": null,
   "metadata": {
    "execution": {
     "iopub.execute_input": "2025-02-28T14:04:13.492780Z",
     "iopub.status.busy": "2025-02-28T14:04:13.492695Z",
     "iopub.status.idle": "2025-02-28T14:04:13.502435Z",
     "shell.execute_reply": "2025-02-28T14:04:13.502227Z"
    }
   },
   "outputs": [],
   "source": [
    "import model.dropout_uncertainty_enc_dec_LSTM.dropout_uncertainty_model\n",
    "importlib.reload(model.dropout_uncertainty_enc_dec_LSTM.dropout_uncertainty_model)\n",
    "from model.dropout_uncertainty_enc_dec_LSTM.dropout_uncertainty_model import DropoutUncertaintyEncoderDecoderLSTM\n",
    "\n",
    "# Prediction decoder output sequence length\n",
    "seq_len_pred = 4\n",
    "\n",
    "# Size hidden layer\n",
    "hidden_size = 128\n",
    "\n",
    "# Number of cells\n",
    "num_layers = 2\n",
    "\n",
    "# Fixed Dropout probability \n",
    "dropout = 0.1\n",
    "\n",
    "# Encoder Decoder model initialization\n",
    "model = DropoutUncertaintyEncoderDecoderLSTM(data_set_categories=PCR_all_categories,\n",
    "                                             enc_feat=enc_feat,\n",
    "                                             dec_feat=dec_feat,\n",
    "                                             seq_len_pred=seq_len_pred,\n",
    "                                             hidden_size=hidden_size,\n",
    "                                             num_layers=num_layers,\n",
    "                                             dropout=dropout)"
   ]
  },
  {
   "cell_type": "markdown",
   "metadata": {},
   "source": [
    "# Loss Object Creation"
   ]
  },
  {
   "cell_type": "code",
   "execution_count": null,
   "metadata": {
    "execution": {
     "iopub.execute_input": "2025-02-28T14:04:13.503251Z",
     "iopub.status.busy": "2025-02-28T14:04:13.503161Z",
     "iopub.status.idle": "2025-02-28T14:04:13.505405Z",
     "shell.execute_reply": "2025-02-28T14:04:13.505205Z"
    }
   },
   "outputs": [],
   "source": [
    "import loss.losses\n",
    "importlib.reload(loss.losses)\n",
    "from loss.losses import Loss\n",
    "\n",
    "loss_obj = Loss()"
   ]
  },
  {
   "cell_type": "markdown",
   "metadata": {},
   "source": [
    "# Training Configuration"
   ]
  },
  {
   "cell_type": "code",
   "execution_count": null,
   "metadata": {
    "execution": {
     "iopub.execute_input": "2025-02-28T14:04:13.506611Z",
     "iopub.status.busy": "2025-02-28T14:04:13.506525Z",
     "iopub.status.idle": "2025-02-28T16:41:46.158327Z",
     "shell.execute_reply": "2025-02-28T16:41:46.157227Z"
    }
   },
   "outputs": [],
   "source": [
    "import trainer.trainer\n",
    "importlib.reload(trainer.trainer)\n",
    "from trainer.trainer import Trainer\n",
    "from torch.optim.lr_scheduler import ReduceLROnPlateau\n",
    "from torch.utils.tensorboard import SummaryWriter\n",
    "\n",
    "writer = SummaryWriter(comment=\"Full_PCR_no_grad\")\n",
    "\n",
    "# device\n",
    "device = torch.device(\"cuda\" if torch.cuda.is_available() else \"cpu\")\n",
    "\n",
    "# Start learning rate\n",
    "learning_rate = 1e-4\n",
    "\n",
    "# Optimizer and Scheduler\n",
    "optimizer = torch.optim.Adam(params=model.parameters(), lr=learning_rate, weight_decay=0)\n",
    "\n",
    "scheduler = ReduceLROnPlateau(optimizer, mode='min', factor=0.1, patience=2, min_lr=1e-10)\n",
    "\n",
    "# Epochs\n",
    "num_epochs = 100\n",
    "\n",
    "# BATCHING does not work currntly with custom implementation\n",
    "batch_size = 128\n",
    "\n",
    "# lambda for L2 (weight, bias, dropout) regularization: According to formula: 1/2N\n",
    "regularization_term = 1.0/(2.0*batch_size)\n",
    "\n",
    "# shuffle data\n",
    "shuffle = True\n",
    "\n",
    "# Teacher forcing: Smaller 0.5 more target events are used for next event prediction.\n",
    "teacher_forcing_ratio = 0.8\n",
    "\n",
    "optimize_values = {\"regularization_term\":regularization_term,\n",
    "                   \"optimizer\":optimizer,\n",
    "                   \"scheduler\": scheduler,\n",
    "                   \"epochs\":num_epochs,\n",
    "                   \"mini_batches\":batch_size,\n",
    "                   \"shuffle\": shuffle,\n",
    "                   \"teacher_forcing_ratio\":teacher_forcing_ratio,}\n",
    "\n",
    "suffix_data_split_value = 4\n",
    "\n",
    "# GradNorm parameter\n",
    "gradNorm = {\"use_gradnorm\":False}\n",
    "\n",
    "trainer = Trainer(device=device,\n",
    "                  model=model,\n",
    "                  data_train=PCR_train_dataset,\n",
    "                  data_val=PCR_val_dataset,\n",
    "                  loss_obj=loss_obj,\n",
    "                  optimize_values=optimize_values,\n",
    "                  suffix_data_split_value=suffix_data_split_value,\n",
    "                  writer=writer,\n",
    "                  gradnorm_values=gradNorm,\n",
    "                  save_model_n_th_epoch = 1,\n",
    "                  saving_path = 'PCR_full_no_grad_norm_new_1.pkl')\n",
    "\n",
    "# Train the model:\n",
    "train_attenuated_losses, val_losses, val_attenuated_losses = trainer.train_model()"
   ]
  },
  {
   "cell_type": "markdown",
   "metadata": {},
   "source": [
    "# Training Visualization"
   ]
  },
  {
   "cell_type": "code",
   "execution_count": null,
   "metadata": {
    "execution": {
     "iopub.execute_input": "2025-02-28T16:41:46.164402Z",
     "iopub.status.busy": "2025-02-28T16:41:46.163491Z",
     "iopub.status.idle": "2025-02-28T16:41:46.982054Z",
     "shell.execute_reply": "2025-02-28T16:41:46.981412Z"
    }
   },
   "outputs": [],
   "source": [
    "import matplotlib.pyplot as plt\n",
    "\n",
    "# After training is finished, plot the loss curves\n",
    "plt.plot(range(1, num_epochs+1), train_attenuated_losses, label='Training Attenuated Loss', color='blue')\n",
    "plt.plot(range(1, num_epochs+1), val_losses, label='Validation Loss', color='orange')\n",
    "plt.plot(range(1, num_epochs+1), val_attenuated_losses, label='Validation Attenuated Loss', color='green')\n",
    "# Labeling x and y axes\n",
    "plt.xlabel('Epochs', fontsize=12)\n",
    "plt.ylabel('Loss', fontsize=12)\n",
    "# Adding title\n",
    "plt.title('Training and Validation Loss Curve', fontsize=14)\n",
    "# Adding legend\n",
    "plt.legend()\n",
    "# Show the plot\n",
    "plt.show()"
   ]
  }
 ],
 "metadata": {
  "kernelspec": {
   "display_name": "PrimePPM-tDGhFIeG",
   "language": "python",
   "name": "python3"
  },
  "language_info": {
   "codemirror_mode": {
    "name": "ipython",
    "version": 3
   },
   "file_extension": ".py",
   "mimetype": "text/x-python",
   "name": "python",
   "nbconvert_exporter": "python",
   "pygments_lexer": "ipython3",
   "version": "3.13.1"
  },
  "widgets": {
   "application/vnd.jupyter.widget-state+json": {
    "state": {
     "15aaccfd32a64acc919e414f9470160b": {
      "model_module": "@jupyter-widgets/controls",
      "model_module_version": "2.0.0",
      "model_name": "ProgressStyleModel",
      "state": {
       "_model_module": "@jupyter-widgets/controls",
       "_model_module_version": "2.0.0",
       "_model_name": "ProgressStyleModel",
       "_view_count": null,
       "_view_module": "@jupyter-widgets/base",
       "_view_module_version": "2.0.0",
       "_view_name": "StyleView",
       "bar_color": null,
       "description_width": ""
      }
     },
     "275a4eebe66c4d54894076b48887f8a4": {
      "model_module": "@jupyter-widgets/controls",
      "model_module_version": "2.0.0",
      "model_name": "HTMLModel",
      "state": {
       "_dom_classes": [],
       "_model_module": "@jupyter-widgets/controls",
       "_model_module_version": "2.0.0",
       "_model_name": "HTMLModel",
       "_view_count": null,
       "_view_module": "@jupyter-widgets/controls",
       "_view_module_version": "2.0.0",
       "_view_name": "HTMLView",
       "description": "",
       "description_allow_html": false,
       "layout": "IPY_MODEL_3ac590b378c44fc8b76143ebe07a94e1",
       "placeholder": "​",
       "style": "IPY_MODEL_c09b406918b94b1a836838f2fb5e91a7",
       "tabbable": null,
       "tooltip": null,
       "value": "100%"
      }
     },
     "314229f837e444db95182d90a76005a3": {
      "model_module": "@jupyter-widgets/controls",
      "model_module_version": "2.0.0",
      "model_name": "HTMLModel",
      "state": {
       "_dom_classes": [],
       "_model_module": "@jupyter-widgets/controls",
       "_model_module_version": "2.0.0",
       "_model_name": "HTMLModel",
       "_view_count": null,
       "_view_module": "@jupyter-widgets/controls",
       "_view_module_version": "2.0.0",
       "_view_name": "HTMLView",
       "description": "",
       "description_allow_html": false,
       "layout": "IPY_MODEL_b9ec28bba76d401c87690be49ff6df47",
       "placeholder": "​",
       "style": "IPY_MODEL_d323ea77fdec41e09e12defdfd58cf7e",
       "tabbable": null,
       "tooltip": null,
       "value": " 100/100 [2:37:31&lt;00:00, 93.98s/it]"
      }
     },
     "3ac590b378c44fc8b76143ebe07a94e1": {
      "model_module": "@jupyter-widgets/base",
      "model_module_version": "2.0.0",
      "model_name": "LayoutModel",
      "state": {
       "_model_module": "@jupyter-widgets/base",
       "_model_module_version": "2.0.0",
       "_model_name": "LayoutModel",
       "_view_count": null,
       "_view_module": "@jupyter-widgets/base",
       "_view_module_version": "2.0.0",
       "_view_name": "LayoutView",
       "align_content": null,
       "align_items": null,
       "align_self": null,
       "border_bottom": null,
       "border_left": null,
       "border_right": null,
       "border_top": null,
       "bottom": null,
       "display": null,
       "flex": null,
       "flex_flow": null,
       "grid_area": null,
       "grid_auto_columns": null,
       "grid_auto_flow": null,
       "grid_auto_rows": null,
       "grid_column": null,
       "grid_gap": null,
       "grid_row": null,
       "grid_template_areas": null,
       "grid_template_columns": null,
       "grid_template_rows": null,
       "height": null,
       "justify_content": null,
       "justify_items": null,
       "left": null,
       "margin": null,
       "max_height": null,
       "max_width": null,
       "min_height": null,
       "min_width": null,
       "object_fit": null,
       "object_position": null,
       "order": null,
       "overflow": null,
       "padding": null,
       "right": null,
       "top": null,
       "visibility": null,
       "width": null
      }
     },
     "60e9bf40e25a4da7b0a7620d4263a743": {
      "model_module": "@jupyter-widgets/controls",
      "model_module_version": "2.0.0",
      "model_name": "HBoxModel",
      "state": {
       "_dom_classes": [],
       "_model_module": "@jupyter-widgets/controls",
       "_model_module_version": "2.0.0",
       "_model_name": "HBoxModel",
       "_view_count": null,
       "_view_module": "@jupyter-widgets/controls",
       "_view_module_version": "2.0.0",
       "_view_name": "HBoxView",
       "box_style": "",
       "children": [
        "IPY_MODEL_275a4eebe66c4d54894076b48887f8a4",
        "IPY_MODEL_7adacbc7f7cc417f8598493c0cb165ca",
        "IPY_MODEL_314229f837e444db95182d90a76005a3"
       ],
       "layout": "IPY_MODEL_74c24a6a499a4bdc90e39cfd9504f06d",
       "tabbable": null,
       "tooltip": null
      }
     },
     "73c7c6a214ee45d7a04e05892b14e407": {
      "model_module": "@jupyter-widgets/base",
      "model_module_version": "2.0.0",
      "model_name": "LayoutModel",
      "state": {
       "_model_module": "@jupyter-widgets/base",
       "_model_module_version": "2.0.0",
       "_model_name": "LayoutModel",
       "_view_count": null,
       "_view_module": "@jupyter-widgets/base",
       "_view_module_version": "2.0.0",
       "_view_name": "LayoutView",
       "align_content": null,
       "align_items": null,
       "align_self": null,
       "border_bottom": null,
       "border_left": null,
       "border_right": null,
       "border_top": null,
       "bottom": null,
       "display": null,
       "flex": null,
       "flex_flow": null,
       "grid_area": null,
       "grid_auto_columns": null,
       "grid_auto_flow": null,
       "grid_auto_rows": null,
       "grid_column": null,
       "grid_gap": null,
       "grid_row": null,
       "grid_template_areas": null,
       "grid_template_columns": null,
       "grid_template_rows": null,
       "height": null,
       "justify_content": null,
       "justify_items": null,
       "left": null,
       "margin": null,
       "max_height": null,
       "max_width": null,
       "min_height": null,
       "min_width": null,
       "object_fit": null,
       "object_position": null,
       "order": null,
       "overflow": null,
       "padding": null,
       "right": null,
       "top": null,
       "visibility": null,
       "width": null
      }
     },
     "74c24a6a499a4bdc90e39cfd9504f06d": {
      "model_module": "@jupyter-widgets/base",
      "model_module_version": "2.0.0",
      "model_name": "LayoutModel",
      "state": {
       "_model_module": "@jupyter-widgets/base",
       "_model_module_version": "2.0.0",
       "_model_name": "LayoutModel",
       "_view_count": null,
       "_view_module": "@jupyter-widgets/base",
       "_view_module_version": "2.0.0",
       "_view_name": "LayoutView",
       "align_content": null,
       "align_items": null,
       "align_self": null,
       "border_bottom": null,
       "border_left": null,
       "border_right": null,
       "border_top": null,
       "bottom": null,
       "display": null,
       "flex": null,
       "flex_flow": null,
       "grid_area": null,
       "grid_auto_columns": null,
       "grid_auto_flow": null,
       "grid_auto_rows": null,
       "grid_column": null,
       "grid_gap": null,
       "grid_row": null,
       "grid_template_areas": null,
       "grid_template_columns": null,
       "grid_template_rows": null,
       "height": null,
       "justify_content": null,
       "justify_items": null,
       "left": null,
       "margin": null,
       "max_height": null,
       "max_width": null,
       "min_height": null,
       "min_width": null,
       "object_fit": null,
       "object_position": null,
       "order": null,
       "overflow": null,
       "padding": null,
       "right": null,
       "top": null,
       "visibility": null,
       "width": null
      }
     },
     "7adacbc7f7cc417f8598493c0cb165ca": {
      "model_module": "@jupyter-widgets/controls",
      "model_module_version": "2.0.0",
      "model_name": "FloatProgressModel",
      "state": {
       "_dom_classes": [],
       "_model_module": "@jupyter-widgets/controls",
       "_model_module_version": "2.0.0",
       "_model_name": "FloatProgressModel",
       "_view_count": null,
       "_view_module": "@jupyter-widgets/controls",
       "_view_module_version": "2.0.0",
       "_view_name": "ProgressView",
       "bar_style": "success",
       "description": "",
       "description_allow_html": false,
       "layout": "IPY_MODEL_73c7c6a214ee45d7a04e05892b14e407",
       "max": 100,
       "min": 0,
       "orientation": "horizontal",
       "style": "IPY_MODEL_15aaccfd32a64acc919e414f9470160b",
       "tabbable": null,
       "tooltip": null,
       "value": 100
      }
     },
     "b9ec28bba76d401c87690be49ff6df47": {
      "model_module": "@jupyter-widgets/base",
      "model_module_version": "2.0.0",
      "model_name": "LayoutModel",
      "state": {
       "_model_module": "@jupyter-widgets/base",
       "_model_module_version": "2.0.0",
       "_model_name": "LayoutModel",
       "_view_count": null,
       "_view_module": "@jupyter-widgets/base",
       "_view_module_version": "2.0.0",
       "_view_name": "LayoutView",
       "align_content": null,
       "align_items": null,
       "align_self": null,
       "border_bottom": null,
       "border_left": null,
       "border_right": null,
       "border_top": null,
       "bottom": null,
       "display": null,
       "flex": null,
       "flex_flow": null,
       "grid_area": null,
       "grid_auto_columns": null,
       "grid_auto_flow": null,
       "grid_auto_rows": null,
       "grid_column": null,
       "grid_gap": null,
       "grid_row": null,
       "grid_template_areas": null,
       "grid_template_columns": null,
       "grid_template_rows": null,
       "height": null,
       "justify_content": null,
       "justify_items": null,
       "left": null,
       "margin": null,
       "max_height": null,
       "max_width": null,
       "min_height": null,
       "min_width": null,
       "object_fit": null,
       "object_position": null,
       "order": null,
       "overflow": null,
       "padding": null,
       "right": null,
       "top": null,
       "visibility": null,
       "width": null
      }
     },
     "c09b406918b94b1a836838f2fb5e91a7": {
      "model_module": "@jupyter-widgets/controls",
      "model_module_version": "2.0.0",
      "model_name": "HTMLStyleModel",
      "state": {
       "_model_module": "@jupyter-widgets/controls",
       "_model_module_version": "2.0.0",
       "_model_name": "HTMLStyleModel",
       "_view_count": null,
       "_view_module": "@jupyter-widgets/base",
       "_view_module_version": "2.0.0",
       "_view_name": "StyleView",
       "background": null,
       "description_width": "",
       "font_size": null,
       "text_color": null
      }
     },
     "d323ea77fdec41e09e12defdfd58cf7e": {
      "model_module": "@jupyter-widgets/controls",
      "model_module_version": "2.0.0",
      "model_name": "HTMLStyleModel",
      "state": {
       "_model_module": "@jupyter-widgets/controls",
       "_model_module_version": "2.0.0",
       "_model_name": "HTMLStyleModel",
       "_view_count": null,
       "_view_module": "@jupyter-widgets/base",
       "_view_module_version": "2.0.0",
       "_view_name": "StyleView",
       "background": null,
       "description_width": "",
       "font_size": null,
       "text_color": null
      }
     }
    },
    "version_major": 2,
    "version_minor": 0
   }
  }
 },
 "nbformat": 4,
 "nbformat_minor": 4
}
