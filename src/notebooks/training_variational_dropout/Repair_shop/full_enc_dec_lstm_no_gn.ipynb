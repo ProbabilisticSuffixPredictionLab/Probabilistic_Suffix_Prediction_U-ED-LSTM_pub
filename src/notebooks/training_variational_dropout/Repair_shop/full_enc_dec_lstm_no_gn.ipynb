{
 "cells": [
  {
   "cell_type": "markdown",
   "metadata": {},
   "source": [
    "# Imports"
   ]
  },
  {
   "cell_type": "code",
   "execution_count": 1,
   "metadata": {
    "execution": {
     "iopub.execute_input": "2025-05-25T15:17:07.173184Z",
     "iopub.status.busy": "2025-05-25T15:17:07.172963Z",
     "iopub.status.idle": "2025-05-25T15:17:08.943164Z",
     "shell.execute_reply": "2025-05-25T15:17:08.942863Z"
    }
   },
   "outputs": [],
   "source": [
    "import importlib\n",
    "import sys\n",
    "import torch\n",
    "\n",
    "sys.path.insert(0, '..')\n",
    "sys.path.insert(1, '../..')\n",
    "sys.path.insert(2, '../../..')\n",
    "sys.path.insert(3, '../../../..')"
   ]
  },
  {
   "cell_type": "markdown",
   "metadata": {},
   "source": [
    "# Data"
   ]
  },
  {
   "cell_type": "markdown",
   "metadata": {},
   "source": [
    "### Load Data Files"
   ]
  },
  {
   "cell_type": "code",
   "execution_count": 2,
   "metadata": {
    "execution": {
     "iopub.execute_input": "2025-05-25T15:17:08.944352Z",
     "iopub.status.busy": "2025-05-25T15:17:08.944197Z",
     "iopub.status.idle": "2025-05-25T15:17:11.007162Z",
     "shell.execute_reply": "2025-05-25T15:17:11.006912Z"
    }
   },
   "outputs": [
    {
     "name": "stdout",
     "output_type": "stream",
     "text": [
      "<class 'event_log_loader.new_event_log_loader.EventLogDataset'>\n",
      "<class 'event_log_loader.new_event_log_loader.EventLogDataset'>\n"
     ]
    }
   ],
   "source": [
    "# Path to your pickle file (saved with torch.save)\n",
    "file_path_train = '../../../../encoded_data/repair_shop_5_train.pkl'\n",
    "# Load the dataset using torch.load\n",
    "BPIC_17_train_dataset = torch.load(file_path_train, weights_only=False)\n",
    "# Check the type of the loaded dataset\n",
    "print(type(BPIC_17_train_dataset))  # Should output something like <class 'torch.utils.data.dataset.TensorDataset'>\n",
    "\n",
    "# Path to your pickle file (saved with torch.save)\n",
    "file_path_val = '../../../../encoded_data/repair_shop_5_val.pkl'\n",
    "# Load the dataset using torch.load\n",
    "BPIC_17_val_dataset = torch.load(file_path_val, weights_only=False)\n",
    "# Check the type of the loaded dataset\n",
    "print(type(BPIC_17_val_dataset))  # Should output something like <class 'torch.utils.data.dataset.TensorDataset'>"
   ]
  },
  {
   "cell_type": "markdown",
   "metadata": {},
   "source": [
    "### Train Data Insights"
   ]
  },
  {
   "cell_type": "code",
   "execution_count": 3,
   "metadata": {
    "execution": {
     "iopub.execute_input": "2025-05-25T15:17:11.026212Z",
     "iopub.status.busy": "2025-05-25T15:17:11.026033Z",
     "iopub.status.idle": "2025-05-25T15:17:11.028579Z",
     "shell.execute_reply": "2025-05-25T15:17:11.028397Z"
    }
   },
   "outputs": [
    {
     "name": "stdout",
     "output_type": "stream",
     "text": [
      "[('concept:name', 9, {'ACKNOWLEDGEMENT': 1, 'CREATE_INVOICE': 2, 'DISASSEMBLY': 3, 'EOS': 4, 'QUALITY_CONTROL': 5, 'RECEPTION': 6, 'REPAIR': 7, 'SHIPPING': 8})]\n",
      "[('case_elapsed_time', 1, {}), ('event_elapsed_time', 1, {}), ('day_in_week', 1, {}), ('seconds_in_day', 1, {})]\n",
      "BPIC 17 (5) Categorical feature: concept:name, Index position in categorical data list: 0\n",
      "BPIC 17 (5) Total Amount of Category labels: 9\n",
      "\n",
      "\n",
      "BPIC 17 (5) Numerical feature: case_elapsed_time, Index position in categorical data list: 0\n",
      "BPIC 17 (5) Amount Category Lables: 1\n",
      "BPIC 17 (5) Numerical feature: event_elapsed_time, Index position in categorical data list: 1\n",
      "BPIC 17 (5) Amount Category Lables: 1\n",
      "BPIC 17 (5) Numerical feature: day_in_week, Index position in categorical data list: 2\n",
      "BPIC 17 (5) Amount Category Lables: 1\n",
      "BPIC 17 (5) Numerical feature: seconds_in_day, Index position in categorical data list: 3\n",
      "BPIC 17 (5) Amount Category Lables: 1\n"
     ]
    }
   ],
   "source": [
    "# BPIC 17 Dataset Categories, Features:\n",
    "\n",
    "bpic_17_all_categories = BPIC_17_train_dataset.all_categories\n",
    "\n",
    "bpic_17_all_categories_cat = bpic_17_all_categories[0]\n",
    "print(bpic_17_all_categories_cat)\n",
    "\n",
    "bpic_17_all_categories_num = bpic_17_all_categories[1]\n",
    "print(bpic_17_all_categories_num)\n",
    "\n",
    "for i, cat in enumerate(bpic_17_all_categories_cat):\n",
    "     print(f\"BPIC 17 (5) Categorical feature: {cat[0]}, Index position in categorical data list: {i}\")\n",
    "     print(f\"BPIC 17 (5) Total Amount of Category labels: {cat[1]}\")\n",
    "print('\\n')    \n",
    "for i, num in enumerate(bpic_17_all_categories_num):\n",
    "     print(f\"BPIC 17 (5) Numerical feature: {num[0]}, Index position in categorical data list: {i}\")\n",
    "     print(f\"BPIC 17 (5) Amount Category Lables: {num[1]}\")"
   ]
  },
  {
   "cell_type": "markdown",
   "metadata": {},
   "source": [
    "### Input Features for Encoder and Decoder"
   ]
  },
  {
   "cell_type": "code",
   "execution_count": null,
   "metadata": {
    "execution": {
     "iopub.execute_input": "2025-05-25T15:17:11.029430Z",
     "iopub.status.busy": "2025-05-25T15:17:11.029346Z",
     "iopub.status.idle": "2025-05-25T15:17:11.031279Z",
     "shell.execute_reply": "2025-05-25T15:17:11.031101Z"
    }
   },
   "outputs": [
    {
     "name": "stdout",
     "output_type": "stream",
     "text": [
      "Input features encoder:  [['concept:name'], ['case_elapsed_time', 'event_elapsed_time', 'day_in_week', 'seconds_in_day']]\n",
      "Features decoder:  [['concept:name'], ['case_elapsed_time', 'event_elapsed_time', 'day_in_week', 'seconds_in_day']]\n"
     ]
    }
   ],
   "source": [
    "# Create lists with name of Encoder features (input) and decoder features (input & output)\n",
    "\n",
    "# Encoder features:\n",
    "enc_feat_cat = []\n",
    "enc_feat_num = []\n",
    "for cat in bpic_17_all_categories_cat:\n",
    "    enc_feat_cat.append(cat[0])\n",
    "for num in bpic_17_all_categories_num:\n",
    "    enc_feat_num.append(num[0])\n",
    "enc_feat = [enc_feat_cat, enc_feat_num]\n",
    "print(\"Input features encoder: \", enc_feat)\n",
    "\n",
    "# Decoder features:\n",
    "dec_feat_cat = enc_feat_cat\n",
    "dec_feat_num = ['case_elapsed_time', 'event_elapsed_time']\n",
    "dec_feat = [dec_feat_cat, dec_feat_num]\n",
    "print(\"Features decoder: \", dec_feat)"
   ]
  },
  {
   "cell_type": "markdown",
   "metadata": {},
   "source": [
    "# Model"
   ]
  },
  {
   "cell_type": "code",
   "execution_count": 5,
   "metadata": {
    "execution": {
     "iopub.execute_input": "2025-05-25T15:17:11.032043Z",
     "iopub.status.busy": "2025-05-25T15:17:11.031960Z",
     "iopub.status.idle": "2025-05-25T15:17:11.047062Z",
     "shell.execute_reply": "2025-05-25T15:17:11.046828Z"
    }
   },
   "outputs": [
    {
     "name": "stdout",
     "output_type": "stream",
     "text": [
      "Data set categories:  ([('concept:name', 9, {'ACKNOWLEDGEMENT': 1, 'CREATE_INVOICE': 2, 'DISASSEMBLY': 3, 'EOS': 4, 'QUALITY_CONTROL': 5, 'RECEPTION': 6, 'REPAIR': 7, 'SHIPPING': 8})], [('case_elapsed_time', 1, {}), ('event_elapsed_time', 1, {}), ('day_in_week', 1, {}), ('seconds_in_day', 1, {})])\n",
      "Encoder input features:  [['concept:name'], ['case_elapsed_time', 'event_elapsed_time', 'day_in_week', 'seconds_in_day']]\n",
      "Decoder input+output features:  [['concept:name'], ['case_elapsed_time', 'event_elapsed_time', 'day_in_week', 'seconds_in_day']]\n",
      "\n",
      "\n",
      "Sequence length of decoder output:  4\n",
      "\n",
      "\n",
      "Cells hidden size:  128\n",
      "Number of LSTM layer:  2\n",
      "Dropout rate:  0.1\n",
      "\n",
      "\n",
      "Encoder number of labels for each input feature (categorical, numerical):  [[9], [1, 1, 1, 1]]\n",
      "Encoder indices of tensors in dataset used as input:  [[0], [0, 1, 2, 3]]\n",
      "Embeddings encoder:  ModuleList(\n",
      "  (0): Embedding(9, 5)\n",
      ")\n",
      "Total embedding feature size encoder:  5\n",
      "Total numerical feature size encoder:  4\n",
      "Input feature size encoder:  9\n",
      "Encoder initialized! \n",
      "\n",
      "Decoder label values size for each categorical input feature:  [9]\n",
      "Decoder label values size for each numerical input feature:  [1, 1, 1, 1]\n",
      "Decoder indices of tensors in dataset used as input:  [[0], [0, 1, 2, 3]]\n",
      "Embeddings decoder:  ModuleList(\n",
      "  (0): Embedding(9, 5)\n",
      ")\n",
      "Total embedding feature size decoder:  5\n",
      "Total numerical feature size decoder:  4\n",
      "Input feature size decoder:  9\n",
      "Output feature list of dicts (featue name, feature output size) of decoder:  [{'concept:name': 9}, {'case_elapsed_time': 1, 'event_elapsed_time': 1, 'day_in_week': 1, 'seconds_in_day': 1}]\n",
      "Decoder initialized! \n",
      "\n",
      "Output feature list of dicts (featue name, tensor index in dataset) of decoder:  [{'concept:name': 0}, {'case_elapsed_time': 0, 'event_elapsed_time': 1, 'day_in_week': 2, 'seconds_in_day': 3}]\n"
     ]
    }
   ],
   "source": [
    "import model.dropout_uncertainty_enc_dec_LSTM.dropout_uncertainty_model\n",
    "importlib.reload(model.dropout_uncertainty_enc_dec_LSTM.dropout_uncertainty_model)\n",
    "from model.dropout_uncertainty_enc_dec_LSTM.dropout_uncertainty_model import DropoutUncertaintyEncoderDecoderLSTM\n",
    "\n",
    "# Prediction decoder output sequence length\n",
    "seq_len_pred = 4\n",
    "\n",
    "# Size hidden layer\n",
    "hidden_size = 128\n",
    "\n",
    "# Number of cells\n",
    "num_layers = 2\n",
    "\n",
    "# Fixed Dropout probability \n",
    "dropout = 0.1\n",
    "\n",
    "# Encoder Decoder model initialization\n",
    "model = DropoutUncertaintyEncoderDecoderLSTM(data_set_categories=bpic_17_all_categories,\n",
    "                                             enc_feat=enc_feat,\n",
    "                                             dec_feat=dec_feat,\n",
    "                                             seq_len_pred=seq_len_pred,\n",
    "                                             hidden_size=hidden_size,\n",
    "                                             num_layers=num_layers,\n",
    "                                             dropout=dropout)"
   ]
  },
  {
   "cell_type": "markdown",
   "metadata": {},
   "source": [
    "# Loss Object Creation"
   ]
  },
  {
   "cell_type": "code",
   "execution_count": 6,
   "metadata": {
    "execution": {
     "iopub.execute_input": "2025-05-25T15:17:11.047956Z",
     "iopub.status.busy": "2025-05-25T15:17:11.047796Z",
     "iopub.status.idle": "2025-05-25T15:17:11.049701Z",
     "shell.execute_reply": "2025-05-25T15:17:11.049531Z"
    }
   },
   "outputs": [],
   "source": [
    "import loss.losses\n",
    "importlib.reload(loss.losses)\n",
    "from loss.losses import Loss\n",
    "\n",
    "loss_obj = Loss()"
   ]
  },
  {
   "cell_type": "markdown",
   "metadata": {},
   "source": [
    "# Training Configuration"
   ]
  },
  {
   "cell_type": "code",
   "execution_count": 7,
   "metadata": {
    "execution": {
     "iopub.execute_input": "2025-05-25T15:17:11.050497Z",
     "iopub.status.busy": "2025-05-25T15:17:11.050420Z",
     "iopub.status.idle": "2025-05-25T16:13:43.316807Z",
     "shell.execute_reply": "2025-05-25T16:13:43.316245Z"
    }
   },
   "outputs": [
    {
     "name": "stdout",
     "output_type": "stream",
     "text": [
      "Device:  cuda\n",
      "Model:  DropoutUncertaintyEncoderDecoderLSTM(\n",
      "  (embeddings_enc): ModuleList(\n",
      "    (0): Embedding(9, 5)\n",
      "  )\n",
      "  (encoder): DropoutUncertaintyLSTMEncoder(\n",
      "    (embeddings): ModuleList(\n",
      "      (0): Embedding(9, 5)\n",
      "    )\n",
      "    (first_layer): DropoutUncertaintyLSTMCell(\n",
      "      (Wi): Linear(in_features=9, out_features=128, bias=True)\n",
      "      (Ui): Linear(in_features=128, out_features=128, bias=True)\n",
      "      (Wf): Linear(in_features=9, out_features=128, bias=True)\n",
      "      (Uf): Linear(in_features=128, out_features=128, bias=True)\n",
      "      (Wc): Linear(in_features=9, out_features=128, bias=True)\n",
      "      (Uc): Linear(in_features=128, out_features=128, bias=True)\n",
      "      (Wo): Linear(in_features=9, out_features=128, bias=True)\n",
      "      (Uo): Linear(in_features=128, out_features=128, bias=True)\n",
      "    )\n",
      "    (hidden_layers): ModuleList(\n",
      "      (0): DropoutUncertaintyLSTMCell(\n",
      "        (Wi): Linear(in_features=128, out_features=128, bias=True)\n",
      "        (Ui): Linear(in_features=128, out_features=128, bias=True)\n",
      "        (Wf): Linear(in_features=128, out_features=128, bias=True)\n",
      "        (Uf): Linear(in_features=128, out_features=128, bias=True)\n",
      "        (Wc): Linear(in_features=128, out_features=128, bias=True)\n",
      "        (Uc): Linear(in_features=128, out_features=128, bias=True)\n",
      "        (Wo): Linear(in_features=128, out_features=128, bias=True)\n",
      "        (Uo): Linear(in_features=128, out_features=128, bias=True)\n",
      "      )\n",
      "    )\n",
      "  )\n",
      "  (embeddings_dec): ModuleList(\n",
      "    (0): Embedding(9, 5)\n",
      "  )\n",
      "  (decoder): DropoutUncertaintyLSTMDecoder(\n",
      "    (embeddings): ModuleList(\n",
      "      (0): Embedding(9, 5)\n",
      "    )\n",
      "    (first_layer): DropoutUncertaintyLSTMCell(\n",
      "      (Wi): Linear(in_features=9, out_features=128, bias=True)\n",
      "      (Ui): Linear(in_features=128, out_features=128, bias=True)\n",
      "      (Wf): Linear(in_features=9, out_features=128, bias=True)\n",
      "      (Uf): Linear(in_features=128, out_features=128, bias=True)\n",
      "      (Wc): Linear(in_features=9, out_features=128, bias=True)\n",
      "      (Uc): Linear(in_features=128, out_features=128, bias=True)\n",
      "      (Wo): Linear(in_features=9, out_features=128, bias=True)\n",
      "      (Uo): Linear(in_features=128, out_features=128, bias=True)\n",
      "    )\n",
      "    (hidden_layers): ModuleList(\n",
      "      (0): DropoutUncertaintyLSTMCell(\n",
      "        (Wi): Linear(in_features=128, out_features=128, bias=True)\n",
      "        (Ui): Linear(in_features=128, out_features=128, bias=True)\n",
      "        (Wf): Linear(in_features=128, out_features=128, bias=True)\n",
      "        (Uf): Linear(in_features=128, out_features=128, bias=True)\n",
      "        (Wc): Linear(in_features=128, out_features=128, bias=True)\n",
      "        (Uc): Linear(in_features=128, out_features=128, bias=True)\n",
      "        (Wo): Linear(in_features=128, out_features=128, bias=True)\n",
      "        (Uo): Linear(in_features=128, out_features=128, bias=True)\n",
      "      )\n",
      "    )\n",
      "    (output_layers): ModuleDict(\n",
      "      (concept:name_mean): Linear(in_features=128, out_features=9, bias=True)\n",
      "      (concept:name_var): Linear(in_features=128, out_features=9, bias=True)\n",
      "      (case_elapsed_time_mean): Linear(in_features=128, out_features=1, bias=True)\n",
      "      (case_elapsed_time_var): Linear(in_features=128, out_features=1, bias=True)\n",
      "      (event_elapsed_time_mean): Linear(in_features=128, out_features=1, bias=True)\n",
      "      (event_elapsed_time_var): Linear(in_features=128, out_features=1, bias=True)\n",
      "      (day_in_week_mean): Linear(in_features=128, out_features=1, bias=True)\n",
      "      (day_in_week_var): Linear(in_features=128, out_features=1, bias=True)\n",
      "      (seconds_in_day_mean): Linear(in_features=128, out_features=1, bias=True)\n",
      "      (seconds_in_day_var): Linear(in_features=128, out_features=1, bias=True)\n",
      "    )\n",
      "  )\n",
      ")\n",
      "Train Dataset:  <event_log_loader.new_event_log_loader.EventLogDataset object at 0x7fcdd729cc20>\n",
      "Validation Dataset:  <event_log_loader.new_event_log_loader.EventLogDataset object at 0x7fcdd6ce1590>\n",
      "Loss object for method calling:  <loss.losses.Loss object at 0x7fcdd5bbd160>\n",
      "Num. feautures that follow log-normal PDF:  []\n",
      "regularization:  0.001953125\n",
      "Optimizer:  Adam (\n",
      "Parameter Group 0\n",
      "    amsgrad: False\n",
      "    betas: (0.9, 0.999)\n",
      "    capturable: False\n",
      "    differentiable: False\n",
      "    eps: 1e-08\n",
      "    foreach: None\n",
      "    fused: None\n",
      "    lr: 1e-06\n",
      "    maximize: False\n",
      "    weight_decay: 0\n",
      ")\n",
      "Scheduler:  <torch.optim.lr_scheduler.ReduceLROnPlateau object at 0x7fcdce26ecf0>\n",
      "Epochs:  200\n",
      "Mini baches:  256\n",
      "Shuffle batched dataset:  True\n",
      "Teacher forcing ratio:  0.8\n",
      "Use GradNorm:  False\n"
     ]
    },
    {
     "data": {
      "application/vnd.jupyter.widget-view+json": {
       "model_id": "20dc00d13b0a40aa9f82741caa7ee61f",
       "version_major": 2,
       "version_minor": 0
      },
      "text/plain": [
       "  0%|          | 0/200 [00:00<?, ?it/s]"
      ]
     },
     "metadata": {},
     "output_type": "display_data"
    },
    {
     "name": "stdout",
     "output_type": "stream",
     "text": [
      "Epoch [1/200], Learning Rate: 1e-06, Teacher forcing ratio: 0.8\n",
      "Training: Avg Attenuated Training Loss: 4.9030\n"
     ]
    },
    {
     "name": "stdout",
     "output_type": "stream",
     "text": [
      "Validation: Avg Standard Validation Loss: 6.6896\n",
      "Validation: Avg Attenuated Validation Loss: 4.8581\n",
      "Validation Loss for Scheduler: 6.6896\n",
      "saving model\n"
     ]
    },
    {
     "name": "stdout",
     "output_type": "stream",
     "text": [
      "Epoch [2/200], Learning Rate: 1e-06, Teacher forcing ratio: 0.8\n",
      "Training: Avg Attenuated Training Loss: 4.8995\n"
     ]
    },
    {
     "name": "stdout",
     "output_type": "stream",
     "text": [
      "Validation: Avg Standard Validation Loss: 6.7147\n",
      "Validation: Avg Attenuated Validation Loss: 4.8694\n",
      "Validation Loss for Scheduler: 6.7147\n",
      "saving model\n"
     ]
    },
    {
     "name": "stdout",
     "output_type": "stream",
     "text": [
      "Epoch [3/200], Learning Rate: 1e-06, Teacher forcing ratio: 0.8\n",
      "Training: Avg Attenuated Training Loss: 4.8957\n"
     ]
    },
    {
     "name": "stdout",
     "output_type": "stream",
     "text": [
      "Validation: Avg Standard Validation Loss: 6.6710\n",
      "Validation: Avg Attenuated Validation Loss: 4.8466\n",
      "Validation Loss for Scheduler: 6.6710\n",
      "saving model\n"
     ]
    },
    {
     "name": "stdout",
     "output_type": "stream",
     "text": [
      "Epoch [4/200], Learning Rate: 1e-06, Teacher forcing ratio: 0.8\n",
      "Training: Avg Attenuated Training Loss: 4.8925\n"
     ]
    },
    {
     "name": "stdout",
     "output_type": "stream",
     "text": [
      "Validation: Avg Standard Validation Loss: 6.6888\n",
      "Validation: Avg Attenuated Validation Loss: 4.8548\n",
      "Validation Loss for Scheduler: 6.6888\n",
      "saving model\n"
     ]
    },
    {
     "name": "stdout",
     "output_type": "stream",
     "text": [
      "Epoch [5/200], Learning Rate: 1e-06, Teacher forcing ratio: 0.8\n",
      "Training: Avg Attenuated Training Loss: 4.8893\n"
     ]
    },
    {
     "name": "stdout",
     "output_type": "stream",
     "text": [
      "Validation: Avg Standard Validation Loss: 6.7192\n",
      "Validation: Avg Attenuated Validation Loss: 4.8684\n",
      "Validation Loss for Scheduler: 6.7192\n",
      "saving model\n"
     ]
    },
    {
     "name": "stdout",
     "output_type": "stream",
     "text": [
      "Epoch [6/200], Learning Rate: 1e-06, Teacher forcing ratio: 0.8\n",
      "Training: Avg Attenuated Training Loss: 4.8846\n"
     ]
    },
    {
     "name": "stdout",
     "output_type": "stream",
     "text": [
      "Validation: Avg Standard Validation Loss: 6.6978\n",
      "Validation: Avg Attenuated Validation Loss: 4.8551\n",
      "Validation Loss for Scheduler: 6.6978\n",
      "saving model\n"
     ]
    },
    {
     "name": "stdout",
     "output_type": "stream",
     "text": [
      "Epoch [7/200], Learning Rate: 1e-07, Teacher forcing ratio: 0.8\n",
      "Training: Avg Attenuated Training Loss: 4.8835\n"
     ]
    },
    {
     "name": "stdout",
     "output_type": "stream",
     "text": [
      "Validation: Avg Standard Validation Loss: 6.7332\n",
      "Validation: Avg Attenuated Validation Loss: 4.8740\n",
      "Validation Loss for Scheduler: 6.7332\n",
      "saving model\n"
     ]
    },
    {
     "name": "stdout",
     "output_type": "stream",
     "text": [
      "Epoch [8/200], Learning Rate: 1e-07, Teacher forcing ratio: 0.8\n",
      "Training: Avg Attenuated Training Loss: 4.8830\n"
     ]
    },
    {
     "name": "stdout",
     "output_type": "stream",
     "text": [
      "Validation: Avg Standard Validation Loss: 6.7245\n",
      "Validation: Avg Attenuated Validation Loss: 4.8676\n",
      "Validation Loss for Scheduler: 6.7245\n",
      "saving model\n"
     ]
    },
    {
     "name": "stdout",
     "output_type": "stream",
     "text": [
      "Epoch [9/200], Learning Rate: 1e-07, Teacher forcing ratio: 0.8\n",
      "Training: Avg Attenuated Training Loss: 4.8834\n"
     ]
    },
    {
     "name": "stdout",
     "output_type": "stream",
     "text": [
      "Validation: Avg Standard Validation Loss: 6.7051\n",
      "Validation: Avg Attenuated Validation Loss: 4.8584\n",
      "Validation Loss for Scheduler: 6.7051\n",
      "saving model\n"
     ]
    },
    {
     "name": "stdout",
     "output_type": "stream",
     "text": [
      "Epoch [10/200], Learning Rate: 1e-08, Teacher forcing ratio: 0.8\n",
      "Training: Avg Attenuated Training Loss: 4.8829\n"
     ]
    },
    {
     "name": "stdout",
     "output_type": "stream",
     "text": [
      "Validation: Avg Standard Validation Loss: 6.7503\n",
      "Validation: Avg Attenuated Validation Loss: 4.8821\n",
      "Validation Loss for Scheduler: 6.7503\n",
      "saving model\n"
     ]
    },
    {
     "name": "stdout",
     "output_type": "stream",
     "text": [
      "Epoch [11/200], Learning Rate: 1e-08, Teacher forcing ratio: 0.8\n",
      "Training: Avg Attenuated Training Loss: 4.8834\n"
     ]
    },
    {
     "name": "stdout",
     "output_type": "stream",
     "text": [
      "Validation: Avg Standard Validation Loss: 6.6779\n",
      "Validation: Avg Attenuated Validation Loss: 4.8455\n",
      "Validation Loss for Scheduler: 6.6779\n",
      "saving model\n"
     ]
    },
    {
     "name": "stdout",
     "output_type": "stream",
     "text": [
      "Epoch [12/200], Learning Rate: 1e-08, Teacher forcing ratio: 0.8\n",
      "Training: Avg Attenuated Training Loss: 4.8829\n"
     ]
    },
    {
     "name": "stdout",
     "output_type": "stream",
     "text": [
      "Validation: Avg Standard Validation Loss: 6.7070\n",
      "Validation: Avg Attenuated Validation Loss: 4.8583\n",
      "Validation Loss for Scheduler: 6.7070\n",
      "saving model\n"
     ]
    },
    {
     "name": "stdout",
     "output_type": "stream",
     "text": [
      "Epoch [13/200], Learning Rate: 1e-08, Teacher forcing ratio: 0.8\n",
      "Training: Avg Attenuated Training Loss: 4.8830\n"
     ]
    },
    {
     "name": "stdout",
     "output_type": "stream",
     "text": [
      "Validation: Avg Standard Validation Loss: 6.6592\n",
      "Validation: Avg Attenuated Validation Loss: 4.8351\n",
      "Validation Loss for Scheduler: 6.6592\n",
      "saving model\n"
     ]
    },
    {
     "name": "stdout",
     "output_type": "stream",
     "text": [
      "Epoch [14/200], Learning Rate: 1e-08, Teacher forcing ratio: 0.8\n",
      "Training: Avg Attenuated Training Loss: 4.8829\n"
     ]
    },
    {
     "name": "stdout",
     "output_type": "stream",
     "text": [
      "Validation: Avg Standard Validation Loss: 6.6702\n",
      "Validation: Avg Attenuated Validation Loss: 4.8408\n",
      "Validation Loss for Scheduler: 6.6702\n",
      "saving model\n"
     ]
    },
    {
     "name": "stdout",
     "output_type": "stream",
     "text": [
      "Epoch [15/200], Learning Rate: 1e-08, Teacher forcing ratio: 0.8\n",
      "Training: Avg Attenuated Training Loss: 4.8831\n"
     ]
    },
    {
     "name": "stdout",
     "output_type": "stream",
     "text": [
      "Validation: Avg Standard Validation Loss: 6.7175\n",
      "Validation: Avg Attenuated Validation Loss: 4.8640\n",
      "Validation Loss for Scheduler: 6.7175\n",
      "saving model\n"
     ]
    },
    {
     "name": "stdout",
     "output_type": "stream",
     "text": [
      "Epoch [16/200], Learning Rate: 1e-08, Teacher forcing ratio: 0.8\n",
      "Training: Avg Attenuated Training Loss: 4.8828\n"
     ]
    },
    {
     "name": "stdout",
     "output_type": "stream",
     "text": [
      "Validation: Avg Standard Validation Loss: 6.6953\n",
      "Validation: Avg Attenuated Validation Loss: 4.8508\n",
      "Validation Loss for Scheduler: 6.6953\n",
      "saving model\n"
     ]
    },
    {
     "name": "stdout",
     "output_type": "stream",
     "text": [
      "Epoch [17/200], Learning Rate: 1e-08, Teacher forcing ratio: 0.8\n",
      "Training: Avg Attenuated Training Loss: 4.8824\n"
     ]
    },
    {
     "name": "stdout",
     "output_type": "stream",
     "text": [
      "Validation: Avg Standard Validation Loss: 6.6987\n",
      "Validation: Avg Attenuated Validation Loss: 4.8542\n",
      "Validation Loss for Scheduler: 6.6987\n",
      "saving model\n"
     ]
    },
    {
     "name": "stdout",
     "output_type": "stream",
     "text": [
      "Epoch [18/200], Learning Rate: 1e-08, Teacher forcing ratio: 0.8\n",
      "Training: Avg Attenuated Training Loss: 4.8821\n"
     ]
    },
    {
     "name": "stdout",
     "output_type": "stream",
     "text": [
      "Validation: Avg Standard Validation Loss: 6.6968\n",
      "Validation: Avg Attenuated Validation Loss: 4.8519\n",
      "Validation Loss for Scheduler: 6.6968\n",
      "saving model\n"
     ]
    },
    {
     "name": "stdout",
     "output_type": "stream",
     "text": [
      "Epoch [19/200], Learning Rate: 1e-08, Teacher forcing ratio: 0.8\n",
      "Training: Avg Attenuated Training Loss: 4.8831\n"
     ]
    },
    {
     "name": "stdout",
     "output_type": "stream",
     "text": [
      "Validation: Avg Standard Validation Loss: 6.7226\n",
      "Validation: Avg Attenuated Validation Loss: 4.8663\n",
      "Validation Loss for Scheduler: 6.7226\n",
      "saving model\n"
     ]
    },
    {
     "name": "stdout",
     "output_type": "stream",
     "text": [
      "Epoch [20/200], Learning Rate: 1e-08, Teacher forcing ratio: 0.8\n",
      "Training: Avg Attenuated Training Loss: 4.8822\n"
     ]
    },
    {
     "name": "stdout",
     "output_type": "stream",
     "text": [
      "Validation: Avg Standard Validation Loss: 6.6579\n",
      "Validation: Avg Attenuated Validation Loss: 4.8341\n",
      "Validation Loss for Scheduler: 6.6579\n",
      "saving model\n"
     ]
    },
    {
     "name": "stdout",
     "output_type": "stream",
     "text": [
      "Epoch [21/200], Learning Rate: 1e-08, Teacher forcing ratio: 0.8\n",
      "Training: Avg Attenuated Training Loss: 4.8828\n"
     ]
    },
    {
     "name": "stdout",
     "output_type": "stream",
     "text": [
      "Validation: Avg Standard Validation Loss: 6.6628\n",
      "Validation: Avg Attenuated Validation Loss: 4.8363\n",
      "Validation Loss for Scheduler: 6.6628\n",
      "saving model\n"
     ]
    },
    {
     "name": "stdout",
     "output_type": "stream",
     "text": [
      "Epoch [22/200], Learning Rate: 1e-08, Teacher forcing ratio: 0.8\n",
      "Training: Avg Attenuated Training Loss: 4.8815\n"
     ]
    },
    {
     "name": "stdout",
     "output_type": "stream",
     "text": [
      "Validation: Avg Standard Validation Loss: 6.6884\n",
      "Validation: Avg Attenuated Validation Loss: 4.8493\n",
      "Validation Loss for Scheduler: 6.6884\n",
      "saving model\n"
     ]
    },
    {
     "name": "stdout",
     "output_type": "stream",
     "text": [
      "Epoch [23/200], Learning Rate: 1e-08, Teacher forcing ratio: 0.8\n",
      "Training: Avg Attenuated Training Loss: 4.8824\n"
     ]
    },
    {
     "name": "stdout",
     "output_type": "stream",
     "text": [
      "Validation: Avg Standard Validation Loss: 6.7023\n",
      "Validation: Avg Attenuated Validation Loss: 4.8565\n",
      "Validation Loss for Scheduler: 6.7023\n",
      "saving model\n"
     ]
    },
    {
     "name": "stdout",
     "output_type": "stream",
     "text": [
      "Epoch [24/200], Learning Rate: 1e-08, Teacher forcing ratio: 0.8\n",
      "Training: Avg Attenuated Training Loss: 4.8822\n"
     ]
    },
    {
     "name": "stdout",
     "output_type": "stream",
     "text": [
      "Validation: Avg Standard Validation Loss: 6.6538\n",
      "Validation: Avg Attenuated Validation Loss: 4.8314\n",
      "Validation Loss for Scheduler: 6.6538\n",
      "saving model\n"
     ]
    },
    {
     "name": "stdout",
     "output_type": "stream",
     "text": [
      "Epoch [25/200], Learning Rate: 1e-08, Teacher forcing ratio: 0.8\n",
      "Training: Avg Attenuated Training Loss: 4.8828\n"
     ]
    },
    {
     "name": "stdout",
     "output_type": "stream",
     "text": [
      "Validation: Avg Standard Validation Loss: 6.6839\n",
      "Validation: Avg Attenuated Validation Loss: 4.8477\n",
      "Validation Loss for Scheduler: 6.6839\n",
      "saving model\n"
     ]
    },
    {
     "name": "stdout",
     "output_type": "stream",
     "text": [
      "Epoch [26/200], Learning Rate: 1e-08, Teacher forcing ratio: 0.8\n",
      "Training: Avg Attenuated Training Loss: 4.8822\n"
     ]
    },
    {
     "name": "stdout",
     "output_type": "stream",
     "text": [
      "Validation: Avg Standard Validation Loss: 6.7054\n",
      "Validation: Avg Attenuated Validation Loss: 4.8590\n",
      "Validation Loss for Scheduler: 6.7054\n",
      "saving model\n"
     ]
    },
    {
     "name": "stdout",
     "output_type": "stream",
     "text": [
      "Epoch [27/200], Learning Rate: 1e-08, Teacher forcing ratio: 0.8\n",
      "Training: Avg Attenuated Training Loss: 4.8819\n"
     ]
    },
    {
     "name": "stdout",
     "output_type": "stream",
     "text": [
      "Validation: Avg Standard Validation Loss: 6.6717\n",
      "Validation: Avg Attenuated Validation Loss: 4.8401\n",
      "Validation Loss for Scheduler: 6.6717\n",
      "saving model\n"
     ]
    },
    {
     "name": "stdout",
     "output_type": "stream",
     "text": [
      "Epoch [28/200], Learning Rate: 1e-08, Teacher forcing ratio: 0.8\n",
      "Training: Avg Attenuated Training Loss: 4.8819\n"
     ]
    },
    {
     "name": "stdout",
     "output_type": "stream",
     "text": [
      "Validation: Avg Standard Validation Loss: 6.6706\n",
      "Validation: Avg Attenuated Validation Loss: 4.8394\n",
      "Validation Loss for Scheduler: 6.6706\n",
      "saving model\n"
     ]
    },
    {
     "name": "stdout",
     "output_type": "stream",
     "text": [
      "Epoch [29/200], Learning Rate: 1e-08, Teacher forcing ratio: 0.8\n",
      "Training: Avg Attenuated Training Loss: 4.8826\n"
     ]
    },
    {
     "name": "stdout",
     "output_type": "stream",
     "text": [
      "Validation: Avg Standard Validation Loss: 6.7191\n",
      "Validation: Avg Attenuated Validation Loss: 4.8657\n",
      "Validation Loss for Scheduler: 6.7191\n",
      "saving model\n"
     ]
    },
    {
     "name": "stdout",
     "output_type": "stream",
     "text": [
      "Epoch [30/200], Learning Rate: 1e-08, Teacher forcing ratio: 0.8\n",
      "Training: Avg Attenuated Training Loss: 4.8821\n"
     ]
    },
    {
     "name": "stdout",
     "output_type": "stream",
     "text": [
      "Validation: Avg Standard Validation Loss: 6.6887\n",
      "Validation: Avg Attenuated Validation Loss: 4.8500\n",
      "Validation Loss for Scheduler: 6.6887\n",
      "saving model\n"
     ]
    },
    {
     "name": "stdout",
     "output_type": "stream",
     "text": [
      "Epoch [31/200], Learning Rate: 1e-08, Teacher forcing ratio: 0.8\n",
      "Training: Avg Attenuated Training Loss: 4.8819\n"
     ]
    },
    {
     "name": "stdout",
     "output_type": "stream",
     "text": [
      "Validation: Avg Standard Validation Loss: 6.6896\n",
      "Validation: Avg Attenuated Validation Loss: 4.8495\n",
      "Validation Loss for Scheduler: 6.6896\n",
      "saving model\n"
     ]
    },
    {
     "name": "stdout",
     "output_type": "stream",
     "text": [
      "Epoch [32/200], Learning Rate: 1e-08, Teacher forcing ratio: 0.8\n",
      "Training: Avg Attenuated Training Loss: 4.8817\n"
     ]
    },
    {
     "name": "stdout",
     "output_type": "stream",
     "text": [
      "Validation: Avg Standard Validation Loss: 6.6789\n",
      "Validation: Avg Attenuated Validation Loss: 4.8441\n",
      "Validation Loss for Scheduler: 6.6789\n",
      "saving model\n"
     ]
    },
    {
     "name": "stdout",
     "output_type": "stream",
     "text": [
      "Epoch [33/200], Learning Rate: 1e-08, Teacher forcing ratio: 0.8\n",
      "Training: Avg Attenuated Training Loss: 4.8816\n"
     ]
    },
    {
     "name": "stdout",
     "output_type": "stream",
     "text": [
      "Validation: Avg Standard Validation Loss: 6.6730\n",
      "Validation: Avg Attenuated Validation Loss: 4.8408\n",
      "Validation Loss for Scheduler: 6.6730\n",
      "saving model\n"
     ]
    },
    {
     "name": "stdout",
     "output_type": "stream",
     "text": [
      "Epoch [34/200], Learning Rate: 1e-08, Teacher forcing ratio: 0.8\n",
      "Training: Avg Attenuated Training Loss: 4.8819\n"
     ]
    },
    {
     "name": "stdout",
     "output_type": "stream",
     "text": [
      "Validation: Avg Standard Validation Loss: 6.6912\n",
      "Validation: Avg Attenuated Validation Loss: 4.8524\n",
      "Validation Loss for Scheduler: 6.6912\n",
      "saving model\n"
     ]
    },
    {
     "name": "stdout",
     "output_type": "stream",
     "text": [
      "Epoch [35/200], Learning Rate: 1e-08, Teacher forcing ratio: 0.8\n",
      "Training: Avg Attenuated Training Loss: 4.8819\n"
     ]
    },
    {
     "name": "stdout",
     "output_type": "stream",
     "text": [
      "Validation: Avg Standard Validation Loss: 6.6937\n",
      "Validation: Avg Attenuated Validation Loss: 4.8535\n",
      "Validation Loss for Scheduler: 6.6937\n",
      "saving model\n"
     ]
    },
    {
     "name": "stdout",
     "output_type": "stream",
     "text": [
      "Epoch [36/200], Learning Rate: 1e-08, Teacher forcing ratio: 0.8\n",
      "Training: Avg Attenuated Training Loss: 4.8816\n"
     ]
    },
    {
     "name": "stdout",
     "output_type": "stream",
     "text": [
      "Validation: Avg Standard Validation Loss: 6.6604\n",
      "Validation: Avg Attenuated Validation Loss: 4.8349\n",
      "Validation Loss for Scheduler: 6.6604\n",
      "saving model\n"
     ]
    },
    {
     "name": "stdout",
     "output_type": "stream",
     "text": [
      "Epoch [37/200], Learning Rate: 1e-08, Teacher forcing ratio: 0.8\n",
      "Training: Avg Attenuated Training Loss: 4.8815\n"
     ]
    },
    {
     "name": "stdout",
     "output_type": "stream",
     "text": [
      "Validation: Avg Standard Validation Loss: 6.7071\n",
      "Validation: Avg Attenuated Validation Loss: 4.8575\n",
      "Validation Loss for Scheduler: 6.7071\n",
      "saving model\n"
     ]
    },
    {
     "name": "stdout",
     "output_type": "stream",
     "text": [
      "Epoch [38/200], Learning Rate: 1e-08, Teacher forcing ratio: 0.8\n",
      "Training: Avg Attenuated Training Loss: 4.8816\n"
     ]
    },
    {
     "name": "stdout",
     "output_type": "stream",
     "text": [
      "Validation: Avg Standard Validation Loss: 6.6866\n",
      "Validation: Avg Attenuated Validation Loss: 4.8479\n",
      "Validation Loss for Scheduler: 6.6866\n",
      "saving model\n"
     ]
    },
    {
     "name": "stdout",
     "output_type": "stream",
     "text": [
      "Epoch [39/200], Learning Rate: 1e-08, Teacher forcing ratio: 0.8\n",
      "Training: Avg Attenuated Training Loss: 4.8821\n"
     ]
    },
    {
     "name": "stdout",
     "output_type": "stream",
     "text": [
      "Validation: Avg Standard Validation Loss: 6.7052\n",
      "Validation: Avg Attenuated Validation Loss: 4.8580\n",
      "Validation Loss for Scheduler: 6.7052\n",
      "saving model\n"
     ]
    },
    {
     "name": "stdout",
     "output_type": "stream",
     "text": [
      "Epoch [40/200], Learning Rate: 1e-08, Teacher forcing ratio: 0.8\n",
      "Training: Avg Attenuated Training Loss: 4.8819\n"
     ]
    },
    {
     "name": "stdout",
     "output_type": "stream",
     "text": [
      "Validation: Avg Standard Validation Loss: 6.7071\n",
      "Validation: Avg Attenuated Validation Loss: 4.8586\n",
      "Validation Loss for Scheduler: 6.7071\n",
      "saving model\n"
     ]
    },
    {
     "name": "stdout",
     "output_type": "stream",
     "text": [
      "Epoch [41/200], Learning Rate: 1e-08, Teacher forcing ratio: 0.768\n",
      "Training: Avg Attenuated Training Loss: 4.8817\n"
     ]
    },
    {
     "name": "stdout",
     "output_type": "stream",
     "text": [
      "Validation: Avg Standard Validation Loss: 6.6809\n",
      "Validation: Avg Attenuated Validation Loss: 4.8445\n",
      "Validation Loss for Scheduler: 6.6809\n",
      "saving model\n"
     ]
    },
    {
     "name": "stdout",
     "output_type": "stream",
     "text": [
      "Epoch [42/200], Learning Rate: 1e-08, Teacher forcing ratio: 0.768\n",
      "Training: Avg Attenuated Training Loss: 4.8816\n"
     ]
    },
    {
     "name": "stdout",
     "output_type": "stream",
     "text": [
      "Validation: Avg Standard Validation Loss: 6.6985\n",
      "Validation: Avg Attenuated Validation Loss: 4.8541\n",
      "Validation Loss for Scheduler: 6.6985\n",
      "saving model\n"
     ]
    },
    {
     "name": "stdout",
     "output_type": "stream",
     "text": [
      "Epoch [43/200], Learning Rate: 1e-08, Teacher forcing ratio: 0.768\n",
      "Training: Avg Attenuated Training Loss: 4.8820\n"
     ]
    },
    {
     "name": "stdout",
     "output_type": "stream",
     "text": [
      "Validation: Avg Standard Validation Loss: 6.6552\n",
      "Validation: Avg Attenuated Validation Loss: 4.8318\n",
      "Validation Loss for Scheduler: 6.6552\n",
      "saving model\n"
     ]
    },
    {
     "name": "stdout",
     "output_type": "stream",
     "text": [
      "Epoch [44/200], Learning Rate: 1e-08, Teacher forcing ratio: 0.768\n",
      "Training: Avg Attenuated Training Loss: 4.8815\n"
     ]
    },
    {
     "name": "stdout",
     "output_type": "stream",
     "text": [
      "Validation: Avg Standard Validation Loss: 6.6962\n",
      "Validation: Avg Attenuated Validation Loss: 4.8530\n",
      "Validation Loss for Scheduler: 6.6962\n",
      "saving model\n"
     ]
    },
    {
     "name": "stdout",
     "output_type": "stream",
     "text": [
      "Epoch [45/200], Learning Rate: 1e-08, Teacher forcing ratio: 0.768\n",
      "Training: Avg Attenuated Training Loss: 4.8810\n"
     ]
    },
    {
     "name": "stdout",
     "output_type": "stream",
     "text": [
      "Validation: Avg Standard Validation Loss: 6.6521\n",
      "Validation: Avg Attenuated Validation Loss: 4.8299\n",
      "Validation Loss for Scheduler: 6.6521\n",
      "saving model\n"
     ]
    },
    {
     "name": "stdout",
     "output_type": "stream",
     "text": [
      "Epoch [46/200], Learning Rate: 1e-08, Teacher forcing ratio: 0.768\n",
      "Training: Avg Attenuated Training Loss: 4.8810\n"
     ]
    },
    {
     "name": "stdout",
     "output_type": "stream",
     "text": [
      "Validation: Avg Standard Validation Loss: 6.6615\n",
      "Validation: Avg Attenuated Validation Loss: 4.8348\n",
      "Validation Loss for Scheduler: 6.6615\n",
      "saving model\n"
     ]
    },
    {
     "name": "stdout",
     "output_type": "stream",
     "text": [
      "Epoch [47/200], Learning Rate: 1e-08, Teacher forcing ratio: 0.768\n",
      "Training: Avg Attenuated Training Loss: 4.8818\n"
     ]
    },
    {
     "name": "stdout",
     "output_type": "stream",
     "text": [
      "Validation: Avg Standard Validation Loss: 6.7024\n",
      "Validation: Avg Attenuated Validation Loss: 4.8555\n",
      "Validation Loss for Scheduler: 6.7024\n",
      "saving model\n"
     ]
    },
    {
     "name": "stdout",
     "output_type": "stream",
     "text": [
      "Epoch [48/200], Learning Rate: 1e-08, Teacher forcing ratio: 0.768\n",
      "Training: Avg Attenuated Training Loss: 4.8809\n"
     ]
    },
    {
     "name": "stdout",
     "output_type": "stream",
     "text": [
      "Validation: Avg Standard Validation Loss: 6.6745\n",
      "Validation: Avg Attenuated Validation Loss: 4.8417\n",
      "Validation Loss for Scheduler: 6.6745\n",
      "saving model\n"
     ]
    },
    {
     "name": "stdout",
     "output_type": "stream",
     "text": [
      "Epoch [49/200], Learning Rate: 1e-08, Teacher forcing ratio: 0.768\n",
      "Training: Avg Attenuated Training Loss: 4.8815\n"
     ]
    },
    {
     "name": "stdout",
     "output_type": "stream",
     "text": [
      "Validation: Avg Standard Validation Loss: 6.6736\n",
      "Validation: Avg Attenuated Validation Loss: 4.8407\n",
      "Validation Loss for Scheduler: 6.6736\n",
      "saving model\n"
     ]
    },
    {
     "name": "stdout",
     "output_type": "stream",
     "text": [
      "Epoch [50/200], Learning Rate: 1e-08, Teacher forcing ratio: 0.768\n",
      "Training: Avg Attenuated Training Loss: 4.8813\n"
     ]
    },
    {
     "name": "stdout",
     "output_type": "stream",
     "text": [
      "Validation: Avg Standard Validation Loss: 6.6617\n",
      "Validation: Avg Attenuated Validation Loss: 4.8343\n",
      "Validation Loss for Scheduler: 6.6617\n",
      "saving model\n"
     ]
    },
    {
     "name": "stdout",
     "output_type": "stream",
     "text": [
      "Epoch [51/200], Learning Rate: 1e-08, Teacher forcing ratio: 0.768\n",
      "Training: Avg Attenuated Training Loss: 4.8812\n"
     ]
    },
    {
     "name": "stdout",
     "output_type": "stream",
     "text": [
      "Validation: Avg Standard Validation Loss: 6.6945\n",
      "Validation: Avg Attenuated Validation Loss: 4.8528\n",
      "Validation Loss for Scheduler: 6.6945\n",
      "saving model\n"
     ]
    },
    {
     "name": "stdout",
     "output_type": "stream",
     "text": [
      "Epoch [52/200], Learning Rate: 1e-08, Teacher forcing ratio: 0.768\n",
      "Training: Avg Attenuated Training Loss: 4.8820\n"
     ]
    },
    {
     "name": "stdout",
     "output_type": "stream",
     "text": [
      "Validation: Avg Standard Validation Loss: 6.6830\n",
      "Validation: Avg Attenuated Validation Loss: 4.8457\n",
      "Validation Loss for Scheduler: 6.6830\n",
      "saving model\n"
     ]
    },
    {
     "name": "stdout",
     "output_type": "stream",
     "text": [
      "Epoch [53/200], Learning Rate: 1e-08, Teacher forcing ratio: 0.768\n",
      "Training: Avg Attenuated Training Loss: 4.8814\n"
     ]
    },
    {
     "name": "stdout",
     "output_type": "stream",
     "text": [
      "Validation: Avg Standard Validation Loss: 6.6812\n",
      "Validation: Avg Attenuated Validation Loss: 4.8452\n",
      "Validation Loss for Scheduler: 6.6812\n",
      "saving model\n"
     ]
    },
    {
     "name": "stdout",
     "output_type": "stream",
     "text": [
      "Epoch [54/200], Learning Rate: 1e-08, Teacher forcing ratio: 0.768\n",
      "Training: Avg Attenuated Training Loss: 4.8814\n"
     ]
    },
    {
     "name": "stdout",
     "output_type": "stream",
     "text": [
      "Validation: Avg Standard Validation Loss: 6.7597\n",
      "Validation: Avg Attenuated Validation Loss: 4.8850\n",
      "Validation Loss for Scheduler: 6.7597\n",
      "saving model\n"
     ]
    },
    {
     "name": "stdout",
     "output_type": "stream",
     "text": [
      "Epoch [55/200], Learning Rate: 1e-08, Teacher forcing ratio: 0.768\n",
      "Training: Avg Attenuated Training Loss: 4.8814\n"
     ]
    },
    {
     "name": "stdout",
     "output_type": "stream",
     "text": [
      "Validation: Avg Standard Validation Loss: 6.6903\n",
      "Validation: Avg Attenuated Validation Loss: 4.8518\n",
      "Validation Loss for Scheduler: 6.6903\n",
      "saving model\n"
     ]
    },
    {
     "name": "stdout",
     "output_type": "stream",
     "text": [
      "Epoch [56/200], Learning Rate: 1e-08, Teacher forcing ratio: 0.768\n",
      "Training: Avg Attenuated Training Loss: 4.8811\n"
     ]
    },
    {
     "name": "stdout",
     "output_type": "stream",
     "text": [
      "Validation: Avg Standard Validation Loss: 6.6751\n",
      "Validation: Avg Attenuated Validation Loss: 4.8407\n",
      "Validation Loss for Scheduler: 6.6751\n",
      "saving model\n"
     ]
    },
    {
     "name": "stdout",
     "output_type": "stream",
     "text": [
      "Epoch [57/200], Learning Rate: 1e-08, Teacher forcing ratio: 0.768\n",
      "Training: Avg Attenuated Training Loss: 4.8811\n"
     ]
    },
    {
     "name": "stdout",
     "output_type": "stream",
     "text": [
      "Validation: Avg Standard Validation Loss: 6.6609\n",
      "Validation: Avg Attenuated Validation Loss: 4.8339\n",
      "Validation Loss for Scheduler: 6.6609\n",
      "saving model\n"
     ]
    },
    {
     "name": "stdout",
     "output_type": "stream",
     "text": [
      "Epoch [58/200], Learning Rate: 1e-08, Teacher forcing ratio: 0.768\n",
      "Training: Avg Attenuated Training Loss: 4.8807\n"
     ]
    },
    {
     "name": "stdout",
     "output_type": "stream",
     "text": [
      "Validation: Avg Standard Validation Loss: 6.6729\n",
      "Validation: Avg Attenuated Validation Loss: 4.8403\n",
      "Validation Loss for Scheduler: 6.6729\n",
      "saving model\n"
     ]
    },
    {
     "name": "stdout",
     "output_type": "stream",
     "text": [
      "Epoch [59/200], Learning Rate: 1e-08, Teacher forcing ratio: 0.768\n",
      "Training: Avg Attenuated Training Loss: 4.8813\n"
     ]
    },
    {
     "name": "stdout",
     "output_type": "stream",
     "text": [
      "Validation: Avg Standard Validation Loss: 6.7116\n",
      "Validation: Avg Attenuated Validation Loss: 4.8601\n",
      "Validation Loss for Scheduler: 6.7116\n",
      "saving model\n"
     ]
    },
    {
     "name": "stdout",
     "output_type": "stream",
     "text": [
      "Epoch [60/200], Learning Rate: 1e-08, Teacher forcing ratio: 0.768\n",
      "Training: Avg Attenuated Training Loss: 4.8807\n"
     ]
    },
    {
     "name": "stdout",
     "output_type": "stream",
     "text": [
      "Validation: Avg Standard Validation Loss: 6.7164\n",
      "Validation: Avg Attenuated Validation Loss: 4.8620\n",
      "Validation Loss for Scheduler: 6.7164\n",
      "saving model\n"
     ]
    },
    {
     "name": "stdout",
     "output_type": "stream",
     "text": [
      "Epoch [61/200], Learning Rate: 1e-08, Teacher forcing ratio: 0.768\n",
      "Training: Avg Attenuated Training Loss: 4.8809\n"
     ]
    },
    {
     "name": "stdout",
     "output_type": "stream",
     "text": [
      "Validation: Avg Standard Validation Loss: 6.6880\n",
      "Validation: Avg Attenuated Validation Loss: 4.8483\n",
      "Validation Loss for Scheduler: 6.6880\n",
      "saving model\n"
     ]
    },
    {
     "name": "stdout",
     "output_type": "stream",
     "text": [
      "Epoch [62/200], Learning Rate: 1e-08, Teacher forcing ratio: 0.768\n",
      "Training: Avg Attenuated Training Loss: 4.8811\n"
     ]
    },
    {
     "name": "stdout",
     "output_type": "stream",
     "text": [
      "Validation: Avg Standard Validation Loss: 6.6770\n",
      "Validation: Avg Attenuated Validation Loss: 4.8425\n",
      "Validation Loss for Scheduler: 6.6770\n",
      "saving model\n"
     ]
    },
    {
     "name": "stdout",
     "output_type": "stream",
     "text": [
      "Epoch [63/200], Learning Rate: 1e-08, Teacher forcing ratio: 0.768\n",
      "Training: Avg Attenuated Training Loss: 4.8808\n"
     ]
    },
    {
     "name": "stdout",
     "output_type": "stream",
     "text": [
      "Validation: Avg Standard Validation Loss: 6.6680\n",
      "Validation: Avg Attenuated Validation Loss: 4.8384\n",
      "Validation Loss for Scheduler: 6.6680\n",
      "saving model\n"
     ]
    },
    {
     "name": "stdout",
     "output_type": "stream",
     "text": [
      "Epoch [64/200], Learning Rate: 1e-08, Teacher forcing ratio: 0.768\n",
      "Training: Avg Attenuated Training Loss: 4.8808\n"
     ]
    },
    {
     "name": "stdout",
     "output_type": "stream",
     "text": [
      "Validation: Avg Standard Validation Loss: 6.6776\n",
      "Validation: Avg Attenuated Validation Loss: 4.8420\n",
      "Validation Loss for Scheduler: 6.6776\n",
      "saving model\n"
     ]
    },
    {
     "name": "stdout",
     "output_type": "stream",
     "text": [
      "Epoch [65/200], Learning Rate: 1e-08, Teacher forcing ratio: 0.768\n",
      "Training: Avg Attenuated Training Loss: 4.8805\n"
     ]
    },
    {
     "name": "stdout",
     "output_type": "stream",
     "text": [
      "Validation: Avg Standard Validation Loss: 6.7023\n",
      "Validation: Avg Attenuated Validation Loss: 4.8565\n",
      "Validation Loss for Scheduler: 6.7023\n",
      "saving model\n"
     ]
    },
    {
     "name": "stdout",
     "output_type": "stream",
     "text": [
      "Epoch [66/200], Learning Rate: 1e-08, Teacher forcing ratio: 0.768\n",
      "Training: Avg Attenuated Training Loss: 4.8807\n"
     ]
    },
    {
     "name": "stdout",
     "output_type": "stream",
     "text": [
      "Validation: Avg Standard Validation Loss: 6.7264\n",
      "Validation: Avg Attenuated Validation Loss: 4.8673\n",
      "Validation Loss for Scheduler: 6.7264\n",
      "saving model\n"
     ]
    },
    {
     "name": "stdout",
     "output_type": "stream",
     "text": [
      "Epoch [67/200], Learning Rate: 1e-08, Teacher forcing ratio: 0.768\n",
      "Training: Avg Attenuated Training Loss: 4.8805\n"
     ]
    },
    {
     "name": "stdout",
     "output_type": "stream",
     "text": [
      "Validation: Avg Standard Validation Loss: 6.6713\n",
      "Validation: Avg Attenuated Validation Loss: 4.8388\n",
      "Validation Loss for Scheduler: 6.6713\n",
      "saving model\n"
     ]
    },
    {
     "name": "stdout",
     "output_type": "stream",
     "text": [
      "Epoch [68/200], Learning Rate: 1e-08, Teacher forcing ratio: 0.768\n",
      "Training: Avg Attenuated Training Loss: 4.8805\n"
     ]
    },
    {
     "name": "stdout",
     "output_type": "stream",
     "text": [
      "Validation: Avg Standard Validation Loss: 6.6705\n",
      "Validation: Avg Attenuated Validation Loss: 4.8408\n",
      "Validation Loss for Scheduler: 6.6705\n",
      "saving model\n"
     ]
    },
    {
     "name": "stdout",
     "output_type": "stream",
     "text": [
      "Epoch [69/200], Learning Rate: 1e-08, Teacher forcing ratio: 0.768\n",
      "Training: Avg Attenuated Training Loss: 4.8809\n"
     ]
    },
    {
     "name": "stdout",
     "output_type": "stream",
     "text": [
      "Validation: Avg Standard Validation Loss: 6.6962\n",
      "Validation: Avg Attenuated Validation Loss: 4.8527\n",
      "Validation Loss for Scheduler: 6.6962\n",
      "saving model\n"
     ]
    },
    {
     "name": "stdout",
     "output_type": "stream",
     "text": [
      "Epoch [70/200], Learning Rate: 1e-08, Teacher forcing ratio: 0.768\n",
      "Training: Avg Attenuated Training Loss: 4.8807\n"
     ]
    },
    {
     "name": "stdout",
     "output_type": "stream",
     "text": [
      "Validation: Avg Standard Validation Loss: 6.6854\n",
      "Validation: Avg Attenuated Validation Loss: 4.8479\n",
      "Validation Loss for Scheduler: 6.6854\n",
      "saving model\n"
     ]
    },
    {
     "name": "stdout",
     "output_type": "stream",
     "text": [
      "Epoch [71/200], Learning Rate: 1e-08, Teacher forcing ratio: 0.768\n",
      "Training: Avg Attenuated Training Loss: 4.8808\n"
     ]
    },
    {
     "name": "stdout",
     "output_type": "stream",
     "text": [
      "Validation: Avg Standard Validation Loss: 6.6545\n",
      "Validation: Avg Attenuated Validation Loss: 4.8308\n",
      "Validation Loss for Scheduler: 6.6545\n",
      "saving model\n"
     ]
    },
    {
     "name": "stdout",
     "output_type": "stream",
     "text": [
      "Epoch [72/200], Learning Rate: 1e-08, Teacher forcing ratio: 0.768\n",
      "Training: Avg Attenuated Training Loss: 4.8811\n"
     ]
    },
    {
     "name": "stdout",
     "output_type": "stream",
     "text": [
      "Validation: Avg Standard Validation Loss: 6.6851\n",
      "Validation: Avg Attenuated Validation Loss: 4.8454\n",
      "Validation Loss for Scheduler: 6.6851\n",
      "saving model\n"
     ]
    },
    {
     "name": "stdout",
     "output_type": "stream",
     "text": [
      "Epoch [73/200], Learning Rate: 1e-08, Teacher forcing ratio: 0.768\n",
      "Training: Avg Attenuated Training Loss: 4.8802\n"
     ]
    },
    {
     "name": "stdout",
     "output_type": "stream",
     "text": [
      "Validation: Avg Standard Validation Loss: 6.6612\n",
      "Validation: Avg Attenuated Validation Loss: 4.8341\n",
      "Validation Loss for Scheduler: 6.6612\n",
      "saving model\n"
     ]
    },
    {
     "name": "stdout",
     "output_type": "stream",
     "text": [
      "Epoch [74/200], Learning Rate: 1e-08, Teacher forcing ratio: 0.768\n",
      "Training: Avg Attenuated Training Loss: 4.8810\n"
     ]
    },
    {
     "name": "stdout",
     "output_type": "stream",
     "text": [
      "Validation: Avg Standard Validation Loss: 6.6930\n",
      "Validation: Avg Attenuated Validation Loss: 4.8501\n",
      "Validation Loss for Scheduler: 6.6930\n",
      "saving model\n"
     ]
    },
    {
     "name": "stdout",
     "output_type": "stream",
     "text": [
      "Epoch [75/200], Learning Rate: 1e-08, Teacher forcing ratio: 0.768\n",
      "Training: Avg Attenuated Training Loss: 4.8806\n"
     ]
    },
    {
     "name": "stdout",
     "output_type": "stream",
     "text": [
      "Validation: Avg Standard Validation Loss: 6.6892\n",
      "Validation: Avg Attenuated Validation Loss: 4.8480\n",
      "Validation Loss for Scheduler: 6.6892\n",
      "saving model\n"
     ]
    },
    {
     "name": "stdout",
     "output_type": "stream",
     "text": [
      "Epoch [76/200], Learning Rate: 1e-08, Teacher forcing ratio: 0.768\n",
      "Training: Avg Attenuated Training Loss: 4.8804\n"
     ]
    },
    {
     "name": "stdout",
     "output_type": "stream",
     "text": [
      "Validation: Avg Standard Validation Loss: 6.6803\n",
      "Validation: Avg Attenuated Validation Loss: 4.8452\n",
      "Validation Loss for Scheduler: 6.6803\n",
      "saving model\n"
     ]
    },
    {
     "name": "stdout",
     "output_type": "stream",
     "text": [
      "Epoch [77/200], Learning Rate: 1e-08, Teacher forcing ratio: 0.768\n",
      "Training: Avg Attenuated Training Loss: 4.8804\n"
     ]
    },
    {
     "name": "stdout",
     "output_type": "stream",
     "text": [
      "Validation: Avg Standard Validation Loss: 6.6390\n",
      "Validation: Avg Attenuated Validation Loss: 4.8232\n",
      "Validation Loss for Scheduler: 6.6390\n",
      "saving model\n"
     ]
    },
    {
     "name": "stdout",
     "output_type": "stream",
     "text": [
      "Epoch [78/200], Learning Rate: 1e-08, Teacher forcing ratio: 0.768\n",
      "Training: Avg Attenuated Training Loss: 4.8808\n"
     ]
    },
    {
     "name": "stdout",
     "output_type": "stream",
     "text": [
      "Validation: Avg Standard Validation Loss: 6.7014\n",
      "Validation: Avg Attenuated Validation Loss: 4.8535\n",
      "Validation Loss for Scheduler: 6.7014\n",
      "saving model\n"
     ]
    },
    {
     "name": "stdout",
     "output_type": "stream",
     "text": [
      "Epoch [79/200], Learning Rate: 1e-08, Teacher forcing ratio: 0.768\n",
      "Training: Avg Attenuated Training Loss: 4.8803\n"
     ]
    },
    {
     "name": "stdout",
     "output_type": "stream",
     "text": [
      "Validation: Avg Standard Validation Loss: 6.6847\n",
      "Validation: Avg Attenuated Validation Loss: 4.8469\n",
      "Validation Loss for Scheduler: 6.6847\n",
      "saving model\n"
     ]
    },
    {
     "name": "stdout",
     "output_type": "stream",
     "text": [
      "Epoch [80/200], Learning Rate: 1e-08, Teacher forcing ratio: 0.768\n",
      "Training: Avg Attenuated Training Loss: 4.8805\n"
     ]
    },
    {
     "name": "stdout",
     "output_type": "stream",
     "text": [
      "Validation: Avg Standard Validation Loss: 6.6404\n",
      "Validation: Avg Attenuated Validation Loss: 4.8232\n",
      "Validation Loss for Scheduler: 6.6404\n",
      "saving model\n"
     ]
    },
    {
     "name": "stdout",
     "output_type": "stream",
     "text": [
      "Epoch [81/200], Learning Rate: 1e-08, Teacher forcing ratio: 0.73728\n",
      "Training: Avg Attenuated Training Loss: 4.8812\n"
     ]
    },
    {
     "name": "stdout",
     "output_type": "stream",
     "text": [
      "Validation: Avg Standard Validation Loss: 6.6930\n",
      "Validation: Avg Attenuated Validation Loss: 4.8490\n",
      "Validation Loss for Scheduler: 6.6930\n",
      "saving model\n"
     ]
    },
    {
     "name": "stdout",
     "output_type": "stream",
     "text": [
      "Epoch [82/200], Learning Rate: 1e-08, Teacher forcing ratio: 0.73728\n",
      "Training: Avg Attenuated Training Loss: 4.8805\n"
     ]
    },
    {
     "name": "stdout",
     "output_type": "stream",
     "text": [
      "Validation: Avg Standard Validation Loss: 6.7725\n",
      "Validation: Avg Attenuated Validation Loss: 4.8892\n",
      "Validation Loss for Scheduler: 6.7725\n",
      "saving model\n"
     ]
    },
    {
     "name": "stdout",
     "output_type": "stream",
     "text": [
      "Epoch [83/200], Learning Rate: 1e-08, Teacher forcing ratio: 0.73728\n",
      "Training: Avg Attenuated Training Loss: 4.8803\n"
     ]
    },
    {
     "name": "stdout",
     "output_type": "stream",
     "text": [
      "Validation: Avg Standard Validation Loss: 6.7063\n",
      "Validation: Avg Attenuated Validation Loss: 4.8579\n",
      "Validation Loss for Scheduler: 6.7063\n",
      "saving model\n"
     ]
    },
    {
     "name": "stdout",
     "output_type": "stream",
     "text": [
      "Epoch [84/200], Learning Rate: 1e-08, Teacher forcing ratio: 0.73728\n",
      "Training: Avg Attenuated Training Loss: 4.8806\n"
     ]
    },
    {
     "name": "stdout",
     "output_type": "stream",
     "text": [
      "Validation: Avg Standard Validation Loss: 6.6619\n",
      "Validation: Avg Attenuated Validation Loss: 4.8356\n",
      "Validation Loss for Scheduler: 6.6619\n",
      "saving model\n"
     ]
    },
    {
     "name": "stdout",
     "output_type": "stream",
     "text": [
      "Epoch [85/200], Learning Rate: 1e-08, Teacher forcing ratio: 0.73728\n",
      "Training: Avg Attenuated Training Loss: 4.8800\n"
     ]
    },
    {
     "name": "stdout",
     "output_type": "stream",
     "text": [
      "Validation: Avg Standard Validation Loss: 6.6776\n",
      "Validation: Avg Attenuated Validation Loss: 4.8414\n",
      "Validation Loss for Scheduler: 6.6776\n",
      "saving model\n"
     ]
    },
    {
     "name": "stdout",
     "output_type": "stream",
     "text": [
      "Epoch [86/200], Learning Rate: 1e-08, Teacher forcing ratio: 0.73728\n",
      "Training: Avg Attenuated Training Loss: 4.8802\n"
     ]
    },
    {
     "name": "stdout",
     "output_type": "stream",
     "text": [
      "Validation: Avg Standard Validation Loss: 6.6780\n",
      "Validation: Avg Attenuated Validation Loss: 4.8422\n",
      "Validation Loss for Scheduler: 6.6780\n",
      "saving model\n"
     ]
    },
    {
     "name": "stdout",
     "output_type": "stream",
     "text": [
      "Epoch [87/200], Learning Rate: 1e-08, Teacher forcing ratio: 0.73728\n",
      "Training: Avg Attenuated Training Loss: 4.8801\n"
     ]
    },
    {
     "name": "stdout",
     "output_type": "stream",
     "text": [
      "Validation: Avg Standard Validation Loss: 6.6614\n",
      "Validation: Avg Attenuated Validation Loss: 4.8333\n",
      "Validation Loss for Scheduler: 6.6614\n",
      "saving model\n"
     ]
    },
    {
     "name": "stdout",
     "output_type": "stream",
     "text": [
      "Epoch [88/200], Learning Rate: 1e-08, Teacher forcing ratio: 0.73728\n",
      "Training: Avg Attenuated Training Loss: 4.8795\n"
     ]
    },
    {
     "name": "stdout",
     "output_type": "stream",
     "text": [
      "Validation: Avg Standard Validation Loss: 6.7230\n",
      "Validation: Avg Attenuated Validation Loss: 4.8648\n",
      "Validation Loss for Scheduler: 6.7230\n",
      "saving model\n"
     ]
    },
    {
     "name": "stdout",
     "output_type": "stream",
     "text": [
      "Epoch [89/200], Learning Rate: 1e-08, Teacher forcing ratio: 0.73728\n",
      "Training: Avg Attenuated Training Loss: 4.8800\n"
     ]
    },
    {
     "name": "stdout",
     "output_type": "stream",
     "text": [
      "Validation: Avg Standard Validation Loss: 6.7053\n",
      "Validation: Avg Attenuated Validation Loss: 4.8571\n",
      "Validation Loss for Scheduler: 6.7053\n",
      "saving model\n"
     ]
    },
    {
     "name": "stdout",
     "output_type": "stream",
     "text": [
      "Epoch [90/200], Learning Rate: 1e-08, Teacher forcing ratio: 0.73728\n",
      "Training: Avg Attenuated Training Loss: 4.8802\n"
     ]
    },
    {
     "name": "stdout",
     "output_type": "stream",
     "text": [
      "Validation: Avg Standard Validation Loss: 6.7079\n",
      "Validation: Avg Attenuated Validation Loss: 4.8586\n",
      "Validation Loss for Scheduler: 6.7079\n",
      "saving model\n"
     ]
    },
    {
     "name": "stdout",
     "output_type": "stream",
     "text": [
      "Epoch [91/200], Learning Rate: 1e-08, Teacher forcing ratio: 0.73728\n",
      "Training: Avg Attenuated Training Loss: 4.8806\n"
     ]
    },
    {
     "name": "stdout",
     "output_type": "stream",
     "text": [
      "Validation: Avg Standard Validation Loss: 6.6708\n",
      "Validation: Avg Attenuated Validation Loss: 4.8383\n",
      "Validation Loss for Scheduler: 6.6708\n",
      "saving model\n"
     ]
    },
    {
     "name": "stdout",
     "output_type": "stream",
     "text": [
      "Epoch [92/200], Learning Rate: 1e-08, Teacher forcing ratio: 0.73728\n",
      "Training: Avg Attenuated Training Loss: 4.8797\n"
     ]
    },
    {
     "name": "stdout",
     "output_type": "stream",
     "text": [
      "Validation: Avg Standard Validation Loss: 6.6849\n",
      "Validation: Avg Attenuated Validation Loss: 4.8459\n",
      "Validation Loss for Scheduler: 6.6849\n",
      "saving model\n"
     ]
    },
    {
     "name": "stdout",
     "output_type": "stream",
     "text": [
      "Epoch [93/200], Learning Rate: 1e-08, Teacher forcing ratio: 0.73728\n",
      "Training: Avg Attenuated Training Loss: 4.8797\n"
     ]
    },
    {
     "name": "stdout",
     "output_type": "stream",
     "text": [
      "Validation: Avg Standard Validation Loss: 6.6939\n",
      "Validation: Avg Attenuated Validation Loss: 4.8497\n",
      "Validation Loss for Scheduler: 6.6939\n",
      "saving model\n"
     ]
    },
    {
     "name": "stdout",
     "output_type": "stream",
     "text": [
      "Epoch [94/200], Learning Rate: 1e-08, Teacher forcing ratio: 0.73728\n",
      "Training: Avg Attenuated Training Loss: 4.8800\n"
     ]
    },
    {
     "name": "stdout",
     "output_type": "stream",
     "text": [
      "Validation: Avg Standard Validation Loss: 6.6622\n",
      "Validation: Avg Attenuated Validation Loss: 4.8344\n",
      "Validation Loss for Scheduler: 6.6622\n",
      "saving model\n"
     ]
    },
    {
     "name": "stdout",
     "output_type": "stream",
     "text": [
      "Epoch [95/200], Learning Rate: 1e-08, Teacher forcing ratio: 0.73728\n",
      "Training: Avg Attenuated Training Loss: 4.8806\n"
     ]
    },
    {
     "name": "stdout",
     "output_type": "stream",
     "text": [
      "Validation: Avg Standard Validation Loss: 6.6910\n",
      "Validation: Avg Attenuated Validation Loss: 4.8482\n",
      "Validation Loss for Scheduler: 6.6910\n",
      "saving model\n"
     ]
    },
    {
     "name": "stdout",
     "output_type": "stream",
     "text": [
      "Epoch [96/200], Learning Rate: 1e-08, Teacher forcing ratio: 0.73728\n",
      "Training: Avg Attenuated Training Loss: 4.8797\n"
     ]
    },
    {
     "name": "stdout",
     "output_type": "stream",
     "text": [
      "Validation: Avg Standard Validation Loss: 6.6894\n",
      "Validation: Avg Attenuated Validation Loss: 4.8476\n",
      "Validation Loss for Scheduler: 6.6894\n",
      "saving model\n"
     ]
    },
    {
     "name": "stdout",
     "output_type": "stream",
     "text": [
      "Epoch [97/200], Learning Rate: 1e-08, Teacher forcing ratio: 0.73728\n",
      "Training: Avg Attenuated Training Loss: 4.8796\n"
     ]
    },
    {
     "name": "stdout",
     "output_type": "stream",
     "text": [
      "Validation: Avg Standard Validation Loss: 6.7027\n",
      "Validation: Avg Attenuated Validation Loss: 4.8530\n",
      "Validation Loss for Scheduler: 6.7027\n",
      "saving model\n"
     ]
    },
    {
     "name": "stdout",
     "output_type": "stream",
     "text": [
      "Epoch [98/200], Learning Rate: 1e-08, Teacher forcing ratio: 0.73728\n",
      "Training: Avg Attenuated Training Loss: 4.8799\n"
     ]
    },
    {
     "name": "stdout",
     "output_type": "stream",
     "text": [
      "Validation: Avg Standard Validation Loss: 6.7044\n",
      "Validation: Avg Attenuated Validation Loss: 4.8559\n",
      "Validation Loss for Scheduler: 6.7044\n",
      "saving model\n"
     ]
    },
    {
     "name": "stdout",
     "output_type": "stream",
     "text": [
      "Epoch [99/200], Learning Rate: 1e-08, Teacher forcing ratio: 0.73728\n",
      "Training: Avg Attenuated Training Loss: 4.8805\n"
     ]
    },
    {
     "name": "stdout",
     "output_type": "stream",
     "text": [
      "Validation: Avg Standard Validation Loss: 6.6741\n",
      "Validation: Avg Attenuated Validation Loss: 4.8400\n",
      "Validation Loss for Scheduler: 6.6741\n",
      "saving model\n"
     ]
    },
    {
     "name": "stdout",
     "output_type": "stream",
     "text": [
      "Epoch [100/200], Learning Rate: 1e-08, Teacher forcing ratio: 0.73728\n",
      "Training: Avg Attenuated Training Loss: 4.8796\n"
     ]
    },
    {
     "name": "stdout",
     "output_type": "stream",
     "text": [
      "Validation: Avg Standard Validation Loss: 6.6990\n",
      "Validation: Avg Attenuated Validation Loss: 4.8525\n",
      "Validation Loss for Scheduler: 6.6990\n",
      "saving model\n"
     ]
    },
    {
     "name": "stdout",
     "output_type": "stream",
     "text": [
      "Epoch [101/200], Learning Rate: 1e-08, Teacher forcing ratio: 0.73728\n",
      "Training: Avg Attenuated Training Loss: 4.8800\n"
     ]
    },
    {
     "name": "stdout",
     "output_type": "stream",
     "text": [
      "Validation: Avg Standard Validation Loss: 6.6669\n",
      "Validation: Avg Attenuated Validation Loss: 4.8372\n",
      "Validation Loss for Scheduler: 6.6669\n",
      "saving model\n"
     ]
    },
    {
     "name": "stdout",
     "output_type": "stream",
     "text": [
      "Epoch [102/200], Learning Rate: 1e-08, Teacher forcing ratio: 0.73728\n",
      "Training: Avg Attenuated Training Loss: 4.8797\n"
     ]
    },
    {
     "name": "stdout",
     "output_type": "stream",
     "text": [
      "Validation: Avg Standard Validation Loss: 6.6663\n",
      "Validation: Avg Attenuated Validation Loss: 4.8373\n",
      "Validation Loss for Scheduler: 6.6663\n",
      "saving model\n"
     ]
    },
    {
     "name": "stdout",
     "output_type": "stream",
     "text": [
      "Epoch [103/200], Learning Rate: 1e-08, Teacher forcing ratio: 0.73728\n",
      "Training: Avg Attenuated Training Loss: 4.8796\n"
     ]
    },
    {
     "name": "stdout",
     "output_type": "stream",
     "text": [
      "Validation: Avg Standard Validation Loss: 6.6741\n",
      "Validation: Avg Attenuated Validation Loss: 4.8384\n",
      "Validation Loss for Scheduler: 6.6741\n",
      "saving model\n"
     ]
    },
    {
     "name": "stdout",
     "output_type": "stream",
     "text": [
      "Epoch [104/200], Learning Rate: 1e-08, Teacher forcing ratio: 0.73728\n",
      "Training: Avg Attenuated Training Loss: 4.8787\n"
     ]
    },
    {
     "name": "stdout",
     "output_type": "stream",
     "text": [
      "Validation: Avg Standard Validation Loss: 6.6731\n",
      "Validation: Avg Attenuated Validation Loss: 4.8401\n",
      "Validation Loss for Scheduler: 6.6731\n",
      "saving model\n"
     ]
    },
    {
     "name": "stdout",
     "output_type": "stream",
     "text": [
      "Epoch [105/200], Learning Rate: 1e-08, Teacher forcing ratio: 0.73728\n",
      "Training: Avg Attenuated Training Loss: 4.8791\n"
     ]
    },
    {
     "name": "stdout",
     "output_type": "stream",
     "text": [
      "Validation: Avg Standard Validation Loss: 6.7282\n",
      "Validation: Avg Attenuated Validation Loss: 4.8677\n",
      "Validation Loss for Scheduler: 6.7282\n",
      "saving model\n"
     ]
    },
    {
     "name": "stdout",
     "output_type": "stream",
     "text": [
      "Epoch [106/200], Learning Rate: 1e-08, Teacher forcing ratio: 0.73728\n",
      "Training: Avg Attenuated Training Loss: 4.8799\n"
     ]
    },
    {
     "name": "stdout",
     "output_type": "stream",
     "text": [
      "Validation: Avg Standard Validation Loss: 6.6743\n",
      "Validation: Avg Attenuated Validation Loss: 4.8386\n",
      "Validation Loss for Scheduler: 6.6743\n",
      "saving model\n"
     ]
    },
    {
     "name": "stdout",
     "output_type": "stream",
     "text": [
      "Epoch [107/200], Learning Rate: 1e-08, Teacher forcing ratio: 0.73728\n",
      "Training: Avg Attenuated Training Loss: 4.8795\n"
     ]
    },
    {
     "name": "stdout",
     "output_type": "stream",
     "text": [
      "Validation: Avg Standard Validation Loss: 6.6607\n",
      "Validation: Avg Attenuated Validation Loss: 4.8326\n",
      "Validation Loss for Scheduler: 6.6607\n",
      "saving model\n"
     ]
    },
    {
     "name": "stdout",
     "output_type": "stream",
     "text": [
      "Epoch [108/200], Learning Rate: 1e-08, Teacher forcing ratio: 0.73728\n",
      "Training: Avg Attenuated Training Loss: 4.8799\n"
     ]
    },
    {
     "name": "stdout",
     "output_type": "stream",
     "text": [
      "Validation: Avg Standard Validation Loss: 6.6791\n",
      "Validation: Avg Attenuated Validation Loss: 4.8435\n",
      "Validation Loss for Scheduler: 6.6791\n",
      "saving model\n"
     ]
    },
    {
     "name": "stdout",
     "output_type": "stream",
     "text": [
      "Epoch [109/200], Learning Rate: 1e-08, Teacher forcing ratio: 0.73728\n",
      "Training: Avg Attenuated Training Loss: 4.8797\n"
     ]
    },
    {
     "name": "stdout",
     "output_type": "stream",
     "text": [
      "Validation: Avg Standard Validation Loss: 6.7039\n",
      "Validation: Avg Attenuated Validation Loss: 4.8541\n",
      "Validation Loss for Scheduler: 6.7039\n",
      "saving model\n"
     ]
    },
    {
     "name": "stdout",
     "output_type": "stream",
     "text": [
      "Epoch [110/200], Learning Rate: 1e-08, Teacher forcing ratio: 0.73728\n",
      "Training: Avg Attenuated Training Loss: 4.8801\n"
     ]
    },
    {
     "name": "stdout",
     "output_type": "stream",
     "text": [
      "Validation: Avg Standard Validation Loss: 6.6831\n",
      "Validation: Avg Attenuated Validation Loss: 4.8448\n",
      "Validation Loss for Scheduler: 6.6831\n",
      "saving model\n"
     ]
    },
    {
     "name": "stdout",
     "output_type": "stream",
     "text": [
      "Epoch [111/200], Learning Rate: 1e-08, Teacher forcing ratio: 0.73728\n",
      "Training: Avg Attenuated Training Loss: 4.8795\n"
     ]
    },
    {
     "name": "stdout",
     "output_type": "stream",
     "text": [
      "Validation: Avg Standard Validation Loss: 6.6903\n",
      "Validation: Avg Attenuated Validation Loss: 4.8479\n",
      "Validation Loss for Scheduler: 6.6903\n",
      "saving model\n"
     ]
    },
    {
     "name": "stdout",
     "output_type": "stream",
     "text": [
      "Epoch [112/200], Learning Rate: 1e-08, Teacher forcing ratio: 0.73728\n",
      "Training: Avg Attenuated Training Loss: 4.8796\n"
     ]
    },
    {
     "name": "stdout",
     "output_type": "stream",
     "text": [
      "Validation: Avg Standard Validation Loss: 6.7175\n",
      "Validation: Avg Attenuated Validation Loss: 4.8621\n",
      "Validation Loss for Scheduler: 6.7175\n",
      "saving model\n"
     ]
    },
    {
     "name": "stdout",
     "output_type": "stream",
     "text": [
      "Epoch [113/200], Learning Rate: 1e-08, Teacher forcing ratio: 0.73728\n",
      "Training: Avg Attenuated Training Loss: 4.8797\n"
     ]
    },
    {
     "name": "stdout",
     "output_type": "stream",
     "text": [
      "Validation: Avg Standard Validation Loss: 6.6449\n",
      "Validation: Avg Attenuated Validation Loss: 4.8241\n",
      "Validation Loss for Scheduler: 6.6449\n",
      "saving model\n"
     ]
    },
    {
     "name": "stdout",
     "output_type": "stream",
     "text": [
      "Epoch [114/200], Learning Rate: 1e-08, Teacher forcing ratio: 0.73728\n",
      "Training: Avg Attenuated Training Loss: 4.8792\n"
     ]
    },
    {
     "name": "stdout",
     "output_type": "stream",
     "text": [
      "Validation: Avg Standard Validation Loss: 6.6861\n",
      "Validation: Avg Attenuated Validation Loss: 4.8464\n",
      "Validation Loss for Scheduler: 6.6861\n",
      "saving model\n"
     ]
    },
    {
     "name": "stdout",
     "output_type": "stream",
     "text": [
      "Epoch [115/200], Learning Rate: 1e-08, Teacher forcing ratio: 0.73728\n",
      "Training: Avg Attenuated Training Loss: 4.8797\n"
     ]
    },
    {
     "name": "stdout",
     "output_type": "stream",
     "text": [
      "Validation: Avg Standard Validation Loss: 6.7298\n",
      "Validation: Avg Attenuated Validation Loss: 4.8676\n",
      "Validation Loss for Scheduler: 6.7298\n",
      "saving model\n"
     ]
    },
    {
     "name": "stdout",
     "output_type": "stream",
     "text": [
      "Epoch [116/200], Learning Rate: 1e-08, Teacher forcing ratio: 0.73728\n",
      "Training: Avg Attenuated Training Loss: 4.8788\n"
     ]
    },
    {
     "name": "stdout",
     "output_type": "stream",
     "text": [
      "Validation: Avg Standard Validation Loss: 6.6983\n",
      "Validation: Avg Attenuated Validation Loss: 4.8521\n",
      "Validation Loss for Scheduler: 6.6983\n",
      "saving model\n"
     ]
    },
    {
     "name": "stdout",
     "output_type": "stream",
     "text": [
      "Epoch [117/200], Learning Rate: 1e-08, Teacher forcing ratio: 0.73728\n",
      "Training: Avg Attenuated Training Loss: 4.8785\n"
     ]
    },
    {
     "name": "stdout",
     "output_type": "stream",
     "text": [
      "Validation: Avg Standard Validation Loss: 6.6571\n",
      "Validation: Avg Attenuated Validation Loss: 4.8298\n",
      "Validation Loss for Scheduler: 6.6571\n",
      "saving model\n"
     ]
    },
    {
     "name": "stdout",
     "output_type": "stream",
     "text": [
      "Epoch [118/200], Learning Rate: 1e-08, Teacher forcing ratio: 0.73728\n",
      "Training: Avg Attenuated Training Loss: 4.8797\n"
     ]
    },
    {
     "name": "stdout",
     "output_type": "stream",
     "text": [
      "Validation: Avg Standard Validation Loss: 6.7000\n",
      "Validation: Avg Attenuated Validation Loss: 4.8531\n",
      "Validation Loss for Scheduler: 6.7000\n",
      "saving model\n"
     ]
    },
    {
     "name": "stdout",
     "output_type": "stream",
     "text": [
      "Epoch [119/200], Learning Rate: 1e-08, Teacher forcing ratio: 0.73728\n",
      "Training: Avg Attenuated Training Loss: 4.8788\n"
     ]
    },
    {
     "name": "stdout",
     "output_type": "stream",
     "text": [
      "Validation: Avg Standard Validation Loss: 6.7107\n",
      "Validation: Avg Attenuated Validation Loss: 4.8577\n",
      "Validation Loss for Scheduler: 6.7107\n",
      "saving model\n"
     ]
    },
    {
     "name": "stdout",
     "output_type": "stream",
     "text": [
      "Epoch [120/200], Learning Rate: 1e-08, Teacher forcing ratio: 0.73728\n",
      "Training: Avg Attenuated Training Loss: 4.8793\n"
     ]
    },
    {
     "name": "stdout",
     "output_type": "stream",
     "text": [
      "Validation: Avg Standard Validation Loss: 6.6774\n",
      "Validation: Avg Attenuated Validation Loss: 4.8410\n",
      "Validation Loss for Scheduler: 6.6774\n",
      "saving model\n"
     ]
    },
    {
     "name": "stdout",
     "output_type": "stream",
     "text": [
      "Epoch [121/200], Learning Rate: 1e-08, Teacher forcing ratio: 0.7077888\n",
      "Training: Avg Attenuated Training Loss: 4.8796\n"
     ]
    },
    {
     "name": "stdout",
     "output_type": "stream",
     "text": [
      "Validation: Avg Standard Validation Loss: 6.6789\n",
      "Validation: Avg Attenuated Validation Loss: 4.8414\n",
      "Validation Loss for Scheduler: 6.6789\n",
      "saving model\n"
     ]
    },
    {
     "name": "stdout",
     "output_type": "stream",
     "text": [
      "Epoch [122/200], Learning Rate: 1e-08, Teacher forcing ratio: 0.7077888\n",
      "Training: Avg Attenuated Training Loss: 4.8789\n"
     ]
    },
    {
     "name": "stdout",
     "output_type": "stream",
     "text": [
      "Validation: Avg Standard Validation Loss: 6.6812\n",
      "Validation: Avg Attenuated Validation Loss: 4.8432\n",
      "Validation Loss for Scheduler: 6.6812\n",
      "saving model\n"
     ]
    },
    {
     "name": "stdout",
     "output_type": "stream",
     "text": [
      "Epoch [123/200], Learning Rate: 1e-08, Teacher forcing ratio: 0.7077888\n",
      "Training: Avg Attenuated Training Loss: 4.8792\n"
     ]
    },
    {
     "name": "stdout",
     "output_type": "stream",
     "text": [
      "Validation: Avg Standard Validation Loss: 6.6580\n",
      "Validation: Avg Attenuated Validation Loss: 4.8313\n",
      "Validation Loss for Scheduler: 6.6580\n",
      "saving model\n"
     ]
    },
    {
     "name": "stdout",
     "output_type": "stream",
     "text": [
      "Epoch [124/200], Learning Rate: 1e-08, Teacher forcing ratio: 0.7077888\n",
      "Training: Avg Attenuated Training Loss: 4.8790\n"
     ]
    },
    {
     "name": "stdout",
     "output_type": "stream",
     "text": [
      "Validation: Avg Standard Validation Loss: 6.6562\n",
      "Validation: Avg Attenuated Validation Loss: 4.8315\n",
      "Validation Loss for Scheduler: 6.6562\n",
      "saving model\n"
     ]
    },
    {
     "name": "stdout",
     "output_type": "stream",
     "text": [
      "Epoch [125/200], Learning Rate: 1e-08, Teacher forcing ratio: 0.7077888\n",
      "Training: Avg Attenuated Training Loss: 4.8788\n"
     ]
    },
    {
     "name": "stdout",
     "output_type": "stream",
     "text": [
      "Validation: Avg Standard Validation Loss: 6.6829\n",
      "Validation: Avg Attenuated Validation Loss: 4.8426\n",
      "Validation Loss for Scheduler: 6.6829\n",
      "saving model\n"
     ]
    },
    {
     "name": "stdout",
     "output_type": "stream",
     "text": [
      "Epoch [126/200], Learning Rate: 1e-08, Teacher forcing ratio: 0.7077888\n",
      "Training: Avg Attenuated Training Loss: 4.8789\n"
     ]
    },
    {
     "name": "stdout",
     "output_type": "stream",
     "text": [
      "Validation: Avg Standard Validation Loss: 6.7079\n",
      "Validation: Avg Attenuated Validation Loss: 4.8573\n",
      "Validation Loss for Scheduler: 6.7079\n",
      "saving model\n"
     ]
    },
    {
     "name": "stdout",
     "output_type": "stream",
     "text": [
      "Epoch [127/200], Learning Rate: 1e-08, Teacher forcing ratio: 0.7077888\n",
      "Training: Avg Attenuated Training Loss: 4.8788\n"
     ]
    },
    {
     "name": "stdout",
     "output_type": "stream",
     "text": [
      "Validation: Avg Standard Validation Loss: 6.6948\n",
      "Validation: Avg Attenuated Validation Loss: 4.8503\n",
      "Validation Loss for Scheduler: 6.6948\n",
      "saving model\n"
     ]
    },
    {
     "name": "stdout",
     "output_type": "stream",
     "text": [
      "Epoch [128/200], Learning Rate: 1e-08, Teacher forcing ratio: 0.7077888\n",
      "Training: Avg Attenuated Training Loss: 4.8783\n"
     ]
    },
    {
     "name": "stdout",
     "output_type": "stream",
     "text": [
      "Validation: Avg Standard Validation Loss: 6.7055\n",
      "Validation: Avg Attenuated Validation Loss: 4.8562\n",
      "Validation Loss for Scheduler: 6.7055\n",
      "saving model\n"
     ]
    },
    {
     "name": "stdout",
     "output_type": "stream",
     "text": [
      "Epoch [129/200], Learning Rate: 1e-08, Teacher forcing ratio: 0.7077888\n",
      "Training: Avg Attenuated Training Loss: 4.8789\n"
     ]
    },
    {
     "name": "stdout",
     "output_type": "stream",
     "text": [
      "Validation: Avg Standard Validation Loss: 6.6978\n",
      "Validation: Avg Attenuated Validation Loss: 4.8519\n",
      "Validation Loss for Scheduler: 6.6978\n",
      "saving model\n"
     ]
    },
    {
     "name": "stdout",
     "output_type": "stream",
     "text": [
      "Epoch [130/200], Learning Rate: 1e-08, Teacher forcing ratio: 0.7077888\n",
      "Training: Avg Attenuated Training Loss: 4.8779\n"
     ]
    },
    {
     "name": "stdout",
     "output_type": "stream",
     "text": [
      "Validation: Avg Standard Validation Loss: 6.7014\n",
      "Validation: Avg Attenuated Validation Loss: 4.8529\n",
      "Validation Loss for Scheduler: 6.7014\n",
      "saving model\n"
     ]
    },
    {
     "name": "stdout",
     "output_type": "stream",
     "text": [
      "Epoch [131/200], Learning Rate: 1e-08, Teacher forcing ratio: 0.7077888\n",
      "Training: Avg Attenuated Training Loss: 4.8789\n"
     ]
    },
    {
     "name": "stdout",
     "output_type": "stream",
     "text": [
      "Validation: Avg Standard Validation Loss: 6.7000\n",
      "Validation: Avg Attenuated Validation Loss: 4.8533\n",
      "Validation Loss for Scheduler: 6.7000\n",
      "saving model\n"
     ]
    },
    {
     "name": "stdout",
     "output_type": "stream",
     "text": [
      "Epoch [132/200], Learning Rate: 1e-08, Teacher forcing ratio: 0.7077888\n",
      "Training: Avg Attenuated Training Loss: 4.8788\n"
     ]
    },
    {
     "name": "stdout",
     "output_type": "stream",
     "text": [
      "Validation: Avg Standard Validation Loss: 6.6735\n",
      "Validation: Avg Attenuated Validation Loss: 4.8401\n",
      "Validation Loss for Scheduler: 6.6735\n",
      "saving model\n"
     ]
    },
    {
     "name": "stdout",
     "output_type": "stream",
     "text": [
      "Epoch [133/200], Learning Rate: 1e-08, Teacher forcing ratio: 0.7077888\n",
      "Training: Avg Attenuated Training Loss: 4.8787\n"
     ]
    },
    {
     "name": "stdout",
     "output_type": "stream",
     "text": [
      "Validation: Avg Standard Validation Loss: 6.7025\n",
      "Validation: Avg Attenuated Validation Loss: 4.8550\n",
      "Validation Loss for Scheduler: 6.7025\n",
      "saving model\n"
     ]
    },
    {
     "name": "stdout",
     "output_type": "stream",
     "text": [
      "Epoch [134/200], Learning Rate: 1e-08, Teacher forcing ratio: 0.7077888\n",
      "Training: Avg Attenuated Training Loss: 4.8788\n"
     ]
    },
    {
     "name": "stdout",
     "output_type": "stream",
     "text": [
      "Validation: Avg Standard Validation Loss: 6.6842\n",
      "Validation: Avg Attenuated Validation Loss: 4.8448\n",
      "Validation Loss for Scheduler: 6.6842\n",
      "saving model\n"
     ]
    },
    {
     "name": "stdout",
     "output_type": "stream",
     "text": [
      "Epoch [135/200], Learning Rate: 1e-08, Teacher forcing ratio: 0.7077888\n",
      "Training: Avg Attenuated Training Loss: 4.8792\n"
     ]
    },
    {
     "name": "stdout",
     "output_type": "stream",
     "text": [
      "Validation: Avg Standard Validation Loss: 6.6717\n",
      "Validation: Avg Attenuated Validation Loss: 4.8392\n",
      "Validation Loss for Scheduler: 6.6717\n",
      "saving model\n"
     ]
    },
    {
     "name": "stdout",
     "output_type": "stream",
     "text": [
      "Epoch [136/200], Learning Rate: 1e-08, Teacher forcing ratio: 0.7077888\n",
      "Training: Avg Attenuated Training Loss: 4.8787\n"
     ]
    },
    {
     "name": "stdout",
     "output_type": "stream",
     "text": [
      "Validation: Avg Standard Validation Loss: 6.6550\n",
      "Validation: Avg Attenuated Validation Loss: 4.8285\n",
      "Validation Loss for Scheduler: 6.6550\n",
      "saving model\n"
     ]
    },
    {
     "name": "stdout",
     "output_type": "stream",
     "text": [
      "Epoch [137/200], Learning Rate: 1e-08, Teacher forcing ratio: 0.7077888\n",
      "Training: Avg Attenuated Training Loss: 4.8786\n"
     ]
    },
    {
     "name": "stdout",
     "output_type": "stream",
     "text": [
      "Validation: Avg Standard Validation Loss: 6.6512\n",
      "Validation: Avg Attenuated Validation Loss: 4.8276\n",
      "Validation Loss for Scheduler: 6.6512\n",
      "saving model\n"
     ]
    },
    {
     "name": "stdout",
     "output_type": "stream",
     "text": [
      "Epoch [138/200], Learning Rate: 1e-08, Teacher forcing ratio: 0.7077888\n",
      "Training: Avg Attenuated Training Loss: 4.8784\n"
     ]
    },
    {
     "name": "stdout",
     "output_type": "stream",
     "text": [
      "Validation: Avg Standard Validation Loss: 6.6690\n",
      "Validation: Avg Attenuated Validation Loss: 4.8375\n",
      "Validation Loss for Scheduler: 6.6690\n",
      "saving model\n"
     ]
    },
    {
     "name": "stdout",
     "output_type": "stream",
     "text": [
      "Epoch [139/200], Learning Rate: 1e-08, Teacher forcing ratio: 0.7077888\n",
      "Training: Avg Attenuated Training Loss: 4.8785\n"
     ]
    },
    {
     "name": "stdout",
     "output_type": "stream",
     "text": [
      "Validation: Avg Standard Validation Loss: 6.6587\n",
      "Validation: Avg Attenuated Validation Loss: 4.8312\n",
      "Validation Loss for Scheduler: 6.6587\n",
      "saving model\n"
     ]
    },
    {
     "name": "stdout",
     "output_type": "stream",
     "text": [
      "Epoch [140/200], Learning Rate: 1e-08, Teacher forcing ratio: 0.7077888\n",
      "Training: Avg Attenuated Training Loss: 4.8784\n"
     ]
    },
    {
     "name": "stdout",
     "output_type": "stream",
     "text": [
      "Validation: Avg Standard Validation Loss: 6.7266\n",
      "Validation: Avg Attenuated Validation Loss: 4.8653\n",
      "Validation Loss for Scheduler: 6.7266\n",
      "saving model\n"
     ]
    },
    {
     "name": "stdout",
     "output_type": "stream",
     "text": [
      "Epoch [141/200], Learning Rate: 1e-08, Teacher forcing ratio: 0.7077888\n",
      "Training: Avg Attenuated Training Loss: 4.8784\n"
     ]
    },
    {
     "name": "stdout",
     "output_type": "stream",
     "text": [
      "Validation: Avg Standard Validation Loss: 6.6698\n",
      "Validation: Avg Attenuated Validation Loss: 4.8374\n",
      "Validation Loss for Scheduler: 6.6698\n",
      "saving model\n"
     ]
    },
    {
     "name": "stdout",
     "output_type": "stream",
     "text": [
      "Epoch [142/200], Learning Rate: 1e-08, Teacher forcing ratio: 0.7077888\n",
      "Training: Avg Attenuated Training Loss: 4.8788\n"
     ]
    },
    {
     "name": "stdout",
     "output_type": "stream",
     "text": [
      "Validation: Avg Standard Validation Loss: 6.6663\n",
      "Validation: Avg Attenuated Validation Loss: 4.8351\n",
      "Validation Loss for Scheduler: 6.6663\n",
      "saving model\n"
     ]
    },
    {
     "name": "stdout",
     "output_type": "stream",
     "text": [
      "Epoch [143/200], Learning Rate: 1e-08, Teacher forcing ratio: 0.7077888\n",
      "Training: Avg Attenuated Training Loss: 4.8781\n"
     ]
    },
    {
     "name": "stdout",
     "output_type": "stream",
     "text": [
      "Validation: Avg Standard Validation Loss: 6.6608\n",
      "Validation: Avg Attenuated Validation Loss: 4.8316\n",
      "Validation Loss for Scheduler: 6.6608\n",
      "saving model\n"
     ]
    },
    {
     "name": "stdout",
     "output_type": "stream",
     "text": [
      "Epoch [144/200], Learning Rate: 1e-08, Teacher forcing ratio: 0.7077888\n",
      "Training: Avg Attenuated Training Loss: 4.8783\n"
     ]
    },
    {
     "name": "stdout",
     "output_type": "stream",
     "text": [
      "Validation: Avg Standard Validation Loss: 6.7057\n",
      "Validation: Avg Attenuated Validation Loss: 4.8557\n",
      "Validation Loss for Scheduler: 6.7057\n",
      "saving model\n"
     ]
    },
    {
     "name": "stdout",
     "output_type": "stream",
     "text": [
      "Epoch [145/200], Learning Rate: 1e-08, Teacher forcing ratio: 0.7077888\n",
      "Training: Avg Attenuated Training Loss: 4.8784\n"
     ]
    },
    {
     "name": "stdout",
     "output_type": "stream",
     "text": [
      "Validation: Avg Standard Validation Loss: 6.6539\n",
      "Validation: Avg Attenuated Validation Loss: 4.8291\n",
      "Validation Loss for Scheduler: 6.6539\n",
      "saving model\n"
     ]
    },
    {
     "name": "stdout",
     "output_type": "stream",
     "text": [
      "Epoch [146/200], Learning Rate: 1e-08, Teacher forcing ratio: 0.7077888\n",
      "Training: Avg Attenuated Training Loss: 4.8785\n"
     ]
    },
    {
     "name": "stdout",
     "output_type": "stream",
     "text": [
      "Validation: Avg Standard Validation Loss: 6.6551\n",
      "Validation: Avg Attenuated Validation Loss: 4.8303\n",
      "Validation Loss for Scheduler: 6.6551\n",
      "saving model\n"
     ]
    },
    {
     "name": "stdout",
     "output_type": "stream",
     "text": [
      "Epoch [147/200], Learning Rate: 1e-08, Teacher forcing ratio: 0.7077888\n",
      "Training: Avg Attenuated Training Loss: 4.8784\n"
     ]
    },
    {
     "name": "stdout",
     "output_type": "stream",
     "text": [
      "Validation: Avg Standard Validation Loss: 6.7274\n",
      "Validation: Avg Attenuated Validation Loss: 4.8656\n",
      "Validation Loss for Scheduler: 6.7274\n",
      "saving model\n"
     ]
    },
    {
     "name": "stdout",
     "output_type": "stream",
     "text": [
      "Epoch [148/200], Learning Rate: 1e-08, Teacher forcing ratio: 0.7077888\n",
      "Training: Avg Attenuated Training Loss: 4.8783\n"
     ]
    },
    {
     "name": "stdout",
     "output_type": "stream",
     "text": [
      "Validation: Avg Standard Validation Loss: 6.6547\n",
      "Validation: Avg Attenuated Validation Loss: 4.8277\n",
      "Validation Loss for Scheduler: 6.6547\n",
      "saving model\n"
     ]
    },
    {
     "name": "stdout",
     "output_type": "stream",
     "text": [
      "Epoch [149/200], Learning Rate: 1e-08, Teacher forcing ratio: 0.7077888\n",
      "Training: Avg Attenuated Training Loss: 4.8778\n"
     ]
    },
    {
     "name": "stdout",
     "output_type": "stream",
     "text": [
      "Validation: Avg Standard Validation Loss: 6.6909\n",
      "Validation: Avg Attenuated Validation Loss: 4.8480\n",
      "Validation Loss for Scheduler: 6.6909\n",
      "saving model\n"
     ]
    },
    {
     "name": "stdout",
     "output_type": "stream",
     "text": [
      "Epoch [150/200], Learning Rate: 1e-08, Teacher forcing ratio: 0.7077888\n",
      "Training: Avg Attenuated Training Loss: 4.8783\n"
     ]
    },
    {
     "name": "stdout",
     "output_type": "stream",
     "text": [
      "Validation: Avg Standard Validation Loss: 6.6847\n",
      "Validation: Avg Attenuated Validation Loss: 4.8440\n",
      "Validation Loss for Scheduler: 6.6847\n",
      "saving model\n"
     ]
    },
    {
     "name": "stdout",
     "output_type": "stream",
     "text": [
      "Epoch [151/200], Learning Rate: 1e-08, Teacher forcing ratio: 0.7077888\n",
      "Training: Avg Attenuated Training Loss: 4.8780\n"
     ]
    },
    {
     "name": "stdout",
     "output_type": "stream",
     "text": [
      "Validation: Avg Standard Validation Loss: 6.6829\n",
      "Validation: Avg Attenuated Validation Loss: 4.8423\n",
      "Validation Loss for Scheduler: 6.6829\n",
      "saving model\n"
     ]
    },
    {
     "name": "stdout",
     "output_type": "stream",
     "text": [
      "Epoch [152/200], Learning Rate: 1e-08, Teacher forcing ratio: 0.7077888\n",
      "Training: Avg Attenuated Training Loss: 4.8783\n"
     ]
    },
    {
     "name": "stdout",
     "output_type": "stream",
     "text": [
      "Validation: Avg Standard Validation Loss: 6.7162\n",
      "Validation: Avg Attenuated Validation Loss: 4.8605\n",
      "Validation Loss for Scheduler: 6.7162\n",
      "saving model\n"
     ]
    },
    {
     "name": "stdout",
     "output_type": "stream",
     "text": [
      "Epoch [153/200], Learning Rate: 1e-08, Teacher forcing ratio: 0.7077888\n",
      "Training: Avg Attenuated Training Loss: 4.8786\n"
     ]
    },
    {
     "name": "stdout",
     "output_type": "stream",
     "text": [
      "Validation: Avg Standard Validation Loss: 6.6581\n",
      "Validation: Avg Attenuated Validation Loss: 4.8315\n",
      "Validation Loss for Scheduler: 6.6581\n",
      "saving model\n"
     ]
    },
    {
     "name": "stdout",
     "output_type": "stream",
     "text": [
      "Epoch [154/200], Learning Rate: 1e-08, Teacher forcing ratio: 0.7077888\n",
      "Training: Avg Attenuated Training Loss: 4.8780\n"
     ]
    },
    {
     "name": "stdout",
     "output_type": "stream",
     "text": [
      "Validation: Avg Standard Validation Loss: 6.6673\n",
      "Validation: Avg Attenuated Validation Loss: 4.8346\n",
      "Validation Loss for Scheduler: 6.6673\n",
      "saving model\n"
     ]
    },
    {
     "name": "stdout",
     "output_type": "stream",
     "text": [
      "Epoch [155/200], Learning Rate: 1e-08, Teacher forcing ratio: 0.7077888\n",
      "Training: Avg Attenuated Training Loss: 4.8778\n"
     ]
    },
    {
     "name": "stdout",
     "output_type": "stream",
     "text": [
      "Validation: Avg Standard Validation Loss: 6.6656\n",
      "Validation: Avg Attenuated Validation Loss: 4.8339\n",
      "Validation Loss for Scheduler: 6.6656\n",
      "saving model\n"
     ]
    },
    {
     "name": "stdout",
     "output_type": "stream",
     "text": [
      "Epoch [156/200], Learning Rate: 1e-08, Teacher forcing ratio: 0.7077888\n",
      "Training: Avg Attenuated Training Loss: 4.8781\n"
     ]
    },
    {
     "name": "stdout",
     "output_type": "stream",
     "text": [
      "Validation: Avg Standard Validation Loss: 6.6835\n",
      "Validation: Avg Attenuated Validation Loss: 4.8427\n",
      "Validation Loss for Scheduler: 6.6835\n",
      "saving model\n"
     ]
    },
    {
     "name": "stdout",
     "output_type": "stream",
     "text": [
      "Epoch [157/200], Learning Rate: 1e-08, Teacher forcing ratio: 0.7077888\n",
      "Training: Avg Attenuated Training Loss: 4.8785\n"
     ]
    },
    {
     "name": "stdout",
     "output_type": "stream",
     "text": [
      "Validation: Avg Standard Validation Loss: 6.6424\n",
      "Validation: Avg Attenuated Validation Loss: 4.8238\n",
      "Validation Loss for Scheduler: 6.6424\n",
      "saving model\n"
     ]
    },
    {
     "name": "stdout",
     "output_type": "stream",
     "text": [
      "Epoch [158/200], Learning Rate: 1e-08, Teacher forcing ratio: 0.7077888\n",
      "Training: Avg Attenuated Training Loss: 4.8777\n"
     ]
    },
    {
     "name": "stdout",
     "output_type": "stream",
     "text": [
      "Validation: Avg Standard Validation Loss: 6.6818\n",
      "Validation: Avg Attenuated Validation Loss: 4.8429\n",
      "Validation Loss for Scheduler: 6.6818\n",
      "saving model\n"
     ]
    },
    {
     "name": "stdout",
     "output_type": "stream",
     "text": [
      "Epoch [159/200], Learning Rate: 1e-08, Teacher forcing ratio: 0.7077888\n",
      "Training: Avg Attenuated Training Loss: 4.8786\n"
     ]
    },
    {
     "name": "stdout",
     "output_type": "stream",
     "text": [
      "Validation: Avg Standard Validation Loss: 6.6663\n",
      "Validation: Avg Attenuated Validation Loss: 4.8359\n",
      "Validation Loss for Scheduler: 6.6663\n",
      "saving model\n"
     ]
    },
    {
     "name": "stdout",
     "output_type": "stream",
     "text": [
      "Epoch [160/200], Learning Rate: 1e-08, Teacher forcing ratio: 0.7077888\n",
      "Training: Avg Attenuated Training Loss: 4.8782\n"
     ]
    },
    {
     "name": "stdout",
     "output_type": "stream",
     "text": [
      "Validation: Avg Standard Validation Loss: 6.6745\n",
      "Validation: Avg Attenuated Validation Loss: 4.8392\n",
      "Validation Loss for Scheduler: 6.6745\n",
      "saving model\n"
     ]
    },
    {
     "name": "stdout",
     "output_type": "stream",
     "text": [
      "Epoch [161/200], Learning Rate: 1e-08, Teacher forcing ratio: 0.679477248\n",
      "Training: Avg Attenuated Training Loss: 4.8776\n"
     ]
    },
    {
     "name": "stdout",
     "output_type": "stream",
     "text": [
      "Validation: Avg Standard Validation Loss: 6.6898\n",
      "Validation: Avg Attenuated Validation Loss: 4.8486\n",
      "Validation Loss for Scheduler: 6.6898\n",
      "saving model\n"
     ]
    },
    {
     "name": "stdout",
     "output_type": "stream",
     "text": [
      "Epoch [162/200], Learning Rate: 1e-08, Teacher forcing ratio: 0.679477248\n",
      "Training: Avg Attenuated Training Loss: 4.8781\n"
     ]
    },
    {
     "name": "stdout",
     "output_type": "stream",
     "text": [
      "Validation: Avg Standard Validation Loss: 6.7000\n",
      "Validation: Avg Attenuated Validation Loss: 4.8517\n",
      "Validation Loss for Scheduler: 6.7000\n",
      "saving model\n"
     ]
    },
    {
     "name": "stdout",
     "output_type": "stream",
     "text": [
      "Epoch [163/200], Learning Rate: 1e-08, Teacher forcing ratio: 0.679477248\n",
      "Training: Avg Attenuated Training Loss: 4.8773\n"
     ]
    },
    {
     "name": "stdout",
     "output_type": "stream",
     "text": [
      "Validation: Avg Standard Validation Loss: 6.6788\n",
      "Validation: Avg Attenuated Validation Loss: 4.8415\n",
      "Validation Loss for Scheduler: 6.6788\n",
      "saving model\n"
     ]
    },
    {
     "name": "stdout",
     "output_type": "stream",
     "text": [
      "Epoch [164/200], Learning Rate: 1e-08, Teacher forcing ratio: 0.679477248\n",
      "Training: Avg Attenuated Training Loss: 4.8779\n"
     ]
    },
    {
     "name": "stdout",
     "output_type": "stream",
     "text": [
      "Validation: Avg Standard Validation Loss: 6.6783\n",
      "Validation: Avg Attenuated Validation Loss: 4.8409\n",
      "Validation Loss for Scheduler: 6.6783\n",
      "saving model\n"
     ]
    },
    {
     "name": "stdout",
     "output_type": "stream",
     "text": [
      "Epoch [165/200], Learning Rate: 1e-08, Teacher forcing ratio: 0.679477248\n",
      "Training: Avg Attenuated Training Loss: 4.8781\n"
     ]
    },
    {
     "name": "stdout",
     "output_type": "stream",
     "text": [
      "Validation: Avg Standard Validation Loss: 6.6891\n",
      "Validation: Avg Attenuated Validation Loss: 4.8453\n",
      "Validation Loss for Scheduler: 6.6891\n",
      "saving model\n"
     ]
    },
    {
     "name": "stdout",
     "output_type": "stream",
     "text": [
      "Epoch [166/200], Learning Rate: 1e-08, Teacher forcing ratio: 0.679477248\n",
      "Training: Avg Attenuated Training Loss: 4.8777\n"
     ]
    },
    {
     "name": "stdout",
     "output_type": "stream",
     "text": [
      "Validation: Avg Standard Validation Loss: 6.7077\n",
      "Validation: Avg Attenuated Validation Loss: 4.8554\n",
      "Validation Loss for Scheduler: 6.7077\n",
      "saving model\n"
     ]
    },
    {
     "name": "stdout",
     "output_type": "stream",
     "text": [
      "Epoch [167/200], Learning Rate: 1e-08, Teacher forcing ratio: 0.679477248\n",
      "Training: Avg Attenuated Training Loss: 4.8776\n"
     ]
    },
    {
     "name": "stdout",
     "output_type": "stream",
     "text": [
      "Validation: Avg Standard Validation Loss: 6.6817\n",
      "Validation: Avg Attenuated Validation Loss: 4.8422\n",
      "Validation Loss for Scheduler: 6.6817\n",
      "saving model\n"
     ]
    },
    {
     "name": "stdout",
     "output_type": "stream",
     "text": [
      "Epoch [168/200], Learning Rate: 1e-08, Teacher forcing ratio: 0.679477248\n",
      "Training: Avg Attenuated Training Loss: 4.8779\n"
     ]
    },
    {
     "name": "stdout",
     "output_type": "stream",
     "text": [
      "Validation: Avg Standard Validation Loss: 6.6580\n",
      "Validation: Avg Attenuated Validation Loss: 4.8303\n",
      "Validation Loss for Scheduler: 6.6580\n",
      "saving model\n"
     ]
    },
    {
     "name": "stdout",
     "output_type": "stream",
     "text": [
      "Epoch [169/200], Learning Rate: 1e-08, Teacher forcing ratio: 0.679477248\n",
      "Training: Avg Attenuated Training Loss: 4.8776\n"
     ]
    },
    {
     "name": "stdout",
     "output_type": "stream",
     "text": [
      "Validation: Avg Standard Validation Loss: 6.7143\n",
      "Validation: Avg Attenuated Validation Loss: 4.8582\n",
      "Validation Loss for Scheduler: 6.7143\n",
      "saving model\n"
     ]
    },
    {
     "name": "stdout",
     "output_type": "stream",
     "text": [
      "Epoch [170/200], Learning Rate: 1e-08, Teacher forcing ratio: 0.679477248\n",
      "Training: Avg Attenuated Training Loss: 4.8774\n"
     ]
    },
    {
     "name": "stdout",
     "output_type": "stream",
     "text": [
      "Validation: Avg Standard Validation Loss: 6.6616\n",
      "Validation: Avg Attenuated Validation Loss: 4.8326\n",
      "Validation Loss for Scheduler: 6.6616\n",
      "saving model\n"
     ]
    },
    {
     "name": "stdout",
     "output_type": "stream",
     "text": [
      "Epoch [171/200], Learning Rate: 1e-08, Teacher forcing ratio: 0.679477248\n",
      "Training: Avg Attenuated Training Loss: 4.8781\n"
     ]
    },
    {
     "name": "stdout",
     "output_type": "stream",
     "text": [
      "Validation: Avg Standard Validation Loss: 6.6603\n",
      "Validation: Avg Attenuated Validation Loss: 4.8318\n",
      "Validation Loss for Scheduler: 6.6603\n",
      "saving model\n"
     ]
    },
    {
     "name": "stdout",
     "output_type": "stream",
     "text": [
      "Epoch [172/200], Learning Rate: 1e-08, Teacher forcing ratio: 0.679477248\n",
      "Training: Avg Attenuated Training Loss: 4.8773\n"
     ]
    },
    {
     "name": "stdout",
     "output_type": "stream",
     "text": [
      "Validation: Avg Standard Validation Loss: 6.6813\n",
      "Validation: Avg Attenuated Validation Loss: 4.8405\n",
      "Validation Loss for Scheduler: 6.6813\n",
      "saving model\n"
     ]
    },
    {
     "name": "stdout",
     "output_type": "stream",
     "text": [
      "Epoch [173/200], Learning Rate: 1e-08, Teacher forcing ratio: 0.679477248\n",
      "Training: Avg Attenuated Training Loss: 4.8770\n"
     ]
    },
    {
     "name": "stdout",
     "output_type": "stream",
     "text": [
      "Validation: Avg Standard Validation Loss: 6.6872\n",
      "Validation: Avg Attenuated Validation Loss: 4.8455\n",
      "Validation Loss for Scheduler: 6.6872\n",
      "saving model\n"
     ]
    },
    {
     "name": "stdout",
     "output_type": "stream",
     "text": [
      "Epoch [174/200], Learning Rate: 1e-08, Teacher forcing ratio: 0.679477248\n",
      "Training: Avg Attenuated Training Loss: 4.8775\n"
     ]
    },
    {
     "name": "stdout",
     "output_type": "stream",
     "text": [
      "Validation: Avg Standard Validation Loss: 6.6592\n",
      "Validation: Avg Attenuated Validation Loss: 4.8302\n",
      "Validation Loss for Scheduler: 6.6592\n",
      "saving model\n"
     ]
    },
    {
     "name": "stdout",
     "output_type": "stream",
     "text": [
      "Epoch [175/200], Learning Rate: 1e-08, Teacher forcing ratio: 0.679477248\n",
      "Training: Avg Attenuated Training Loss: 4.8778\n"
     ]
    },
    {
     "name": "stdout",
     "output_type": "stream",
     "text": [
      "Validation: Avg Standard Validation Loss: 6.6988\n",
      "Validation: Avg Attenuated Validation Loss: 4.8516\n",
      "Validation Loss for Scheduler: 6.6988\n",
      "saving model\n"
     ]
    },
    {
     "name": "stdout",
     "output_type": "stream",
     "text": [
      "Epoch [176/200], Learning Rate: 1e-08, Teacher forcing ratio: 0.679477248\n",
      "Training: Avg Attenuated Training Loss: 4.8772\n"
     ]
    },
    {
     "name": "stdout",
     "output_type": "stream",
     "text": [
      "Validation: Avg Standard Validation Loss: 6.6676\n",
      "Validation: Avg Attenuated Validation Loss: 4.8345\n",
      "Validation Loss for Scheduler: 6.6676\n",
      "saving model\n"
     ]
    },
    {
     "name": "stdout",
     "output_type": "stream",
     "text": [
      "Epoch [177/200], Learning Rate: 1e-08, Teacher forcing ratio: 0.679477248\n",
      "Training: Avg Attenuated Training Loss: 4.8777\n"
     ]
    },
    {
     "name": "stdout",
     "output_type": "stream",
     "text": [
      "Validation: Avg Standard Validation Loss: 6.6556\n",
      "Validation: Avg Attenuated Validation Loss: 4.8282\n",
      "Validation Loss for Scheduler: 6.6556\n",
      "saving model\n"
     ]
    },
    {
     "name": "stdout",
     "output_type": "stream",
     "text": [
      "Epoch [178/200], Learning Rate: 1e-08, Teacher forcing ratio: 0.679477248\n",
      "Training: Avg Attenuated Training Loss: 4.8769\n"
     ]
    },
    {
     "name": "stdout",
     "output_type": "stream",
     "text": [
      "Validation: Avg Standard Validation Loss: 6.6872\n",
      "Validation: Avg Attenuated Validation Loss: 4.8438\n",
      "Validation Loss for Scheduler: 6.6872\n",
      "saving model\n"
     ]
    },
    {
     "name": "stdout",
     "output_type": "stream",
     "text": [
      "Epoch [179/200], Learning Rate: 1e-08, Teacher forcing ratio: 0.679477248\n",
      "Training: Avg Attenuated Training Loss: 4.8775\n"
     ]
    },
    {
     "name": "stdout",
     "output_type": "stream",
     "text": [
      "Validation: Avg Standard Validation Loss: 6.7169\n",
      "Validation: Avg Attenuated Validation Loss: 4.8597\n",
      "Validation Loss for Scheduler: 6.7169\n",
      "saving model\n"
     ]
    },
    {
     "name": "stdout",
     "output_type": "stream",
     "text": [
      "Epoch [180/200], Learning Rate: 1e-08, Teacher forcing ratio: 0.679477248\n",
      "Training: Avg Attenuated Training Loss: 4.8773\n"
     ]
    },
    {
     "name": "stdout",
     "output_type": "stream",
     "text": [
      "Validation: Avg Standard Validation Loss: 6.6533\n",
      "Validation: Avg Attenuated Validation Loss: 4.8275\n",
      "Validation Loss for Scheduler: 6.6533\n",
      "saving model\n"
     ]
    },
    {
     "name": "stdout",
     "output_type": "stream",
     "text": [
      "Epoch [181/200], Learning Rate: 1e-08, Teacher forcing ratio: 0.679477248\n",
      "Training: Avg Attenuated Training Loss: 4.8778\n"
     ]
    },
    {
     "name": "stdout",
     "output_type": "stream",
     "text": [
      "Validation: Avg Standard Validation Loss: 6.6784\n",
      "Validation: Avg Attenuated Validation Loss: 4.8405\n",
      "Validation Loss for Scheduler: 6.6784\n",
      "saving model\n"
     ]
    },
    {
     "name": "stdout",
     "output_type": "stream",
     "text": [
      "Epoch [182/200], Learning Rate: 1e-08, Teacher forcing ratio: 0.679477248\n",
      "Training: Avg Attenuated Training Loss: 4.8768\n"
     ]
    },
    {
     "name": "stdout",
     "output_type": "stream",
     "text": [
      "Validation: Avg Standard Validation Loss: 6.6544\n",
      "Validation: Avg Attenuated Validation Loss: 4.8292\n",
      "Validation Loss for Scheduler: 6.6544\n",
      "saving model\n"
     ]
    },
    {
     "name": "stdout",
     "output_type": "stream",
     "text": [
      "Epoch [183/200], Learning Rate: 1e-08, Teacher forcing ratio: 0.679477248\n",
      "Training: Avg Attenuated Training Loss: 4.8773\n"
     ]
    },
    {
     "name": "stdout",
     "output_type": "stream",
     "text": [
      "Validation: Avg Standard Validation Loss: 6.6958\n",
      "Validation: Avg Attenuated Validation Loss: 4.8492\n",
      "Validation Loss for Scheduler: 6.6958\n",
      "saving model\n"
     ]
    },
    {
     "name": "stdout",
     "output_type": "stream",
     "text": [
      "Epoch [184/200], Learning Rate: 1e-08, Teacher forcing ratio: 0.679477248\n",
      "Training: Avg Attenuated Training Loss: 4.8774\n"
     ]
    },
    {
     "name": "stdout",
     "output_type": "stream",
     "text": [
      "Validation: Avg Standard Validation Loss: 6.6912\n",
      "Validation: Avg Attenuated Validation Loss: 4.8453\n",
      "Validation Loss for Scheduler: 6.6912\n",
      "saving model\n"
     ]
    },
    {
     "name": "stdout",
     "output_type": "stream",
     "text": [
      "Epoch [185/200], Learning Rate: 1e-08, Teacher forcing ratio: 0.679477248\n",
      "Training: Avg Attenuated Training Loss: 4.8767\n"
     ]
    },
    {
     "name": "stdout",
     "output_type": "stream",
     "text": [
      "Validation: Avg Standard Validation Loss: 6.7000\n",
      "Validation: Avg Attenuated Validation Loss: 4.8490\n",
      "Validation Loss for Scheduler: 6.7000\n",
      "saving model\n"
     ]
    },
    {
     "name": "stdout",
     "output_type": "stream",
     "text": [
      "Epoch [186/200], Learning Rate: 1e-08, Teacher forcing ratio: 0.679477248\n",
      "Training: Avg Attenuated Training Loss: 4.8772\n"
     ]
    },
    {
     "name": "stdout",
     "output_type": "stream",
     "text": [
      "Validation: Avg Standard Validation Loss: 6.7029\n",
      "Validation: Avg Attenuated Validation Loss: 4.8528\n",
      "Validation Loss for Scheduler: 6.7029\n",
      "saving model\n"
     ]
    },
    {
     "name": "stdout",
     "output_type": "stream",
     "text": [
      "Epoch [187/200], Learning Rate: 1e-08, Teacher forcing ratio: 0.679477248\n",
      "Training: Avg Attenuated Training Loss: 4.8775\n"
     ]
    },
    {
     "name": "stdout",
     "output_type": "stream",
     "text": [
      "Validation: Avg Standard Validation Loss: 6.6811\n",
      "Validation: Avg Attenuated Validation Loss: 4.8429\n",
      "Validation Loss for Scheduler: 6.6811\n",
      "saving model\n"
     ]
    },
    {
     "name": "stdout",
     "output_type": "stream",
     "text": [
      "Epoch [188/200], Learning Rate: 1e-08, Teacher forcing ratio: 0.679477248\n",
      "Training: Avg Attenuated Training Loss: 4.8766\n"
     ]
    },
    {
     "name": "stdout",
     "output_type": "stream",
     "text": [
      "Validation: Avg Standard Validation Loss: 6.6687\n",
      "Validation: Avg Attenuated Validation Loss: 4.8363\n",
      "Validation Loss for Scheduler: 6.6687\n",
      "saving model\n"
     ]
    },
    {
     "name": "stdout",
     "output_type": "stream",
     "text": [
      "Epoch [189/200], Learning Rate: 1e-08, Teacher forcing ratio: 0.679477248\n",
      "Training: Avg Attenuated Training Loss: 4.8775\n"
     ]
    },
    {
     "name": "stdout",
     "output_type": "stream",
     "text": [
      "Validation: Avg Standard Validation Loss: 6.6435\n",
      "Validation: Avg Attenuated Validation Loss: 4.8228\n",
      "Validation Loss for Scheduler: 6.6435\n",
      "saving model\n"
     ]
    },
    {
     "name": "stdout",
     "output_type": "stream",
     "text": [
      "Epoch [190/200], Learning Rate: 1e-08, Teacher forcing ratio: 0.679477248\n",
      "Training: Avg Attenuated Training Loss: 4.8769\n"
     ]
    },
    {
     "name": "stdout",
     "output_type": "stream",
     "text": [
      "Validation: Avg Standard Validation Loss: 6.6817\n",
      "Validation: Avg Attenuated Validation Loss: 4.8411\n",
      "Validation Loss for Scheduler: 6.6817\n",
      "saving model\n"
     ]
    },
    {
     "name": "stdout",
     "output_type": "stream",
     "text": [
      "Epoch [191/200], Learning Rate: 1e-08, Teacher forcing ratio: 0.679477248\n",
      "Training: Avg Attenuated Training Loss: 4.8775\n"
     ]
    },
    {
     "name": "stdout",
     "output_type": "stream",
     "text": [
      "Validation: Avg Standard Validation Loss: 6.6761\n",
      "Validation: Avg Attenuated Validation Loss: 4.8387\n",
      "Validation Loss for Scheduler: 6.6761\n",
      "saving model\n"
     ]
    },
    {
     "name": "stdout",
     "output_type": "stream",
     "text": [
      "Epoch [192/200], Learning Rate: 1e-08, Teacher forcing ratio: 0.679477248\n",
      "Training: Avg Attenuated Training Loss: 4.8768\n"
     ]
    },
    {
     "name": "stdout",
     "output_type": "stream",
     "text": [
      "Validation: Avg Standard Validation Loss: 6.6826\n",
      "Validation: Avg Attenuated Validation Loss: 4.8429\n",
      "Validation Loss for Scheduler: 6.6826\n",
      "saving model\n"
     ]
    },
    {
     "name": "stdout",
     "output_type": "stream",
     "text": [
      "Epoch [193/200], Learning Rate: 1e-08, Teacher forcing ratio: 0.679477248\n",
      "Training: Avg Attenuated Training Loss: 4.8765\n"
     ]
    },
    {
     "name": "stdout",
     "output_type": "stream",
     "text": [
      "Validation: Avg Standard Validation Loss: 6.7775\n",
      "Validation: Avg Attenuated Validation Loss: 4.8914\n",
      "Validation Loss for Scheduler: 6.7775\n",
      "saving model\n"
     ]
    },
    {
     "name": "stdout",
     "output_type": "stream",
     "text": [
      "Epoch [194/200], Learning Rate: 1e-08, Teacher forcing ratio: 0.679477248\n",
      "Training: Avg Attenuated Training Loss: 4.8769\n"
     ]
    },
    {
     "name": "stdout",
     "output_type": "stream",
     "text": [
      "Validation: Avg Standard Validation Loss: 6.6721\n",
      "Validation: Avg Attenuated Validation Loss: 4.8368\n",
      "Validation Loss for Scheduler: 6.6721\n",
      "saving model\n"
     ]
    },
    {
     "name": "stdout",
     "output_type": "stream",
     "text": [
      "Epoch [195/200], Learning Rate: 1e-08, Teacher forcing ratio: 0.679477248\n",
      "Training: Avg Attenuated Training Loss: 4.8769\n"
     ]
    },
    {
     "name": "stdout",
     "output_type": "stream",
     "text": [
      "Validation: Avg Standard Validation Loss: 6.6944\n",
      "Validation: Avg Attenuated Validation Loss: 4.8460\n",
      "Validation Loss for Scheduler: 6.6944\n",
      "saving model\n"
     ]
    },
    {
     "name": "stdout",
     "output_type": "stream",
     "text": [
      "Epoch [196/200], Learning Rate: 1e-08, Teacher forcing ratio: 0.679477248\n",
      "Training: Avg Attenuated Training Loss: 4.8767\n"
     ]
    },
    {
     "name": "stdout",
     "output_type": "stream",
     "text": [
      "Validation: Avg Standard Validation Loss: 6.7069\n",
      "Validation: Avg Attenuated Validation Loss: 4.8543\n",
      "Validation Loss for Scheduler: 6.7069\n",
      "saving model\n"
     ]
    },
    {
     "name": "stdout",
     "output_type": "stream",
     "text": [
      "Epoch [197/200], Learning Rate: 1e-08, Teacher forcing ratio: 0.679477248\n",
      "Training: Avg Attenuated Training Loss: 4.8772\n"
     ]
    },
    {
     "name": "stdout",
     "output_type": "stream",
     "text": [
      "Validation: Avg Standard Validation Loss: 6.6863\n",
      "Validation: Avg Attenuated Validation Loss: 4.8446\n",
      "Validation Loss for Scheduler: 6.6863\n",
      "saving model\n"
     ]
    },
    {
     "name": "stdout",
     "output_type": "stream",
     "text": [
      "Epoch [198/200], Learning Rate: 1e-08, Teacher forcing ratio: 0.679477248\n",
      "Training: Avg Attenuated Training Loss: 4.8771\n"
     ]
    },
    {
     "name": "stdout",
     "output_type": "stream",
     "text": [
      "Validation: Avg Standard Validation Loss: 6.6652\n",
      "Validation: Avg Attenuated Validation Loss: 4.8349\n",
      "Validation Loss for Scheduler: 6.6652\n",
      "saving model\n"
     ]
    },
    {
     "name": "stdout",
     "output_type": "stream",
     "text": [
      "Epoch [199/200], Learning Rate: 1e-08, Teacher forcing ratio: 0.679477248\n",
      "Training: Avg Attenuated Training Loss: 4.8764\n"
     ]
    },
    {
     "name": "stdout",
     "output_type": "stream",
     "text": [
      "Validation: Avg Standard Validation Loss: 6.6549\n",
      "Validation: Avg Attenuated Validation Loss: 4.8284\n",
      "Validation Loss for Scheduler: 6.6549\n",
      "saving model\n"
     ]
    },
    {
     "name": "stdout",
     "output_type": "stream",
     "text": [
      "Epoch [200/200], Learning Rate: 1e-08, Teacher forcing ratio: 0.679477248\n",
      "Training: Avg Attenuated Training Loss: 4.8757\n"
     ]
    },
    {
     "name": "stdout",
     "output_type": "stream",
     "text": [
      "Validation: Avg Standard Validation Loss: 6.8226\n",
      "Validation: Avg Attenuated Validation Loss: 4.9144\n",
      "Validation Loss for Scheduler: 6.8226\n",
      "saving model\n",
      "Training complete.\n",
      "Model saved to path: repair_shop_full_no_grad_norm_new_1.pkl\n"
     ]
    }
   ],
   "source": [
    "import trainer.trainer\n",
    "importlib.reload(trainer.trainer)\n",
    "from trainer.trainer import Trainer\n",
    "from torch.optim.lr_scheduler import ReduceLROnPlateau\n",
    "\n",
    "from torch.utils.tensorboard import SummaryWriter\n",
    "\n",
    "writer = SummaryWriter(comment=\"Full_Repair_shop_no_grad\")\n",
    "\n",
    "# device\n",
    "device = torch.device(\"cuda\" if torch.cuda.is_available() else \"cpu\")\n",
    "\n",
    "# Start learning rate\n",
    "learning_rate = 1e-6\n",
    "\n",
    "# Optimizer and Scheduler\n",
    "optimizer = torch.optim.Adam(params=model.parameters(), lr=learning_rate, weight_decay=0)\n",
    "\n",
    "scheduler = ReduceLROnPlateau(optimizer, mode='min', factor=0.1, patience=2, min_lr=1e-10)\n",
    "\n",
    "# Epochs\n",
    "num_epochs = 200\n",
    "\n",
    "# BATCHING does not work currntly with custom implementation\n",
    "batch_size = 256\n",
    "\n",
    "# lambda for L2 (weight, bias, dropout) regularization: According to formula: 1/2N\n",
    "regularization_term = 1.0/(2.0*batch_size)\n",
    "\n",
    "# shuffle data\n",
    "shuffle = True\n",
    "\n",
    "# Teacher forcing: Smaller 0.5 more target events are used for next event prediction.\n",
    "teacher_forcing_ratio = 0.8\n",
    "\n",
    "optimize_values = {\"regularization_term\":regularization_term,\n",
    "                   \"optimizer\":optimizer,\n",
    "                   \"scheduler\": scheduler,\n",
    "                   \"epochs\":num_epochs,\n",
    "                   \"mini_batches\":batch_size,\n",
    "                   \"shuffle\": shuffle,\n",
    "                   \"teacher_forcing_ratio\":teacher_forcing_ratio,}\n",
    "\n",
    "suffix_data_split_value = 4\n",
    "\n",
    "# GradNorm parameter\n",
    "gradNorm = {\"use_gradnorm\":False}\n",
    "\n",
    "## Changed name because of good results of actual model\n",
    "\n",
    "trainer = Trainer(device=device,\n",
    "                  model=model,\n",
    "                  data_train=BPIC_17_train_dataset,\n",
    "                  data_val=BPIC_17_val_dataset,\n",
    "                  loss_obj=loss_obj,\n",
    "                  log_normal_loss_num_feature= [],\n",
    "                  optimize_values=optimize_values,\n",
    "                  suffix_data_split_value=suffix_data_split_value,\n",
    "                  writer=writer,\n",
    "                  gradnorm_values=gradNorm,\n",
    "                  save_model_n_th_epoch = 1,\n",
    "                  saving_path = 'repair_shop_full_no_grad_norm_new_1.pkl')\n",
    "\n",
    "# Train the model:\n",
    "train_attenuated_losses, val_losses, val_attenuated_losses = trainer.train_model()"
   ]
  },
  {
   "cell_type": "markdown",
   "metadata": {},
   "source": [
    "# Training Visualization"
   ]
  },
  {
   "cell_type": "code",
   "execution_count": 8,
   "metadata": {
    "execution": {
     "iopub.execute_input": "2025-05-25T16:13:43.320938Z",
     "iopub.status.busy": "2025-05-25T16:13:43.319895Z",
     "iopub.status.idle": "2025-05-25T16:13:44.103031Z",
     "shell.execute_reply": "2025-05-25T16:13:44.102790Z"
    }
   },
   "outputs": [
    {
     "data": {
      "image/png": "[encoded data removed]",
      "text/plain": [
       "<Figure size 640x480 with 1 Axes>"
      ]
     },
     "metadata": {},
     "output_type": "display_data"
    }
   ],
   "source": [
    "import matplotlib.pyplot as plt\n",
    "\n",
    "# After training is finished, plot the loss curves\n",
    "plt.plot(range(1, num_epochs+1), train_attenuated_losses, label='Training Attenuated Loss', color='blue')\n",
    "plt.plot(range(1, num_epochs+1), val_losses, label='Validation Loss', color='orange')\n",
    "plt.plot(range(1, num_epochs+1), val_attenuated_losses, label='Validation Attenuated Loss', color='green')\n",
    "# Labeling x and y axes\n",
    "plt.xlabel('Epochs', fontsize=12)\n",
    "plt.ylabel('Loss', fontsize=12)\n",
    "# Adding title\n",
    "plt.title('Training and Validation Loss Curve', fontsize=14)\n",
    "# Adding legend\n",
    "plt.legend()\n",
    "# Show the plot\n",
    "plt.show()"
   ]
  }
 ],
 "metadata": {
  "kernelspec": {
   "display_name": "PrimePPM-tDGhFIeG",
   "language": "python",
   "name": "python3"
  },
  "language_info": {
   "codemirror_mode": {
    "name": "ipython",
    "version": 3
   },
   "file_extension": ".py",
   "mimetype": "text/x-python",
   "name": "python",
   "nbconvert_exporter": "python",
   "pygments_lexer": "ipython3",
   "version": "3.13.1"
  },
  "widgets": {
   "application/vnd.jupyter.widget-state+json": {
    "state": {
     "10b29b87308d4d3bbd5e4ab97c686f83": {
      "model_module": "@jupyter-widgets/base",
      "model_module_version": "2.0.0",
      "model_name": "LayoutModel",
      "state": {
       "_model_module": "@jupyter-widgets/base",
       "_model_module_version": "2.0.0",
       "_model_name": "LayoutModel",
       "_view_count": null,
       "_view_module": "@jupyter-widgets/base",
       "_view_module_version": "2.0.0",
       "_view_name": "LayoutView",
       "align_content": null,
       "align_items": null,
       "align_self": null,
       "border_bottom": null,
       "border_left": null,
       "border_right": null,
       "border_top": null,
       "bottom": null,
       "display": null,
       "flex": null,
       "flex_flow": null,
       "grid_area": null,
       "grid_auto_columns": null,
       "grid_auto_flow": null,
       "grid_auto_rows": null,
       "grid_column": null,
       "grid_gap": null,
       "grid_row": null,
       "grid_template_areas": null,
       "grid_template_columns": null,
       "grid_template_rows": null,
       "height": null,
       "justify_content": null,
       "justify_items": null,
       "left": null,
       "margin": null,
       "max_height": null,
       "max_width": null,
       "min_height": null,
       "min_width": null,
       "object_fit": null,
       "object_position": null,
       "order": null,
       "overflow": null,
       "padding": null,
       "right": null,
       "top": null,
       "visibility": null,
       "width": null
      }
     },
     "20dc00d13b0a40aa9f82741caa7ee61f": {
      "model_module": "@jupyter-widgets/controls",
      "model_module_version": "2.0.0",
      "model_name": "HBoxModel",
      "state": {
       "_dom_classes": [],
       "_model_module": "@jupyter-widgets/controls",
       "_model_module_version": "2.0.0",
       "_model_name": "HBoxModel",
       "_view_count": null,
       "_view_module": "@jupyter-widgets/controls",
       "_view_module_version": "2.0.0",
       "_view_name": "HBoxView",
       "box_style": "",
       "children": [
        "IPY_MODEL_353b9310f4b74eda9bcad1e6635081e6",
        "IPY_MODEL_e76055c1eede4ae8861006552aa57ce6",
        "IPY_MODEL_a842e68e7fba4523bf538cdecf441939"
       ],
       "layout": "IPY_MODEL_5fd2252a62e344098bb4928c718ec918",
       "tabbable": null,
       "tooltip": null
      }
     },
     "23f27ed5e9ed472f8a3ccf3ae231b2b5": {
      "model_module": "@jupyter-widgets/controls",
      "model_module_version": "2.0.0",
      "model_name": "ProgressStyleModel",
      "state": {
       "_model_module": "@jupyter-widgets/controls",
       "_model_module_version": "2.0.0",
       "_model_name": "ProgressStyleModel",
       "_view_count": null,
       "_view_module": "@jupyter-widgets/base",
       "_view_module_version": "2.0.0",
       "_view_name": "StyleView",
       "bar_color": null,
       "description_width": ""
      }
     },
     "353b9310f4b74eda9bcad1e6635081e6": {
      "model_module": "@jupyter-widgets/controls",
      "model_module_version": "2.0.0",
      "model_name": "HTMLModel",
      "state": {
       "_dom_classes": [],
       "_model_module": "@jupyter-widgets/controls",
       "_model_module_version": "2.0.0",
       "_model_name": "HTMLModel",
       "_view_count": null,
       "_view_module": "@jupyter-widgets/controls",
       "_view_module_version": "2.0.0",
       "_view_name": "HTMLView",
       "description": "",
       "description_allow_html": false,
       "layout": "IPY_MODEL_c4fcc5cb9274475eab589844d79f0698",
       "placeholder": "​",
       "style": "IPY_MODEL_90ad4afab7c5422cad88a969cacd7cbe",
       "tabbable": null,
       "tooltip": null,
       "value": "100%"
      }
     },
     "5fd2252a62e344098bb4928c718ec918": {
      "model_module": "@jupyter-widgets/base",
      "model_module_version": "2.0.0",
      "model_name": "LayoutModel",
      "state": {
       "_model_module": "@jupyter-widgets/base",
       "_model_module_version": "2.0.0",
       "_model_name": "LayoutModel",
       "_view_count": null,
       "_view_module": "@jupyter-widgets/base",
       "_view_module_version": "2.0.0",
       "_view_name": "LayoutView",
       "align_content": null,
       "align_items": null,
       "align_self": null,
       "border_bottom": null,
       "border_left": null,
       "border_right": null,
       "border_top": null,
       "bottom": null,
       "display": null,
       "flex": null,
       "flex_flow": null,
       "grid_area": null,
       "grid_auto_columns": null,
       "grid_auto_flow": null,
       "grid_auto_rows": null,
       "grid_column": null,
       "grid_gap": null,
       "grid_row": null,
       "grid_template_areas": null,
       "grid_template_columns": null,
       "grid_template_rows": null,
       "height": null,
       "justify_content": null,
       "justify_items": null,
       "left": null,
       "margin": null,
       "max_height": null,
       "max_width": null,
       "min_height": null,
       "min_width": null,
       "object_fit": null,
       "object_position": null,
       "order": null,
       "overflow": null,
       "padding": null,
       "right": null,
       "top": null,
       "visibility": null,
       "width": null
      }
     },
     "8dac0d0f6a194cb99595e1531639a6ee": {
      "model_module": "@jupyter-widgets/controls",
      "model_module_version": "2.0.0",
      "model_name": "HTMLStyleModel",
      "state": {
       "_model_module": "@jupyter-widgets/controls",
       "_model_module_version": "2.0.0",
       "_model_name": "HTMLStyleModel",
       "_view_count": null,
       "_view_module": "@jupyter-widgets/base",
       "_view_module_version": "2.0.0",
       "_view_name": "StyleView",
       "background": null,
       "description_width": "",
       "font_size": null,
       "text_color": null
      }
     },
     "90ad4afab7c5422cad88a969cacd7cbe": {
      "model_module": "@jupyter-widgets/controls",
      "model_module_version": "2.0.0",
      "model_name": "HTMLStyleModel",
      "state": {
       "_model_module": "@jupyter-widgets/controls",
       "_model_module_version": "2.0.0",
       "_model_name": "HTMLStyleModel",
       "_view_count": null,
       "_view_module": "@jupyter-widgets/base",
       "_view_module_version": "2.0.0",
       "_view_name": "StyleView",
       "background": null,
       "description_width": "",
       "font_size": null,
       "text_color": null
      }
     },
     "a842e68e7fba4523bf538cdecf441939": {
      "model_module": "@jupyter-widgets/controls",
      "model_module_version": "2.0.0",
      "model_name": "HTMLModel",
      "state": {
       "_dom_classes": [],
       "_model_module": "@jupyter-widgets/controls",
       "_model_module_version": "2.0.0",
       "_model_name": "HTMLModel",
       "_view_count": null,
       "_view_module": "@jupyter-widgets/controls",
       "_view_module_version": "2.0.0",
       "_view_name": "HTMLView",
       "description": "",
       "description_allow_html": false,
       "layout": "IPY_MODEL_c050bb3c8a8343f294286021e99b8281",
       "placeholder": "​",
       "style": "IPY_MODEL_8dac0d0f6a194cb99595e1531639a6ee",
       "tabbable": null,
       "tooltip": null,
       "value": " 200/200 [56:29&lt;00:00, 13.68s/it]"
      }
     },
     "c050bb3c8a8343f294286021e99b8281": {
      "model_module": "@jupyter-widgets/base",
      "model_module_version": "2.0.0",
      "model_name": "LayoutModel",
      "state": {
       "_model_module": "@jupyter-widgets/base",
       "_model_module_version": "2.0.0",
       "_model_name": "LayoutModel",
       "_view_count": null,
       "_view_module": "@jupyter-widgets/base",
       "_view_module_version": "2.0.0",
       "_view_name": "LayoutView",
       "align_content": null,
       "align_items": null,
       "align_self": null,
       "border_bottom": null,
       "border_left": null,
       "border_right": null,
       "border_top": null,
       "bottom": null,
       "display": null,
       "flex": null,
       "flex_flow": null,
       "grid_area": null,
       "grid_auto_columns": null,
       "grid_auto_flow": null,
       "grid_auto_rows": null,
       "grid_column": null,
       "grid_gap": null,
       "grid_row": null,
       "grid_template_areas": null,
       "grid_template_columns": null,
       "grid_template_rows": null,
       "height": null,
       "justify_content": null,
       "justify_items": null,
       "left": null,
       "margin": null,
       "max_height": null,
       "max_width": null,
       "min_height": null,
       "min_width": null,
       "object_fit": null,
       "object_position": null,
       "order": null,
       "overflow": null,
       "padding": null,
       "right": null,
       "top": null,
       "visibility": null,
       "width": null
      }
     },
     "c4fcc5cb9274475eab589844d79f0698": {
      "model_module": "@jupyter-widgets/base",
      "model_module_version": "2.0.0",
      "model_name": "LayoutModel",
      "state": {
       "_model_module": "@jupyter-widgets/base",
       "_model_module_version": "2.0.0",
       "_model_name": "LayoutModel",
       "_view_count": null,
       "_view_module": "@jupyter-widgets/base",
       "_view_module_version": "2.0.0",
       "_view_name": "LayoutView",
       "align_content": null,
       "align_items": null,
       "align_self": null,
       "border_bottom": null,
       "border_left": null,
       "border_right": null,
       "border_top": null,
       "bottom": null,
       "display": null,
       "flex": null,
       "flex_flow": null,
       "grid_area": null,
       "grid_auto_columns": null,
       "grid_auto_flow": null,
       "grid_auto_rows": null,
       "grid_column": null,
       "grid_gap": null,
       "grid_row": null,
       "grid_template_areas": null,
       "grid_template_columns": null,
       "grid_template_rows": null,
       "height": null,
       "justify_content": null,
       "justify_items": null,
       "left": null,
       "margin": null,
       "max_height": null,
       "max_width": null,
       "min_height": null,
       "min_width": null,
       "object_fit": null,
       "object_position": null,
       "order": null,
       "overflow": null,
       "padding": null,
       "right": null,
       "top": null,
       "visibility": null,
       "width": null
      }
     },
     "e76055c1eede4ae8861006552aa57ce6": {
      "model_module": "@jupyter-widgets/controls",
      "model_module_version": "2.0.0",
      "model_name": "FloatProgressModel",
      "state": {
       "_dom_classes": [],
       "_model_module": "@jupyter-widgets/controls",
       "_model_module_version": "2.0.0",
       "_model_name": "FloatProgressModel",
       "_view_count": null,
       "_view_module": "@jupyter-widgets/controls",
       "_view_module_version": "2.0.0",
       "_view_name": "ProgressView",
       "bar_style": "success",
       "description": "",
       "description_allow_html": false,
       "layout": "IPY_MODEL_10b29b87308d4d3bbd5e4ab97c686f83",
       "max": 200,
       "min": 0,
       "orientation": "horizontal",
       "style": "IPY_MODEL_23f27ed5e9ed472f8a3ccf3ae231b2b5",
       "tabbable": null,
       "tooltip": null,
       "value": 200
      }
     }
    },
    "version_major": 2,
    "version_minor": 0
   }
  }
 },
 "nbformat": 4,
 "nbformat_minor": 4
}
