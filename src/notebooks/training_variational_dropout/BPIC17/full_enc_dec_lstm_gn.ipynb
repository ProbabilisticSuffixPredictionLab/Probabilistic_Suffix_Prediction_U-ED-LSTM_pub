{
 "cells": [
  {
   "cell_type": "markdown",
   "metadata": {},
   "source": [
    "# Imports"
   ]
  },
  {
   "cell_type": "code",
   "execution_count": 1,
   "metadata": {
    "execution": {
     "iopub.execute_input": "2025-04-25T14:41:00.724718Z",
     "iopub.status.busy": "2025-04-25T14:41:00.724626Z",
     "iopub.status.idle": "2025-04-25T14:41:01.482062Z",
     "shell.execute_reply": "2025-04-25T14:41:01.481703Z"
    }
   },
   "outputs": [],
   "source": [
    "import importlib\n",
    "import sys\n",
    "import torch\n",
    "\n",
    "sys.path.insert(0, '..')\n",
    "sys.path.insert(0, '../..')\n",
    "sys.path.insert(0, '../../..')"
   ]
  },
  {
   "cell_type": "markdown",
   "metadata": {},
   "source": [
    "# Data"
   ]
  },
  {
   "cell_type": "markdown",
   "metadata": {},
   "source": [
    "### Load Data Files"
   ]
  },
  {
   "cell_type": "code",
   "execution_count": 2,
   "metadata": {
    "execution": {
     "iopub.execute_input": "2025-04-25T14:41:01.483691Z",
     "iopub.status.busy": "2025-04-25T14:41:01.483552Z",
     "iopub.status.idle": "2025-04-25T14:41:07.225121Z",
     "shell.execute_reply": "2025-04-25T14:41:07.224742Z"
    }
   },
   "outputs": [
    {
     "name": "stdout",
     "output_type": "stream",
     "text": [
      "<class 'event_log_loader.new_event_log_loader.EventLogDataset'>\n"
     ]
    },
    {
     "name": "stdout",
     "output_type": "stream",
     "text": [
      "<class 'event_log_loader.new_event_log_loader.EventLogDataset'>\n"
     ]
    }
   ],
   "source": [
    "# Path to your pickle file (saved with torch.save)\n",
    "file_path_train = '../../../../encoded_data/BPIC_2017_all_5_train.pkl'\n",
    "# Load the dataset using torch.load\n",
    "BPIC_17_train_dataset = torch.load(file_path_train, weights_only=False)\n",
    "# Check the type of the loaded dataset\n",
    "print(type(BPIC_17_train_dataset))\n",
    "\n",
    "# Path to your pickle file (saved with torch.save)\n",
    "file_path_val = '../../../../encoded_data/BPIC_2017_all_5_val.pkl'\n",
    "# Load the dataset using torch.load\n",
    "BPIC_17_val_dataset = torch.load(file_path_val, weights_only=False)\n",
    "# Check the type of the loaded dataset\n",
    "print(type(BPIC_17_val_dataset))"
   ]
  },
  {
   "cell_type": "markdown",
   "metadata": {},
   "source": [
    "### Train Data Insights"
   ]
  },
  {
   "cell_type": "code",
   "execution_count": 3,
   "metadata": {
    "execution": {
     "iopub.execute_input": "2025-04-25T14:41:07.226318Z",
     "iopub.status.busy": "2025-04-25T14:41:07.226144Z",
     "iopub.status.idle": "2025-04-25T14:41:07.228964Z",
     "shell.execute_reply": "2025-04-25T14:41:07.228714Z"
    }
   },
   "outputs": [
    {
     "name": "stdout",
     "output_type": "stream",
     "text": [
      "[('concept:name', 28, {'A_Accepted': 1, 'A_Cancelled': 2, 'A_Complete': 3, 'A_Concept': 4, 'A_Create Application': 5, 'A_Denied': 6, 'A_Incomplete': 7, 'A_Pending': 8, 'A_Submitted': 9, 'A_Validating': 10, 'EOS': 11, 'O_Accepted': 12, 'O_Cancelled': 13, 'O_Create Offer': 14, 'O_Created': 15, 'O_Refused': 16, 'O_Returned': 17, 'O_Sent (mail and online)': 18, 'O_Sent (online only)': 19, 'W_Assess potential fraud': 20, 'W_Call after offers': 21, 'W_Call incomplete files': 22, 'W_Complete application': 23, 'W_Handle leads': 24, 'W_Personal Loan collection': 25, 'W_Shortened completion ': 26, 'W_Validate application': 27}), ('Action', 7, {'Created': 1, 'Deleted': 2, 'EOS': 3, 'Obtained': 4, 'Released': 5, 'statechange': 6}), ('org:resource', 151, {'EOS': 1, 'User_1': 2, 'User_10': 3, 'User_100': 4, 'User_101': 5, 'User_102': 6, 'User_103': 7, 'User_104': 8, 'User_105': 9, 'User_106': 10, 'User_107': 11, 'User_108': 12, 'User_109': 13, 'User_11': 14, 'User_110': 15, 'User_111': 16, 'User_112': 17, 'User_113': 18, 'User_114': 19, 'User_115': 20, 'User_116': 21, 'User_117': 22, 'User_118': 23, 'User_119': 24, 'User_12': 25, 'User_120': 26, 'User_121': 27, 'User_122': 28, 'User_123': 29, 'User_124': 30, 'User_125': 31, 'User_126': 32, 'User_127': 33, 'User_128': 34, 'User_129': 35, 'User_13': 36, 'User_130': 37, 'User_131': 38, 'User_132': 39, 'User_133': 40, 'User_134': 41, 'User_135': 42, 'User_136': 43, 'User_137': 44, 'User_138': 45, 'User_139': 46, 'User_14': 47, 'User_140': 48, 'User_141': 49, 'User_142': 50, 'User_143': 51, 'User_144': 52, 'User_145': 53, 'User_146': 54, 'User_147': 55, 'User_148': 56, 'User_149': 57, 'User_15': 58, 'User_16': 59, 'User_17': 60, 'User_18': 61, 'User_19': 62, 'User_2': 63, 'User_20': 64, 'User_21': 65, 'User_22': 66, 'User_23': 67, 'User_24': 68, 'User_25': 69, 'User_26': 70, 'User_27': 71, 'User_28': 72, 'User_29': 73, 'User_3': 74, 'User_30': 75, 'User_31': 76, 'User_32': 77, 'User_33': 78, 'User_34': 79, 'User_35': 80, 'User_36': 81, 'User_37': 82, 'User_38': 83, 'User_39': 84, 'User_4': 85, 'User_40': 86, 'User_41': 87, 'User_42': 88, 'User_43': 89, 'User_44': 90, 'User_45': 91, 'User_46': 92, 'User_47': 93, 'User_48': 94, 'User_49': 95, 'User_5': 96, 'User_50': 97, 'User_51': 98, 'User_52': 99, 'User_53': 100, 'User_54': 101, 'User_55': 102, 'User_56': 103, 'User_57': 104, 'User_58': 105, 'User_59': 106, 'User_6': 107, 'User_60': 108, 'User_61': 109, 'User_62': 110, 'User_63': 111, 'User_64': 112, 'User_65': 113, 'User_66': 114, 'User_67': 115, 'User_68': 116, 'User_69': 117, 'User_7': 118, 'User_70': 119, 'User_71': 120, 'User_72': 121, 'User_73': 122, 'User_74': 123, 'User_75': 124, 'User_76': 125, 'User_77': 126, 'User_78': 127, 'User_79': 128, 'User_8': 129, 'User_80': 130, 'User_81': 131, 'User_82': 132, 'User_83': 133, 'User_84': 134, 'User_85': 135, 'User_86': 136, 'User_87': 137, 'User_88': 138, 'User_89': 139, 'User_9': 140, 'User_90': 141, 'User_91': 142, 'User_92': 143, 'User_93': 144, 'User_94': 145, 'User_95': 146, 'User_96': 147, 'User_97': 148, 'User_98': 149, 'User_99': 150}), ('EventOrigin', 5, {'Application': 1, 'EOS': 2, 'Offer': 3, 'Workflow': 4}), ('lifecycle:transition', 9, {'EOS': 1, 'ate_abort': 2, 'complete': 3, 'resume': 4, 'schedule': 5, 'start': 6, 'suspend': 7, 'withdraw': 8}), ('case:LoanGoal', 16, {'Boat': 1, 'Business goal': 2, 'Car': 3, 'Caravan / Camper': 4, 'Debt restructuring': 5, 'EOS': 6, 'Existing loan takeover': 7, 'Extra spending limit': 8, 'Home improvement': 9, 'Motorcycle': 10, 'Not speficied': 11, 'Other, see explanation': 12, 'Remaining debt home': 13, 'Tax payments': 14, 'Unknown': 15}), ('case:ApplicationType', 4, {'EOS': 1, 'Limit raise': 2, 'New credit': 3}), ('Accepted', 5, {'EOS': 1, 'False': 2, 'True': 3, nan: 4}), ('Selected', 5, {'EOS': 1, 'False': 2, 'True': 3, nan: 4})]\n",
      "[('case_elapsed_time', 1, {}), ('event_elapsed_time', 1, {}), ('day_in_week', 1, {}), ('seconds_in_day', 1, {}), ('case:RequestedAmount', 1, {}), ('FirstWithdrawalAmount', 1, {}), ('NumberOfTerms', 1, {}), ('MonthlyCost', 1, {}), ('CreditScore', 1, {})]\n",
      "BPIC 17 (5) Categorical feature: concept:name, Index position in categorical data list: 0\n",
      "BPIC 17 (5) Total Amount of Category labels: 28\n",
      "BPIC 17 (5) Categorical feature: Action, Index position in categorical data list: 1\n",
      "BPIC 17 (5) Total Amount of Category labels: 7\n",
      "BPIC 17 (5) Categorical feature: org:resource, Index position in categorical data list: 2\n",
      "BPIC 17 (5) Total Amount of Category labels: 151\n",
      "BPIC 17 (5) Categorical feature: EventOrigin, Index position in categorical data list: 3\n",
      "BPIC 17 (5) Total Amount of Category labels: 5\n",
      "BPIC 17 (5) Categorical feature: lifecycle:transition, Index position in categorical data list: 4\n",
      "BPIC 17 (5) Total Amount of Category labels: 9\n",
      "BPIC 17 (5) Categorical feature: case:LoanGoal, Index position in categorical data list: 5\n",
      "BPIC 17 (5) Total Amount of Category labels: 16\n",
      "BPIC 17 (5) Categorical feature: case:ApplicationType, Index position in categorical data list: 6\n",
      "BPIC 17 (5) Total Amount of Category labels: 4\n",
      "BPIC 17 (5) Categorical feature: Accepted, Index position in categorical data list: 7\n",
      "BPIC 17 (5) Total Amount of Category labels: 5\n",
      "BPIC 17 (5) Categorical feature: Selected, Index position in categorical data list: 8\n",
      "BPIC 17 (5) Total Amount of Category labels: 5\n",
      "\n",
      "\n",
      "BPIC 17 (5) Numerical feature: case_elapsed_time, Index position in categorical data list: 0\n",
      "BPIC 17 (5) Amount Category Lables: 1\n",
      "BPIC 17 (5) Numerical feature: event_elapsed_time, Index position in categorical data list: 1\n",
      "BPIC 17 (5) Amount Category Lables: 1\n",
      "BPIC 17 (5) Numerical feature: day_in_week, Index position in categorical data list: 2\n",
      "BPIC 17 (5) Amount Category Lables: 1\n",
      "BPIC 17 (5) Numerical feature: seconds_in_day, Index position in categorical data list: 3\n",
      "BPIC 17 (5) Amount Category Lables: 1\n",
      "BPIC 17 (5) Numerical feature: case:RequestedAmount, Index position in categorical data list: 4\n",
      "BPIC 17 (5) Amount Category Lables: 1\n",
      "BPIC 17 (5) Numerical feature: FirstWithdrawalAmount, Index position in categorical data list: 5\n",
      "BPIC 17 (5) Amount Category Lables: 1\n",
      "BPIC 17 (5) Numerical feature: NumberOfTerms, Index position in categorical data list: 6\n",
      "BPIC 17 (5) Amount Category Lables: 1\n",
      "BPIC 17 (5) Numerical feature: MonthlyCost, Index position in categorical data list: 7\n",
      "BPIC 17 (5) Amount Category Lables: 1\n",
      "BPIC 17 (5) Numerical feature: CreditScore, Index position in categorical data list: 8\n",
      "BPIC 17 (5) Amount Category Lables: 1\n"
     ]
    }
   ],
   "source": [
    "# BPIC 17 Dataset Categories, Features:\n",
    "\n",
    "bpic_17_all_categories = BPIC_17_train_dataset.all_categories\n",
    "\n",
    "bpic_17_all_categories_cat = bpic_17_all_categories[0]\n",
    "print(bpic_17_all_categories_cat)\n",
    "\n",
    "bpic_17_all_categories_num = bpic_17_all_categories[1]\n",
    "print(bpic_17_all_categories_num)\n",
    "\n",
    "for i, cat in enumerate(bpic_17_all_categories_cat):\n",
    "     print(f\"BPIC 17 (5) Categorical feature: {cat[0]}, Index position in categorical data list: {i}\")\n",
    "     print(f\"BPIC 17 (5) Total Amount of Category labels: {cat[1]}\")\n",
    "print('\\n')    \n",
    "for i, num in enumerate(bpic_17_all_categories_num):\n",
    "     print(f\"BPIC 17 (5) Numerical feature: {num[0]}, Index position in categorical data list: {i}\")\n",
    "     print(f\"BPIC 17 (5) Amount Category Lables: {num[1]}\")"
   ]
  },
  {
   "cell_type": "markdown",
   "metadata": {},
   "source": [
    "### Input Features for Encoder and Decoder"
   ]
  },
  {
   "cell_type": "code",
   "execution_count": 4,
   "metadata": {
    "execution": {
     "iopub.execute_input": "2025-04-25T14:41:07.229842Z",
     "iopub.status.busy": "2025-04-25T14:41:07.229754Z",
     "iopub.status.idle": "2025-04-25T14:41:07.232041Z",
     "shell.execute_reply": "2025-04-25T14:41:07.231796Z"
    }
   },
   "outputs": [
    {
     "name": "stdout",
     "output_type": "stream",
     "text": [
      "Input features encoder:  [['concept:name', 'Action', 'org:resource', 'EventOrigin', 'lifecycle:transition', 'case:LoanGoal', 'case:ApplicationType', 'Accepted', 'Selected'], ['case_elapsed_time', 'event_elapsed_time', 'day_in_week', 'seconds_in_day', 'case:RequestedAmount', 'FirstWithdrawalAmount', 'NumberOfTerms', 'MonthlyCost', 'CreditScore']]\n",
      "Features decoder:  [['concept:name', 'org:resource', 'lifecycle:transition'], ['case_elapsed_time', 'event_elapsed_time']]\n"
     ]
    }
   ],
   "source": [
    "# Create lists with name of Encoder features (input) and decoder features (input & output)\n",
    "\n",
    "# Encoder features:\n",
    "enc_feat_cat = []\n",
    "enc_feat_num = []\n",
    "for cat in bpic_17_all_categories_cat:\n",
    "    enc_feat_cat.append(cat[0])\n",
    "for num in bpic_17_all_categories_num:\n",
    "    enc_feat_num.append(num[0])\n",
    "enc_feat = [enc_feat_cat, enc_feat_num]\n",
    "print(\"Input features encoder: \", enc_feat)\n",
    "\n",
    "\"\"\"\n",
    "# Decoder features:\n",
    "dec_feat_cat = enc_feat_cat\n",
    "dec_feat_num = enc_feat_num\n",
    "dec_feat = [dec_feat_cat, dec_feat_num]\n",
    "print(\"Features decoder: \", dec_feat)\n",
    "\"\"\"\n",
    "\n",
    "# Decoder features:\n",
    "dec_feat_cat = ['concept:name', 'org:resource', 'lifecycle:transition']\n",
    "dec_feat_num = ['case_elapsed_time', 'event_elapsed_time']\n",
    "dec_feat = [dec_feat_cat, dec_feat_num]\n",
    "print(\"Features decoder: \", dec_feat)"
   ]
  },
  {
   "cell_type": "markdown",
   "metadata": {},
   "source": [
    "# Model"
   ]
  },
  {
   "cell_type": "code",
   "execution_count": 5,
   "metadata": {
    "execution": {
     "iopub.execute_input": "2025-04-25T14:41:07.232988Z",
     "iopub.status.busy": "2025-04-25T14:41:07.232787Z",
     "iopub.status.idle": "2025-04-25T14:41:07.246178Z",
     "shell.execute_reply": "2025-04-25T14:41:07.245912Z"
    }
   },
   "outputs": [
    {
     "name": "stdout",
     "output_type": "stream",
     "text": [
      "Data set categories:  ([('concept:name', 28, {'A_Accepted': 1, 'A_Cancelled': 2, 'A_Complete': 3, 'A_Concept': 4, 'A_Create Application': 5, 'A_Denied': 6, 'A_Incomplete': 7, 'A_Pending': 8, 'A_Submitted': 9, 'A_Validating': 10, 'EOS': 11, 'O_Accepted': 12, 'O_Cancelled': 13, 'O_Create Offer': 14, 'O_Created': 15, 'O_Refused': 16, 'O_Returned': 17, 'O_Sent (mail and online)': 18, 'O_Sent (online only)': 19, 'W_Assess potential fraud': 20, 'W_Call after offers': 21, 'W_Call incomplete files': 22, 'W_Complete application': 23, 'W_Handle leads': 24, 'W_Personal Loan collection': 25, 'W_Shortened completion ': 26, 'W_Validate application': 27}), ('Action', 7, {'Created': 1, 'Deleted': 2, 'EOS': 3, 'Obtained': 4, 'Released': 5, 'statechange': 6}), ('org:resource', 151, {'EOS': 1, 'User_1': 2, 'User_10': 3, 'User_100': 4, 'User_101': 5, 'User_102': 6, 'User_103': 7, 'User_104': 8, 'User_105': 9, 'User_106': 10, 'User_107': 11, 'User_108': 12, 'User_109': 13, 'User_11': 14, 'User_110': 15, 'User_111': 16, 'User_112': 17, 'User_113': 18, 'User_114': 19, 'User_115': 20, 'User_116': 21, 'User_117': 22, 'User_118': 23, 'User_119': 24, 'User_12': 25, 'User_120': 26, 'User_121': 27, 'User_122': 28, 'User_123': 29, 'User_124': 30, 'User_125': 31, 'User_126': 32, 'User_127': 33, 'User_128': 34, 'User_129': 35, 'User_13': 36, 'User_130': 37, 'User_131': 38, 'User_132': 39, 'User_133': 40, 'User_134': 41, 'User_135': 42, 'User_136': 43, 'User_137': 44, 'User_138': 45, 'User_139': 46, 'User_14': 47, 'User_140': 48, 'User_141': 49, 'User_142': 50, 'User_143': 51, 'User_144': 52, 'User_145': 53, 'User_146': 54, 'User_147': 55, 'User_148': 56, 'User_149': 57, 'User_15': 58, 'User_16': 59, 'User_17': 60, 'User_18': 61, 'User_19': 62, 'User_2': 63, 'User_20': 64, 'User_21': 65, 'User_22': 66, 'User_23': 67, 'User_24': 68, 'User_25': 69, 'User_26': 70, 'User_27': 71, 'User_28': 72, 'User_29': 73, 'User_3': 74, 'User_30': 75, 'User_31': 76, 'User_32': 77, 'User_33': 78, 'User_34': 79, 'User_35': 80, 'User_36': 81, 'User_37': 82, 'User_38': 83, 'User_39': 84, 'User_4': 85, 'User_40': 86, 'User_41': 87, 'User_42': 88, 'User_43': 89, 'User_44': 90, 'User_45': 91, 'User_46': 92, 'User_47': 93, 'User_48': 94, 'User_49': 95, 'User_5': 96, 'User_50': 97, 'User_51': 98, 'User_52': 99, 'User_53': 100, 'User_54': 101, 'User_55': 102, 'User_56': 103, 'User_57': 104, 'User_58': 105, 'User_59': 106, 'User_6': 107, 'User_60': 108, 'User_61': 109, 'User_62': 110, 'User_63': 111, 'User_64': 112, 'User_65': 113, 'User_66': 114, 'User_67': 115, 'User_68': 116, 'User_69': 117, 'User_7': 118, 'User_70': 119, 'User_71': 120, 'User_72': 121, 'User_73': 122, 'User_74': 123, 'User_75': 124, 'User_76': 125, 'User_77': 126, 'User_78': 127, 'User_79': 128, 'User_8': 129, 'User_80': 130, 'User_81': 131, 'User_82': 132, 'User_83': 133, 'User_84': 134, 'User_85': 135, 'User_86': 136, 'User_87': 137, 'User_88': 138, 'User_89': 139, 'User_9': 140, 'User_90': 141, 'User_91': 142, 'User_92': 143, 'User_93': 144, 'User_94': 145, 'User_95': 146, 'User_96': 147, 'User_97': 148, 'User_98': 149, 'User_99': 150}), ('EventOrigin', 5, {'Application': 1, 'EOS': 2, 'Offer': 3, 'Workflow': 4}), ('lifecycle:transition', 9, {'EOS': 1, 'ate_abort': 2, 'complete': 3, 'resume': 4, 'schedule': 5, 'start': 6, 'suspend': 7, 'withdraw': 8}), ('case:LoanGoal', 16, {'Boat': 1, 'Business goal': 2, 'Car': 3, 'Caravan / Camper': 4, 'Debt restructuring': 5, 'EOS': 6, 'Existing loan takeover': 7, 'Extra spending limit': 8, 'Home improvement': 9, 'Motorcycle': 10, 'Not speficied': 11, 'Other, see explanation': 12, 'Remaining debt home': 13, 'Tax payments': 14, 'Unknown': 15}), ('case:ApplicationType', 4, {'EOS': 1, 'Limit raise': 2, 'New credit': 3}), ('Accepted', 5, {'EOS': 1, 'False': 2, 'True': 3, nan: 4}), ('Selected', 5, {'EOS': 1, 'False': 2, 'True': 3, nan: 4})], [('case_elapsed_time', 1, {}), ('event_elapsed_time', 1, {}), ('day_in_week', 1, {}), ('seconds_in_day', 1, {}), ('case:RequestedAmount', 1, {}), ('FirstWithdrawalAmount', 1, {}), ('NumberOfTerms', 1, {}), ('MonthlyCost', 1, {}), ('CreditScore', 1, {})])\n",
      "Encoder input features:  [['concept:name', 'Action', 'org:resource', 'EventOrigin', 'lifecycle:transition', 'case:LoanGoal', 'case:ApplicationType', 'Accepted', 'Selected'], ['case_elapsed_time', 'event_elapsed_time', 'day_in_week', 'seconds_in_day', 'case:RequestedAmount', 'FirstWithdrawalAmount', 'NumberOfTerms', 'MonthlyCost', 'CreditScore']]\n",
      "Decoder input+output features:  [['concept:name', 'org:resource', 'lifecycle:transition'], ['case_elapsed_time', 'event_elapsed_time']]\n",
      "\n",
      "\n",
      "Sequence length of decoder output:  4\n",
      "\n",
      "\n",
      "Cells hidden size:  128\n",
      "Number of LSTM layer:  4\n",
      "Dropout rate:  0.1\n",
      "\n",
      "\n",
      "Encoder number of labels for each input feature (categorical, numerical):  [[28, 7, 151, 5, 9, 16, 4, 5, 5], [1, 1, 1, 1, 1, 1, 1, 1, 1]]\n",
      "Encoder indices of tensors in dataset used as input:  [[0, 1, 2, 3, 4, 5, 6, 7, 8], [0, 1, 2, 3, 4, 5, 6, 7, 8]]\n",
      "Embeddings encoder:  ModuleList(\n",
      "  (0): Embedding(28, 10)\n",
      "  (1): Embedding(7, 5)\n",
      "  (2): Embedding(151, 27)\n",
      "  (3): Embedding(5, 4)\n",
      "  (4): Embedding(9, 5)\n",
      "  (5): Embedding(16, 8)\n",
      "  (6): Embedding(4, 3)\n",
      "  (7-8): 2 x Embedding(5, 4)\n",
      ")\n",
      "Total embedding feature size encoder:  70\n",
      "Total numerical feature size encoder:  9\n",
      "Input feature size encoder:  79\n",
      "Encoder initialized! \n",
      "\n",
      "Decoder label values size for each categorical input feature:  [28, 151, 9]\n",
      "Decoder label values size for each numerical input feature:  [1, 1]\n",
      "Decoder indices of tensors in dataset used as input:  [[0, 2, 4], [0, 1]]\n",
      "Embeddings decoder:  ModuleList(\n",
      "  (0): Embedding(28, 10)\n",
      "  (1): Embedding(151, 27)\n",
      "  (2): Embedding(9, 5)\n",
      ")\n",
      "Total embedding feature size decoder:  42\n",
      "Total numerical feature size decoder:  2\n",
      "Input feature size decoder:  44\n",
      "Output feature list of dicts (featue name, feature output size) of decoder:  [{'concept:name': 28, 'org:resource': 151, 'lifecycle:transition': 9}, {'case_elapsed_time': 1, 'event_elapsed_time': 1}]\n",
      "Decoder initialized! \n",
      "\n",
      "Output feature list of dicts (featue name, tensor index in dataset) of decoder:  [{'concept:name': 0, 'org:resource': 2, 'lifecycle:transition': 4}, {'case_elapsed_time': 0, 'event_elapsed_time': 1}]\n"
     ]
    }
   ],
   "source": [
    "import model.dropout_uncertainty_enc_dec_LSTM.dropout_uncertainty_model\n",
    "importlib.reload(model.dropout_uncertainty_enc_dec_LSTM.dropout_uncertainty_model)\n",
    "from model.dropout_uncertainty_enc_dec_LSTM.dropout_uncertainty_model import DropoutUncertaintyEncoderDecoderLSTM\n",
    "\n",
    "# Prediction decoder output sequence length\n",
    "seq_len_pred = 4\n",
    "\n",
    "# Size hidden layer\n",
    "hidden_size = 128\n",
    "\n",
    "# Number of cells\n",
    "num_layers = 4\n",
    "\n",
    "# Fixed Dropout probability \n",
    "dropout = 0.1\n",
    "\n",
    "# Encoder Decoder model initialization\n",
    "model = DropoutUncertaintyEncoderDecoderLSTM(data_set_categories=bpic_17_all_categories,\n",
    "                                             enc_feat=enc_feat,\n",
    "                                             dec_feat=dec_feat,\n",
    "                                             seq_len_pred=seq_len_pred,\n",
    "                                             hidden_size=hidden_size,\n",
    "                                             num_layers=num_layers,\n",
    "                                             dropout=dropout)"
   ]
  },
  {
   "cell_type": "markdown",
   "metadata": {},
   "source": [
    "# Loss Object Creation"
   ]
  },
  {
   "cell_type": "code",
   "execution_count": 6,
   "metadata": {
    "execution": {
     "iopub.execute_input": "2025-04-25T14:41:07.247131Z",
     "iopub.status.busy": "2025-04-25T14:41:07.247037Z",
     "iopub.status.idle": "2025-04-25T14:41:07.249202Z",
     "shell.execute_reply": "2025-04-25T14:41:07.248970Z"
    }
   },
   "outputs": [],
   "source": [
    "import loss.losses\n",
    "importlib.reload(loss.losses)\n",
    "from loss.losses import Loss\n",
    "\n",
    "loss_obj = Loss()"
   ]
  },
  {
   "cell_type": "markdown",
   "metadata": {},
   "source": [
    "# Training Configuration"
   ]
  },
  {
   "cell_type": "code",
   "execution_count": 7,
   "metadata": {
    "execution": {
     "iopub.execute_input": "2025-04-25T14:41:07.250213Z",
     "iopub.status.busy": "2025-04-25T14:41:07.250016Z",
     "iopub.status.idle": "2025-04-27T20:36:00.617752Z",
     "shell.execute_reply": "2025-04-27T20:36:00.617410Z"
    }
   },
   "outputs": [
    {
     "name": "stdout",
     "output_type": "stream",
     "text": [
      "Device:  cuda\n",
      "Model:  DropoutUncertaintyEncoderDecoderLSTM(\n",
      "  (embeddings_enc): ModuleList(\n",
      "    (0): Embedding(28, 10)\n",
      "    (1): Embedding(7, 5)\n",
      "    (2): Embedding(151, 27)\n",
      "    (3): Embedding(5, 4)\n",
      "    (4): Embedding(9, 5)\n",
      "    (5): Embedding(16, 8)\n",
      "    (6): Embedding(4, 3)\n",
      "    (7-8): 2 x Embedding(5, 4)\n",
      "  )\n",
      "  (encoder): DropoutUncertaintyLSTMEncoder(\n",
      "    (embeddings): ModuleList(\n",
      "      (0): Embedding(28, 10)\n",
      "      (1): Embedding(7, 5)\n",
      "      (2): Embedding(151, 27)\n",
      "      (3): Embedding(5, 4)\n",
      "      (4): Embedding(9, 5)\n",
      "      (5): Embedding(16, 8)\n",
      "      (6): Embedding(4, 3)\n",
      "      (7-8): 2 x Embedding(5, 4)\n",
      "    )\n",
      "    (first_layer): DropoutUncertaintyLSTMCell(\n",
      "      (Wi): Linear(in_features=79, out_features=128, bias=True)\n",
      "      (Ui): Linear(in_features=128, out_features=128, bias=True)\n",
      "      (Wf): Linear(in_features=79, out_features=128, bias=True)\n",
      "      (Uf): Linear(in_features=128, out_features=128, bias=True)\n",
      "      (Wc): Linear(in_features=79, out_features=128, bias=True)\n",
      "      (Uc): Linear(in_features=128, out_features=128, bias=True)\n",
      "      (Wo): Linear(in_features=79, out_features=128, bias=True)\n",
      "      (Uo): Linear(in_features=128, out_features=128, bias=True)\n",
      "    )\n",
      "    (hidden_layers): ModuleList(\n",
      "      (0-2): 3 x DropoutUncertaintyLSTMCell(\n",
      "        (Wi): Linear(in_features=128, out_features=128, bias=True)\n",
      "        (Ui): Linear(in_features=128, out_features=128, bias=True)\n",
      "        (Wf): Linear(in_features=128, out_features=128, bias=True)\n",
      "        (Uf): Linear(in_features=128, out_features=128, bias=True)\n",
      "        (Wc): Linear(in_features=128, out_features=128, bias=True)\n",
      "        (Uc): Linear(in_features=128, out_features=128, bias=True)\n",
      "        (Wo): Linear(in_features=128, out_features=128, bias=True)\n",
      "        (Uo): Linear(in_features=128, out_features=128, bias=True)\n",
      "      )\n",
      "    )\n",
      "  )\n",
      "  (embeddings_dec): ModuleList(\n",
      "    (0): Embedding(28, 10)\n",
      "    (1): Embedding(151, 27)\n",
      "    (2): Embedding(9, 5)\n",
      "  )\n",
      "  (decoder): DropoutUncertaintyLSTMDecoder(\n",
      "    (embeddings): ModuleList(\n",
      "      (0): Embedding(28, 10)\n",
      "      (1): Embedding(151, 27)\n",
      "      (2): Embedding(9, 5)\n",
      "    )\n",
      "    (first_layer): DropoutUncertaintyLSTMCell(\n",
      "      (Wi): Linear(in_features=44, out_features=128, bias=True)\n",
      "      (Ui): Linear(in_features=128, out_features=128, bias=True)\n",
      "      (Wf): Linear(in_features=44, out_features=128, bias=True)\n",
      "      (Uf): Linear(in_features=128, out_features=128, bias=True)\n",
      "      (Wc): Linear(in_features=44, out_features=128, bias=True)\n",
      "      (Uc): Linear(in_features=128, out_features=128, bias=True)\n",
      "      (Wo): Linear(in_features=44, out_features=128, bias=True)\n",
      "      (Uo): Linear(in_features=128, out_features=128, bias=True)\n",
      "    )\n",
      "    (hidden_layers): ModuleList(\n",
      "      (0-2): 3 x DropoutUncertaintyLSTMCell(\n",
      "        (Wi): Linear(in_features=128, out_features=128, bias=True)\n",
      "        (Ui): Linear(in_features=128, out_features=128, bias=True)\n",
      "        (Wf): Linear(in_features=128, out_features=128, bias=True)\n",
      "        (Uf): Linear(in_features=128, out_features=128, bias=True)\n",
      "        (Wc): Linear(in_features=128, out_features=128, bias=True)\n",
      "        (Uc): Linear(in_features=128, out_features=128, bias=True)\n",
      "        (Wo): Linear(in_features=128, out_features=128, bias=True)\n",
      "        (Uo): Linear(in_features=128, out_features=128, bias=True)\n",
      "      )\n",
      "    )\n",
      "    (output_layers): ModuleDict(\n",
      "      (concept:name_mean): Linear(in_features=128, out_features=28, bias=True)\n",
      "      (concept:name_var): Linear(in_features=128, out_features=28, bias=True)\n",
      "      (org:resource_mean): Linear(in_features=128, out_features=151, bias=True)\n",
      "      (org:resource_var): Linear(in_features=128, out_features=151, bias=True)\n",
      "      (lifecycle:transition_mean): Linear(in_features=128, out_features=9, bias=True)\n",
      "      (lifecycle:transition_var): Linear(in_features=128, out_features=9, bias=True)\n",
      "      (case_elapsed_time_mean): Linear(in_features=128, out_features=1, bias=True)\n",
      "      (case_elapsed_time_var): Linear(in_features=128, out_features=1, bias=True)\n",
      "      (event_elapsed_time_mean): Linear(in_features=128, out_features=1, bias=True)\n",
      "      (event_elapsed_time_var): Linear(in_features=128, out_features=1, bias=True)\n",
      "    )\n",
      "  )\n",
      ")\n",
      "Train Dataset:  <event_log_loader.new_event_log_loader.EventLogDataset object at 0x7f40af660980>\n",
      "Validation Dataset:  <event_log_loader.new_event_log_loader.EventLogDataset object at 0x7f40af524f50>\n",
      "Loss object for method calling:  <loss.losses.Loss object at 0x7f3ec08e1400>\n",
      "Num. feautures that follow log-normal PDF:  []\n",
      "regularization:  0.0001\n",
      "Optimizer:  Adam (\n",
      "Parameter Group 0\n",
      "    amsgrad: False\n",
      "    betas: (0.9, 0.999)\n",
      "    capturable: False\n",
      "    differentiable: False\n",
      "    eps: 1e-08\n",
      "    foreach: None\n",
      "    fused: None\n",
      "    lr: 1e-06\n",
      "    maximize: False\n",
      "    weight_decay: 0\n",
      ")\n",
      "Scheduler:  <torch.optim.lr_scheduler.ReduceLROnPlateau object at 0x7f3e3cace120>\n",
      "Epochs:  100\n",
      "Mini baches:  256\n",
      "Shuffle batched dataset:  True\n",
      "Teacher forcing ratio:  0.8\n",
      "Use GradNorm:  True\n",
      "GradNorm alpha:  1.5\n",
      "GradNorm learning rate:  0.0001\n",
      "Initial GradNorm loss weights:  Parameter containing:\n",
      "tensor([1., 1., 1., 1., 1.], requires_grad=True)\n",
      "Initial loss values:  None\n",
      "GradNorm optimizer:  Adam (\n",
      "Parameter Group 0\n",
      "    amsgrad: False\n",
      "    betas: (0.9, 0.999)\n",
      "    capturable: False\n",
      "    differentiable: False\n",
      "    eps: 1e-08\n",
      "    foreach: None\n",
      "    fused: None\n",
      "    lr: 0.0001\n",
      "    maximize: False\n",
      "    weight_decay: 0\n",
      ")\n"
     ]
    },
    {
     "data": {
      "application/vnd.jupyter.widget-view+json": {
       "model_id": "26e63fb47ac1493b8c1afb82cc4ddbb1",
       "version_major": 2,
       "version_minor": 0
      },
      "text/plain": [
       "  0%|          | 0/100 [00:00<?, ?it/s]"
      ]
     },
     "metadata": {},
     "output_type": "display_data"
    },
    {
     "name": "stdout",
     "output_type": "stream",
     "text": [
      "Epoch [1/100], Learning Rate: 1e-06, Teacher forcing ratio: 0.8\n",
      "Training: Avg Attenuated Training Loss: 14.0387\n"
     ]
    },
    {
     "name": "stdout",
     "output_type": "stream",
     "text": [
      "Validation: Avg Standard Validation Loss: 12.5863\n",
      "Validation: Avg Attenuated Validation Loss: 12.9103\n",
      "Validation Loss for Scheduler: 12.5863\n",
      "saving model\n"
     ]
    },
    {
     "name": "stdout",
     "output_type": "stream",
     "text": [
      "Epoch [2/100], Learning Rate: 1e-06, Teacher forcing ratio: 0.8\n",
      "Training: Avg Attenuated Training Loss: 14.9641\n"
     ]
    },
    {
     "name": "stdout",
     "output_type": "stream",
     "text": [
      "Validation: Avg Standard Validation Loss: 11.8917\n",
      "Validation: Avg Attenuated Validation Loss: 11.9458\n",
      "Validation Loss for Scheduler: 11.8917\n",
      "saving model\n"
     ]
    },
    {
     "name": "stdout",
     "output_type": "stream",
     "text": [
      "Epoch [3/100], Learning Rate: 1e-06, Teacher forcing ratio: 0.8\n",
      "Training: Avg Attenuated Training Loss: 13.7659\n"
     ]
    },
    {
     "name": "stdout",
     "output_type": "stream",
     "text": [
      "Validation: Avg Standard Validation Loss: 11.2053\n",
      "Validation: Avg Attenuated Validation Loss: 10.7595\n",
      "Validation Loss for Scheduler: 11.2053\n",
      "saving model\n"
     ]
    },
    {
     "name": "stdout",
     "output_type": "stream",
     "text": [
      "Epoch [4/100], Learning Rate: 1e-06, Teacher forcing ratio: 0.8\n",
      "Training: Avg Attenuated Training Loss: 12.6764\n"
     ]
    },
    {
     "name": "stdout",
     "output_type": "stream",
     "text": [
      "Validation: Avg Standard Validation Loss: 10.9868\n",
      "Validation: Avg Attenuated Validation Loss: 10.3352\n",
      "Validation Loss for Scheduler: 10.9868\n",
      "saving model\n"
     ]
    },
    {
     "name": "stdout",
     "output_type": "stream",
     "text": [
      "Epoch [5/100], Learning Rate: 1e-06, Teacher forcing ratio: 0.8\n",
      "Training: Avg Attenuated Training Loss: 12.2573\n"
     ]
    },
    {
     "name": "stdout",
     "output_type": "stream",
     "text": [
      "Validation: Avg Standard Validation Loss: 10.4928\n",
      "Validation: Avg Attenuated Validation Loss: 9.7977\n",
      "Validation Loss for Scheduler: 10.4928\n",
      "saving model\n"
     ]
    },
    {
     "name": "stdout",
     "output_type": "stream",
     "text": [
      "Epoch [6/100], Learning Rate: 1e-06, Teacher forcing ratio: 0.8\n",
      "Training: Avg Attenuated Training Loss: 12.4791\n"
     ]
    },
    {
     "name": "stdout",
     "output_type": "stream",
     "text": [
      "Validation: Avg Standard Validation Loss: 10.2021\n",
      "Validation: Avg Attenuated Validation Loss: 9.3699\n",
      "Validation Loss for Scheduler: 10.2021\n",
      "saving model\n"
     ]
    },
    {
     "name": "stdout",
     "output_type": "stream",
     "text": [
      "Epoch [7/100], Learning Rate: 1e-06, Teacher forcing ratio: 0.8\n",
      "Training: Avg Attenuated Training Loss: 12.8350\n"
     ]
    },
    {
     "name": "stdout",
     "output_type": "stream",
     "text": [
      "Validation: Avg Standard Validation Loss: 9.9892\n",
      "Validation: Avg Attenuated Validation Loss: 9.0204\n",
      "Validation Loss for Scheduler: 9.9892\n",
      "saving model\n"
     ]
    },
    {
     "name": "stdout",
     "output_type": "stream",
     "text": [
      "Epoch [8/100], Learning Rate: 1e-06, Teacher forcing ratio: 0.8\n",
      "Training: Avg Attenuated Training Loss: 13.0659\n"
     ]
    },
    {
     "name": "stdout",
     "output_type": "stream",
     "text": [
      "Validation: Avg Standard Validation Loss: 9.8152\n",
      "Validation: Avg Attenuated Validation Loss: 8.7211\n",
      "Validation Loss for Scheduler: 9.8152\n",
      "saving model\n"
     ]
    },
    {
     "name": "stdout",
     "output_type": "stream",
     "text": [
      "Epoch [9/100], Learning Rate: 1e-06, Teacher forcing ratio: 0.8\n",
      "Training: Avg Attenuated Training Loss: 13.1346\n"
     ]
    },
    {
     "name": "stdout",
     "output_type": "stream",
     "text": [
      "Validation: Avg Standard Validation Loss: 9.6687\n",
      "Validation: Avg Attenuated Validation Loss: 8.4611\n",
      "Validation Loss for Scheduler: 9.6687\n",
      "saving model\n"
     ]
    },
    {
     "name": "stdout",
     "output_type": "stream",
     "text": [
      "Epoch [10/100], Learning Rate: 1e-06, Teacher forcing ratio: 0.8\n",
      "Training: Avg Attenuated Training Loss: 13.0401\n"
     ]
    },
    {
     "name": "stdout",
     "output_type": "stream",
     "text": [
      "Validation: Avg Standard Validation Loss: 9.5671\n",
      "Validation: Avg Attenuated Validation Loss: 8.2688\n",
      "Validation Loss for Scheduler: 9.5671\n",
      "saving model\n"
     ]
    },
    {
     "name": "stdout",
     "output_type": "stream",
     "text": [
      "Epoch [11/100], Learning Rate: 1e-06, Teacher forcing ratio: 0.8\n",
      "Training: Avg Attenuated Training Loss: 12.9204\n"
     ]
    },
    {
     "name": "stdout",
     "output_type": "stream",
     "text": [
      "Validation: Avg Standard Validation Loss: 9.4859\n",
      "Validation: Avg Attenuated Validation Loss: 8.1250\n",
      "Validation Loss for Scheduler: 9.4859\n",
      "saving model\n"
     ]
    },
    {
     "name": "stdout",
     "output_type": "stream",
     "text": [
      "Epoch [12/100], Learning Rate: 1e-06, Teacher forcing ratio: 0.8\n",
      "Training: Avg Attenuated Training Loss: 12.7887\n"
     ]
    },
    {
     "name": "stdout",
     "output_type": "stream",
     "text": [
      "Validation: Avg Standard Validation Loss: 9.3902\n",
      "Validation: Avg Attenuated Validation Loss: 7.9860\n",
      "Validation Loss for Scheduler: 9.3902\n",
      "saving model\n"
     ]
    },
    {
     "name": "stdout",
     "output_type": "stream",
     "text": [
      "Epoch [13/100], Learning Rate: 1e-06, Teacher forcing ratio: 0.8\n",
      "Training: Avg Attenuated Training Loss: 12.6258\n"
     ]
    },
    {
     "name": "stdout",
     "output_type": "stream",
     "text": [
      "Validation: Avg Standard Validation Loss: 9.2670\n",
      "Validation: Avg Attenuated Validation Loss: 7.8339\n",
      "Validation Loss for Scheduler: 9.2670\n",
      "saving model\n"
     ]
    },
    {
     "name": "stdout",
     "output_type": "stream",
     "text": [
      "Epoch [14/100], Learning Rate: 1e-06, Teacher forcing ratio: 0.8\n",
      "Training: Avg Attenuated Training Loss: 12.4616\n"
     ]
    },
    {
     "name": "stdout",
     "output_type": "stream",
     "text": [
      "Validation: Avg Standard Validation Loss: 9.1501\n",
      "Validation: Avg Attenuated Validation Loss: 7.6911\n",
      "Validation Loss for Scheduler: 9.1501\n",
      "saving model\n"
     ]
    },
    {
     "name": "stdout",
     "output_type": "stream",
     "text": [
      "Epoch [15/100], Learning Rate: 1e-06, Teacher forcing ratio: 0.8\n",
      "Training: Avg Attenuated Training Loss: 12.3177\n"
     ]
    },
    {
     "name": "stdout",
     "output_type": "stream",
     "text": [
      "Validation: Avg Standard Validation Loss: 9.0355\n",
      "Validation: Avg Attenuated Validation Loss: 7.5506\n",
      "Validation Loss for Scheduler: 9.0355\n",
      "saving model\n"
     ]
    },
    {
     "name": "stdout",
     "output_type": "stream",
     "text": [
      "Epoch [16/100], Learning Rate: 1e-06, Teacher forcing ratio: 0.8\n",
      "Training: Avg Attenuated Training Loss: 12.1490\n"
     ]
    },
    {
     "name": "stdout",
     "output_type": "stream",
     "text": [
      "Validation: Avg Standard Validation Loss: 8.9406\n",
      "Validation: Avg Attenuated Validation Loss: 7.4338\n",
      "Validation Loss for Scheduler: 8.9406\n",
      "saving model\n"
     ]
    },
    {
     "name": "stdout",
     "output_type": "stream",
     "text": [
      "Epoch [17/100], Learning Rate: 1e-06, Teacher forcing ratio: 0.8\n",
      "Training: Avg Attenuated Training Loss: 11.9948\n"
     ]
    },
    {
     "name": "stdout",
     "output_type": "stream",
     "text": [
      "Validation: Avg Standard Validation Loss: 8.8453\n",
      "Validation: Avg Attenuated Validation Loss: 7.3090\n",
      "Validation Loss for Scheduler: 8.8453\n",
      "saving model\n"
     ]
    },
    {
     "name": "stdout",
     "output_type": "stream",
     "text": [
      "Epoch [18/100], Learning Rate: 1e-06, Teacher forcing ratio: 0.8\n",
      "Training: Avg Attenuated Training Loss: 11.8200\n"
     ]
    },
    {
     "name": "stdout",
     "output_type": "stream",
     "text": [
      "Validation: Avg Standard Validation Loss: 8.7751\n",
      "Validation: Avg Attenuated Validation Loss: 7.2150\n",
      "Validation Loss for Scheduler: 8.7751\n",
      "saving model\n"
     ]
    },
    {
     "name": "stdout",
     "output_type": "stream",
     "text": [
      "Epoch [19/100], Learning Rate: 1e-06, Teacher forcing ratio: 0.8\n",
      "Training: Avg Attenuated Training Loss: 11.6627\n"
     ]
    },
    {
     "name": "stdout",
     "output_type": "stream",
     "text": [
      "Validation: Avg Standard Validation Loss: 8.6987\n",
      "Validation: Avg Attenuated Validation Loss: 7.1092\n",
      "Validation Loss for Scheduler: 8.6987\n",
      "saving model\n"
     ]
    },
    {
     "name": "stdout",
     "output_type": "stream",
     "text": [
      "Epoch [20/100], Learning Rate: 1e-06, Teacher forcing ratio: 0.8\n",
      "Training: Avg Attenuated Training Loss: 11.5046\n"
     ]
    },
    {
     "name": "stdout",
     "output_type": "stream",
     "text": [
      "Validation: Avg Standard Validation Loss: 8.6247\n",
      "Validation: Avg Attenuated Validation Loss: 7.0169\n",
      "Validation Loss for Scheduler: 8.6247\n",
      "saving model\n"
     ]
    },
    {
     "name": "stdout",
     "output_type": "stream",
     "text": [
      "Epoch [21/100], Learning Rate: 1e-06, Teacher forcing ratio: 0.768\n",
      "Training: Avg Attenuated Training Loss: 11.3374\n"
     ]
    },
    {
     "name": "stdout",
     "output_type": "stream",
     "text": [
      "Validation: Avg Standard Validation Loss: 8.5497\n",
      "Validation: Avg Attenuated Validation Loss: 6.9148\n",
      "Validation Loss for Scheduler: 8.5497\n",
      "saving model\n"
     ]
    },
    {
     "name": "stdout",
     "output_type": "stream",
     "text": [
      "Epoch [22/100], Learning Rate: 1e-06, Teacher forcing ratio: 0.768\n",
      "Training: Avg Attenuated Training Loss: 11.1779\n"
     ]
    },
    {
     "name": "stdout",
     "output_type": "stream",
     "text": [
      "Validation: Avg Standard Validation Loss: 8.4770\n",
      "Validation: Avg Attenuated Validation Loss: 6.8167\n",
      "Validation Loss for Scheduler: 8.4770\n",
      "saving model\n"
     ]
    },
    {
     "name": "stdout",
     "output_type": "stream",
     "text": [
      "Epoch [23/100], Learning Rate: 1e-06, Teacher forcing ratio: 0.768\n",
      "Training: Avg Attenuated Training Loss: 11.0260\n"
     ]
    },
    {
     "name": "stdout",
     "output_type": "stream",
     "text": [
      "Validation: Avg Standard Validation Loss: 8.4082\n",
      "Validation: Avg Attenuated Validation Loss: 6.7321\n",
      "Validation Loss for Scheduler: 8.4082\n",
      "saving model\n"
     ]
    },
    {
     "name": "stdout",
     "output_type": "stream",
     "text": [
      "Epoch [24/100], Learning Rate: 1e-06, Teacher forcing ratio: 0.768\n",
      "Training: Avg Attenuated Training Loss: 10.8513\n"
     ]
    },
    {
     "name": "stdout",
     "output_type": "stream",
     "text": [
      "Validation: Avg Standard Validation Loss: 8.3329\n",
      "Validation: Avg Attenuated Validation Loss: 6.6400\n",
      "Validation Loss for Scheduler: 8.3329\n",
      "saving model\n"
     ]
    },
    {
     "name": "stdout",
     "output_type": "stream",
     "text": [
      "Epoch [25/100], Learning Rate: 1e-06, Teacher forcing ratio: 0.768\n",
      "Training: Avg Attenuated Training Loss: 10.6752\n"
     ]
    },
    {
     "name": "stdout",
     "output_type": "stream",
     "text": [
      "Validation: Avg Standard Validation Loss: 8.2505\n",
      "Validation: Avg Attenuated Validation Loss: 6.5349\n",
      "Validation Loss for Scheduler: 8.2505\n",
      "saving model\n"
     ]
    },
    {
     "name": "stdout",
     "output_type": "stream",
     "text": [
      "Epoch [26/100], Learning Rate: 1e-06, Teacher forcing ratio: 0.768\n",
      "Training: Avg Attenuated Training Loss: 10.4804\n"
     ]
    },
    {
     "name": "stdout",
     "output_type": "stream",
     "text": [
      "Validation: Avg Standard Validation Loss: 8.1786\n",
      "Validation: Avg Attenuated Validation Loss: 6.4454\n",
      "Validation Loss for Scheduler: 8.1786\n",
      "saving model\n"
     ]
    },
    {
     "name": "stdout",
     "output_type": "stream",
     "text": [
      "Epoch [27/100], Learning Rate: 1e-06, Teacher forcing ratio: 0.768\n",
      "Training: Avg Attenuated Training Loss: 10.2642\n"
     ]
    },
    {
     "name": "stdout",
     "output_type": "stream",
     "text": [
      "Validation: Avg Standard Validation Loss: 8.1084\n",
      "Validation: Avg Attenuated Validation Loss: 6.3556\n",
      "Validation Loss for Scheduler: 8.1084\n",
      "saving model\n"
     ]
    },
    {
     "name": "stdout",
     "output_type": "stream",
     "text": [
      "Epoch [28/100], Learning Rate: 1e-06, Teacher forcing ratio: 0.768\n",
      "Training: Avg Attenuated Training Loss: 10.0550\n"
     ]
    },
    {
     "name": "stdout",
     "output_type": "stream",
     "text": [
      "Validation: Avg Standard Validation Loss: 8.0402\n",
      "Validation: Avg Attenuated Validation Loss: 6.2620\n",
      "Validation Loss for Scheduler: 8.0402\n",
      "saving model\n"
     ]
    },
    {
     "name": "stdout",
     "output_type": "stream",
     "text": [
      "Epoch [29/100], Learning Rate: 1e-06, Teacher forcing ratio: 0.768\n",
      "Training: Avg Attenuated Training Loss: 9.8254\n"
     ]
    },
    {
     "name": "stdout",
     "output_type": "stream",
     "text": [
      "Validation: Avg Standard Validation Loss: 7.9601\n",
      "Validation: Avg Attenuated Validation Loss: 6.1602\n",
      "Validation Loss for Scheduler: 7.9601\n",
      "saving model\n"
     ]
    },
    {
     "name": "stdout",
     "output_type": "stream",
     "text": [
      "Epoch [30/100], Learning Rate: 1e-06, Teacher forcing ratio: 0.768\n",
      "Training: Avg Attenuated Training Loss: 9.5539\n"
     ]
    },
    {
     "name": "stdout",
     "output_type": "stream",
     "text": [
      "Validation: Avg Standard Validation Loss: 7.8860\n",
      "Validation: Avg Attenuated Validation Loss: 6.0528\n",
      "Validation Loss for Scheduler: 7.8860\n",
      "saving model\n"
     ]
    },
    {
     "name": "stdout",
     "output_type": "stream",
     "text": [
      "Epoch [31/100], Learning Rate: 1e-06, Teacher forcing ratio: 0.768\n",
      "Training: Avg Attenuated Training Loss: 9.2286\n"
     ]
    },
    {
     "name": "stdout",
     "output_type": "stream",
     "text": [
      "Validation: Avg Standard Validation Loss: 7.8057\n",
      "Validation: Avg Attenuated Validation Loss: 5.9423\n",
      "Validation Loss for Scheduler: 7.8057\n",
      "saving model\n"
     ]
    },
    {
     "name": "stdout",
     "output_type": "stream",
     "text": [
      "Epoch [32/100], Learning Rate: 1e-06, Teacher forcing ratio: 0.768\n",
      "Training: Avg Attenuated Training Loss: 8.7732\n"
     ]
    },
    {
     "name": "stdout",
     "output_type": "stream",
     "text": [
      "Validation: Avg Standard Validation Loss: 7.7292\n",
      "Validation: Avg Attenuated Validation Loss: 5.8200\n",
      "Validation Loss for Scheduler: 7.7292\n",
      "saving model\n"
     ]
    },
    {
     "name": "stdout",
     "output_type": "stream",
     "text": [
      "Epoch [33/100], Learning Rate: 1e-06, Teacher forcing ratio: 0.768\n",
      "Training: Avg Attenuated Training Loss: 8.2351\n"
     ]
    },
    {
     "name": "stdout",
     "output_type": "stream",
     "text": [
      "Validation: Avg Standard Validation Loss: 7.6670\n",
      "Validation: Avg Attenuated Validation Loss: 5.7274\n",
      "Validation Loss for Scheduler: 7.6670\n",
      "saving model\n"
     ]
    },
    {
     "name": "stdout",
     "output_type": "stream",
     "text": [
      "Epoch [34/100], Learning Rate: 1e-06, Teacher forcing ratio: 0.768\n",
      "Training: Avg Attenuated Training Loss: 7.6858\n"
     ]
    },
    {
     "name": "stdout",
     "output_type": "stream",
     "text": [
      "Validation: Avg Standard Validation Loss: 7.6023\n",
      "Validation: Avg Attenuated Validation Loss: 5.6175\n",
      "Validation Loss for Scheduler: 7.6023\n",
      "saving model\n"
     ]
    },
    {
     "name": "stdout",
     "output_type": "stream",
     "text": [
      "Epoch [35/100], Learning Rate: 1e-06, Teacher forcing ratio: 0.768\n",
      "Training: Avg Attenuated Training Loss: 7.0835\n"
     ]
    },
    {
     "name": "stdout",
     "output_type": "stream",
     "text": [
      "Validation: Avg Standard Validation Loss: 7.5516\n",
      "Validation: Avg Attenuated Validation Loss: 5.5394\n",
      "Validation Loss for Scheduler: 7.5516\n",
      "saving model\n"
     ]
    },
    {
     "name": "stdout",
     "output_type": "stream",
     "text": [
      "Epoch [36/100], Learning Rate: 1e-06, Teacher forcing ratio: 0.768\n",
      "Training: Avg Attenuated Training Loss: 6.4213\n"
     ]
    },
    {
     "name": "stdout",
     "output_type": "stream",
     "text": [
      "Validation: Avg Standard Validation Loss: 7.4955\n",
      "Validation: Avg Attenuated Validation Loss: 5.4662\n",
      "Validation Loss for Scheduler: 7.4955\n",
      "saving model\n"
     ]
    },
    {
     "name": "stdout",
     "output_type": "stream",
     "text": [
      "Epoch [37/100], Learning Rate: 1e-06, Teacher forcing ratio: 0.768\n",
      "Training: Avg Attenuated Training Loss: 5.8641\n"
     ]
    },
    {
     "name": "stdout",
     "output_type": "stream",
     "text": [
      "Validation: Avg Standard Validation Loss: 7.4445\n",
      "Validation: Avg Attenuated Validation Loss: 5.4081\n",
      "Validation Loss for Scheduler: 7.4445\n",
      "saving model\n"
     ]
    },
    {
     "name": "stdout",
     "output_type": "stream",
     "text": [
      "Epoch [38/100], Learning Rate: 1e-06, Teacher forcing ratio: 0.768\n",
      "Training: Avg Attenuated Training Loss: 5.2844\n"
     ]
    },
    {
     "name": "stdout",
     "output_type": "stream",
     "text": [
      "Validation: Avg Standard Validation Loss: 7.3995\n",
      "Validation: Avg Attenuated Validation Loss: 5.4178\n",
      "Validation Loss for Scheduler: 7.3995\n",
      "saving model\n"
     ]
    },
    {
     "name": "stdout",
     "output_type": "stream",
     "text": [
      "Epoch [39/100], Learning Rate: 1e-06, Teacher forcing ratio: 0.768\n",
      "Training: Avg Attenuated Training Loss: 4.7689\n"
     ]
    },
    {
     "name": "stdout",
     "output_type": "stream",
     "text": [
      "Validation: Avg Standard Validation Loss: 7.3578\n",
      "Validation: Avg Attenuated Validation Loss: 5.3793\n",
      "Validation Loss for Scheduler: 7.3578\n",
      "saving model\n"
     ]
    },
    {
     "name": "stdout",
     "output_type": "stream",
     "text": [
      "Epoch [40/100], Learning Rate: 1e-06, Teacher forcing ratio: 0.768\n",
      "Training: Avg Attenuated Training Loss: 4.3505\n"
     ]
    },
    {
     "name": "stdout",
     "output_type": "stream",
     "text": [
      "Validation: Avg Standard Validation Loss: 7.3161\n",
      "Validation: Avg Attenuated Validation Loss: 5.3762\n",
      "Validation Loss for Scheduler: 7.3161\n",
      "saving model\n"
     ]
    },
    {
     "name": "stdout",
     "output_type": "stream",
     "text": [
      "Epoch [41/100], Learning Rate: 1e-06, Teacher forcing ratio: 0.73728\n",
      "Training: Avg Attenuated Training Loss: 4.0179\n"
     ]
    },
    {
     "name": "stdout",
     "output_type": "stream",
     "text": [
      "Validation: Avg Standard Validation Loss: 7.2766\n",
      "Validation: Avg Attenuated Validation Loss: 5.3612\n",
      "Validation Loss for Scheduler: 7.2766\n",
      "saving model\n"
     ]
    },
    {
     "name": "stdout",
     "output_type": "stream",
     "text": [
      "Epoch [42/100], Learning Rate: 1e-06, Teacher forcing ratio: 0.73728\n",
      "Training: Avg Attenuated Training Loss: 3.6158\n"
     ]
    },
    {
     "name": "stdout",
     "output_type": "stream",
     "text": [
      "Validation: Avg Standard Validation Loss: 7.2396\n",
      "Validation: Avg Attenuated Validation Loss: 5.3201\n",
      "Validation Loss for Scheduler: 7.2396\n",
      "saving model\n"
     ]
    },
    {
     "name": "stdout",
     "output_type": "stream",
     "text": [
      "Epoch [43/100], Learning Rate: 1e-06, Teacher forcing ratio: 0.73728\n",
      "Training: Avg Attenuated Training Loss: 3.2247\n"
     ]
    },
    {
     "name": "stdout",
     "output_type": "stream",
     "text": [
      "Validation: Avg Standard Validation Loss: 7.2157\n",
      "Validation: Avg Attenuated Validation Loss: 5.3732\n",
      "Validation Loss for Scheduler: 7.2157\n",
      "saving model\n"
     ]
    },
    {
     "name": "stdout",
     "output_type": "stream",
     "text": [
      "Epoch [44/100], Learning Rate: 1e-06, Teacher forcing ratio: 0.73728\n",
      "Training: Avg Attenuated Training Loss: 2.9737\n"
     ]
    },
    {
     "name": "stdout",
     "output_type": "stream",
     "text": [
      "Validation: Avg Standard Validation Loss: 7.1837\n",
      "Validation: Avg Attenuated Validation Loss: 5.3721\n",
      "Validation Loss for Scheduler: 7.1837\n",
      "saving model\n"
     ]
    },
    {
     "name": "stdout",
     "output_type": "stream",
     "text": [
      "Epoch [45/100], Learning Rate: 1e-06, Teacher forcing ratio: 0.73728\n",
      "Training: Avg Attenuated Training Loss: 2.6999\n"
     ]
    },
    {
     "name": "stdout",
     "output_type": "stream",
     "text": [
      "Validation: Avg Standard Validation Loss: 7.1554\n",
      "Validation: Avg Attenuated Validation Loss: 5.2955\n",
      "Validation Loss for Scheduler: 7.1554\n",
      "saving model\n"
     ]
    },
    {
     "name": "stdout",
     "output_type": "stream",
     "text": [
      "Epoch [46/100], Learning Rate: 1e-06, Teacher forcing ratio: 0.73728\n",
      "Training: Avg Attenuated Training Loss: 2.4246\n"
     ]
    },
    {
     "name": "stdout",
     "output_type": "stream",
     "text": [
      "Validation: Avg Standard Validation Loss: 7.1298\n",
      "Validation: Avg Attenuated Validation Loss: 5.3689\n",
      "Validation Loss for Scheduler: 7.1298\n",
      "saving model\n"
     ]
    },
    {
     "name": "stdout",
     "output_type": "stream",
     "text": [
      "Epoch [47/100], Learning Rate: 1e-06, Teacher forcing ratio: 0.73728\n",
      "Training: Avg Attenuated Training Loss: 2.1538\n"
     ]
    },
    {
     "name": "stdout",
     "output_type": "stream",
     "text": [
      "Validation: Avg Standard Validation Loss: 7.1103\n",
      "Validation: Avg Attenuated Validation Loss: 5.3715\n",
      "Validation Loss for Scheduler: 7.1103\n",
      "saving model\n"
     ]
    },
    {
     "name": "stdout",
     "output_type": "stream",
     "text": [
      "Epoch [48/100], Learning Rate: 1e-06, Teacher forcing ratio: 0.73728\n",
      "Training: Avg Attenuated Training Loss: 1.9554\n"
     ]
    },
    {
     "name": "stdout",
     "output_type": "stream",
     "text": [
      "Validation: Avg Standard Validation Loss: 7.0903\n",
      "Validation: Avg Attenuated Validation Loss: 5.4136\n",
      "Validation Loss for Scheduler: 7.0903\n",
      "saving model\n"
     ]
    },
    {
     "name": "stdout",
     "output_type": "stream",
     "text": [
      "Epoch [49/100], Learning Rate: 1e-06, Teacher forcing ratio: 0.73728\n",
      "Training: Avg Attenuated Training Loss: 1.7920\n"
     ]
    },
    {
     "name": "stdout",
     "output_type": "stream",
     "text": [
      "Validation: Avg Standard Validation Loss: 7.0677\n",
      "Validation: Avg Attenuated Validation Loss: 5.4292\n",
      "Validation Loss for Scheduler: 7.0677\n",
      "saving model\n"
     ]
    },
    {
     "name": "stdout",
     "output_type": "stream",
     "text": [
      "Epoch [50/100], Learning Rate: 1e-06, Teacher forcing ratio: 0.73728\n",
      "Training: Avg Attenuated Training Loss: 1.6364\n"
     ]
    },
    {
     "name": "stdout",
     "output_type": "stream",
     "text": [
      "Validation: Avg Standard Validation Loss: 7.0541\n",
      "Validation: Avg Attenuated Validation Loss: 5.5807\n",
      "Validation Loss for Scheduler: 7.0541\n",
      "saving model\n"
     ]
    },
    {
     "name": "stdout",
     "output_type": "stream",
     "text": [
      "Epoch [51/100], Learning Rate: 1e-06, Teacher forcing ratio: 0.73728\n",
      "Training: Avg Attenuated Training Loss: 1.5079\n"
     ]
    },
    {
     "name": "stdout",
     "output_type": "stream",
     "text": [
      "Validation: Avg Standard Validation Loss: 7.0280\n",
      "Validation: Avg Attenuated Validation Loss: 5.5244\n",
      "Validation Loss for Scheduler: 7.0280\n",
      "saving model\n"
     ]
    },
    {
     "name": "stdout",
     "output_type": "stream",
     "text": [
      "Epoch [52/100], Learning Rate: 1e-06, Teacher forcing ratio: 0.73728\n",
      "Training: Avg Attenuated Training Loss: 1.3403\n"
     ]
    },
    {
     "name": "stdout",
     "output_type": "stream",
     "text": [
      "Validation: Avg Standard Validation Loss: 7.0114\n",
      "Validation: Avg Attenuated Validation Loss: 5.5802\n",
      "Validation Loss for Scheduler: 7.0114\n",
      "saving model\n"
     ]
    },
    {
     "name": "stdout",
     "output_type": "stream",
     "text": [
      "Epoch [53/100], Learning Rate: 1e-06, Teacher forcing ratio: 0.73728\n",
      "Training: Avg Attenuated Training Loss: 1.2633\n"
     ]
    },
    {
     "name": "stdout",
     "output_type": "stream",
     "text": [
      "Validation: Avg Standard Validation Loss: 6.9928\n",
      "Validation: Avg Attenuated Validation Loss: 5.5276\n",
      "Validation Loss for Scheduler: 6.9928\n",
      "saving model\n"
     ]
    },
    {
     "name": "stdout",
     "output_type": "stream",
     "text": [
      "Epoch [54/100], Learning Rate: 1e-06, Teacher forcing ratio: 0.73728\n",
      "Training: Avg Attenuated Training Loss: 1.1337\n"
     ]
    },
    {
     "name": "stdout",
     "output_type": "stream",
     "text": [
      "Validation: Avg Standard Validation Loss: 6.9730\n",
      "Validation: Avg Attenuated Validation Loss: 5.5832\n",
      "Validation Loss for Scheduler: 6.9730\n",
      "saving model\n"
     ]
    },
    {
     "name": "stdout",
     "output_type": "stream",
     "text": [
      "Epoch [55/100], Learning Rate: 1e-06, Teacher forcing ratio: 0.73728\n",
      "Training: Avg Attenuated Training Loss: 1.0824\n"
     ]
    },
    {
     "name": "stdout",
     "output_type": "stream",
     "text": [
      "Validation: Avg Standard Validation Loss: 6.9605\n",
      "Validation: Avg Attenuated Validation Loss: 5.7661\n",
      "Validation Loss for Scheduler: 6.9605\n",
      "saving model\n"
     ]
    },
    {
     "name": "stdout",
     "output_type": "stream",
     "text": [
      "Epoch [56/100], Learning Rate: 1e-06, Teacher forcing ratio: 0.73728\n",
      "Training: Avg Attenuated Training Loss: 0.9766\n"
     ]
    },
    {
     "name": "stdout",
     "output_type": "stream",
     "text": [
      "Validation: Avg Standard Validation Loss: 6.9378\n",
      "Validation: Avg Attenuated Validation Loss: 5.6461\n",
      "Validation Loss for Scheduler: 6.9378\n",
      "saving model\n"
     ]
    },
    {
     "name": "stdout",
     "output_type": "stream",
     "text": [
      "Epoch [57/100], Learning Rate: 1e-06, Teacher forcing ratio: 0.73728\n",
      "Training: Avg Attenuated Training Loss: 0.9066\n"
     ]
    },
    {
     "name": "stdout",
     "output_type": "stream",
     "text": [
      "Validation: Avg Standard Validation Loss: 6.9278\n",
      "Validation: Avg Attenuated Validation Loss: 5.7107\n",
      "Validation Loss for Scheduler: 6.9278\n",
      "saving model\n"
     ]
    },
    {
     "name": "stdout",
     "output_type": "stream",
     "text": [
      "Epoch [58/100], Learning Rate: 1e-06, Teacher forcing ratio: 0.73728\n",
      "Training: Avg Attenuated Training Loss: 0.8553\n"
     ]
    },
    {
     "name": "stdout",
     "output_type": "stream",
     "text": [
      "Validation: Avg Standard Validation Loss: 6.9102\n",
      "Validation: Avg Attenuated Validation Loss: 5.7316\n",
      "Validation Loss for Scheduler: 6.9102\n",
      "saving model\n"
     ]
    },
    {
     "name": "stdout",
     "output_type": "stream",
     "text": [
      "Epoch [59/100], Learning Rate: 1e-06, Teacher forcing ratio: 0.73728\n",
      "Training: Avg Attenuated Training Loss: 0.9016\n"
     ]
    },
    {
     "name": "stdout",
     "output_type": "stream",
     "text": [
      "Validation: Avg Standard Validation Loss: 6.8915\n",
      "Validation: Avg Attenuated Validation Loss: 5.6510\n",
      "Validation Loss for Scheduler: 6.8915\n",
      "saving model\n"
     ]
    },
    {
     "name": "stdout",
     "output_type": "stream",
     "text": [
      "Epoch [60/100], Learning Rate: 1e-06, Teacher forcing ratio: 0.73728\n",
      "Training: Avg Attenuated Training Loss: 0.8192\n"
     ]
    },
    {
     "name": "stdout",
     "output_type": "stream",
     "text": [
      "Validation: Avg Standard Validation Loss: 6.8803\n",
      "Validation: Avg Attenuated Validation Loss: 5.9103\n",
      "Validation Loss for Scheduler: 6.8803\n",
      "saving model\n"
     ]
    },
    {
     "name": "stdout",
     "output_type": "stream",
     "text": [
      "Epoch [61/100], Learning Rate: 1e-06, Teacher forcing ratio: 0.7077888\n",
      "Training: Avg Attenuated Training Loss: 0.8110\n"
     ]
    },
    {
     "name": "stdout",
     "output_type": "stream",
     "text": [
      "Validation: Avg Standard Validation Loss: 6.8642\n",
      "Validation: Avg Attenuated Validation Loss: 5.8735\n",
      "Validation Loss for Scheduler: 6.8642\n",
      "saving model\n"
     ]
    },
    {
     "name": "stdout",
     "output_type": "stream",
     "text": [
      "Epoch [62/100], Learning Rate: 1e-06, Teacher forcing ratio: 0.7077888\n",
      "Training: Avg Attenuated Training Loss: 0.8735\n"
     ]
    },
    {
     "name": "stdout",
     "output_type": "stream",
     "text": [
      "Validation: Avg Standard Validation Loss: 6.8457\n",
      "Validation: Avg Attenuated Validation Loss: 5.7178\n",
      "Validation Loss for Scheduler: 6.8457\n",
      "saving model\n"
     ]
    },
    {
     "name": "stdout",
     "output_type": "stream",
     "text": [
      "Epoch [63/100], Learning Rate: 1e-06, Teacher forcing ratio: 0.7077888\n",
      "Training: Avg Attenuated Training Loss: 0.9161\n"
     ]
    },
    {
     "name": "stdout",
     "output_type": "stream",
     "text": [
      "Validation: Avg Standard Validation Loss: 6.8229\n",
      "Validation: Avg Attenuated Validation Loss: 5.8025\n",
      "Validation Loss for Scheduler: 6.8229\n",
      "saving model\n"
     ]
    },
    {
     "name": "stdout",
     "output_type": "stream",
     "text": [
      "Epoch [64/100], Learning Rate: 1e-06, Teacher forcing ratio: 0.7077888\n",
      "Training: Avg Attenuated Training Loss: 0.8503\n"
     ]
    },
    {
     "name": "stdout",
     "output_type": "stream",
     "text": [
      "Validation: Avg Standard Validation Loss: 6.8125\n",
      "Validation: Avg Attenuated Validation Loss: 5.7160\n",
      "Validation Loss for Scheduler: 6.8125\n",
      "saving model\n"
     ]
    },
    {
     "name": "stdout",
     "output_type": "stream",
     "text": [
      "Epoch [65/100], Learning Rate: 1e-06, Teacher forcing ratio: 0.7077888\n",
      "Training: Avg Attenuated Training Loss: 0.9023\n"
     ]
    },
    {
     "name": "stdout",
     "output_type": "stream",
     "text": [
      "Validation: Avg Standard Validation Loss: 6.7952\n",
      "Validation: Avg Attenuated Validation Loss: 5.6523\n",
      "Validation Loss for Scheduler: 6.7952\n",
      "saving model\n"
     ]
    },
    {
     "name": "stdout",
     "output_type": "stream",
     "text": [
      "Epoch [66/100], Learning Rate: 1e-06, Teacher forcing ratio: 0.7077888\n",
      "Training: Avg Attenuated Training Loss: 0.7376\n"
     ]
    },
    {
     "name": "stdout",
     "output_type": "stream",
     "text": [
      "Validation: Avg Standard Validation Loss: 6.7786\n",
      "Validation: Avg Attenuated Validation Loss: 5.9095\n",
      "Validation Loss for Scheduler: 6.7786\n",
      "saving model\n"
     ]
    },
    {
     "name": "stdout",
     "output_type": "stream",
     "text": [
      "Epoch [67/100], Learning Rate: 1e-06, Teacher forcing ratio: 0.7077888\n",
      "Training: Avg Attenuated Training Loss: 0.7269\n"
     ]
    },
    {
     "name": "stdout",
     "output_type": "stream",
     "text": [
      "Validation: Avg Standard Validation Loss: 6.7656\n",
      "Validation: Avg Attenuated Validation Loss: 5.7996\n",
      "Validation Loss for Scheduler: 6.7656\n",
      "saving model\n"
     ]
    },
    {
     "name": "stdout",
     "output_type": "stream",
     "text": [
      "Epoch [68/100], Learning Rate: 1e-06, Teacher forcing ratio: 0.7077888\n",
      "Training: Avg Attenuated Training Loss: 0.7280\n"
     ]
    },
    {
     "name": "stdout",
     "output_type": "stream",
     "text": [
      "Validation: Avg Standard Validation Loss: 6.7531\n",
      "Validation: Avg Attenuated Validation Loss: 5.9654\n",
      "Validation Loss for Scheduler: 6.7531\n",
      "saving model\n"
     ]
    },
    {
     "name": "stdout",
     "output_type": "stream",
     "text": [
      "Epoch [69/100], Learning Rate: 1e-06, Teacher forcing ratio: 0.7077888\n",
      "Training: Avg Attenuated Training Loss: 0.8156\n"
     ]
    },
    {
     "name": "stdout",
     "output_type": "stream",
     "text": [
      "Validation: Avg Standard Validation Loss: 6.7363\n",
      "Validation: Avg Attenuated Validation Loss: 5.8388\n",
      "Validation Loss for Scheduler: 6.7363\n",
      "saving model\n"
     ]
    },
    {
     "name": "stdout",
     "output_type": "stream",
     "text": [
      "Epoch [70/100], Learning Rate: 1e-06, Teacher forcing ratio: 0.7077888\n",
      "Training: Avg Attenuated Training Loss: 0.8289\n"
     ]
    },
    {
     "name": "stdout",
     "output_type": "stream",
     "text": [
      "Validation: Avg Standard Validation Loss: 6.7202\n",
      "Validation: Avg Attenuated Validation Loss: 6.0713\n",
      "Validation Loss for Scheduler: 6.7202\n",
      "saving model\n"
     ]
    },
    {
     "name": "stdout",
     "output_type": "stream",
     "text": [
      "Epoch [71/100], Learning Rate: 1e-06, Teacher forcing ratio: 0.7077888\n",
      "Training: Avg Attenuated Training Loss: 0.8496\n"
     ]
    },
    {
     "name": "stdout",
     "output_type": "stream",
     "text": [
      "Validation: Avg Standard Validation Loss: 6.7023\n",
      "Validation: Avg Attenuated Validation Loss: 5.8713\n",
      "Validation Loss for Scheduler: 6.7023\n",
      "saving model\n"
     ]
    },
    {
     "name": "stdout",
     "output_type": "stream",
     "text": [
      "Epoch [72/100], Learning Rate: 1e-06, Teacher forcing ratio: 0.7077888\n",
      "Training: Avg Attenuated Training Loss: 0.7901\n"
     ]
    },
    {
     "name": "stdout",
     "output_type": "stream",
     "text": [
      "Validation: Avg Standard Validation Loss: 6.6922\n",
      "Validation: Avg Attenuated Validation Loss: 6.0261\n",
      "Validation Loss for Scheduler: 6.6922\n",
      "saving model\n"
     ]
    },
    {
     "name": "stdout",
     "output_type": "stream",
     "text": [
      "Epoch [73/100], Learning Rate: 1e-06, Teacher forcing ratio: 0.7077888\n",
      "Training: Avg Attenuated Training Loss: 0.8303\n"
     ]
    },
    {
     "name": "stdout",
     "output_type": "stream",
     "text": [
      "Validation: Avg Standard Validation Loss: 6.6683\n",
      "Validation: Avg Attenuated Validation Loss: 5.9243\n",
      "Validation Loss for Scheduler: 6.6683\n",
      "saving model\n"
     ]
    },
    {
     "name": "stdout",
     "output_type": "stream",
     "text": [
      "Epoch [74/100], Learning Rate: 1e-06, Teacher forcing ratio: 0.7077888\n",
      "Training: Avg Attenuated Training Loss: 0.7084\n"
     ]
    },
    {
     "name": "stdout",
     "output_type": "stream",
     "text": [
      "Validation: Avg Standard Validation Loss: 6.6624\n",
      "Validation: Avg Attenuated Validation Loss: 5.9795\n",
      "Validation Loss for Scheduler: 6.6624\n",
      "saving model\n"
     ]
    },
    {
     "name": "stdout",
     "output_type": "stream",
     "text": [
      "Epoch [75/100], Learning Rate: 1e-06, Teacher forcing ratio: 0.7077888\n",
      "Training: Avg Attenuated Training Loss: 0.7181\n"
     ]
    },
    {
     "name": "stdout",
     "output_type": "stream",
     "text": [
      "Validation: Avg Standard Validation Loss: 6.6511\n",
      "Validation: Avg Attenuated Validation Loss: 5.9674\n",
      "Validation Loss for Scheduler: 6.6511\n",
      "saving model\n"
     ]
    },
    {
     "name": "stdout",
     "output_type": "stream",
     "text": [
      "Epoch [76/100], Learning Rate: 1e-06, Teacher forcing ratio: 0.7077888\n",
      "Training: Avg Attenuated Training Loss: 0.8990\n"
     ]
    },
    {
     "name": "stdout",
     "output_type": "stream",
     "text": [
      "Validation: Avg Standard Validation Loss: 6.6372\n",
      "Validation: Avg Attenuated Validation Loss: 6.4043\n",
      "Validation Loss for Scheduler: 6.6372\n",
      "saving model\n"
     ]
    },
    {
     "name": "stdout",
     "output_type": "stream",
     "text": [
      "Epoch [77/100], Learning Rate: 1e-06, Teacher forcing ratio: 0.7077888\n",
      "Training: Avg Attenuated Training Loss: 0.7712\n"
     ]
    },
    {
     "name": "stdout",
     "output_type": "stream",
     "text": [
      "Validation: Avg Standard Validation Loss: 6.6217\n",
      "Validation: Avg Attenuated Validation Loss: 6.2880\n",
      "Validation Loss for Scheduler: 6.6217\n",
      "saving model\n"
     ]
    },
    {
     "name": "stdout",
     "output_type": "stream",
     "text": [
      "Epoch [78/100], Learning Rate: 1e-06, Teacher forcing ratio: 0.7077888\n",
      "Training: Avg Attenuated Training Loss: 0.9407\n"
     ]
    },
    {
     "name": "stdout",
     "output_type": "stream",
     "text": [
      "Validation: Avg Standard Validation Loss: 6.6051\n",
      "Validation: Avg Attenuated Validation Loss: 6.2013\n",
      "Validation Loss for Scheduler: 6.6051\n",
      "saving model\n"
     ]
    },
    {
     "name": "stdout",
     "output_type": "stream",
     "text": [
      "Epoch [79/100], Learning Rate: 1e-06, Teacher forcing ratio: 0.7077888\n",
      "Training: Avg Attenuated Training Loss: 0.8232\n"
     ]
    },
    {
     "name": "stdout",
     "output_type": "stream",
     "text": [
      "Validation: Avg Standard Validation Loss: 6.5894\n",
      "Validation: Avg Attenuated Validation Loss: 6.2246\n",
      "Validation Loss for Scheduler: 6.5894\n",
      "saving model\n"
     ]
    },
    {
     "name": "stdout",
     "output_type": "stream",
     "text": [
      "Epoch [80/100], Learning Rate: 1e-06, Teacher forcing ratio: 0.7077888\n",
      "Training: Avg Attenuated Training Loss: 0.8296\n"
     ]
    },
    {
     "name": "stdout",
     "output_type": "stream",
     "text": [
      "Validation: Avg Standard Validation Loss: 6.5754\n",
      "Validation: Avg Attenuated Validation Loss: 6.3627\n",
      "Validation Loss for Scheduler: 6.5754\n",
      "saving model\n"
     ]
    },
    {
     "name": "stdout",
     "output_type": "stream",
     "text": [
      "Epoch [81/100], Learning Rate: 1e-06, Teacher forcing ratio: 0.679477248\n",
      "Training: Avg Attenuated Training Loss: 1.0368\n"
     ]
    },
    {
     "name": "stdout",
     "output_type": "stream",
     "text": [
      "Validation: Avg Standard Validation Loss: 6.5587\n",
      "Validation: Avg Attenuated Validation Loss: 6.4676\n",
      "Validation Loss for Scheduler: 6.5587\n",
      "saving model\n"
     ]
    },
    {
     "name": "stdout",
     "output_type": "stream",
     "text": [
      "Epoch [82/100], Learning Rate: 1e-06, Teacher forcing ratio: 0.679477248\n",
      "Training: Avg Attenuated Training Loss: 1.0674\n"
     ]
    },
    {
     "name": "stdout",
     "output_type": "stream",
     "text": [
      "Validation: Avg Standard Validation Loss: 6.5404\n",
      "Validation: Avg Attenuated Validation Loss: 6.3097\n",
      "Validation Loss for Scheduler: 6.5404\n",
      "saving model\n"
     ]
    },
    {
     "name": "stdout",
     "output_type": "stream",
     "text": [
      "Epoch [83/100], Learning Rate: 1e-06, Teacher forcing ratio: 0.679477248\n",
      "Training: Avg Attenuated Training Loss: 1.0638\n"
     ]
    },
    {
     "name": "stdout",
     "output_type": "stream",
     "text": [
      "Validation: Avg Standard Validation Loss: 6.5281\n",
      "Validation: Avg Attenuated Validation Loss: 6.5903\n",
      "Validation Loss for Scheduler: 6.5281\n",
      "saving model\n"
     ]
    },
    {
     "name": "stdout",
     "output_type": "stream",
     "text": [
      "Epoch [84/100], Learning Rate: 1e-06, Teacher forcing ratio: 0.679477248\n",
      "Training: Avg Attenuated Training Loss: 1.0879\n"
     ]
    },
    {
     "name": "stdout",
     "output_type": "stream",
     "text": [
      "Validation: Avg Standard Validation Loss: 6.5197\n",
      "Validation: Avg Attenuated Validation Loss: 6.6281\n",
      "Validation Loss for Scheduler: 6.5197\n",
      "saving model\n"
     ]
    },
    {
     "name": "stdout",
     "output_type": "stream",
     "text": [
      "Epoch [85/100], Learning Rate: 1e-06, Teacher forcing ratio: 0.679477248\n",
      "Training: Avg Attenuated Training Loss: 1.0623\n"
     ]
    },
    {
     "name": "stdout",
     "output_type": "stream",
     "text": [
      "Validation: Avg Standard Validation Loss: 6.5048\n",
      "Validation: Avg Attenuated Validation Loss: 6.2271\n",
      "Validation Loss for Scheduler: 6.5048\n",
      "saving model\n"
     ]
    },
    {
     "name": "stdout",
     "output_type": "stream",
     "text": [
      "Epoch [86/100], Learning Rate: 1e-06, Teacher forcing ratio: 0.679477248\n",
      "Training: Avg Attenuated Training Loss: 0.9485\n"
     ]
    },
    {
     "name": "stdout",
     "output_type": "stream",
     "text": [
      "Validation: Avg Standard Validation Loss: 6.4917\n",
      "Validation: Avg Attenuated Validation Loss: 6.5599\n",
      "Validation Loss for Scheduler: 6.4917\n",
      "saving model\n"
     ]
    },
    {
     "name": "stdout",
     "output_type": "stream",
     "text": [
      "Epoch [87/100], Learning Rate: 1e-06, Teacher forcing ratio: 0.679477248\n",
      "Training: Avg Attenuated Training Loss: 0.8565\n"
     ]
    },
    {
     "name": "stdout",
     "output_type": "stream",
     "text": [
      "Validation: Avg Standard Validation Loss: 6.4770\n",
      "Validation: Avg Attenuated Validation Loss: 6.4970\n",
      "Validation Loss for Scheduler: 6.4770\n",
      "saving model\n"
     ]
    },
    {
     "name": "stdout",
     "output_type": "stream",
     "text": [
      "Epoch [88/100], Learning Rate: 1e-06, Teacher forcing ratio: 0.679477248\n",
      "Training: Avg Attenuated Training Loss: 0.8418\n"
     ]
    },
    {
     "name": "stdout",
     "output_type": "stream",
     "text": [
      "Validation: Avg Standard Validation Loss: 6.4695\n",
      "Validation: Avg Attenuated Validation Loss: 6.9654\n",
      "Validation Loss for Scheduler: 6.4695\n",
      "saving model\n"
     ]
    },
    {
     "name": "stdout",
     "output_type": "stream",
     "text": [
      "Epoch [89/100], Learning Rate: 1e-06, Teacher forcing ratio: 0.679477248\n",
      "Training: Avg Attenuated Training Loss: 0.9060\n"
     ]
    },
    {
     "name": "stdout",
     "output_type": "stream",
     "text": [
      "Validation: Avg Standard Validation Loss: 6.4543\n",
      "Validation: Avg Attenuated Validation Loss: 6.8556\n",
      "Validation Loss for Scheduler: 6.4543\n",
      "saving model\n"
     ]
    },
    {
     "name": "stdout",
     "output_type": "stream",
     "text": [
      "Epoch [90/100], Learning Rate: 1e-06, Teacher forcing ratio: 0.679477248\n",
      "Training: Avg Attenuated Training Loss: 1.0037\n"
     ]
    },
    {
     "name": "stdout",
     "output_type": "stream",
     "text": [
      "Validation: Avg Standard Validation Loss: 6.4416\n",
      "Validation: Avg Attenuated Validation Loss: 6.8018\n",
      "Validation Loss for Scheduler: 6.4416\n",
      "saving model\n"
     ]
    },
    {
     "name": "stdout",
     "output_type": "stream",
     "text": [
      "Epoch [91/100], Learning Rate: 1e-06, Teacher forcing ratio: 0.679477248\n",
      "Training: Avg Attenuated Training Loss: 0.8202\n"
     ]
    },
    {
     "name": "stdout",
     "output_type": "stream",
     "text": [
      "Validation: Avg Standard Validation Loss: 6.4344\n",
      "Validation: Avg Attenuated Validation Loss: 7.0700\n",
      "Validation Loss for Scheduler: 6.4344\n",
      "saving model\n"
     ]
    },
    {
     "name": "stdout",
     "output_type": "stream",
     "text": [
      "Epoch [92/100], Learning Rate: 1e-06, Teacher forcing ratio: 0.679477248\n",
      "Training: Avg Attenuated Training Loss: 0.7718\n"
     ]
    },
    {
     "name": "stdout",
     "output_type": "stream",
     "text": [
      "Validation: Avg Standard Validation Loss: 6.4192\n",
      "Validation: Avg Attenuated Validation Loss: 6.9210\n",
      "Validation Loss for Scheduler: 6.4192\n",
      "saving model\n"
     ]
    },
    {
     "name": "stdout",
     "output_type": "stream",
     "text": [
      "Epoch [93/100], Learning Rate: 1e-06, Teacher forcing ratio: 0.679477248\n",
      "Training: Avg Attenuated Training Loss: 0.6022\n"
     ]
    },
    {
     "name": "stdout",
     "output_type": "stream",
     "text": [
      "Validation: Avg Standard Validation Loss: 6.4087\n",
      "Validation: Avg Attenuated Validation Loss: 7.3285\n",
      "Validation Loss for Scheduler: 6.4087\n",
      "saving model\n"
     ]
    },
    {
     "name": "stdout",
     "output_type": "stream",
     "text": [
      "Epoch [94/100], Learning Rate: 1e-06, Teacher forcing ratio: 0.679477248\n",
      "Training: Avg Attenuated Training Loss: 0.5925\n"
     ]
    },
    {
     "name": "stdout",
     "output_type": "stream",
     "text": [
      "Validation: Avg Standard Validation Loss: 6.3996\n",
      "Validation: Avg Attenuated Validation Loss: 7.1078\n",
      "Validation Loss for Scheduler: 6.3996\n",
      "saving model\n"
     ]
    },
    {
     "name": "stdout",
     "output_type": "stream",
     "text": [
      "Epoch [95/100], Learning Rate: 1e-06, Teacher forcing ratio: 0.679477248\n",
      "Training: Avg Attenuated Training Loss: 0.6547\n"
     ]
    },
    {
     "name": "stdout",
     "output_type": "stream",
     "text": [
      "Validation: Avg Standard Validation Loss: 6.3866\n",
      "Validation: Avg Attenuated Validation Loss: 7.0705\n",
      "Validation Loss for Scheduler: 6.3866\n",
      "saving model\n"
     ]
    },
    {
     "name": "stdout",
     "output_type": "stream",
     "text": [
      "Epoch [96/100], Learning Rate: 1e-06, Teacher forcing ratio: 0.679477248\n",
      "Training: Avg Attenuated Training Loss: 0.6268\n"
     ]
    },
    {
     "name": "stdout",
     "output_type": "stream",
     "text": [
      "Validation: Avg Standard Validation Loss: 6.3765\n",
      "Validation: Avg Attenuated Validation Loss: 7.4207\n",
      "Validation Loss for Scheduler: 6.3765\n",
      "saving model\n"
     ]
    },
    {
     "name": "stdout",
     "output_type": "stream",
     "text": [
      "Epoch [97/100], Learning Rate: 1e-06, Teacher forcing ratio: 0.679477248\n",
      "Training: Avg Attenuated Training Loss: 0.5525\n"
     ]
    },
    {
     "name": "stdout",
     "output_type": "stream",
     "text": [
      "Validation: Avg Standard Validation Loss: 6.3651\n",
      "Validation: Avg Attenuated Validation Loss: 7.1228\n",
      "Validation Loss for Scheduler: 6.3651\n",
      "saving model\n"
     ]
    },
    {
     "name": "stdout",
     "output_type": "stream",
     "text": [
      "Epoch [98/100], Learning Rate: 1e-06, Teacher forcing ratio: 0.679477248\n",
      "Training: Avg Attenuated Training Loss: 0.4518\n"
     ]
    },
    {
     "name": "stdout",
     "output_type": "stream",
     "text": [
      "Validation: Avg Standard Validation Loss: 6.3535\n",
      "Validation: Avg Attenuated Validation Loss: 6.9961\n",
      "Validation Loss for Scheduler: 6.3535\n",
      "saving model\n"
     ]
    },
    {
     "name": "stdout",
     "output_type": "stream",
     "text": [
      "Epoch [99/100], Learning Rate: 1e-06, Teacher forcing ratio: 0.679477248\n",
      "Training: Avg Attenuated Training Loss: 0.4969\n"
     ]
    },
    {
     "name": "stdout",
     "output_type": "stream",
     "text": [
      "Validation: Avg Standard Validation Loss: 6.3442\n",
      "Validation: Avg Attenuated Validation Loss: 7.8107\n",
      "Validation Loss for Scheduler: 6.3442\n",
      "saving model\n"
     ]
    },
    {
     "name": "stdout",
     "output_type": "stream",
     "text": [
      "Epoch [100/100], Learning Rate: 1e-06, Teacher forcing ratio: 0.679477248\n",
      "Training: Avg Attenuated Training Loss: 0.5472\n"
     ]
    },
    {
     "name": "stdout",
     "output_type": "stream",
     "text": [
      "Validation: Avg Standard Validation Loss: 6.3357\n",
      "Validation: Avg Attenuated Validation Loss: 7.4603\n",
      "Validation Loss for Scheduler: 6.3357\n",
      "saving model\n",
      "Training complete.\n",
      "Model saved to path: BPIC_2017_full_grad_norm_new_2.pkl\n"
     ]
    }
   ],
   "source": [
    "import trainer.trainer\n",
    "importlib.reload(trainer.trainer)\n",
    "from trainer.trainer import Trainer\n",
    "from torch.optim.lr_scheduler import ReduceLROnPlateau\n",
    "\n",
    "from torch.utils.tensorboard import SummaryWriter\n",
    "\n",
    "writer = SummaryWriter(comment=\"Full_BPIC17_grad\")\n",
    "\n",
    "# device\n",
    "device = torch.device(\"cuda\" if torch.cuda.is_available() else \"cpu\")\n",
    "\n",
    "# Start learning rate\n",
    "learning_rate = 1e-6\n",
    "\n",
    "# Optimizer and Scheduler\n",
    "optimizer = torch.optim.Adam(params=model.parameters(), lr=learning_rate, weight_decay=0)\n",
    "scheduler = ReduceLROnPlateau(optimizer, mode='min', factor=0.1, patience=2, min_lr=1e-10)\n",
    "\n",
    "# Epochs\n",
    "num_epochs = 100\n",
    "\n",
    "# BATCHING does not work currntly with custom implementation\n",
    "batch_size = 256\n",
    "\n",
    "# lambda for L2 (weight, bias, dropout) regularization: According to formula: 1/2N\n",
    "# regularization_term = 1.0/(2.0*batch_size)\n",
    "regularization_term = 1e-4\n",
    "\n",
    "# shuffle data\n",
    "shuffle = True\n",
    "\n",
    "# Teacher forcing: Smaller 0.5 more target events are used for next event prediction.\n",
    "teacher_forcing_ratio = 0.8\n",
    "\n",
    "optimize_values = {\"regularization_term\":regularization_term,\n",
    "                   \"optimizer\":optimizer,\n",
    "                   \"scheduler\": scheduler,\n",
    "                   \"epochs\":num_epochs,\n",
    "                   \"mini_batches\":batch_size,\n",
    "                   \"shuffle\": shuffle,\n",
    "                   \"teacher_forcing_ratio\":teacher_forcing_ratio,}\n",
    "\n",
    "suffix_data_split_value = 4\n",
    "\n",
    "# GradNorm parameter\n",
    "use_gradnorm = True\n",
    "gn_alpha = 1.5\n",
    "gn_learning_rate = 1e-4\n",
    "\n",
    "number_tasks = len(dec_feat[0]) + len(dec_feat[1])\n",
    "\n",
    "gradNorm = {\"use_gradnorm\":use_gradnorm,\n",
    "            \"number_tasks\": number_tasks,\n",
    "            \"gn_alpha\":gn_alpha,\n",
    "            \"gn_learning_rate\": gn_learning_rate}\n",
    "\n",
    "trainer = Trainer(device=device,\n",
    "                  model=model,\n",
    "                  data_train=BPIC_17_train_dataset,\n",
    "                  data_val=BPIC_17_val_dataset,\n",
    "                  loss_obj=loss_obj,\n",
    "                  log_normal_loss_num_feature= [],\n",
    "                  optimize_values=optimize_values,\n",
    "                  suffix_data_split_value=suffix_data_split_value,\n",
    "                  writer=writer,\n",
    "                  gradnorm_values=gradNorm,\n",
    "                  save_model_n_th_epoch = 1,\n",
    "                  saving_path = 'BPIC_2017_full_grad_norm_new_2.pkl')\n",
    "\n",
    "# Train the model:\n",
    "train_attenuated_losses, val_losses, val_attenuated_losses = trainer.train_model()"
   ]
  },
  {
   "cell_type": "markdown",
   "metadata": {},
   "source": [
    "# Training Visualization"
   ]
  },
  {
   "cell_type": "code",
   "execution_count": 8,
   "metadata": {
    "execution": {
     "iopub.execute_input": "2025-04-27T20:36:00.621491Z",
     "iopub.status.busy": "2025-04-27T20:36:00.621139Z",
     "iopub.status.idle": "2025-04-27T20:36:00.864256Z",
     "shell.execute_reply": "2025-04-27T20:36:00.863884Z"
    }
   },
   "outputs": [
    {
     "data": {
      "image/png": "[encoded data removed]",
      "text/plain": [
       "<Figure size 640x480 with 1 Axes>"
      ]
     },
     "metadata": {},
     "output_type": "display_data"
    }
   ],
   "source": [
    "import matplotlib.pyplot as plt\n",
    "\n",
    "# After training is finished, plot the loss curves\n",
    "plt.plot(range(1, num_epochs+1), train_attenuated_losses, label='Training Attenuated Loss', color='blue')\n",
    "plt.plot(range(1, num_epochs+1), val_losses, label='Validation Loss', color='orange')\n",
    "plt.plot(range(1, num_epochs+1), val_attenuated_losses, label='Validation Attenuated Loss', color='green')\n",
    "# Labeling x and y axes\n",
    "plt.xlabel('Epochs', fontsize=12)\n",
    "plt.ylabel('Loss', fontsize=12)\n",
    "# Adding title\n",
    "plt.title('Training and Validation Loss Curve', fontsize=14)\n",
    "# Adding legend\n",
    "plt.legend()\n",
    "# Show the plot\n",
    "plt.show()"
   ]
  }
 ],
 "metadata": {
  "kernelspec": {
   "display_name": "PrimePPM-tDGhFIeG",
   "language": "python",
   "name": "python3"
  },
  "language_info": {
   "codemirror_mode": {
    "name": "ipython",
    "version": 3
   },
   "file_extension": ".py",
   "mimetype": "text/x-python",
   "name": "python",
   "nbconvert_exporter": "python",
   "pygments_lexer": "ipython3",
   "version": "3.13.1"
  },
  "widgets": {
   "application/vnd.jupyter.widget-state+json": {
    "state": {
     "1cbaada4ab6842bb96a47a9b5aa6604a": {
      "model_module": "@jupyter-widgets/controls",
      "model_module_version": "2.0.0",
      "model_name": "ProgressStyleModel",
      "state": {
       "_model_module": "@jupyter-widgets/controls",
       "_model_module_version": "2.0.0",
       "_model_name": "ProgressStyleModel",
       "_view_count": null,
       "_view_module": "@jupyter-widgets/base",
       "_view_module_version": "2.0.0",
       "_view_name": "StyleView",
       "bar_color": null,
       "description_width": ""
      }
     },
     "1f463e5cd1574b15b1b1a375bbb8f71b": {
      "model_module": "@jupyter-widgets/base",
      "model_module_version": "2.0.0",
      "model_name": "LayoutModel",
      "state": {
       "_model_module": "@jupyter-widgets/base",
       "_model_module_version": "2.0.0",
       "_model_name": "LayoutModel",
       "_view_count": null,
       "_view_module": "@jupyter-widgets/base",
       "_view_module_version": "2.0.0",
       "_view_name": "LayoutView",
       "align_content": null,
       "align_items": null,
       "align_self": null,
       "border_bottom": null,
       "border_left": null,
       "border_right": null,
       "border_top": null,
       "bottom": null,
       "display": null,
       "flex": null,
       "flex_flow": null,
       "grid_area": null,
       "grid_auto_columns": null,
       "grid_auto_flow": null,
       "grid_auto_rows": null,
       "grid_column": null,
       "grid_gap": null,
       "grid_row": null,
       "grid_template_areas": null,
       "grid_template_columns": null,
       "grid_template_rows": null,
       "height": null,
       "justify_content": null,
       "justify_items": null,
       "left": null,
       "margin": null,
       "max_height": null,
       "max_width": null,
       "min_height": null,
       "min_width": null,
       "object_fit": null,
       "object_position": null,
       "order": null,
       "overflow": null,
       "padding": null,
       "right": null,
       "top": null,
       "visibility": null,
       "width": null
      }
     },
     "26e63fb47ac1493b8c1afb82cc4ddbb1": {
      "model_module": "@jupyter-widgets/controls",
      "model_module_version": "2.0.0",
      "model_name": "HBoxModel",
      "state": {
       "_dom_classes": [],
       "_model_module": "@jupyter-widgets/controls",
       "_model_module_version": "2.0.0",
       "_model_name": "HBoxModel",
       "_view_count": null,
       "_view_module": "@jupyter-widgets/controls",
       "_view_module_version": "2.0.0",
       "_view_name": "HBoxView",
       "box_style": "",
       "children": [
        "IPY_MODEL_e87a6c8753184a6f9712577687222000",
        "IPY_MODEL_72cdbab49bf645fa934dbb3294016832",
        "IPY_MODEL_b510e734433e4771b39720c4df8df80e"
       ],
       "layout": "IPY_MODEL_bd93e52b75d54aa1996a0325835b0841",
       "tabbable": null,
       "tooltip": null
      }
     },
     "2c97322197af4d8d922ea5eccfec395f": {
      "model_module": "@jupyter-widgets/controls",
      "model_module_version": "2.0.0",
      "model_name": "HTMLStyleModel",
      "state": {
       "_model_module": "@jupyter-widgets/controls",
       "_model_module_version": "2.0.0",
       "_model_name": "HTMLStyleModel",
       "_view_count": null,
       "_view_module": "@jupyter-widgets/base",
       "_view_module_version": "2.0.0",
       "_view_name": "StyleView",
       "background": null,
       "description_width": "",
       "font_size": null,
       "text_color": null
      }
     },
     "2df8ca575c48422d8441555deb2ef75b": {
      "model_module": "@jupyter-widgets/controls",
      "model_module_version": "2.0.0",
      "model_name": "HTMLStyleModel",
      "state": {
       "_model_module": "@jupyter-widgets/controls",
       "_model_module_version": "2.0.0",
       "_model_name": "HTMLStyleModel",
       "_view_count": null,
       "_view_module": "@jupyter-widgets/base",
       "_view_module_version": "2.0.0",
       "_view_name": "StyleView",
       "background": null,
       "description_width": "",
       "font_size": null,
       "text_color": null
      }
     },
     "6d97ff92adda449b83ce110a79b2fe63": {
      "model_module": "@jupyter-widgets/base",
      "model_module_version": "2.0.0",
      "model_name": "LayoutModel",
      "state": {
       "_model_module": "@jupyter-widgets/base",
       "_model_module_version": "2.0.0",
       "_model_name": "LayoutModel",
       "_view_count": null,
       "_view_module": "@jupyter-widgets/base",
       "_view_module_version": "2.0.0",
       "_view_name": "LayoutView",
       "align_content": null,
       "align_items": null,
       "align_self": null,
       "border_bottom": null,
       "border_left": null,
       "border_right": null,
       "border_top": null,
       "bottom": null,
       "display": null,
       "flex": null,
       "flex_flow": null,
       "grid_area": null,
       "grid_auto_columns": null,
       "grid_auto_flow": null,
       "grid_auto_rows": null,
       "grid_column": null,
       "grid_gap": null,
       "grid_row": null,
       "grid_template_areas": null,
       "grid_template_columns": null,
       "grid_template_rows": null,
       "height": null,
       "justify_content": null,
       "justify_items": null,
       "left": null,
       "margin": null,
       "max_height": null,
       "max_width": null,
       "min_height": null,
       "min_width": null,
       "object_fit": null,
       "object_position": null,
       "order": null,
       "overflow": null,
       "padding": null,
       "right": null,
       "top": null,
       "visibility": null,
       "width": null
      }
     },
     "72cdbab49bf645fa934dbb3294016832": {
      "model_module": "@jupyter-widgets/controls",
      "model_module_version": "2.0.0",
      "model_name": "FloatProgressModel",
      "state": {
       "_dom_classes": [],
       "_model_module": "@jupyter-widgets/controls",
       "_model_module_version": "2.0.0",
       "_model_name": "FloatProgressModel",
       "_view_count": null,
       "_view_module": "@jupyter-widgets/controls",
       "_view_module_version": "2.0.0",
       "_view_name": "ProgressView",
       "bar_style": "success",
       "description": "",
       "description_allow_html": false,
       "layout": "IPY_MODEL_1f463e5cd1574b15b1b1a375bbb8f71b",
       "max": 100.0,
       "min": 0.0,
       "orientation": "horizontal",
       "style": "IPY_MODEL_1cbaada4ab6842bb96a47a9b5aa6604a",
       "tabbable": null,
       "tooltip": null,
       "value": 100.0
      }
     },
     "b510e734433e4771b39720c4df8df80e": {
      "model_module": "@jupyter-widgets/controls",
      "model_module_version": "2.0.0",
      "model_name": "HTMLModel",
      "state": {
       "_dom_classes": [],
       "_model_module": "@jupyter-widgets/controls",
       "_model_module_version": "2.0.0",
       "_model_name": "HTMLModel",
       "_view_count": null,
       "_view_module": "@jupyter-widgets/controls",
       "_view_module_version": "2.0.0",
       "_view_name": "HTMLView",
       "description": "",
       "description_allow_html": false,
       "layout": "IPY_MODEL_6d97ff92adda449b83ce110a79b2fe63",
       "placeholder": "​",
       "style": "IPY_MODEL_2df8ca575c48422d8441555deb2ef75b",
       "tabbable": null,
       "tooltip": null,
       "value": " 100/100 [53:54:52&lt;00:00, 1888.05s/it]"
      }
     },
     "bd93e52b75d54aa1996a0325835b0841": {
      "model_module": "@jupyter-widgets/base",
      "model_module_version": "2.0.0",
      "model_name": "LayoutModel",
      "state": {
       "_model_module": "@jupyter-widgets/base",
       "_model_module_version": "2.0.0",
       "_model_name": "LayoutModel",
       "_view_count": null,
       "_view_module": "@jupyter-widgets/base",
       "_view_module_version": "2.0.0",
       "_view_name": "LayoutView",
       "align_content": null,
       "align_items": null,
       "align_self": null,
       "border_bottom": null,
       "border_left": null,
       "border_right": null,
       "border_top": null,
       "bottom": null,
       "display": null,
       "flex": null,
       "flex_flow": null,
       "grid_area": null,
       "grid_auto_columns": null,
       "grid_auto_flow": null,
       "grid_auto_rows": null,
       "grid_column": null,
       "grid_gap": null,
       "grid_row": null,
       "grid_template_areas": null,
       "grid_template_columns": null,
       "grid_template_rows": null,
       "height": null,
       "justify_content": null,
       "justify_items": null,
       "left": null,
       "margin": null,
       "max_height": null,
       "max_width": null,
       "min_height": null,
       "min_width": null,
       "object_fit": null,
       "object_position": null,
       "order": null,
       "overflow": null,
       "padding": null,
       "right": null,
       "top": null,
       "visibility": null,
       "width": null
      }
     },
     "e87a423cea9c4dff9f4ba4a35c62fdbb": {
      "model_module": "@jupyter-widgets/base",
      "model_module_version": "2.0.0",
      "model_name": "LayoutModel",
      "state": {
       "_model_module": "@jupyter-widgets/base",
       "_model_module_version": "2.0.0",
       "_model_name": "LayoutModel",
       "_view_count": null,
       "_view_module": "@jupyter-widgets/base",
       "_view_module_version": "2.0.0",
       "_view_name": "LayoutView",
       "align_content": null,
       "align_items": null,
       "align_self": null,
       "border_bottom": null,
       "border_left": null,
       "border_right": null,
       "border_top": null,
       "bottom": null,
       "display": null,
       "flex": null,
       "flex_flow": null,
       "grid_area": null,
       "grid_auto_columns": null,
       "grid_auto_flow": null,
       "grid_auto_rows": null,
       "grid_column": null,
       "grid_gap": null,
       "grid_row": null,
       "grid_template_areas": null,
       "grid_template_columns": null,
       "grid_template_rows": null,
       "height": null,
       "justify_content": null,
       "justify_items": null,
       "left": null,
       "margin": null,
       "max_height": null,
       "max_width": null,
       "min_height": null,
       "min_width": null,
       "object_fit": null,
       "object_position": null,
       "order": null,
       "overflow": null,
       "padding": null,
       "right": null,
       "top": null,
       "visibility": null,
       "width": null
      }
     },
     "e87a6c8753184a6f9712577687222000": {
      "model_module": "@jupyter-widgets/controls",
      "model_module_version": "2.0.0",
      "model_name": "HTMLModel",
      "state": {
       "_dom_classes": [],
       "_model_module": "@jupyter-widgets/controls",
       "_model_module_version": "2.0.0",
       "_model_name": "HTMLModel",
       "_view_count": null,
       "_view_module": "@jupyter-widgets/controls",
       "_view_module_version": "2.0.0",
       "_view_name": "HTMLView",
       "description": "",
       "description_allow_html": false,
       "layout": "IPY_MODEL_e87a423cea9c4dff9f4ba4a35c62fdbb",
       "placeholder": "​",
       "style": "IPY_MODEL_2c97322197af4d8d922ea5eccfec395f",
       "tabbable": null,
       "tooltip": null,
       "value": "100%"
      }
     }
    },
    "version_major": 2,
    "version_minor": 0
   }
  }
 },
 "nbformat": 4,
 "nbformat_minor": 4
}
