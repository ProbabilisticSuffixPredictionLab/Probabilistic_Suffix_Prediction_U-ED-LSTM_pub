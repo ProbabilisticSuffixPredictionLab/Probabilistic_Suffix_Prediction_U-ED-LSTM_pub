{
 "cells": [
  {
   "cell_type": "markdown",
   "metadata": {},
   "source": [
    "# Imports"
   ]
  },
  {
   "cell_type": "code",
   "execution_count": 1,
   "metadata": {
    "execution": {
     "iopub.execute_input": "2025-05-06T13:15:03.412731Z",
     "iopub.status.busy": "2025-05-06T13:15:03.412474Z",
     "iopub.status.idle": "2025-05-06T13:15:05.191378Z",
     "shell.execute_reply": "2025-05-06T13:15:05.190921Z"
    }
   },
   "outputs": [],
   "source": [
    "import importlib\n",
    "import sys\n",
    "import torch\n",
    "\n",
    "sys.path.insert(0, '..')\n",
    "sys.path.insert(0, '../..')\n",
    "sys.path.insert(0, '../../..')"
   ]
  },
  {
   "cell_type": "markdown",
   "metadata": {},
   "source": [
    "# Data"
   ]
  },
  {
   "cell_type": "markdown",
   "metadata": {},
   "source": [
    "### Load Data Files"
   ]
  },
  {
   "cell_type": "code",
   "execution_count": 2,
   "metadata": {
    "execution": {
     "iopub.execute_input": "2025-05-06T13:15:05.193649Z",
     "iopub.status.busy": "2025-05-06T13:15:05.193455Z",
     "iopub.status.idle": "2025-05-06T13:15:06.517465Z",
     "shell.execute_reply": "2025-05-06T13:15:06.516882Z"
    }
   },
   "outputs": [
    {
     "name": "stdout",
     "output_type": "stream",
     "text": [
      "<class 'event_log_loader.new_event_log_loader.EventLogDataset'>\n",
      "<class 'event_log_loader.new_event_log_loader.EventLogDataset'>\n"
     ]
    }
   ],
   "source": [
    "# Path to your pickle file (saved with torch.save)\n",
    "file_path_train = '../../../../encoded_data/Sepsis_all_5_train.pkl'\n",
    "# Load the dataset using torch.load\n",
    "sepsis_train_dataset = torch.load(file_path_train, weights_only=False)\n",
    "# Check the type of the loaded dataset\n",
    "print(type(sepsis_train_dataset))  # Should output something like <class 'torch.utils.data.dataset.TensorDataset'>\n",
    "\n",
    "# Path to your pickle file (saved with torch.save)\n",
    "file_path_val = '../../../../encoded_data/Sepsis_all_5_val.pkl'\n",
    "# Load the dataset using torch.load\n",
    "sepsis_val_dataset = torch.load(file_path_val, weights_only=False)\n",
    "# Check the type of the loaded dataset\n",
    "print(type(sepsis_val_dataset))  # Should output something like <class 'torch.utils.data.dataset.TensorDataset'>"
   ]
  },
  {
   "cell_type": "markdown",
   "metadata": {},
   "source": [
    "### Train Data Insights"
   ]
  },
  {
   "cell_type": "code",
   "execution_count": 3,
   "metadata": {
    "execution": {
     "iopub.execute_input": "2025-05-06T13:15:06.546474Z",
     "iopub.status.busy": "2025-05-06T13:15:06.546060Z",
     "iopub.status.idle": "2025-05-06T13:15:06.551142Z",
     "shell.execute_reply": "2025-05-06T13:15:06.550667Z"
    }
   },
   "outputs": [
    {
     "name": "stdout",
     "output_type": "stream",
     "text": [
      "[('concept:name', 18, {'Admission IC': 1, 'Admission NC': 2, 'CRP': 3, 'EOS': 4, 'ER Registration': 5, 'ER Sepsis Triage': 6, 'ER Triage': 7, 'IV Antibiotics': 8, 'IV Liquid': 9, 'LacticAcid': 10, 'Leucocytes': 11, 'Release A': 12, 'Release B': 13, 'Release C': 14, 'Release D': 15, 'Release E': 16, 'Return ER': 17}), ('InfectionSuspected', 5, {'EOS': 1, 'False': 2, 'True': 3, nan: 4}), ('org:group', 27, {'?': 1, 'A': 2, 'B': 3, 'C': 4, 'D': 5, 'E': 6, 'EOS': 7, 'F': 8, 'G': 9, 'H': 10, 'I': 11, 'J': 12, 'K': 13, 'L': 14, 'M': 15, 'N': 16, 'O': 17, 'P': 18, 'Q': 19, 'R': 20, 'S': 21, 'T': 22, 'U': 23, 'V': 24, 'W': 25, 'X': 26}), ('DiagnosticBlood', 5, {'EOS': 1, 'False': 2, 'True': 3, nan: 4}), ('DisfuncOrg', 5, {'EOS': 1, 'False': 2, 'True': 3, nan: 4}), ('SIRSCritTachypnea', 5, {'EOS': 1, 'False': 2, 'True': 3, nan: 4}), ('Hypotensie', 5, {'EOS': 1, 'False': 2, 'True': 3, nan: 4}), ('SIRSCritHeartRate', 5, {'EOS': 1, 'False': 2, 'True': 3, nan: 4}), ('Infusion', 5, {'EOS': 1, 'False': 2, 'True': 3, nan: 4}), ('DiagnosticArtAstrup', 5, {'EOS': 1, 'False': 2, 'True': 3, nan: 4}), ('DiagnosticIC', 5, {'EOS': 1, 'False': 2, 'True': 3, nan: 4}), ('DiagnosticSputum', 5, {'EOS': 1, 'False': 2, 'True': 3, nan: 4}), ('DiagnosticLiquor', 5, {'EOS': 1, 'False': 2, 'True': 3, nan: 4}), ('DiagnosticOther', 5, {'EOS': 1, 'False': 2, 'True': 3, nan: 4}), ('SIRSCriteria2OrMore', 5, {'EOS': 1, 'False': 2, 'True': 3, nan: 4}), ('DiagnosticXthorax', 5, {'EOS': 1, 'False': 2, 'True': 3, nan: 4}), ('SIRSCritTemperature', 5, {'EOS': 1, 'False': 2, 'True': 3, nan: 4}), ('DiagnosticUrinaryCulture', 5, {'EOS': 1, 'False': 2, 'True': 3, nan: 4}), ('SIRSCritLeucos', 5, {'EOS': 1, 'False': 2, 'True': 3, nan: 4}), ('Oligurie', 5, {'EOS': 1, 'False': 2, 'True': 3, nan: 4}), ('DiagnosticLacticAcid', 5, {'EOS': 1, 'False': 2, 'True': 3, nan: 4}), ('lifecycle:transition', 3, {'EOS': 1, 'complete': 2}), ('Diagnose', 123, {'A': 1, 'AA': 2, 'AB': 3, 'AC': 4, 'AE': 5, 'B': 6, 'BA': 7, 'BB': 8, 'BC': 9, 'BD': 10, 'C': 11, 'CA': 12, 'CB': 13, 'CC': 14, 'CE': 15, 'D': 16, 'DC': 17, 'DD': 18, 'DE': 19, 'E': 20, 'EA': 21, 'EB': 22, 'EC': 23, 'ED': 24, 'EE': 25, 'EOS': 26, 'F': 27, 'FB': 28, 'FC': 29, 'FD': 30, 'FE': 31, 'G': 32, 'GA': 33, 'GB': 34, 'GD': 35, 'H': 36, 'HA': 37, 'HB': 38, 'HC': 39, 'HD': 40, 'HE': 41, 'I': 42, 'IA': 43, 'IB': 44, 'IC': 45, 'ID': 46, 'IE': 47, 'J': 48, 'JA': 49, 'JB': 50, 'JC': 51, 'JD': 52, 'JE': 53, 'K': 54, 'KA': 55, 'KB': 56, 'KC': 57, 'KD': 58, 'KE': 59, 'L': 60, 'LA': 61, 'LB': 62, 'LC': 63, 'M': 64, 'MA': 65, 'MB': 66, 'MC': 67, 'MD': 68, 'ME': 69, 'N': 70, 'NB': 71, 'NC': 72, 'O': 73, 'OA': 74, 'OB': 75, 'OC': 76, 'OD': 77, 'OE': 78, 'P': 79, 'PA': 80, 'PC': 81, 'PD': 82, 'PE': 83, 'Q': 84, 'QC': 85, 'QD': 86, 'R': 87, 'RA': 88, 'RB': 89, 'RC': 90, 'RD': 91, 'S': 92, 'SA': 93, 'SC': 94, 'SD': 95, 'T': 96, 'TB': 97, 'TD': 98, 'U': 99, 'UA': 100, 'UB': 101, 'UC': 102, 'VA': 103, 'VB': 104, 'VC': 105, 'VD': 106, 'W': 107, 'WD': 108, 'X': 109, 'XA': 110, 'XB': 111, 'XC': 112, 'XD': 113, 'Y': 114, 'YA': 115, 'YC': 116, 'YD': 117, 'Z': 118, 'ZA': 119, 'ZB': 120, 'ZC': 121, nan: 122}), ('Hypoxie', 5, {'EOS': 1, 'False': 2, 'True': 3, nan: 4}), ('DiagnosticUrinarySediment', 5, {'EOS': 1, 'False': 2, 'True': 3, nan: 4}), ('DiagnosticECG', 5, {'EOS': 1, 'False': 2, 'True': 3, nan: 4})]\n",
      "[('case_elapsed_time', 1, {}), ('event_elapsed_time', 1, {}), ('day_in_week', 1, {}), ('seconds_in_day', 1, {}), ('Age', 1, {}), ('Leucocytes', 1, {}), ('CRP', 1, {}), ('LacticAcid', 1, {})]\n",
      "Sepsis (5) Categorical feature: concept:name, Index position in categorical data list: 0\n",
      "Sepsis (5) Total Amount of Category labels: 18\n",
      "Sepsis (5) Categorical feature: InfectionSuspected, Index position in categorical data list: 1\n",
      "Sepsis (5) Total Amount of Category labels: 5\n",
      "Sepsis (5) Categorical feature: org:group, Index position in categorical data list: 2\n",
      "Sepsis (5) Total Amount of Category labels: 27\n",
      "Sepsis (5) Categorical feature: DiagnosticBlood, Index position in categorical data list: 3\n",
      "Sepsis (5) Total Amount of Category labels: 5\n",
      "Sepsis (5) Categorical feature: DisfuncOrg, Index position in categorical data list: 4\n",
      "Sepsis (5) Total Amount of Category labels: 5\n",
      "Sepsis (5) Categorical feature: SIRSCritTachypnea, Index position in categorical data list: 5\n",
      "Sepsis (5) Total Amount of Category labels: 5\n",
      "Sepsis (5) Categorical feature: Hypotensie, Index position in categorical data list: 6\n",
      "Sepsis (5) Total Amount of Category labels: 5\n",
      "Sepsis (5) Categorical feature: SIRSCritHeartRate, Index position in categorical data list: 7\n",
      "Sepsis (5) Total Amount of Category labels: 5\n",
      "Sepsis (5) Categorical feature: Infusion, Index position in categorical data list: 8\n",
      "Sepsis (5) Total Amount of Category labels: 5\n",
      "Sepsis (5) Categorical feature: DiagnosticArtAstrup, Index position in categorical data list: 9\n",
      "Sepsis (5) Total Amount of Category labels: 5\n",
      "Sepsis (5) Categorical feature: DiagnosticIC, Index position in categorical data list: 10\n",
      "Sepsis (5) Total Amount of Category labels: 5\n",
      "Sepsis (5) Categorical feature: DiagnosticSputum, Index position in categorical data list: 11\n",
      "Sepsis (5) Total Amount of Category labels: 5\n",
      "Sepsis (5) Categorical feature: DiagnosticLiquor, Index position in categorical data list: 12\n",
      "Sepsis (5) Total Amount of Category labels: 5\n",
      "Sepsis (5) Categorical feature: DiagnosticOther, Index position in categorical data list: 13\n",
      "Sepsis (5) Total Amount of Category labels: 5\n",
      "Sepsis (5) Categorical feature: SIRSCriteria2OrMore, Index position in categorical data list: 14\n",
      "Sepsis (5) Total Amount of Category labels: 5\n",
      "Sepsis (5) Categorical feature: DiagnosticXthorax, Index position in categorical data list: 15\n",
      "Sepsis (5) Total Amount of Category labels: 5\n",
      "Sepsis (5) Categorical feature: SIRSCritTemperature, Index position in categorical data list: 16\n",
      "Sepsis (5) Total Amount of Category labels: 5\n",
      "Sepsis (5) Categorical feature: DiagnosticUrinaryCulture, Index position in categorical data list: 17\n",
      "Sepsis (5) Total Amount of Category labels: 5\n",
      "Sepsis (5) Categorical feature: SIRSCritLeucos, Index position in categorical data list: 18\n",
      "Sepsis (5) Total Amount of Category labels: 5\n",
      "Sepsis (5) Categorical feature: Oligurie, Index position in categorical data list: 19\n",
      "Sepsis (5) Total Amount of Category labels: 5\n",
      "Sepsis (5) Categorical feature: DiagnosticLacticAcid, Index position in categorical data list: 20\n",
      "Sepsis (5) Total Amount of Category labels: 5\n",
      "Sepsis (5) Categorical feature: lifecycle:transition, Index position in categorical data list: 21\n",
      "Sepsis (5) Total Amount of Category labels: 3\n",
      "Sepsis (5) Categorical feature: Diagnose, Index position in categorical data list: 22\n",
      "Sepsis (5) Total Amount of Category labels: 123\n",
      "Sepsis (5) Categorical feature: Hypoxie, Index position in categorical data list: 23\n",
      "Sepsis (5) Total Amount of Category labels: 5\n",
      "Sepsis (5) Categorical feature: DiagnosticUrinarySediment, Index position in categorical data list: 24\n",
      "Sepsis (5) Total Amount of Category labels: 5\n",
      "Sepsis (5) Categorical feature: DiagnosticECG, Index position in categorical data list: 25\n",
      "Sepsis (5) Total Amount of Category labels: 5\n",
      "\n",
      "\n",
      "Sepsis (5) Numerical feature: case_elapsed_time, Index position in categorical data list: 0\n",
      "Sepsis (5) Amount Category Lables: 1\n",
      "Sepsis (5) Numerical feature: event_elapsed_time, Index position in categorical data list: 1\n",
      "Sepsis (5) Amount Category Lables: 1\n",
      "Sepsis (5) Numerical feature: day_in_week, Index position in categorical data list: 2\n",
      "Sepsis (5) Amount Category Lables: 1\n",
      "Sepsis (5) Numerical feature: seconds_in_day, Index position in categorical data list: 3\n",
      "Sepsis (5) Amount Category Lables: 1\n",
      "Sepsis (5) Numerical feature: Age, Index position in categorical data list: 4\n",
      "Sepsis (5) Amount Category Lables: 1\n",
      "Sepsis (5) Numerical feature: Leucocytes, Index position in categorical data list: 5\n",
      "Sepsis (5) Amount Category Lables: 1\n",
      "Sepsis (5) Numerical feature: CRP, Index position in categorical data list: 6\n",
      "Sepsis (5) Amount Category Lables: 1\n",
      "Sepsis (5) Numerical feature: LacticAcid, Index position in categorical data list: 7\n",
      "Sepsis (5) Amount Category Lables: 1\n"
     ]
    }
   ],
   "source": [
    "# BPIC 17 Dataset Categories, Features:\n",
    "\n",
    "sepsis_all_categories = sepsis_train_dataset.all_categories\n",
    "\n",
    "sepsis_all_categories_cat = sepsis_all_categories[0]\n",
    "print(sepsis_all_categories_cat)\n",
    "\n",
    "sepsis_all_categories_num = sepsis_all_categories[1]\n",
    "print(sepsis_all_categories_num)\n",
    "\n",
    "for i, cat in enumerate(sepsis_all_categories_cat):\n",
    "     print(f\"Sepsis (5) Categorical feature: {cat[0]}, Index position in categorical data list: {i}\")\n",
    "     print(f\"Sepsis (5) Total Amount of Category labels: {cat[1]}\")\n",
    "print('\\n')    \n",
    "for i, num in enumerate(sepsis_all_categories_num):\n",
    "     print(f\"Sepsis (5) Numerical feature: {num[0]}, Index position in categorical data list: {i}\")\n",
    "     print(f\"Sepsis (5) Amount Category Lables: {num[1]}\")"
   ]
  },
  {
   "cell_type": "markdown",
   "metadata": {},
   "source": [
    "### Input Features for Encoder and Decoder"
   ]
  },
  {
   "cell_type": "code",
   "execution_count": 4,
   "metadata": {
    "execution": {
     "iopub.execute_input": "2025-05-06T13:15:06.557060Z",
     "iopub.status.busy": "2025-05-06T13:15:06.556780Z",
     "iopub.status.idle": "2025-05-06T13:15:06.561062Z",
     "shell.execute_reply": "2025-05-06T13:15:06.560592Z"
    }
   },
   "outputs": [
    {
     "name": "stdout",
     "output_type": "stream",
     "text": [
      "Input features encoder:  [['concept:name', 'InfectionSuspected', 'org:group', 'DiagnosticBlood', 'DisfuncOrg', 'SIRSCritTachypnea', 'Hypotensie', 'SIRSCritHeartRate', 'Infusion', 'DiagnosticArtAstrup', 'DiagnosticIC', 'DiagnosticSputum', 'DiagnosticLiquor', 'DiagnosticOther', 'SIRSCriteria2OrMore', 'DiagnosticXthorax', 'SIRSCritTemperature', 'DiagnosticUrinaryCulture', 'SIRSCritLeucos', 'Oligurie', 'DiagnosticLacticAcid', 'lifecycle:transition', 'Diagnose', 'Hypoxie', 'DiagnosticUrinarySediment', 'DiagnosticECG'], ['case_elapsed_time', 'event_elapsed_time', 'day_in_week', 'seconds_in_day', 'Age', 'Leucocytes', 'CRP', 'LacticAcid']]\n",
      "Features decoder:  [['concept:name', 'org:group', 'lifecycle:transition'], ['case_elapsed_time', 'event_elapsed_time']]\n"
     ]
    }
   ],
   "source": [
    "# Create lists with name of Encoder features (input) and decoder features (input & output)\n",
    "\n",
    "# Encoder features:\n",
    "enc_feat_cat = []\n",
    "enc_feat_num = []\n",
    "for cat in sepsis_all_categories_cat:\n",
    "    enc_feat_cat.append(cat[0])\n",
    "for num in sepsis_all_categories_num:\n",
    "    enc_feat_num.append(num[0])\n",
    "enc_feat = [enc_feat_cat, enc_feat_num]\n",
    "print(\"Input features encoder: \", enc_feat)\n",
    "\n",
    "\"\"\"\n",
    "# Decoder features:\n",
    "dec_feat_cat = enc_feat_cat\n",
    "dec_feat_num = enc_feat_num\n",
    "dec_feat = [dec_feat_cat, dec_feat_num]\n",
    "print(\"Features decoder: \", dec_feat)\n",
    "\"\"\"\n",
    "\n",
    "# Decoder features:\n",
    "dec_feat_cat = ['concept:name', 'org:group', 'lifecycle:transition']\n",
    "dec_feat_num = ['case_elapsed_time', 'event_elapsed_time']\n",
    "dec_feat = [dec_feat_cat, dec_feat_num]\n",
    "print(\"Features decoder: \", dec_feat)"
   ]
  },
  {
   "cell_type": "markdown",
   "metadata": {},
   "source": [
    "# Model"
   ]
  },
  {
   "cell_type": "code",
   "execution_count": 5,
   "metadata": {
    "execution": {
     "iopub.execute_input": "2025-05-06T13:15:06.563087Z",
     "iopub.status.busy": "2025-05-06T13:15:06.562866Z",
     "iopub.status.idle": "2025-05-06T13:15:06.601605Z",
     "shell.execute_reply": "2025-05-06T13:15:06.601058Z"
    }
   },
   "outputs": [
    {
     "name": "stdout",
     "output_type": "stream",
     "text": [
      "Data set categories:  ([('concept:name', 18, {'Admission IC': 1, 'Admission NC': 2, 'CRP': 3, 'EOS': 4, 'ER Registration': 5, 'ER Sepsis Triage': 6, 'ER Triage': 7, 'IV Antibiotics': 8, 'IV Liquid': 9, 'LacticAcid': 10, 'Leucocytes': 11, 'Release A': 12, 'Release B': 13, 'Release C': 14, 'Release D': 15, 'Release E': 16, 'Return ER': 17}), ('InfectionSuspected', 5, {'EOS': 1, 'False': 2, 'True': 3, nan: 4}), ('org:group', 27, {'?': 1, 'A': 2, 'B': 3, 'C': 4, 'D': 5, 'E': 6, 'EOS': 7, 'F': 8, 'G': 9, 'H': 10, 'I': 11, 'J': 12, 'K': 13, 'L': 14, 'M': 15, 'N': 16, 'O': 17, 'P': 18, 'Q': 19, 'R': 20, 'S': 21, 'T': 22, 'U': 23, 'V': 24, 'W': 25, 'X': 26}), ('DiagnosticBlood', 5, {'EOS': 1, 'False': 2, 'True': 3, nan: 4}), ('DisfuncOrg', 5, {'EOS': 1, 'False': 2, 'True': 3, nan: 4}), ('SIRSCritTachypnea', 5, {'EOS': 1, 'False': 2, 'True': 3, nan: 4}), ('Hypotensie', 5, {'EOS': 1, 'False': 2, 'True': 3, nan: 4}), ('SIRSCritHeartRate', 5, {'EOS': 1, 'False': 2, 'True': 3, nan: 4}), ('Infusion', 5, {'EOS': 1, 'False': 2, 'True': 3, nan: 4}), ('DiagnosticArtAstrup', 5, {'EOS': 1, 'False': 2, 'True': 3, nan: 4}), ('DiagnosticIC', 5, {'EOS': 1, 'False': 2, 'True': 3, nan: 4}), ('DiagnosticSputum', 5, {'EOS': 1, 'False': 2, 'True': 3, nan: 4}), ('DiagnosticLiquor', 5, {'EOS': 1, 'False': 2, 'True': 3, nan: 4}), ('DiagnosticOther', 5, {'EOS': 1, 'False': 2, 'True': 3, nan: 4}), ('SIRSCriteria2OrMore', 5, {'EOS': 1, 'False': 2, 'True': 3, nan: 4}), ('DiagnosticXthorax', 5, {'EOS': 1, 'False': 2, 'True': 3, nan: 4}), ('SIRSCritTemperature', 5, {'EOS': 1, 'False': 2, 'True': 3, nan: 4}), ('DiagnosticUrinaryCulture', 5, {'EOS': 1, 'False': 2, 'True': 3, nan: 4}), ('SIRSCritLeucos', 5, {'EOS': 1, 'False': 2, 'True': 3, nan: 4}), ('Oligurie', 5, {'EOS': 1, 'False': 2, 'True': 3, nan: 4}), ('DiagnosticLacticAcid', 5, {'EOS': 1, 'False': 2, 'True': 3, nan: 4}), ('lifecycle:transition', 3, {'EOS': 1, 'complete': 2}), ('Diagnose', 123, {'A': 1, 'AA': 2, 'AB': 3, 'AC': 4, 'AE': 5, 'B': 6, 'BA': 7, 'BB': 8, 'BC': 9, 'BD': 10, 'C': 11, 'CA': 12, 'CB': 13, 'CC': 14, 'CE': 15, 'D': 16, 'DC': 17, 'DD': 18, 'DE': 19, 'E': 20, 'EA': 21, 'EB': 22, 'EC': 23, 'ED': 24, 'EE': 25, 'EOS': 26, 'F': 27, 'FB': 28, 'FC': 29, 'FD': 30, 'FE': 31, 'G': 32, 'GA': 33, 'GB': 34, 'GD': 35, 'H': 36, 'HA': 37, 'HB': 38, 'HC': 39, 'HD': 40, 'HE': 41, 'I': 42, 'IA': 43, 'IB': 44, 'IC': 45, 'ID': 46, 'IE': 47, 'J': 48, 'JA': 49, 'JB': 50, 'JC': 51, 'JD': 52, 'JE': 53, 'K': 54, 'KA': 55, 'KB': 56, 'KC': 57, 'KD': 58, 'KE': 59, 'L': 60, 'LA': 61, 'LB': 62, 'LC': 63, 'M': 64, 'MA': 65, 'MB': 66, 'MC': 67, 'MD': 68, 'ME': 69, 'N': 70, 'NB': 71, 'NC': 72, 'O': 73, 'OA': 74, 'OB': 75, 'OC': 76, 'OD': 77, 'OE': 78, 'P': 79, 'PA': 80, 'PC': 81, 'PD': 82, 'PE': 83, 'Q': 84, 'QC': 85, 'QD': 86, 'R': 87, 'RA': 88, 'RB': 89, 'RC': 90, 'RD': 91, 'S': 92, 'SA': 93, 'SC': 94, 'SD': 95, 'T': 96, 'TB': 97, 'TD': 98, 'U': 99, 'UA': 100, 'UB': 101, 'UC': 102, 'VA': 103, 'VB': 104, 'VC': 105, 'VD': 106, 'W': 107, 'WD': 108, 'X': 109, 'XA': 110, 'XB': 111, 'XC': 112, 'XD': 113, 'Y': 114, 'YA': 115, 'YC': 116, 'YD': 117, 'Z': 118, 'ZA': 119, 'ZB': 120, 'ZC': 121, nan: 122}), ('Hypoxie', 5, {'EOS': 1, 'False': 2, 'True': 3, nan: 4}), ('DiagnosticUrinarySediment', 5, {'EOS': 1, 'False': 2, 'True': 3, nan: 4}), ('DiagnosticECG', 5, {'EOS': 1, 'False': 2, 'True': 3, nan: 4})], [('case_elapsed_time', 1, {}), ('event_elapsed_time', 1, {}), ('day_in_week', 1, {}), ('seconds_in_day', 1, {}), ('Age', 1, {}), ('Leucocytes', 1, {}), ('CRP', 1, {}), ('LacticAcid', 1, {})])\n",
      "Encoder input features:  [['concept:name', 'InfectionSuspected', 'org:group', 'DiagnosticBlood', 'DisfuncOrg', 'SIRSCritTachypnea', 'Hypotensie', 'SIRSCritHeartRate', 'Infusion', 'DiagnosticArtAstrup', 'DiagnosticIC', 'DiagnosticSputum', 'DiagnosticLiquor', 'DiagnosticOther', 'SIRSCriteria2OrMore', 'DiagnosticXthorax', 'SIRSCritTemperature', 'DiagnosticUrinaryCulture', 'SIRSCritLeucos', 'Oligurie', 'DiagnosticLacticAcid', 'lifecycle:transition', 'Diagnose', 'Hypoxie', 'DiagnosticUrinarySediment', 'DiagnosticECG'], ['case_elapsed_time', 'event_elapsed_time', 'day_in_week', 'seconds_in_day', 'Age', 'Leucocytes', 'CRP', 'LacticAcid']]\n",
      "Decoder input+output features:  [['concept:name', 'org:group', 'lifecycle:transition'], ['case_elapsed_time', 'event_elapsed_time']]\n",
      "\n",
      "\n",
      "Sequence length of decoder output:  4\n",
      "\n",
      "\n",
      "Cells hidden size:  128\n",
      "Number of LSTM layer:  4\n",
      "Dropout rate:  0.1\n",
      "\n",
      "\n",
      "Encoder number of labels for each input feature (categorical, numerical):  [[18, 5, 27, 5, 5, 5, 5, 5, 5, 5, 5, 5, 5, 5, 5, 5, 5, 5, 5, 5, 5, 3, 123, 5, 5, 5], [1, 1, 1, 1, 1, 1, 1, 1]]\n",
      "Encoder indices of tensors in dataset used as input:  [[0, 1, 2, 3, 4, 5, 6, 7, 8, 9, 10, 11, 12, 13, 14, 15, 16, 17, 18, 19, 20, 21, 22, 23, 24, 25], [0, 1, 2, 3, 4, 5, 6, 7]]\n",
      "Embeddings encoder:  ModuleList(\n",
      "  (0): Embedding(18, 8)\n",
      "  (1): Embedding(5, 4)\n",
      "  (2): Embedding(27, 10)\n",
      "  (3-20): 18 x Embedding(5, 4)\n",
      "  (21): Embedding(3, 3)\n",
      "  (22): Embedding(123, 24)\n",
      "  (23-25): 3 x Embedding(5, 4)\n",
      ")\n",
      "Total embedding feature size encoder:  133\n",
      "Total numerical feature size encoder:  8\n",
      "Input feature size encoder:  141\n",
      "Encoder initialized! \n",
      "\n",
      "Decoder label values size for each categorical input feature:  [18, 27, 3]\n",
      "Decoder label values size for each numerical input feature:  [1, 1]\n",
      "Decoder indices of tensors in dataset used as input:  [[0, 2, 21], [0, 1]]\n",
      "Embeddings decoder:  ModuleList(\n",
      "  (0): Embedding(18, 8)\n",
      "  (1): Embedding(27, 10)\n",
      "  (2): Embedding(3, 3)\n",
      ")\n",
      "Total embedding feature size decoder:  21\n",
      "Total numerical feature size decoder:  2\n",
      "Input feature size decoder:  23\n",
      "Output feature list of dicts (featue name, feature output size) of decoder:  [{'concept:name': 18, 'org:group': 27, 'lifecycle:transition': 3}, {'case_elapsed_time': 1, 'event_elapsed_time': 1}]\n",
      "Decoder initialized! \n",
      "\n",
      "Output feature list of dicts (featue name, tensor index in dataset) of decoder:  [{'concept:name': 0, 'org:group': 2, 'lifecycle:transition': 21}, {'case_elapsed_time': 0, 'event_elapsed_time': 1}]\n"
     ]
    }
   ],
   "source": [
    "import model.dropout_uncertainty_enc_dec_LSTM.dropout_uncertainty_model\n",
    "importlib.reload(model.dropout_uncertainty_enc_dec_LSTM.dropout_uncertainty_model)\n",
    "from model.dropout_uncertainty_enc_dec_LSTM.dropout_uncertainty_model import DropoutUncertaintyEncoderDecoderLSTM\n",
    "\n",
    "# Prediction decoder output sequence length\n",
    "seq_len_pred = 4\n",
    "\n",
    "# Size hidden layer\n",
    "hidden_size = 128\n",
    "\n",
    "# Number of cells\n",
    "num_layers = 4\n",
    "\n",
    "# Fixed Dropout probability \n",
    "dropout = 0.1\n",
    "\n",
    "# Encoder Decoder model initialization\n",
    "model = DropoutUncertaintyEncoderDecoderLSTM(data_set_categories=sepsis_all_categories,\n",
    "                                             enc_feat=enc_feat,\n",
    "                                             dec_feat=dec_feat,\n",
    "                                             seq_len_pred=seq_len_pred,\n",
    "                                             hidden_size=hidden_size,\n",
    "                                             num_layers=num_layers,\n",
    "                                             dropout=dropout)"
   ]
  },
  {
   "cell_type": "markdown",
   "metadata": {},
   "source": [
    "# Loss Object Creation"
   ]
  },
  {
   "cell_type": "code",
   "execution_count": 6,
   "metadata": {
    "execution": {
     "iopub.execute_input": "2025-05-06T13:15:06.603278Z",
     "iopub.status.busy": "2025-05-06T13:15:06.603055Z",
     "iopub.status.idle": "2025-05-06T13:15:06.606858Z",
     "shell.execute_reply": "2025-05-06T13:15:06.606409Z"
    }
   },
   "outputs": [],
   "source": [
    "import loss.losses\n",
    "importlib.reload(loss.losses)\n",
    "from loss.losses import Loss\n",
    "\n",
    "loss_obj = Loss()\n",
    "\n",
    "# Numerical features trained with log-normal loss:\n",
    "log_normal_loss_num_feature = ['case_elapsed_time', 'event_elapsed_time']"
   ]
  },
  {
   "cell_type": "markdown",
   "metadata": {},
   "source": [
    "# Training Configuration"
   ]
  },
  {
   "cell_type": "code",
   "execution_count": null,
   "metadata": {
    "execution": {
     "iopub.execute_input": "2025-05-06T13:15:06.608175Z",
     "iopub.status.busy": "2025-05-06T13:15:06.607972Z",
     "iopub.status.idle": "2025-05-06T18:17:16.629541Z",
     "shell.execute_reply": "2025-05-06T18:17:16.629209Z"
    }
   },
   "outputs": [
    {
     "name": "stdout",
     "output_type": "stream",
     "text": [
      "Device:  cuda\n",
      "Model:  DropoutUncertaintyEncoderDecoderLSTM(\n",
      "  (embeddings_enc): ModuleList(\n",
      "    (0): Embedding(18, 8)\n",
      "    (1): Embedding(5, 4)\n",
      "    (2): Embedding(27, 10)\n",
      "    (3-20): 18 x Embedding(5, 4)\n",
      "    (21): Embedding(3, 3)\n",
      "    (22): Embedding(123, 24)\n",
      "    (23-25): 3 x Embedding(5, 4)\n",
      "  )\n",
      "  (encoder): DropoutUncertaintyLSTMEncoder(\n",
      "    (embeddings): ModuleList(\n",
      "      (0): Embedding(18, 8)\n",
      "      (1): Embedding(5, 4)\n",
      "      (2): Embedding(27, 10)\n",
      "      (3-20): 18 x Embedding(5, 4)\n",
      "      (21): Embedding(3, 3)\n",
      "      (22): Embedding(123, 24)\n",
      "      (23-25): 3 x Embedding(5, 4)\n",
      "    )\n",
      "    (first_layer): DropoutUncertaintyLSTMCell(\n",
      "      (Wi): Linear(in_features=141, out_features=128, bias=True)\n",
      "      (Ui): Linear(in_features=128, out_features=128, bias=True)\n",
      "      (Wf): Linear(in_features=141, out_features=128, bias=True)\n",
      "      (Uf): Linear(in_features=128, out_features=128, bias=True)\n",
      "      (Wc): Linear(in_features=141, out_features=128, bias=True)\n",
      "      (Uc): Linear(in_features=128, out_features=128, bias=True)\n",
      "      (Wo): Linear(in_features=141, out_features=128, bias=True)\n",
      "      (Uo): Linear(in_features=128, out_features=128, bias=True)\n",
      "    )\n",
      "    (hidden_layers): ModuleList(\n",
      "      (0-2): 3 x DropoutUncertaintyLSTMCell(\n",
      "        (Wi): Linear(in_features=128, out_features=128, bias=True)\n",
      "        (Ui): Linear(in_features=128, out_features=128, bias=True)\n",
      "        (Wf): Linear(in_features=128, out_features=128, bias=True)\n",
      "        (Uf): Linear(in_features=128, out_features=128, bias=True)\n",
      "        (Wc): Linear(in_features=128, out_features=128, bias=True)\n",
      "        (Uc): Linear(in_features=128, out_features=128, bias=True)\n",
      "        (Wo): Linear(in_features=128, out_features=128, bias=True)\n",
      "        (Uo): Linear(in_features=128, out_features=128, bias=True)\n",
      "      )\n",
      "    )\n",
      "  )\n",
      "  (embeddings_dec): ModuleList(\n",
      "    (0): Embedding(18, 8)\n",
      "    (1): Embedding(27, 10)\n",
      "    (2): Embedding(3, 3)\n",
      "  )\n",
      "  (decoder): DropoutUncertaintyLSTMDecoder(\n",
      "    (embeddings): ModuleList(\n",
      "      (0): Embedding(18, 8)\n",
      "      (1): Embedding(27, 10)\n",
      "      (2): Embedding(3, 3)\n",
      "    )\n",
      "    (first_layer): DropoutUncertaintyLSTMCell(\n",
      "      (Wi): Linear(in_features=23, out_features=128, bias=True)\n",
      "      (Ui): Linear(in_features=128, out_features=128, bias=True)\n",
      "      (Wf): Linear(in_features=23, out_features=128, bias=True)\n",
      "      (Uf): Linear(in_features=128, out_features=128, bias=True)\n",
      "      (Wc): Linear(in_features=23, out_features=128, bias=True)\n",
      "      (Uc): Linear(in_features=128, out_features=128, bias=True)\n",
      "      (Wo): Linear(in_features=23, out_features=128, bias=True)\n",
      "      (Uo): Linear(in_features=128, out_features=128, bias=True)\n",
      "    )\n",
      "    (hidden_layers): ModuleList(\n",
      "      (0-2): 3 x DropoutUncertaintyLSTMCell(\n",
      "        (Wi): Linear(in_features=128, out_features=128, bias=True)\n",
      "        (Ui): Linear(in_features=128, out_features=128, bias=True)\n",
      "        (Wf): Linear(in_features=128, out_features=128, bias=True)\n",
      "        (Uf): Linear(in_features=128, out_features=128, bias=True)\n",
      "        (Wc): Linear(in_features=128, out_features=128, bias=True)\n",
      "        (Uc): Linear(in_features=128, out_features=128, bias=True)\n",
      "        (Wo): Linear(in_features=128, out_features=128, bias=True)\n",
      "        (Uo): Linear(in_features=128, out_features=128, bias=True)\n",
      "      )\n",
      "    )\n",
      "    (output_layers): ModuleDict(\n",
      "      (concept:name_mean): Linear(in_features=128, out_features=18, bias=True)\n",
      "      (concept:name_var): Linear(in_features=128, out_features=18, bias=True)\n",
      "      (org:group_mean): Linear(in_features=128, out_features=27, bias=True)\n",
      "      (org:group_var): Linear(in_features=128, out_features=27, bias=True)\n",
      "      (lifecycle:transition_mean): Linear(in_features=128, out_features=3, bias=True)\n",
      "      (lifecycle:transition_var): Linear(in_features=128, out_features=3, bias=True)\n",
      "      (case_elapsed_time_mean): Linear(in_features=128, out_features=1, bias=True)\n",
      "      (case_elapsed_time_var): Linear(in_features=128, out_features=1, bias=True)\n",
      "      (event_elapsed_time_mean): Linear(in_features=128, out_features=1, bias=True)\n",
      "      (event_elapsed_time_var): Linear(in_features=128, out_features=1, bias=True)\n",
      "    )\n",
      "  )\n",
      ")\n",
      "Train Dataset:  <event_log_loader.new_event_log_loader.EventLogDataset object at 0x7f2311bfc980>\n",
      "Validation Dataset:  <event_log_loader.new_event_log_loader.EventLogDataset object at 0x7f2311ab8f50>\n",
      "Loss object for method calling:  <loss.losses.Loss object at 0x7f2311ad9400>\n",
      "Num. feautures that follow log-normal PDF:  ['case_elapsed_time', 'event_elapsed_time']\n",
      "regularization:  0.0001\n",
      "Optimizer:  AdamW (\n",
      "Parameter Group 0\n",
      "    amsgrad: False\n",
      "    betas: (0.9, 0.999)\n",
      "    capturable: False\n",
      "    differentiable: False\n",
      "    eps: 1e-08\n",
      "    foreach: None\n",
      "    fused: None\n",
      "    lr: 1e-05\n",
      "    maximize: False\n",
      "    weight_decay: 0\n",
      ")\n",
      "Scheduler:  <torch.optim.lr_scheduler.ReduceLROnPlateau object at 0x7f23018d6270>\n",
      "Epochs:  100\n",
      "Mini baches:  128\n",
      "Shuffle batched dataset:  True\n",
      "Teacher forcing ratio:  0.8\n",
      "Use GradNorm:  True\n",
      "GradNorm alpha:  1.5\n",
      "GradNorm learning rate:  0.0001\n",
      "Initial GradNorm loss weights:  Parameter containing:\n",
      "tensor([1., 1., 1., 1., 1.], requires_grad=True)\n",
      "Initial loss values:  None\n",
      "GradNorm optimizer:  Adam (\n",
      "Parameter Group 0\n",
      "    amsgrad: False\n",
      "    betas: (0.9, 0.999)\n",
      "    capturable: False\n",
      "    differentiable: False\n",
      "    eps: 1e-08\n",
      "    foreach: None\n",
      "    fused: None\n",
      "    lr: 0.0001\n",
      "    maximize: False\n",
      "    weight_decay: 0\n",
      ")\n"
     ]
    },
    {
     "data": {
      "application/vnd.jupyter.widget-view+json": {
       "model_id": "f517de0d28fe42db958abde9d21aca70",
       "version_major": 2,
       "version_minor": 0
      },
      "text/plain": [
       "  0%|          | 0/100 [00:00<?, ?it/s]"
      ]
     },
     "metadata": {},
     "output_type": "display_data"
    },
    {
     "name": "stdout",
     "output_type": "stream",
     "text": [
      "Epoch [1/100], Learning Rate: 1e-05, Teacher forcing ratio: 0.8\n",
      "Training: Avg Attenuated Training Loss: 9.9850\n"
     ]
    },
    {
     "name": "stdout",
     "output_type": "stream",
     "text": [
      "Validation: Avg Standard Validation Loss: 9.2535\n",
      "Validation: Avg Attenuated Validation Loss: 9.4480\n",
      "Validation Loss for Scheduler: 9.2535\n",
      "saving model\n"
     ]
    },
    {
     "name": "stdout",
     "output_type": "stream",
     "text": [
      "Epoch [2/100], Learning Rate: 1e-05, Teacher forcing ratio: 0.8\n",
      "Training: Avg Attenuated Training Loss: 9.9424\n"
     ]
    },
    {
     "name": "stdout",
     "output_type": "stream",
     "text": [
      "Validation: Avg Standard Validation Loss: 9.2244\n",
      "Validation: Avg Attenuated Validation Loss: 9.4209\n",
      "Validation Loss for Scheduler: 9.2244\n",
      "saving model\n"
     ]
    },
    {
     "name": "stdout",
     "output_type": "stream",
     "text": [
      "Epoch [3/100], Learning Rate: 1e-05, Teacher forcing ratio: 0.8\n",
      "Training: Avg Attenuated Training Loss: 9.8898\n"
     ]
    },
    {
     "name": "stdout",
     "output_type": "stream",
     "text": [
      "Validation: Avg Standard Validation Loss: 9.2939\n",
      "Validation: Avg Attenuated Validation Loss: 9.4253\n",
      "Validation Loss for Scheduler: 9.2939\n",
      "saving model\n"
     ]
    },
    {
     "name": "stdout",
     "output_type": "stream",
     "text": [
      "Epoch [4/100], Learning Rate: 1e-05, Teacher forcing ratio: 0.8\n",
      "Training: Avg Attenuated Training Loss: 9.8257\n"
     ]
    },
    {
     "name": "stdout",
     "output_type": "stream",
     "text": [
      "Validation: Avg Standard Validation Loss: 9.1123\n",
      "Validation: Avg Attenuated Validation Loss: 9.2812\n",
      "Validation Loss for Scheduler: 9.1123\n",
      "saving model\n"
     ]
    },
    {
     "name": "stdout",
     "output_type": "stream",
     "text": [
      "Epoch [5/100], Learning Rate: 1e-05, Teacher forcing ratio: 0.8\n",
      "Training: Avg Attenuated Training Loss: 9.5370\n"
     ]
    },
    {
     "name": "stdout",
     "output_type": "stream",
     "text": [
      "Validation: Avg Standard Validation Loss: 8.7140\n",
      "Validation: Avg Attenuated Validation Loss: 8.7804\n",
      "Validation Loss for Scheduler: 8.7140\n",
      "saving model\n"
     ]
    },
    {
     "name": "stdout",
     "output_type": "stream",
     "text": [
      "Epoch [6/100], Learning Rate: 1e-05, Teacher forcing ratio: 0.8\n",
      "Training: Avg Attenuated Training Loss: 8.7541\n"
     ]
    },
    {
     "name": "stdout",
     "output_type": "stream",
     "text": [
      "Validation: Avg Standard Validation Loss: 7.8754\n",
      "Validation: Avg Attenuated Validation Loss: 7.6978\n",
      "Validation Loss for Scheduler: 7.8754\n",
      "saving model\n"
     ]
    },
    {
     "name": "stdout",
     "output_type": "stream",
     "text": [
      "Epoch [7/100], Learning Rate: 1e-05, Teacher forcing ratio: 0.8\n",
      "Training: Avg Attenuated Training Loss: 7.6541\n"
     ]
    },
    {
     "name": "stdout",
     "output_type": "stream",
     "text": [
      "Validation: Avg Standard Validation Loss: 7.2105\n",
      "Validation: Avg Attenuated Validation Loss: 6.8172\n",
      "Validation Loss for Scheduler: 7.2105\n",
      "saving model\n"
     ]
    },
    {
     "name": "stdout",
     "output_type": "stream",
     "text": [
      "Epoch [8/100], Learning Rate: 1e-05, Teacher forcing ratio: 0.8\n",
      "Training: Avg Attenuated Training Loss: 7.0804\n"
     ]
    },
    {
     "name": "stdout",
     "output_type": "stream",
     "text": [
      "Validation: Avg Standard Validation Loss: 6.9514\n",
      "Validation: Avg Attenuated Validation Loss: 6.4178\n",
      "Validation Loss for Scheduler: 6.9514\n",
      "saving model\n"
     ]
    },
    {
     "name": "stdout",
     "output_type": "stream",
     "text": [
      "Epoch [9/100], Learning Rate: 1e-05, Teacher forcing ratio: 0.8\n",
      "Training: Avg Attenuated Training Loss: 6.7422\n"
     ]
    },
    {
     "name": "stdout",
     "output_type": "stream",
     "text": [
      "Validation: Avg Standard Validation Loss: 6.7305\n",
      "Validation: Avg Attenuated Validation Loss: 6.1321\n",
      "Validation Loss for Scheduler: 6.7305\n",
      "saving model\n"
     ]
    },
    {
     "name": "stdout",
     "output_type": "stream",
     "text": [
      "Epoch [10/100], Learning Rate: 1e-05, Teacher forcing ratio: 0.8\n",
      "Training: Avg Attenuated Training Loss: 6.5252\n"
     ]
    },
    {
     "name": "stdout",
     "output_type": "stream",
     "text": [
      "Validation: Avg Standard Validation Loss: 6.6121\n",
      "Validation: Avg Attenuated Validation Loss: 5.9604\n",
      "Validation Loss for Scheduler: 6.6121\n",
      "saving model\n"
     ]
    },
    {
     "name": "stdout",
     "output_type": "stream",
     "text": [
      "Epoch [11/100], Learning Rate: 1e-05, Teacher forcing ratio: 0.8\n",
      "Training: Avg Attenuated Training Loss: 6.3743\n"
     ]
    },
    {
     "name": "stdout",
     "output_type": "stream",
     "text": [
      "Validation: Avg Standard Validation Loss: 6.5548\n",
      "Validation: Avg Attenuated Validation Loss: 5.8471\n",
      "Validation Loss for Scheduler: 6.5548\n",
      "saving model\n"
     ]
    },
    {
     "name": "stdout",
     "output_type": "stream",
     "text": [
      "Epoch [12/100], Learning Rate: 1e-05, Teacher forcing ratio: 0.8\n",
      "Training: Avg Attenuated Training Loss: 6.2737\n"
     ]
    },
    {
     "name": "stdout",
     "output_type": "stream",
     "text": [
      "Validation: Avg Standard Validation Loss: 6.5192\n",
      "Validation: Avg Attenuated Validation Loss: 5.7710\n",
      "Validation Loss for Scheduler: 6.5192\n",
      "saving model\n"
     ]
    },
    {
     "name": "stdout",
     "output_type": "stream",
     "text": [
      "Epoch [13/100], Learning Rate: 1e-05, Teacher forcing ratio: 0.8\n",
      "Training: Avg Attenuated Training Loss: 6.1654\n"
     ]
    },
    {
     "name": "stdout",
     "output_type": "stream",
     "text": [
      "Validation: Avg Standard Validation Loss: 6.4828\n",
      "Validation: Avg Attenuated Validation Loss: 5.7055\n",
      "Validation Loss for Scheduler: 6.4828\n",
      "saving model\n"
     ]
    },
    {
     "name": "stdout",
     "output_type": "stream",
     "text": [
      "Epoch [14/100], Learning Rate: 1e-05, Teacher forcing ratio: 0.8\n",
      "Training: Avg Attenuated Training Loss: 6.1232\n"
     ]
    },
    {
     "name": "stdout",
     "output_type": "stream",
     "text": [
      "Validation: Avg Standard Validation Loss: 6.4625\n",
      "Validation: Avg Attenuated Validation Loss: 5.6582\n",
      "Validation Loss for Scheduler: 6.4625\n",
      "saving model\n"
     ]
    },
    {
     "name": "stdout",
     "output_type": "stream",
     "text": [
      "Epoch [15/100], Learning Rate: 1e-05, Teacher forcing ratio: 0.8\n",
      "Training: Avg Attenuated Training Loss: 6.0439\n"
     ]
    },
    {
     "name": "stdout",
     "output_type": "stream",
     "text": [
      "Validation: Avg Standard Validation Loss: 6.4248\n",
      "Validation: Avg Attenuated Validation Loss: 5.6199\n",
      "Validation Loss for Scheduler: 6.4248\n",
      "saving model\n"
     ]
    },
    {
     "name": "stdout",
     "output_type": "stream",
     "text": [
      "Epoch [16/100], Learning Rate: 1e-05, Teacher forcing ratio: 0.8\n",
      "Training: Avg Attenuated Training Loss: 5.9894\n"
     ]
    },
    {
     "name": "stdout",
     "output_type": "stream",
     "text": [
      "Validation: Avg Standard Validation Loss: 6.4161\n",
      "Validation: Avg Attenuated Validation Loss: 5.5942\n",
      "Validation Loss for Scheduler: 6.4161\n",
      "saving model\n"
     ]
    },
    {
     "name": "stdout",
     "output_type": "stream",
     "text": [
      "Epoch [17/100], Learning Rate: 1e-05, Teacher forcing ratio: 0.8\n",
      "Training: Avg Attenuated Training Loss: 5.9122\n"
     ]
    },
    {
     "name": "stdout",
     "output_type": "stream",
     "text": [
      "Validation: Avg Standard Validation Loss: 6.4352\n",
      "Validation: Avg Attenuated Validation Loss: 5.5840\n",
      "Validation Loss for Scheduler: 6.4352\n",
      "saving model\n"
     ]
    },
    {
     "name": "stdout",
     "output_type": "stream",
     "text": [
      "Epoch [18/100], Learning Rate: 1e-05, Teacher forcing ratio: 0.8\n",
      "Training: Avg Attenuated Training Loss: 5.8639\n"
     ]
    },
    {
     "name": "stdout",
     "output_type": "stream",
     "text": [
      "Validation: Avg Standard Validation Loss: 6.4023\n",
      "Validation: Avg Attenuated Validation Loss: 5.5579\n",
      "Validation Loss for Scheduler: 6.4023\n",
      "saving model\n"
     ]
    },
    {
     "name": "stdout",
     "output_type": "stream",
     "text": [
      "Epoch [19/100], Learning Rate: 1e-05, Teacher forcing ratio: 0.8\n",
      "Training: Avg Attenuated Training Loss: 5.7945\n"
     ]
    },
    {
     "name": "stdout",
     "output_type": "stream",
     "text": [
      "Validation: Avg Standard Validation Loss: 6.4090\n",
      "Validation: Avg Attenuated Validation Loss: 5.5412\n",
      "Validation Loss for Scheduler: 6.4090\n",
      "saving model\n"
     ]
    },
    {
     "name": "stdout",
     "output_type": "stream",
     "text": [
      "Epoch [20/100], Learning Rate: 1e-05, Teacher forcing ratio: 0.8\n",
      "Training: Avg Attenuated Training Loss: 5.6921\n"
     ]
    },
    {
     "name": "stdout",
     "output_type": "stream",
     "text": [
      "Validation: Avg Standard Validation Loss: 6.4065\n",
      "Validation: Avg Attenuated Validation Loss: 5.5338\n",
      "Validation Loss for Scheduler: 6.4065\n",
      "saving model\n"
     ]
    },
    {
     "name": "stdout",
     "output_type": "stream",
     "text": [
      "Epoch [21/100], Learning Rate: 1.0000000000000001e-07, Teacher forcing ratio: 0.768\n",
      "Training: Avg Attenuated Training Loss: 5.6443\n"
     ]
    },
    {
     "name": "stdout",
     "output_type": "stream",
     "text": [
      "Validation: Avg Standard Validation Loss: 6.4400\n",
      "Validation: Avg Attenuated Validation Loss: 5.5379\n",
      "Validation Loss for Scheduler: 6.4400\n",
      "saving model\n"
     ]
    },
    {
     "name": "stdout",
     "output_type": "stream",
     "text": [
      "Epoch [22/100], Learning Rate: 1.0000000000000001e-07, Teacher forcing ratio: 0.768\n",
      "Training: Avg Attenuated Training Loss: 5.6504\n"
     ]
    },
    {
     "name": "stdout",
     "output_type": "stream",
     "text": [
      "Validation: Avg Standard Validation Loss: 6.4764\n",
      "Validation: Avg Attenuated Validation Loss: 5.5923\n",
      "Validation Loss for Scheduler: 6.4764\n",
      "saving model\n"
     ]
    },
    {
     "name": "stdout",
     "output_type": "stream",
     "text": [
      "Epoch [23/100], Learning Rate: 1e-09, Teacher forcing ratio: 0.768\n",
      "Training: Avg Attenuated Training Loss: 5.6188\n"
     ]
    },
    {
     "name": "stdout",
     "output_type": "stream",
     "text": [
      "Validation: Avg Standard Validation Loss: 6.3817\n",
      "Validation: Avg Attenuated Validation Loss: 5.5274\n",
      "Validation Loss for Scheduler: 6.3817\n",
      "saving model\n"
     ]
    },
    {
     "name": "stdout",
     "output_type": "stream",
     "text": [
      "Epoch [24/100], Learning Rate: 1e-09, Teacher forcing ratio: 0.768\n",
      "Training: Avg Attenuated Training Loss: 5.6492\n"
     ]
    },
    {
     "name": "stdout",
     "output_type": "stream",
     "text": [
      "Validation: Avg Standard Validation Loss: 6.4173\n",
      "Validation: Avg Attenuated Validation Loss: 5.5215\n",
      "Validation Loss for Scheduler: 6.4173\n",
      "saving model\n"
     ]
    },
    {
     "name": "stdout",
     "output_type": "stream",
     "text": [
      "Epoch [25/100], Learning Rate: 1e-09, Teacher forcing ratio: 0.768\n",
      "Training: Avg Attenuated Training Loss: 5.6440\n"
     ]
    },
    {
     "name": "stdout",
     "output_type": "stream",
     "text": [
      "Validation: Avg Standard Validation Loss: 6.5029\n",
      "Validation: Avg Attenuated Validation Loss: 5.6172\n",
      "Validation Loss for Scheduler: 6.5029\n",
      "saving model\n"
     ]
    },
    {
     "name": "stdout",
     "output_type": "stream",
     "text": [
      "Epoch [26/100], Learning Rate: 1e-09, Teacher forcing ratio: 0.768\n",
      "Training: Avg Attenuated Training Loss: 5.6954\n"
     ]
    },
    {
     "name": "stdout",
     "output_type": "stream",
     "text": [
      "Validation: Avg Standard Validation Loss: 6.3892\n",
      "Validation: Avg Attenuated Validation Loss: 5.5034\n",
      "Validation Loss for Scheduler: 6.3892\n",
      "saving model\n"
     ]
    },
    {
     "name": "stdout",
     "output_type": "stream",
     "text": [
      "Epoch [27/100], Learning Rate: 1e-09, Teacher forcing ratio: 0.768\n",
      "Training: Avg Attenuated Training Loss: 5.6567\n"
     ]
    },
    {
     "name": "stdout",
     "output_type": "stream",
     "text": [
      "Validation: Avg Standard Validation Loss: 6.4613\n",
      "Validation: Avg Attenuated Validation Loss: 5.5480\n",
      "Validation Loss for Scheduler: 6.4613\n",
      "saving model\n"
     ]
    },
    {
     "name": "stdout",
     "output_type": "stream",
     "text": [
      "Epoch [28/100], Learning Rate: 1e-09, Teacher forcing ratio: 0.768\n",
      "Training: Avg Attenuated Training Loss: 5.6713\n"
     ]
    },
    {
     "name": "stdout",
     "output_type": "stream",
     "text": [
      "Validation: Avg Standard Validation Loss: 6.4574\n",
      "Validation: Avg Attenuated Validation Loss: 5.5633\n",
      "Validation Loss for Scheduler: 6.4574\n",
      "saving model\n"
     ]
    },
    {
     "name": "stdout",
     "output_type": "stream",
     "text": [
      "Epoch [29/100], Learning Rate: 1e-09, Teacher forcing ratio: 0.768\n",
      "Training: Avg Attenuated Training Loss: 5.6666\n"
     ]
    },
    {
     "name": "stdout",
     "output_type": "stream",
     "text": [
      "Validation: Avg Standard Validation Loss: 6.4775\n",
      "Validation: Avg Attenuated Validation Loss: 5.5816\n",
      "Validation Loss for Scheduler: 6.4775\n",
      "saving model\n"
     ]
    },
    {
     "name": "stdout",
     "output_type": "stream",
     "text": [
      "Epoch [30/100], Learning Rate: 1e-09, Teacher forcing ratio: 0.768\n",
      "Training: Avg Attenuated Training Loss: 5.6648\n"
     ]
    },
    {
     "name": "stdout",
     "output_type": "stream",
     "text": [
      "Validation: Avg Standard Validation Loss: 6.3684\n",
      "Validation: Avg Attenuated Validation Loss: 5.5128\n",
      "Validation Loss for Scheduler: 6.3684\n",
      "saving model\n"
     ]
    },
    {
     "name": "stdout",
     "output_type": "stream",
     "text": [
      "Epoch [31/100], Learning Rate: 1e-09, Teacher forcing ratio: 0.768\n",
      "Training: Avg Attenuated Training Loss: 5.6504\n"
     ]
    },
    {
     "name": "stdout",
     "output_type": "stream",
     "text": [
      "Validation: Avg Standard Validation Loss: 6.3681\n",
      "Validation: Avg Attenuated Validation Loss: 5.5020\n",
      "Validation Loss for Scheduler: 6.3681\n",
      "saving model\n"
     ]
    },
    {
     "name": "stdout",
     "output_type": "stream",
     "text": [
      "Epoch [32/100], Learning Rate: 1e-09, Teacher forcing ratio: 0.768\n",
      "Training: Avg Attenuated Training Loss: 5.6296\n"
     ]
    },
    {
     "name": "stdout",
     "output_type": "stream",
     "text": [
      "Validation: Avg Standard Validation Loss: 6.3776\n",
      "Validation: Avg Attenuated Validation Loss: 5.5369\n",
      "Validation Loss for Scheduler: 6.3776\n",
      "saving model\n"
     ]
    },
    {
     "name": "stdout",
     "output_type": "stream",
     "text": [
      "Epoch [33/100], Learning Rate: 1e-09, Teacher forcing ratio: 0.768\n",
      "Training: Avg Attenuated Training Loss: 5.6106\n"
     ]
    },
    {
     "name": "stdout",
     "output_type": "stream",
     "text": [
      "Validation: Avg Standard Validation Loss: 6.3818\n",
      "Validation: Avg Attenuated Validation Loss: 5.5340\n",
      "Validation Loss for Scheduler: 6.3818\n",
      "saving model\n"
     ]
    },
    {
     "name": "stdout",
     "output_type": "stream",
     "text": [
      "Epoch [34/100], Learning Rate: 1e-09, Teacher forcing ratio: 0.768\n",
      "Training: Avg Attenuated Training Loss: 5.6161\n"
     ]
    },
    {
     "name": "stdout",
     "output_type": "stream",
     "text": [
      "Validation: Avg Standard Validation Loss: 6.4037\n",
      "Validation: Avg Attenuated Validation Loss: 5.5388\n",
      "Validation Loss for Scheduler: 6.4037\n",
      "saving model\n"
     ]
    },
    {
     "name": "stdout",
     "output_type": "stream",
     "text": [
      "Epoch [35/100], Learning Rate: 1e-09, Teacher forcing ratio: 0.768\n",
      "Training: Avg Attenuated Training Loss: 5.6023\n"
     ]
    },
    {
     "name": "stdout",
     "output_type": "stream",
     "text": [
      "Validation: Avg Standard Validation Loss: 6.4188\n",
      "Validation: Avg Attenuated Validation Loss: 5.5299\n",
      "Validation Loss for Scheduler: 6.4188\n",
      "saving model\n"
     ]
    },
    {
     "name": "stdout",
     "output_type": "stream",
     "text": [
      "Epoch [36/100], Learning Rate: 1e-09, Teacher forcing ratio: 0.768\n",
      "Training: Avg Attenuated Training Loss: 5.6102\n"
     ]
    },
    {
     "name": "stdout",
     "output_type": "stream",
     "text": [
      "Validation: Avg Standard Validation Loss: 6.5170\n",
      "Validation: Avg Attenuated Validation Loss: 5.5994\n",
      "Validation Loss for Scheduler: 6.5170\n",
      "saving model\n"
     ]
    },
    {
     "name": "stdout",
     "output_type": "stream",
     "text": [
      "Epoch [37/100], Learning Rate: 1e-09, Teacher forcing ratio: 0.768\n",
      "Training: Avg Attenuated Training Loss: 5.6073\n"
     ]
    },
    {
     "name": "stdout",
     "output_type": "stream",
     "text": [
      "Validation: Avg Standard Validation Loss: 6.3701\n",
      "Validation: Avg Attenuated Validation Loss: 5.5074\n",
      "Validation Loss for Scheduler: 6.3701\n",
      "saving model\n"
     ]
    },
    {
     "name": "stdout",
     "output_type": "stream",
     "text": [
      "Epoch [38/100], Learning Rate: 1e-09, Teacher forcing ratio: 0.768\n",
      "Training: Avg Attenuated Training Loss: 5.5903\n"
     ]
    },
    {
     "name": "stdout",
     "output_type": "stream",
     "text": [
      "Validation: Avg Standard Validation Loss: 6.3695\n",
      "Validation: Avg Attenuated Validation Loss: 5.5055\n",
      "Validation Loss for Scheduler: 6.3695\n",
      "saving model\n"
     ]
    },
    {
     "name": "stdout",
     "output_type": "stream",
     "text": [
      "Epoch [39/100], Learning Rate: 1e-09, Teacher forcing ratio: 0.768\n",
      "Training: Avg Attenuated Training Loss: 5.6041\n"
     ]
    },
    {
     "name": "stdout",
     "output_type": "stream",
     "text": [
      "Validation: Avg Standard Validation Loss: 6.3726\n",
      "Validation: Avg Attenuated Validation Loss: 5.5125\n",
      "Validation Loss for Scheduler: 6.3726\n",
      "saving model\n"
     ]
    },
    {
     "name": "stdout",
     "output_type": "stream",
     "text": [
      "Epoch [40/100], Learning Rate: 1e-09, Teacher forcing ratio: 0.768\n",
      "Training: Avg Attenuated Training Loss: 5.6206\n"
     ]
    },
    {
     "name": "stdout",
     "output_type": "stream",
     "text": [
      "Validation: Avg Standard Validation Loss: 6.4088\n",
      "Validation: Avg Attenuated Validation Loss: 5.5340\n",
      "Validation Loss for Scheduler: 6.4088\n",
      "saving model\n"
     ]
    },
    {
     "name": "stdout",
     "output_type": "stream",
     "text": [
      "Epoch [41/100], Learning Rate: 1e-09, Teacher forcing ratio: 0.73728\n",
      "Training: Avg Attenuated Training Loss: 5.6204\n"
     ]
    },
    {
     "name": "stdout",
     "output_type": "stream",
     "text": [
      "Validation: Avg Standard Validation Loss: 6.4340\n",
      "Validation: Avg Attenuated Validation Loss: 5.5642\n",
      "Validation Loss for Scheduler: 6.4340\n",
      "saving model\n"
     ]
    },
    {
     "name": "stdout",
     "output_type": "stream",
     "text": [
      "Epoch [42/100], Learning Rate: 1e-09, Teacher forcing ratio: 0.73728\n",
      "Training: Avg Attenuated Training Loss: 5.5793\n"
     ]
    },
    {
     "name": "stdout",
     "output_type": "stream",
     "text": [
      "Validation: Avg Standard Validation Loss: 6.3839\n",
      "Validation: Avg Attenuated Validation Loss: 5.5333\n",
      "Validation Loss for Scheduler: 6.3839\n",
      "saving model\n"
     ]
    },
    {
     "name": "stdout",
     "output_type": "stream",
     "text": [
      "Epoch [43/100], Learning Rate: 1e-09, Teacher forcing ratio: 0.73728\n",
      "Training: Avg Attenuated Training Loss: 5.6223\n"
     ]
    },
    {
     "name": "stdout",
     "output_type": "stream",
     "text": [
      "Validation: Avg Standard Validation Loss: 6.3908\n",
      "Validation: Avg Attenuated Validation Loss: 5.5428\n",
      "Validation Loss for Scheduler: 6.3908\n",
      "saving model\n"
     ]
    },
    {
     "name": "stdout",
     "output_type": "stream",
     "text": [
      "Epoch [44/100], Learning Rate: 1e-09, Teacher forcing ratio: 0.73728\n",
      "Training: Avg Attenuated Training Loss: 5.6150\n"
     ]
    },
    {
     "name": "stdout",
     "output_type": "stream",
     "text": [
      "Validation: Avg Standard Validation Loss: 6.3749\n",
      "Validation: Avg Attenuated Validation Loss: 5.5022\n",
      "Validation Loss for Scheduler: 6.3749\n",
      "saving model\n"
     ]
    },
    {
     "name": "stdout",
     "output_type": "stream",
     "text": [
      "Epoch [45/100], Learning Rate: 1e-09, Teacher forcing ratio: 0.73728\n",
      "Training: Avg Attenuated Training Loss: 5.5869\n"
     ]
    },
    {
     "name": "stdout",
     "output_type": "stream",
     "text": [
      "Validation: Avg Standard Validation Loss: 6.4047\n",
      "Validation: Avg Attenuated Validation Loss: 5.5335\n",
      "Validation Loss for Scheduler: 6.4047\n",
      "saving model\n"
     ]
    },
    {
     "name": "stdout",
     "output_type": "stream",
     "text": [
      "Epoch [46/100], Learning Rate: 1e-09, Teacher forcing ratio: 0.73728\n",
      "Training: Avg Attenuated Training Loss: 5.6157\n"
     ]
    },
    {
     "name": "stdout",
     "output_type": "stream",
     "text": [
      "Validation: Avg Standard Validation Loss: 6.4162\n",
      "Validation: Avg Attenuated Validation Loss: 5.5345\n",
      "Validation Loss for Scheduler: 6.4162\n",
      "saving model\n"
     ]
    },
    {
     "name": "stdout",
     "output_type": "stream",
     "text": [
      "Epoch [47/100], Learning Rate: 1e-09, Teacher forcing ratio: 0.73728\n",
      "Training: Avg Attenuated Training Loss: 5.5718\n"
     ]
    },
    {
     "name": "stdout",
     "output_type": "stream",
     "text": [
      "Validation: Avg Standard Validation Loss: 6.4271\n",
      "Validation: Avg Attenuated Validation Loss: 5.5679\n",
      "Validation Loss for Scheduler: 6.4271\n",
      "saving model\n"
     ]
    },
    {
     "name": "stdout",
     "output_type": "stream",
     "text": [
      "Epoch [48/100], Learning Rate: 1e-09, Teacher forcing ratio: 0.73728\n",
      "Training: Avg Attenuated Training Loss: 5.5811\n"
     ]
    },
    {
     "name": "stdout",
     "output_type": "stream",
     "text": [
      "Validation: Avg Standard Validation Loss: 6.4935\n",
      "Validation: Avg Attenuated Validation Loss: 5.5756\n",
      "Validation Loss for Scheduler: 6.4935\n",
      "saving model\n"
     ]
    },
    {
     "name": "stdout",
     "output_type": "stream",
     "text": [
      "Epoch [49/100], Learning Rate: 1e-09, Teacher forcing ratio: 0.73728\n",
      "Training: Avg Attenuated Training Loss: 5.5754\n"
     ]
    },
    {
     "name": "stdout",
     "output_type": "stream",
     "text": [
      "Validation: Avg Standard Validation Loss: 6.4149\n",
      "Validation: Avg Attenuated Validation Loss: 5.5559\n",
      "Validation Loss for Scheduler: 6.4149\n",
      "saving model\n"
     ]
    },
    {
     "name": "stdout",
     "output_type": "stream",
     "text": [
      "Epoch [50/100], Learning Rate: 1e-09, Teacher forcing ratio: 0.73728\n",
      "Training: Avg Attenuated Training Loss: 5.6057\n"
     ]
    },
    {
     "name": "stdout",
     "output_type": "stream",
     "text": [
      "Validation: Avg Standard Validation Loss: 6.4068\n",
      "Validation: Avg Attenuated Validation Loss: 5.5639\n",
      "Validation Loss for Scheduler: 6.4068\n",
      "saving model\n"
     ]
    },
    {
     "name": "stdout",
     "output_type": "stream",
     "text": [
      "Epoch [51/100], Learning Rate: 1e-09, Teacher forcing ratio: 0.73728\n",
      "Training: Avg Attenuated Training Loss: 5.5505\n"
     ]
    },
    {
     "name": "stdout",
     "output_type": "stream",
     "text": [
      "Validation: Avg Standard Validation Loss: 6.3945\n",
      "Validation: Avg Attenuated Validation Loss: 5.5260\n",
      "Validation Loss for Scheduler: 6.3945\n",
      "saving model\n"
     ]
    },
    {
     "name": "stdout",
     "output_type": "stream",
     "text": [
      "Epoch [52/100], Learning Rate: 1e-09, Teacher forcing ratio: 0.73728\n",
      "Training: Avg Attenuated Training Loss: 5.6086\n"
     ]
    },
    {
     "name": "stdout",
     "output_type": "stream",
     "text": [
      "Validation: Avg Standard Validation Loss: 6.3621\n",
      "Validation: Avg Attenuated Validation Loss: 5.5025\n",
      "Validation Loss for Scheduler: 6.3621\n",
      "saving model\n"
     ]
    },
    {
     "name": "stdout",
     "output_type": "stream",
     "text": [
      "Epoch [53/100], Learning Rate: 1e-09, Teacher forcing ratio: 0.73728\n",
      "Training: Avg Attenuated Training Loss: 5.6498\n"
     ]
    },
    {
     "name": "stdout",
     "output_type": "stream",
     "text": [
      "Validation: Avg Standard Validation Loss: 6.3772\n",
      "Validation: Avg Attenuated Validation Loss: 5.5154\n",
      "Validation Loss for Scheduler: 6.3772\n",
      "saving model\n"
     ]
    },
    {
     "name": "stdout",
     "output_type": "stream",
     "text": [
      "Epoch [54/100], Learning Rate: 1e-09, Teacher forcing ratio: 0.73728\n",
      "Training: Avg Attenuated Training Loss: 5.5609\n"
     ]
    },
    {
     "name": "stdout",
     "output_type": "stream",
     "text": [
      "Validation: Avg Standard Validation Loss: 6.3780\n",
      "Validation: Avg Attenuated Validation Loss: 5.5153\n",
      "Validation Loss for Scheduler: 6.3780\n",
      "saving model\n"
     ]
    },
    {
     "name": "stdout",
     "output_type": "stream",
     "text": [
      "Epoch [55/100], Learning Rate: 1e-09, Teacher forcing ratio: 0.73728\n",
      "Training: Avg Attenuated Training Loss: 5.6015\n"
     ]
    },
    {
     "name": "stdout",
     "output_type": "stream",
     "text": [
      "Validation: Avg Standard Validation Loss: 6.3996\n",
      "Validation: Avg Attenuated Validation Loss: 5.5352\n",
      "Validation Loss for Scheduler: 6.3996\n",
      "saving model\n"
     ]
    },
    {
     "name": "stdout",
     "output_type": "stream",
     "text": [
      "Epoch [56/100], Learning Rate: 1e-09, Teacher forcing ratio: 0.73728\n",
      "Training: Avg Attenuated Training Loss: 5.5240\n"
     ]
    },
    {
     "name": "stdout",
     "output_type": "stream",
     "text": [
      "Validation: Avg Standard Validation Loss: 6.4047\n",
      "Validation: Avg Attenuated Validation Loss: 5.5474\n",
      "Validation Loss for Scheduler: 6.4047\n",
      "saving model\n"
     ]
    },
    {
     "name": "stdout",
     "output_type": "stream",
     "text": [
      "Epoch [57/100], Learning Rate: 1e-09, Teacher forcing ratio: 0.73728\n",
      "Training: Avg Attenuated Training Loss: 5.5264\n"
     ]
    },
    {
     "name": "stdout",
     "output_type": "stream",
     "text": [
      "Validation: Avg Standard Validation Loss: 6.3869\n",
      "Validation: Avg Attenuated Validation Loss: 5.5296\n",
      "Validation Loss for Scheduler: 6.3869\n",
      "saving model\n"
     ]
    },
    {
     "name": "stdout",
     "output_type": "stream",
     "text": [
      "Epoch [58/100], Learning Rate: 1e-09, Teacher forcing ratio: 0.73728\n",
      "Training: Avg Attenuated Training Loss: 5.5749\n"
     ]
    },
    {
     "name": "stdout",
     "output_type": "stream",
     "text": [
      "Validation: Avg Standard Validation Loss: 6.3756\n",
      "Validation: Avg Attenuated Validation Loss: 5.4986\n",
      "Validation Loss for Scheduler: 6.3756\n",
      "saving model\n"
     ]
    },
    {
     "name": "stdout",
     "output_type": "stream",
     "text": [
      "Epoch [59/100], Learning Rate: 1e-09, Teacher forcing ratio: 0.73728\n",
      "Training: Avg Attenuated Training Loss: 5.5504\n"
     ]
    },
    {
     "name": "stdout",
     "output_type": "stream",
     "text": [
      "Validation: Avg Standard Validation Loss: 6.3687\n",
      "Validation: Avg Attenuated Validation Loss: 5.4760\n",
      "Validation Loss for Scheduler: 6.3687\n",
      "saving model\n"
     ]
    },
    {
     "name": "stdout",
     "output_type": "stream",
     "text": [
      "Epoch [60/100], Learning Rate: 1e-09, Teacher forcing ratio: 0.73728\n",
      "Training: Avg Attenuated Training Loss: 5.5530\n"
     ]
    },
    {
     "name": "stdout",
     "output_type": "stream",
     "text": [
      "Validation: Avg Standard Validation Loss: 6.3656\n",
      "Validation: Avg Attenuated Validation Loss: 5.5061\n",
      "Validation Loss for Scheduler: 6.3656\n",
      "saving model\n"
     ]
    },
    {
     "name": "stdout",
     "output_type": "stream",
     "text": [
      "Epoch [61/100], Learning Rate: 1e-09, Teacher forcing ratio: 0.7077888\n",
      "Training: Avg Attenuated Training Loss: 5.5831\n"
     ]
    },
    {
     "name": "stdout",
     "output_type": "stream",
     "text": [
      "Validation: Avg Standard Validation Loss: 6.3781\n",
      "Validation: Avg Attenuated Validation Loss: 5.5099\n",
      "Validation Loss for Scheduler: 6.3781\n",
      "saving model\n"
     ]
    },
    {
     "name": "stdout",
     "output_type": "stream",
     "text": [
      "Epoch [62/100], Learning Rate: 1e-09, Teacher forcing ratio: 0.7077888\n",
      "Training: Avg Attenuated Training Loss: 5.5661\n"
     ]
    },
    {
     "name": "stdout",
     "output_type": "stream",
     "text": [
      "Validation: Avg Standard Validation Loss: 6.3956\n",
      "Validation: Avg Attenuated Validation Loss: 5.5107\n",
      "Validation Loss for Scheduler: 6.3956\n",
      "saving model\n"
     ]
    },
    {
     "name": "stdout",
     "output_type": "stream",
     "text": [
      "Epoch [63/100], Learning Rate: 1e-09, Teacher forcing ratio: 0.7077888\n",
      "Training: Avg Attenuated Training Loss: 5.5612\n"
     ]
    },
    {
     "name": "stdout",
     "output_type": "stream",
     "text": [
      "Validation: Avg Standard Validation Loss: 6.3712\n",
      "Validation: Avg Attenuated Validation Loss: 5.5186\n",
      "Validation Loss for Scheduler: 6.3712\n",
      "saving model\n"
     ]
    },
    {
     "name": "stdout",
     "output_type": "stream",
     "text": [
      "Epoch [64/100], Learning Rate: 1e-09, Teacher forcing ratio: 0.7077888\n",
      "Training: Avg Attenuated Training Loss: 5.5712\n"
     ]
    },
    {
     "name": "stdout",
     "output_type": "stream",
     "text": [
      "Validation: Avg Standard Validation Loss: 6.4123\n",
      "Validation: Avg Attenuated Validation Loss: 5.5530\n",
      "Validation Loss for Scheduler: 6.4123\n",
      "saving model\n"
     ]
    },
    {
     "name": "stdout",
     "output_type": "stream",
     "text": [
      "Epoch [65/100], Learning Rate: 1e-09, Teacher forcing ratio: 0.7077888\n",
      "Training: Avg Attenuated Training Loss: 5.5550\n"
     ]
    },
    {
     "name": "stdout",
     "output_type": "stream",
     "text": [
      "Validation: Avg Standard Validation Loss: 6.4076\n",
      "Validation: Avg Attenuated Validation Loss: 5.5542\n",
      "Validation Loss for Scheduler: 6.4076\n",
      "saving model\n"
     ]
    },
    {
     "name": "stdout",
     "output_type": "stream",
     "text": [
      "Epoch [66/100], Learning Rate: 1e-09, Teacher forcing ratio: 0.7077888\n",
      "Training: Avg Attenuated Training Loss: 5.5377\n"
     ]
    },
    {
     "name": "stdout",
     "output_type": "stream",
     "text": [
      "Validation: Avg Standard Validation Loss: 6.3665\n",
      "Validation: Avg Attenuated Validation Loss: 5.4961\n",
      "Validation Loss for Scheduler: 6.3665\n",
      "saving model\n"
     ]
    },
    {
     "name": "stdout",
     "output_type": "stream",
     "text": [
      "Epoch [67/100], Learning Rate: 1e-09, Teacher forcing ratio: 0.7077888\n",
      "Training: Avg Attenuated Training Loss: 5.5213\n"
     ]
    },
    {
     "name": "stdout",
     "output_type": "stream",
     "text": [
      "Validation: Avg Standard Validation Loss: 6.3945\n",
      "Validation: Avg Attenuated Validation Loss: 5.5283\n",
      "Validation Loss for Scheduler: 6.3945\n",
      "saving model\n"
     ]
    },
    {
     "name": "stdout",
     "output_type": "stream",
     "text": [
      "Epoch [68/100], Learning Rate: 1e-09, Teacher forcing ratio: 0.7077888\n",
      "Training: Avg Attenuated Training Loss: 5.5285\n"
     ]
    },
    {
     "name": "stdout",
     "output_type": "stream",
     "text": [
      "Validation: Avg Standard Validation Loss: 6.3906\n",
      "Validation: Avg Attenuated Validation Loss: 5.5459\n",
      "Validation Loss for Scheduler: 6.3906\n",
      "saving model\n"
     ]
    },
    {
     "name": "stdout",
     "output_type": "stream",
     "text": [
      "Epoch [69/100], Learning Rate: 1e-09, Teacher forcing ratio: 0.7077888\n",
      "Training: Avg Attenuated Training Loss: 5.5070\n"
     ]
    },
    {
     "name": "stdout",
     "output_type": "stream",
     "text": [
      "Validation: Avg Standard Validation Loss: 6.3703\n",
      "Validation: Avg Attenuated Validation Loss: 5.5075\n",
      "Validation Loss for Scheduler: 6.3703\n",
      "saving model\n"
     ]
    },
    {
     "name": "stdout",
     "output_type": "stream",
     "text": [
      "Epoch [70/100], Learning Rate: 1e-09, Teacher forcing ratio: 0.7077888\n",
      "Training: Avg Attenuated Training Loss: 5.5058\n"
     ]
    },
    {
     "name": "stdout",
     "output_type": "stream",
     "text": [
      "Validation: Avg Standard Validation Loss: 6.4784\n",
      "Validation: Avg Attenuated Validation Loss: 5.6026\n",
      "Validation Loss for Scheduler: 6.4784\n",
      "saving model\n"
     ]
    },
    {
     "name": "stdout",
     "output_type": "stream",
     "text": [
      "Epoch [71/100], Learning Rate: 1e-09, Teacher forcing ratio: 0.7077888\n",
      "Training: Avg Attenuated Training Loss: 5.4892\n"
     ]
    },
    {
     "name": "stdout",
     "output_type": "stream",
     "text": [
      "Validation: Avg Standard Validation Loss: 6.4778\n",
      "Validation: Avg Attenuated Validation Loss: 5.5887\n",
      "Validation Loss for Scheduler: 6.4778\n",
      "saving model\n"
     ]
    },
    {
     "name": "stdout",
     "output_type": "stream",
     "text": [
      "Epoch [72/100], Learning Rate: 1e-09, Teacher forcing ratio: 0.7077888\n",
      "Training: Avg Attenuated Training Loss: 5.5019\n"
     ]
    },
    {
     "name": "stdout",
     "output_type": "stream",
     "text": [
      "Validation: Avg Standard Validation Loss: 6.5681\n",
      "Validation: Avg Attenuated Validation Loss: 5.6439\n",
      "Validation Loss for Scheduler: 6.5681\n",
      "saving model\n"
     ]
    },
    {
     "name": "stdout",
     "output_type": "stream",
     "text": [
      "Epoch [73/100], Learning Rate: 1e-09, Teacher forcing ratio: 0.7077888\n",
      "Training: Avg Attenuated Training Loss: 5.4821\n"
     ]
    },
    {
     "name": "stdout",
     "output_type": "stream",
     "text": [
      "Validation: Avg Standard Validation Loss: 6.3865\n",
      "Validation: Avg Attenuated Validation Loss: 5.5170\n",
      "Validation Loss for Scheduler: 6.3865\n",
      "saving model\n"
     ]
    },
    {
     "name": "stdout",
     "output_type": "stream",
     "text": [
      "Epoch [74/100], Learning Rate: 1e-09, Teacher forcing ratio: 0.7077888\n",
      "Training: Avg Attenuated Training Loss: 5.5097\n"
     ]
    },
    {
     "name": "stdout",
     "output_type": "stream",
     "text": [
      "Validation: Avg Standard Validation Loss: 6.3742\n",
      "Validation: Avg Attenuated Validation Loss: 5.5120\n",
      "Validation Loss for Scheduler: 6.3742\n",
      "saving model\n"
     ]
    },
    {
     "name": "stdout",
     "output_type": "stream",
     "text": [
      "Epoch [75/100], Learning Rate: 1e-09, Teacher forcing ratio: 0.7077888\n",
      "Training: Avg Attenuated Training Loss: 5.4951\n"
     ]
    },
    {
     "name": "stdout",
     "output_type": "stream",
     "text": [
      "Validation: Avg Standard Validation Loss: 6.3739\n",
      "Validation: Avg Attenuated Validation Loss: 5.5057\n",
      "Validation Loss for Scheduler: 6.3739\n",
      "saving model\n"
     ]
    },
    {
     "name": "stdout",
     "output_type": "stream",
     "text": [
      "Epoch [76/100], Learning Rate: 1e-09, Teacher forcing ratio: 0.7077888\n",
      "Training: Avg Attenuated Training Loss: 5.4821\n"
     ]
    },
    {
     "name": "stdout",
     "output_type": "stream",
     "text": [
      "Validation: Avg Standard Validation Loss: 6.3972\n",
      "Validation: Avg Attenuated Validation Loss: 5.5188\n",
      "Validation Loss for Scheduler: 6.3972\n",
      "saving model\n"
     ]
    },
    {
     "name": "stdout",
     "output_type": "stream",
     "text": [
      "Epoch [77/100], Learning Rate: 1e-09, Teacher forcing ratio: 0.7077888\n",
      "Training: Avg Attenuated Training Loss: 5.4931\n"
     ]
    },
    {
     "name": "stdout",
     "output_type": "stream",
     "text": [
      "Validation: Avg Standard Validation Loss: 6.4068\n",
      "Validation: Avg Attenuated Validation Loss: 5.5560\n",
      "Validation Loss for Scheduler: 6.4068\n",
      "saving model\n"
     ]
    },
    {
     "name": "stdout",
     "output_type": "stream",
     "text": [
      "Epoch [78/100], Learning Rate: 1e-09, Teacher forcing ratio: 0.7077888\n",
      "Training: Avg Attenuated Training Loss: 5.5120\n"
     ]
    },
    {
     "name": "stdout",
     "output_type": "stream",
     "text": [
      "Validation: Avg Standard Validation Loss: 6.3762\n",
      "Validation: Avg Attenuated Validation Loss: 5.5066\n",
      "Validation Loss for Scheduler: 6.3762\n",
      "saving model\n"
     ]
    },
    {
     "name": "stdout",
     "output_type": "stream",
     "text": [
      "Epoch [79/100], Learning Rate: 1e-09, Teacher forcing ratio: 0.7077888\n",
      "Training: Avg Attenuated Training Loss: 5.4612\n"
     ]
    },
    {
     "name": "stdout",
     "output_type": "stream",
     "text": [
      "Validation: Avg Standard Validation Loss: 6.4779\n",
      "Validation: Avg Attenuated Validation Loss: 5.5526\n",
      "Validation Loss for Scheduler: 6.4779\n",
      "saving model\n"
     ]
    },
    {
     "name": "stdout",
     "output_type": "stream",
     "text": [
      "Epoch [80/100], Learning Rate: 1e-09, Teacher forcing ratio: 0.7077888\n",
      "Training: Avg Attenuated Training Loss: 5.5600\n"
     ]
    },
    {
     "name": "stdout",
     "output_type": "stream",
     "text": [
      "Validation: Avg Standard Validation Loss: 6.4044\n",
      "Validation: Avg Attenuated Validation Loss: 5.5444\n",
      "Validation Loss for Scheduler: 6.4044\n",
      "saving model\n"
     ]
    },
    {
     "name": "stdout",
     "output_type": "stream",
     "text": [
      "Epoch [81/100], Learning Rate: 1e-09, Teacher forcing ratio: 0.679477248\n",
      "Training: Avg Attenuated Training Loss: 5.4979\n"
     ]
    },
    {
     "name": "stdout",
     "output_type": "stream",
     "text": [
      "Validation: Avg Standard Validation Loss: 6.3760\n",
      "Validation: Avg Attenuated Validation Loss: 5.5187\n",
      "Validation Loss for Scheduler: 6.3760\n",
      "saving model\n"
     ]
    },
    {
     "name": "stdout",
     "output_type": "stream",
     "text": [
      "Epoch [82/100], Learning Rate: 1e-09, Teacher forcing ratio: 0.679477248\n",
      "Training: Avg Attenuated Training Loss: 5.4978\n"
     ]
    },
    {
     "name": "stdout",
     "output_type": "stream",
     "text": [
      "Validation: Avg Standard Validation Loss: 6.3915\n",
      "Validation: Avg Attenuated Validation Loss: 5.5149\n",
      "Validation Loss for Scheduler: 6.3915\n",
      "saving model\n"
     ]
    },
    {
     "name": "stdout",
     "output_type": "stream",
     "text": [
      "Epoch [83/100], Learning Rate: 1e-09, Teacher forcing ratio: 0.679477248\n",
      "Training: Avg Attenuated Training Loss: 5.5355\n"
     ]
    },
    {
     "name": "stdout",
     "output_type": "stream",
     "text": [
      "Validation: Avg Standard Validation Loss: 6.4047\n",
      "Validation: Avg Attenuated Validation Loss: 5.5394\n",
      "Validation Loss for Scheduler: 6.4047\n",
      "saving model\n"
     ]
    },
    {
     "name": "stdout",
     "output_type": "stream",
     "text": [
      "Epoch [84/100], Learning Rate: 1e-09, Teacher forcing ratio: 0.679477248\n",
      "Training: Avg Attenuated Training Loss: 5.4558\n"
     ]
    },
    {
     "name": "stdout",
     "output_type": "stream",
     "text": [
      "Validation: Avg Standard Validation Loss: 6.3763\n",
      "Validation: Avg Attenuated Validation Loss: 5.5208\n",
      "Validation Loss for Scheduler: 6.3763\n",
      "saving model\n"
     ]
    },
    {
     "name": "stdout",
     "output_type": "stream",
     "text": [
      "Epoch [85/100], Learning Rate: 1e-09, Teacher forcing ratio: 0.679477248\n",
      "Training: Avg Attenuated Training Loss: 5.4571\n"
     ]
    },
    {
     "name": "stdout",
     "output_type": "stream",
     "text": [
      "Validation: Avg Standard Validation Loss: 6.3713\n",
      "Validation: Avg Attenuated Validation Loss: 5.5202\n",
      "Validation Loss for Scheduler: 6.3713\n",
      "saving model\n"
     ]
    },
    {
     "name": "stdout",
     "output_type": "stream",
     "text": [
      "Epoch [86/100], Learning Rate: 1e-09, Teacher forcing ratio: 0.679477248\n",
      "Training: Avg Attenuated Training Loss: 5.5441\n"
     ]
    },
    {
     "name": "stdout",
     "output_type": "stream",
     "text": [
      "Validation: Avg Standard Validation Loss: 6.3945\n",
      "Validation: Avg Attenuated Validation Loss: 5.5270\n",
      "Validation Loss for Scheduler: 6.3945\n",
      "saving model\n"
     ]
    },
    {
     "name": "stdout",
     "output_type": "stream",
     "text": [
      "Epoch [87/100], Learning Rate: 1e-09, Teacher forcing ratio: 0.679477248\n",
      "Training: Avg Attenuated Training Loss: 5.5021\n"
     ]
    },
    {
     "name": "stdout",
     "output_type": "stream",
     "text": [
      "Validation: Avg Standard Validation Loss: 6.4150\n",
      "Validation: Avg Attenuated Validation Loss: 5.5412\n",
      "Validation Loss for Scheduler: 6.4150\n",
      "saving model\n"
     ]
    },
    {
     "name": "stdout",
     "output_type": "stream",
     "text": [
      "Epoch [88/100], Learning Rate: 1e-09, Teacher forcing ratio: 0.679477248\n",
      "Training: Avg Attenuated Training Loss: 5.5014\n"
     ]
    },
    {
     "name": "stdout",
     "output_type": "stream",
     "text": [
      "Validation: Avg Standard Validation Loss: 6.4048\n",
      "Validation: Avg Attenuated Validation Loss: 5.5163\n",
      "Validation Loss for Scheduler: 6.4048\n",
      "saving model\n"
     ]
    },
    {
     "name": "stdout",
     "output_type": "stream",
     "text": [
      "Epoch [89/100], Learning Rate: 1e-09, Teacher forcing ratio: 0.679477248\n",
      "Training: Avg Attenuated Training Loss: 5.4742\n"
     ]
    },
    {
     "name": "stdout",
     "output_type": "stream",
     "text": [
      "Validation: Avg Standard Validation Loss: 6.3790\n",
      "Validation: Avg Attenuated Validation Loss: 5.5158\n",
      "Validation Loss for Scheduler: 6.3790\n",
      "saving model\n"
     ]
    },
    {
     "name": "stdout",
     "output_type": "stream",
     "text": [
      "Epoch [90/100], Learning Rate: 1e-09, Teacher forcing ratio: 0.679477248\n",
      "Training: Avg Attenuated Training Loss: 5.5196\n"
     ]
    },
    {
     "name": "stdout",
     "output_type": "stream",
     "text": [
      "Validation: Avg Standard Validation Loss: 6.3862\n",
      "Validation: Avg Attenuated Validation Loss: 5.5303\n",
      "Validation Loss for Scheduler: 6.3862\n",
      "saving model\n"
     ]
    },
    {
     "name": "stdout",
     "output_type": "stream",
     "text": [
      "Epoch [91/100], Learning Rate: 1e-09, Teacher forcing ratio: 0.679477248\n",
      "Training: Avg Attenuated Training Loss: 5.4375\n"
     ]
    },
    {
     "name": "stdout",
     "output_type": "stream",
     "text": [
      "Validation: Avg Standard Validation Loss: 6.3684\n",
      "Validation: Avg Attenuated Validation Loss: 5.5030\n",
      "Validation Loss for Scheduler: 6.3684\n",
      "saving model\n"
     ]
    },
    {
     "name": "stdout",
     "output_type": "stream",
     "text": [
      "Epoch [92/100], Learning Rate: 1e-09, Teacher forcing ratio: 0.679477248\n",
      "Training: Avg Attenuated Training Loss: 5.4803\n"
     ]
    },
    {
     "name": "stdout",
     "output_type": "stream",
     "text": [
      "Validation: Avg Standard Validation Loss: 6.3854\n",
      "Validation: Avg Attenuated Validation Loss: 5.5013\n",
      "Validation Loss for Scheduler: 6.3854\n",
      "saving model\n"
     ]
    },
    {
     "name": "stdout",
     "output_type": "stream",
     "text": [
      "Epoch [93/100], Learning Rate: 1e-09, Teacher forcing ratio: 0.679477248\n",
      "Training: Avg Attenuated Training Loss: 5.4351\n"
     ]
    },
    {
     "name": "stdout",
     "output_type": "stream",
     "text": [
      "Validation: Avg Standard Validation Loss: 6.3867\n",
      "Validation: Avg Attenuated Validation Loss: 5.5402\n",
      "Validation Loss for Scheduler: 6.3867\n",
      "saving model\n"
     ]
    },
    {
     "name": "stdout",
     "output_type": "stream",
     "text": [
      "Epoch [94/100], Learning Rate: 1e-09, Teacher forcing ratio: 0.679477248\n",
      "Training: Avg Attenuated Training Loss: 5.5078\n"
     ]
    },
    {
     "name": "stdout",
     "output_type": "stream",
     "text": [
      "Validation: Avg Standard Validation Loss: 6.3863\n",
      "Validation: Avg Attenuated Validation Loss: 5.4875\n",
      "Validation Loss for Scheduler: 6.3863\n",
      "saving model\n"
     ]
    },
    {
     "name": "stdout",
     "output_type": "stream",
     "text": [
      "Epoch [95/100], Learning Rate: 1e-09, Teacher forcing ratio: 0.679477248\n",
      "Training: Avg Attenuated Training Loss: 5.4787\n"
     ]
    },
    {
     "name": "stdout",
     "output_type": "stream",
     "text": [
      "Validation: Avg Standard Validation Loss: 6.3918\n",
      "Validation: Avg Attenuated Validation Loss: 5.5266\n",
      "Validation Loss for Scheduler: 6.3918\n",
      "saving model\n"
     ]
    },
    {
     "name": "stdout",
     "output_type": "stream",
     "text": [
      "Epoch [96/100], Learning Rate: 1e-09, Teacher forcing ratio: 0.679477248\n",
      "Training: Avg Attenuated Training Loss: 5.5461\n"
     ]
    },
    {
     "name": "stdout",
     "output_type": "stream",
     "text": [
      "Validation: Avg Standard Validation Loss: 6.4151\n",
      "Validation: Avg Attenuated Validation Loss: 5.5346\n",
      "Validation Loss for Scheduler: 6.4151\n",
      "saving model\n"
     ]
    },
    {
     "name": "stdout",
     "output_type": "stream",
     "text": [
      "Epoch [97/100], Learning Rate: 1e-09, Teacher forcing ratio: 0.679477248\n",
      "Training: Avg Attenuated Training Loss: 5.4118\n"
     ]
    },
    {
     "name": "stdout",
     "output_type": "stream",
     "text": [
      "Validation: Avg Standard Validation Loss: 6.4053\n",
      "Validation: Avg Attenuated Validation Loss: 5.5243\n",
      "Validation Loss for Scheduler: 6.4053\n",
      "saving model\n"
     ]
    },
    {
     "name": "stdout",
     "output_type": "stream",
     "text": [
      "Epoch [98/100], Learning Rate: 1e-09, Teacher forcing ratio: 0.679477248\n",
      "Training: Avg Attenuated Training Loss: 5.4182\n"
     ]
    },
    {
     "name": "stdout",
     "output_type": "stream",
     "text": [
      "Validation: Avg Standard Validation Loss: 6.3757\n",
      "Validation: Avg Attenuated Validation Loss: 5.5136\n",
      "Validation Loss for Scheduler: 6.3757\n",
      "saving model\n"
     ]
    },
    {
     "name": "stdout",
     "output_type": "stream",
     "text": [
      "Epoch [99/100], Learning Rate: 1e-09, Teacher forcing ratio: 0.679477248\n",
      "Training: Avg Attenuated Training Loss: 5.4160\n"
     ]
    },
    {
     "name": "stdout",
     "output_type": "stream",
     "text": [
      "Validation: Avg Standard Validation Loss: 6.3936\n",
      "Validation: Avg Attenuated Validation Loss: 5.5211\n",
      "Validation Loss for Scheduler: 6.3936\n",
      "saving model\n"
     ]
    },
    {
     "name": "stdout",
     "output_type": "stream",
     "text": [
      "Epoch [100/100], Learning Rate: 1e-09, Teacher forcing ratio: 0.679477248\n",
      "Training: Avg Attenuated Training Loss: 5.4839\n"
     ]
    },
    {
     "name": "stdout",
     "output_type": "stream",
     "text": [
      "Validation: Avg Standard Validation Loss: 6.4145\n",
      "Validation: Avg Attenuated Validation Loss: 5.5316\n",
      "Validation Loss for Scheduler: 6.4145\n",
      "saving model\n",
      "Training complete.\n",
      "Model saved to path: Sepsis_full_grad_norm_new_4layer.pkl\n"
     ]
    }
   ],
   "source": [
    "import trainer.trainer\n",
    "importlib.reload(trainer.trainer)\n",
    "from trainer.trainer import Trainer\n",
    "from torch.optim.lr_scheduler import ReduceLROnPlateau\n",
    "\n",
    "from torch.utils.tensorboard import SummaryWriter\n",
    "\n",
    "writer = SummaryWriter(comment=\"Full_Sepsis_grad\")\n",
    "\n",
    "# device\n",
    "device = torch.device(\"cuda\" if torch.cuda.is_available() else \"cpu\")\n",
    "\n",
    "# Start learning rate\n",
    "learning_rate = 1e-5\n",
    "\n",
    "# Optimizer and Scheduler\n",
    "# optimizer = torch.optim.Adam(params=model.parameters(), lr=learning_rate, weight_decay=0)\n",
    "optimizer = torch.optim.AdamW(model.parameters(), lr=learning_rate, weight_decay=0)\n",
    "scheduler = ReduceLROnPlateau(optimizer, mode='min', factor=0.01, patience=1, min_lr=1e-9)\n",
    "\n",
    "# Epochs\n",
    "num_epochs = 100\n",
    "\n",
    "# Batch size\n",
    "batch_size = 128\n",
    "\n",
    "# lambda for L2 (weight, bias, dropout) regularization: According to formula: 1/2N\n",
    "# regularization_term = 1.0/(2.0*batch_size)\n",
    "regularization_term =  1e-4\n",
    "\n",
    "# shuffle data\n",
    "shuffle = True\n",
    "\n",
    "# Teacher forcing: Smaller 0.5 more predicted events are used for next event prediction.\n",
    "teacher_forcing_ratio = 0.8\n",
    "\n",
    "optimize_values = {\"regularization_term\":regularization_term,\n",
    "                   \"optimizer\":optimizer,\n",
    "                   \"scheduler\": scheduler,\n",
    "                   \"epochs\":num_epochs,\n",
    "                   \"mini_batches\":batch_size,\n",
    "                   \"shuffle\": shuffle,\n",
    "                   \"teacher_forcing_ratio\":teacher_forcing_ratio,}\n",
    "\n",
    "suffix_data_split_value = 4\n",
    "\n",
    "# GradNorm parameter\n",
    "use_gradnorm = True\n",
    "gn_alpha = 1.5\n",
    "gn_learning_rate = 1e-4\n",
    "# gn_learning_rate =  0.025\n",
    "\n",
    "number_tasks = len(dec_feat[0]) + len(dec_feat[1])\n",
    "\n",
    "gradNorm = {\"use_gradnorm\":use_gradnorm,\n",
    "            \"number_tasks\": number_tasks,\n",
    "            \"gn_alpha\":gn_alpha,\n",
    "            \"gn_learning_rate\": gn_learning_rate}\n",
    "\n",
    "trainer = Trainer(device=device,\n",
    "                  model=model,\n",
    "                  data_train=sepsis_train_dataset,\n",
    "                  data_val=sepsis_val_dataset,\n",
    "                  loss_obj=loss_obj,\n",
    "                  log_normal_loss_num_feature=log_normal_loss_num_feature,\n",
    "                  optimize_values=optimize_values,\n",
    "                  suffix_data_split_value=suffix_data_split_value,\n",
    "                  writer=writer,\n",
    "                  gradnorm_values=gradNorm,\n",
    "                  save_model_n_th_epoch = 1,\n",
    "                  saving_path = 'Sepsis_full_grad_norm_new_4layer.pkl')\n",
    "\n",
    "# Train the model:\n",
    "train_attenuated_losses, val_losses, val_attenuated_losses = trainer.train_model()"
   ]
  },
  {
   "cell_type": "markdown",
   "metadata": {},
   "source": [
    "# Training Visualization"
   ]
  },
  {
   "cell_type": "code",
   "execution_count": 8,
   "metadata": {
    "execution": {
     "iopub.execute_input": "2025-05-06T18:17:16.632977Z",
     "iopub.status.busy": "2025-05-06T18:17:16.632652Z",
     "iopub.status.idle": "2025-05-06T18:17:17.100740Z",
     "shell.execute_reply": "2025-05-06T18:17:17.100454Z"
    }
   },
   "outputs": [
    {
     "data": {
      "image/png": "[encoded data removed]",
      "text/plain": [
       "<Figure size 640x480 with 1 Axes>"
      ]
     },
     "metadata": {},
     "output_type": "display_data"
    }
   ],
   "source": [
    "import matplotlib.pyplot as plt\n",
    "\n",
    "# After training is finished, plot the loss curves\n",
    "plt.plot(range(1, num_epochs+1), train_attenuated_losses, label='Training Attenuated Loss', color='blue')\n",
    "plt.plot(range(1, num_epochs+1), val_losses, label='Validation Loss', color='orange')\n",
    "plt.plot(range(1, num_epochs+1), val_attenuated_losses, label='Validation Attenuated Loss', color='green')\n",
    "# Labeling x and y axes\n",
    "plt.xlabel('Epochs', fontsize=12)\n",
    "plt.ylabel('Loss', fontsize=12)\n",
    "# Adding title\n",
    "plt.title('Training and Validation Loss Curve', fontsize=14)\n",
    "# Adding legend\n",
    "plt.legend()\n",
    "# Show the plot\n",
    "plt.show()"
   ]
  }
 ],
 "metadata": {
  "kernelspec": {
   "display_name": "PrimePPM-tDGhFIeG",
   "language": "python",
   "name": "python3"
  },
  "language_info": {
   "codemirror_mode": {
    "name": "ipython",
    "version": 3
   },
   "file_extension": ".py",
   "mimetype": "text/x-python",
   "name": "python",
   "nbconvert_exporter": "python",
   "pygments_lexer": "ipython3",
   "version": "3.13.1"
  },
  "widgets": {
   "application/vnd.jupyter.widget-state+json": {
    "state": {
     "027fec5567d54f288241893b8f368518": {
      "model_module": "@jupyter-widgets/controls",
      "model_module_version": "2.0.0",
      "model_name": "FloatProgressModel",
      "state": {
       "_dom_classes": [],
       "_model_module": "@jupyter-widgets/controls",
       "_model_module_version": "2.0.0",
       "_model_name": "FloatProgressModel",
       "_view_count": null,
       "_view_module": "@jupyter-widgets/controls",
       "_view_module_version": "2.0.0",
       "_view_name": "ProgressView",
       "bar_style": "success",
       "description": "",
       "description_allow_html": false,
       "layout": "IPY_MODEL_2ba7390d5bd349fdbcd5ca36776c4a55",
       "max": 100,
       "min": 0,
       "orientation": "horizontal",
       "style": "IPY_MODEL_d6610d946c0c492cb258865267caf56a",
       "tabbable": null,
       "tooltip": null,
       "value": 100
      }
     },
     "2ba7390d5bd349fdbcd5ca36776c4a55": {
      "model_module": "@jupyter-widgets/base",
      "model_module_version": "2.0.0",
      "model_name": "LayoutModel",
      "state": {
       "_model_module": "@jupyter-widgets/base",
       "_model_module_version": "2.0.0",
       "_model_name": "LayoutModel",
       "_view_count": null,
       "_view_module": "@jupyter-widgets/base",
       "_view_module_version": "2.0.0",
       "_view_name": "LayoutView",
       "align_content": null,
       "align_items": null,
       "align_self": null,
       "border_bottom": null,
       "border_left": null,
       "border_right": null,
       "border_top": null,
       "bottom": null,
       "display": null,
       "flex": null,
       "flex_flow": null,
       "grid_area": null,
       "grid_auto_columns": null,
       "grid_auto_flow": null,
       "grid_auto_rows": null,
       "grid_column": null,
       "grid_gap": null,
       "grid_row": null,
       "grid_template_areas": null,
       "grid_template_columns": null,
       "grid_template_rows": null,
       "height": null,
       "justify_content": null,
       "justify_items": null,
       "left": null,
       "margin": null,
       "max_height": null,
       "max_width": null,
       "min_height": null,
       "min_width": null,
       "object_fit": null,
       "object_position": null,
       "order": null,
       "overflow": null,
       "padding": null,
       "right": null,
       "top": null,
       "visibility": null,
       "width": null
      }
     },
     "3ff82b5dd48d40f68645b2a07e312131": {
      "model_module": "@jupyter-widgets/base",
      "model_module_version": "2.0.0",
      "model_name": "LayoutModel",
      "state": {
       "_model_module": "@jupyter-widgets/base",
       "_model_module_version": "2.0.0",
       "_model_name": "LayoutModel",
       "_view_count": null,
       "_view_module": "@jupyter-widgets/base",
       "_view_module_version": "2.0.0",
       "_view_name": "LayoutView",
       "align_content": null,
       "align_items": null,
       "align_self": null,
       "border_bottom": null,
       "border_left": null,
       "border_right": null,
       "border_top": null,
       "bottom": null,
       "display": null,
       "flex": null,
       "flex_flow": null,
       "grid_area": null,
       "grid_auto_columns": null,
       "grid_auto_flow": null,
       "grid_auto_rows": null,
       "grid_column": null,
       "grid_gap": null,
       "grid_row": null,
       "grid_template_areas": null,
       "grid_template_columns": null,
       "grid_template_rows": null,
       "height": null,
       "justify_content": null,
       "justify_items": null,
       "left": null,
       "margin": null,
       "max_height": null,
       "max_width": null,
       "min_height": null,
       "min_width": null,
       "object_fit": null,
       "object_position": null,
       "order": null,
       "overflow": null,
       "padding": null,
       "right": null,
       "top": null,
       "visibility": null,
       "width": null
      }
     },
     "58e204d188b34260b8a70902e6daae5e": {
      "model_module": "@jupyter-widgets/controls",
      "model_module_version": "2.0.0",
      "model_name": "HTMLModel",
      "state": {
       "_dom_classes": [],
       "_model_module": "@jupyter-widgets/controls",
       "_model_module_version": "2.0.0",
       "_model_name": "HTMLModel",
       "_view_count": null,
       "_view_module": "@jupyter-widgets/controls",
       "_view_module_version": "2.0.0",
       "_view_name": "HTMLView",
       "description": "",
       "description_allow_html": false,
       "layout": "IPY_MODEL_3ff82b5dd48d40f68645b2a07e312131",
       "placeholder": "​",
       "style": "IPY_MODEL_e3b73cb84dcb45bbbab04cd482d8f377",
       "tabbable": null,
       "tooltip": null,
       "value": " 100/100 [5:02:08&lt;00:00, 207.94s/it]"
      }
     },
     "6b786179fc3d49da80b2cd7d960e3fd0": {
      "model_module": "@jupyter-widgets/base",
      "model_module_version": "2.0.0",
      "model_name": "LayoutModel",
      "state": {
       "_model_module": "@jupyter-widgets/base",
       "_model_module_version": "2.0.0",
       "_model_name": "LayoutModel",
       "_view_count": null,
       "_view_module": "@jupyter-widgets/base",
       "_view_module_version": "2.0.0",
       "_view_name": "LayoutView",
       "align_content": null,
       "align_items": null,
       "align_self": null,
       "border_bottom": null,
       "border_left": null,
       "border_right": null,
       "border_top": null,
       "bottom": null,
       "display": null,
       "flex": null,
       "flex_flow": null,
       "grid_area": null,
       "grid_auto_columns": null,
       "grid_auto_flow": null,
       "grid_auto_rows": null,
       "grid_column": null,
       "grid_gap": null,
       "grid_row": null,
       "grid_template_areas": null,
       "grid_template_columns": null,
       "grid_template_rows": null,
       "height": null,
       "justify_content": null,
       "justify_items": null,
       "left": null,
       "margin": null,
       "max_height": null,
       "max_width": null,
       "min_height": null,
       "min_width": null,
       "object_fit": null,
       "object_position": null,
       "order": null,
       "overflow": null,
       "padding": null,
       "right": null,
       "top": null,
       "visibility": null,
       "width": null
      }
     },
     "6c391d74147042e89edc44aff531ebd6": {
      "model_module": "@jupyter-widgets/base",
      "model_module_version": "2.0.0",
      "model_name": "LayoutModel",
      "state": {
       "_model_module": "@jupyter-widgets/base",
       "_model_module_version": "2.0.0",
       "_model_name": "LayoutModel",
       "_view_count": null,
       "_view_module": "@jupyter-widgets/base",
       "_view_module_version": "2.0.0",
       "_view_name": "LayoutView",
       "align_content": null,
       "align_items": null,
       "align_self": null,
       "border_bottom": null,
       "border_left": null,
       "border_right": null,
       "border_top": null,
       "bottom": null,
       "display": null,
       "flex": null,
       "flex_flow": null,
       "grid_area": null,
       "grid_auto_columns": null,
       "grid_auto_flow": null,
       "grid_auto_rows": null,
       "grid_column": null,
       "grid_gap": null,
       "grid_row": null,
       "grid_template_areas": null,
       "grid_template_columns": null,
       "grid_template_rows": null,
       "height": null,
       "justify_content": null,
       "justify_items": null,
       "left": null,
       "margin": null,
       "max_height": null,
       "max_width": null,
       "min_height": null,
       "min_width": null,
       "object_fit": null,
       "object_position": null,
       "order": null,
       "overflow": null,
       "padding": null,
       "right": null,
       "top": null,
       "visibility": null,
       "width": null
      }
     },
     "7ccb9ad93af944b39203b8101070c575": {
      "model_module": "@jupyter-widgets/controls",
      "model_module_version": "2.0.0",
      "model_name": "HTMLModel",
      "state": {
       "_dom_classes": [],
       "_model_module": "@jupyter-widgets/controls",
       "_model_module_version": "2.0.0",
       "_model_name": "HTMLModel",
       "_view_count": null,
       "_view_module": "@jupyter-widgets/controls",
       "_view_module_version": "2.0.0",
       "_view_name": "HTMLView",
       "description": "",
       "description_allow_html": false,
       "layout": "IPY_MODEL_6b786179fc3d49da80b2cd7d960e3fd0",
       "placeholder": "​",
       "style": "IPY_MODEL_d486d6b31253479a840146493d5f0d25",
       "tabbable": null,
       "tooltip": null,
       "value": "100%"
      }
     },
     "d486d6b31253479a840146493d5f0d25": {
      "model_module": "@jupyter-widgets/controls",
      "model_module_version": "2.0.0",
      "model_name": "HTMLStyleModel",
      "state": {
       "_model_module": "@jupyter-widgets/controls",
       "_model_module_version": "2.0.0",
       "_model_name": "HTMLStyleModel",
       "_view_count": null,
       "_view_module": "@jupyter-widgets/base",
       "_view_module_version": "2.0.0",
       "_view_name": "StyleView",
       "background": null,
       "description_width": "",
       "font_size": null,
       "text_color": null
      }
     },
     "d6610d946c0c492cb258865267caf56a": {
      "model_module": "@jupyter-widgets/controls",
      "model_module_version": "2.0.0",
      "model_name": "ProgressStyleModel",
      "state": {
       "_model_module": "@jupyter-widgets/controls",
       "_model_module_version": "2.0.0",
       "_model_name": "ProgressStyleModel",
       "_view_count": null,
       "_view_module": "@jupyter-widgets/base",
       "_view_module_version": "2.0.0",
       "_view_name": "StyleView",
       "bar_color": null,
       "description_width": ""
      }
     },
     "e3b73cb84dcb45bbbab04cd482d8f377": {
      "model_module": "@jupyter-widgets/controls",
      "model_module_version": "2.0.0",
      "model_name": "HTMLStyleModel",
      "state": {
       "_model_module": "@jupyter-widgets/controls",
       "_model_module_version": "2.0.0",
       "_model_name": "HTMLStyleModel",
       "_view_count": null,
       "_view_module": "@jupyter-widgets/base",
       "_view_module_version": "2.0.0",
       "_view_name": "StyleView",
       "background": null,
       "description_width": "",
       "font_size": null,
       "text_color": null
      }
     },
     "f517de0d28fe42db958abde9d21aca70": {
      "model_module": "@jupyter-widgets/controls",
      "model_module_version": "2.0.0",
      "model_name": "HBoxModel",
      "state": {
       "_dom_classes": [],
       "_model_module": "@jupyter-widgets/controls",
       "_model_module_version": "2.0.0",
       "_model_name": "HBoxModel",
       "_view_count": null,
       "_view_module": "@jupyter-widgets/controls",
       "_view_module_version": "2.0.0",
       "_view_name": "HBoxView",
       "box_style": "",
       "children": [
        "IPY_MODEL_7ccb9ad93af944b39203b8101070c575",
        "IPY_MODEL_027fec5567d54f288241893b8f368518",
        "IPY_MODEL_58e204d188b34260b8a70902e6daae5e"
       ],
       "layout": "IPY_MODEL_6c391d74147042e89edc44aff531ebd6",
       "tabbable": null,
       "tooltip": null
      }
     }
    },
    "version_major": 2,
    "version_minor": 0
   }
  }
 },
 "nbformat": 4,
 "nbformat_minor": 4
}
