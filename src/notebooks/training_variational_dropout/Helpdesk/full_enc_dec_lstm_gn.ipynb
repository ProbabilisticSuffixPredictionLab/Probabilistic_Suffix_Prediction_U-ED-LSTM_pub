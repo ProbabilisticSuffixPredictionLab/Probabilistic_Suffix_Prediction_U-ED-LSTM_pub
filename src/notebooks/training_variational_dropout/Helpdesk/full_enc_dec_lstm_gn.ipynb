{
 "cells": [
  {
   "cell_type": "markdown",
   "metadata": {},
   "source": [
    "# Imports"
   ]
  },
  {
   "cell_type": "code",
   "execution_count": 1,
   "metadata": {
    "execution": {
     "iopub.execute_input": "2025-04-25T08:42:11.872177Z",
     "iopub.status.busy": "2025-04-25T08:42:11.872089Z",
     "iopub.status.idle": "2025-04-25T08:42:12.665133Z",
     "shell.execute_reply": "2025-04-25T08:42:12.664806Z"
    }
   },
   "outputs": [],
   "source": [
    "import importlib\n",
    "import sys\n",
    "import torch\n",
    "\n",
    "sys.path.insert(0, '..')\n",
    "sys.path.insert(0, '../..')\n",
    "sys.path.insert(0, '../../..')"
   ]
  },
  {
   "cell_type": "markdown",
   "metadata": {},
   "source": [
    "# Data"
   ]
  },
  {
   "cell_type": "markdown",
   "metadata": {},
   "source": [
    "### Load Data Files"
   ]
  },
  {
   "cell_type": "code",
   "execution_count": 2,
   "metadata": {
    "execution": {
     "iopub.execute_input": "2025-04-25T08:42:12.666637Z",
     "iopub.status.busy": "2025-04-25T08:42:12.666506Z",
     "iopub.status.idle": "2025-04-25T08:42:13.170208Z",
     "shell.execute_reply": "2025-04-25T08:42:13.169793Z"
    }
   },
   "outputs": [
    {
     "name": "stdout",
     "output_type": "stream",
     "text": [
      "<class 'event_log_loader.new_event_log_loader.EventLogDataset'>\n",
      "<class 'event_log_loader.new_event_log_loader.EventLogDataset'>\n"
     ]
    }
   ],
   "source": [
    "# Path to your pickle file (saved with torch.save)\n",
    "file_path_train = '../../../../encoded_data/helpdesk_all_5_train.pkl'\n",
    "# Load the dataset using torch.load\n",
    "helpdesk_train_dataset = torch.load(file_path_train, weights_only=False)\n",
    "# Check the type of the loaded dataset\n",
    "print(type(helpdesk_train_dataset))  # Should output something like <class 'torch.utils.data.dataset.TensorDataset'>\n",
    "\n",
    "# Path to your pickle file (saved with torch.save)\n",
    "file_path_val = '../../../../encoded_data/helpdesk_all_5_val.pkl'\n",
    "# Load the dataset using torch.load\n",
    "helpdesk_val_dataset = torch.load(file_path_val, weights_only=False)\n",
    "# Check the type of the loaded dataset\n",
    "print(type(helpdesk_val_dataset))  # Should output something like <class 'torch.utils.data.dataset.TensorDataset'>"
   ]
  },
  {
   "cell_type": "markdown",
   "metadata": {},
   "source": [
    "### Train Data Insights"
   ]
  },
  {
   "cell_type": "code",
   "execution_count": 3,
   "metadata": {
    "execution": {
     "iopub.execute_input": "2025-04-25T08:42:13.191720Z",
     "iopub.status.busy": "2025-04-25T08:42:13.191548Z",
     "iopub.status.idle": "2025-04-25T08:42:13.194814Z",
     "shell.execute_reply": "2025-04-25T08:42:13.194483Z"
    }
   },
   "outputs": [
    {
     "name": "stdout",
     "output_type": "stream",
     "text": [
      "[('Activity', 16, {'Assign seriousness': 1, 'Closed': 2, 'Create SW anomaly': 3, 'DUPLICATE': 4, 'EOS': 5, 'INVALID': 6, 'Insert ticket': 7, 'RESOLVED': 8, 'Require upgrade': 9, 'Resolve SW anomaly': 10, 'Resolve ticket': 11, 'Schedule intervention': 12, 'Take in charge ticket': 13, 'VERIFIED': 14, 'Wait': 15}), ('Resource', 24, {'EOS': 1, 'Value 1': 2, 'Value 10': 3, 'Value 11': 4, 'Value 12': 5, 'Value 13': 6, 'Value 14': 7, 'Value 15': 8, 'Value 16': 9, 'Value 17': 10, 'Value 18': 11, 'Value 19': 12, 'Value 2': 13, 'Value 20': 14, 'Value 21': 15, 'Value 22': 16, 'Value 3': 17, 'Value 4': 18, 'Value 5': 19, 'Value 6': 20, 'Value 7': 21, 'Value 8': 22, 'Value 9': 23}), ('VariantIndex', 175, {'1.0': 1, '10.0': 2, '100.0': 3, '103.0': 4, '104.0': 5, '107.0': 6, '109.0': 7, '11.0': 8, '110.0': 9, '112.0': 10, '113.0': 11, '114.0': 12, '115.0': 13, '117.0': 14, '118.0': 15, '12.0': 16, '120.0': 17, '122.0': 18, '123.0': 19, '124.0': 20, '125.0': 21, '126.0': 22, '127.0': 23, '129.0': 24, '13.0': 25, '130.0': 26, '131.0': 27, '134.0': 28, '135.0': 29, '137.0': 30, '138.0': 31, '139.0': 32, '14.0': 33, '140.0': 34, '141.0': 35, '143.0': 36, '145.0': 37, '147.0': 38, '149.0': 39, '15.0': 40, '150.0': 41, '151.0': 42, '152.0': 43, '153.0': 44, '154.0': 45, '155.0': 46, '156.0': 47, '157.0': 48, '158.0': 49, '16.0': 50, '162.0': 51, '163.0': 52, '164.0': 53, '165.0': 54, '167.0': 55, '168.0': 56, '169.0': 57, '17.0': 58, '170.0': 59, '172.0': 60, '173.0': 61, '175.0': 62, '176.0': 63, '179.0': 64, '18.0': 65, '180.0': 66, '181.0': 67, '182.0': 68, '183.0': 69, '188.0': 70, '19.0': 71, '192.0': 72, '193.0': 73, '194.0': 74, '195.0': 75, '197.0': 76, '199.0': 77, '2.0': 78, '20.0': 79, '202.0': 80, '203.0': 81, '204.0': 82, '205.0': 83, '207.0': 84, '208.0': 85, '21.0': 86, '211.0': 87, '212.0': 88, '214.0': 89, '217.0': 90, '22.0': 91, '220.0': 92, '222.0': 93, '225.0': 94, '23.0': 95, '24.0': 96, '25.0': 97, '26.0': 98, '27.0': 99, '28.0': 100, '29.0': 101, '3.0': 102, '30.0': 103, '31.0': 104, '32.0': 105, '33.0': 106, '34.0': 107, '35.0': 108, '36.0': 109, '37.0': 110, '38.0': 111, '39.0': 112, '4.0': 113, '40.0': 114, '41.0': 115, '42.0': 116, '43.0': 117, '44.0': 118, '45.0': 119, '46.0': 120, '47.0': 121, '48.0': 122, '49.0': 123, '5.0': 124, '50.0': 125, '51.0': 126, '52.0': 127, '53.0': 128, '54.0': 129, '55.0': 130, '56.0': 131, '57.0': 132, '58.0': 133, '59.0': 134, '6.0': 135, '60.0': 136, '61.0': 137, '62.0': 138, '63.0': 139, '64.0': 140, '65.0': 141, '66.0': 142, '67.0': 143, '68.0': 144, '69.0': 145, '7.0': 146, '70.0': 147, '71.0': 148, '72.0': 149, '73.0': 150, '74.0': 151, '75.0': 152, '76.0': 153, '77.0': 154, '78.0': 155, '79.0': 156, '8.0': 157, '81.0': 158, '83.0': 159, '84.0': 160, '85.0': 161, '86.0': 162, '87.0': 163, '88.0': 164, '89.0': 165, '9.0': 166, '90.0': 167, '91.0': 168, '93.0': 169, '94.0': 170, '95.0': 171, '97.0': 172, '99.0': 173, nan: 174}), ('seriousness', 3, {'EOS': 1, 'Value 1': 2}), ('customer', 361, {'EOS': 1, 'Value 1': 2, 'Value 10': 3, 'Value 100': 4, 'Value 101': 5, 'Value 102': 6, 'Value 103': 7, 'Value 104': 8, 'Value 105': 9, 'Value 106': 10, 'Value 107': 11, 'Value 108': 12, 'Value 11': 13, 'Value 110': 14, 'Value 111': 15, 'Value 112': 16, 'Value 113': 17, 'Value 114': 18, 'Value 115': 19, 'Value 116': 20, 'Value 117': 21, 'Value 118': 22, 'Value 119': 23, 'Value 12': 24, 'Value 120': 25, 'Value 121': 26, 'Value 122': 27, 'Value 123': 28, 'Value 124': 29, 'Value 125': 30, 'Value 126': 31, 'Value 127': 32, 'Value 129': 33, 'Value 13': 34, 'Value 131': 35, 'Value 132': 36, 'Value 133': 37, 'Value 134': 38, 'Value 135': 39, 'Value 136': 40, 'Value 137': 41, 'Value 138': 42, 'Value 139': 43, 'Value 14': 44, 'Value 140': 45, 'Value 142': 46, 'Value 143': 47, 'Value 144': 48, 'Value 145': 49, 'Value 146': 50, 'Value 147': 51, 'Value 148': 52, 'Value 149': 53, 'Value 15': 54, 'Value 150': 55, 'Value 151': 56, 'Value 152': 57, 'Value 153': 58, 'Value 154': 59, 'Value 155': 60, 'Value 156': 61, 'Value 157': 62, 'Value 158': 63, 'Value 16': 64, 'Value 160': 65, 'Value 161': 66, 'Value 162': 67, 'Value 163': 68, 'Value 164': 69, 'Value 165': 70, 'Value 166': 71, 'Value 167': 72, 'Value 168': 73, 'Value 169': 74, 'Value 17': 75, 'Value 171': 76, 'Value 172': 77, 'Value 173': 78, 'Value 174': 79, 'Value 175': 80, 'Value 176': 81, 'Value 177': 82, 'Value 178': 83, 'Value 179': 84, 'Value 18': 85, 'Value 180': 86, 'Value 181': 87, 'Value 182': 88, 'Value 183': 89, 'Value 184': 90, 'Value 185': 91, 'Value 186': 92, 'Value 187': 93, 'Value 188': 94, 'Value 189': 95, 'Value 19': 96, 'Value 190': 97, 'Value 191': 98, 'Value 192': 99, 'Value 193': 100, 'Value 194': 101, 'Value 195': 102, 'Value 196': 103, 'Value 197': 104, 'Value 198': 105, 'Value 199': 106, 'Value 2': 107, 'Value 20': 108, 'Value 200': 109, 'Value 201': 110, 'Value 202': 111, 'Value 203': 112, 'Value 204': 113, 'Value 205': 114, 'Value 206': 115, 'Value 207': 116, 'Value 208': 117, 'Value 209': 118, 'Value 21': 119, 'Value 210': 120, 'Value 211': 121, 'Value 213': 122, 'Value 214': 123, 'Value 215': 124, 'Value 216': 125, 'Value 217': 126, 'Value 218': 127, 'Value 219': 128, 'Value 22': 129, 'Value 220': 130, 'Value 221': 131, 'Value 222': 132, 'Value 223': 133, 'Value 224': 134, 'Value 225': 135, 'Value 226': 136, 'Value 227': 137, 'Value 228': 138, 'Value 229': 139, 'Value 23': 140, 'Value 230': 141, 'Value 231': 142, 'Value 232': 143, 'Value 233': 144, 'Value 234': 145, 'Value 235': 146, 'Value 236': 147, 'Value 237': 148, 'Value 238': 149, 'Value 239': 150, 'Value 24': 151, 'Value 240': 152, 'Value 241': 153, 'Value 242': 154, 'Value 243': 155, 'Value 244': 156, 'Value 245': 157, 'Value 246': 158, 'Value 247': 159, 'Value 248': 160, 'Value 249': 161, 'Value 25': 162, 'Value 250': 163, 'Value 251': 164, 'Value 252': 165, 'Value 253': 166, 'Value 254': 167, 'Value 255': 168, 'Value 256': 169, 'Value 258': 170, 'Value 259': 171, 'Value 26': 172, 'Value 260': 173, 'Value 261': 174, 'Value 262': 175, 'Value 263': 176, 'Value 264': 177, 'Value 265': 178, 'Value 266': 179, 'Value 267': 180, 'Value 269': 181, 'Value 27': 182, 'Value 271': 183, 'Value 272': 184, 'Value 273': 185, 'Value 274': 186, 'Value 275': 187, 'Value 276': 188, 'Value 277': 189, 'Value 278': 190, 'Value 279': 191, 'Value 28': 192, 'Value 280': 193, 'Value 281': 194, 'Value 282': 195, 'Value 283': 196, 'Value 284': 197, 'Value 285': 198, 'Value 286': 199, 'Value 287': 200, 'Value 288': 201, 'Value 289': 202, 'Value 29': 203, 'Value 292': 204, 'Value 293': 205, 'Value 294': 206, 'Value 296': 207, 'Value 297': 208, 'Value 298': 209, 'Value 299': 210, 'Value 3': 211, 'Value 30': 212, 'Value 300': 213, 'Value 301': 214, 'Value 302': 215, 'Value 303': 216, 'Value 304': 217, 'Value 305': 218, 'Value 306': 219, 'Value 307': 220, 'Value 308': 221, 'Value 309': 222, 'Value 31': 223, 'Value 310': 224, 'Value 311': 225, 'Value 312': 226, 'Value 313': 227, 'Value 314': 228, 'Value 315': 229, 'Value 316': 230, 'Value 317': 231, 'Value 318': 232, 'Value 319': 233, 'Value 32': 234, 'Value 320': 235, 'Value 321': 236, 'Value 322': 237, 'Value 323': 238, 'Value 324': 239, 'Value 325': 240, 'Value 326': 241, 'Value 327': 242, 'Value 328': 243, 'Value 329': 244, 'Value 33': 245, 'Value 331': 246, 'Value 332': 247, 'Value 333': 248, 'Value 334': 249, 'Value 335': 250, 'Value 336': 251, 'Value 337': 252, 'Value 338': 253, 'Value 339': 254, 'Value 34': 255, 'Value 340': 256, 'Value 342': 257, 'Value 343': 258, 'Value 344': 259, 'Value 345': 260, 'Value 346': 261, 'Value 348': 262, 'Value 349': 263, 'Value 35': 264, 'Value 350': 265, 'Value 351': 266, 'Value 352': 267, 'Value 353': 268, 'Value 356': 269, 'Value 357': 270, 'Value 36': 271, 'Value 362': 272, 'Value 363': 273, 'Value 364': 274, 'Value 365': 275, 'Value 366': 276, 'Value 368': 277, 'Value 369': 278, 'Value 37': 279, 'Value 370': 280, 'Value 374': 281, 'Value 375': 282, 'Value 376': 283, 'Value 377': 284, 'Value 379': 285, 'Value 38': 286, 'Value 380': 287, 'Value 383': 288, 'Value 384': 289, 'Value 386': 290, 'Value 388': 291, 'Value 389': 292, 'Value 39': 293, 'Value 390': 294, 'Value 393': 295, 'Value 396': 296, 'Value 4': 297, 'Value 40': 298, 'Value 41': 299, 'Value 42': 300, 'Value 43': 301, 'Value 44': 302, 'Value 45': 303, 'Value 46': 304, 'Value 47': 305, 'Value 48': 306, 'Value 49': 307, 'Value 5': 308, 'Value 50': 309, 'Value 51': 310, 'Value 52': 311, 'Value 53': 312, 'Value 54': 313, 'Value 55': 314, 'Value 56': 315, 'Value 57': 316, 'Value 58': 317, 'Value 59': 318, 'Value 6': 319, 'Value 60': 320, 'Value 61': 321, 'Value 62': 322, 'Value 63': 323, 'Value 64': 324, 'Value 65': 325, 'Value 66': 326, 'Value 67': 327, 'Value 68': 328, 'Value 69': 329, 'Value 7': 330, 'Value 70': 331, 'Value 71': 332, 'Value 72': 333, 'Value 73': 334, 'Value 74': 335, 'Value 75': 336, 'Value 76': 337, 'Value 77': 338, 'Value 78': 339, 'Value 79': 340, 'Value 8': 341, 'Value 80': 342, 'Value 81': 343, 'Value 82': 344, 'Value 83': 345, 'Value 85': 346, 'Value 86': 347, 'Value 87': 348, 'Value 88': 349, 'Value 89': 350, 'Value 9': 351, 'Value 90': 352, 'Value 91': 353, 'Value 92': 354, 'Value 93': 355, 'Value 94': 356, 'Value 96': 357, 'Value 97': 358, 'Value 98': 359, 'Value 99': 360}), ('product', 23, {'EOS': 1, 'Value 1': 2, 'Value 10': 3, 'Value 11': 4, 'Value 12': 5, 'Value 13': 6, 'Value 14': 7, 'Value 15': 8, 'Value 16': 9, 'Value 17': 10, 'Value 18': 11, 'Value 19': 12, 'Value 2': 13, 'Value 20': 14, 'Value 21': 15, 'Value 3': 16, 'Value 4': 17, 'Value 5': 18, 'Value 6': 19, 'Value 7': 20, 'Value 8': 21, 'Value 9': 22}), ('responsible_section', 9, {'EOS': 1, 'Value 1': 2, 'Value 2': 3, 'Value 3': 4, 'Value 4': 5, 'Value 5': 6, 'Value 6': 7, 'Value 7': 8}), ('seriousness_2', 6, {'EOS': 1, 'Value 1': 2, 'Value 2': 3, 'Value 3': 4, 'Value 4': 5}), ('service_level', 6, {'EOS': 1, 'Value 1': 2, 'Value 2': 3, 'Value 3': 4, 'Value 4': 5}), ('service_type', 6, {'EOS': 1, 'Value 1': 2, 'Value 2': 3, 'Value 3': 4, 'Value 4': 5}), ('support_section', 8, {'EOS': 1, 'Value 1': 2, 'Value 2': 3, 'Value 3': 4, 'Value 4': 5, 'Value 5': 6, 'Value 6': 7}), ('workgroup', 6, {'EOS': 1, 'Value 1': 2, 'Value 2': 3, 'Value 3': 4, 'Value 4': 5})]\n",
      "[('case_elapsed_time', 1, {}), ('event_elapsed_time', 1, {}), ('day_in_week', 1, {}), ('seconds_in_day', 1, {})]\n",
      "Helpdesk (5) Categorical feature: Activity, Index position in categorical data list: 0\n",
      "Helpdesk (5) Total Amount of Category labels: 16\n",
      "Helpdesk (5) Categorical feature: Resource, Index position in categorical data list: 1\n",
      "Helpdesk (5) Total Amount of Category labels: 24\n",
      "Helpdesk (5) Categorical feature: VariantIndex, Index position in categorical data list: 2\n",
      "Helpdesk (5) Total Amount of Category labels: 175\n",
      "Helpdesk (5) Categorical feature: seriousness, Index position in categorical data list: 3\n",
      "Helpdesk (5) Total Amount of Category labels: 3\n",
      "Helpdesk (5) Categorical feature: customer, Index position in categorical data list: 4\n",
      "Helpdesk (5) Total Amount of Category labels: 361\n",
      "Helpdesk (5) Categorical feature: product, Index position in categorical data list: 5\n",
      "Helpdesk (5) Total Amount of Category labels: 23\n",
      "Helpdesk (5) Categorical feature: responsible_section, Index position in categorical data list: 6\n",
      "Helpdesk (5) Total Amount of Category labels: 9\n",
      "Helpdesk (5) Categorical feature: seriousness_2, Index position in categorical data list: 7\n",
      "Helpdesk (5) Total Amount of Category labels: 6\n",
      "Helpdesk (5) Categorical feature: service_level, Index position in categorical data list: 8\n",
      "Helpdesk (5) Total Amount of Category labels: 6\n",
      "Helpdesk (5) Categorical feature: service_type, Index position in categorical data list: 9\n",
      "Helpdesk (5) Total Amount of Category labels: 6\n",
      "Helpdesk (5) Categorical feature: support_section, Index position in categorical data list: 10\n",
      "Helpdesk (5) Total Amount of Category labels: 8\n",
      "Helpdesk (5) Categorical feature: workgroup, Index position in categorical data list: 11\n",
      "Helpdesk (5) Total Amount of Category labels: 6\n",
      "\n",
      "\n",
      "Helpdesk (5) Numerical feature: case_elapsed_time, Index position in categorical data list: 0\n",
      "Helpdesk (5) Amount Category Lables: 1\n",
      "Helpdesk (5) Numerical feature: event_elapsed_time, Index position in categorical data list: 1\n",
      "Helpdesk (5) Amount Category Lables: 1\n",
      "Helpdesk (5) Numerical feature: day_in_week, Index position in categorical data list: 2\n",
      "Helpdesk (5) Amount Category Lables: 1\n",
      "Helpdesk (5) Numerical feature: seconds_in_day, Index position in categorical data list: 3\n",
      "Helpdesk (5) Amount Category Lables: 1\n"
     ]
    }
   ],
   "source": [
    "# Helpdesk Dataset Categories, Features:\n",
    "\n",
    "helpdesk_all_categories = helpdesk_train_dataset.all_categories\n",
    "\n",
    "helpdesk_all_categories_cat = helpdesk_all_categories[0]\n",
    "print(helpdesk_all_categories_cat)\n",
    "\n",
    "helpdesk_all_categories_num = helpdesk_all_categories[1]\n",
    "print(helpdesk_all_categories_num)\n",
    "\n",
    "for i, cat in enumerate(helpdesk_all_categories_cat):\n",
    "     print(f\"Helpdesk (5) Categorical feature: {cat[0]}, Index position in categorical data list: {i}\")\n",
    "     print(f\"Helpdesk (5) Total Amount of Category labels: {cat[1]}\")\n",
    "print('\\n')    \n",
    "for i, num in enumerate(helpdesk_all_categories_num):\n",
    "     print(f\"Helpdesk (5) Numerical feature: {num[0]}, Index position in categorical data list: {i}\")\n",
    "     print(f\"Helpdesk (5) Amount Category Lables: {num[1]}\")"
   ]
  },
  {
   "cell_type": "markdown",
   "metadata": {},
   "source": [
    "### Input Features for Encoder and Decoder"
   ]
  },
  {
   "cell_type": "code",
   "execution_count": 4,
   "metadata": {
    "execution": {
     "iopub.execute_input": "2025-04-25T08:42:13.195762Z",
     "iopub.status.busy": "2025-04-25T08:42:13.195613Z",
     "iopub.status.idle": "2025-04-25T08:42:13.198008Z",
     "shell.execute_reply": "2025-04-25T08:42:13.197800Z"
    }
   },
   "outputs": [
    {
     "name": "stdout",
     "output_type": "stream",
     "text": [
      "Input features encoder:  [['Activity', 'Resource', 'VariantIndex', 'seriousness', 'customer', 'product', 'responsible_section', 'seriousness_2', 'service_level', 'service_type', 'support_section', 'workgroup'], ['case_elapsed_time', 'event_elapsed_time', 'day_in_week', 'seconds_in_day']]\n",
      "Features decoder:  [['Activity', 'Resource'], ['case_elapsed_time', 'event_elapsed_time']]\n"
     ]
    }
   ],
   "source": [
    "# Create lists with name of Encoder features (input) and decoder features (input & output)\n",
    "\n",
    "# Encoder features:\n",
    "enc_feat_cat = []\n",
    "enc_feat_num = []\n",
    "for cat in helpdesk_all_categories_cat:\n",
    "    enc_feat_cat.append(cat[0])\n",
    "for num in helpdesk_all_categories_num:\n",
    "    enc_feat_num.append(num[0])\n",
    "enc_feat = [enc_feat_cat, enc_feat_num]\n",
    "print(\"Input features encoder: \", enc_feat)\n",
    "\n",
    "\"\"\"\n",
    "# Decoder features:\n",
    "dec_feat_cat = enc_feat_cat\n",
    "dec_feat_num = enc_feat_num\n",
    "dec_feat = [dec_feat_cat, dec_feat_num]\n",
    "print(\"Features decoder: \", dec_feat)\n",
    "\"\"\"\n",
    "\n",
    "# Decoder features:\n",
    "dec_feat_cat = ['Activity', 'Resource']\n",
    "dec_feat_num = ['case_elapsed_time', 'event_elapsed_time']\n",
    "dec_feat = [dec_feat_cat, dec_feat_num]\n",
    "print(\"Features decoder: \", dec_feat)"
   ]
  },
  {
   "cell_type": "markdown",
   "metadata": {},
   "source": [
    "# Model"
   ]
  },
  {
   "cell_type": "code",
   "execution_count": 5,
   "metadata": {
    "execution": {
     "iopub.execute_input": "2025-04-25T08:42:13.198826Z",
     "iopub.status.busy": "2025-04-25T08:42:13.198746Z",
     "iopub.status.idle": "2025-04-25T08:42:13.212221Z",
     "shell.execute_reply": "2025-04-25T08:42:13.212025Z"
    }
   },
   "outputs": [
    {
     "name": "stdout",
     "output_type": "stream",
     "text": [
      "Data set categories:  ([('Activity', 16, {'Assign seriousness': 1, 'Closed': 2, 'Create SW anomaly': 3, 'DUPLICATE': 4, 'EOS': 5, 'INVALID': 6, 'Insert ticket': 7, 'RESOLVED': 8, 'Require upgrade': 9, 'Resolve SW anomaly': 10, 'Resolve ticket': 11, 'Schedule intervention': 12, 'Take in charge ticket': 13, 'VERIFIED': 14, 'Wait': 15}), ('Resource', 24, {'EOS': 1, 'Value 1': 2, 'Value 10': 3, 'Value 11': 4, 'Value 12': 5, 'Value 13': 6, 'Value 14': 7, 'Value 15': 8, 'Value 16': 9, 'Value 17': 10, 'Value 18': 11, 'Value 19': 12, 'Value 2': 13, 'Value 20': 14, 'Value 21': 15, 'Value 22': 16, 'Value 3': 17, 'Value 4': 18, 'Value 5': 19, 'Value 6': 20, 'Value 7': 21, 'Value 8': 22, 'Value 9': 23}), ('VariantIndex', 175, {'1.0': 1, '10.0': 2, '100.0': 3, '103.0': 4, '104.0': 5, '107.0': 6, '109.0': 7, '11.0': 8, '110.0': 9, '112.0': 10, '113.0': 11, '114.0': 12, '115.0': 13, '117.0': 14, '118.0': 15, '12.0': 16, '120.0': 17, '122.0': 18, '123.0': 19, '124.0': 20, '125.0': 21, '126.0': 22, '127.0': 23, '129.0': 24, '13.0': 25, '130.0': 26, '131.0': 27, '134.0': 28, '135.0': 29, '137.0': 30, '138.0': 31, '139.0': 32, '14.0': 33, '140.0': 34, '141.0': 35, '143.0': 36, '145.0': 37, '147.0': 38, '149.0': 39, '15.0': 40, '150.0': 41, '151.0': 42, '152.0': 43, '153.0': 44, '154.0': 45, '155.0': 46, '156.0': 47, '157.0': 48, '158.0': 49, '16.0': 50, '162.0': 51, '163.0': 52, '164.0': 53, '165.0': 54, '167.0': 55, '168.0': 56, '169.0': 57, '17.0': 58, '170.0': 59, '172.0': 60, '173.0': 61, '175.0': 62, '176.0': 63, '179.0': 64, '18.0': 65, '180.0': 66, '181.0': 67, '182.0': 68, '183.0': 69, '188.0': 70, '19.0': 71, '192.0': 72, '193.0': 73, '194.0': 74, '195.0': 75, '197.0': 76, '199.0': 77, '2.0': 78, '20.0': 79, '202.0': 80, '203.0': 81, '204.0': 82, '205.0': 83, '207.0': 84, '208.0': 85, '21.0': 86, '211.0': 87, '212.0': 88, '214.0': 89, '217.0': 90, '22.0': 91, '220.0': 92, '222.0': 93, '225.0': 94, '23.0': 95, '24.0': 96, '25.0': 97, '26.0': 98, '27.0': 99, '28.0': 100, '29.0': 101, '3.0': 102, '30.0': 103, '31.0': 104, '32.0': 105, '33.0': 106, '34.0': 107, '35.0': 108, '36.0': 109, '37.0': 110, '38.0': 111, '39.0': 112, '4.0': 113, '40.0': 114, '41.0': 115, '42.0': 116, '43.0': 117, '44.0': 118, '45.0': 119, '46.0': 120, '47.0': 121, '48.0': 122, '49.0': 123, '5.0': 124, '50.0': 125, '51.0': 126, '52.0': 127, '53.0': 128, '54.0': 129, '55.0': 130, '56.0': 131, '57.0': 132, '58.0': 133, '59.0': 134, '6.0': 135, '60.0': 136, '61.0': 137, '62.0': 138, '63.0': 139, '64.0': 140, '65.0': 141, '66.0': 142, '67.0': 143, '68.0': 144, '69.0': 145, '7.0': 146, '70.0': 147, '71.0': 148, '72.0': 149, '73.0': 150, '74.0': 151, '75.0': 152, '76.0': 153, '77.0': 154, '78.0': 155, '79.0': 156, '8.0': 157, '81.0': 158, '83.0': 159, '84.0': 160, '85.0': 161, '86.0': 162, '87.0': 163, '88.0': 164, '89.0': 165, '9.0': 166, '90.0': 167, '91.0': 168, '93.0': 169, '94.0': 170, '95.0': 171, '97.0': 172, '99.0': 173, nan: 174}), ('seriousness', 3, {'EOS': 1, 'Value 1': 2}), ('customer', 361, {'EOS': 1, 'Value 1': 2, 'Value 10': 3, 'Value 100': 4, 'Value 101': 5, 'Value 102': 6, 'Value 103': 7, 'Value 104': 8, 'Value 105': 9, 'Value 106': 10, 'Value 107': 11, 'Value 108': 12, 'Value 11': 13, 'Value 110': 14, 'Value 111': 15, 'Value 112': 16, 'Value 113': 17, 'Value 114': 18, 'Value 115': 19, 'Value 116': 20, 'Value 117': 21, 'Value 118': 22, 'Value 119': 23, 'Value 12': 24, 'Value 120': 25, 'Value 121': 26, 'Value 122': 27, 'Value 123': 28, 'Value 124': 29, 'Value 125': 30, 'Value 126': 31, 'Value 127': 32, 'Value 129': 33, 'Value 13': 34, 'Value 131': 35, 'Value 132': 36, 'Value 133': 37, 'Value 134': 38, 'Value 135': 39, 'Value 136': 40, 'Value 137': 41, 'Value 138': 42, 'Value 139': 43, 'Value 14': 44, 'Value 140': 45, 'Value 142': 46, 'Value 143': 47, 'Value 144': 48, 'Value 145': 49, 'Value 146': 50, 'Value 147': 51, 'Value 148': 52, 'Value 149': 53, 'Value 15': 54, 'Value 150': 55, 'Value 151': 56, 'Value 152': 57, 'Value 153': 58, 'Value 154': 59, 'Value 155': 60, 'Value 156': 61, 'Value 157': 62, 'Value 158': 63, 'Value 16': 64, 'Value 160': 65, 'Value 161': 66, 'Value 162': 67, 'Value 163': 68, 'Value 164': 69, 'Value 165': 70, 'Value 166': 71, 'Value 167': 72, 'Value 168': 73, 'Value 169': 74, 'Value 17': 75, 'Value 171': 76, 'Value 172': 77, 'Value 173': 78, 'Value 174': 79, 'Value 175': 80, 'Value 176': 81, 'Value 177': 82, 'Value 178': 83, 'Value 179': 84, 'Value 18': 85, 'Value 180': 86, 'Value 181': 87, 'Value 182': 88, 'Value 183': 89, 'Value 184': 90, 'Value 185': 91, 'Value 186': 92, 'Value 187': 93, 'Value 188': 94, 'Value 189': 95, 'Value 19': 96, 'Value 190': 97, 'Value 191': 98, 'Value 192': 99, 'Value 193': 100, 'Value 194': 101, 'Value 195': 102, 'Value 196': 103, 'Value 197': 104, 'Value 198': 105, 'Value 199': 106, 'Value 2': 107, 'Value 20': 108, 'Value 200': 109, 'Value 201': 110, 'Value 202': 111, 'Value 203': 112, 'Value 204': 113, 'Value 205': 114, 'Value 206': 115, 'Value 207': 116, 'Value 208': 117, 'Value 209': 118, 'Value 21': 119, 'Value 210': 120, 'Value 211': 121, 'Value 213': 122, 'Value 214': 123, 'Value 215': 124, 'Value 216': 125, 'Value 217': 126, 'Value 218': 127, 'Value 219': 128, 'Value 22': 129, 'Value 220': 130, 'Value 221': 131, 'Value 222': 132, 'Value 223': 133, 'Value 224': 134, 'Value 225': 135, 'Value 226': 136, 'Value 227': 137, 'Value 228': 138, 'Value 229': 139, 'Value 23': 140, 'Value 230': 141, 'Value 231': 142, 'Value 232': 143, 'Value 233': 144, 'Value 234': 145, 'Value 235': 146, 'Value 236': 147, 'Value 237': 148, 'Value 238': 149, 'Value 239': 150, 'Value 24': 151, 'Value 240': 152, 'Value 241': 153, 'Value 242': 154, 'Value 243': 155, 'Value 244': 156, 'Value 245': 157, 'Value 246': 158, 'Value 247': 159, 'Value 248': 160, 'Value 249': 161, 'Value 25': 162, 'Value 250': 163, 'Value 251': 164, 'Value 252': 165, 'Value 253': 166, 'Value 254': 167, 'Value 255': 168, 'Value 256': 169, 'Value 258': 170, 'Value 259': 171, 'Value 26': 172, 'Value 260': 173, 'Value 261': 174, 'Value 262': 175, 'Value 263': 176, 'Value 264': 177, 'Value 265': 178, 'Value 266': 179, 'Value 267': 180, 'Value 269': 181, 'Value 27': 182, 'Value 271': 183, 'Value 272': 184, 'Value 273': 185, 'Value 274': 186, 'Value 275': 187, 'Value 276': 188, 'Value 277': 189, 'Value 278': 190, 'Value 279': 191, 'Value 28': 192, 'Value 280': 193, 'Value 281': 194, 'Value 282': 195, 'Value 283': 196, 'Value 284': 197, 'Value 285': 198, 'Value 286': 199, 'Value 287': 200, 'Value 288': 201, 'Value 289': 202, 'Value 29': 203, 'Value 292': 204, 'Value 293': 205, 'Value 294': 206, 'Value 296': 207, 'Value 297': 208, 'Value 298': 209, 'Value 299': 210, 'Value 3': 211, 'Value 30': 212, 'Value 300': 213, 'Value 301': 214, 'Value 302': 215, 'Value 303': 216, 'Value 304': 217, 'Value 305': 218, 'Value 306': 219, 'Value 307': 220, 'Value 308': 221, 'Value 309': 222, 'Value 31': 223, 'Value 310': 224, 'Value 311': 225, 'Value 312': 226, 'Value 313': 227, 'Value 314': 228, 'Value 315': 229, 'Value 316': 230, 'Value 317': 231, 'Value 318': 232, 'Value 319': 233, 'Value 32': 234, 'Value 320': 235, 'Value 321': 236, 'Value 322': 237, 'Value 323': 238, 'Value 324': 239, 'Value 325': 240, 'Value 326': 241, 'Value 327': 242, 'Value 328': 243, 'Value 329': 244, 'Value 33': 245, 'Value 331': 246, 'Value 332': 247, 'Value 333': 248, 'Value 334': 249, 'Value 335': 250, 'Value 336': 251, 'Value 337': 252, 'Value 338': 253, 'Value 339': 254, 'Value 34': 255, 'Value 340': 256, 'Value 342': 257, 'Value 343': 258, 'Value 344': 259, 'Value 345': 260, 'Value 346': 261, 'Value 348': 262, 'Value 349': 263, 'Value 35': 264, 'Value 350': 265, 'Value 351': 266, 'Value 352': 267, 'Value 353': 268, 'Value 356': 269, 'Value 357': 270, 'Value 36': 271, 'Value 362': 272, 'Value 363': 273, 'Value 364': 274, 'Value 365': 275, 'Value 366': 276, 'Value 368': 277, 'Value 369': 278, 'Value 37': 279, 'Value 370': 280, 'Value 374': 281, 'Value 375': 282, 'Value 376': 283, 'Value 377': 284, 'Value 379': 285, 'Value 38': 286, 'Value 380': 287, 'Value 383': 288, 'Value 384': 289, 'Value 386': 290, 'Value 388': 291, 'Value 389': 292, 'Value 39': 293, 'Value 390': 294, 'Value 393': 295, 'Value 396': 296, 'Value 4': 297, 'Value 40': 298, 'Value 41': 299, 'Value 42': 300, 'Value 43': 301, 'Value 44': 302, 'Value 45': 303, 'Value 46': 304, 'Value 47': 305, 'Value 48': 306, 'Value 49': 307, 'Value 5': 308, 'Value 50': 309, 'Value 51': 310, 'Value 52': 311, 'Value 53': 312, 'Value 54': 313, 'Value 55': 314, 'Value 56': 315, 'Value 57': 316, 'Value 58': 317, 'Value 59': 318, 'Value 6': 319, 'Value 60': 320, 'Value 61': 321, 'Value 62': 322, 'Value 63': 323, 'Value 64': 324, 'Value 65': 325, 'Value 66': 326, 'Value 67': 327, 'Value 68': 328, 'Value 69': 329, 'Value 7': 330, 'Value 70': 331, 'Value 71': 332, 'Value 72': 333, 'Value 73': 334, 'Value 74': 335, 'Value 75': 336, 'Value 76': 337, 'Value 77': 338, 'Value 78': 339, 'Value 79': 340, 'Value 8': 341, 'Value 80': 342, 'Value 81': 343, 'Value 82': 344, 'Value 83': 345, 'Value 85': 346, 'Value 86': 347, 'Value 87': 348, 'Value 88': 349, 'Value 89': 350, 'Value 9': 351, 'Value 90': 352, 'Value 91': 353, 'Value 92': 354, 'Value 93': 355, 'Value 94': 356, 'Value 96': 357, 'Value 97': 358, 'Value 98': 359, 'Value 99': 360}), ('product', 23, {'EOS': 1, 'Value 1': 2, 'Value 10': 3, 'Value 11': 4, 'Value 12': 5, 'Value 13': 6, 'Value 14': 7, 'Value 15': 8, 'Value 16': 9, 'Value 17': 10, 'Value 18': 11, 'Value 19': 12, 'Value 2': 13, 'Value 20': 14, 'Value 21': 15, 'Value 3': 16, 'Value 4': 17, 'Value 5': 18, 'Value 6': 19, 'Value 7': 20, 'Value 8': 21, 'Value 9': 22}), ('responsible_section', 9, {'EOS': 1, 'Value 1': 2, 'Value 2': 3, 'Value 3': 4, 'Value 4': 5, 'Value 5': 6, 'Value 6': 7, 'Value 7': 8}), ('seriousness_2', 6, {'EOS': 1, 'Value 1': 2, 'Value 2': 3, 'Value 3': 4, 'Value 4': 5}), ('service_level', 6, {'EOS': 1, 'Value 1': 2, 'Value 2': 3, 'Value 3': 4, 'Value 4': 5}), ('service_type', 6, {'EOS': 1, 'Value 1': 2, 'Value 2': 3, 'Value 3': 4, 'Value 4': 5}), ('support_section', 8, {'EOS': 1, 'Value 1': 2, 'Value 2': 3, 'Value 3': 4, 'Value 4': 5, 'Value 5': 6, 'Value 6': 7}), ('workgroup', 6, {'EOS': 1, 'Value 1': 2, 'Value 2': 3, 'Value 3': 4, 'Value 4': 5})], [('case_elapsed_time', 1, {}), ('event_elapsed_time', 1, {}), ('day_in_week', 1, {}), ('seconds_in_day', 1, {})])\n",
      "Encoder input features:  [['Activity', 'Resource', 'VariantIndex', 'seriousness', 'customer', 'product', 'responsible_section', 'seriousness_2', 'service_level', 'service_type', 'support_section', 'workgroup'], ['case_elapsed_time', 'event_elapsed_time', 'day_in_week', 'seconds_in_day']]\n",
      "Decoder input+output features:  [['Activity', 'Resource'], ['case_elapsed_time', 'event_elapsed_time']]\n",
      "\n",
      "\n",
      "Sequence length of decoder output:  4\n",
      "\n",
      "\n",
      "Cells hidden size:  128\n",
      "Number of LSTM layer:  4\n",
      "Dropout rate:  0.1\n",
      "\n",
      "\n",
      "Encoder number of labels for each input feature (categorical, numerical):  [[16, 24, 175, 3, 361, 23, 9, 6, 6, 6, 8, 6], [1, 1, 1, 1]]\n",
      "Encoder indices of tensors in dataset used as input:  [[0, 1, 2, 3, 4, 5, 6, 7, 8, 9, 10, 11], [0, 1, 2, 3]]\n",
      "Embeddings encoder:  ModuleList(\n",
      "  (0): Embedding(16, 8)\n",
      "  (1): Embedding(24, 9)\n",
      "  (2): Embedding(175, 29)\n",
      "  (3): Embedding(3, 3)\n",
      "  (4): Embedding(361, 43)\n",
      "  (5): Embedding(23, 9)\n",
      "  (6): Embedding(9, 5)\n",
      "  (7-9): 3 x Embedding(6, 4)\n",
      "  (10): Embedding(8, 5)\n",
      "  (11): Embedding(6, 4)\n",
      ")\n",
      "Total embedding feature size encoder:  127\n",
      "Total numerical feature size encoder:  4\n",
      "Input feature size encoder:  131\n",
      "Encoder initialized! \n",
      "\n",
      "Decoder label values size for each categorical input feature:  [16, 24]\n",
      "Decoder label values size for each numerical input feature:  [1, 1]\n",
      "Decoder indices of tensors in dataset used as input:  [[0, 1], [0, 1]]\n",
      "Embeddings decoder:  ModuleList(\n",
      "  (0): Embedding(16, 8)\n",
      "  (1): Embedding(24, 9)\n",
      ")\n",
      "Total embedding feature size decoder:  17\n",
      "Total numerical feature size decoder:  2\n",
      "Input feature size decoder:  19\n",
      "Output feature list of dicts (featue name, feature output size) of decoder:  [{'Activity': 16, 'Resource': 24}, {'case_elapsed_time': 1, 'event_elapsed_time': 1}]\n",
      "Decoder initialized! \n",
      "\n",
      "Output feature list of dicts (featue name, tensor index in dataset) of decoder:  [{'Activity': 0, 'Resource': 1}, {'case_elapsed_time': 0, 'event_elapsed_time': 1}]\n"
     ]
    }
   ],
   "source": [
    "import model.dropout_uncertainty_enc_dec_LSTM.dropout_uncertainty_model\n",
    "importlib.reload(model.dropout_uncertainty_enc_dec_LSTM.dropout_uncertainty_model)\n",
    "from model.dropout_uncertainty_enc_dec_LSTM.dropout_uncertainty_model import DropoutUncertaintyEncoderDecoderLSTM\n",
    "\n",
    "# Prediction decoder output sequence length\n",
    "seq_len_pred = 4\n",
    "\n",
    "# Size hidden layer\n",
    "hidden_size = 128\n",
    "\n",
    "# Number of cells\n",
    "num_layers = 4\n",
    "\n",
    "# Fixed Dropout probability \n",
    "dropout = 0.1\n",
    "\n",
    "# Encoder Decoder model initialization\n",
    "model = DropoutUncertaintyEncoderDecoderLSTM(data_set_categories=helpdesk_all_categories,\n",
    "                                             enc_feat=enc_feat,\n",
    "                                             dec_feat=dec_feat,\n",
    "                                             seq_len_pred=seq_len_pred,\n",
    "                                             hidden_size=hidden_size,\n",
    "                                             num_layers=num_layers,\n",
    "                                             dropout=dropout)"
   ]
  },
  {
   "cell_type": "markdown",
   "metadata": {},
   "source": [
    "# Loss Object Creation"
   ]
  },
  {
   "cell_type": "code",
   "execution_count": 6,
   "metadata": {
    "execution": {
     "iopub.execute_input": "2025-04-25T08:42:13.212951Z",
     "iopub.status.busy": "2025-04-25T08:42:13.212869Z",
     "iopub.status.idle": "2025-04-25T08:42:13.214730Z",
     "shell.execute_reply": "2025-04-25T08:42:13.214554Z"
    }
   },
   "outputs": [],
   "source": [
    "import loss.losses\n",
    "importlib.reload(loss.losses)\n",
    "from loss.losses import Loss\n",
    "\n",
    "loss_obj = Loss()"
   ]
  },
  {
   "cell_type": "markdown",
   "metadata": {},
   "source": [
    "# Training Configuration"
   ]
  },
  {
   "cell_type": "code",
   "execution_count": 7,
   "metadata": {
    "execution": {
     "iopub.execute_input": "2025-04-25T08:42:13.215527Z",
     "iopub.status.busy": "2025-04-25T08:42:13.215367Z",
     "iopub.status.idle": "2025-04-25T10:47:46.373364Z",
     "shell.execute_reply": "2025-04-25T10:47:46.373030Z"
    }
   },
   "outputs": [
    {
     "name": "stdout",
     "output_type": "stream",
     "text": [
      "Device:  cuda\n"
     ]
    },
    {
     "name": "stdout",
     "output_type": "stream",
     "text": [
      "Model:  DropoutUncertaintyEncoderDecoderLSTM(\n",
      "  (embeddings_enc): ModuleList(\n",
      "    (0): Embedding(16, 8)\n",
      "    (1): Embedding(24, 9)\n",
      "    (2): Embedding(175, 29)\n",
      "    (3): Embedding(3, 3)\n",
      "    (4): Embedding(361, 43)\n",
      "    (5): Embedding(23, 9)\n",
      "    (6): Embedding(9, 5)\n",
      "    (7-9): 3 x Embedding(6, 4)\n",
      "    (10): Embedding(8, 5)\n",
      "    (11): Embedding(6, 4)\n",
      "  )\n",
      "  (encoder): DropoutUncertaintyLSTMEncoder(\n",
      "    (embeddings): ModuleList(\n",
      "      (0): Embedding(16, 8)\n",
      "      (1): Embedding(24, 9)\n",
      "      (2): Embedding(175, 29)\n",
      "      (3): Embedding(3, 3)\n",
      "      (4): Embedding(361, 43)\n",
      "      (5): Embedding(23, 9)\n",
      "      (6): Embedding(9, 5)\n",
      "      (7-9): 3 x Embedding(6, 4)\n",
      "      (10): Embedding(8, 5)\n",
      "      (11): Embedding(6, 4)\n",
      "    )\n",
      "    (first_layer): DropoutUncertaintyLSTMCell(\n",
      "      (Wi): Linear(in_features=131, out_features=128, bias=True)\n",
      "      (Ui): Linear(in_features=128, out_features=128, bias=True)\n",
      "      (Wf): Linear(in_features=131, out_features=128, bias=True)\n",
      "      (Uf): Linear(in_features=128, out_features=128, bias=True)\n",
      "      (Wc): Linear(in_features=131, out_features=128, bias=True)\n",
      "      (Uc): Linear(in_features=128, out_features=128, bias=True)\n",
      "      (Wo): Linear(in_features=131, out_features=128, bias=True)\n",
      "      (Uo): Linear(in_features=128, out_features=128, bias=True)\n",
      "    )\n",
      "    (hidden_layers): ModuleList(\n",
      "      (0-2): 3 x DropoutUncertaintyLSTMCell(\n",
      "        (Wi): Linear(in_features=128, out_features=128, bias=True)\n",
      "        (Ui): Linear(in_features=128, out_features=128, bias=True)\n",
      "        (Wf): Linear(in_features=128, out_features=128, bias=True)\n",
      "        (Uf): Linear(in_features=128, out_features=128, bias=True)\n",
      "        (Wc): Linear(in_features=128, out_features=128, bias=True)\n",
      "        (Uc): Linear(in_features=128, out_features=128, bias=True)\n",
      "        (Wo): Linear(in_features=128, out_features=128, bias=True)\n",
      "        (Uo): Linear(in_features=128, out_features=128, bias=True)\n",
      "      )\n",
      "    )\n",
      "  )\n",
      "  (embeddings_dec): ModuleList(\n",
      "    (0): Embedding(16, 8)\n",
      "    (1): Embedding(24, 9)\n",
      "  )\n",
      "  (decoder): DropoutUncertaintyLSTMDecoder(\n",
      "    (embeddings): ModuleList(\n",
      "      (0): Embedding(16, 8)\n",
      "      (1): Embedding(24, 9)\n",
      "    )\n",
      "    (first_layer): DropoutUncertaintyLSTMCell(\n",
      "      (Wi): Linear(in_features=19, out_features=128, bias=True)\n",
      "      (Ui): Linear(in_features=128, out_features=128, bias=True)\n",
      "      (Wf): Linear(in_features=19, out_features=128, bias=True)\n",
      "      (Uf): Linear(in_features=128, out_features=128, bias=True)\n",
      "      (Wc): Linear(in_features=19, out_features=128, bias=True)\n",
      "      (Uc): Linear(in_features=128, out_features=128, bias=True)\n",
      "      (Wo): Linear(in_features=19, out_features=128, bias=True)\n",
      "      (Uo): Linear(in_features=128, out_features=128, bias=True)\n",
      "    )\n",
      "    (hidden_layers): ModuleList(\n",
      "      (0-2): 3 x DropoutUncertaintyLSTMCell(\n",
      "        (Wi): Linear(in_features=128, out_features=128, bias=True)\n",
      "        (Ui): Linear(in_features=128, out_features=128, bias=True)\n",
      "        (Wf): Linear(in_features=128, out_features=128, bias=True)\n",
      "        (Uf): Linear(in_features=128, out_features=128, bias=True)\n",
      "        (Wc): Linear(in_features=128, out_features=128, bias=True)\n",
      "        (Uc): Linear(in_features=128, out_features=128, bias=True)\n",
      "        (Wo): Linear(in_features=128, out_features=128, bias=True)\n",
      "        (Uo): Linear(in_features=128, out_features=128, bias=True)\n",
      "      )\n",
      "    )\n",
      "    (output_layers): ModuleDict(\n",
      "      (Activity_mean): Linear(in_features=128, out_features=16, bias=True)\n",
      "      (Activity_var): Linear(in_features=128, out_features=16, bias=True)\n",
      "      (Resource_mean): Linear(in_features=128, out_features=24, bias=True)\n",
      "      (Resource_var): Linear(in_features=128, out_features=24, bias=True)\n",
      "      (case_elapsed_time_mean): Linear(in_features=128, out_features=1, bias=True)\n",
      "      (case_elapsed_time_var): Linear(in_features=128, out_features=1, bias=True)\n",
      "      (event_elapsed_time_mean): Linear(in_features=128, out_features=1, bias=True)\n",
      "      (event_elapsed_time_var): Linear(in_features=128, out_features=1, bias=True)\n",
      "    )\n",
      "  )\n",
      ")\n",
      "Train Dataset:  <event_log_loader.new_event_log_loader.EventLogDataset object at 0x7fe4bca88980>\n",
      "Validation Dataset:  <event_log_loader.new_event_log_loader.EventLogDataset object at 0x7fe4bc948f50>\n",
      "Loss object for method calling:  <loss.losses.Loss object at 0x7fe4bc795400>\n",
      "Num. feautures that follow log-normal PDF:  []\n",
      "regularization:  0.0001\n",
      "Optimizer:  Adam (\n",
      "Parameter Group 0\n",
      "    amsgrad: False\n",
      "    betas: (0.9, 0.999)\n",
      "    capturable: False\n",
      "    differentiable: False\n",
      "    eps: 1e-08\n",
      "    foreach: None\n",
      "    fused: None\n",
      "    lr: 1e-05\n",
      "    maximize: False\n",
      "    weight_decay: 0\n",
      ")\n",
      "Scheduler:  <torch.optim.lr_scheduler.ReduceLROnPlateau object at 0x7fe4b3e56120>\n",
      "Epochs:  100\n",
      "Mini baches:  128\n",
      "Shuffle batched dataset:  True\n",
      "Teacher forcing ratio:  0.8\n",
      "Use GradNorm:  True\n",
      "GradNorm alpha:  1.5\n",
      "GradNorm learning rate:  0.0001\n",
      "Initial GradNorm loss weights:  Parameter containing:\n",
      "tensor([1., 1., 1., 1.], requires_grad=True)\n",
      "Initial loss values:  None\n",
      "GradNorm optimizer:  Adam (\n",
      "Parameter Group 0\n",
      "    amsgrad: False\n",
      "    betas: (0.9, 0.999)\n",
      "    capturable: False\n",
      "    differentiable: False\n",
      "    eps: 1e-08\n",
      "    foreach: None\n",
      "    fused: None\n",
      "    lr: 0.0001\n",
      "    maximize: False\n",
      "    weight_decay: 0\n",
      ")\n"
     ]
    },
    {
     "data": {
      "application/vnd.jupyter.widget-view+json": {
       "model_id": "0cad60a2014e453dbad0272789a5a646",
       "version_major": 2,
       "version_minor": 0
      },
      "text/plain": [
       "  0%|          | 0/100 [00:00<?, ?it/s]"
      ]
     },
     "metadata": {},
     "output_type": "display_data"
    },
    {
     "name": "stdout",
     "output_type": "stream",
     "text": [
      "Epoch [1/100], Learning Rate: 1e-05, Teacher forcing ratio: 0.8\n",
      "Training: Avg Attenuated Training Loss: 8.3075\n"
     ]
    },
    {
     "name": "stdout",
     "output_type": "stream",
     "text": [
      "Validation: Avg Standard Validation Loss: 8.0863\n",
      "Validation: Avg Attenuated Validation Loss: 7.9291\n",
      "Validation Loss for Scheduler: 8.0863\n",
      "saving model\n"
     ]
    },
    {
     "name": "stdout",
     "output_type": "stream",
     "text": [
      "Epoch [2/100], Learning Rate: 1e-05, Teacher forcing ratio: 0.8\n",
      "Training: Avg Attenuated Training Loss: 8.2797\n"
     ]
    },
    {
     "name": "stdout",
     "output_type": "stream",
     "text": [
      "Validation: Avg Standard Validation Loss: 8.0150\n",
      "Validation: Avg Attenuated Validation Loss: 7.8534\n",
      "Validation Loss for Scheduler: 8.0150\n",
      "saving model\n"
     ]
    },
    {
     "name": "stdout",
     "output_type": "stream",
     "text": [
      "Epoch [3/100], Learning Rate: 1e-05, Teacher forcing ratio: 0.8\n",
      "Training: Avg Attenuated Training Loss: 8.0636\n"
     ]
    },
    {
     "name": "stdout",
     "output_type": "stream",
     "text": [
      "Validation: Avg Standard Validation Loss: 7.4935\n",
      "Validation: Avg Attenuated Validation Loss: 7.2473\n",
      "Validation Loss for Scheduler: 7.4935\n",
      "saving model\n"
     ]
    },
    {
     "name": "stdout",
     "output_type": "stream",
     "text": [
      "Epoch [4/100], Learning Rate: 1e-05, Teacher forcing ratio: 0.8\n",
      "Training: Avg Attenuated Training Loss: 6.5820\n"
     ]
    },
    {
     "name": "stdout",
     "output_type": "stream",
     "text": [
      "Validation: Avg Standard Validation Loss: 5.6578\n",
      "Validation: Avg Attenuated Validation Loss: 5.1410\n",
      "Validation Loss for Scheduler: 5.6578\n",
      "saving model\n"
     ]
    },
    {
     "name": "stdout",
     "output_type": "stream",
     "text": [
      "Epoch [5/100], Learning Rate: 1e-05, Teacher forcing ratio: 0.8\n",
      "Training: Avg Attenuated Training Loss: 5.0137\n"
     ]
    },
    {
     "name": "stdout",
     "output_type": "stream",
     "text": [
      "Validation: Avg Standard Validation Loss: 5.0602\n",
      "Validation: Avg Attenuated Validation Loss: 4.3154\n",
      "Validation Loss for Scheduler: 5.0602\n",
      "saving model\n"
     ]
    },
    {
     "name": "stdout",
     "output_type": "stream",
     "text": [
      "Epoch [6/100], Learning Rate: 1e-05, Teacher forcing ratio: 0.8\n",
      "Training: Avg Attenuated Training Loss: 4.4749\n"
     ]
    },
    {
     "name": "stdout",
     "output_type": "stream",
     "text": [
      "Validation: Avg Standard Validation Loss: 4.8971\n",
      "Validation: Avg Attenuated Validation Loss: 4.0040\n",
      "Validation Loss for Scheduler: 4.8971\n",
      "saving model\n"
     ]
    },
    {
     "name": "stdout",
     "output_type": "stream",
     "text": [
      "Epoch [7/100], Learning Rate: 1e-05, Teacher forcing ratio: 0.8\n",
      "Training: Avg Attenuated Training Loss: 4.2089\n"
     ]
    },
    {
     "name": "stdout",
     "output_type": "stream",
     "text": [
      "Validation: Avg Standard Validation Loss: 4.8038\n",
      "Validation: Avg Attenuated Validation Loss: 3.8313\n",
      "Validation Loss for Scheduler: 4.8038\n",
      "saving model\n"
     ]
    },
    {
     "name": "stdout",
     "output_type": "stream",
     "text": [
      "Epoch [8/100], Learning Rate: 1e-05, Teacher forcing ratio: 0.8\n",
      "Training: Avg Attenuated Training Loss: 3.9831\n"
     ]
    },
    {
     "name": "stdout",
     "output_type": "stream",
     "text": [
      "Validation: Avg Standard Validation Loss: 4.7058\n",
      "Validation: Avg Attenuated Validation Loss: 3.6415\n",
      "Validation Loss for Scheduler: 4.7058\n",
      "saving model\n"
     ]
    },
    {
     "name": "stdout",
     "output_type": "stream",
     "text": [
      "Epoch [9/100], Learning Rate: 1e-05, Teacher forcing ratio: 0.8\n",
      "Training: Avg Attenuated Training Loss: 3.5738\n"
     ]
    },
    {
     "name": "stdout",
     "output_type": "stream",
     "text": [
      "Validation: Avg Standard Validation Loss: 4.4648\n",
      "Validation: Avg Attenuated Validation Loss: 3.1419\n",
      "Validation Loss for Scheduler: 4.4648\n",
      "saving model\n"
     ]
    },
    {
     "name": "stdout",
     "output_type": "stream",
     "text": [
      "Epoch [10/100], Learning Rate: 1e-05, Teacher forcing ratio: 0.8\n",
      "Training: Avg Attenuated Training Loss: 3.2340\n"
     ]
    },
    {
     "name": "stdout",
     "output_type": "stream",
     "text": [
      "Validation: Avg Standard Validation Loss: 4.3067\n",
      "Validation: Avg Attenuated Validation Loss: 2.8547\n",
      "Validation Loss for Scheduler: 4.3067\n",
      "saving model\n"
     ]
    },
    {
     "name": "stdout",
     "output_type": "stream",
     "text": [
      "Epoch [11/100], Learning Rate: 1e-05, Teacher forcing ratio: 0.8\n",
      "Training: Avg Attenuated Training Loss: 3.0314\n"
     ]
    },
    {
     "name": "stdout",
     "output_type": "stream",
     "text": [
      "Validation: Avg Standard Validation Loss: 4.2306\n",
      "Validation: Avg Attenuated Validation Loss: 2.6551\n",
      "Validation Loss for Scheduler: 4.2306\n",
      "saving model\n"
     ]
    },
    {
     "name": "stdout",
     "output_type": "stream",
     "text": [
      "Epoch [12/100], Learning Rate: 1e-05, Teacher forcing ratio: 0.8\n",
      "Training: Avg Attenuated Training Loss: 2.8162\n"
     ]
    },
    {
     "name": "stdout",
     "output_type": "stream",
     "text": [
      "Validation: Avg Standard Validation Loss: 4.1361\n",
      "Validation: Avg Attenuated Validation Loss: 2.4521\n",
      "Validation Loss for Scheduler: 4.1361\n",
      "saving model\n"
     ]
    },
    {
     "name": "stdout",
     "output_type": "stream",
     "text": [
      "Epoch [13/100], Learning Rate: 1e-05, Teacher forcing ratio: 0.8\n",
      "Training: Avg Attenuated Training Loss: 2.6342\n"
     ]
    },
    {
     "name": "stdout",
     "output_type": "stream",
     "text": [
      "Validation: Avg Standard Validation Loss: 4.0627\n",
      "Validation: Avg Attenuated Validation Loss: 2.2750\n",
      "Validation Loss for Scheduler: 4.0627\n",
      "saving model\n"
     ]
    },
    {
     "name": "stdout",
     "output_type": "stream",
     "text": [
      "Epoch [14/100], Learning Rate: 1e-05, Teacher forcing ratio: 0.8\n",
      "Training: Avg Attenuated Training Loss: 2.4646\n"
     ]
    },
    {
     "name": "stdout",
     "output_type": "stream",
     "text": [
      "Validation: Avg Standard Validation Loss: 4.0340\n",
      "Validation: Avg Attenuated Validation Loss: 2.1641\n",
      "Validation Loss for Scheduler: 4.0340\n",
      "saving model\n"
     ]
    },
    {
     "name": "stdout",
     "output_type": "stream",
     "text": [
      "Epoch [15/100], Learning Rate: 1e-05, Teacher forcing ratio: 0.8\n",
      "Training: Avg Attenuated Training Loss: 2.2452\n"
     ]
    },
    {
     "name": "stdout",
     "output_type": "stream",
     "text": [
      "Validation: Avg Standard Validation Loss: 3.9649\n",
      "Validation: Avg Attenuated Validation Loss: 2.0706\n",
      "Validation Loss for Scheduler: 3.9649\n",
      "saving model\n"
     ]
    },
    {
     "name": "stdout",
     "output_type": "stream",
     "text": [
      "Epoch [16/100], Learning Rate: 1e-05, Teacher forcing ratio: 0.8\n",
      "Training: Avg Attenuated Training Loss: 2.1088\n"
     ]
    },
    {
     "name": "stdout",
     "output_type": "stream",
     "text": [
      "Validation: Avg Standard Validation Loss: 3.8899\n",
      "Validation: Avg Attenuated Validation Loss: 1.9987\n",
      "Validation Loss for Scheduler: 3.8899\n",
      "saving model\n"
     ]
    },
    {
     "name": "stdout",
     "output_type": "stream",
     "text": [
      "Epoch [17/100], Learning Rate: 1e-05, Teacher forcing ratio: 0.8\n",
      "Training: Avg Attenuated Training Loss: 1.9572\n"
     ]
    },
    {
     "name": "stdout",
     "output_type": "stream",
     "text": [
      "Validation: Avg Standard Validation Loss: 3.8306\n",
      "Validation: Avg Attenuated Validation Loss: 1.9580\n",
      "Validation Loss for Scheduler: 3.8306\n",
      "saving model\n"
     ]
    },
    {
     "name": "stdout",
     "output_type": "stream",
     "text": [
      "Epoch [18/100], Learning Rate: 1e-05, Teacher forcing ratio: 0.8\n",
      "Training: Avg Attenuated Training Loss: 1.8407\n"
     ]
    },
    {
     "name": "stdout",
     "output_type": "stream",
     "text": [
      "Validation: Avg Standard Validation Loss: 3.8318\n",
      "Validation: Avg Attenuated Validation Loss: 2.0710\n",
      "Validation Loss for Scheduler: 3.8318\n",
      "saving model\n"
     ]
    },
    {
     "name": "stdout",
     "output_type": "stream",
     "text": [
      "Epoch [19/100], Learning Rate: 1e-05, Teacher forcing ratio: 0.8\n",
      "Training: Avg Attenuated Training Loss: 1.7655\n"
     ]
    },
    {
     "name": "stdout",
     "output_type": "stream",
     "text": [
      "Validation: Avg Standard Validation Loss: 3.7630\n",
      "Validation: Avg Attenuated Validation Loss: 2.1232\n",
      "Validation Loss for Scheduler: 3.7630\n",
      "saving model\n"
     ]
    },
    {
     "name": "stdout",
     "output_type": "stream",
     "text": [
      "Epoch [20/100], Learning Rate: 1e-05, Teacher forcing ratio: 0.8\n",
      "Training: Avg Attenuated Training Loss: 1.6954\n"
     ]
    },
    {
     "name": "stdout",
     "output_type": "stream",
     "text": [
      "Validation: Avg Standard Validation Loss: 3.7458\n",
      "Validation: Avg Attenuated Validation Loss: 2.3190\n",
      "Validation Loss for Scheduler: 3.7458\n",
      "saving model\n"
     ]
    },
    {
     "name": "stdout",
     "output_type": "stream",
     "text": [
      "Epoch [21/100], Learning Rate: 1e-05, Teacher forcing ratio: 0.768\n",
      "Training: Avg Attenuated Training Loss: 1.6804\n"
     ]
    },
    {
     "name": "stdout",
     "output_type": "stream",
     "text": [
      "Validation: Avg Standard Validation Loss: 3.6989\n",
      "Validation: Avg Attenuated Validation Loss: 2.2982\n",
      "Validation Loss for Scheduler: 3.6989\n",
      "saving model\n"
     ]
    },
    {
     "name": "stdout",
     "output_type": "stream",
     "text": [
      "Epoch [22/100], Learning Rate: 1e-05, Teacher forcing ratio: 0.768\n",
      "Training: Avg Attenuated Training Loss: 1.6293\n"
     ]
    },
    {
     "name": "stdout",
     "output_type": "stream",
     "text": [
      "Validation: Avg Standard Validation Loss: 3.6410\n",
      "Validation: Avg Attenuated Validation Loss: 1.9893\n",
      "Validation Loss for Scheduler: 3.6410\n",
      "saving model\n"
     ]
    },
    {
     "name": "stdout",
     "output_type": "stream",
     "text": [
      "Epoch [23/100], Learning Rate: 1e-05, Teacher forcing ratio: 0.768\n",
      "Training: Avg Attenuated Training Loss: 1.5373\n"
     ]
    },
    {
     "name": "stdout",
     "output_type": "stream",
     "text": [
      "Validation: Avg Standard Validation Loss: 3.6363\n",
      "Validation: Avg Attenuated Validation Loss: 2.4758\n",
      "Validation Loss for Scheduler: 3.6363\n",
      "saving model\n"
     ]
    },
    {
     "name": "stdout",
     "output_type": "stream",
     "text": [
      "Epoch [24/100], Learning Rate: 1e-05, Teacher forcing ratio: 0.768\n",
      "Training: Avg Attenuated Training Loss: 1.4524\n"
     ]
    },
    {
     "name": "stdout",
     "output_type": "stream",
     "text": [
      "Validation: Avg Standard Validation Loss: 3.5704\n",
      "Validation: Avg Attenuated Validation Loss: 2.2410\n",
      "Validation Loss for Scheduler: 3.5704\n",
      "saving model\n"
     ]
    },
    {
     "name": "stdout",
     "output_type": "stream",
     "text": [
      "Epoch [25/100], Learning Rate: 1e-05, Teacher forcing ratio: 0.768\n",
      "Training: Avg Attenuated Training Loss: 1.3542\n"
     ]
    },
    {
     "name": "stdout",
     "output_type": "stream",
     "text": [
      "Validation: Avg Standard Validation Loss: 3.5480\n",
      "Validation: Avg Attenuated Validation Loss: 2.4066\n",
      "Validation Loss for Scheduler: 3.5480\n",
      "saving model\n"
     ]
    },
    {
     "name": "stdout",
     "output_type": "stream",
     "text": [
      "Epoch [26/100], Learning Rate: 1e-05, Teacher forcing ratio: 0.768\n",
      "Training: Avg Attenuated Training Loss: 1.3689\n"
     ]
    },
    {
     "name": "stdout",
     "output_type": "stream",
     "text": [
      "Validation: Avg Standard Validation Loss: 3.5020\n",
      "Validation: Avg Attenuated Validation Loss: 2.2674\n",
      "Validation Loss for Scheduler: 3.5020\n",
      "saving model\n"
     ]
    },
    {
     "name": "stdout",
     "output_type": "stream",
     "text": [
      "Epoch [27/100], Learning Rate: 1e-05, Teacher forcing ratio: 0.768\n",
      "Training: Avg Attenuated Training Loss: 1.1956\n"
     ]
    },
    {
     "name": "stdout",
     "output_type": "stream",
     "text": [
      "Validation: Avg Standard Validation Loss: 3.4635\n",
      "Validation: Avg Attenuated Validation Loss: 2.3350\n",
      "Validation Loss for Scheduler: 3.4635\n",
      "saving model\n"
     ]
    },
    {
     "name": "stdout",
     "output_type": "stream",
     "text": [
      "Epoch [28/100], Learning Rate: 1e-05, Teacher forcing ratio: 0.768\n",
      "Training: Avg Attenuated Training Loss: 1.3647\n"
     ]
    },
    {
     "name": "stdout",
     "output_type": "stream",
     "text": [
      "Validation: Avg Standard Validation Loss: 3.4512\n",
      "Validation: Avg Attenuated Validation Loss: 2.3261\n",
      "Validation Loss for Scheduler: 3.4512\n",
      "saving model\n"
     ]
    },
    {
     "name": "stdout",
     "output_type": "stream",
     "text": [
      "Epoch [29/100], Learning Rate: 1e-05, Teacher forcing ratio: 0.768\n",
      "Training: Avg Attenuated Training Loss: 1.2227\n"
     ]
    },
    {
     "name": "stdout",
     "output_type": "stream",
     "text": [
      "Validation: Avg Standard Validation Loss: 3.4290\n",
      "Validation: Avg Attenuated Validation Loss: 2.8506\n",
      "Validation Loss for Scheduler: 3.4290\n",
      "saving model\n"
     ]
    },
    {
     "name": "stdout",
     "output_type": "stream",
     "text": [
      "Epoch [30/100], Learning Rate: 1e-05, Teacher forcing ratio: 0.768\n",
      "Training: Avg Attenuated Training Loss: 1.1623\n"
     ]
    },
    {
     "name": "stdout",
     "output_type": "stream",
     "text": [
      "Validation: Avg Standard Validation Loss: 3.3751\n",
      "Validation: Avg Attenuated Validation Loss: 2.5528\n",
      "Validation Loss for Scheduler: 3.3751\n",
      "saving model\n"
     ]
    },
    {
     "name": "stdout",
     "output_type": "stream",
     "text": [
      "Epoch [31/100], Learning Rate: 1e-05, Teacher forcing ratio: 0.768\n",
      "Training: Avg Attenuated Training Loss: 1.1825\n"
     ]
    },
    {
     "name": "stdout",
     "output_type": "stream",
     "text": [
      "Validation: Avg Standard Validation Loss: 3.3667\n",
      "Validation: Avg Attenuated Validation Loss: 2.9584\n",
      "Validation Loss for Scheduler: 3.3667\n",
      "saving model\n"
     ]
    },
    {
     "name": "stdout",
     "output_type": "stream",
     "text": [
      "Epoch [32/100], Learning Rate: 1e-05, Teacher forcing ratio: 0.768\n",
      "Training: Avg Attenuated Training Loss: 1.1449\n"
     ]
    },
    {
     "name": "stdout",
     "output_type": "stream",
     "text": [
      "Validation: Avg Standard Validation Loss: 3.3096\n",
      "Validation: Avg Attenuated Validation Loss: 2.1491\n",
      "Validation Loss for Scheduler: 3.3096\n",
      "saving model\n"
     ]
    },
    {
     "name": "stdout",
     "output_type": "stream",
     "text": [
      "Epoch [33/100], Learning Rate: 1e-05, Teacher forcing ratio: 0.768\n",
      "Training: Avg Attenuated Training Loss: 0.8194\n"
     ]
    },
    {
     "name": "stdout",
     "output_type": "stream",
     "text": [
      "Validation: Avg Standard Validation Loss: 3.2820\n",
      "Validation: Avg Attenuated Validation Loss: 2.5010\n",
      "Validation Loss for Scheduler: 3.2820\n",
      "saving model\n"
     ]
    },
    {
     "name": "stdout",
     "output_type": "stream",
     "text": [
      "Epoch [34/100], Learning Rate: 1e-05, Teacher forcing ratio: 0.768\n",
      "Training: Avg Attenuated Training Loss: 0.9157\n"
     ]
    },
    {
     "name": "stdout",
     "output_type": "stream",
     "text": [
      "Validation: Avg Standard Validation Loss: 3.2329\n",
      "Validation: Avg Attenuated Validation Loss: 2.7152\n",
      "Validation Loss for Scheduler: 3.2329\n",
      "saving model\n"
     ]
    },
    {
     "name": "stdout",
     "output_type": "stream",
     "text": [
      "Epoch [35/100], Learning Rate: 1e-05, Teacher forcing ratio: 0.768\n",
      "Training: Avg Attenuated Training Loss: 0.9476\n"
     ]
    },
    {
     "name": "stdout",
     "output_type": "stream",
     "text": [
      "Validation: Avg Standard Validation Loss: 3.2281\n",
      "Validation: Avg Attenuated Validation Loss: 3.2577\n",
      "Validation Loss for Scheduler: 3.2281\n",
      "saving model\n"
     ]
    },
    {
     "name": "stdout",
     "output_type": "stream",
     "text": [
      "Epoch [36/100], Learning Rate: 1e-05, Teacher forcing ratio: 0.768\n",
      "Training: Avg Attenuated Training Loss: 1.0192\n"
     ]
    },
    {
     "name": "stdout",
     "output_type": "stream",
     "text": [
      "Validation: Avg Standard Validation Loss: 3.1911\n",
      "Validation: Avg Attenuated Validation Loss: 3.0313\n",
      "Validation Loss for Scheduler: 3.1911\n",
      "saving model\n"
     ]
    },
    {
     "name": "stdout",
     "output_type": "stream",
     "text": [
      "Epoch [37/100], Learning Rate: 1e-05, Teacher forcing ratio: 0.768\n",
      "Training: Avg Attenuated Training Loss: 0.9918\n"
     ]
    },
    {
     "name": "stdout",
     "output_type": "stream",
     "text": [
      "Validation: Avg Standard Validation Loss: 3.1645\n",
      "Validation: Avg Attenuated Validation Loss: 2.9563\n",
      "Validation Loss for Scheduler: 3.1645\n",
      "saving model\n"
     ]
    },
    {
     "name": "stdout",
     "output_type": "stream",
     "text": [
      "Epoch [38/100], Learning Rate: 1e-05, Teacher forcing ratio: 0.768\n",
      "Training: Avg Attenuated Training Loss: 0.8981\n"
     ]
    },
    {
     "name": "stdout",
     "output_type": "stream",
     "text": [
      "Validation: Avg Standard Validation Loss: 3.1148\n",
      "Validation: Avg Attenuated Validation Loss: 2.1533\n",
      "Validation Loss for Scheduler: 3.1148\n",
      "saving model\n"
     ]
    },
    {
     "name": "stdout",
     "output_type": "stream",
     "text": [
      "Epoch [39/100], Learning Rate: 1e-05, Teacher forcing ratio: 0.768\n",
      "Training: Avg Attenuated Training Loss: 1.0665\n"
     ]
    },
    {
     "name": "stdout",
     "output_type": "stream",
     "text": [
      "Validation: Avg Standard Validation Loss: 3.1182\n",
      "Validation: Avg Attenuated Validation Loss: 2.0407\n",
      "Validation Loss for Scheduler: 3.1182\n",
      "saving model\n"
     ]
    },
    {
     "name": "stdout",
     "output_type": "stream",
     "text": [
      "Epoch [40/100], Learning Rate: 1e-05, Teacher forcing ratio: 0.768\n",
      "Training: Avg Attenuated Training Loss: 0.7553\n"
     ]
    },
    {
     "name": "stdout",
     "output_type": "stream",
     "text": [
      "Validation: Avg Standard Validation Loss: 3.1119\n",
      "Validation: Avg Attenuated Validation Loss: 3.1345\n",
      "Validation Loss for Scheduler: 3.1119\n",
      "saving model\n"
     ]
    },
    {
     "name": "stdout",
     "output_type": "stream",
     "text": [
      "Epoch [41/100], Learning Rate: 1e-05, Teacher forcing ratio: 0.73728\n",
      "Training: Avg Attenuated Training Loss: 0.7498\n"
     ]
    },
    {
     "name": "stdout",
     "output_type": "stream",
     "text": [
      "Validation: Avg Standard Validation Loss: 3.0736\n",
      "Validation: Avg Attenuated Validation Loss: 3.4127\n",
      "Validation Loss for Scheduler: 3.0736\n",
      "saving model\n"
     ]
    },
    {
     "name": "stdout",
     "output_type": "stream",
     "text": [
      "Epoch [42/100], Learning Rate: 1e-05, Teacher forcing ratio: 0.73728\n",
      "Training: Avg Attenuated Training Loss: 1.0686\n"
     ]
    },
    {
     "name": "stdout",
     "output_type": "stream",
     "text": [
      "Validation: Avg Standard Validation Loss: 2.9996\n",
      "Validation: Avg Attenuated Validation Loss: 2.9273\n",
      "Validation Loss for Scheduler: 2.9996\n",
      "saving model\n"
     ]
    },
    {
     "name": "stdout",
     "output_type": "stream",
     "text": [
      "Epoch [43/100], Learning Rate: 1e-05, Teacher forcing ratio: 0.73728\n",
      "Training: Avg Attenuated Training Loss: 0.8981\n"
     ]
    },
    {
     "name": "stdout",
     "output_type": "stream",
     "text": [
      "Validation: Avg Standard Validation Loss: 3.0349\n",
      "Validation: Avg Attenuated Validation Loss: 3.6746\n",
      "Validation Loss for Scheduler: 3.0349\n",
      "saving model\n"
     ]
    },
    {
     "name": "stdout",
     "output_type": "stream",
     "text": [
      "Epoch [44/100], Learning Rate: 1e-05, Teacher forcing ratio: 0.73728\n",
      "Training: Avg Attenuated Training Loss: 1.0692\n"
     ]
    },
    {
     "name": "stdout",
     "output_type": "stream",
     "text": [
      "Validation: Avg Standard Validation Loss: 3.0053\n",
      "Validation: Avg Attenuated Validation Loss: 2.3608\n",
      "Validation Loss for Scheduler: 3.0053\n",
      "saving model\n"
     ]
    },
    {
     "name": "stdout",
     "output_type": "stream",
     "text": [
      "Epoch [45/100], Learning Rate: 1e-05, Teacher forcing ratio: 0.73728\n",
      "Training: Avg Attenuated Training Loss: 0.9046\n"
     ]
    },
    {
     "name": "stdout",
     "output_type": "stream",
     "text": [
      "Validation: Avg Standard Validation Loss: 2.9896\n",
      "Validation: Avg Attenuated Validation Loss: 3.9255\n",
      "Validation Loss for Scheduler: 2.9896\n",
      "saving model\n"
     ]
    },
    {
     "name": "stdout",
     "output_type": "stream",
     "text": [
      "Epoch [46/100], Learning Rate: 1e-05, Teacher forcing ratio: 0.73728\n",
      "Training: Avg Attenuated Training Loss: 0.9372\n"
     ]
    },
    {
     "name": "stdout",
     "output_type": "stream",
     "text": [
      "Validation: Avg Standard Validation Loss: 2.9694\n",
      "Validation: Avg Attenuated Validation Loss: 2.6370\n",
      "Validation Loss for Scheduler: 2.9694\n",
      "saving model\n"
     ]
    },
    {
     "name": "stdout",
     "output_type": "stream",
     "text": [
      "Epoch [47/100], Learning Rate: 1e-05, Teacher forcing ratio: 0.73728\n",
      "Training: Avg Attenuated Training Loss: 0.9885\n"
     ]
    },
    {
     "name": "stdout",
     "output_type": "stream",
     "text": [
      "Validation: Avg Standard Validation Loss: 2.9779\n",
      "Validation: Avg Attenuated Validation Loss: 2.0846\n",
      "Validation Loss for Scheduler: 2.9779\n",
      "saving model\n"
     ]
    },
    {
     "name": "stdout",
     "output_type": "stream",
     "text": [
      "Epoch [48/100], Learning Rate: 1e-05, Teacher forcing ratio: 0.73728\n",
      "Training: Avg Attenuated Training Loss: 0.9223\n"
     ]
    },
    {
     "name": "stdout",
     "output_type": "stream",
     "text": [
      "Validation: Avg Standard Validation Loss: 2.9146\n",
      "Validation: Avg Attenuated Validation Loss: 2.7754\n",
      "Validation Loss for Scheduler: 2.9146\n",
      "saving model\n"
     ]
    },
    {
     "name": "stdout",
     "output_type": "stream",
     "text": [
      "Epoch [49/100], Learning Rate: 1e-05, Teacher forcing ratio: 0.73728\n",
      "Training: Avg Attenuated Training Loss: 0.8742\n"
     ]
    },
    {
     "name": "stdout",
     "output_type": "stream",
     "text": [
      "Validation: Avg Standard Validation Loss: 2.9229\n",
      "Validation: Avg Attenuated Validation Loss: 2.0781\n",
      "Validation Loss for Scheduler: 2.9229\n",
      "saving model\n"
     ]
    },
    {
     "name": "stdout",
     "output_type": "stream",
     "text": [
      "Epoch [50/100], Learning Rate: 1e-05, Teacher forcing ratio: 0.73728\n",
      "Training: Avg Attenuated Training Loss: 0.7937\n"
     ]
    },
    {
     "name": "stdout",
     "output_type": "stream",
     "text": [
      "Validation: Avg Standard Validation Loss: 2.8772\n",
      "Validation: Avg Attenuated Validation Loss: 4.0365\n",
      "Validation Loss for Scheduler: 2.8772\n",
      "saving model\n"
     ]
    },
    {
     "name": "stdout",
     "output_type": "stream",
     "text": [
      "Epoch [51/100], Learning Rate: 1e-05, Teacher forcing ratio: 0.73728\n",
      "Training: Avg Attenuated Training Loss: 1.0289\n"
     ]
    },
    {
     "name": "stdout",
     "output_type": "stream",
     "text": [
      "Validation: Avg Standard Validation Loss: 2.8959\n",
      "Validation: Avg Attenuated Validation Loss: 4.2229\n",
      "Validation Loss for Scheduler: 2.8959\n",
      "saving model\n"
     ]
    },
    {
     "name": "stdout",
     "output_type": "stream",
     "text": [
      "Epoch [52/100], Learning Rate: 1e-05, Teacher forcing ratio: 0.73728\n",
      "Training: Avg Attenuated Training Loss: 1.0203\n"
     ]
    },
    {
     "name": "stdout",
     "output_type": "stream",
     "text": [
      "Validation: Avg Standard Validation Loss: 2.9343\n",
      "Validation: Avg Attenuated Validation Loss: 2.3557\n",
      "Validation Loss for Scheduler: 2.9343\n",
      "saving model\n"
     ]
    },
    {
     "name": "stdout",
     "output_type": "stream",
     "text": [
      "Epoch [53/100], Learning Rate: 1e-05, Teacher forcing ratio: 0.73728\n",
      "Training: Avg Attenuated Training Loss: 0.9312\n"
     ]
    },
    {
     "name": "stdout",
     "output_type": "stream",
     "text": [
      "Validation: Avg Standard Validation Loss: 2.8311\n",
      "Validation: Avg Attenuated Validation Loss: 3.3603\n",
      "Validation Loss for Scheduler: 2.8311\n",
      "saving model\n"
     ]
    },
    {
     "name": "stdout",
     "output_type": "stream",
     "text": [
      "Epoch [54/100], Learning Rate: 1e-05, Teacher forcing ratio: 0.73728\n",
      "Training: Avg Attenuated Training Loss: 0.9860\n"
     ]
    },
    {
     "name": "stdout",
     "output_type": "stream",
     "text": [
      "Validation: Avg Standard Validation Loss: 2.8267\n",
      "Validation: Avg Attenuated Validation Loss: 3.4610\n",
      "Validation Loss for Scheduler: 2.8267\n",
      "saving model\n"
     ]
    },
    {
     "name": "stdout",
     "output_type": "stream",
     "text": [
      "Epoch [55/100], Learning Rate: 1e-05, Teacher forcing ratio: 0.73728\n",
      "Training: Avg Attenuated Training Loss: 0.8516\n"
     ]
    },
    {
     "name": "stdout",
     "output_type": "stream",
     "text": [
      "Validation: Avg Standard Validation Loss: 2.8394\n",
      "Validation: Avg Attenuated Validation Loss: 3.6448\n",
      "Validation Loss for Scheduler: 2.8394\n",
      "saving model\n"
     ]
    },
    {
     "name": "stdout",
     "output_type": "stream",
     "text": [
      "Epoch [56/100], Learning Rate: 1e-05, Teacher forcing ratio: 0.73728\n",
      "Training: Avg Attenuated Training Loss: 1.3800\n"
     ]
    },
    {
     "name": "stdout",
     "output_type": "stream",
     "text": [
      "Validation: Avg Standard Validation Loss: 2.7876\n",
      "Validation: Avg Attenuated Validation Loss: 3.4094\n",
      "Validation Loss for Scheduler: 2.7876\n",
      "saving model\n"
     ]
    },
    {
     "name": "stdout",
     "output_type": "stream",
     "text": [
      "Epoch [57/100], Learning Rate: 1e-05, Teacher forcing ratio: 0.73728\n",
      "Training: Avg Attenuated Training Loss: 1.1683\n"
     ]
    },
    {
     "name": "stdout",
     "output_type": "stream",
     "text": [
      "Validation: Avg Standard Validation Loss: 2.7702\n",
      "Validation: Avg Attenuated Validation Loss: 3.6178\n",
      "Validation Loss for Scheduler: 2.7702\n",
      "saving model\n"
     ]
    },
    {
     "name": "stdout",
     "output_type": "stream",
     "text": [
      "Epoch [58/100], Learning Rate: 1e-05, Teacher forcing ratio: 0.73728\n",
      "Training: Avg Attenuated Training Loss: 1.0290\n"
     ]
    },
    {
     "name": "stdout",
     "output_type": "stream",
     "text": [
      "Validation: Avg Standard Validation Loss: 2.7975\n",
      "Validation: Avg Attenuated Validation Loss: 6.4311\n",
      "Validation Loss for Scheduler: 2.7975\n",
      "saving model\n"
     ]
    },
    {
     "name": "stdout",
     "output_type": "stream",
     "text": [
      "Epoch [59/100], Learning Rate: 1e-05, Teacher forcing ratio: 0.73728\n",
      "Training: Avg Attenuated Training Loss: 0.7821\n"
     ]
    },
    {
     "name": "stdout",
     "output_type": "stream",
     "text": [
      "Validation: Avg Standard Validation Loss: 2.7779\n",
      "Validation: Avg Attenuated Validation Loss: 4.0627\n",
      "Validation Loss for Scheduler: 2.7779\n",
      "saving model\n"
     ]
    },
    {
     "name": "stdout",
     "output_type": "stream",
     "text": [
      "Epoch [60/100], Learning Rate: 1e-05, Teacher forcing ratio: 0.73728\n",
      "Training: Avg Attenuated Training Loss: 0.8553\n"
     ]
    },
    {
     "name": "stdout",
     "output_type": "stream",
     "text": [
      "Validation: Avg Standard Validation Loss: 2.7333\n",
      "Validation: Avg Attenuated Validation Loss: 3.9550\n",
      "Validation Loss for Scheduler: 2.7333\n",
      "saving model\n"
     ]
    },
    {
     "name": "stdout",
     "output_type": "stream",
     "text": [
      "Epoch [61/100], Learning Rate: 1e-05, Teacher forcing ratio: 0.7077888\n",
      "Training: Avg Attenuated Training Loss: 1.0475\n"
     ]
    },
    {
     "name": "stdout",
     "output_type": "stream",
     "text": [
      "Validation: Avg Standard Validation Loss: 2.7176\n",
      "Validation: Avg Attenuated Validation Loss: 4.9078\n",
      "Validation Loss for Scheduler: 2.7176\n",
      "saving model\n"
     ]
    },
    {
     "name": "stdout",
     "output_type": "stream",
     "text": [
      "Epoch [62/100], Learning Rate: 1e-05, Teacher forcing ratio: 0.7077888\n",
      "Training: Avg Attenuated Training Loss: 1.3524\n"
     ]
    },
    {
     "name": "stdout",
     "output_type": "stream",
     "text": [
      "Validation: Avg Standard Validation Loss: 2.7539\n",
      "Validation: Avg Attenuated Validation Loss: 5.3334\n",
      "Validation Loss for Scheduler: 2.7539\n",
      "saving model\n"
     ]
    },
    {
     "name": "stdout",
     "output_type": "stream",
     "text": [
      "Epoch [63/100], Learning Rate: 1e-05, Teacher forcing ratio: 0.7077888\n",
      "Training: Avg Attenuated Training Loss: 1.2128\n"
     ]
    },
    {
     "name": "stdout",
     "output_type": "stream",
     "text": [
      "Validation: Avg Standard Validation Loss: 2.7158\n",
      "Validation: Avg Attenuated Validation Loss: 3.7762\n",
      "Validation Loss for Scheduler: 2.7158\n",
      "saving model\n"
     ]
    },
    {
     "name": "stdout",
     "output_type": "stream",
     "text": [
      "Epoch [64/100], Learning Rate: 1e-05, Teacher forcing ratio: 0.7077888\n",
      "Training: Avg Attenuated Training Loss: 1.3768\n"
     ]
    },
    {
     "name": "stdout",
     "output_type": "stream",
     "text": [
      "Validation: Avg Standard Validation Loss: 2.7124\n",
      "Validation: Avg Attenuated Validation Loss: 4.1471\n",
      "Validation Loss for Scheduler: 2.7124\n",
      "saving model\n"
     ]
    },
    {
     "name": "stdout",
     "output_type": "stream",
     "text": [
      "Epoch [65/100], Learning Rate: 1e-05, Teacher forcing ratio: 0.7077888\n",
      "Training: Avg Attenuated Training Loss: 1.1809\n"
     ]
    },
    {
     "name": "stdout",
     "output_type": "stream",
     "text": [
      "Validation: Avg Standard Validation Loss: 2.7437\n",
      "Validation: Avg Attenuated Validation Loss: 3.3735\n",
      "Validation Loss for Scheduler: 2.7437\n",
      "saving model\n"
     ]
    },
    {
     "name": "stdout",
     "output_type": "stream",
     "text": [
      "Epoch [66/100], Learning Rate: 1e-05, Teacher forcing ratio: 0.7077888\n",
      "Training: Avg Attenuated Training Loss: 1.0129\n"
     ]
    },
    {
     "name": "stdout",
     "output_type": "stream",
     "text": [
      "Validation: Avg Standard Validation Loss: 2.6661\n",
      "Validation: Avg Attenuated Validation Loss: 4.8450\n",
      "Validation Loss for Scheduler: 2.6661\n",
      "saving model\n"
     ]
    },
    {
     "name": "stdout",
     "output_type": "stream",
     "text": [
      "Epoch [67/100], Learning Rate: 1e-05, Teacher forcing ratio: 0.7077888\n",
      "Training: Avg Attenuated Training Loss: 1.1580\n"
     ]
    },
    {
     "name": "stdout",
     "output_type": "stream",
     "text": [
      "Validation: Avg Standard Validation Loss: 2.6898\n",
      "Validation: Avg Attenuated Validation Loss: 5.8765\n",
      "Validation Loss for Scheduler: 2.6898\n",
      "saving model\n"
     ]
    },
    {
     "name": "stdout",
     "output_type": "stream",
     "text": [
      "Epoch [68/100], Learning Rate: 1e-05, Teacher forcing ratio: 0.7077888\n",
      "Training: Avg Attenuated Training Loss: 1.2065\n"
     ]
    },
    {
     "name": "stdout",
     "output_type": "stream",
     "text": [
      "Validation: Avg Standard Validation Loss: 2.6708\n",
      "Validation: Avg Attenuated Validation Loss: 5.2789\n",
      "Validation Loss for Scheduler: 2.6708\n",
      "saving model\n"
     ]
    },
    {
     "name": "stdout",
     "output_type": "stream",
     "text": [
      "Epoch [69/100], Learning Rate: 1e-05, Teacher forcing ratio: 0.7077888\n",
      "Training: Avg Attenuated Training Loss: 1.2044\n"
     ]
    },
    {
     "name": "stdout",
     "output_type": "stream",
     "text": [
      "Validation: Avg Standard Validation Loss: 2.6627\n",
      "Validation: Avg Attenuated Validation Loss: 5.1541\n",
      "Validation Loss for Scheduler: 2.6627\n",
      "saving model\n"
     ]
    },
    {
     "name": "stdout",
     "output_type": "stream",
     "text": [
      "Epoch [70/100], Learning Rate: 1e-05, Teacher forcing ratio: 0.7077888\n",
      "Training: Avg Attenuated Training Loss: 0.9909\n"
     ]
    },
    {
     "name": "stdout",
     "output_type": "stream",
     "text": [
      "Validation: Avg Standard Validation Loss: 2.6438\n",
      "Validation: Avg Attenuated Validation Loss: 6.1824\n",
      "Validation Loss for Scheduler: 2.6438\n",
      "saving model\n"
     ]
    },
    {
     "name": "stdout",
     "output_type": "stream",
     "text": [
      "Epoch [71/100], Learning Rate: 1e-05, Teacher forcing ratio: 0.7077888\n",
      "Training: Avg Attenuated Training Loss: 1.2316\n"
     ]
    },
    {
     "name": "stdout",
     "output_type": "stream",
     "text": [
      "Validation: Avg Standard Validation Loss: 2.6299\n",
      "Validation: Avg Attenuated Validation Loss: 5.0763\n",
      "Validation Loss for Scheduler: 2.6299\n",
      "saving model\n"
     ]
    },
    {
     "name": "stdout",
     "output_type": "stream",
     "text": [
      "Epoch [72/100], Learning Rate: 1e-05, Teacher forcing ratio: 0.7077888\n",
      "Training: Avg Attenuated Training Loss: 1.4203\n"
     ]
    },
    {
     "name": "stdout",
     "output_type": "stream",
     "text": [
      "Validation: Avg Standard Validation Loss: 2.6216\n",
      "Validation: Avg Attenuated Validation Loss: 5.9413\n",
      "Validation Loss for Scheduler: 2.6216\n",
      "saving model\n"
     ]
    },
    {
     "name": "stdout",
     "output_type": "stream",
     "text": [
      "Epoch [73/100], Learning Rate: 1e-05, Teacher forcing ratio: 0.7077888\n",
      "Training: Avg Attenuated Training Loss: 1.8442\n"
     ]
    },
    {
     "name": "stdout",
     "output_type": "stream",
     "text": [
      "Validation: Avg Standard Validation Loss: 2.6292\n",
      "Validation: Avg Attenuated Validation Loss: 5.4755\n",
      "Validation Loss for Scheduler: 2.6292\n",
      "saving model\n"
     ]
    },
    {
     "name": "stdout",
     "output_type": "stream",
     "text": [
      "Epoch [74/100], Learning Rate: 1e-05, Teacher forcing ratio: 0.7077888\n",
      "Training: Avg Attenuated Training Loss: 0.8872\n"
     ]
    },
    {
     "name": "stdout",
     "output_type": "stream",
     "text": [
      "Validation: Avg Standard Validation Loss: 2.6155\n",
      "Validation: Avg Attenuated Validation Loss: 5.3430\n",
      "Validation Loss for Scheduler: 2.6155\n",
      "saving model\n"
     ]
    },
    {
     "name": "stdout",
     "output_type": "stream",
     "text": [
      "Epoch [75/100], Learning Rate: 1e-05, Teacher forcing ratio: 0.7077888\n",
      "Training: Avg Attenuated Training Loss: 1.8202\n"
     ]
    },
    {
     "name": "stdout",
     "output_type": "stream",
     "text": [
      "Validation: Avg Standard Validation Loss: 2.7168\n",
      "Validation: Avg Attenuated Validation Loss: 3.1709\n",
      "Validation Loss for Scheduler: 2.7168\n",
      "saving model\n"
     ]
    },
    {
     "name": "stdout",
     "output_type": "stream",
     "text": [
      "Epoch [76/100], Learning Rate: 1e-05, Teacher forcing ratio: 0.7077888\n",
      "Training: Avg Attenuated Training Loss: 0.9762\n"
     ]
    },
    {
     "name": "stdout",
     "output_type": "stream",
     "text": [
      "Validation: Avg Standard Validation Loss: 2.6977\n",
      "Validation: Avg Attenuated Validation Loss: 2.3864\n",
      "Validation Loss for Scheduler: 2.6977\n",
      "saving model\n"
     ]
    },
    {
     "name": "stdout",
     "output_type": "stream",
     "text": [
      "Epoch [77/100], Learning Rate: 1e-05, Teacher forcing ratio: 0.7077888\n",
      "Training: Avg Attenuated Training Loss: 1.5164\n"
     ]
    },
    {
     "name": "stdout",
     "output_type": "stream",
     "text": [
      "Validation: Avg Standard Validation Loss: 2.5969\n",
      "Validation: Avg Attenuated Validation Loss: 5.4195\n",
      "Validation Loss for Scheduler: 2.5969\n",
      "saving model\n"
     ]
    },
    {
     "name": "stdout",
     "output_type": "stream",
     "text": [
      "Epoch [78/100], Learning Rate: 1e-05, Teacher forcing ratio: 0.7077888\n",
      "Training: Avg Attenuated Training Loss: 1.3681\n"
     ]
    },
    {
     "name": "stdout",
     "output_type": "stream",
     "text": [
      "Validation: Avg Standard Validation Loss: 2.5722\n",
      "Validation: Avg Attenuated Validation Loss: 4.9118\n",
      "Validation Loss for Scheduler: 2.5722\n",
      "saving model\n"
     ]
    },
    {
     "name": "stdout",
     "output_type": "stream",
     "text": [
      "Epoch [79/100], Learning Rate: 1e-05, Teacher forcing ratio: 0.7077888\n",
      "Training: Avg Attenuated Training Loss: 1.1129\n"
     ]
    },
    {
     "name": "stdout",
     "output_type": "stream",
     "text": [
      "Validation: Avg Standard Validation Loss: 2.5381\n",
      "Validation: Avg Attenuated Validation Loss: 5.9656\n",
      "Validation Loss for Scheduler: 2.5381\n",
      "saving model\n"
     ]
    },
    {
     "name": "stdout",
     "output_type": "stream",
     "text": [
      "Epoch [80/100], Learning Rate: 1e-05, Teacher forcing ratio: 0.7077888\n",
      "Training: Avg Attenuated Training Loss: 1.3654\n"
     ]
    },
    {
     "name": "stdout",
     "output_type": "stream",
     "text": [
      "Validation: Avg Standard Validation Loss: 2.5647\n",
      "Validation: Avg Attenuated Validation Loss: 6.1275\n",
      "Validation Loss for Scheduler: 2.5647\n",
      "saving model\n"
     ]
    },
    {
     "name": "stdout",
     "output_type": "stream",
     "text": [
      "Epoch [81/100], Learning Rate: 1e-05, Teacher forcing ratio: 0.679477248\n",
      "Training: Avg Attenuated Training Loss: 1.0810\n"
     ]
    },
    {
     "name": "stdout",
     "output_type": "stream",
     "text": [
      "Validation: Avg Standard Validation Loss: 2.6263\n",
      "Validation: Avg Attenuated Validation Loss: 8.4456\n",
      "Validation Loss for Scheduler: 2.6263\n",
      "saving model\n"
     ]
    },
    {
     "name": "stdout",
     "output_type": "stream",
     "text": [
      "Epoch [82/100], Learning Rate: 1e-05, Teacher forcing ratio: 0.679477248\n",
      "Training: Avg Attenuated Training Loss: 1.7150\n"
     ]
    },
    {
     "name": "stdout",
     "output_type": "stream",
     "text": [
      "Validation: Avg Standard Validation Loss: 2.5588\n",
      "Validation: Avg Attenuated Validation Loss: 4.5166\n",
      "Validation Loss for Scheduler: 2.5588\n",
      "saving model\n"
     ]
    },
    {
     "name": "stdout",
     "output_type": "stream",
     "text": [
      "Epoch [83/100], Learning Rate: 1.0000000000000002e-06, Teacher forcing ratio: 0.679477248\n",
      "Training: Avg Attenuated Training Loss: 0.9468\n"
     ]
    },
    {
     "name": "stdout",
     "output_type": "stream",
     "text": [
      "Validation: Avg Standard Validation Loss: 2.5566\n",
      "Validation: Avg Attenuated Validation Loss: 5.7799\n",
      "Validation Loss for Scheduler: 2.5566\n",
      "saving model\n"
     ]
    },
    {
     "name": "stdout",
     "output_type": "stream",
     "text": [
      "Epoch [84/100], Learning Rate: 1.0000000000000002e-06, Teacher forcing ratio: 0.679477248\n",
      "Training: Avg Attenuated Training Loss: 1.0289\n"
     ]
    },
    {
     "name": "stdout",
     "output_type": "stream",
     "text": [
      "Validation: Avg Standard Validation Loss: 2.5728\n",
      "Validation: Avg Attenuated Validation Loss: 5.6632\n",
      "Validation Loss for Scheduler: 2.5728\n",
      "saving model\n"
     ]
    },
    {
     "name": "stdout",
     "output_type": "stream",
     "text": [
      "Epoch [85/100], Learning Rate: 1.0000000000000002e-06, Teacher forcing ratio: 0.679477248\n",
      "Training: Avg Attenuated Training Loss: 1.6955\n"
     ]
    },
    {
     "name": "stdout",
     "output_type": "stream",
     "text": [
      "Validation: Avg Standard Validation Loss: 2.5637\n",
      "Validation: Avg Attenuated Validation Loss: 4.7641\n",
      "Validation Loss for Scheduler: 2.5637\n",
      "saving model\n"
     ]
    },
    {
     "name": "stdout",
     "output_type": "stream",
     "text": [
      "Epoch [86/100], Learning Rate: 1.0000000000000002e-07, Teacher forcing ratio: 0.679477248\n",
      "Training: Avg Attenuated Training Loss: 1.3164\n"
     ]
    },
    {
     "name": "stdout",
     "output_type": "stream",
     "text": [
      "Validation: Avg Standard Validation Loss: 2.5530\n",
      "Validation: Avg Attenuated Validation Loss: 5.4265\n",
      "Validation Loss for Scheduler: 2.5530\n",
      "saving model\n"
     ]
    },
    {
     "name": "stdout",
     "output_type": "stream",
     "text": [
      "Epoch [87/100], Learning Rate: 1.0000000000000002e-07, Teacher forcing ratio: 0.679477248\n",
      "Training: Avg Attenuated Training Loss: 1.9809\n"
     ]
    },
    {
     "name": "stdout",
     "output_type": "stream",
     "text": [
      "Validation: Avg Standard Validation Loss: 2.5236\n",
      "Validation: Avg Attenuated Validation Loss: 4.9569\n",
      "Validation Loss for Scheduler: 2.5236\n",
      "saving model\n"
     ]
    },
    {
     "name": "stdout",
     "output_type": "stream",
     "text": [
      "Epoch [88/100], Learning Rate: 1.0000000000000002e-07, Teacher forcing ratio: 0.679477248\n",
      "Training: Avg Attenuated Training Loss: 1.1669\n"
     ]
    },
    {
     "name": "stdout",
     "output_type": "stream",
     "text": [
      "Validation: Avg Standard Validation Loss: 2.5259\n",
      "Validation: Avg Attenuated Validation Loss: 5.3329\n",
      "Validation Loss for Scheduler: 2.5259\n",
      "saving model\n"
     ]
    },
    {
     "name": "stdout",
     "output_type": "stream",
     "text": [
      "Epoch [89/100], Learning Rate: 1.0000000000000002e-07, Teacher forcing ratio: 0.679477248\n",
      "Training: Avg Attenuated Training Loss: 1.0285\n"
     ]
    },
    {
     "name": "stdout",
     "output_type": "stream",
     "text": [
      "Validation: Avg Standard Validation Loss: 2.5568\n",
      "Validation: Avg Attenuated Validation Loss: 5.3048\n",
      "Validation Loss for Scheduler: 2.5568\n",
      "saving model\n"
     ]
    },
    {
     "name": "stdout",
     "output_type": "stream",
     "text": [
      "Epoch [90/100], Learning Rate: 1.0000000000000002e-07, Teacher forcing ratio: 0.679477248\n",
      "Training: Avg Attenuated Training Loss: 1.0881\n"
     ]
    },
    {
     "name": "stdout",
     "output_type": "stream",
     "text": [
      "Validation: Avg Standard Validation Loss: 2.5603\n",
      "Validation: Avg Attenuated Validation Loss: 5.4870\n",
      "Validation Loss for Scheduler: 2.5603\n",
      "saving model\n"
     ]
    },
    {
     "name": "stdout",
     "output_type": "stream",
     "text": [
      "Epoch [91/100], Learning Rate: 1.0000000000000004e-08, Teacher forcing ratio: 0.679477248\n",
      "Training: Avg Attenuated Training Loss: 1.2835\n"
     ]
    },
    {
     "name": "stdout",
     "output_type": "stream",
     "text": [
      "Validation: Avg Standard Validation Loss: 2.5876\n",
      "Validation: Avg Attenuated Validation Loss: 5.8448\n",
      "Validation Loss for Scheduler: 2.5876\n",
      "saving model\n"
     ]
    },
    {
     "name": "stdout",
     "output_type": "stream",
     "text": [
      "Epoch [92/100], Learning Rate: 1.0000000000000004e-08, Teacher forcing ratio: 0.679477248\n",
      "Training: Avg Attenuated Training Loss: 1.2189\n"
     ]
    },
    {
     "name": "stdout",
     "output_type": "stream",
     "text": [
      "Validation: Avg Standard Validation Loss: 2.5429\n",
      "Validation: Avg Attenuated Validation Loss: 5.7677\n",
      "Validation Loss for Scheduler: 2.5429\n",
      "saving model\n"
     ]
    },
    {
     "name": "stdout",
     "output_type": "stream",
     "text": [
      "Epoch [93/100], Learning Rate: 1.0000000000000004e-08, Teacher forcing ratio: 0.679477248\n",
      "Training: Avg Attenuated Training Loss: 1.2571\n"
     ]
    },
    {
     "name": "stdout",
     "output_type": "stream",
     "text": [
      "Validation: Avg Standard Validation Loss: 2.5609\n",
      "Validation: Avg Attenuated Validation Loss: 5.8924\n",
      "Validation Loss for Scheduler: 2.5609\n",
      "saving model\n"
     ]
    },
    {
     "name": "stdout",
     "output_type": "stream",
     "text": [
      "Epoch [94/100], Learning Rate: 1.0000000000000004e-08, Teacher forcing ratio: 0.679477248\n",
      "Training: Avg Attenuated Training Loss: 1.0669\n"
     ]
    },
    {
     "name": "stdout",
     "output_type": "stream",
     "text": [
      "Validation: Avg Standard Validation Loss: 2.5798\n",
      "Validation: Avg Attenuated Validation Loss: 5.6329\n",
      "Validation Loss for Scheduler: 2.5798\n",
      "saving model\n"
     ]
    },
    {
     "name": "stdout",
     "output_type": "stream",
     "text": [
      "Epoch [95/100], Learning Rate: 1.0000000000000004e-08, Teacher forcing ratio: 0.679477248\n",
      "Training: Avg Attenuated Training Loss: 1.1664\n"
     ]
    },
    {
     "name": "stdout",
     "output_type": "stream",
     "text": [
      "Validation: Avg Standard Validation Loss: 2.5322\n",
      "Validation: Avg Attenuated Validation Loss: 5.2056\n",
      "Validation Loss for Scheduler: 2.5322\n",
      "saving model\n"
     ]
    },
    {
     "name": "stdout",
     "output_type": "stream",
     "text": [
      "Epoch [96/100], Learning Rate: 1.0000000000000004e-08, Teacher forcing ratio: 0.679477248\n",
      "Training: Avg Attenuated Training Loss: 1.9819\n"
     ]
    },
    {
     "name": "stdout",
     "output_type": "stream",
     "text": [
      "Validation: Avg Standard Validation Loss: 2.5814\n",
      "Validation: Avg Attenuated Validation Loss: 6.6751\n",
      "Validation Loss for Scheduler: 2.5814\n",
      "saving model\n"
     ]
    },
    {
     "name": "stdout",
     "output_type": "stream",
     "text": [
      "Epoch [97/100], Learning Rate: 1.0000000000000004e-08, Teacher forcing ratio: 0.679477248\n",
      "Training: Avg Attenuated Training Loss: 1.9916\n"
     ]
    },
    {
     "name": "stdout",
     "output_type": "stream",
     "text": [
      "Validation: Avg Standard Validation Loss: 2.5592\n",
      "Validation: Avg Attenuated Validation Loss: 5.3017\n",
      "Validation Loss for Scheduler: 2.5592\n",
      "saving model\n"
     ]
    },
    {
     "name": "stdout",
     "output_type": "stream",
     "text": [
      "Epoch [98/100], Learning Rate: 1.0000000000000004e-08, Teacher forcing ratio: 0.679477248\n",
      "Training: Avg Attenuated Training Loss: 0.8861\n"
     ]
    },
    {
     "name": "stdout",
     "output_type": "stream",
     "text": [
      "Validation: Avg Standard Validation Loss: 2.5476\n",
      "Validation: Avg Attenuated Validation Loss: 5.7279\n",
      "Validation Loss for Scheduler: 2.5476\n",
      "saving model\n"
     ]
    },
    {
     "name": "stdout",
     "output_type": "stream",
     "text": [
      "Epoch [99/100], Learning Rate: 1.0000000000000004e-08, Teacher forcing ratio: 0.679477248\n",
      "Training: Avg Attenuated Training Loss: 2.0103\n"
     ]
    },
    {
     "name": "stdout",
     "output_type": "stream",
     "text": [
      "Validation: Avg Standard Validation Loss: 2.5076\n",
      "Validation: Avg Attenuated Validation Loss: 5.2063\n",
      "Validation Loss for Scheduler: 2.5076\n",
      "saving model\n"
     ]
    },
    {
     "name": "stdout",
     "output_type": "stream",
     "text": [
      "Epoch [100/100], Learning Rate: 1.0000000000000004e-08, Teacher forcing ratio: 0.679477248\n",
      "Training: Avg Attenuated Training Loss: 1.6100\n"
     ]
    },
    {
     "name": "stdout",
     "output_type": "stream",
     "text": [
      "Validation: Avg Standard Validation Loss: 2.5337\n",
      "Validation: Avg Attenuated Validation Loss: 5.3142\n",
      "Validation Loss for Scheduler: 2.5337\n",
      "saving model\n",
      "Training complete.\n",
      "Model saved to path: Helpdesk_full_grad_norm_new_2.pkl\n"
     ]
    }
   ],
   "source": [
    "import trainer.trainer\n",
    "importlib.reload(trainer.trainer)\n",
    "from trainer.trainer import Trainer\n",
    "from torch.optim.lr_scheduler import ReduceLROnPlateau\n",
    "\n",
    "from torch.utils.tensorboard import SummaryWriter\n",
    "\n",
    "writer = SummaryWriter(comment=\"Full_Helpdesk_grad\")\n",
    "\n",
    "# device\n",
    "device = torch.device(\"cuda\" if torch.cuda.is_available() else \"cpu\")\n",
    "\n",
    "# lambda for L2 (weight, bias, dropout) regularization\n",
    "# regularization_term = 1e-3\n",
    "\n",
    "# Start learning rate\n",
    "learning_rate = 1e-5\n",
    "\n",
    "# Optimizer and Scheduler\n",
    "optimizer = torch.optim.Adam(params=model.parameters(), lr=learning_rate, weight_decay=0)\n",
    "scheduler = ReduceLROnPlateau(optimizer, mode='min', factor=0.1, patience=2, min_lr=1e-10)\n",
    "\n",
    "# Epochs\n",
    "num_epochs = 100\n",
    "\n",
    "# BATCHING does not work currntly with custom implementation\n",
    "batch_size = 128\n",
    "\n",
    "# lambda for L2 (weight, bias, dropout) regularization: According to formula: 1/2N\n",
    "# regularization_term = 1.0/(2.0*batch_size)\n",
    "regularization_term = 1e-4\n",
    "\n",
    "# shuffle data\n",
    "shuffle = True\n",
    "\n",
    "# Teacher forcing: Smaller 0.5 more target events are used for next event prediction.\n",
    "teacher_forcing_ratio = 0.8\n",
    "\n",
    "optimize_values = {\"regularization_term\":regularization_term,\n",
    "                   \"optimizer\":optimizer,\n",
    "                   \"scheduler\": scheduler,\n",
    "                   \"epochs\":num_epochs,\n",
    "                   \"mini_batches\":batch_size,\n",
    "                   \"shuffle\": shuffle,\n",
    "                   \"teacher_forcing_ratio\":teacher_forcing_ratio,}\n",
    "\n",
    "suffix_data_split_value = 4\n",
    "\n",
    "# GradNorm parameter\n",
    "use_gradnorm = True\n",
    "gn_alpha = 1.5\n",
    "gn_learning_rate = 1e-4\n",
    "\n",
    "number_tasks = len(dec_feat[0]) + len(dec_feat[1])\n",
    "\n",
    "gradNorm = {\"use_gradnorm\":use_gradnorm,\n",
    "            \"number_tasks\": number_tasks,\n",
    "            \"gn_alpha\":gn_alpha,\n",
    "            \"gn_learning_rate\": gn_learning_rate}\n",
    "\n",
    "trainer = Trainer(device=device,\n",
    "                  model=model,\n",
    "                  data_train=helpdesk_train_dataset,\n",
    "                  data_val=helpdesk_val_dataset,\n",
    "                  loss_obj=loss_obj,\n",
    "                  log_normal_loss_num_feature = [],\n",
    "                  optimize_values=optimize_values,\n",
    "                  suffix_data_split_value=suffix_data_split_value,\n",
    "                  writer=writer,\n",
    "                  gradnorm_values=gradNorm,\n",
    "                  save_model_n_th_epoch = 1,\n",
    "                  saving_path = 'Helpdesk_full_grad_norm_new_2.pkl')\n",
    "\n",
    "# Train the model:\n",
    "train_attenuated_losses, val_losses, val_attenuated_losses = trainer.train_model()"
   ]
  },
  {
   "cell_type": "markdown",
   "metadata": {},
   "source": [
    "# Training Visualization"
   ]
  },
  {
   "cell_type": "code",
   "execution_count": 8,
   "metadata": {
    "execution": {
     "iopub.execute_input": "2025-04-25T10:47:46.374861Z",
     "iopub.status.busy": "2025-04-25T10:47:46.374640Z",
     "iopub.status.idle": "2025-04-25T10:47:46.631755Z",
     "shell.execute_reply": "2025-04-25T10:47:46.631439Z"
    }
   },
   "outputs": [
    {
     "data": {
      "image/png": "[encoded data removed]",
      "text/plain": [
       "<Figure size 640x480 with 1 Axes>"
      ]
     },
     "metadata": {},
     "output_type": "display_data"
    }
   ],
   "source": [
    "import matplotlib.pyplot as plt\n",
    "\n",
    "# After training is finished, plot the loss curves\n",
    "plt.plot(range(1, num_epochs+1), train_attenuated_losses, label='Training Attenuated Loss', color='blue')\n",
    "plt.plot(range(1, num_epochs+1), val_losses, label='Validation Loss', color='orange')\n",
    "plt.plot(range(1, num_epochs+1), val_attenuated_losses, label='Validation Attenuated Loss', color='green')\n",
    "# Labeling x and y axes\n",
    "plt.xlabel('Epochs', fontsize=12)\n",
    "plt.ylabel('Loss', fontsize=12)\n",
    "# Adding title\n",
    "plt.title('Training and Validation Loss Curve', fontsize=14)\n",
    "# Adding legend\n",
    "plt.legend()\n",
    "# Show the plot\n",
    "plt.show()"
   ]
  }
 ],
 "metadata": {
  "kernelspec": {
   "display_name": "PrimePPM-tDGhFIeG",
   "language": "python",
   "name": "python3"
  },
  "language_info": {
   "codemirror_mode": {
    "name": "ipython",
    "version": 3
   },
   "file_extension": ".py",
   "mimetype": "text/x-python",
   "name": "python",
   "nbconvert_exporter": "python",
   "pygments_lexer": "ipython3",
   "version": "3.13.1"
  },
  "widgets": {
   "application/vnd.jupyter.widget-state+json": {
    "state": {
     "0cad60a2014e453dbad0272789a5a646": {
      "model_module": "@jupyter-widgets/controls",
      "model_module_version": "2.0.0",
      "model_name": "HBoxModel",
      "state": {
       "_dom_classes": [],
       "_model_module": "@jupyter-widgets/controls",
       "_model_module_version": "2.0.0",
       "_model_name": "HBoxModel",
       "_view_count": null,
       "_view_module": "@jupyter-widgets/controls",
       "_view_module_version": "2.0.0",
       "_view_name": "HBoxView",
       "box_style": "",
       "children": [
        "IPY_MODEL_18245f2c1c9642d38a6f31e2b4246c66",
        "IPY_MODEL_e493e608d4d1470ab2ab2429b6528272",
        "IPY_MODEL_0d52f4c17bec4b41bf94795bfe443636"
       ],
       "layout": "IPY_MODEL_5a90929f4ac7414bab3c128c03980f68",
       "tabbable": null,
       "tooltip": null
      }
     },
     "0d52f4c17bec4b41bf94795bfe443636": {
      "model_module": "@jupyter-widgets/controls",
      "model_module_version": "2.0.0",
      "model_name": "HTMLModel",
      "state": {
       "_dom_classes": [],
       "_model_module": "@jupyter-widgets/controls",
       "_model_module_version": "2.0.0",
       "_model_name": "HTMLModel",
       "_view_count": null,
       "_view_module": "@jupyter-widgets/controls",
       "_view_module_version": "2.0.0",
       "_view_name": "HTMLView",
       "description": "",
       "description_allow_html": false,
       "layout": "IPY_MODEL_6cba1d6785a24b1c9ac8905a33f4734a",
       "placeholder": "​",
       "style": "IPY_MODEL_945941e1696b4f179badc49f5eee60a4",
       "tabbable": null,
       "tooltip": null,
       "value": " 100/100 [2:05:32&lt;00:00, 45.75s/it]"
      }
     },
     "18245f2c1c9642d38a6f31e2b4246c66": {
      "model_module": "@jupyter-widgets/controls",
      "model_module_version": "2.0.0",
      "model_name": "HTMLModel",
      "state": {
       "_dom_classes": [],
       "_model_module": "@jupyter-widgets/controls",
       "_model_module_version": "2.0.0",
       "_model_name": "HTMLModel",
       "_view_count": null,
       "_view_module": "@jupyter-widgets/controls",
       "_view_module_version": "2.0.0",
       "_view_name": "HTMLView",
       "description": "",
       "description_allow_html": false,
       "layout": "IPY_MODEL_b1995c13c8d54c86bd945d30117bfe00",
       "placeholder": "​",
       "style": "IPY_MODEL_58a2e4daf0a6448b856ca6fba0163f4e",
       "tabbable": null,
       "tooltip": null,
       "value": "100%"
      }
     },
     "58a2e4daf0a6448b856ca6fba0163f4e": {
      "model_module": "@jupyter-widgets/controls",
      "model_module_version": "2.0.0",
      "model_name": "HTMLStyleModel",
      "state": {
       "_model_module": "@jupyter-widgets/controls",
       "_model_module_version": "2.0.0",
       "_model_name": "HTMLStyleModel",
       "_view_count": null,
       "_view_module": "@jupyter-widgets/base",
       "_view_module_version": "2.0.0",
       "_view_name": "StyleView",
       "background": null,
       "description_width": "",
       "font_size": null,
       "text_color": null
      }
     },
     "5a90929f4ac7414bab3c128c03980f68": {
      "model_module": "@jupyter-widgets/base",
      "model_module_version": "2.0.0",
      "model_name": "LayoutModel",
      "state": {
       "_model_module": "@jupyter-widgets/base",
       "_model_module_version": "2.0.0",
       "_model_name": "LayoutModel",
       "_view_count": null,
       "_view_module": "@jupyter-widgets/base",
       "_view_module_version": "2.0.0",
       "_view_name": "LayoutView",
       "align_content": null,
       "align_items": null,
       "align_self": null,
       "border_bottom": null,
       "border_left": null,
       "border_right": null,
       "border_top": null,
       "bottom": null,
       "display": null,
       "flex": null,
       "flex_flow": null,
       "grid_area": null,
       "grid_auto_columns": null,
       "grid_auto_flow": null,
       "grid_auto_rows": null,
       "grid_column": null,
       "grid_gap": null,
       "grid_row": null,
       "grid_template_areas": null,
       "grid_template_columns": null,
       "grid_template_rows": null,
       "height": null,
       "justify_content": null,
       "justify_items": null,
       "left": null,
       "margin": null,
       "max_height": null,
       "max_width": null,
       "min_height": null,
       "min_width": null,
       "object_fit": null,
       "object_position": null,
       "order": null,
       "overflow": null,
       "padding": null,
       "right": null,
       "top": null,
       "visibility": null,
       "width": null
      }
     },
     "6cba1d6785a24b1c9ac8905a33f4734a": {
      "model_module": "@jupyter-widgets/base",
      "model_module_version": "2.0.0",
      "model_name": "LayoutModel",
      "state": {
       "_model_module": "@jupyter-widgets/base",
       "_model_module_version": "2.0.0",
       "_model_name": "LayoutModel",
       "_view_count": null,
       "_view_module": "@jupyter-widgets/base",
       "_view_module_version": "2.0.0",
       "_view_name": "LayoutView",
       "align_content": null,
       "align_items": null,
       "align_self": null,
       "border_bottom": null,
       "border_left": null,
       "border_right": null,
       "border_top": null,
       "bottom": null,
       "display": null,
       "flex": null,
       "flex_flow": null,
       "grid_area": null,
       "grid_auto_columns": null,
       "grid_auto_flow": null,
       "grid_auto_rows": null,
       "grid_column": null,
       "grid_gap": null,
       "grid_row": null,
       "grid_template_areas": null,
       "grid_template_columns": null,
       "grid_template_rows": null,
       "height": null,
       "justify_content": null,
       "justify_items": null,
       "left": null,
       "margin": null,
       "max_height": null,
       "max_width": null,
       "min_height": null,
       "min_width": null,
       "object_fit": null,
       "object_position": null,
       "order": null,
       "overflow": null,
       "padding": null,
       "right": null,
       "top": null,
       "visibility": null,
       "width": null
      }
     },
     "945941e1696b4f179badc49f5eee60a4": {
      "model_module": "@jupyter-widgets/controls",
      "model_module_version": "2.0.0",
      "model_name": "HTMLStyleModel",
      "state": {
       "_model_module": "@jupyter-widgets/controls",
       "_model_module_version": "2.0.0",
       "_model_name": "HTMLStyleModel",
       "_view_count": null,
       "_view_module": "@jupyter-widgets/base",
       "_view_module_version": "2.0.0",
       "_view_name": "StyleView",
       "background": null,
       "description_width": "",
       "font_size": null,
       "text_color": null
      }
     },
     "980aaea1e2704157acfe64a70e120011": {
      "model_module": "@jupyter-widgets/base",
      "model_module_version": "2.0.0",
      "model_name": "LayoutModel",
      "state": {
       "_model_module": "@jupyter-widgets/base",
       "_model_module_version": "2.0.0",
       "_model_name": "LayoutModel",
       "_view_count": null,
       "_view_module": "@jupyter-widgets/base",
       "_view_module_version": "2.0.0",
       "_view_name": "LayoutView",
       "align_content": null,
       "align_items": null,
       "align_self": null,
       "border_bottom": null,
       "border_left": null,
       "border_right": null,
       "border_top": null,
       "bottom": null,
       "display": null,
       "flex": null,
       "flex_flow": null,
       "grid_area": null,
       "grid_auto_columns": null,
       "grid_auto_flow": null,
       "grid_auto_rows": null,
       "grid_column": null,
       "grid_gap": null,
       "grid_row": null,
       "grid_template_areas": null,
       "grid_template_columns": null,
       "grid_template_rows": null,
       "height": null,
       "justify_content": null,
       "justify_items": null,
       "left": null,
       "margin": null,
       "max_height": null,
       "max_width": null,
       "min_height": null,
       "min_width": null,
       "object_fit": null,
       "object_position": null,
       "order": null,
       "overflow": null,
       "padding": null,
       "right": null,
       "top": null,
       "visibility": null,
       "width": null
      }
     },
     "a3e952ec033a4d1e83a28db159832e9e": {
      "model_module": "@jupyter-widgets/controls",
      "model_module_version": "2.0.0",
      "model_name": "ProgressStyleModel",
      "state": {
       "_model_module": "@jupyter-widgets/controls",
       "_model_module_version": "2.0.0",
       "_model_name": "ProgressStyleModel",
       "_view_count": null,
       "_view_module": "@jupyter-widgets/base",
       "_view_module_version": "2.0.0",
       "_view_name": "StyleView",
       "bar_color": null,
       "description_width": ""
      }
     },
     "b1995c13c8d54c86bd945d30117bfe00": {
      "model_module": "@jupyter-widgets/base",
      "model_module_version": "2.0.0",
      "model_name": "LayoutModel",
      "state": {
       "_model_module": "@jupyter-widgets/base",
       "_model_module_version": "2.0.0",
       "_model_name": "LayoutModel",
       "_view_count": null,
       "_view_module": "@jupyter-widgets/base",
       "_view_module_version": "2.0.0",
       "_view_name": "LayoutView",
       "align_content": null,
       "align_items": null,
       "align_self": null,
       "border_bottom": null,
       "border_left": null,
       "border_right": null,
       "border_top": null,
       "bottom": null,
       "display": null,
       "flex": null,
       "flex_flow": null,
       "grid_area": null,
       "grid_auto_columns": null,
       "grid_auto_flow": null,
       "grid_auto_rows": null,
       "grid_column": null,
       "grid_gap": null,
       "grid_row": null,
       "grid_template_areas": null,
       "grid_template_columns": null,
       "grid_template_rows": null,
       "height": null,
       "justify_content": null,
       "justify_items": null,
       "left": null,
       "margin": null,
       "max_height": null,
       "max_width": null,
       "min_height": null,
       "min_width": null,
       "object_fit": null,
       "object_position": null,
       "order": null,
       "overflow": null,
       "padding": null,
       "right": null,
       "top": null,
       "visibility": null,
       "width": null
      }
     },
     "e493e608d4d1470ab2ab2429b6528272": {
      "model_module": "@jupyter-widgets/controls",
      "model_module_version": "2.0.0",
      "model_name": "FloatProgressModel",
      "state": {
       "_dom_classes": [],
       "_model_module": "@jupyter-widgets/controls",
       "_model_module_version": "2.0.0",
       "_model_name": "FloatProgressModel",
       "_view_count": null,
       "_view_module": "@jupyter-widgets/controls",
       "_view_module_version": "2.0.0",
       "_view_name": "ProgressView",
       "bar_style": "success",
       "description": "",
       "description_allow_html": false,
       "layout": "IPY_MODEL_980aaea1e2704157acfe64a70e120011",
       "max": 100.0,
       "min": 0.0,
       "orientation": "horizontal",
       "style": "IPY_MODEL_a3e952ec033a4d1e83a28db159832e9e",
       "tabbable": null,
       "tooltip": null,
       "value": 100.0
      }
     }
    },
    "version_major": 2,
    "version_minor": 0
   }
  }
 },
 "nbformat": 4,
 "nbformat_minor": 4
}
