{
 "cells": [
  {
   "cell_type": "markdown",
   "metadata": {},
   "source": [
    "# Imports"
   ]
  },
  {
   "cell_type": "code",
   "execution_count": 1,
   "metadata": {
    "execution": {
     "iopub.execute_input": "2025-04-29T14:57:21.658437Z",
     "iopub.status.busy": "2025-04-29T14:57:21.658084Z",
     "iopub.status.idle": "2025-04-29T14:57:22.640570Z",
     "shell.execute_reply": "2025-04-29T14:57:22.640221Z"
    }
   },
   "outputs": [],
   "source": [
    "import importlib\n",
    "import sys\n",
    "import torch\n",
    "\n",
    "sys.path.insert(0, '..')\n",
    "sys.path.insert(0, '../..')\n",
    "sys.path.insert(0, '../../..')"
   ]
  },
  {
   "cell_type": "markdown",
   "metadata": {},
   "source": [
    "# Data"
   ]
  },
  {
   "cell_type": "markdown",
   "metadata": {},
   "source": [
    "### Load Data Files"
   ]
  },
  {
   "cell_type": "code",
   "execution_count": 2,
   "metadata": {
    "execution": {
     "iopub.execute_input": "2025-04-29T14:57:22.642172Z",
     "iopub.status.busy": "2025-04-29T14:57:22.642036Z",
     "iopub.status.idle": "2025-04-29T14:57:23.487735Z",
     "shell.execute_reply": "2025-04-29T14:57:23.487314Z"
    }
   },
   "outputs": [
    {
     "name": "stdout",
     "output_type": "stream",
     "text": [
      "<class 'event_log_loader.new_event_log_loader.EventLogDataset'>\n",
      "<class 'event_log_loader.new_event_log_loader.EventLogDataset'>\n"
     ]
    }
   ],
   "source": [
    "# Path to your pickle file (saved with torch.save)\n",
    "file_path_train = '../../../../encoded_data/log_stand/PCR_all_lognormal_5_train.pkl'\n",
    "# Load the dataset using torch.load\n",
    "PCR_train_dataset = torch.load(file_path_train, weights_only=False)\n",
    "# Check the type of the loaded dataset\n",
    "print(type(PCR_train_dataset))\n",
    "\n",
    "# Path to your pickle file (saved with torch.save)\n",
    "file_path_val = '../../../../encoded_data/log_stand/PCR_all_lognormal_5_val.pkl'\n",
    "# Load the dataset using torch.load\n",
    "PCR_val_dataset = torch.load(file_path_val, weights_only=False)\n",
    "# Check the type of the loaded dataset\n",
    "print(type(PCR_val_dataset))"
   ]
  },
  {
   "cell_type": "markdown",
   "metadata": {},
   "source": [
    "### Train Data Insights"
   ]
  },
  {
   "cell_type": "code",
   "execution_count": 3,
   "metadata": {
    "execution": {
     "iopub.execute_input": "2025-04-29T14:57:23.517414Z",
     "iopub.status.busy": "2025-04-29T14:57:23.517181Z",
     "iopub.status.idle": "2025-04-29T14:57:23.520028Z",
     "shell.execute_reply": "2025-04-29T14:57:23.519776Z"
    }
   },
   "outputs": [
    {
     "name": "stdout",
     "output_type": "stream",
     "text": [
      "[('concept:name', 10, {'Callback timeout': 1, 'EOS': 2, 'Export result': 3, 'Export to EMS': 4, 'Match patient data': 5, 'Receive sample state': 6, 'Send notification': 7, 'Wait for plate validation': 8, 'timeout': 9}), ('cpee:lifecycle:transition', 6, {'EOS': 1, 'activity/calling': 2, 'activity/done': 3, 'activity/receiving': 4, 'dataelements/change': 5})]\n",
      "[('day_in_week', 1, {}), ('seconds_in_day', 1, {}), ('case_elapsed_time', 1, {}), ('event_elapsed_time', 1, {})]\n",
      "PCR (5) Categorical feature: concept:name, Index position in categorical data list: 0\n",
      "PCR (5) Total Amount of Category labels: 10\n",
      "PCR (5) Categorical feature: cpee:lifecycle:transition, Index position in categorical data list: 1\n",
      "PCR (5) Total Amount of Category labels: 6\n",
      "\n",
      "\n",
      "PCR (5) Numerical feature: day_in_week, Index position in categorical data list: 0\n",
      "PCR (5) Amount Category Lables: 1\n",
      "PCR (5) Numerical feature: seconds_in_day, Index position in categorical data list: 1\n",
      "PCR (5) Amount Category Lables: 1\n",
      "PCR (5) Numerical feature: case_elapsed_time, Index position in categorical data list: 2\n",
      "PCR (5) Amount Category Lables: 1\n",
      "PCR (5) Numerical feature: event_elapsed_time, Index position in categorical data list: 3\n",
      "PCR (5) Amount Category Lables: 1\n"
     ]
    }
   ],
   "source": [
    "# PCR Dataset Categories, Features:\n",
    "\n",
    "PCR_all_categories = PCR_train_dataset.all_categories\n",
    "\n",
    "PCR_all_categories_cat = PCR_all_categories[0]\n",
    "print(PCR_all_categories_cat)\n",
    "\n",
    "PCR_all_categories_num = PCR_all_categories[1]\n",
    "print(PCR_all_categories_num)\n",
    "\n",
    "for i, cat in enumerate(PCR_all_categories_cat):\n",
    "     print(f\"PCR (5) Categorical feature: {cat[0]}, Index position in categorical data list: {i}\")\n",
    "     print(f\"PCR (5) Total Amount of Category labels: {cat[1]}\")\n",
    "print('\\n')    \n",
    "for i, num in enumerate(PCR_all_categories_num):\n",
    "     print(f\"PCR (5) Numerical feature: {num[0]}, Index position in categorical data list: {i}\")\n",
    "     print(f\"PCR (5) Amount Category Lables: {num[1]}\")"
   ]
  },
  {
   "cell_type": "markdown",
   "metadata": {},
   "source": [
    "### Input Features for Encoder and Decoder"
   ]
  },
  {
   "cell_type": "code",
   "execution_count": 4,
   "metadata": {
    "execution": {
     "iopub.execute_input": "2025-04-29T14:57:23.520823Z",
     "iopub.status.busy": "2025-04-29T14:57:23.520734Z",
     "iopub.status.idle": "2025-04-29T14:57:23.522929Z",
     "shell.execute_reply": "2025-04-29T14:57:23.522688Z"
    }
   },
   "outputs": [
    {
     "name": "stdout",
     "output_type": "stream",
     "text": [
      "Input features encoder:  [['concept:name', 'cpee:lifecycle:transition'], ['day_in_week', 'seconds_in_day', 'case_elapsed_time', 'event_elapsed_time']]\n",
      "Features decoder:  [['concept:name'], ['case_elapsed_time', 'event_elapsed_time']]\n"
     ]
    }
   ],
   "source": [
    "# Create lists with name of Encoder features (input) and decoder features (input & output)\n",
    "\n",
    "# Encoder features:\n",
    "enc_feat_cat = []\n",
    "enc_feat_num = []\n",
    "for cat in PCR_all_categories_cat:\n",
    "    enc_feat_cat.append(cat[0])\n",
    "for num in PCR_all_categories_num:\n",
    "    enc_feat_num.append(num[0])\n",
    "enc_feat = [enc_feat_cat, enc_feat_num]\n",
    "print(\"Input features encoder: \", enc_feat)\n",
    "\n",
    "# Decoder features:\n",
    "dec_feat_cat = ['concept:name']\n",
    "dec_feat_num = ['case_elapsed_time', 'event_elapsed_time']\n",
    "dec_feat = [dec_feat_cat, dec_feat_num]\n",
    "print(\"Features decoder: \", dec_feat)"
   ]
  },
  {
   "cell_type": "markdown",
   "metadata": {},
   "source": [
    "# Model"
   ]
  },
  {
   "cell_type": "code",
   "execution_count": 5,
   "metadata": {
    "execution": {
     "iopub.execute_input": "2025-04-29T14:57:23.523822Z",
     "iopub.status.busy": "2025-04-29T14:57:23.523678Z",
     "iopub.status.idle": "2025-04-29T14:57:23.537831Z",
     "shell.execute_reply": "2025-04-29T14:57:23.537579Z"
    }
   },
   "outputs": [
    {
     "name": "stdout",
     "output_type": "stream",
     "text": [
      "Data set categories:  ([('concept:name', 10, {'Callback timeout': 1, 'EOS': 2, 'Export result': 3, 'Export to EMS': 4, 'Match patient data': 5, 'Receive sample state': 6, 'Send notification': 7, 'Wait for plate validation': 8, 'timeout': 9}), ('cpee:lifecycle:transition', 6, {'EOS': 1, 'activity/calling': 2, 'activity/done': 3, 'activity/receiving': 4, 'dataelements/change': 5})], [('day_in_week', 1, {}), ('seconds_in_day', 1, {}), ('case_elapsed_time', 1, {}), ('event_elapsed_time', 1, {})])\n",
      "Encoder input features:  [['concept:name', 'cpee:lifecycle:transition'], ['day_in_week', 'seconds_in_day', 'case_elapsed_time', 'event_elapsed_time']]\n",
      "Decoder input+output features:  [['concept:name'], ['case_elapsed_time', 'event_elapsed_time']]\n",
      "\n",
      "\n",
      "Sequence length of decoder output:  4\n",
      "\n",
      "\n",
      "Cells hidden size:  128\n",
      "Number of LSTM layer:  4\n",
      "Dropout rate:  0.1\n",
      "\n",
      "\n",
      "Encoder number of labels for each input feature (categorical, numerical):  [[10, 6], [1, 1, 1, 1]]\n",
      "Encoder indices of tensors in dataset used as input:  [[0, 1], [0, 1, 2, 3]]\n",
      "Embeddings encoder:  ModuleList(\n",
      "  (0): Embedding(10, 6)\n",
      "  (1): Embedding(6, 4)\n",
      ")\n",
      "Total embedding feature size encoder:  10\n",
      "Total numerical feature size encoder:  4\n",
      "Input feature size encoder:  14\n",
      "Encoder initialized! \n",
      "\n",
      "Decoder label values size for each categorical input feature:  [10]\n",
      "Decoder label values size for each numerical input feature:  [1, 1]\n",
      "Decoder indices of tensors in dataset used as input:  [[0], [2, 3]]\n",
      "Embeddings decoder:  ModuleList(\n",
      "  (0): Embedding(10, 6)\n",
      ")\n",
      "Total embedding feature size decoder:  6\n",
      "Total numerical feature size decoder:  2\n",
      "Input feature size decoder:  8\n",
      "Output feature list of dicts (featue name, feature output size) of decoder:  [{'concept:name': 10}, {'case_elapsed_time': 1, 'event_elapsed_time': 1}]\n",
      "Decoder initialized! \n",
      "\n",
      "Output feature list of dicts (featue name, tensor index in dataset) of decoder:  [{'concept:name': 0}, {'case_elapsed_time': 2, 'event_elapsed_time': 3}]\n"
     ]
    }
   ],
   "source": [
    "import model.dropout_uncertainty_enc_dec_LSTM.dropout_uncertainty_model\n",
    "importlib.reload(model.dropout_uncertainty_enc_dec_LSTM.dropout_uncertainty_model)\n",
    "from model.dropout_uncertainty_enc_dec_LSTM.dropout_uncertainty_model import DropoutUncertaintyEncoderDecoderLSTM\n",
    "\n",
    "# Prediction decoder output sequence length\n",
    "seq_len_pred = 4\n",
    "\n",
    "# Size hidden layer\n",
    "hidden_size = 128\n",
    "\n",
    "# Number of cells\n",
    "num_layers = 4\n",
    "\n",
    "# Fixed Dropout probability \n",
    "dropout = 0.1\n",
    "\n",
    "# Encoder Decoder model initialization\n",
    "model = DropoutUncertaintyEncoderDecoderLSTM(data_set_categories=PCR_all_categories,\n",
    "                                             enc_feat=enc_feat,\n",
    "                                             dec_feat=dec_feat,\n",
    "                                             seq_len_pred=seq_len_pred,\n",
    "                                             hidden_size=hidden_size,\n",
    "                                             num_layers=num_layers,\n",
    "                                             dropout=dropout)"
   ]
  },
  {
   "cell_type": "markdown",
   "metadata": {},
   "source": [
    "# Loss Object Creation"
   ]
  },
  {
   "cell_type": "code",
   "execution_count": 6,
   "metadata": {
    "execution": {
     "iopub.execute_input": "2025-04-29T14:57:23.538705Z",
     "iopub.status.busy": "2025-04-29T14:57:23.538617Z",
     "iopub.status.idle": "2025-04-29T14:57:23.540769Z",
     "shell.execute_reply": "2025-04-29T14:57:23.540550Z"
    }
   },
   "outputs": [],
   "source": [
    "import loss.losses\n",
    "importlib.reload(loss.losses)\n",
    "from loss.losses import Loss\n",
    "\n",
    "loss_obj = Loss()\n",
    "\n",
    "# Numerical features trained with log-normal loss:\n",
    "log_normal_loss_num_feature = ['case_elapsed_time', 'event_elapsed_time']"
   ]
  },
  {
   "cell_type": "markdown",
   "metadata": {},
   "source": [
    "# Training Configuration"
   ]
  },
  {
   "cell_type": "code",
   "execution_count": 7,
   "metadata": {
    "execution": {
     "iopub.execute_input": "2025-04-29T14:57:23.541705Z",
     "iopub.status.busy": "2025-04-29T14:57:23.541543Z",
     "iopub.status.idle": "2025-04-29T18:40:40.859453Z",
     "shell.execute_reply": "2025-04-29T18:40:40.859120Z"
    }
   },
   "outputs": [
    {
     "name": "stdout",
     "output_type": "stream",
     "text": [
      "Device:  cuda\n",
      "Model:  DropoutUncertaintyEncoderDecoderLSTM(\n",
      "  (embeddings_enc): ModuleList(\n",
      "    (0): Embedding(10, 6)\n",
      "    (1): Embedding(6, 4)\n",
      "  )\n",
      "  (encoder): DropoutUncertaintyLSTMEncoder(\n",
      "    (embeddings): ModuleList(\n",
      "      (0): Embedding(10, 6)\n",
      "      (1): Embedding(6, 4)\n",
      "    )\n",
      "    (first_layer): DropoutUncertaintyLSTMCell(\n",
      "      (Wi): Linear(in_features=14, out_features=128, bias=True)\n",
      "      (Ui): Linear(in_features=128, out_features=128, bias=True)\n",
      "      (Wf): Linear(in_features=14, out_features=128, bias=True)\n",
      "      (Uf): Linear(in_features=128, out_features=128, bias=True)\n",
      "      (Wc): Linear(in_features=14, out_features=128, bias=True)\n",
      "      (Uc): Linear(in_features=128, out_features=128, bias=True)\n",
      "      (Wo): Linear(in_features=14, out_features=128, bias=True)\n",
      "      (Uo): Linear(in_features=128, out_features=128, bias=True)\n",
      "    )\n",
      "    (hidden_layers): ModuleList(\n",
      "      (0-2): 3 x DropoutUncertaintyLSTMCell(\n",
      "        (Wi): Linear(in_features=128, out_features=128, bias=True)\n",
      "        (Ui): Linear(in_features=128, out_features=128, bias=True)\n",
      "        (Wf): Linear(in_features=128, out_features=128, bias=True)\n",
      "        (Uf): Linear(in_features=128, out_features=128, bias=True)\n",
      "        (Wc): Linear(in_features=128, out_features=128, bias=True)\n",
      "        (Uc): Linear(in_features=128, out_features=128, bias=True)\n",
      "        (Wo): Linear(in_features=128, out_features=128, bias=True)\n",
      "        (Uo): Linear(in_features=128, out_features=128, bias=True)\n",
      "      )\n",
      "    )\n",
      "  )\n",
      "  (embeddings_dec): ModuleList(\n",
      "    (0): Embedding(10, 6)\n",
      "  )\n",
      "  (decoder): DropoutUncertaintyLSTMDecoder(\n",
      "    (embeddings): ModuleList(\n",
      "      (0): Embedding(10, 6)\n",
      "    )\n",
      "    (first_layer): DropoutUncertaintyLSTMCell(\n",
      "      (Wi): Linear(in_features=8, out_features=128, bias=True)\n",
      "      (Ui): Linear(in_features=128, out_features=128, bias=True)\n",
      "      (Wf): Linear(in_features=8, out_features=128, bias=True)\n",
      "      (Uf): Linear(in_features=128, out_features=128, bias=True)\n",
      "      (Wc): Linear(in_features=8, out_features=128, bias=True)\n",
      "      (Uc): Linear(in_features=128, out_features=128, bias=True)\n",
      "      (Wo): Linear(in_features=8, out_features=128, bias=True)\n",
      "      (Uo): Linear(in_features=128, out_features=128, bias=True)\n",
      "    )\n",
      "    (hidden_layers): ModuleList(\n",
      "      (0-2): 3 x DropoutUncertaintyLSTMCell(\n",
      "        (Wi): Linear(in_features=128, out_features=128, bias=True)\n",
      "        (Ui): Linear(in_features=128, out_features=128, bias=True)\n",
      "        (Wf): Linear(in_features=128, out_features=128, bias=True)\n",
      "        (Uf): Linear(in_features=128, out_features=128, bias=True)\n",
      "        (Wc): Linear(in_features=128, out_features=128, bias=True)\n",
      "        (Uc): Linear(in_features=128, out_features=128, bias=True)\n",
      "        (Wo): Linear(in_features=128, out_features=128, bias=True)\n",
      "        (Uo): Linear(in_features=128, out_features=128, bias=True)\n",
      "      )\n",
      "    )\n",
      "    (output_layers): ModuleDict(\n",
      "      (concept:name_mean): Linear(in_features=128, out_features=10, bias=True)\n",
      "      (concept:name_var): Linear(in_features=128, out_features=10, bias=True)\n",
      "      (case_elapsed_time_mean): Linear(in_features=128, out_features=1, bias=True)\n",
      "      (case_elapsed_time_var): Linear(in_features=128, out_features=1, bias=True)\n",
      "      (event_elapsed_time_mean): Linear(in_features=128, out_features=1, bias=True)\n",
      "      (event_elapsed_time_var): Linear(in_features=128, out_features=1, bias=True)\n",
      "    )\n",
      "  )\n",
      ")\n",
      "Train Dataset:  <event_log_loader.new_event_log_loader.EventLogDataset object at 0x7f9e9762c980>\n",
      "Validation Dataset:  <event_log_loader.new_event_log_loader.EventLogDataset object at 0x7f9e93403b10>\n",
      "Loss object for method calling:  <loss.losses.Loss object at 0x7f9e940a9400>\n",
      "Num. feautures that follow log-normal PDF:  ['case_elapsed_time', 'event_elapsed_time']\n",
      "regularization:  0.0001\n",
      "Optimizer:  AdamW (\n",
      "Parameter Group 0\n",
      "    amsgrad: False\n",
      "    betas: (0.9, 0.999)\n",
      "    capturable: False\n",
      "    differentiable: False\n",
      "    eps: 1e-08\n",
      "    foreach: None\n",
      "    fused: None\n",
      "    lr: 0.0001\n",
      "    maximize: False\n",
      "    weight_decay: 0\n",
      ")\n",
      "Scheduler:  <torch.optim.lr_scheduler.ReduceLROnPlateau object at 0x7f9e8ad2e270>\n",
      "Epochs:  100\n",
      "Mini baches:  128\n",
      "Shuffle batched dataset:  True\n",
      "Teacher forcing ratio:  0.8\n",
      "Use GradNorm:  True\n",
      "GradNorm alpha:  1.5\n",
      "GradNorm learning rate:  0.0001\n",
      "Initial GradNorm loss weights:  Parameter containing:\n",
      "tensor([1., 1., 1.], requires_grad=True)\n",
      "Initial loss values:  None\n",
      "GradNorm optimizer:  Adam (\n",
      "Parameter Group 0\n",
      "    amsgrad: False\n",
      "    betas: (0.9, 0.999)\n",
      "    capturable: False\n",
      "    differentiable: False\n",
      "    eps: 1e-08\n",
      "    foreach: None\n",
      "    fused: None\n",
      "    lr: 0.0001\n",
      "    maximize: False\n",
      "    weight_decay: 0\n",
      ")\n"
     ]
    },
    {
     "data": {
      "application/vnd.jupyter.widget-view+json": {
       "model_id": "0306d39bb5df41348b94774e084a6fc0",
       "version_major": 2,
       "version_minor": 0
      },
      "text/plain": [
       "  0%|          | 0/100 [00:00<?, ?it/s]"
      ]
     },
     "metadata": {},
     "output_type": "display_data"
    },
    {
     "name": "stdout",
     "output_type": "stream",
     "text": [
      "Epoch [1/100], Learning Rate: 0.0001, Teacher forcing ratio: 0.8\n",
      "Training: Avg Attenuated Training Loss: 1.1773\n"
     ]
    },
    {
     "name": "stdout",
     "output_type": "stream",
     "text": [
      "Validation: Avg Standard Validation Loss: 1.8694\n",
      "Validation: Avg Attenuated Validation Loss: 0.1249\n",
      "Validation Loss for Scheduler: 1.8694\n",
      "saving model\n"
     ]
    },
    {
     "name": "stdout",
     "output_type": "stream",
     "text": [
      "Epoch [2/100], Learning Rate: 0.0001, Teacher forcing ratio: 0.8\n",
      "Training: Avg Attenuated Training Loss: -0.0690\n"
     ]
    },
    {
     "name": "stdout",
     "output_type": "stream",
     "text": [
      "Validation: Avg Standard Validation Loss: 1.6031\n",
      "Validation: Avg Attenuated Validation Loss: -0.0500\n",
      "Validation Loss for Scheduler: 1.6031\n",
      "saving model\n"
     ]
    },
    {
     "name": "stdout",
     "output_type": "stream",
     "text": [
      "Epoch [3/100], Learning Rate: 0.0001, Teacher forcing ratio: 0.8\n",
      "Training: Avg Attenuated Training Loss: -0.5413\n"
     ]
    },
    {
     "name": "stdout",
     "output_type": "stream",
     "text": [
      "Validation: Avg Standard Validation Loss: 1.4422\n",
      "Validation: Avg Attenuated Validation Loss: -0.1518\n",
      "Validation Loss for Scheduler: 1.4422\n",
      "saving model\n"
     ]
    },
    {
     "name": "stdout",
     "output_type": "stream",
     "text": [
      "Epoch [4/100], Learning Rate: 0.0001, Teacher forcing ratio: 0.8\n",
      "Training: Avg Attenuated Training Loss: -0.8768\n"
     ]
    },
    {
     "name": "stdout",
     "output_type": "stream",
     "text": [
      "Validation: Avg Standard Validation Loss: 1.3177\n",
      "Validation: Avg Attenuated Validation Loss: -0.2559\n",
      "Validation Loss for Scheduler: 1.3177\n",
      "saving model\n"
     ]
    },
    {
     "name": "stdout",
     "output_type": "stream",
     "text": [
      "Epoch [5/100], Learning Rate: 0.0001, Teacher forcing ratio: 0.8\n",
      "Training: Avg Attenuated Training Loss: -1.1077\n"
     ]
    },
    {
     "name": "stdout",
     "output_type": "stream",
     "text": [
      "Validation: Avg Standard Validation Loss: 1.1857\n",
      "Validation: Avg Attenuated Validation Loss: -0.0150\n",
      "Validation Loss for Scheduler: 1.1857\n",
      "saving model\n"
     ]
    },
    {
     "name": "stdout",
     "output_type": "stream",
     "text": [
      "Epoch [6/100], Learning Rate: 0.0001, Teacher forcing ratio: 0.8\n",
      "Training: Avg Attenuated Training Loss: -1.2261\n"
     ]
    },
    {
     "name": "stdout",
     "output_type": "stream",
     "text": [
      "Validation: Avg Standard Validation Loss: 1.0857\n",
      "Validation: Avg Attenuated Validation Loss: -0.3121\n",
      "Validation Loss for Scheduler: 1.0857\n",
      "saving model\n"
     ]
    },
    {
     "name": "stdout",
     "output_type": "stream",
     "text": [
      "Epoch [7/100], Learning Rate: 0.0001, Teacher forcing ratio: 0.8\n",
      "Training: Avg Attenuated Training Loss: -1.3806\n"
     ]
    },
    {
     "name": "stdout",
     "output_type": "stream",
     "text": [
      "Validation: Avg Standard Validation Loss: 1.0299\n",
      "Validation: Avg Attenuated Validation Loss: -0.2527\n",
      "Validation Loss for Scheduler: 1.0299\n",
      "saving model\n"
     ]
    },
    {
     "name": "stdout",
     "output_type": "stream",
     "text": [
      "Epoch [8/100], Learning Rate: 0.0001, Teacher forcing ratio: 0.8\n",
      "Training: Avg Attenuated Training Loss: -1.4817\n"
     ]
    },
    {
     "name": "stdout",
     "output_type": "stream",
     "text": [
      "Validation: Avg Standard Validation Loss: 0.9738\n",
      "Validation: Avg Attenuated Validation Loss: -0.6608\n",
      "Validation Loss for Scheduler: 0.9738\n",
      "saving model\n"
     ]
    },
    {
     "name": "stdout",
     "output_type": "stream",
     "text": [
      "Epoch [9/100], Learning Rate: 0.0001, Teacher forcing ratio: 0.8\n",
      "Training: Avg Attenuated Training Loss: -1.5695\n"
     ]
    },
    {
     "name": "stdout",
     "output_type": "stream",
     "text": [
      "Validation: Avg Standard Validation Loss: 0.9735\n",
      "Validation: Avg Attenuated Validation Loss: -0.5040\n",
      "Validation Loss for Scheduler: 0.9735\n",
      "saving model\n"
     ]
    },
    {
     "name": "stdout",
     "output_type": "stream",
     "text": [
      "Epoch [10/100], Learning Rate: 0.0001, Teacher forcing ratio: 0.8\n",
      "Training: Avg Attenuated Training Loss: -1.2719\n"
     ]
    },
    {
     "name": "stdout",
     "output_type": "stream",
     "text": [
      "Validation: Avg Standard Validation Loss: 0.9163\n",
      "Validation: Avg Attenuated Validation Loss: 0.7262\n",
      "Validation Loss for Scheduler: 0.9163\n",
      "saving model\n"
     ]
    },
    {
     "name": "stdout",
     "output_type": "stream",
     "text": [
      "Epoch [11/100], Learning Rate: 0.0001, Teacher forcing ratio: 0.8\n",
      "Training: Avg Attenuated Training Loss: -1.2134\n"
     ]
    },
    {
     "name": "stdout",
     "output_type": "stream",
     "text": [
      "Validation: Avg Standard Validation Loss: 0.8919\n",
      "Validation: Avg Attenuated Validation Loss: -0.2757\n",
      "Validation Loss for Scheduler: 0.8919\n",
      "saving model\n"
     ]
    },
    {
     "name": "stdout",
     "output_type": "stream",
     "text": [
      "Epoch [12/100], Learning Rate: 0.0001, Teacher forcing ratio: 0.8\n",
      "Training: Avg Attenuated Training Loss: -1.2708\n"
     ]
    },
    {
     "name": "stdout",
     "output_type": "stream",
     "text": [
      "Validation: Avg Standard Validation Loss: 0.8591\n",
      "Validation: Avg Attenuated Validation Loss: 0.7069\n",
      "Validation Loss for Scheduler: 0.8591\n",
      "saving model\n"
     ]
    },
    {
     "name": "stdout",
     "output_type": "stream",
     "text": [
      "Epoch [13/100], Learning Rate: 0.0001, Teacher forcing ratio: 0.8\n",
      "Training: Avg Attenuated Training Loss: -1.2516\n"
     ]
    },
    {
     "name": "stdout",
     "output_type": "stream",
     "text": [
      "Validation: Avg Standard Validation Loss: 0.8509\n",
      "Validation: Avg Attenuated Validation Loss: -0.3320\n",
      "Validation Loss for Scheduler: 0.8509\n",
      "saving model\n"
     ]
    },
    {
     "name": "stdout",
     "output_type": "stream",
     "text": [
      "Epoch [14/100], Learning Rate: 0.0001, Teacher forcing ratio: 0.8\n",
      "Training: Avg Attenuated Training Loss: -1.1945\n"
     ]
    },
    {
     "name": "stdout",
     "output_type": "stream",
     "text": [
      "Validation: Avg Standard Validation Loss: 0.8726\n",
      "Validation: Avg Attenuated Validation Loss: 0.9464\n",
      "Validation Loss for Scheduler: 0.8726\n",
      "saving model\n"
     ]
    },
    {
     "name": "stdout",
     "output_type": "stream",
     "text": [
      "Epoch [15/100], Learning Rate: 0.0001, Teacher forcing ratio: 0.8\n",
      "Training: Avg Attenuated Training Loss: -1.1862\n"
     ]
    },
    {
     "name": "stdout",
     "output_type": "stream",
     "text": [
      "Validation: Avg Standard Validation Loss: 0.8164\n",
      "Validation: Avg Attenuated Validation Loss: -0.0447\n",
      "Validation Loss for Scheduler: 0.8164\n",
      "saving model\n"
     ]
    },
    {
     "name": "stdout",
     "output_type": "stream",
     "text": [
      "Epoch [16/100], Learning Rate: 0.0001, Teacher forcing ratio: 0.8\n",
      "Training: Avg Attenuated Training Loss: -1.1153\n"
     ]
    },
    {
     "name": "stdout",
     "output_type": "stream",
     "text": [
      "Validation: Avg Standard Validation Loss: 0.7947\n",
      "Validation: Avg Attenuated Validation Loss: 0.6337\n",
      "Validation Loss for Scheduler: 0.7947\n",
      "saving model\n"
     ]
    },
    {
     "name": "stdout",
     "output_type": "stream",
     "text": [
      "Epoch [17/100], Learning Rate: 0.0001, Teacher forcing ratio: 0.8\n",
      "Training: Avg Attenuated Training Loss: -1.0502\n"
     ]
    },
    {
     "name": "stdout",
     "output_type": "stream",
     "text": [
      "Validation: Avg Standard Validation Loss: 0.7850\n",
      "Validation: Avg Attenuated Validation Loss: 0.4507\n",
      "Validation Loss for Scheduler: 0.7850\n",
      "saving model\n"
     ]
    },
    {
     "name": "stdout",
     "output_type": "stream",
     "text": [
      "Epoch [18/100], Learning Rate: 0.0001, Teacher forcing ratio: 0.8\n",
      "Training: Avg Attenuated Training Loss: -1.0384\n"
     ]
    },
    {
     "name": "stdout",
     "output_type": "stream",
     "text": [
      "Validation: Avg Standard Validation Loss: 0.7840\n",
      "Validation: Avg Attenuated Validation Loss: 1.8192\n",
      "Validation Loss for Scheduler: 0.7840\n",
      "saving model\n"
     ]
    },
    {
     "name": "stdout",
     "output_type": "stream",
     "text": [
      "Epoch [19/100], Learning Rate: 0.0001, Teacher forcing ratio: 0.8\n",
      "Training: Avg Attenuated Training Loss: -0.9318\n"
     ]
    },
    {
     "name": "stdout",
     "output_type": "stream",
     "text": [
      "Validation: Avg Standard Validation Loss: 0.8114\n",
      "Validation: Avg Attenuated Validation Loss: 2.1713\n",
      "Validation Loss for Scheduler: 0.8114\n",
      "saving model\n"
     ]
    },
    {
     "name": "stdout",
     "output_type": "stream",
     "text": [
      "Epoch [20/100], Learning Rate: 0.0001, Teacher forcing ratio: 0.8\n",
      "Training: Avg Attenuated Training Loss: -0.7718\n"
     ]
    },
    {
     "name": "stdout",
     "output_type": "stream",
     "text": [
      "Validation: Avg Standard Validation Loss: 0.7766\n",
      "Validation: Avg Attenuated Validation Loss: 2.3333\n",
      "Validation Loss for Scheduler: 0.7766\n",
      "saving model\n"
     ]
    },
    {
     "name": "stdout",
     "output_type": "stream",
     "text": [
      "Epoch [21/100], Learning Rate: 0.0001, Teacher forcing ratio: 0.768\n",
      "Training: Avg Attenuated Training Loss: -0.6896\n"
     ]
    },
    {
     "name": "stdout",
     "output_type": "stream",
     "text": [
      "Validation: Avg Standard Validation Loss: 0.7624\n",
      "Validation: Avg Attenuated Validation Loss: 1.1602\n",
      "Validation Loss for Scheduler: 0.7624\n",
      "saving model\n"
     ]
    },
    {
     "name": "stdout",
     "output_type": "stream",
     "text": [
      "Epoch [22/100], Learning Rate: 0.0001, Teacher forcing ratio: 0.768\n",
      "Training: Avg Attenuated Training Loss: -0.5275\n"
     ]
    },
    {
     "name": "stdout",
     "output_type": "stream",
     "text": [
      "Validation: Avg Standard Validation Loss: 0.7391\n",
      "Validation: Avg Attenuated Validation Loss: 2.3987\n",
      "Validation Loss for Scheduler: 0.7391\n",
      "saving model\n"
     ]
    },
    {
     "name": "stdout",
     "output_type": "stream",
     "text": [
      "Epoch [23/100], Learning Rate: 0.0001, Teacher forcing ratio: 0.768\n",
      "Training: Avg Attenuated Training Loss: -0.4385\n"
     ]
    },
    {
     "name": "stdout",
     "output_type": "stream",
     "text": [
      "Validation: Avg Standard Validation Loss: 0.7975\n",
      "Validation: Avg Attenuated Validation Loss: 4.4087\n",
      "Validation Loss for Scheduler: 0.7975\n",
      "saving model\n"
     ]
    },
    {
     "name": "stdout",
     "output_type": "stream",
     "text": [
      "Epoch [24/100], Learning Rate: 0.0001, Teacher forcing ratio: 0.768\n",
      "Training: Avg Attenuated Training Loss: -0.2619\n"
     ]
    },
    {
     "name": "stdout",
     "output_type": "stream",
     "text": [
      "Validation: Avg Standard Validation Loss: 0.7507\n",
      "Validation: Avg Attenuated Validation Loss: 3.0214\n",
      "Validation Loss for Scheduler: 0.7507\n",
      "saving model\n"
     ]
    },
    {
     "name": "stdout",
     "output_type": "stream",
     "text": [
      "Epoch [25/100], Learning Rate: 0.0001, Teacher forcing ratio: 0.768\n",
      "Training: Avg Attenuated Training Loss: -0.3493\n"
     ]
    },
    {
     "name": "stdout",
     "output_type": "stream",
     "text": [
      "Validation: Avg Standard Validation Loss: 0.7493\n",
      "Validation: Avg Attenuated Validation Loss: 3.1616\n",
      "Validation Loss for Scheduler: 0.7493\n",
      "saving model\n"
     ]
    },
    {
     "name": "stdout",
     "output_type": "stream",
     "text": [
      "Epoch [26/100], Learning Rate: 1.0000000000000002e-06, Teacher forcing ratio: 0.768\n",
      "Training: Avg Attenuated Training Loss: -0.5212\n"
     ]
    },
    {
     "name": "stdout",
     "output_type": "stream",
     "text": [
      "Validation: Avg Standard Validation Loss: 0.7480\n",
      "Validation: Avg Attenuated Validation Loss: 3.9053\n",
      "Validation Loss for Scheduler: 0.7480\n",
      "saving model\n"
     ]
    },
    {
     "name": "stdout",
     "output_type": "stream",
     "text": [
      "Epoch [27/100], Learning Rate: 1.0000000000000002e-06, Teacher forcing ratio: 0.768\n",
      "Training: Avg Attenuated Training Loss: -0.0776\n"
     ]
    },
    {
     "name": "stdout",
     "output_type": "stream",
     "text": [
      "Validation: Avg Standard Validation Loss: 0.7536\n",
      "Validation: Avg Attenuated Validation Loss: 4.6111\n",
      "Validation Loss for Scheduler: 0.7536\n",
      "saving model\n"
     ]
    },
    {
     "name": "stdout",
     "output_type": "stream",
     "text": [
      "Epoch [28/100], Learning Rate: 1.0000000000000002e-06, Teacher forcing ratio: 0.768\n",
      "Training: Avg Attenuated Training Loss: 0.0457\n"
     ]
    },
    {
     "name": "stdout",
     "output_type": "stream",
     "text": [
      "Validation: Avg Standard Validation Loss: 0.7456\n",
      "Validation: Avg Attenuated Validation Loss: 4.5831\n",
      "Validation Loss for Scheduler: 0.7456\n",
      "saving model\n"
     ]
    },
    {
     "name": "stdout",
     "output_type": "stream",
     "text": [
      "Epoch [29/100], Learning Rate: 1.0000000000000002e-08, Teacher forcing ratio: 0.768\n",
      "Training: Avg Attenuated Training Loss: -0.0035\n"
     ]
    },
    {
     "name": "stdout",
     "output_type": "stream",
     "text": [
      "Validation: Avg Standard Validation Loss: 0.7381\n",
      "Validation: Avg Attenuated Validation Loss: 4.6314\n",
      "Validation Loss for Scheduler: 0.7381\n",
      "saving model\n"
     ]
    },
    {
     "name": "stdout",
     "output_type": "stream",
     "text": [
      "Epoch [30/100], Learning Rate: 1.0000000000000002e-08, Teacher forcing ratio: 0.768\n",
      "Training: Avg Attenuated Training Loss: -0.0299\n"
     ]
    },
    {
     "name": "stdout",
     "output_type": "stream",
     "text": [
      "Validation: Avg Standard Validation Loss: 0.7425\n",
      "Validation: Avg Attenuated Validation Loss: 4.6410\n",
      "Validation Loss for Scheduler: 0.7425\n",
      "saving model\n"
     ]
    },
    {
     "name": "stdout",
     "output_type": "stream",
     "text": [
      "Epoch [31/100], Learning Rate: 1.0000000000000002e-08, Teacher forcing ratio: 0.768\n",
      "Training: Avg Attenuated Training Loss: 0.1607\n"
     ]
    },
    {
     "name": "stdout",
     "output_type": "stream",
     "text": [
      "Validation: Avg Standard Validation Loss: 0.7441\n",
      "Validation: Avg Attenuated Validation Loss: 4.6504\n",
      "Validation Loss for Scheduler: 0.7441\n",
      "saving model\n"
     ]
    },
    {
     "name": "stdout",
     "output_type": "stream",
     "text": [
      "Epoch [32/100], Learning Rate: 1.0000000000000002e-08, Teacher forcing ratio: 0.768\n",
      "Training: Avg Attenuated Training Loss: -0.0255\n"
     ]
    },
    {
     "name": "stdout",
     "output_type": "stream",
     "text": [
      "Validation: Avg Standard Validation Loss: 0.7430\n",
      "Validation: Avg Attenuated Validation Loss: 4.5610\n",
      "Validation Loss for Scheduler: 0.7430\n",
      "saving model\n"
     ]
    },
    {
     "name": "stdout",
     "output_type": "stream",
     "text": [
      "Epoch [33/100], Learning Rate: 1.0000000000000002e-08, Teacher forcing ratio: 0.768\n",
      "Training: Avg Attenuated Training Loss: 0.0675\n"
     ]
    },
    {
     "name": "stdout",
     "output_type": "stream",
     "text": [
      "Validation: Avg Standard Validation Loss: 0.7433\n",
      "Validation: Avg Attenuated Validation Loss: 4.6884\n",
      "Validation Loss for Scheduler: 0.7433\n",
      "saving model\n"
     ]
    },
    {
     "name": "stdout",
     "output_type": "stream",
     "text": [
      "Epoch [34/100], Learning Rate: 1.0000000000000002e-08, Teacher forcing ratio: 0.768\n",
      "Training: Avg Attenuated Training Loss: 0.0683\n"
     ]
    },
    {
     "name": "stdout",
     "output_type": "stream",
     "text": [
      "Validation: Avg Standard Validation Loss: 0.7412\n",
      "Validation: Avg Attenuated Validation Loss: 4.5213\n",
      "Validation Loss for Scheduler: 0.7412\n",
      "saving model\n"
     ]
    },
    {
     "name": "stdout",
     "output_type": "stream",
     "text": [
      "Epoch [35/100], Learning Rate: 1.0000000000000002e-08, Teacher forcing ratio: 0.768\n",
      "Training: Avg Attenuated Training Loss: 0.0283\n"
     ]
    },
    {
     "name": "stdout",
     "output_type": "stream",
     "text": [
      "Validation: Avg Standard Validation Loss: 0.7378\n",
      "Validation: Avg Attenuated Validation Loss: 4.5620\n",
      "Validation Loss for Scheduler: 0.7378\n",
      "saving model\n"
     ]
    },
    {
     "name": "stdout",
     "output_type": "stream",
     "text": [
      "Epoch [36/100], Learning Rate: 1.0000000000000002e-08, Teacher forcing ratio: 0.768\n",
      "Training: Avg Attenuated Training Loss: 0.1504\n"
     ]
    },
    {
     "name": "stdout",
     "output_type": "stream",
     "text": [
      "Validation: Avg Standard Validation Loss: 0.7459\n",
      "Validation: Avg Attenuated Validation Loss: 4.6361\n",
      "Validation Loss for Scheduler: 0.7459\n",
      "saving model\n"
     ]
    },
    {
     "name": "stdout",
     "output_type": "stream",
     "text": [
      "Epoch [37/100], Learning Rate: 1.0000000000000002e-08, Teacher forcing ratio: 0.768\n",
      "Training: Avg Attenuated Training Loss: 0.0133\n"
     ]
    },
    {
     "name": "stdout",
     "output_type": "stream",
     "text": [
      "Validation: Avg Standard Validation Loss: 0.7393\n",
      "Validation: Avg Attenuated Validation Loss: 4.6938\n",
      "Validation Loss for Scheduler: 0.7393\n",
      "saving model\n"
     ]
    },
    {
     "name": "stdout",
     "output_type": "stream",
     "text": [
      "Epoch [38/100], Learning Rate: 1.0000000000000002e-08, Teacher forcing ratio: 0.768\n",
      "Training: Avg Attenuated Training Loss: 0.0627\n"
     ]
    },
    {
     "name": "stdout",
     "output_type": "stream",
     "text": [
      "Validation: Avg Standard Validation Loss: 0.7418\n",
      "Validation: Avg Attenuated Validation Loss: 4.6190\n",
      "Validation Loss for Scheduler: 0.7418\n",
      "saving model\n"
     ]
    },
    {
     "name": "stdout",
     "output_type": "stream",
     "text": [
      "Epoch [39/100], Learning Rate: 1.0000000000000002e-08, Teacher forcing ratio: 0.768\n",
      "Training: Avg Attenuated Training Loss: 0.0669\n"
     ]
    },
    {
     "name": "stdout",
     "output_type": "stream",
     "text": [
      "Validation: Avg Standard Validation Loss: 0.7445\n",
      "Validation: Avg Attenuated Validation Loss: 4.6112\n",
      "Validation Loss for Scheduler: 0.7445\n",
      "saving model\n"
     ]
    },
    {
     "name": "stdout",
     "output_type": "stream",
     "text": [
      "Epoch [40/100], Learning Rate: 1.0000000000000002e-08, Teacher forcing ratio: 0.768\n",
      "Training: Avg Attenuated Training Loss: 0.0527\n"
     ]
    },
    {
     "name": "stdout",
     "output_type": "stream",
     "text": [
      "Validation: Avg Standard Validation Loss: 0.7418\n",
      "Validation: Avg Attenuated Validation Loss: 4.7115\n",
      "Validation Loss for Scheduler: 0.7418\n",
      "saving model\n"
     ]
    },
    {
     "name": "stdout",
     "output_type": "stream",
     "text": [
      "Epoch [41/100], Learning Rate: 1.0000000000000002e-08, Teacher forcing ratio: 0.73728\n",
      "Training: Avg Attenuated Training Loss: 0.1158\n"
     ]
    },
    {
     "name": "stdout",
     "output_type": "stream",
     "text": [
      "Validation: Avg Standard Validation Loss: 0.7426\n",
      "Validation: Avg Attenuated Validation Loss: 4.6560\n",
      "Validation Loss for Scheduler: 0.7426\n",
      "saving model\n"
     ]
    },
    {
     "name": "stdout",
     "output_type": "stream",
     "text": [
      "Epoch [42/100], Learning Rate: 1.0000000000000002e-08, Teacher forcing ratio: 0.73728\n",
      "Training: Avg Attenuated Training Loss: 0.1051\n"
     ]
    },
    {
     "name": "stdout",
     "output_type": "stream",
     "text": [
      "Validation: Avg Standard Validation Loss: 0.7460\n",
      "Validation: Avg Attenuated Validation Loss: 4.5605\n",
      "Validation Loss for Scheduler: 0.7460\n",
      "saving model\n"
     ]
    },
    {
     "name": "stdout",
     "output_type": "stream",
     "text": [
      "Epoch [43/100], Learning Rate: 1.0000000000000002e-08, Teacher forcing ratio: 0.73728\n",
      "Training: Avg Attenuated Training Loss: 0.3058\n"
     ]
    },
    {
     "name": "stdout",
     "output_type": "stream",
     "text": [
      "Validation: Avg Standard Validation Loss: 0.7413\n",
      "Validation: Avg Attenuated Validation Loss: 4.6912\n",
      "Validation Loss for Scheduler: 0.7413\n",
      "saving model\n"
     ]
    },
    {
     "name": "stdout",
     "output_type": "stream",
     "text": [
      "Epoch [44/100], Learning Rate: 1.0000000000000002e-08, Teacher forcing ratio: 0.73728\n",
      "Training: Avg Attenuated Training Loss: 0.0532\n"
     ]
    },
    {
     "name": "stdout",
     "output_type": "stream",
     "text": [
      "Validation: Avg Standard Validation Loss: 0.7490\n",
      "Validation: Avg Attenuated Validation Loss: 4.6507\n",
      "Validation Loss for Scheduler: 0.7490\n",
      "saving model\n"
     ]
    },
    {
     "name": "stdout",
     "output_type": "stream",
     "text": [
      "Epoch [45/100], Learning Rate: 1.0000000000000002e-08, Teacher forcing ratio: 0.73728\n",
      "Training: Avg Attenuated Training Loss: 0.1482\n"
     ]
    },
    {
     "name": "stdout",
     "output_type": "stream",
     "text": [
      "Validation: Avg Standard Validation Loss: 0.7459\n",
      "Validation: Avg Attenuated Validation Loss: 4.6485\n",
      "Validation Loss for Scheduler: 0.7459\n",
      "saving model\n"
     ]
    },
    {
     "name": "stdout",
     "output_type": "stream",
     "text": [
      "Epoch [46/100], Learning Rate: 1.0000000000000002e-08, Teacher forcing ratio: 0.73728\n",
      "Training: Avg Attenuated Training Loss: 0.1468\n"
     ]
    },
    {
     "name": "stdout",
     "output_type": "stream",
     "text": [
      "Validation: Avg Standard Validation Loss: 0.7449\n",
      "Validation: Avg Attenuated Validation Loss: 4.6431\n",
      "Validation Loss for Scheduler: 0.7449\n",
      "saving model\n"
     ]
    },
    {
     "name": "stdout",
     "output_type": "stream",
     "text": [
      "Epoch [47/100], Learning Rate: 1.0000000000000002e-08, Teacher forcing ratio: 0.73728\n",
      "Training: Avg Attenuated Training Loss: 0.1598\n"
     ]
    },
    {
     "name": "stdout",
     "output_type": "stream",
     "text": [
      "Validation: Avg Standard Validation Loss: 0.7447\n",
      "Validation: Avg Attenuated Validation Loss: 4.6975\n",
      "Validation Loss for Scheduler: 0.7447\n",
      "saving model\n"
     ]
    },
    {
     "name": "stdout",
     "output_type": "stream",
     "text": [
      "Epoch [48/100], Learning Rate: 1.0000000000000002e-08, Teacher forcing ratio: 0.73728\n",
      "Training: Avg Attenuated Training Loss: 0.1444\n"
     ]
    },
    {
     "name": "stdout",
     "output_type": "stream",
     "text": [
      "Validation: Avg Standard Validation Loss: 0.7391\n",
      "Validation: Avg Attenuated Validation Loss: 4.8349\n",
      "Validation Loss for Scheduler: 0.7391\n",
      "saving model\n"
     ]
    },
    {
     "name": "stdout",
     "output_type": "stream",
     "text": [
      "Epoch [49/100], Learning Rate: 1.0000000000000002e-08, Teacher forcing ratio: 0.73728\n",
      "Training: Avg Attenuated Training Loss: 0.3156\n"
     ]
    },
    {
     "name": "stdout",
     "output_type": "stream",
     "text": [
      "Validation: Avg Standard Validation Loss: 0.7369\n",
      "Validation: Avg Attenuated Validation Loss: 4.6134\n",
      "Validation Loss for Scheduler: 0.7369\n",
      "saving model\n"
     ]
    },
    {
     "name": "stdout",
     "output_type": "stream",
     "text": [
      "Epoch [50/100], Learning Rate: 1.0000000000000002e-08, Teacher forcing ratio: 0.73728\n",
      "Training: Avg Attenuated Training Loss: 0.1215\n"
     ]
    },
    {
     "name": "stdout",
     "output_type": "stream",
     "text": [
      "Validation: Avg Standard Validation Loss: 0.7372\n",
      "Validation: Avg Attenuated Validation Loss: 4.6242\n",
      "Validation Loss for Scheduler: 0.7372\n",
      "saving model\n"
     ]
    },
    {
     "name": "stdout",
     "output_type": "stream",
     "text": [
      "Epoch [51/100], Learning Rate: 1.0000000000000002e-08, Teacher forcing ratio: 0.73728\n",
      "Training: Avg Attenuated Training Loss: 0.1831\n"
     ]
    },
    {
     "name": "stdout",
     "output_type": "stream",
     "text": [
      "Validation: Avg Standard Validation Loss: 0.7427\n",
      "Validation: Avg Attenuated Validation Loss: 4.6261\n",
      "Validation Loss for Scheduler: 0.7427\n",
      "saving model\n"
     ]
    },
    {
     "name": "stdout",
     "output_type": "stream",
     "text": [
      "Epoch [52/100], Learning Rate: 1.0000000000000002e-08, Teacher forcing ratio: 0.73728\n",
      "Training: Avg Attenuated Training Loss: 0.1306\n"
     ]
    },
    {
     "name": "stdout",
     "output_type": "stream",
     "text": [
      "Validation: Avg Standard Validation Loss: 0.7362\n",
      "Validation: Avg Attenuated Validation Loss: 4.6302\n",
      "Validation Loss for Scheduler: 0.7362\n",
      "saving model\n"
     ]
    },
    {
     "name": "stdout",
     "output_type": "stream",
     "text": [
      "Epoch [53/100], Learning Rate: 1.0000000000000002e-08, Teacher forcing ratio: 0.73728\n",
      "Training: Avg Attenuated Training Loss: 0.1524\n"
     ]
    },
    {
     "name": "stdout",
     "output_type": "stream",
     "text": [
      "Validation: Avg Standard Validation Loss: 0.7411\n",
      "Validation: Avg Attenuated Validation Loss: 4.6909\n",
      "Validation Loss for Scheduler: 0.7411\n",
      "saving model\n"
     ]
    },
    {
     "name": "stdout",
     "output_type": "stream",
     "text": [
      "Epoch [54/100], Learning Rate: 1.0000000000000002e-08, Teacher forcing ratio: 0.73728\n",
      "Training: Avg Attenuated Training Loss: 0.2095\n"
     ]
    },
    {
     "name": "stdout",
     "output_type": "stream",
     "text": [
      "Validation: Avg Standard Validation Loss: 0.7410\n",
      "Validation: Avg Attenuated Validation Loss: 4.6542\n",
      "Validation Loss for Scheduler: 0.7410\n",
      "saving model\n"
     ]
    },
    {
     "name": "stdout",
     "output_type": "stream",
     "text": [
      "Epoch [55/100], Learning Rate: 1.0000000000000002e-08, Teacher forcing ratio: 0.73728\n",
      "Training: Avg Attenuated Training Loss: 0.1916\n"
     ]
    },
    {
     "name": "stdout",
     "output_type": "stream",
     "text": [
      "Validation: Avg Standard Validation Loss: 0.7404\n",
      "Validation: Avg Attenuated Validation Loss: 4.6520\n",
      "Validation Loss for Scheduler: 0.7404\n",
      "saving model\n"
     ]
    },
    {
     "name": "stdout",
     "output_type": "stream",
     "text": [
      "Epoch [56/100], Learning Rate: 1.0000000000000002e-08, Teacher forcing ratio: 0.73728\n",
      "Training: Avg Attenuated Training Loss: 0.0874\n"
     ]
    },
    {
     "name": "stdout",
     "output_type": "stream",
     "text": [
      "Validation: Avg Standard Validation Loss: 0.7466\n",
      "Validation: Avg Attenuated Validation Loss: 4.7101\n",
      "Validation Loss for Scheduler: 0.7466\n",
      "saving model\n"
     ]
    },
    {
     "name": "stdout",
     "output_type": "stream",
     "text": [
      "Epoch [57/100], Learning Rate: 1.0000000000000002e-08, Teacher forcing ratio: 0.73728\n",
      "Training: Avg Attenuated Training Loss: 0.1610\n"
     ]
    },
    {
     "name": "stdout",
     "output_type": "stream",
     "text": [
      "Validation: Avg Standard Validation Loss: 0.7434\n",
      "Validation: Avg Attenuated Validation Loss: 4.6437\n",
      "Validation Loss for Scheduler: 0.7434\n",
      "saving model\n"
     ]
    },
    {
     "name": "stdout",
     "output_type": "stream",
     "text": [
      "Epoch [58/100], Learning Rate: 1.0000000000000002e-08, Teacher forcing ratio: 0.73728\n",
      "Training: Avg Attenuated Training Loss: 0.1758\n"
     ]
    },
    {
     "name": "stdout",
     "output_type": "stream",
     "text": [
      "Validation: Avg Standard Validation Loss: 0.7386\n",
      "Validation: Avg Attenuated Validation Loss: 4.7669\n",
      "Validation Loss for Scheduler: 0.7386\n",
      "saving model\n"
     ]
    },
    {
     "name": "stdout",
     "output_type": "stream",
     "text": [
      "Epoch [59/100], Learning Rate: 1.0000000000000002e-08, Teacher forcing ratio: 0.73728\n",
      "Training: Avg Attenuated Training Loss: 0.1043\n"
     ]
    },
    {
     "name": "stdout",
     "output_type": "stream",
     "text": [
      "Validation: Avg Standard Validation Loss: 0.7356\n",
      "Validation: Avg Attenuated Validation Loss: 4.7234\n",
      "Validation Loss for Scheduler: 0.7356\n",
      "saving model\n"
     ]
    },
    {
     "name": "stdout",
     "output_type": "stream",
     "text": [
      "Epoch [60/100], Learning Rate: 1.0000000000000002e-08, Teacher forcing ratio: 0.73728\n",
      "Training: Avg Attenuated Training Loss: 0.0766\n"
     ]
    },
    {
     "name": "stdout",
     "output_type": "stream",
     "text": [
      "Validation: Avg Standard Validation Loss: 0.7477\n",
      "Validation: Avg Attenuated Validation Loss: 4.9783\n",
      "Validation Loss for Scheduler: 0.7477\n",
      "saving model\n"
     ]
    },
    {
     "name": "stdout",
     "output_type": "stream",
     "text": [
      "Epoch [61/100], Learning Rate: 1.0000000000000002e-08, Teacher forcing ratio: 0.7077888\n",
      "Training: Avg Attenuated Training Loss: 0.2101\n"
     ]
    },
    {
     "name": "stdout",
     "output_type": "stream",
     "text": [
      "Validation: Avg Standard Validation Loss: 0.7401\n",
      "Validation: Avg Attenuated Validation Loss: 4.8725\n",
      "Validation Loss for Scheduler: 0.7401\n",
      "saving model\n"
     ]
    },
    {
     "name": "stdout",
     "output_type": "stream",
     "text": [
      "Epoch [62/100], Learning Rate: 1.0000000000000002e-08, Teacher forcing ratio: 0.7077888\n",
      "Training: Avg Attenuated Training Loss: 0.3903\n"
     ]
    },
    {
     "name": "stdout",
     "output_type": "stream",
     "text": [
      "Validation: Avg Standard Validation Loss: 0.7385\n",
      "Validation: Avg Attenuated Validation Loss: 4.6199\n",
      "Validation Loss for Scheduler: 0.7385\n",
      "saving model\n"
     ]
    },
    {
     "name": "stdout",
     "output_type": "stream",
     "text": [
      "Epoch [63/100], Learning Rate: 1.0000000000000002e-08, Teacher forcing ratio: 0.7077888\n",
      "Training: Avg Attenuated Training Loss: 0.3211\n"
     ]
    },
    {
     "name": "stdout",
     "output_type": "stream",
     "text": [
      "Validation: Avg Standard Validation Loss: 0.7385\n",
      "Validation: Avg Attenuated Validation Loss: 4.6755\n",
      "Validation Loss for Scheduler: 0.7385\n",
      "saving model\n"
     ]
    },
    {
     "name": "stdout",
     "output_type": "stream",
     "text": [
      "Epoch [64/100], Learning Rate: 1.0000000000000002e-08, Teacher forcing ratio: 0.7077888\n",
      "Training: Avg Attenuated Training Loss: 0.2034\n"
     ]
    },
    {
     "name": "stdout",
     "output_type": "stream",
     "text": [
      "Validation: Avg Standard Validation Loss: 0.7433\n",
      "Validation: Avg Attenuated Validation Loss: 4.5817\n",
      "Validation Loss for Scheduler: 0.7433\n",
      "saving model\n"
     ]
    },
    {
     "name": "stdout",
     "output_type": "stream",
     "text": [
      "Epoch [65/100], Learning Rate: 1.0000000000000002e-08, Teacher forcing ratio: 0.7077888\n",
      "Training: Avg Attenuated Training Loss: 0.2031\n"
     ]
    },
    {
     "name": "stdout",
     "output_type": "stream",
     "text": [
      "Validation: Avg Standard Validation Loss: 0.7416\n",
      "Validation: Avg Attenuated Validation Loss: 4.7797\n",
      "Validation Loss for Scheduler: 0.7416\n",
      "saving model\n"
     ]
    },
    {
     "name": "stdout",
     "output_type": "stream",
     "text": [
      "Epoch [66/100], Learning Rate: 1.0000000000000002e-08, Teacher forcing ratio: 0.7077888\n",
      "Training: Avg Attenuated Training Loss: 0.2272\n"
     ]
    },
    {
     "name": "stdout",
     "output_type": "stream",
     "text": [
      "Validation: Avg Standard Validation Loss: 0.7417\n",
      "Validation: Avg Attenuated Validation Loss: 4.7988\n",
      "Validation Loss for Scheduler: 0.7417\n",
      "saving model\n"
     ]
    },
    {
     "name": "stdout",
     "output_type": "stream",
     "text": [
      "Epoch [67/100], Learning Rate: 1.0000000000000002e-08, Teacher forcing ratio: 0.7077888\n",
      "Training: Avg Attenuated Training Loss: 0.2393\n"
     ]
    },
    {
     "name": "stdout",
     "output_type": "stream",
     "text": [
      "Validation: Avg Standard Validation Loss: 0.7393\n",
      "Validation: Avg Attenuated Validation Loss: 4.7127\n",
      "Validation Loss for Scheduler: 0.7393\n",
      "saving model\n"
     ]
    },
    {
     "name": "stdout",
     "output_type": "stream",
     "text": [
      "Epoch [68/100], Learning Rate: 1.0000000000000002e-08, Teacher forcing ratio: 0.7077888\n",
      "Training: Avg Attenuated Training Loss: 0.3651\n"
     ]
    },
    {
     "name": "stdout",
     "output_type": "stream",
     "text": [
      "Validation: Avg Standard Validation Loss: 0.7418\n",
      "Validation: Avg Attenuated Validation Loss: 4.8268\n",
      "Validation Loss for Scheduler: 0.7418\n",
      "saving model\n"
     ]
    },
    {
     "name": "stdout",
     "output_type": "stream",
     "text": [
      "Epoch [69/100], Learning Rate: 1.0000000000000002e-08, Teacher forcing ratio: 0.7077888\n",
      "Training: Avg Attenuated Training Loss: 0.2205\n"
     ]
    },
    {
     "name": "stdout",
     "output_type": "stream",
     "text": [
      "Validation: Avg Standard Validation Loss: 0.7434\n",
      "Validation: Avg Attenuated Validation Loss: 4.7542\n",
      "Validation Loss for Scheduler: 0.7434\n",
      "saving model\n"
     ]
    },
    {
     "name": "stdout",
     "output_type": "stream",
     "text": [
      "Epoch [70/100], Learning Rate: 1.0000000000000002e-08, Teacher forcing ratio: 0.7077888\n",
      "Training: Avg Attenuated Training Loss: 0.3144\n"
     ]
    },
    {
     "name": "stdout",
     "output_type": "stream",
     "text": [
      "Validation: Avg Standard Validation Loss: 0.7421\n",
      "Validation: Avg Attenuated Validation Loss: 4.6404\n",
      "Validation Loss for Scheduler: 0.7421\n",
      "saving model\n"
     ]
    },
    {
     "name": "stdout",
     "output_type": "stream",
     "text": [
      "Epoch [71/100], Learning Rate: 1.0000000000000002e-08, Teacher forcing ratio: 0.7077888\n",
      "Training: Avg Attenuated Training Loss: 0.2764\n"
     ]
    },
    {
     "name": "stdout",
     "output_type": "stream",
     "text": [
      "Validation: Avg Standard Validation Loss: 0.7400\n",
      "Validation: Avg Attenuated Validation Loss: 4.7187\n",
      "Validation Loss for Scheduler: 0.7400\n",
      "saving model\n"
     ]
    },
    {
     "name": "stdout",
     "output_type": "stream",
     "text": [
      "Epoch [72/100], Learning Rate: 1.0000000000000002e-08, Teacher forcing ratio: 0.7077888\n",
      "Training: Avg Attenuated Training Loss: 0.2708\n"
     ]
    },
    {
     "name": "stdout",
     "output_type": "stream",
     "text": [
      "Validation: Avg Standard Validation Loss: 0.7432\n",
      "Validation: Avg Attenuated Validation Loss: 4.7908\n",
      "Validation Loss for Scheduler: 0.7432\n",
      "saving model\n"
     ]
    },
    {
     "name": "stdout",
     "output_type": "stream",
     "text": [
      "Epoch [73/100], Learning Rate: 1.0000000000000002e-08, Teacher forcing ratio: 0.7077888\n",
      "Training: Avg Attenuated Training Loss: 0.3145\n"
     ]
    },
    {
     "name": "stdout",
     "output_type": "stream",
     "text": [
      "Validation: Avg Standard Validation Loss: 0.7446\n",
      "Validation: Avg Attenuated Validation Loss: 4.7193\n",
      "Validation Loss for Scheduler: 0.7446\n",
      "saving model\n"
     ]
    },
    {
     "name": "stdout",
     "output_type": "stream",
     "text": [
      "Epoch [74/100], Learning Rate: 1.0000000000000002e-08, Teacher forcing ratio: 0.7077888\n",
      "Training: Avg Attenuated Training Loss: 0.2325\n"
     ]
    },
    {
     "name": "stdout",
     "output_type": "stream",
     "text": [
      "Validation: Avg Standard Validation Loss: 0.7384\n",
      "Validation: Avg Attenuated Validation Loss: 4.6720\n",
      "Validation Loss for Scheduler: 0.7384\n",
      "saving model\n"
     ]
    },
    {
     "name": "stdout",
     "output_type": "stream",
     "text": [
      "Epoch [75/100], Learning Rate: 1.0000000000000002e-08, Teacher forcing ratio: 0.7077888\n",
      "Training: Avg Attenuated Training Loss: 0.3804\n"
     ]
    },
    {
     "name": "stdout",
     "output_type": "stream",
     "text": [
      "Validation: Avg Standard Validation Loss: 0.7419\n",
      "Validation: Avg Attenuated Validation Loss: 4.6915\n",
      "Validation Loss for Scheduler: 0.7419\n",
      "saving model\n"
     ]
    },
    {
     "name": "stdout",
     "output_type": "stream",
     "text": [
      "Epoch [76/100], Learning Rate: 1.0000000000000002e-08, Teacher forcing ratio: 0.7077888\n",
      "Training: Avg Attenuated Training Loss: 0.3304\n"
     ]
    },
    {
     "name": "stdout",
     "output_type": "stream",
     "text": [
      "Validation: Avg Standard Validation Loss: 0.7362\n",
      "Validation: Avg Attenuated Validation Loss: 4.7652\n",
      "Validation Loss for Scheduler: 0.7362\n",
      "saving model\n"
     ]
    },
    {
     "name": "stdout",
     "output_type": "stream",
     "text": [
      "Epoch [77/100], Learning Rate: 1.0000000000000002e-08, Teacher forcing ratio: 0.7077888\n",
      "Training: Avg Attenuated Training Loss: 0.2717\n"
     ]
    },
    {
     "name": "stdout",
     "output_type": "stream",
     "text": [
      "Validation: Avg Standard Validation Loss: 0.7427\n",
      "Validation: Avg Attenuated Validation Loss: 4.7243\n",
      "Validation Loss for Scheduler: 0.7427\n",
      "saving model\n"
     ]
    },
    {
     "name": "stdout",
     "output_type": "stream",
     "text": [
      "Epoch [78/100], Learning Rate: 1.0000000000000002e-08, Teacher forcing ratio: 0.7077888\n",
      "Training: Avg Attenuated Training Loss: 0.3311\n"
     ]
    },
    {
     "name": "stdout",
     "output_type": "stream",
     "text": [
      "Validation: Avg Standard Validation Loss: 0.7357\n",
      "Validation: Avg Attenuated Validation Loss: 4.6809\n",
      "Validation Loss for Scheduler: 0.7357\n",
      "saving model\n"
     ]
    },
    {
     "name": "stdout",
     "output_type": "stream",
     "text": [
      "Epoch [79/100], Learning Rate: 1.0000000000000002e-08, Teacher forcing ratio: 0.7077888\n",
      "Training: Avg Attenuated Training Loss: 0.2912\n"
     ]
    },
    {
     "name": "stdout",
     "output_type": "stream",
     "text": [
      "Validation: Avg Standard Validation Loss: 0.7380\n",
      "Validation: Avg Attenuated Validation Loss: 4.7614\n",
      "Validation Loss for Scheduler: 0.7380\n",
      "saving model\n"
     ]
    },
    {
     "name": "stdout",
     "output_type": "stream",
     "text": [
      "Epoch [80/100], Learning Rate: 1.0000000000000002e-08, Teacher forcing ratio: 0.7077888\n",
      "Training: Avg Attenuated Training Loss: 0.3567\n"
     ]
    },
    {
     "name": "stdout",
     "output_type": "stream",
     "text": [
      "Validation: Avg Standard Validation Loss: 0.7333\n",
      "Validation: Avg Attenuated Validation Loss: 4.6484\n",
      "Validation Loss for Scheduler: 0.7333\n",
      "saving model\n"
     ]
    },
    {
     "name": "stdout",
     "output_type": "stream",
     "text": [
      "Epoch [81/100], Learning Rate: 1.0000000000000002e-08, Teacher forcing ratio: 0.679477248\n",
      "Training: Avg Attenuated Training Loss: 0.4267\n"
     ]
    },
    {
     "name": "stdout",
     "output_type": "stream",
     "text": [
      "Validation: Avg Standard Validation Loss: 0.7392\n",
      "Validation: Avg Attenuated Validation Loss: 4.8694\n",
      "Validation Loss for Scheduler: 0.7392\n",
      "saving model\n"
     ]
    },
    {
     "name": "stdout",
     "output_type": "stream",
     "text": [
      "Epoch [82/100], Learning Rate: 1.0000000000000002e-08, Teacher forcing ratio: 0.679477248\n",
      "Training: Avg Attenuated Training Loss: 0.3397\n"
     ]
    },
    {
     "name": "stdout",
     "output_type": "stream",
     "text": [
      "Validation: Avg Standard Validation Loss: 0.7383\n",
      "Validation: Avg Attenuated Validation Loss: 4.6787\n",
      "Validation Loss for Scheduler: 0.7383\n",
      "saving model\n"
     ]
    },
    {
     "name": "stdout",
     "output_type": "stream",
     "text": [
      "Epoch [83/100], Learning Rate: 1.0000000000000002e-08, Teacher forcing ratio: 0.679477248\n",
      "Training: Avg Attenuated Training Loss: 0.2811\n"
     ]
    },
    {
     "name": "stdout",
     "output_type": "stream",
     "text": [
      "Validation: Avg Standard Validation Loss: 0.7361\n",
      "Validation: Avg Attenuated Validation Loss: 4.6964\n",
      "Validation Loss for Scheduler: 0.7361\n",
      "saving model\n"
     ]
    },
    {
     "name": "stdout",
     "output_type": "stream",
     "text": [
      "Epoch [84/100], Learning Rate: 1.0000000000000002e-08, Teacher forcing ratio: 0.679477248\n",
      "Training: Avg Attenuated Training Loss: 0.3611\n"
     ]
    },
    {
     "name": "stdout",
     "output_type": "stream",
     "text": [
      "Validation: Avg Standard Validation Loss: 0.7417\n",
      "Validation: Avg Attenuated Validation Loss: 4.7888\n",
      "Validation Loss for Scheduler: 0.7417\n",
      "saving model\n"
     ]
    },
    {
     "name": "stdout",
     "output_type": "stream",
     "text": [
      "Epoch [85/100], Learning Rate: 1.0000000000000002e-08, Teacher forcing ratio: 0.679477248\n",
      "Training: Avg Attenuated Training Loss: 0.4206\n"
     ]
    },
    {
     "name": "stdout",
     "output_type": "stream",
     "text": [
      "Validation: Avg Standard Validation Loss: 0.7396\n",
      "Validation: Avg Attenuated Validation Loss: 4.6860\n",
      "Validation Loss for Scheduler: 0.7396\n",
      "saving model\n"
     ]
    },
    {
     "name": "stdout",
     "output_type": "stream",
     "text": [
      "Epoch [86/100], Learning Rate: 1.0000000000000002e-08, Teacher forcing ratio: 0.679477248\n",
      "Training: Avg Attenuated Training Loss: 0.3184\n"
     ]
    },
    {
     "name": "stdout",
     "output_type": "stream",
     "text": [
      "Validation: Avg Standard Validation Loss: 0.7400\n",
      "Validation: Avg Attenuated Validation Loss: 4.7677\n",
      "Validation Loss for Scheduler: 0.7400\n",
      "saving model\n"
     ]
    },
    {
     "name": "stdout",
     "output_type": "stream",
     "text": [
      "Epoch [87/100], Learning Rate: 1.0000000000000002e-08, Teacher forcing ratio: 0.679477248\n",
      "Training: Avg Attenuated Training Loss: 0.4481\n"
     ]
    },
    {
     "name": "stdout",
     "output_type": "stream",
     "text": [
      "Validation: Avg Standard Validation Loss: 0.7391\n",
      "Validation: Avg Attenuated Validation Loss: 4.8168\n",
      "Validation Loss for Scheduler: 0.7391\n",
      "saving model\n"
     ]
    },
    {
     "name": "stdout",
     "output_type": "stream",
     "text": [
      "Epoch [88/100], Learning Rate: 1.0000000000000002e-08, Teacher forcing ratio: 0.679477248\n",
      "Training: Avg Attenuated Training Loss: 0.3259\n"
     ]
    },
    {
     "name": "stdout",
     "output_type": "stream",
     "text": [
      "Validation: Avg Standard Validation Loss: 0.7383\n",
      "Validation: Avg Attenuated Validation Loss: 4.7919\n",
      "Validation Loss for Scheduler: 0.7383\n",
      "saving model\n"
     ]
    },
    {
     "name": "stdout",
     "output_type": "stream",
     "text": [
      "Epoch [89/100], Learning Rate: 1.0000000000000002e-08, Teacher forcing ratio: 0.679477248\n",
      "Training: Avg Attenuated Training Loss: 0.4034\n"
     ]
    },
    {
     "name": "stdout",
     "output_type": "stream",
     "text": [
      "Validation: Avg Standard Validation Loss: 0.7458\n",
      "Validation: Avg Attenuated Validation Loss: 4.7658\n",
      "Validation Loss for Scheduler: 0.7458\n",
      "saving model\n"
     ]
    },
    {
     "name": "stdout",
     "output_type": "stream",
     "text": [
      "Epoch [90/100], Learning Rate: 1.0000000000000002e-08, Teacher forcing ratio: 0.679477248\n",
      "Training: Avg Attenuated Training Loss: 0.3824\n"
     ]
    },
    {
     "name": "stdout",
     "output_type": "stream",
     "text": [
      "Validation: Avg Standard Validation Loss: 0.7472\n",
      "Validation: Avg Attenuated Validation Loss: 4.7231\n",
      "Validation Loss for Scheduler: 0.7472\n",
      "saving model\n"
     ]
    },
    {
     "name": "stdout",
     "output_type": "stream",
     "text": [
      "Epoch [91/100], Learning Rate: 1.0000000000000002e-08, Teacher forcing ratio: 0.679477248\n",
      "Training: Avg Attenuated Training Loss: 0.3647\n"
     ]
    },
    {
     "name": "stdout",
     "output_type": "stream",
     "text": [
      "Validation: Avg Standard Validation Loss: 0.7414\n",
      "Validation: Avg Attenuated Validation Loss: 4.6677\n",
      "Validation Loss for Scheduler: 0.7414\n",
      "saving model\n"
     ]
    },
    {
     "name": "stdout",
     "output_type": "stream",
     "text": [
      "Epoch [92/100], Learning Rate: 1.0000000000000002e-08, Teacher forcing ratio: 0.679477248\n",
      "Training: Avg Attenuated Training Loss: 0.2298\n"
     ]
    },
    {
     "name": "stdout",
     "output_type": "stream",
     "text": [
      "Validation: Avg Standard Validation Loss: 0.7389\n",
      "Validation: Avg Attenuated Validation Loss: 4.6613\n",
      "Validation Loss for Scheduler: 0.7389\n",
      "saving model\n"
     ]
    },
    {
     "name": "stdout",
     "output_type": "stream",
     "text": [
      "Epoch [93/100], Learning Rate: 1.0000000000000002e-08, Teacher forcing ratio: 0.679477248\n",
      "Training: Avg Attenuated Training Loss: 0.3705\n"
     ]
    },
    {
     "name": "stdout",
     "output_type": "stream",
     "text": [
      "Validation: Avg Standard Validation Loss: 0.7378\n",
      "Validation: Avg Attenuated Validation Loss: 4.7332\n",
      "Validation Loss for Scheduler: 0.7378\n",
      "saving model\n"
     ]
    },
    {
     "name": "stdout",
     "output_type": "stream",
     "text": [
      "Epoch [94/100], Learning Rate: 1.0000000000000002e-08, Teacher forcing ratio: 0.679477248\n",
      "Training: Avg Attenuated Training Loss: 0.3295\n"
     ]
    },
    {
     "name": "stdout",
     "output_type": "stream",
     "text": [
      "Validation: Avg Standard Validation Loss: 0.7319\n",
      "Validation: Avg Attenuated Validation Loss: 4.6191\n",
      "Validation Loss for Scheduler: 0.7319\n",
      "saving model\n"
     ]
    },
    {
     "name": "stdout",
     "output_type": "stream",
     "text": [
      "Epoch [95/100], Learning Rate: 1.0000000000000002e-08, Teacher forcing ratio: 0.679477248\n",
      "Training: Avg Attenuated Training Loss: 0.3716\n"
     ]
    },
    {
     "name": "stdout",
     "output_type": "stream",
     "text": [
      "Validation: Avg Standard Validation Loss: 0.7385\n",
      "Validation: Avg Attenuated Validation Loss: 4.6327\n",
      "Validation Loss for Scheduler: 0.7385\n",
      "saving model\n"
     ]
    },
    {
     "name": "stdout",
     "output_type": "stream",
     "text": [
      "Epoch [96/100], Learning Rate: 1.0000000000000002e-08, Teacher forcing ratio: 0.679477248\n",
      "Training: Avg Attenuated Training Loss: 0.3671\n"
     ]
    },
    {
     "name": "stdout",
     "output_type": "stream",
     "text": [
      "Validation: Avg Standard Validation Loss: 0.7412\n",
      "Validation: Avg Attenuated Validation Loss: 4.8351\n",
      "Validation Loss for Scheduler: 0.7412\n",
      "saving model\n"
     ]
    },
    {
     "name": "stdout",
     "output_type": "stream",
     "text": [
      "Epoch [97/100], Learning Rate: 1.0000000000000002e-08, Teacher forcing ratio: 0.679477248\n",
      "Training: Avg Attenuated Training Loss: 0.3569\n"
     ]
    },
    {
     "name": "stdout",
     "output_type": "stream",
     "text": [
      "Validation: Avg Standard Validation Loss: 0.7447\n",
      "Validation: Avg Attenuated Validation Loss: 4.7178\n",
      "Validation Loss for Scheduler: 0.7447\n",
      "saving model\n"
     ]
    },
    {
     "name": "stdout",
     "output_type": "stream",
     "text": [
      "Epoch [98/100], Learning Rate: 1.0000000000000002e-08, Teacher forcing ratio: 0.679477248\n",
      "Training: Avg Attenuated Training Loss: 0.3661\n"
     ]
    },
    {
     "name": "stdout",
     "output_type": "stream",
     "text": [
      "Validation: Avg Standard Validation Loss: 0.7336\n",
      "Validation: Avg Attenuated Validation Loss: 4.6542\n",
      "Validation Loss for Scheduler: 0.7336\n",
      "saving model\n"
     ]
    },
    {
     "name": "stdout",
     "output_type": "stream",
     "text": [
      "Epoch [99/100], Learning Rate: 1.0000000000000002e-08, Teacher forcing ratio: 0.679477248\n",
      "Training: Avg Attenuated Training Loss: 0.4148\n"
     ]
    },
    {
     "name": "stdout",
     "output_type": "stream",
     "text": [
      "Validation: Avg Standard Validation Loss: 0.7391\n",
      "Validation: Avg Attenuated Validation Loss: 4.7242\n",
      "Validation Loss for Scheduler: 0.7391\n",
      "saving model\n"
     ]
    },
    {
     "name": "stdout",
     "output_type": "stream",
     "text": [
      "Epoch [100/100], Learning Rate: 1.0000000000000002e-08, Teacher forcing ratio: 0.679477248\n",
      "Training: Avg Attenuated Training Loss: 0.4564\n"
     ]
    },
    {
     "name": "stdout",
     "output_type": "stream",
     "text": [
      "Validation: Avg Standard Validation Loss: 0.7471\n",
      "Validation: Avg Attenuated Validation Loss: 4.8661\n",
      "Validation Loss for Scheduler: 0.7471\n",
      "saving model\n",
      "Training complete.\n",
      "Model saved to path: PCR_full_grad_lognorm_v1.pkl\n"
     ]
    }
   ],
   "source": [
    "import trainer.trainer\n",
    "importlib.reload(trainer.trainer)\n",
    "from trainer.trainer import Trainer\n",
    "from torch.optim.lr_scheduler import ReduceLROnPlateau\n",
    "\n",
    "from torch.utils.tensorboard import SummaryWriter\n",
    "writer = SummaryWriter(comment=\"Full_PCR_grad_lognormal\")\n",
    "\n",
    "# device\n",
    "device = torch.device(\"cuda\" if torch.cuda.is_available() else \"cpu\")\n",
    "\n",
    "# Start learning rate\n",
    "learning_rate = 1e-4\n",
    "\n",
    "# Optimizer and Scheduler\n",
    "# optimizer = torch.optim.Adam(params=model.parameters(), lr=learning_rate, weight_decay=0)\n",
    "optimizer = torch.optim.AdamW(model.parameters(), lr=learning_rate, weight_decay=0)\n",
    "scheduler = ReduceLROnPlateau(optimizer, mode='min', factor=0.01, patience=2, min_lr=1e-9)\n",
    "\n",
    "# Epochs\n",
    "num_epochs = 100\n",
    "\n",
    "# Batch size\n",
    "batch_size = 128\n",
    "\n",
    "# lambda for L2 (weight, bias, dropout) regularization: According to formula: 1/2N\n",
    "# regularization_term = 1.0/(2.0*batch_size)\n",
    "regularization_term =  1e-4\n",
    "\n",
    "# shuffle data\n",
    "shuffle = True\n",
    "\n",
    "# Teacher forcing: Smaller 0.5 more predicted events are used for next event prediction.\n",
    "teacher_forcing_ratio = 0.8\n",
    "\n",
    "optimize_values = {\"regularization_term\":regularization_term,\n",
    "                   \"optimizer\":optimizer,\n",
    "                   \"scheduler\": scheduler,\n",
    "                   \"epochs\":num_epochs,\n",
    "                   \"mini_batches\":batch_size,\n",
    "                   \"shuffle\": shuffle,\n",
    "                   \"teacher_forcing_ratio\":teacher_forcing_ratio,}\n",
    "\n",
    "suffix_data_split_value = 4\n",
    "\n",
    "# GradNorm parameter\n",
    "use_gradnorm = True\n",
    "gn_alpha = 1.5\n",
    "gn_learning_rate = 1e-4\n",
    "# gn_learning_rate =  0.025\n",
    "\n",
    "number_tasks = len(dec_feat[0]) + len(dec_feat[1])\n",
    "\n",
    "gradNorm = {\"use_gradnorm\":use_gradnorm,\n",
    "            \"number_tasks\": number_tasks,\n",
    "            \"gn_alpha\":gn_alpha,\n",
    "            \"gn_learning_rate\": gn_learning_rate}\n",
    "\n",
    "trainer = Trainer(device=device,\n",
    "                  model=model,\n",
    "                  data_train=PCR_train_dataset,\n",
    "                  data_val=PCR_val_dataset,\n",
    "                  loss_obj=loss_obj,\n",
    "                  log_normal_loss_num_feature = log_normal_loss_num_feature,\n",
    "                  optimize_values=optimize_values,\n",
    "                  suffix_data_split_value=suffix_data_split_value,\n",
    "                  writer=writer,\n",
    "                  gradnorm_values=gradNorm,\n",
    "                  save_model_n_th_epoch = 1,\n",
    "                  saving_path = 'PCR_full_grad_lognorm_v1.pkl')\n",
    "\n",
    "# Train the model:\n",
    "train_attenuated_losses, val_losses, val_attenuated_losses = trainer.train_model()"
   ]
  },
  {
   "cell_type": "markdown",
   "metadata": {},
   "source": [
    "# Training Visualization"
   ]
  },
  {
   "cell_type": "code",
   "execution_count": 8,
   "metadata": {
    "execution": {
     "iopub.execute_input": "2025-04-29T18:40:40.861648Z",
     "iopub.status.busy": "2025-04-29T18:40:40.861378Z",
     "iopub.status.idle": "2025-04-29T18:40:41.251564Z",
     "shell.execute_reply": "2025-04-29T18:40:41.251223Z"
    }
   },
   "outputs": [
    {
     "data": {
      "image/png": "[encoded data removed]",
      "text/plain": [
       "<Figure size 640x480 with 1 Axes>"
      ]
     },
     "metadata": {},
     "output_type": "display_data"
    }
   ],
   "source": [
    "import matplotlib.pyplot as plt\n",
    "\n",
    "# After training is finished, plot the loss curves\n",
    "plt.plot(range(1, num_epochs+1), train_attenuated_losses, label='Training Attenuated Loss', color='blue')\n",
    "plt.plot(range(1, num_epochs+1), val_losses, label='Validation Loss', color='orange')\n",
    "plt.plot(range(1, num_epochs+1), val_attenuated_losses, label='Validation Attenuated Loss', color='green')\n",
    "# Labeling x and y axes\n",
    "plt.xlabel('Epochs', fontsize=12)\n",
    "plt.ylabel('Loss', fontsize=12)\n",
    "# Adding title\n",
    "plt.title('Training and Validation Loss Curve', fontsize=14)\n",
    "# Adding legend\n",
    "plt.legend()\n",
    "# Show the plot\n",
    "plt.show()"
   ]
  }
 ],
 "metadata": {
  "kernelspec": {
   "display_name": "PrimePPM-tDGhFIeG",
   "language": "python",
   "name": "python3"
  },
  "language_info": {
   "codemirror_mode": {
    "name": "ipython",
    "version": 3
   },
   "file_extension": ".py",
   "mimetype": "text/x-python",
   "name": "python",
   "nbconvert_exporter": "python",
   "pygments_lexer": "ipython3",
   "version": "3.13.1"
  },
  "widgets": {
   "application/vnd.jupyter.widget-state+json": {
    "state": {
     "0306d39bb5df41348b94774e084a6fc0": {
      "model_module": "@jupyter-widgets/controls",
      "model_module_version": "2.0.0",
      "model_name": "HBoxModel",
      "state": {
       "_dom_classes": [],
       "_model_module": "@jupyter-widgets/controls",
       "_model_module_version": "2.0.0",
       "_model_name": "HBoxModel",
       "_view_count": null,
       "_view_module": "@jupyter-widgets/controls",
       "_view_module_version": "2.0.0",
       "_view_name": "HBoxView",
       "box_style": "",
       "children": [
        "IPY_MODEL_2f767908d9704187aee915c4cc43eb7d",
        "IPY_MODEL_3de6401d7b7e4f6e93a52c8ba63cc638",
        "IPY_MODEL_db60334f11784c4ca9edb01db3952ee9"
       ],
       "layout": "IPY_MODEL_05564afd1b344fc397097ba631cec0a0",
       "tabbable": null,
       "tooltip": null
      }
     },
     "05564afd1b344fc397097ba631cec0a0": {
      "model_module": "@jupyter-widgets/base",
      "model_module_version": "2.0.0",
      "model_name": "LayoutModel",
      "state": {
       "_model_module": "@jupyter-widgets/base",
       "_model_module_version": "2.0.0",
       "_model_name": "LayoutModel",
       "_view_count": null,
       "_view_module": "@jupyter-widgets/base",
       "_view_module_version": "2.0.0",
       "_view_name": "LayoutView",
       "align_content": null,
       "align_items": null,
       "align_self": null,
       "border_bottom": null,
       "border_left": null,
       "border_right": null,
       "border_top": null,
       "bottom": null,
       "display": null,
       "flex": null,
       "flex_flow": null,
       "grid_area": null,
       "grid_auto_columns": null,
       "grid_auto_flow": null,
       "grid_auto_rows": null,
       "grid_column": null,
       "grid_gap": null,
       "grid_row": null,
       "grid_template_areas": null,
       "grid_template_columns": null,
       "grid_template_rows": null,
       "height": null,
       "justify_content": null,
       "justify_items": null,
       "left": null,
       "margin": null,
       "max_height": null,
       "max_width": null,
       "min_height": null,
       "min_width": null,
       "object_fit": null,
       "object_position": null,
       "order": null,
       "overflow": null,
       "padding": null,
       "right": null,
       "top": null,
       "visibility": null,
       "width": null
      }
     },
     "2f767908d9704187aee915c4cc43eb7d": {
      "model_module": "@jupyter-widgets/controls",
      "model_module_version": "2.0.0",
      "model_name": "HTMLModel",
      "state": {
       "_dom_classes": [],
       "_model_module": "@jupyter-widgets/controls",
       "_model_module_version": "2.0.0",
       "_model_name": "HTMLModel",
       "_view_count": null,
       "_view_module": "@jupyter-widgets/controls",
       "_view_module_version": "2.0.0",
       "_view_name": "HTMLView",
       "description": "",
       "description_allow_html": false,
       "layout": "IPY_MODEL_715c55432c6c49bb8cab5ea081794fe4",
       "placeholder": "​",
       "style": "IPY_MODEL_fce9ab8093904554a5d6ea13641100e3",
       "tabbable": null,
       "tooltip": null,
       "value": "100%"
      }
     },
     "3064dc0b0dc4403888ef4af3432ca6ec": {
      "model_module": "@jupyter-widgets/base",
      "model_module_version": "2.0.0",
      "model_name": "LayoutModel",
      "state": {
       "_model_module": "@jupyter-widgets/base",
       "_model_module_version": "2.0.0",
       "_model_name": "LayoutModel",
       "_view_count": null,
       "_view_module": "@jupyter-widgets/base",
       "_view_module_version": "2.0.0",
       "_view_name": "LayoutView",
       "align_content": null,
       "align_items": null,
       "align_self": null,
       "border_bottom": null,
       "border_left": null,
       "border_right": null,
       "border_top": null,
       "bottom": null,
       "display": null,
       "flex": null,
       "flex_flow": null,
       "grid_area": null,
       "grid_auto_columns": null,
       "grid_auto_flow": null,
       "grid_auto_rows": null,
       "grid_column": null,
       "grid_gap": null,
       "grid_row": null,
       "grid_template_areas": null,
       "grid_template_columns": null,
       "grid_template_rows": null,
       "height": null,
       "justify_content": null,
       "justify_items": null,
       "left": null,
       "margin": null,
       "max_height": null,
       "max_width": null,
       "min_height": null,
       "min_width": null,
       "object_fit": null,
       "object_position": null,
       "order": null,
       "overflow": null,
       "padding": null,
       "right": null,
       "top": null,
       "visibility": null,
       "width": null
      }
     },
     "3de6401d7b7e4f6e93a52c8ba63cc638": {
      "model_module": "@jupyter-widgets/controls",
      "model_module_version": "2.0.0",
      "model_name": "FloatProgressModel",
      "state": {
       "_dom_classes": [],
       "_model_module": "@jupyter-widgets/controls",
       "_model_module_version": "2.0.0",
       "_model_name": "FloatProgressModel",
       "_view_count": null,
       "_view_module": "@jupyter-widgets/controls",
       "_view_module_version": "2.0.0",
       "_view_name": "ProgressView",
       "bar_style": "success",
       "description": "",
       "description_allow_html": false,
       "layout": "IPY_MODEL_3064dc0b0dc4403888ef4af3432ca6ec",
       "max": 100.0,
       "min": 0.0,
       "orientation": "horizontal",
       "style": "IPY_MODEL_97ace85775fe4d3cbc320b451a189093",
       "tabbable": null,
       "tooltip": null,
       "value": 100.0
      }
     },
     "5b4325a64dd54fb596fa770bd9303b0a": {
      "model_module": "@jupyter-widgets/base",
      "model_module_version": "2.0.0",
      "model_name": "LayoutModel",
      "state": {
       "_model_module": "@jupyter-widgets/base",
       "_model_module_version": "2.0.0",
       "_model_name": "LayoutModel",
       "_view_count": null,
       "_view_module": "@jupyter-widgets/base",
       "_view_module_version": "2.0.0",
       "_view_name": "LayoutView",
       "align_content": null,
       "align_items": null,
       "align_self": null,
       "border_bottom": null,
       "border_left": null,
       "border_right": null,
       "border_top": null,
       "bottom": null,
       "display": null,
       "flex": null,
       "flex_flow": null,
       "grid_area": null,
       "grid_auto_columns": null,
       "grid_auto_flow": null,
       "grid_auto_rows": null,
       "grid_column": null,
       "grid_gap": null,
       "grid_row": null,
       "grid_template_areas": null,
       "grid_template_columns": null,
       "grid_template_rows": null,
       "height": null,
       "justify_content": null,
       "justify_items": null,
       "left": null,
       "margin": null,
       "max_height": null,
       "max_width": null,
       "min_height": null,
       "min_width": null,
       "object_fit": null,
       "object_position": null,
       "order": null,
       "overflow": null,
       "padding": null,
       "right": null,
       "top": null,
       "visibility": null,
       "width": null
      }
     },
     "715c55432c6c49bb8cab5ea081794fe4": {
      "model_module": "@jupyter-widgets/base",
      "model_module_version": "2.0.0",
      "model_name": "LayoutModel",
      "state": {
       "_model_module": "@jupyter-widgets/base",
       "_model_module_version": "2.0.0",
       "_model_name": "LayoutModel",
       "_view_count": null,
       "_view_module": "@jupyter-widgets/base",
       "_view_module_version": "2.0.0",
       "_view_name": "LayoutView",
       "align_content": null,
       "align_items": null,
       "align_self": null,
       "border_bottom": null,
       "border_left": null,
       "border_right": null,
       "border_top": null,
       "bottom": null,
       "display": null,
       "flex": null,
       "flex_flow": null,
       "grid_area": null,
       "grid_auto_columns": null,
       "grid_auto_flow": null,
       "grid_auto_rows": null,
       "grid_column": null,
       "grid_gap": null,
       "grid_row": null,
       "grid_template_areas": null,
       "grid_template_columns": null,
       "grid_template_rows": null,
       "height": null,
       "justify_content": null,
       "justify_items": null,
       "left": null,
       "margin": null,
       "max_height": null,
       "max_width": null,
       "min_height": null,
       "min_width": null,
       "object_fit": null,
       "object_position": null,
       "order": null,
       "overflow": null,
       "padding": null,
       "right": null,
       "top": null,
       "visibility": null,
       "width": null
      }
     },
     "8f3fee4e8b7941f48eb0494a318325b2": {
      "model_module": "@jupyter-widgets/controls",
      "model_module_version": "2.0.0",
      "model_name": "HTMLStyleModel",
      "state": {
       "_model_module": "@jupyter-widgets/controls",
       "_model_module_version": "2.0.0",
       "_model_name": "HTMLStyleModel",
       "_view_count": null,
       "_view_module": "@jupyter-widgets/base",
       "_view_module_version": "2.0.0",
       "_view_name": "StyleView",
       "background": null,
       "description_width": "",
       "font_size": null,
       "text_color": null
      }
     },
     "97ace85775fe4d3cbc320b451a189093": {
      "model_module": "@jupyter-widgets/controls",
      "model_module_version": "2.0.0",
      "model_name": "ProgressStyleModel",
      "state": {
       "_model_module": "@jupyter-widgets/controls",
       "_model_module_version": "2.0.0",
       "_model_name": "ProgressStyleModel",
       "_view_count": null,
       "_view_module": "@jupyter-widgets/base",
       "_view_module_version": "2.0.0",
       "_view_name": "StyleView",
       "bar_color": null,
       "description_width": ""
      }
     },
     "db60334f11784c4ca9edb01db3952ee9": {
      "model_module": "@jupyter-widgets/controls",
      "model_module_version": "2.0.0",
      "model_name": "HTMLModel",
      "state": {
       "_dom_classes": [],
       "_model_module": "@jupyter-widgets/controls",
       "_model_module_version": "2.0.0",
       "_model_name": "HTMLModel",
       "_view_count": null,
       "_view_module": "@jupyter-widgets/controls",
       "_view_module_version": "2.0.0",
       "_view_name": "HTMLView",
       "description": "",
       "description_allow_html": false,
       "layout": "IPY_MODEL_5b4325a64dd54fb596fa770bd9303b0a",
       "placeholder": "​",
       "style": "IPY_MODEL_8f3fee4e8b7941f48eb0494a318325b2",
       "tabbable": null,
       "tooltip": null,
       "value": " 100/100 [3:43:16&lt;00:00, 134.42s/it]"
      }
     },
     "fce9ab8093904554a5d6ea13641100e3": {
      "model_module": "@jupyter-widgets/controls",
      "model_module_version": "2.0.0",
      "model_name": "HTMLStyleModel",
      "state": {
       "_model_module": "@jupyter-widgets/controls",
       "_model_module_version": "2.0.0",
       "_model_name": "HTMLStyleModel",
       "_view_count": null,
       "_view_module": "@jupyter-widgets/base",
       "_view_module_version": "2.0.0",
       "_view_name": "StyleView",
       "background": null,
       "description_width": "",
       "font_size": null,
       "text_color": null
      }
     }
    },
    "version_major": 2,
    "version_minor": 0
   }
  }
 },
 "nbformat": 4,
 "nbformat_minor": 4
}
