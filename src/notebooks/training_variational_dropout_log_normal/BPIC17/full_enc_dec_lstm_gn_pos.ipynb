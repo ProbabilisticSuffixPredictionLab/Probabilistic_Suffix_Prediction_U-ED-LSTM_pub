{
 "cells": [
  {
   "cell_type": "markdown",
   "metadata": {},
   "source": [
    "# Imports"
   ]
  },
  {
   "cell_type": "code",
   "execution_count": 1,
   "metadata": {
    "execution": {
     "iopub.execute_input": "2025-04-29T15:00:20.791040Z",
     "iopub.status.busy": "2025-04-29T15:00:20.790951Z",
     "iopub.status.idle": "2025-04-29T15:00:21.497996Z",
     "shell.execute_reply": "2025-04-29T15:00:21.497649Z"
    }
   },
   "outputs": [],
   "source": [
    "import importlib\n",
    "import sys\n",
    "import torch\n",
    "\n",
    "sys.path.insert(0, '..')\n",
    "sys.path.insert(0, '../..')\n",
    "sys.path.insert(0, '../../..')"
   ]
  },
  {
   "cell_type": "markdown",
   "metadata": {},
   "source": [
    "# Data"
   ]
  },
  {
   "cell_type": "markdown",
   "metadata": {},
   "source": [
    "### Load Data Files"
   ]
  },
  {
   "cell_type": "code",
   "execution_count": 2,
   "metadata": {
    "execution": {
     "iopub.execute_input": "2025-04-29T15:00:21.499520Z",
     "iopub.status.busy": "2025-04-29T15:00:21.499392Z",
     "iopub.status.idle": "2025-04-29T15:00:28.245132Z",
     "shell.execute_reply": "2025-04-29T15:00:28.244772Z"
    }
   },
   "outputs": [
    {
     "name": "stdout",
     "output_type": "stream",
     "text": [
      "<class 'event_log_loader.new_event_log_loader.EventLogDataset'>\n"
     ]
    },
    {
     "name": "stdout",
     "output_type": "stream",
     "text": [
      "<class 'event_log_loader.new_event_log_loader.EventLogDataset'>\n"
     ]
    }
   ],
   "source": [
    "# Path to your pickle file (saved with torch.save)\n",
    "file_path_train = '../../../../encoded_data/log_stand/BPIC_2017_all_lognormal_5_train.pkl'\n",
    "# Load the dataset using torch.load\n",
    "bpic17_train_dataset = torch.load(file_path_train, weights_only=False)\n",
    "# Check the type of the loaded dataset\n",
    "print(type(bpic17_train_dataset))\n",
    "\n",
    "# Path to your pickle file (saved with torch.save)\n",
    "file_path_val = '../../../../encoded_data/log_stand/BPIC_2017_all_lognormal_5_val.pkl'\n",
    "# Load the dataset using torch.load\n",
    "bpic17_val_dataset = torch.load(file_path_val, weights_only=False)\n",
    "# Check the type of the loaded dataset\n",
    "print(type(bpic17_val_dataset))"
   ]
  },
  {
   "cell_type": "markdown",
   "metadata": {},
   "source": [
    "### Train Data Insights"
   ]
  },
  {
   "cell_type": "code",
   "execution_count": 3,
   "metadata": {
    "execution": {
     "iopub.execute_input": "2025-04-29T15:00:28.246369Z",
     "iopub.status.busy": "2025-04-29T15:00:28.246075Z",
     "iopub.status.idle": "2025-04-29T15:00:28.248900Z",
     "shell.execute_reply": "2025-04-29T15:00:28.248663Z"
    }
   },
   "outputs": [
    {
     "name": "stdout",
     "output_type": "stream",
     "text": [
      "[('concept:name', 28, {'A_Accepted': 1, 'A_Cancelled': 2, 'A_Complete': 3, 'A_Concept': 4, 'A_Create Application': 5, 'A_Denied': 6, 'A_Incomplete': 7, 'A_Pending': 8, 'A_Submitted': 9, 'A_Validating': 10, 'EOS': 11, 'O_Accepted': 12, 'O_Cancelled': 13, 'O_Create Offer': 14, 'O_Created': 15, 'O_Refused': 16, 'O_Returned': 17, 'O_Sent (mail and online)': 18, 'O_Sent (online only)': 19, 'W_Assess potential fraud': 20, 'W_Call after offers': 21, 'W_Call incomplete files': 22, 'W_Complete application': 23, 'W_Handle leads': 24, 'W_Personal Loan collection': 25, 'W_Shortened completion ': 26, 'W_Validate application': 27}), ('Action', 7, {'Created': 1, 'Deleted': 2, 'EOS': 3, 'Obtained': 4, 'Released': 5, 'statechange': 6}), ('org:resource', 151, {'EOS': 1, 'User_1': 2, 'User_10': 3, 'User_100': 4, 'User_101': 5, 'User_102': 6, 'User_103': 7, 'User_104': 8, 'User_105': 9, 'User_106': 10, 'User_107': 11, 'User_108': 12, 'User_109': 13, 'User_11': 14, 'User_110': 15, 'User_111': 16, 'User_112': 17, 'User_113': 18, 'User_114': 19, 'User_115': 20, 'User_116': 21, 'User_117': 22, 'User_118': 23, 'User_119': 24, 'User_12': 25, 'User_120': 26, 'User_121': 27, 'User_122': 28, 'User_123': 29, 'User_124': 30, 'User_125': 31, 'User_126': 32, 'User_127': 33, 'User_128': 34, 'User_129': 35, 'User_13': 36, 'User_130': 37, 'User_131': 38, 'User_132': 39, 'User_133': 40, 'User_134': 41, 'User_135': 42, 'User_136': 43, 'User_137': 44, 'User_138': 45, 'User_139': 46, 'User_14': 47, 'User_140': 48, 'User_141': 49, 'User_142': 50, 'User_143': 51, 'User_144': 52, 'User_145': 53, 'User_146': 54, 'User_147': 55, 'User_148': 56, 'User_149': 57, 'User_15': 58, 'User_16': 59, 'User_17': 60, 'User_18': 61, 'User_19': 62, 'User_2': 63, 'User_20': 64, 'User_21': 65, 'User_22': 66, 'User_23': 67, 'User_24': 68, 'User_25': 69, 'User_26': 70, 'User_27': 71, 'User_28': 72, 'User_29': 73, 'User_3': 74, 'User_30': 75, 'User_31': 76, 'User_32': 77, 'User_33': 78, 'User_34': 79, 'User_35': 80, 'User_36': 81, 'User_37': 82, 'User_38': 83, 'User_39': 84, 'User_4': 85, 'User_40': 86, 'User_41': 87, 'User_42': 88, 'User_43': 89, 'User_44': 90, 'User_45': 91, 'User_46': 92, 'User_47': 93, 'User_48': 94, 'User_49': 95, 'User_5': 96, 'User_50': 97, 'User_51': 98, 'User_52': 99, 'User_53': 100, 'User_54': 101, 'User_55': 102, 'User_56': 103, 'User_57': 104, 'User_58': 105, 'User_59': 106, 'User_6': 107, 'User_60': 108, 'User_61': 109, 'User_62': 110, 'User_63': 111, 'User_64': 112, 'User_65': 113, 'User_66': 114, 'User_67': 115, 'User_68': 116, 'User_69': 117, 'User_7': 118, 'User_70': 119, 'User_71': 120, 'User_72': 121, 'User_73': 122, 'User_74': 123, 'User_75': 124, 'User_76': 125, 'User_77': 126, 'User_78': 127, 'User_79': 128, 'User_8': 129, 'User_80': 130, 'User_81': 131, 'User_82': 132, 'User_83': 133, 'User_84': 134, 'User_85': 135, 'User_86': 136, 'User_87': 137, 'User_88': 138, 'User_89': 139, 'User_9': 140, 'User_90': 141, 'User_91': 142, 'User_92': 143, 'User_93': 144, 'User_94': 145, 'User_95': 146, 'User_96': 147, 'User_97': 148, 'User_98': 149, 'User_99': 150}), ('EventOrigin', 5, {'Application': 1, 'EOS': 2, 'Offer': 3, 'Workflow': 4}), ('lifecycle:transition', 9, {'EOS': 1, 'ate_abort': 2, 'complete': 3, 'resume': 4, 'schedule': 5, 'start': 6, 'suspend': 7, 'withdraw': 8}), ('case:LoanGoal', 16, {'Boat': 1, 'Business goal': 2, 'Car': 3, 'Caravan / Camper': 4, 'Debt restructuring': 5, 'EOS': 6, 'Existing loan takeover': 7, 'Extra spending limit': 8, 'Home improvement': 9, 'Motorcycle': 10, 'Not speficied': 11, 'Other, see explanation': 12, 'Remaining debt home': 13, 'Tax payments': 14, 'Unknown': 15}), ('case:ApplicationType', 4, {'EOS': 1, 'Limit raise': 2, 'New credit': 3}), ('Accepted', 5, {'EOS': 1, 'False': 2, 'True': 3, nan: 4}), ('Selected', 5, {'EOS': 1, 'False': 2, 'True': 3, nan: 4})]\n",
      "[('day_in_week', 1, {}), ('seconds_in_day', 1, {}), ('case:RequestedAmount', 1, {}), ('FirstWithdrawalAmount', 1, {}), ('NumberOfTerms', 1, {}), ('MonthlyCost', 1, {}), ('CreditScore', 1, {}), ('case_elapsed_time', 1, {}), ('event_elapsed_time', 1, {})]\n",
      "BPIC17 (5) Categorical feature: concept:name, Index position in categorical data list: 0\n",
      "BPIC17 (5) Total Amount of Category labels: 28\n",
      "BPIC17 (5) Categorical feature: Action, Index position in categorical data list: 1\n",
      "BPIC17 (5) Total Amount of Category labels: 7\n",
      "BPIC17 (5) Categorical feature: org:resource, Index position in categorical data list: 2\n",
      "BPIC17 (5) Total Amount of Category labels: 151\n",
      "BPIC17 (5) Categorical feature: EventOrigin, Index position in categorical data list: 3\n",
      "BPIC17 (5) Total Amount of Category labels: 5\n",
      "BPIC17 (5) Categorical feature: lifecycle:transition, Index position in categorical data list: 4\n",
      "BPIC17 (5) Total Amount of Category labels: 9\n",
      "BPIC17 (5) Categorical feature: case:LoanGoal, Index position in categorical data list: 5\n",
      "BPIC17 (5) Total Amount of Category labels: 16\n",
      "BPIC17 (5) Categorical feature: case:ApplicationType, Index position in categorical data list: 6\n",
      "BPIC17 (5) Total Amount of Category labels: 4\n",
      "BPIC17 (5) Categorical feature: Accepted, Index position in categorical data list: 7\n",
      "BPIC17 (5) Total Amount of Category labels: 5\n",
      "BPIC17 (5) Categorical feature: Selected, Index position in categorical data list: 8\n",
      "BPIC17 (5) Total Amount of Category labels: 5\n",
      "\n",
      "\n",
      "BPIC17 (5) Numerical feature: day_in_week, Index position in categorical data list: 0\n",
      "BPIC17 (5) Amount Category Lables: 1\n",
      "BPIC17 (5) Numerical feature: seconds_in_day, Index position in categorical data list: 1\n",
      "BPIC17 (5) Amount Category Lables: 1\n",
      "BPIC17 (5) Numerical feature: case:RequestedAmount, Index position in categorical data list: 2\n",
      "BPIC17 (5) Amount Category Lables: 1\n",
      "BPIC17 (5) Numerical feature: FirstWithdrawalAmount, Index position in categorical data list: 3\n",
      "BPIC17 (5) Amount Category Lables: 1\n",
      "BPIC17 (5) Numerical feature: NumberOfTerms, Index position in categorical data list: 4\n",
      "BPIC17 (5) Amount Category Lables: 1\n",
      "BPIC17 (5) Numerical feature: MonthlyCost, Index position in categorical data list: 5\n",
      "BPIC17 (5) Amount Category Lables: 1\n",
      "BPIC17 (5) Numerical feature: CreditScore, Index position in categorical data list: 6\n",
      "BPIC17 (5) Amount Category Lables: 1\n",
      "BPIC17 (5) Numerical feature: case_elapsed_time, Index position in categorical data list: 7\n",
      "BPIC17 (5) Amount Category Lables: 1\n",
      "BPIC17 (5) Numerical feature: event_elapsed_time, Index position in categorical data list: 8\n",
      "BPIC17 (5) Amount Category Lables: 1\n"
     ]
    }
   ],
   "source": [
    "# BPIC17 Dataset Categories, Features:\n",
    "\n",
    "bpic17_all_categories = bpic17_train_dataset.all_categories\n",
    "\n",
    "bpic17_all_categories_cat = bpic17_all_categories[0]\n",
    "print(bpic17_all_categories_cat)\n",
    "\n",
    "bpic17_all_categories_num = bpic17_all_categories[1]\n",
    "print(bpic17_all_categories_num)\n",
    "\n",
    "for i, cat in enumerate(bpic17_all_categories_cat):\n",
    "     print(f\"BPIC17 (5) Categorical feature: {cat[0]}, Index position in categorical data list: {i}\")\n",
    "     print(f\"BPIC17 (5) Total Amount of Category labels: {cat[1]}\")\n",
    "print('\\n')    \n",
    "for i, num in enumerate(bpic17_all_categories_num):\n",
    "     print(f\"BPIC17 (5) Numerical feature: {num[0]}, Index position in categorical data list: {i}\")\n",
    "     print(f\"BPIC17 (5) Amount Category Lables: {num[1]}\")"
   ]
  },
  {
   "cell_type": "markdown",
   "metadata": {},
   "source": [
    "### Input Features for Encoder and Decoder"
   ]
  },
  {
   "cell_type": "code",
   "execution_count": 4,
   "metadata": {
    "execution": {
     "iopub.execute_input": "2025-04-29T15:00:28.249865Z",
     "iopub.status.busy": "2025-04-29T15:00:28.249781Z",
     "iopub.status.idle": "2025-04-29T15:00:28.251960Z",
     "shell.execute_reply": "2025-04-29T15:00:28.251722Z"
    }
   },
   "outputs": [
    {
     "name": "stdout",
     "output_type": "stream",
     "text": [
      "Input features encoder:  [['concept:name', 'Action', 'org:resource', 'EventOrigin', 'lifecycle:transition', 'case:LoanGoal', 'case:ApplicationType', 'Accepted', 'Selected'], ['day_in_week', 'seconds_in_day', 'case:RequestedAmount', 'FirstWithdrawalAmount', 'NumberOfTerms', 'MonthlyCost', 'CreditScore', 'case_elapsed_time', 'event_elapsed_time']]\n",
      "Features decoder:  [['concept:name', 'org:resource', 'lifecycle:transition'], ['case_elapsed_time', 'event_elapsed_time']]\n"
     ]
    }
   ],
   "source": [
    "# Create lists with name of Encoder features (input) and decoder features (input & output)\n",
    "\n",
    "# Encoder features:\n",
    "enc_feat_cat = []\n",
    "enc_feat_num = []\n",
    "for cat in bpic17_all_categories_cat:\n",
    "    enc_feat_cat.append(cat[0])\n",
    "for num in bpic17_all_categories_num:\n",
    "    enc_feat_num.append(num[0])\n",
    "enc_feat = [enc_feat_cat, enc_feat_num]\n",
    "print(\"Input features encoder: \", enc_feat)\n",
    "\n",
    "# Decoder features:\n",
    "dec_feat_cat = ['concept:name', 'org:resource', 'lifecycle:transition']\n",
    "dec_feat_num = ['case_elapsed_time', 'event_elapsed_time']\n",
    "dec_feat = [dec_feat_cat, dec_feat_num]\n",
    "print(\"Features decoder: \", dec_feat)"
   ]
  },
  {
   "cell_type": "markdown",
   "metadata": {},
   "source": [
    "# Model"
   ]
  },
  {
   "cell_type": "code",
   "execution_count": 5,
   "metadata": {
    "execution": {
     "iopub.execute_input": "2025-04-29T15:00:28.252943Z",
     "iopub.status.busy": "2025-04-29T15:00:28.252743Z",
     "iopub.status.idle": "2025-04-29T15:00:28.266092Z",
     "shell.execute_reply": "2025-04-29T15:00:28.265722Z"
    }
   },
   "outputs": [
    {
     "name": "stdout",
     "output_type": "stream",
     "text": [
      "Data set categories:  ([('concept:name', 28, {'A_Accepted': 1, 'A_Cancelled': 2, 'A_Complete': 3, 'A_Concept': 4, 'A_Create Application': 5, 'A_Denied': 6, 'A_Incomplete': 7, 'A_Pending': 8, 'A_Submitted': 9, 'A_Validating': 10, 'EOS': 11, 'O_Accepted': 12, 'O_Cancelled': 13, 'O_Create Offer': 14, 'O_Created': 15, 'O_Refused': 16, 'O_Returned': 17, 'O_Sent (mail and online)': 18, 'O_Sent (online only)': 19, 'W_Assess potential fraud': 20, 'W_Call after offers': 21, 'W_Call incomplete files': 22, 'W_Complete application': 23, 'W_Handle leads': 24, 'W_Personal Loan collection': 25, 'W_Shortened completion ': 26, 'W_Validate application': 27}), ('Action', 7, {'Created': 1, 'Deleted': 2, 'EOS': 3, 'Obtained': 4, 'Released': 5, 'statechange': 6}), ('org:resource', 151, {'EOS': 1, 'User_1': 2, 'User_10': 3, 'User_100': 4, 'User_101': 5, 'User_102': 6, 'User_103': 7, 'User_104': 8, 'User_105': 9, 'User_106': 10, 'User_107': 11, 'User_108': 12, 'User_109': 13, 'User_11': 14, 'User_110': 15, 'User_111': 16, 'User_112': 17, 'User_113': 18, 'User_114': 19, 'User_115': 20, 'User_116': 21, 'User_117': 22, 'User_118': 23, 'User_119': 24, 'User_12': 25, 'User_120': 26, 'User_121': 27, 'User_122': 28, 'User_123': 29, 'User_124': 30, 'User_125': 31, 'User_126': 32, 'User_127': 33, 'User_128': 34, 'User_129': 35, 'User_13': 36, 'User_130': 37, 'User_131': 38, 'User_132': 39, 'User_133': 40, 'User_134': 41, 'User_135': 42, 'User_136': 43, 'User_137': 44, 'User_138': 45, 'User_139': 46, 'User_14': 47, 'User_140': 48, 'User_141': 49, 'User_142': 50, 'User_143': 51, 'User_144': 52, 'User_145': 53, 'User_146': 54, 'User_147': 55, 'User_148': 56, 'User_149': 57, 'User_15': 58, 'User_16': 59, 'User_17': 60, 'User_18': 61, 'User_19': 62, 'User_2': 63, 'User_20': 64, 'User_21': 65, 'User_22': 66, 'User_23': 67, 'User_24': 68, 'User_25': 69, 'User_26': 70, 'User_27': 71, 'User_28': 72, 'User_29': 73, 'User_3': 74, 'User_30': 75, 'User_31': 76, 'User_32': 77, 'User_33': 78, 'User_34': 79, 'User_35': 80, 'User_36': 81, 'User_37': 82, 'User_38': 83, 'User_39': 84, 'User_4': 85, 'User_40': 86, 'User_41': 87, 'User_42': 88, 'User_43': 89, 'User_44': 90, 'User_45': 91, 'User_46': 92, 'User_47': 93, 'User_48': 94, 'User_49': 95, 'User_5': 96, 'User_50': 97, 'User_51': 98, 'User_52': 99, 'User_53': 100, 'User_54': 101, 'User_55': 102, 'User_56': 103, 'User_57': 104, 'User_58': 105, 'User_59': 106, 'User_6': 107, 'User_60': 108, 'User_61': 109, 'User_62': 110, 'User_63': 111, 'User_64': 112, 'User_65': 113, 'User_66': 114, 'User_67': 115, 'User_68': 116, 'User_69': 117, 'User_7': 118, 'User_70': 119, 'User_71': 120, 'User_72': 121, 'User_73': 122, 'User_74': 123, 'User_75': 124, 'User_76': 125, 'User_77': 126, 'User_78': 127, 'User_79': 128, 'User_8': 129, 'User_80': 130, 'User_81': 131, 'User_82': 132, 'User_83': 133, 'User_84': 134, 'User_85': 135, 'User_86': 136, 'User_87': 137, 'User_88': 138, 'User_89': 139, 'User_9': 140, 'User_90': 141, 'User_91': 142, 'User_92': 143, 'User_93': 144, 'User_94': 145, 'User_95': 146, 'User_96': 147, 'User_97': 148, 'User_98': 149, 'User_99': 150}), ('EventOrigin', 5, {'Application': 1, 'EOS': 2, 'Offer': 3, 'Workflow': 4}), ('lifecycle:transition', 9, {'EOS': 1, 'ate_abort': 2, 'complete': 3, 'resume': 4, 'schedule': 5, 'start': 6, 'suspend': 7, 'withdraw': 8}), ('case:LoanGoal', 16, {'Boat': 1, 'Business goal': 2, 'Car': 3, 'Caravan / Camper': 4, 'Debt restructuring': 5, 'EOS': 6, 'Existing loan takeover': 7, 'Extra spending limit': 8, 'Home improvement': 9, 'Motorcycle': 10, 'Not speficied': 11, 'Other, see explanation': 12, 'Remaining debt home': 13, 'Tax payments': 14, 'Unknown': 15}), ('case:ApplicationType', 4, {'EOS': 1, 'Limit raise': 2, 'New credit': 3}), ('Accepted', 5, {'EOS': 1, 'False': 2, 'True': 3, nan: 4}), ('Selected', 5, {'EOS': 1, 'False': 2, 'True': 3, nan: 4})], [('day_in_week', 1, {}), ('seconds_in_day', 1, {}), ('case:RequestedAmount', 1, {}), ('FirstWithdrawalAmount', 1, {}), ('NumberOfTerms', 1, {}), ('MonthlyCost', 1, {}), ('CreditScore', 1, {}), ('case_elapsed_time', 1, {}), ('event_elapsed_time', 1, {})])\n",
      "Encoder input features:  [['concept:name', 'Action', 'org:resource', 'EventOrigin', 'lifecycle:transition', 'case:LoanGoal', 'case:ApplicationType', 'Accepted', 'Selected'], ['day_in_week', 'seconds_in_day', 'case:RequestedAmount', 'FirstWithdrawalAmount', 'NumberOfTerms', 'MonthlyCost', 'CreditScore', 'case_elapsed_time', 'event_elapsed_time']]\n",
      "Decoder input+output features:  [['concept:name', 'org:resource', 'lifecycle:transition'], ['case_elapsed_time', 'event_elapsed_time']]\n",
      "\n",
      "\n",
      "Sequence length of decoder output:  4\n",
      "\n",
      "\n",
      "Cells hidden size:  128\n",
      "Number of LSTM layer:  4\n",
      "Dropout rate:  0.1\n",
      "\n",
      "\n",
      "Encoder number of labels for each input feature (categorical, numerical):  [[28, 7, 151, 5, 9, 16, 4, 5, 5], [1, 1, 1, 1, 1, 1, 1, 1, 1]]\n",
      "Encoder indices of tensors in dataset used as input:  [[0, 1, 2, 3, 4, 5, 6, 7, 8], [0, 1, 2, 3, 4, 5, 6, 7, 8]]\n",
      "Embeddings encoder:  ModuleList(\n",
      "  (0): Embedding(28, 10)\n",
      "  (1): Embedding(7, 5)\n",
      "  (2): Embedding(151, 27)\n",
      "  (3): Embedding(5, 4)\n",
      "  (4): Embedding(9, 5)\n",
      "  (5): Embedding(16, 8)\n",
      "  (6): Embedding(4, 3)\n",
      "  (7-8): 2 x Embedding(5, 4)\n",
      ")\n",
      "Total embedding feature size encoder:  70\n",
      "Total numerical feature size encoder:  9\n",
      "Input feature size encoder:  79\n",
      "Encoder initialized! \n",
      "\n",
      "Decoder label values size for each categorical input feature:  [28, 151, 9]\n",
      "Decoder label values size for each numerical input feature:  [1, 1]\n",
      "Decoder indices of tensors in dataset used as input:  [[0, 2, 4], [7, 8]]\n",
      "Embeddings decoder:  ModuleList(\n",
      "  (0): Embedding(28, 10)\n",
      "  (1): Embedding(151, 27)\n",
      "  (2): Embedding(9, 5)\n",
      ")\n",
      "Total embedding feature size decoder:  42\n",
      "Total numerical feature size decoder:  2\n",
      "Input feature size decoder:  44\n",
      "Output feature list of dicts (featue name, feature output size) of decoder:  [{'concept:name': 28, 'org:resource': 151, 'lifecycle:transition': 9}, {'case_elapsed_time': 1, 'event_elapsed_time': 1}]\n",
      "Decoder initialized! \n",
      "\n",
      "Output feature list of dicts (featue name, tensor index in dataset) of decoder:  [{'concept:name': 0, 'org:resource': 2, 'lifecycle:transition': 4}, {'case_elapsed_time': 7, 'event_elapsed_time': 8}]\n"
     ]
    }
   ],
   "source": [
    "import model.dropout_uncertainty_enc_dec_LSTM.dropout_uncertainty_model\n",
    "importlib.reload(model.dropout_uncertainty_enc_dec_LSTM.dropout_uncertainty_model)\n",
    "from model.dropout_uncertainty_enc_dec_LSTM.dropout_uncertainty_model import DropoutUncertaintyEncoderDecoderLSTM\n",
    "\n",
    "# Prediction decoder output sequence length\n",
    "seq_len_pred = 4\n",
    "\n",
    "# Size hidden layer\n",
    "hidden_size = 128\n",
    "\n",
    "# Number of cells\n",
    "num_layers = 4\n",
    "\n",
    "# Fixed Dropout probability \n",
    "dropout = 0.1\n",
    "\n",
    "# Encoder Decoder model initialization\n",
    "model = DropoutUncertaintyEncoderDecoderLSTM(data_set_categories=bpic17_all_categories,\n",
    "                                             enc_feat=enc_feat,\n",
    "                                             dec_feat=dec_feat,\n",
    "                                             seq_len_pred=seq_len_pred,\n",
    "                                             hidden_size=hidden_size,\n",
    "                                             num_layers=num_layers,\n",
    "                                             dropout=dropout)"
   ]
  },
  {
   "cell_type": "markdown",
   "metadata": {},
   "source": [
    "# Loss Object Creation"
   ]
  },
  {
   "cell_type": "code",
   "execution_count": 6,
   "metadata": {
    "execution": {
     "iopub.execute_input": "2025-04-29T15:00:28.267055Z",
     "iopub.status.busy": "2025-04-29T15:00:28.266967Z",
     "iopub.status.idle": "2025-04-29T15:00:28.269293Z",
     "shell.execute_reply": "2025-04-29T15:00:28.269060Z"
    }
   },
   "outputs": [],
   "source": [
    "import loss.losses\n",
    "importlib.reload(loss.losses)\n",
    "from loss.losses import Loss\n",
    "\n",
    "loss_obj = Loss()\n",
    "\n",
    "# Numerical features trained with log-normal loss:\n",
    "log_normal_loss_num_feature = ['case_elapsed_time', 'event_elapsed_time']"
   ]
  },
  {
   "cell_type": "markdown",
   "metadata": {},
   "source": [
    "# Training Configuration"
   ]
  },
  {
   "cell_type": "code",
   "execution_count": null,
   "metadata": {
    "execution": {
     "iopub.execute_input": "2025-04-29T15:00:28.270106Z",
     "iopub.status.busy": "2025-04-29T15:00:28.270022Z",
     "iopub.status.idle": "2025-05-04T22:23:07.599008Z",
     "shell.execute_reply": "2025-05-04T22:23:07.598666Z"
    }
   },
   "outputs": [
    {
     "name": "stdout",
     "output_type": "stream",
     "text": [
      "Device:  cuda\n",
      "Model:  DropoutUncertaintyEncoderDecoderLSTM(\n",
      "  (embeddings_enc): ModuleList(\n",
      "    (0): Embedding(28, 10)\n",
      "    (1): Embedding(7, 5)\n",
      "    (2): Embedding(151, 27)\n",
      "    (3): Embedding(5, 4)\n",
      "    (4): Embedding(9, 5)\n",
      "    (5): Embedding(16, 8)\n",
      "    (6): Embedding(4, 3)\n",
      "    (7-8): 2 x Embedding(5, 4)\n",
      "  )\n",
      "  (encoder): DropoutUncertaintyLSTMEncoder(\n",
      "    (embeddings): ModuleList(\n",
      "      (0): Embedding(28, 10)\n",
      "      (1): Embedding(7, 5)\n",
      "      (2): Embedding(151, 27)\n",
      "      (3): Embedding(5, 4)\n",
      "      (4): Embedding(9, 5)\n",
      "      (5): Embedding(16, 8)\n",
      "      (6): Embedding(4, 3)\n",
      "      (7-8): 2 x Embedding(5, 4)\n",
      "    )\n",
      "    (first_layer): DropoutUncertaintyLSTMCell(\n",
      "      (Wi): Linear(in_features=79, out_features=128, bias=True)\n",
      "      (Ui): Linear(in_features=128, out_features=128, bias=True)\n",
      "      (Wf): Linear(in_features=79, out_features=128, bias=True)\n",
      "      (Uf): Linear(in_features=128, out_features=128, bias=True)\n",
      "      (Wc): Linear(in_features=79, out_features=128, bias=True)\n",
      "      (Uc): Linear(in_features=128, out_features=128, bias=True)\n",
      "      (Wo): Linear(in_features=79, out_features=128, bias=True)\n",
      "      (Uo): Linear(in_features=128, out_features=128, bias=True)\n",
      "    )\n",
      "    (hidden_layers): ModuleList(\n",
      "      (0-2): 3 x DropoutUncertaintyLSTMCell(\n",
      "        (Wi): Linear(in_features=128, out_features=128, bias=True)\n",
      "        (Ui): Linear(in_features=128, out_features=128, bias=True)\n",
      "        (Wf): Linear(in_features=128, out_features=128, bias=True)\n",
      "        (Uf): Linear(in_features=128, out_features=128, bias=True)\n",
      "        (Wc): Linear(in_features=128, out_features=128, bias=True)\n",
      "        (Uc): Linear(in_features=128, out_features=128, bias=True)\n",
      "        (Wo): Linear(in_features=128, out_features=128, bias=True)\n",
      "        (Uo): Linear(in_features=128, out_features=128, bias=True)\n",
      "      )\n",
      "    )\n",
      "  )\n",
      "  (embeddings_dec): ModuleList(\n",
      "    (0): Embedding(28, 10)\n",
      "    (1): Embedding(151, 27)\n",
      "    (2): Embedding(9, 5)\n",
      "  )\n",
      "  (decoder): DropoutUncertaintyLSTMDecoder(\n",
      "    (embeddings): ModuleList(\n",
      "      (0): Embedding(28, 10)\n",
      "      (1): Embedding(151, 27)\n",
      "      (2): Embedding(9, 5)\n",
      "    )\n",
      "    (first_layer): DropoutUncertaintyLSTMCell(\n",
      "      (Wi): Linear(in_features=44, out_features=128, bias=True)\n",
      "      (Ui): Linear(in_features=128, out_features=128, bias=True)\n",
      "      (Wf): Linear(in_features=44, out_features=128, bias=True)\n",
      "      (Uf): Linear(in_features=128, out_features=128, bias=True)\n",
      "      (Wc): Linear(in_features=44, out_features=128, bias=True)\n",
      "      (Uc): Linear(in_features=128, out_features=128, bias=True)\n",
      "      (Wo): Linear(in_features=44, out_features=128, bias=True)\n",
      "      (Uo): Linear(in_features=128, out_features=128, bias=True)\n",
      "    )\n",
      "    (hidden_layers): ModuleList(\n",
      "      (0-2): 3 x DropoutUncertaintyLSTMCell(\n",
      "        (Wi): Linear(in_features=128, out_features=128, bias=True)\n",
      "        (Ui): Linear(in_features=128, out_features=128, bias=True)\n",
      "        (Wf): Linear(in_features=128, out_features=128, bias=True)\n",
      "        (Uf): Linear(in_features=128, out_features=128, bias=True)\n",
      "        (Wc): Linear(in_features=128, out_features=128, bias=True)\n",
      "        (Uc): Linear(in_features=128, out_features=128, bias=True)\n",
      "        (Wo): Linear(in_features=128, out_features=128, bias=True)\n",
      "        (Uo): Linear(in_features=128, out_features=128, bias=True)\n",
      "      )\n",
      "    )\n",
      "    (output_layers): ModuleDict(\n",
      "      (concept:name_mean): Linear(in_features=128, out_features=28, bias=True)\n",
      "      (concept:name_var): Linear(in_features=128, out_features=28, bias=True)\n",
      "      (org:resource_mean): Linear(in_features=128, out_features=151, bias=True)\n",
      "      (org:resource_var): Linear(in_features=128, out_features=151, bias=True)\n",
      "      (lifecycle:transition_mean): Linear(in_features=128, out_features=9, bias=True)\n",
      "      (lifecycle:transition_var): Linear(in_features=128, out_features=9, bias=True)\n",
      "      (case_elapsed_time_mean): Linear(in_features=128, out_features=1, bias=True)\n",
      "      (case_elapsed_time_var): Linear(in_features=128, out_features=1, bias=True)\n",
      "      (event_elapsed_time_mean): Linear(in_features=128, out_features=1, bias=True)\n",
      "      (event_elapsed_time_var): Linear(in_features=128, out_features=1, bias=True)\n",
      "    )\n",
      "  )\n",
      ")\n",
      "Train Dataset:  <event_log_loader.new_event_log_loader.EventLogDataset object at 0x7fe757598980>\n",
      "Validation Dataset:  <event_log_loader.new_event_log_loader.EventLogDataset object at 0x7fe75745d1d0>\n",
      "Loss object for method calling:  <loss.losses.Loss object at 0x7fe567a09400>\n",
      "Num. feautures that follow log-normal PDF:  ['case_elapsed_time', 'event_elapsed_time']\n",
      "regularization:  0.0001\n",
      "Optimizer:  AdamW (\n",
      "Parameter Group 0\n",
      "    amsgrad: False\n",
      "    betas: (0.9, 0.999)\n",
      "    capturable: False\n",
      "    differentiable: False\n",
      "    eps: 1e-08\n",
      "    foreach: None\n",
      "    fused: None\n",
      "    lr: 1e-06\n",
      "    maximize: False\n",
      "    weight_decay: 0\n",
      ")\n",
      "Scheduler:  <torch.optim.lr_scheduler.ReduceLROnPlateau object at 0x7fe4e4d2e270>\n",
      "Epochs:  100\n",
      "Mini baches:  128\n",
      "Shuffle batched dataset:  True\n",
      "Teacher forcing ratio:  0.8\n",
      "Use GradNorm:  True\n",
      "GradNorm alpha:  1.5\n",
      "GradNorm learning rate:  0.0001\n",
      "Initial GradNorm loss weights:  Parameter containing:\n",
      "tensor([1., 1., 1., 1., 1.], requires_grad=True)\n",
      "Initial loss values:  None\n",
      "GradNorm optimizer:  Adam (\n",
      "Parameter Group 0\n",
      "    amsgrad: False\n",
      "    betas: (0.9, 0.999)\n",
      "    capturable: False\n",
      "    differentiable: False\n",
      "    eps: 1e-08\n",
      "    foreach: None\n",
      "    fused: None\n",
      "    lr: 0.0001\n",
      "    maximize: False\n",
      "    weight_decay: 0\n",
      ")\n"
     ]
    },
    {
     "data": {
      "application/vnd.jupyter.widget-view+json": {
       "model_id": "8ff6910df7fb462e9ce7e5c5253869ca",
       "version_major": 2,
       "version_minor": 0
      },
      "text/plain": [
       "  0%|          | 0/100 [00:00<?, ?it/s]"
      ]
     },
     "metadata": {},
     "output_type": "display_data"
    },
    {
     "name": "stdout",
     "output_type": "stream",
     "text": [
      "Epoch [1/100], Learning Rate: 1e-06, Teacher forcing ratio: 0.8\n",
      "Training: Avg Attenuated Training Loss: 12.8691\n"
     ]
    },
    {
     "name": "stdout",
     "output_type": "stream",
     "text": [
      "Validation: Avg Standard Validation Loss: 11.3875\n",
      "Validation: Avg Attenuated Validation Loss: 11.5638\n",
      "Validation Loss for Scheduler: 11.3875\n",
      "saving model\n"
     ]
    },
    {
     "name": "stdout",
     "output_type": "stream",
     "text": [
      "Epoch [2/100], Learning Rate: 1e-06, Teacher forcing ratio: 0.8\n",
      "Training: Avg Attenuated Training Loss: 11.7196\n"
     ]
    },
    {
     "name": "stdout",
     "output_type": "stream",
     "text": [
      "Validation: Avg Standard Validation Loss: 9.9820\n",
      "Validation: Avg Attenuated Validation Loss: 9.1695\n",
      "Validation Loss for Scheduler: 9.9820\n",
      "saving model\n"
     ]
    },
    {
     "name": "stdout",
     "output_type": "stream",
     "text": [
      "Epoch [3/100], Learning Rate: 1e-06, Teacher forcing ratio: 0.8\n",
      "Training: Avg Attenuated Training Loss: 10.9381\n"
     ]
    },
    {
     "name": "stdout",
     "output_type": "stream",
     "text": [
      "Validation: Avg Standard Validation Loss: 9.4744\n",
      "Validation: Avg Attenuated Validation Loss: 8.3917\n",
      "Validation Loss for Scheduler: 9.4744\n",
      "saving model\n"
     ]
    },
    {
     "name": "stdout",
     "output_type": "stream",
     "text": [
      "Epoch [4/100], Learning Rate: 1e-06, Teacher forcing ratio: 0.8\n",
      "Training: Avg Attenuated Training Loss: 10.5190\n"
     ]
    },
    {
     "name": "stdout",
     "output_type": "stream",
     "text": [
      "Validation: Avg Standard Validation Loss: 9.1676\n",
      "Validation: Avg Attenuated Validation Loss: 7.9741\n",
      "Validation Loss for Scheduler: 9.1676\n",
      "saving model\n"
     ]
    },
    {
     "name": "stdout",
     "output_type": "stream",
     "text": [
      "Epoch [5/100], Learning Rate: 1e-06, Teacher forcing ratio: 0.8\n",
      "Training: Avg Attenuated Training Loss: 9.7409\n"
     ]
    },
    {
     "name": "stdout",
     "output_type": "stream",
     "text": [
      "Validation: Avg Standard Validation Loss: 8.9729\n",
      "Validation: Avg Attenuated Validation Loss: 7.7059\n",
      "Validation Loss for Scheduler: 8.9729\n",
      "saving model\n"
     ]
    },
    {
     "name": "stdout",
     "output_type": "stream",
     "text": [
      "Epoch [6/100], Learning Rate: 1e-06, Teacher forcing ratio: 0.8\n",
      "Training: Avg Attenuated Training Loss: 8.7045\n"
     ]
    },
    {
     "name": "stdout",
     "output_type": "stream",
     "text": [
      "Validation: Avg Standard Validation Loss: 8.8381\n",
      "Validation: Avg Attenuated Validation Loss: 7.5273\n",
      "Validation Loss for Scheduler: 8.8381\n",
      "saving model\n"
     ]
    },
    {
     "name": "stdout",
     "output_type": "stream",
     "text": [
      "Epoch [7/100], Learning Rate: 1e-06, Teacher forcing ratio: 0.8\n",
      "Training: Avg Attenuated Training Loss: 7.6576\n"
     ]
    },
    {
     "name": "stdout",
     "output_type": "stream",
     "text": [
      "Validation: Avg Standard Validation Loss: 8.7305\n",
      "Validation: Avg Attenuated Validation Loss: 7.3945\n",
      "Validation Loss for Scheduler: 8.7305\n",
      "saving model\n"
     ]
    },
    {
     "name": "stdout",
     "output_type": "stream",
     "text": [
      "Epoch [8/100], Learning Rate: 1e-06, Teacher forcing ratio: 0.8\n",
      "Training: Avg Attenuated Training Loss: 6.7339\n"
     ]
    },
    {
     "name": "stdout",
     "output_type": "stream",
     "text": [
      "Validation: Avg Standard Validation Loss: 8.6661\n",
      "Validation: Avg Attenuated Validation Loss: 7.3134\n",
      "Validation Loss for Scheduler: 8.6661\n",
      "saving model\n"
     ]
    },
    {
     "name": "stdout",
     "output_type": "stream",
     "text": [
      "Epoch [9/100], Learning Rate: 1e-06, Teacher forcing ratio: 0.8\n",
      "Training: Avg Attenuated Training Loss: 6.1235\n"
     ]
    },
    {
     "name": "stdout",
     "output_type": "stream",
     "text": [
      "Validation: Avg Standard Validation Loss: 8.5774\n",
      "Validation: Avg Attenuated Validation Loss: 7.2229\n",
      "Validation Loss for Scheduler: 8.5774\n",
      "saving model\n"
     ]
    },
    {
     "name": "stdout",
     "output_type": "stream",
     "text": [
      "Epoch [10/100], Learning Rate: 1e-06, Teacher forcing ratio: 0.8\n",
      "Training: Avg Attenuated Training Loss: 5.7412\n"
     ]
    },
    {
     "name": "stdout",
     "output_type": "stream",
     "text": [
      "Validation: Avg Standard Validation Loss: 8.4662\n",
      "Validation: Avg Attenuated Validation Loss: 7.1141\n",
      "Validation Loss for Scheduler: 8.4662\n",
      "saving model\n"
     ]
    },
    {
     "name": "stdout",
     "output_type": "stream",
     "text": [
      "Epoch [11/100], Learning Rate: 1e-06, Teacher forcing ratio: 0.8\n",
      "Training: Avg Attenuated Training Loss: 5.2179\n"
     ]
    },
    {
     "name": "stdout",
     "output_type": "stream",
     "text": [
      "Validation: Avg Standard Validation Loss: 8.3725\n",
      "Validation: Avg Attenuated Validation Loss: 7.0396\n",
      "Validation Loss for Scheduler: 8.3725\n",
      "saving model\n"
     ]
    },
    {
     "name": "stdout",
     "output_type": "stream",
     "text": [
      "Epoch [12/100], Learning Rate: 1e-06, Teacher forcing ratio: 0.8\n",
      "Training: Avg Attenuated Training Loss: 4.5852\n"
     ]
    },
    {
     "name": "stdout",
     "output_type": "stream",
     "text": [
      "Validation: Avg Standard Validation Loss: 8.2590\n",
      "Validation: Avg Attenuated Validation Loss: 6.9661\n",
      "Validation Loss for Scheduler: 8.2590\n",
      "saving model\n"
     ]
    },
    {
     "name": "stdout",
     "output_type": "stream",
     "text": [
      "Epoch [13/100], Learning Rate: 1e-06, Teacher forcing ratio: 0.8\n",
      "Training: Avg Attenuated Training Loss: 3.9588\n"
     ]
    },
    {
     "name": "stdout",
     "output_type": "stream",
     "text": [
      "Validation: Avg Standard Validation Loss: 8.1679\n",
      "Validation: Avg Attenuated Validation Loss: 6.9051\n",
      "Validation Loss for Scheduler: 8.1679\n",
      "saving model\n"
     ]
    },
    {
     "name": "stdout",
     "output_type": "stream",
     "text": [
      "Epoch [14/100], Learning Rate: 1e-06, Teacher forcing ratio: 0.8\n",
      "Training: Avg Attenuated Training Loss: 3.3743\n"
     ]
    },
    {
     "name": "stdout",
     "output_type": "stream",
     "text": [
      "Validation: Avg Standard Validation Loss: 8.0945\n",
      "Validation: Avg Attenuated Validation Loss: 6.8761\n",
      "Validation Loss for Scheduler: 8.0945\n",
      "saving model\n"
     ]
    },
    {
     "name": "stdout",
     "output_type": "stream",
     "text": [
      "Epoch [15/100], Learning Rate: 1e-06, Teacher forcing ratio: 0.8\n",
      "Training: Avg Attenuated Training Loss: 2.8881\n"
     ]
    },
    {
     "name": "stdout",
     "output_type": "stream",
     "text": [
      "Validation: Avg Standard Validation Loss: 8.0304\n",
      "Validation: Avg Attenuated Validation Loss: 6.8611\n",
      "Validation Loss for Scheduler: 8.0304\n",
      "saving model\n"
     ]
    },
    {
     "name": "stdout",
     "output_type": "stream",
     "text": [
      "Epoch [16/100], Learning Rate: 1e-06, Teacher forcing ratio: 0.8\n",
      "Training: Avg Attenuated Training Loss: 2.5510\n"
     ]
    },
    {
     "name": "stdout",
     "output_type": "stream",
     "text": [
      "Validation: Avg Standard Validation Loss: 7.9810\n",
      "Validation: Avg Attenuated Validation Loss: 6.8680\n",
      "Validation Loss for Scheduler: 7.9810\n",
      "saving model\n"
     ]
    },
    {
     "name": "stdout",
     "output_type": "stream",
     "text": [
      "Epoch [17/100], Learning Rate: 1e-06, Teacher forcing ratio: 0.8\n",
      "Training: Avg Attenuated Training Loss: 2.3147\n"
     ]
    },
    {
     "name": "stdout",
     "output_type": "stream",
     "text": [
      "Validation: Avg Standard Validation Loss: 7.9288\n",
      "Validation: Avg Attenuated Validation Loss: 6.8906\n",
      "Validation Loss for Scheduler: 7.9288\n",
      "saving model\n"
     ]
    },
    {
     "name": "stdout",
     "output_type": "stream",
     "text": [
      "Epoch [18/100], Learning Rate: 1e-06, Teacher forcing ratio: 0.8\n",
      "Training: Avg Attenuated Training Loss: 2.2025\n"
     ]
    },
    {
     "name": "stdout",
     "output_type": "stream",
     "text": [
      "Validation: Avg Standard Validation Loss: 7.8744\n",
      "Validation: Avg Attenuated Validation Loss: 6.8881\n",
      "Validation Loss for Scheduler: 7.8744\n",
      "saving model\n"
     ]
    },
    {
     "name": "stdout",
     "output_type": "stream",
     "text": [
      "Epoch [19/100], Learning Rate: 1e-06, Teacher forcing ratio: 0.8\n",
      "Training: Avg Attenuated Training Loss: 2.1408\n"
     ]
    },
    {
     "name": "stdout",
     "output_type": "stream",
     "text": [
      "Validation: Avg Standard Validation Loss: 7.8226\n",
      "Validation: Avg Attenuated Validation Loss: 6.8354\n",
      "Validation Loss for Scheduler: 7.8226\n",
      "saving model\n"
     ]
    },
    {
     "name": "stdout",
     "output_type": "stream",
     "text": [
      "Epoch [20/100], Learning Rate: 1e-06, Teacher forcing ratio: 0.8\n",
      "Training: Avg Attenuated Training Loss: 1.9918\n"
     ]
    },
    {
     "name": "stdout",
     "output_type": "stream",
     "text": [
      "Validation: Avg Standard Validation Loss: 7.7738\n",
      "Validation: Avg Attenuated Validation Loss: 6.8317\n",
      "Validation Loss for Scheduler: 7.7738\n",
      "saving model\n"
     ]
    },
    {
     "name": "stdout",
     "output_type": "stream",
     "text": [
      "Epoch [21/100], Learning Rate: 1e-06, Teacher forcing ratio: 0.768\n",
      "Training: Avg Attenuated Training Loss: 1.9123\n"
     ]
    },
    {
     "name": "stdout",
     "output_type": "stream",
     "text": [
      "Validation: Avg Standard Validation Loss: 7.7175\n",
      "Validation: Avg Attenuated Validation Loss: 6.7571\n",
      "Validation Loss for Scheduler: 7.7175\n",
      "saving model\n"
     ]
    },
    {
     "name": "stdout",
     "output_type": "stream",
     "text": [
      "Epoch [22/100], Learning Rate: 1e-06, Teacher forcing ratio: 0.768\n",
      "Training: Avg Attenuated Training Loss: 1.7861\n"
     ]
    },
    {
     "name": "stdout",
     "output_type": "stream",
     "text": [
      "Validation: Avg Standard Validation Loss: 7.6581\n",
      "Validation: Avg Attenuated Validation Loss: 6.6815\n",
      "Validation Loss for Scheduler: 7.6581\n",
      "saving model\n"
     ]
    },
    {
     "name": "stdout",
     "output_type": "stream",
     "text": [
      "Epoch [23/100], Learning Rate: 1e-06, Teacher forcing ratio: 0.768\n",
      "Training: Avg Attenuated Training Loss: 1.5691\n"
     ]
    },
    {
     "name": "stdout",
     "output_type": "stream",
     "text": [
      "Validation: Avg Standard Validation Loss: 7.6206\n",
      "Validation: Avg Attenuated Validation Loss: 6.6428\n",
      "Validation Loss for Scheduler: 7.6206\n",
      "saving model\n"
     ]
    },
    {
     "name": "stdout",
     "output_type": "stream",
     "text": [
      "Epoch [24/100], Learning Rate: 1e-06, Teacher forcing ratio: 0.768\n",
      "Training: Avg Attenuated Training Loss: 1.4344\n"
     ]
    },
    {
     "name": "stdout",
     "output_type": "stream",
     "text": [
      "Validation: Avg Standard Validation Loss: 7.5702\n",
      "Validation: Avg Attenuated Validation Loss: 6.5907\n",
      "Validation Loss for Scheduler: 7.5702\n",
      "saving model\n"
     ]
    },
    {
     "name": "stdout",
     "output_type": "stream",
     "text": [
      "Epoch [25/100], Learning Rate: 1e-06, Teacher forcing ratio: 0.768\n",
      "Training: Avg Attenuated Training Loss: 1.2016\n"
     ]
    },
    {
     "name": "stdout",
     "output_type": "stream",
     "text": [
      "Validation: Avg Standard Validation Loss: 7.5340\n",
      "Validation: Avg Attenuated Validation Loss: 6.5647\n",
      "Validation Loss for Scheduler: 7.5340\n",
      "saving model\n"
     ]
    },
    {
     "name": "stdout",
     "output_type": "stream",
     "text": [
      "Epoch [26/100], Learning Rate: 1e-06, Teacher forcing ratio: 0.768\n",
      "Training: Avg Attenuated Training Loss: 0.9805\n"
     ]
    },
    {
     "name": "stdout",
     "output_type": "stream",
     "text": [
      "Validation: Avg Standard Validation Loss: 7.4918\n",
      "Validation: Avg Attenuated Validation Loss: 6.5145\n",
      "Validation Loss for Scheduler: 7.4918\n",
      "saving model\n"
     ]
    },
    {
     "name": "stdout",
     "output_type": "stream",
     "text": [
      "Epoch [27/100], Learning Rate: 1e-06, Teacher forcing ratio: 0.768\n",
      "Training: Avg Attenuated Training Loss: 0.7279\n"
     ]
    },
    {
     "name": "stdout",
     "output_type": "stream",
     "text": [
      "Validation: Avg Standard Validation Loss: 7.4582\n",
      "Validation: Avg Attenuated Validation Loss: 6.4430\n",
      "Validation Loss for Scheduler: 7.4582\n",
      "saving model\n"
     ]
    },
    {
     "name": "stdout",
     "output_type": "stream",
     "text": [
      "Epoch [28/100], Learning Rate: 1e-06, Teacher forcing ratio: 0.768\n",
      "Training: Avg Attenuated Training Loss: 0.4646\n"
     ]
    },
    {
     "name": "stdout",
     "output_type": "stream",
     "text": [
      "Validation: Avg Standard Validation Loss: 7.4339\n",
      "Validation: Avg Attenuated Validation Loss: 6.4365\n",
      "Validation Loss for Scheduler: 7.4339\n",
      "saving model\n"
     ]
    },
    {
     "name": "stdout",
     "output_type": "stream",
     "text": [
      "Epoch [29/100], Learning Rate: 1e-06, Teacher forcing ratio: 0.768\n",
      "Training: Avg Attenuated Training Loss: 0.2505\n"
     ]
    },
    {
     "name": "stdout",
     "output_type": "stream",
     "text": [
      "Validation: Avg Standard Validation Loss: 7.4133\n",
      "Validation: Avg Attenuated Validation Loss: 6.4231\n",
      "Validation Loss for Scheduler: 7.4133\n",
      "saving model\n"
     ]
    },
    {
     "name": "stdout",
     "output_type": "stream",
     "text": [
      "Epoch [30/100], Learning Rate: 1e-06, Teacher forcing ratio: 0.768\n",
      "Training: Avg Attenuated Training Loss: 0.0683\n"
     ]
    },
    {
     "name": "stdout",
     "output_type": "stream",
     "text": [
      "Validation: Avg Standard Validation Loss: 7.3898\n",
      "Validation: Avg Attenuated Validation Loss: 6.4008\n",
      "Validation Loss for Scheduler: 7.3898\n",
      "saving model\n"
     ]
    },
    {
     "name": "stdout",
     "output_type": "stream",
     "text": [
      "Epoch [31/100], Learning Rate: 1e-06, Teacher forcing ratio: 0.768\n",
      "Training: Avg Attenuated Training Loss: -0.0927\n"
     ]
    },
    {
     "name": "stdout",
     "output_type": "stream",
     "text": [
      "Validation: Avg Standard Validation Loss: 7.3698\n",
      "Validation: Avg Attenuated Validation Loss: 6.3679\n",
      "Validation Loss for Scheduler: 7.3698\n",
      "saving model\n"
     ]
    },
    {
     "name": "stdout",
     "output_type": "stream",
     "text": [
      "Epoch [32/100], Learning Rate: 1e-06, Teacher forcing ratio: 0.768\n",
      "Training: Avg Attenuated Training Loss: -0.3129\n"
     ]
    },
    {
     "name": "stdout",
     "output_type": "stream",
     "text": [
      "Validation: Avg Standard Validation Loss: 7.3545\n",
      "Validation: Avg Attenuated Validation Loss: 6.3555\n",
      "Validation Loss for Scheduler: 7.3545\n",
      "saving model\n"
     ]
    },
    {
     "name": "stdout",
     "output_type": "stream",
     "text": [
      "Epoch [33/100], Learning Rate: 1e-06, Teacher forcing ratio: 0.768\n",
      "Training: Avg Attenuated Training Loss: -0.4314\n"
     ]
    },
    {
     "name": "stdout",
     "output_type": "stream",
     "text": [
      "Validation: Avg Standard Validation Loss: 7.3364\n",
      "Validation: Avg Attenuated Validation Loss: 6.3684\n",
      "Validation Loss for Scheduler: 7.3364\n",
      "saving model\n"
     ]
    },
    {
     "name": "stdout",
     "output_type": "stream",
     "text": [
      "Epoch [34/100], Learning Rate: 1e-06, Teacher forcing ratio: 0.768\n",
      "Training: Avg Attenuated Training Loss: -0.5413\n"
     ]
    },
    {
     "name": "stdout",
     "output_type": "stream",
     "text": [
      "Validation: Avg Standard Validation Loss: 7.3228\n",
      "Validation: Avg Attenuated Validation Loss: 6.3232\n",
      "Validation Loss for Scheduler: 7.3228\n",
      "saving model\n"
     ]
    },
    {
     "name": "stdout",
     "output_type": "stream",
     "text": [
      "Epoch [35/100], Learning Rate: 1e-06, Teacher forcing ratio: 0.768\n",
      "Training: Avg Attenuated Training Loss: -0.6771\n"
     ]
    },
    {
     "name": "stdout",
     "output_type": "stream",
     "text": [
      "Validation: Avg Standard Validation Loss: 7.3133\n",
      "Validation: Avg Attenuated Validation Loss: 6.3800\n",
      "Validation Loss for Scheduler: 7.3133\n",
      "saving model\n"
     ]
    },
    {
     "name": "stdout",
     "output_type": "stream",
     "text": [
      "Epoch [36/100], Learning Rate: 1e-06, Teacher forcing ratio: 0.768\n",
      "Training: Avg Attenuated Training Loss: -0.7110\n"
     ]
    },
    {
     "name": "stdout",
     "output_type": "stream",
     "text": [
      "Validation: Avg Standard Validation Loss: 7.2877\n",
      "Validation: Avg Attenuated Validation Loss: 6.3442\n",
      "Validation Loss for Scheduler: 7.2877\n",
      "saving model\n"
     ]
    },
    {
     "name": "stdout",
     "output_type": "stream",
     "text": [
      "Epoch [37/100], Learning Rate: 1e-06, Teacher forcing ratio: 0.768\n",
      "Training: Avg Attenuated Training Loss: -0.7524\n"
     ]
    },
    {
     "name": "stdout",
     "output_type": "stream",
     "text": [
      "Validation: Avg Standard Validation Loss: 7.2769\n",
      "Validation: Avg Attenuated Validation Loss: 6.3286\n",
      "Validation Loss for Scheduler: 7.2769\n",
      "saving model\n"
     ]
    },
    {
     "name": "stdout",
     "output_type": "stream",
     "text": [
      "Epoch [38/100], Learning Rate: 1e-06, Teacher forcing ratio: 0.768\n",
      "Training: Avg Attenuated Training Loss: -0.7761\n"
     ]
    },
    {
     "name": "stdout",
     "output_type": "stream",
     "text": [
      "Validation: Avg Standard Validation Loss: 7.2522\n",
      "Validation: Avg Attenuated Validation Loss: 6.3223\n",
      "Validation Loss for Scheduler: 7.2522\n",
      "saving model\n"
     ]
    },
    {
     "name": "stdout",
     "output_type": "stream",
     "text": [
      "Epoch [39/100], Learning Rate: 1e-06, Teacher forcing ratio: 0.768\n",
      "Training: Avg Attenuated Training Loss: -0.7985\n"
     ]
    },
    {
     "name": "stdout",
     "output_type": "stream",
     "text": [
      "Validation: Avg Standard Validation Loss: 7.2454\n",
      "Validation: Avg Attenuated Validation Loss: 6.3629\n",
      "Validation Loss for Scheduler: 7.2454\n",
      "saving model\n"
     ]
    },
    {
     "name": "stdout",
     "output_type": "stream",
     "text": [
      "Epoch [40/100], Learning Rate: 1e-06, Teacher forcing ratio: 0.768\n",
      "Training: Avg Attenuated Training Loss: -0.7198\n"
     ]
    },
    {
     "name": "stdout",
     "output_type": "stream",
     "text": [
      "Validation: Avg Standard Validation Loss: 7.2346\n",
      "Validation: Avg Attenuated Validation Loss: 6.3399\n",
      "Validation Loss for Scheduler: 7.2346\n",
      "saving model\n"
     ]
    },
    {
     "name": "stdout",
     "output_type": "stream",
     "text": [
      "Epoch [41/100], Learning Rate: 1e-06, Teacher forcing ratio: 0.73728\n",
      "Training: Avg Attenuated Training Loss: -0.6150\n"
     ]
    },
    {
     "name": "stdout",
     "output_type": "stream",
     "text": [
      "Validation: Avg Standard Validation Loss: 7.1890\n",
      "Validation: Avg Attenuated Validation Loss: 6.2617\n",
      "Validation Loss for Scheduler: 7.1890\n",
      "saving model\n"
     ]
    },
    {
     "name": "stdout",
     "output_type": "stream",
     "text": [
      "Epoch [42/100], Learning Rate: 1e-06, Teacher forcing ratio: 0.73728\n",
      "Training: Avg Attenuated Training Loss: -0.6346\n"
     ]
    },
    {
     "name": "stdout",
     "output_type": "stream",
     "text": [
      "Validation: Avg Standard Validation Loss: 7.1754\n",
      "Validation: Avg Attenuated Validation Loss: 6.2789\n",
      "Validation Loss for Scheduler: 7.1754\n",
      "saving model\n"
     ]
    },
    {
     "name": "stdout",
     "output_type": "stream",
     "text": [
      "Epoch [43/100], Learning Rate: 1e-06, Teacher forcing ratio: 0.73728\n",
      "Training: Avg Attenuated Training Loss: -0.5802\n"
     ]
    },
    {
     "name": "stdout",
     "output_type": "stream",
     "text": [
      "Validation: Avg Standard Validation Loss: 7.1556\n",
      "Validation: Avg Attenuated Validation Loss: 6.3216\n",
      "Validation Loss for Scheduler: 7.1556\n",
      "saving model\n"
     ]
    },
    {
     "name": "stdout",
     "output_type": "stream",
     "text": [
      "Epoch [44/100], Learning Rate: 1e-06, Teacher forcing ratio: 0.73728\n",
      "Training: Avg Attenuated Training Loss: -0.5207\n"
     ]
    },
    {
     "name": "stdout",
     "output_type": "stream",
     "text": [
      "Validation: Avg Standard Validation Loss: 7.1382\n",
      "Validation: Avg Attenuated Validation Loss: 6.2613\n",
      "Validation Loss for Scheduler: 7.1382\n",
      "saving model\n"
     ]
    },
    {
     "name": "stdout",
     "output_type": "stream",
     "text": [
      "Epoch [45/100], Learning Rate: 1e-06, Teacher forcing ratio: 0.73728\n",
      "Training: Avg Attenuated Training Loss: -0.5174\n"
     ]
    },
    {
     "name": "stdout",
     "output_type": "stream",
     "text": [
      "Validation: Avg Standard Validation Loss: 7.1157\n",
      "Validation: Avg Attenuated Validation Loss: 6.2693\n",
      "Validation Loss for Scheduler: 7.1157\n",
      "saving model\n"
     ]
    },
    {
     "name": "stdout",
     "output_type": "stream",
     "text": [
      "Epoch [46/100], Learning Rate: 1e-06, Teacher forcing ratio: 0.73728\n",
      "Training: Avg Attenuated Training Loss: -0.5228\n"
     ]
    },
    {
     "name": "stdout",
     "output_type": "stream",
     "text": [
      "Validation: Avg Standard Validation Loss: 7.0868\n",
      "Validation: Avg Attenuated Validation Loss: 6.1957\n",
      "Validation Loss for Scheduler: 7.0868\n",
      "saving model\n"
     ]
    },
    {
     "name": "stdout",
     "output_type": "stream",
     "text": [
      "Epoch [47/100], Learning Rate: 1e-06, Teacher forcing ratio: 0.73728\n",
      "Training: Avg Attenuated Training Loss: -0.5894\n"
     ]
    },
    {
     "name": "stdout",
     "output_type": "stream",
     "text": [
      "Validation: Avg Standard Validation Loss: 7.0713\n",
      "Validation: Avg Attenuated Validation Loss: 6.1572\n",
      "Validation Loss for Scheduler: 7.0713\n",
      "saving model\n"
     ]
    },
    {
     "name": "stdout",
     "output_type": "stream",
     "text": [
      "Epoch [48/100], Learning Rate: 1e-06, Teacher forcing ratio: 0.73728\n",
      "Training: Avg Attenuated Training Loss: -0.6741\n"
     ]
    },
    {
     "name": "stdout",
     "output_type": "stream",
     "text": [
      "Validation: Avg Standard Validation Loss: 7.0548\n",
      "Validation: Avg Attenuated Validation Loss: 6.1247\n",
      "Validation Loss for Scheduler: 7.0548\n",
      "saving model\n"
     ]
    },
    {
     "name": "stdout",
     "output_type": "stream",
     "text": [
      "Epoch [49/100], Learning Rate: 1e-06, Teacher forcing ratio: 0.73728\n",
      "Training: Avg Attenuated Training Loss: -0.7353\n"
     ]
    },
    {
     "name": "stdout",
     "output_type": "stream",
     "text": [
      "Validation: Avg Standard Validation Loss: 7.0313\n",
      "Validation: Avg Attenuated Validation Loss: 6.0996\n",
      "Validation Loss for Scheduler: 7.0313\n",
      "saving model\n"
     ]
    },
    {
     "name": "stdout",
     "output_type": "stream",
     "text": [
      "Epoch [50/100], Learning Rate: 1e-06, Teacher forcing ratio: 0.73728\n",
      "Training: Avg Attenuated Training Loss: -0.8048\n"
     ]
    },
    {
     "name": "stdout",
     "output_type": "stream",
     "text": [
      "Validation: Avg Standard Validation Loss: 7.0099\n",
      "Validation: Avg Attenuated Validation Loss: 6.0688\n",
      "Validation Loss for Scheduler: 7.0099\n",
      "saving model\n"
     ]
    },
    {
     "name": "stdout",
     "output_type": "stream",
     "text": [
      "Epoch [51/100], Learning Rate: 1e-06, Teacher forcing ratio: 0.73728\n",
      "Training: Avg Attenuated Training Loss: -0.8745\n"
     ]
    },
    {
     "name": "stdout",
     "output_type": "stream",
     "text": [
      "Validation: Avg Standard Validation Loss: 6.9855\n",
      "Validation: Avg Attenuated Validation Loss: 6.0823\n",
      "Validation Loss for Scheduler: 6.9855\n",
      "saving model\n"
     ]
    },
    {
     "name": "stdout",
     "output_type": "stream",
     "text": [
      "Epoch [52/100], Learning Rate: 1e-06, Teacher forcing ratio: 0.73728\n",
      "Training: Avg Attenuated Training Loss: -0.9728\n"
     ]
    },
    {
     "name": "stdout",
     "output_type": "stream",
     "text": [
      "Validation: Avg Standard Validation Loss: 6.9642\n",
      "Validation: Avg Attenuated Validation Loss: 6.0496\n",
      "Validation Loss for Scheduler: 6.9642\n",
      "saving model\n"
     ]
    },
    {
     "name": "stdout",
     "output_type": "stream",
     "text": [
      "Epoch [53/100], Learning Rate: 1e-06, Teacher forcing ratio: 0.73728\n",
      "Training: Avg Attenuated Training Loss: -1.0930\n"
     ]
    },
    {
     "name": "stdout",
     "output_type": "stream",
     "text": [
      "Validation: Avg Standard Validation Loss: 6.9536\n",
      "Validation: Avg Attenuated Validation Loss: 6.0084\n",
      "Validation Loss for Scheduler: 6.9536\n",
      "saving model\n"
     ]
    },
    {
     "name": "stdout",
     "output_type": "stream",
     "text": [
      "Epoch [54/100], Learning Rate: 1e-06, Teacher forcing ratio: 0.73728\n",
      "Training: Avg Attenuated Training Loss: -1.1547\n"
     ]
    },
    {
     "name": "stdout",
     "output_type": "stream",
     "text": [
      "Validation: Avg Standard Validation Loss: 6.9367\n",
      "Validation: Avg Attenuated Validation Loss: 6.0543\n",
      "Validation Loss for Scheduler: 6.9367\n",
      "saving model\n"
     ]
    },
    {
     "name": "stdout",
     "output_type": "stream",
     "text": [
      "Epoch [55/100], Learning Rate: 1e-06, Teacher forcing ratio: 0.73728\n",
      "Training: Avg Attenuated Training Loss: -1.2096\n"
     ]
    },
    {
     "name": "stdout",
     "output_type": "stream",
     "text": [
      "Validation: Avg Standard Validation Loss: 6.9129\n",
      "Validation: Avg Attenuated Validation Loss: 5.9835\n",
      "Validation Loss for Scheduler: 6.9129\n",
      "saving model\n"
     ]
    },
    {
     "name": "stdout",
     "output_type": "stream",
     "text": [
      "Epoch [56/100], Learning Rate: 1e-06, Teacher forcing ratio: 0.73728\n",
      "Training: Avg Attenuated Training Loss: -1.3197\n"
     ]
    },
    {
     "name": "stdout",
     "output_type": "stream",
     "text": [
      "Validation: Avg Standard Validation Loss: 6.8971\n",
      "Validation: Avg Attenuated Validation Loss: 5.9421\n",
      "Validation Loss for Scheduler: 6.8971\n",
      "saving model\n"
     ]
    },
    {
     "name": "stdout",
     "output_type": "stream",
     "text": [
      "Epoch [57/100], Learning Rate: 1e-06, Teacher forcing ratio: 0.73728\n",
      "Training: Avg Attenuated Training Loss: -1.3847\n"
     ]
    },
    {
     "name": "stdout",
     "output_type": "stream",
     "text": [
      "Validation: Avg Standard Validation Loss: 6.8819\n",
      "Validation: Avg Attenuated Validation Loss: 5.9701\n",
      "Validation Loss for Scheduler: 6.8819\n",
      "saving model\n"
     ]
    },
    {
     "name": "stdout",
     "output_type": "stream",
     "text": [
      "Epoch [58/100], Learning Rate: 1e-06, Teacher forcing ratio: 0.73728\n",
      "Training: Avg Attenuated Training Loss: -1.4885\n"
     ]
    },
    {
     "name": "stdout",
     "output_type": "stream",
     "text": [
      "Validation: Avg Standard Validation Loss: 6.8742\n",
      "Validation: Avg Attenuated Validation Loss: 5.8953\n",
      "Validation Loss for Scheduler: 6.8742\n",
      "saving model\n"
     ]
    },
    {
     "name": "stdout",
     "output_type": "stream",
     "text": [
      "Epoch [59/100], Learning Rate: 1e-06, Teacher forcing ratio: 0.73728\n",
      "Training: Avg Attenuated Training Loss: -1.5467\n"
     ]
    },
    {
     "name": "stdout",
     "output_type": "stream",
     "text": [
      "Validation: Avg Standard Validation Loss: 6.8529\n",
      "Validation: Avg Attenuated Validation Loss: 5.9011\n",
      "Validation Loss for Scheduler: 6.8529\n",
      "saving model\n"
     ]
    },
    {
     "name": "stdout",
     "output_type": "stream",
     "text": [
      "Epoch [60/100], Learning Rate: 1e-06, Teacher forcing ratio: 0.73728\n",
      "Training: Avg Attenuated Training Loss: -1.6092\n"
     ]
    },
    {
     "name": "stdout",
     "output_type": "stream",
     "text": [
      "Validation: Avg Standard Validation Loss: 6.8409\n",
      "Validation: Avg Attenuated Validation Loss: 5.8804\n",
      "Validation Loss for Scheduler: 6.8409\n",
      "saving model\n"
     ]
    },
    {
     "name": "stdout",
     "output_type": "stream",
     "text": [
      "Epoch [61/100], Learning Rate: 1e-06, Teacher forcing ratio: 0.7077888\n",
      "Training: Avg Attenuated Training Loss: -1.5994\n"
     ]
    },
    {
     "name": "stdout",
     "output_type": "stream",
     "text": [
      "Validation: Avg Standard Validation Loss: 6.8152\n",
      "Validation: Avg Attenuated Validation Loss: 5.8538\n",
      "Validation Loss for Scheduler: 6.8152\n",
      "saving model\n"
     ]
    },
    {
     "name": "stdout",
     "output_type": "stream",
     "text": [
      "Epoch [62/100], Learning Rate: 1e-06, Teacher forcing ratio: 0.7077888\n",
      "Training: Avg Attenuated Training Loss: -1.6381\n"
     ]
    },
    {
     "name": "stdout",
     "output_type": "stream",
     "text": [
      "Validation: Avg Standard Validation Loss: 6.7994\n",
      "Validation: Avg Attenuated Validation Loss: 5.7983\n",
      "Validation Loss for Scheduler: 6.7994\n",
      "saving model\n"
     ]
    },
    {
     "name": "stdout",
     "output_type": "stream",
     "text": [
      "Epoch [63/100], Learning Rate: 1e-06, Teacher forcing ratio: 0.7077888\n",
      "Training: Avg Attenuated Training Loss: -1.7057\n"
     ]
    },
    {
     "name": "stdout",
     "output_type": "stream",
     "text": [
      "Validation: Avg Standard Validation Loss: 6.7783\n",
      "Validation: Avg Attenuated Validation Loss: 5.8284\n",
      "Validation Loss for Scheduler: 6.7783\n",
      "saving model\n"
     ]
    },
    {
     "name": "stdout",
     "output_type": "stream",
     "text": [
      "Epoch [64/100], Learning Rate: 1e-06, Teacher forcing ratio: 0.7077888\n",
      "Training: Avg Attenuated Training Loss: -1.7451\n"
     ]
    },
    {
     "name": "stdout",
     "output_type": "stream",
     "text": [
      "Validation: Avg Standard Validation Loss: 6.7699\n",
      "Validation: Avg Attenuated Validation Loss: 5.7679\n",
      "Validation Loss for Scheduler: 6.7699\n",
      "saving model\n"
     ]
    },
    {
     "name": "stdout",
     "output_type": "stream",
     "text": [
      "Epoch [65/100], Learning Rate: 1e-06, Teacher forcing ratio: 0.7077888\n",
      "Training: Avg Attenuated Training Loss: -1.7673\n"
     ]
    },
    {
     "name": "stdout",
     "output_type": "stream",
     "text": [
      "Validation: Avg Standard Validation Loss: 6.7425\n",
      "Validation: Avg Attenuated Validation Loss: 5.6901\n",
      "Validation Loss for Scheduler: 6.7425\n",
      "saving model\n"
     ]
    },
    {
     "name": "stdout",
     "output_type": "stream",
     "text": [
      "Epoch [66/100], Learning Rate: 1e-06, Teacher forcing ratio: 0.7077888\n",
      "Training: Avg Attenuated Training Loss: -1.8139\n"
     ]
    },
    {
     "name": "stdout",
     "output_type": "stream",
     "text": [
      "Validation: Avg Standard Validation Loss: 6.7342\n",
      "Validation: Avg Attenuated Validation Loss: 5.6980\n",
      "Validation Loss for Scheduler: 6.7342\n",
      "saving model\n"
     ]
    },
    {
     "name": "stdout",
     "output_type": "stream",
     "text": [
      "Epoch [67/100], Learning Rate: 1e-06, Teacher forcing ratio: 0.7077888\n",
      "Training: Avg Attenuated Training Loss: -1.8858\n"
     ]
    },
    {
     "name": "stdout",
     "output_type": "stream",
     "text": [
      "Validation: Avg Standard Validation Loss: 6.7173\n",
      "Validation: Avg Attenuated Validation Loss: 5.6829\n",
      "Validation Loss for Scheduler: 6.7173\n",
      "saving model\n"
     ]
    },
    {
     "name": "stdout",
     "output_type": "stream",
     "text": [
      "Epoch [68/100], Learning Rate: 1e-06, Teacher forcing ratio: 0.7077888\n",
      "Training: Avg Attenuated Training Loss: -1.9020\n"
     ]
    },
    {
     "name": "stdout",
     "output_type": "stream",
     "text": [
      "Validation: Avg Standard Validation Loss: 6.7034\n",
      "Validation: Avg Attenuated Validation Loss: 5.6689\n",
      "Validation Loss for Scheduler: 6.7034\n",
      "saving model\n"
     ]
    },
    {
     "name": "stdout",
     "output_type": "stream",
     "text": [
      "Epoch [69/100], Learning Rate: 1e-06, Teacher forcing ratio: 0.7077888\n",
      "Training: Avg Attenuated Training Loss: -1.9394\n"
     ]
    },
    {
     "name": "stdout",
     "output_type": "stream",
     "text": [
      "Validation: Avg Standard Validation Loss: 6.6890\n",
      "Validation: Avg Attenuated Validation Loss: 5.6566\n",
      "Validation Loss for Scheduler: 6.6890\n",
      "saving model\n"
     ]
    },
    {
     "name": "stdout",
     "output_type": "stream",
     "text": [
      "Epoch [70/100], Learning Rate: 1e-06, Teacher forcing ratio: 0.7077888\n",
      "Training: Avg Attenuated Training Loss: -1.9696\n"
     ]
    },
    {
     "name": "stdout",
     "output_type": "stream",
     "text": [
      "Validation: Avg Standard Validation Loss: 6.6811\n",
      "Validation: Avg Attenuated Validation Loss: 5.6351\n",
      "Validation Loss for Scheduler: 6.6811\n",
      "saving model\n"
     ]
    },
    {
     "name": "stdout",
     "output_type": "stream",
     "text": [
      "Epoch [71/100], Learning Rate: 1e-06, Teacher forcing ratio: 0.7077888\n",
      "Training: Avg Attenuated Training Loss: -1.9641\n"
     ]
    },
    {
     "name": "stdout",
     "output_type": "stream",
     "text": [
      "Validation: Avg Standard Validation Loss: 6.6655\n",
      "Validation: Avg Attenuated Validation Loss: 5.6353\n",
      "Validation Loss for Scheduler: 6.6655\n",
      "saving model\n"
     ]
    },
    {
     "name": "stdout",
     "output_type": "stream",
     "text": [
      "Epoch [72/100], Learning Rate: 1e-06, Teacher forcing ratio: 0.7077888\n",
      "Training: Avg Attenuated Training Loss: -2.0223\n"
     ]
    },
    {
     "name": "stdout",
     "output_type": "stream",
     "text": [
      "Validation: Avg Standard Validation Loss: 6.6421\n",
      "Validation: Avg Attenuated Validation Loss: 5.6262\n",
      "Validation Loss for Scheduler: 6.6421\n",
      "saving model\n"
     ]
    },
    {
     "name": "stdout",
     "output_type": "stream",
     "text": [
      "Epoch [73/100], Learning Rate: 1e-06, Teacher forcing ratio: 0.7077888\n",
      "Training: Avg Attenuated Training Loss: -2.0578\n"
     ]
    },
    {
     "name": "stdout",
     "output_type": "stream",
     "text": [
      "Validation: Avg Standard Validation Loss: 6.6387\n",
      "Validation: Avg Attenuated Validation Loss: 5.6272\n",
      "Validation Loss for Scheduler: 6.6387\n",
      "saving model\n"
     ]
    },
    {
     "name": "stdout",
     "output_type": "stream",
     "text": [
      "Epoch [74/100], Learning Rate: 1e-06, Teacher forcing ratio: 0.7077888\n",
      "Training: Avg Attenuated Training Loss: -2.0531\n"
     ]
    },
    {
     "name": "stdout",
     "output_type": "stream",
     "text": [
      "Validation: Avg Standard Validation Loss: 6.6170\n",
      "Validation: Avg Attenuated Validation Loss: 5.5831\n",
      "Validation Loss for Scheduler: 6.6170\n",
      "saving model\n"
     ]
    },
    {
     "name": "stdout",
     "output_type": "stream",
     "text": [
      "Epoch [75/100], Learning Rate: 1e-06, Teacher forcing ratio: 0.7077888\n",
      "Training: Avg Attenuated Training Loss: -2.0891\n"
     ]
    },
    {
     "name": "stdout",
     "output_type": "stream",
     "text": [
      "Validation: Avg Standard Validation Loss: 6.6001\n",
      "Validation: Avg Attenuated Validation Loss: 5.5847\n",
      "Validation Loss for Scheduler: 6.6001\n",
      "saving model\n"
     ]
    },
    {
     "name": "stdout",
     "output_type": "stream",
     "text": [
      "Epoch [76/100], Learning Rate: 1e-06, Teacher forcing ratio: 0.7077888\n",
      "Training: Avg Attenuated Training Loss: -2.1144\n"
     ]
    },
    {
     "name": "stdout",
     "output_type": "stream",
     "text": [
      "Validation: Avg Standard Validation Loss: 6.5928\n",
      "Validation: Avg Attenuated Validation Loss: 5.5832\n",
      "Validation Loss for Scheduler: 6.5928\n",
      "saving model\n"
     ]
    },
    {
     "name": "stdout",
     "output_type": "stream",
     "text": [
      "Epoch [77/100], Learning Rate: 1e-06, Teacher forcing ratio: 0.7077888\n",
      "Training: Avg Attenuated Training Loss: -2.1341\n"
     ]
    },
    {
     "name": "stdout",
     "output_type": "stream",
     "text": [
      "Validation: Avg Standard Validation Loss: 6.5772\n",
      "Validation: Avg Attenuated Validation Loss: 5.5888\n",
      "Validation Loss for Scheduler: 6.5772\n",
      "saving model\n"
     ]
    },
    {
     "name": "stdout",
     "output_type": "stream",
     "text": [
      "Epoch [78/100], Learning Rate: 1e-06, Teacher forcing ratio: 0.7077888\n",
      "Training: Avg Attenuated Training Loss: -2.1514\n"
     ]
    },
    {
     "name": "stdout",
     "output_type": "stream",
     "text": [
      "Validation: Avg Standard Validation Loss: 6.5670\n",
      "Validation: Avg Attenuated Validation Loss: 5.6001\n",
      "Validation Loss for Scheduler: 6.5670\n",
      "saving model\n"
     ]
    },
    {
     "name": "stdout",
     "output_type": "stream",
     "text": [
      "Epoch [79/100], Learning Rate: 1e-06, Teacher forcing ratio: 0.7077888\n",
      "Training: Avg Attenuated Training Loss: -2.1574\n"
     ]
    },
    {
     "name": "stdout",
     "output_type": "stream",
     "text": [
      "Validation: Avg Standard Validation Loss: 6.5610\n",
      "Validation: Avg Attenuated Validation Loss: 5.5849\n",
      "Validation Loss for Scheduler: 6.5610\n",
      "saving model\n"
     ]
    },
    {
     "name": "stdout",
     "output_type": "stream",
     "text": [
      "Epoch [80/100], Learning Rate: 1e-06, Teacher forcing ratio: 0.7077888\n",
      "Training: Avg Attenuated Training Loss: -2.0930\n"
     ]
    },
    {
     "name": "stdout",
     "output_type": "stream",
     "text": [
      "Validation: Avg Standard Validation Loss: 6.5412\n",
      "Validation: Avg Attenuated Validation Loss: 5.6389\n",
      "Validation Loss for Scheduler: 6.5412\n",
      "saving model\n"
     ]
    },
    {
     "name": "stdout",
     "output_type": "stream",
     "text": [
      "Epoch [81/100], Learning Rate: 1e-06, Teacher forcing ratio: 0.679477248\n",
      "Training: Avg Attenuated Training Loss: -2.0577\n"
     ]
    },
    {
     "name": "stdout",
     "output_type": "stream",
     "text": [
      "Validation: Avg Standard Validation Loss: 6.5292\n",
      "Validation: Avg Attenuated Validation Loss: 5.5677\n",
      "Validation Loss for Scheduler: 6.5292\n",
      "saving model\n"
     ]
    },
    {
     "name": "stdout",
     "output_type": "stream",
     "text": [
      "Epoch [82/100], Learning Rate: 1e-06, Teacher forcing ratio: 0.679477248\n",
      "Training: Avg Attenuated Training Loss: -2.0727\n"
     ]
    },
    {
     "name": "stdout",
     "output_type": "stream",
     "text": [
      "Validation: Avg Standard Validation Loss: 6.5079\n",
      "Validation: Avg Attenuated Validation Loss: 5.6022\n",
      "Validation Loss for Scheduler: 6.5079\n",
      "saving model\n"
     ]
    },
    {
     "name": "stdout",
     "output_type": "stream",
     "text": [
      "Epoch [83/100], Learning Rate: 1e-06, Teacher forcing ratio: 0.679477248\n",
      "Training: Avg Attenuated Training Loss: -2.0737\n"
     ]
    },
    {
     "name": "stdout",
     "output_type": "stream",
     "text": [
      "Validation: Avg Standard Validation Loss: 6.4968\n",
      "Validation: Avg Attenuated Validation Loss: 5.5562\n",
      "Validation Loss for Scheduler: 6.4968\n",
      "saving model\n"
     ]
    },
    {
     "name": "stdout",
     "output_type": "stream",
     "text": [
      "Epoch [84/100], Learning Rate: 1e-06, Teacher forcing ratio: 0.679477248\n",
      "Training: Avg Attenuated Training Loss: -2.0721\n"
     ]
    },
    {
     "name": "stdout",
     "output_type": "stream",
     "text": [
      "Validation: Avg Standard Validation Loss: 6.4797\n",
      "Validation: Avg Attenuated Validation Loss: 5.5337\n",
      "Validation Loss for Scheduler: 6.4797\n",
      "saving model\n"
     ]
    },
    {
     "name": "stdout",
     "output_type": "stream",
     "text": [
      "Epoch [85/100], Learning Rate: 1e-06, Teacher forcing ratio: 0.679477248\n",
      "Training: Avg Attenuated Training Loss: -2.0893\n"
     ]
    },
    {
     "name": "stdout",
     "output_type": "stream",
     "text": [
      "Validation: Avg Standard Validation Loss: 6.4635\n",
      "Validation: Avg Attenuated Validation Loss: 5.5643\n",
      "Validation Loss for Scheduler: 6.4635\n",
      "saving model\n"
     ]
    },
    {
     "name": "stdout",
     "output_type": "stream",
     "text": [
      "Epoch [86/100], Learning Rate: 1e-06, Teacher forcing ratio: 0.679477248\n",
      "Training: Avg Attenuated Training Loss: -2.0371\n"
     ]
    },
    {
     "name": "stdout",
     "output_type": "stream",
     "text": [
      "Validation: Avg Standard Validation Loss: 6.4527\n",
      "Validation: Avg Attenuated Validation Loss: 5.5263\n",
      "Validation Loss for Scheduler: 6.4527\n",
      "saving model\n"
     ]
    },
    {
     "name": "stdout",
     "output_type": "stream",
     "text": [
      "Epoch [87/100], Learning Rate: 1e-06, Teacher forcing ratio: 0.679477248\n",
      "Training: Avg Attenuated Training Loss: -2.0040\n"
     ]
    },
    {
     "name": "stdout",
     "output_type": "stream",
     "text": [
      "Validation: Avg Standard Validation Loss: 6.4410\n",
      "Validation: Avg Attenuated Validation Loss: 5.5495\n",
      "Validation Loss for Scheduler: 6.4410\n",
      "saving model\n"
     ]
    },
    {
     "name": "stdout",
     "output_type": "stream",
     "text": [
      "Epoch [88/100], Learning Rate: 1e-06, Teacher forcing ratio: 0.679477248\n",
      "Training: Avg Attenuated Training Loss: -2.0417\n"
     ]
    },
    {
     "name": "stdout",
     "output_type": "stream",
     "text": [
      "Validation: Avg Standard Validation Loss: 6.4254\n",
      "Validation: Avg Attenuated Validation Loss: 5.6050\n",
      "Validation Loss for Scheduler: 6.4254\n",
      "saving model\n"
     ]
    },
    {
     "name": "stdout",
     "output_type": "stream",
     "text": [
      "Epoch [89/100], Learning Rate: 1e-06, Teacher forcing ratio: 0.679477248\n",
      "Training: Avg Attenuated Training Loss: -2.0477\n"
     ]
    },
    {
     "name": "stdout",
     "output_type": "stream",
     "text": [
      "Validation: Avg Standard Validation Loss: 6.4153\n",
      "Validation: Avg Attenuated Validation Loss: 5.5727\n",
      "Validation Loss for Scheduler: 6.4153\n",
      "saving model\n"
     ]
    },
    {
     "name": "stdout",
     "output_type": "stream",
     "text": [
      "Epoch [90/100], Learning Rate: 1e-06, Teacher forcing ratio: 0.679477248\n",
      "Training: Avg Attenuated Training Loss: -1.9776\n"
     ]
    },
    {
     "name": "stdout",
     "output_type": "stream",
     "text": [
      "Validation: Avg Standard Validation Loss: 6.4081\n",
      "Validation: Avg Attenuated Validation Loss: 5.5907\n",
      "Validation Loss for Scheduler: 6.4081\n",
      "saving model\n"
     ]
    },
    {
     "name": "stdout",
     "output_type": "stream",
     "text": [
      "Epoch [91/100], Learning Rate: 1e-06, Teacher forcing ratio: 0.679477248\n",
      "Training: Avg Attenuated Training Loss: -1.9730\n"
     ]
    },
    {
     "name": "stdout",
     "output_type": "stream",
     "text": [
      "Validation: Avg Standard Validation Loss: 6.4002\n",
      "Validation: Avg Attenuated Validation Loss: 5.5937\n",
      "Validation Loss for Scheduler: 6.4002\n",
      "saving model\n"
     ]
    },
    {
     "name": "stdout",
     "output_type": "stream",
     "text": [
      "Epoch [92/100], Learning Rate: 1e-06, Teacher forcing ratio: 0.679477248\n",
      "Training: Avg Attenuated Training Loss: -1.9343\n"
     ]
    },
    {
     "name": "stdout",
     "output_type": "stream",
     "text": [
      "Validation: Avg Standard Validation Loss: 6.3859\n",
      "Validation: Avg Attenuated Validation Loss: 5.5939\n",
      "Validation Loss for Scheduler: 6.3859\n",
      "saving model\n"
     ]
    },
    {
     "name": "stdout",
     "output_type": "stream",
     "text": [
      "Epoch [93/100], Learning Rate: 1e-06, Teacher forcing ratio: 0.679477248\n",
      "Training: Avg Attenuated Training Loss: -1.8588\n"
     ]
    },
    {
     "name": "stdout",
     "output_type": "stream",
     "text": [
      "Validation: Avg Standard Validation Loss: 6.3709\n",
      "Validation: Avg Attenuated Validation Loss: 5.5890\n",
      "Validation Loss for Scheduler: 6.3709\n",
      "saving model\n"
     ]
    },
    {
     "name": "stdout",
     "output_type": "stream",
     "text": [
      "Epoch [94/100], Learning Rate: 1e-06, Teacher forcing ratio: 0.679477248\n",
      "Training: Avg Attenuated Training Loss: -1.8148\n"
     ]
    },
    {
     "name": "stdout",
     "output_type": "stream",
     "text": [
      "Validation: Avg Standard Validation Loss: 6.3653\n",
      "Validation: Avg Attenuated Validation Loss: 5.5851\n",
      "Validation Loss for Scheduler: 6.3653\n",
      "saving model\n"
     ]
    },
    {
     "name": "stdout",
     "output_type": "stream",
     "text": [
      "Epoch [95/100], Learning Rate: 1e-06, Teacher forcing ratio: 0.679477248\n",
      "Training: Avg Attenuated Training Loss: -1.7577\n"
     ]
    },
    {
     "name": "stdout",
     "output_type": "stream",
     "text": [
      "Validation: Avg Standard Validation Loss: 6.3524\n",
      "Validation: Avg Attenuated Validation Loss: 5.6754\n",
      "Validation Loss for Scheduler: 6.3524\n",
      "saving model\n"
     ]
    },
    {
     "name": "stdout",
     "output_type": "stream",
     "text": [
      "Epoch [96/100], Learning Rate: 1e-06, Teacher forcing ratio: 0.679477248\n",
      "Training: Avg Attenuated Training Loss: -1.7259\n"
     ]
    },
    {
     "name": "stdout",
     "output_type": "stream",
     "text": [
      "Validation: Avg Standard Validation Loss: 6.3530\n",
      "Validation: Avg Attenuated Validation Loss: 5.6960\n",
      "Validation Loss for Scheduler: 6.3530\n",
      "saving model\n"
     ]
    },
    {
     "name": "stdout",
     "output_type": "stream",
     "text": [
      "Epoch [97/100], Learning Rate: 1e-06, Teacher forcing ratio: 0.679477248\n",
      "Training: Avg Attenuated Training Loss: -1.6186\n"
     ]
    },
    {
     "name": "stdout",
     "output_type": "stream",
     "text": [
      "Validation: Avg Standard Validation Loss: 6.3357\n",
      "Validation: Avg Attenuated Validation Loss: 5.6591\n",
      "Validation Loss for Scheduler: 6.3357\n",
      "saving model\n"
     ]
    },
    {
     "name": "stdout",
     "output_type": "stream",
     "text": [
      "Epoch [98/100], Learning Rate: 1e-06, Teacher forcing ratio: 0.679477248\n",
      "Training: Avg Attenuated Training Loss: -1.4793\n"
     ]
    },
    {
     "name": "stdout",
     "output_type": "stream",
     "text": [
      "Validation: Avg Standard Validation Loss: 6.3235\n",
      "Validation: Avg Attenuated Validation Loss: 5.6808\n",
      "Validation Loss for Scheduler: 6.3235\n",
      "saving model\n"
     ]
    },
    {
     "name": "stdout",
     "output_type": "stream",
     "text": [
      "Epoch [99/100], Learning Rate: 1e-06, Teacher forcing ratio: 0.679477248\n",
      "Training: Avg Attenuated Training Loss: -1.3910\n"
     ]
    },
    {
     "name": "stdout",
     "output_type": "stream",
     "text": [
      "Validation: Avg Standard Validation Loss: 6.3096\n",
      "Validation: Avg Attenuated Validation Loss: 5.7043\n",
      "Validation Loss for Scheduler: 6.3096\n",
      "saving model\n"
     ]
    },
    {
     "name": "stdout",
     "output_type": "stream",
     "text": [
      "Epoch [100/100], Learning Rate: 1e-06, Teacher forcing ratio: 0.679477248\n",
      "Training: Avg Attenuated Training Loss: -1.3388\n"
     ]
    },
    {
     "name": "stdout",
     "output_type": "stream",
     "text": [
      "Validation: Avg Standard Validation Loss: 6.3025\n",
      "Validation: Avg Attenuated Validation Loss: 5.6965\n",
      "Validation Loss for Scheduler: 6.3025\n",
      "saving model\n",
      "Training complete.\n",
      "Model saved to path: BPIC17_full_grad_norm_lognorm_1.pkl\n"
     ]
    }
   ],
   "source": [
    "import trainer.trainer\n",
    "importlib.reload(trainer.trainer)\n",
    "from trainer.trainer import Trainer\n",
    "from torch.optim.lr_scheduler import ReduceLROnPlateau\n",
    "\n",
    "from torch.utils.tensorboard import SummaryWriter\n",
    "writer = SummaryWriter(comment=\"Full_BPIC17_grad_lognormal\")\n",
    "\n",
    "# device\n",
    "device = torch.device(\"cuda\" if torch.cuda.is_available() else \"cpu\")\n",
    "\n",
    "# Start learning rate\n",
    "learning_rate = 1e-6\n",
    "\n",
    "# Optimizer and Scheduler\n",
    "# optimizer = torch.optim.Adam(params=model.parameters(), lr=learning_rate, weight_decay=0)\n",
    "optimizer = torch.optim.AdamW(model.parameters(), lr=learning_rate, weight_decay=0)\n",
    "scheduler = ReduceLROnPlateau(optimizer, mode='min', factor=0.1, patience=2, min_lr=1e-9)\n",
    "\n",
    "# Epochs\n",
    "num_epochs = 100\n",
    "\n",
    "# Batch size\n",
    "batch_size = 128\n",
    "\n",
    "# lambda for L2 (weight, bias, dropout) regularization: According to formula: 1/2N\n",
    "# regularization_term = 1.0/(2.0*batch_size)\n",
    "regularization_term =  1e-4\n",
    "\n",
    "# shuffle data\n",
    "shuffle = True\n",
    "\n",
    "# Teacher forcing: Smaller 0.5 more predicted events are used for next event prediction.\n",
    "teacher_forcing_ratio = 0.8\n",
    "\n",
    "optimize_values = {\"regularization_term\":regularization_term,\n",
    "                   \"optimizer\":optimizer,\n",
    "                   \"scheduler\": scheduler,\n",
    "                   \"epochs\":num_epochs,\n",
    "                   \"mini_batches\":batch_size,\n",
    "                   \"shuffle\": shuffle,\n",
    "                   \"teacher_forcing_ratio\":teacher_forcing_ratio,}\n",
    "\n",
    "suffix_data_split_value = 4\n",
    "\n",
    "# GradNorm parameter\n",
    "use_gradnorm = True\n",
    "gn_alpha = 1.5\n",
    "gn_learning_rate = 1e-4\n",
    "# gn_learning_rate =  0.025\n",
    "\n",
    "number_tasks = len(dec_feat[0]) + len(dec_feat[1])\n",
    "\n",
    "gradNorm = {\"use_gradnorm\":use_gradnorm,\n",
    "            \"number_tasks\": number_tasks,\n",
    "            \"gn_alpha\":gn_alpha,\n",
    "            \"gn_learning_rate\": gn_learning_rate}\n",
    "\n",
    "trainer = Trainer(device=device,\n",
    "                  model=model,\n",
    "                  data_train=bpic17_train_dataset,\n",
    "                  data_val=bpic17_val_dataset,\n",
    "                  loss_obj=loss_obj,\n",
    "                  log_normal_loss_num_feature = log_normal_loss_num_feature,\n",
    "                  optimize_values=optimize_values,\n",
    "                  suffix_data_split_value=suffix_data_split_value,\n",
    "                  writer=writer,\n",
    "                  gradnorm_values=gradNorm,\n",
    "                  save_model_n_th_epoch = 1,\n",
    "                  saving_path = 'BPIC17_full_grad_lognorm_v2.pkl')\n",
    "\n",
    "# Train the model:\n",
    "train_attenuated_losses, val_losses, val_attenuated_losses = trainer.train_model()"
   ]
  },
  {
   "cell_type": "markdown",
   "metadata": {},
   "source": [
    "# Training Visualization"
   ]
  },
  {
   "cell_type": "code",
   "execution_count": 8,
   "metadata": {
    "execution": {
     "iopub.execute_input": "2025-05-04T22:23:07.604116Z",
     "iopub.status.busy": "2025-05-04T22:23:07.603839Z",
     "iopub.status.idle": "2025-05-04T22:23:08.122150Z",
     "shell.execute_reply": "2025-05-04T22:23:08.121881Z"
    }
   },
   "outputs": [
    {
     "data": {
      "image/png": "[encoded data removed]",
      "text/plain": [
       "<Figure size 640x480 with 1 Axes>"
      ]
     },
     "metadata": {},
     "output_type": "display_data"
    }
   ],
   "source": [
    "import matplotlib.pyplot as plt\n",
    "\n",
    "# After training is finished, plot the loss curves\n",
    "plt.plot(range(1, num_epochs+1), train_attenuated_losses, label='Training Attenuated Loss', color='blue')\n",
    "plt.plot(range(1, num_epochs+1), val_losses, label='Validation Loss', color='orange')\n",
    "plt.plot(range(1, num_epochs+1), val_attenuated_losses, label='Validation Attenuated Loss', color='green')\n",
    "# Labeling x and y axes\n",
    "plt.xlabel('Epochs', fontsize=12)\n",
    "plt.ylabel('Loss', fontsize=12)\n",
    "# Adding title\n",
    "plt.title('Training and Validation Loss Curve', fontsize=14)\n",
    "# Adding legend\n",
    "plt.legend()\n",
    "# Show the plot\n",
    "plt.show()"
   ]
  }
 ],
 "metadata": {
  "kernelspec": {
   "display_name": "PrimePPM-tDGhFIeG",
   "language": "python",
   "name": "python3"
  },
  "language_info": {
   "codemirror_mode": {
    "name": "ipython",
    "version": 3
   },
   "file_extension": ".py",
   "mimetype": "text/x-python",
   "name": "python",
   "nbconvert_exporter": "python",
   "pygments_lexer": "ipython3",
   "version": "3.13.1"
  },
  "widgets": {
   "application/vnd.jupyter.widget-state+json": {
    "state": {
     "08ec143e107c4687a6d36109f9479e38": {
      "model_module": "@jupyter-widgets/controls",
      "model_module_version": "2.0.0",
      "model_name": "HTMLStyleModel",
      "state": {
       "_model_module": "@jupyter-widgets/controls",
       "_model_module_version": "2.0.0",
       "_model_name": "HTMLStyleModel",
       "_view_count": null,
       "_view_module": "@jupyter-widgets/base",
       "_view_module_version": "2.0.0",
       "_view_name": "StyleView",
       "background": null,
       "description_width": "",
       "font_size": null,
       "text_color": null
      }
     },
     "14ca9d73a4ce48dd9de0012de2e83d37": {
      "model_module": "@jupyter-widgets/controls",
      "model_module_version": "2.0.0",
      "model_name": "HTMLModel",
      "state": {
       "_dom_classes": [],
       "_model_module": "@jupyter-widgets/controls",
       "_model_module_version": "2.0.0",
       "_model_name": "HTMLModel",
       "_view_count": null,
       "_view_module": "@jupyter-widgets/controls",
       "_view_module_version": "2.0.0",
       "_view_name": "HTMLView",
       "description": "",
       "description_allow_html": false,
       "layout": "IPY_MODEL_e65520284e2840f3ae896f4b46a19a67",
       "placeholder": "​",
       "style": "IPY_MODEL_08ec143e107c4687a6d36109f9479e38",
       "tabbable": null,
       "tooltip": null,
       "value": " 100/100 [127:22:38&lt;00:00, 11063.88s/it]"
      }
     },
     "425e2d1977eb43b083754ce301cbb4e4": {
      "model_module": "@jupyter-widgets/base",
      "model_module_version": "2.0.0",
      "model_name": "LayoutModel",
      "state": {
       "_model_module": "@jupyter-widgets/base",
       "_model_module_version": "2.0.0",
       "_model_name": "LayoutModel",
       "_view_count": null,
       "_view_module": "@jupyter-widgets/base",
       "_view_module_version": "2.0.0",
       "_view_name": "LayoutView",
       "align_content": null,
       "align_items": null,
       "align_self": null,
       "border_bottom": null,
       "border_left": null,
       "border_right": null,
       "border_top": null,
       "bottom": null,
       "display": null,
       "flex": null,
       "flex_flow": null,
       "grid_area": null,
       "grid_auto_columns": null,
       "grid_auto_flow": null,
       "grid_auto_rows": null,
       "grid_column": null,
       "grid_gap": null,
       "grid_row": null,
       "grid_template_areas": null,
       "grid_template_columns": null,
       "grid_template_rows": null,
       "height": null,
       "justify_content": null,
       "justify_items": null,
       "left": null,
       "margin": null,
       "max_height": null,
       "max_width": null,
       "min_height": null,
       "min_width": null,
       "object_fit": null,
       "object_position": null,
       "order": null,
       "overflow": null,
       "padding": null,
       "right": null,
       "top": null,
       "visibility": null,
       "width": null
      }
     },
     "4634e1c16de14a92bf8763174baf41cb": {
      "model_module": "@jupyter-widgets/controls",
      "model_module_version": "2.0.0",
      "model_name": "HTMLStyleModel",
      "state": {
       "_model_module": "@jupyter-widgets/controls",
       "_model_module_version": "2.0.0",
       "_model_name": "HTMLStyleModel",
       "_view_count": null,
       "_view_module": "@jupyter-widgets/base",
       "_view_module_version": "2.0.0",
       "_view_name": "StyleView",
       "background": null,
       "description_width": "",
       "font_size": null,
       "text_color": null
      }
     },
     "87a7ec1cb6c64623a8b458f63d506b21": {
      "model_module": "@jupyter-widgets/base",
      "model_module_version": "2.0.0",
      "model_name": "LayoutModel",
      "state": {
       "_model_module": "@jupyter-widgets/base",
       "_model_module_version": "2.0.0",
       "_model_name": "LayoutModel",
       "_view_count": null,
       "_view_module": "@jupyter-widgets/base",
       "_view_module_version": "2.0.0",
       "_view_name": "LayoutView",
       "align_content": null,
       "align_items": null,
       "align_self": null,
       "border_bottom": null,
       "border_left": null,
       "border_right": null,
       "border_top": null,
       "bottom": null,
       "display": null,
       "flex": null,
       "flex_flow": null,
       "grid_area": null,
       "grid_auto_columns": null,
       "grid_auto_flow": null,
       "grid_auto_rows": null,
       "grid_column": null,
       "grid_gap": null,
       "grid_row": null,
       "grid_template_areas": null,
       "grid_template_columns": null,
       "grid_template_rows": null,
       "height": null,
       "justify_content": null,
       "justify_items": null,
       "left": null,
       "margin": null,
       "max_height": null,
       "max_width": null,
       "min_height": null,
       "min_width": null,
       "object_fit": null,
       "object_position": null,
       "order": null,
       "overflow": null,
       "padding": null,
       "right": null,
       "top": null,
       "visibility": null,
       "width": null
      }
     },
     "8ff6910df7fb462e9ce7e5c5253869ca": {
      "model_module": "@jupyter-widgets/controls",
      "model_module_version": "2.0.0",
      "model_name": "HBoxModel",
      "state": {
       "_dom_classes": [],
       "_model_module": "@jupyter-widgets/controls",
       "_model_module_version": "2.0.0",
       "_model_name": "HBoxModel",
       "_view_count": null,
       "_view_module": "@jupyter-widgets/controls",
       "_view_module_version": "2.0.0",
       "_view_name": "HBoxView",
       "box_style": "",
       "children": [
        "IPY_MODEL_e97ccc6bc1174f73852e39e94db2b728",
        "IPY_MODEL_c071926e6509466f9c559d03a823ce1f",
        "IPY_MODEL_14ca9d73a4ce48dd9de0012de2e83d37"
       ],
       "layout": "IPY_MODEL_425e2d1977eb43b083754ce301cbb4e4",
       "tabbable": null,
       "tooltip": null
      }
     },
     "c071926e6509466f9c559d03a823ce1f": {
      "model_module": "@jupyter-widgets/controls",
      "model_module_version": "2.0.0",
      "model_name": "FloatProgressModel",
      "state": {
       "_dom_classes": [],
       "_model_module": "@jupyter-widgets/controls",
       "_model_module_version": "2.0.0",
       "_model_name": "FloatProgressModel",
       "_view_count": null,
       "_view_module": "@jupyter-widgets/controls",
       "_view_module_version": "2.0.0",
       "_view_name": "ProgressView",
       "bar_style": "success",
       "description": "",
       "description_allow_html": false,
       "layout": "IPY_MODEL_e4489e68623d4052bd1d7ac3994c08db",
       "max": 100,
       "min": 0,
       "orientation": "horizontal",
       "style": "IPY_MODEL_feacd7d9a9dd41c6971a063b11c0f83e",
       "tabbable": null,
       "tooltip": null,
       "value": 100
      }
     },
     "e4489e68623d4052bd1d7ac3994c08db": {
      "model_module": "@jupyter-widgets/base",
      "model_module_version": "2.0.0",
      "model_name": "LayoutModel",
      "state": {
       "_model_module": "@jupyter-widgets/base",
       "_model_module_version": "2.0.0",
       "_model_name": "LayoutModel",
       "_view_count": null,
       "_view_module": "@jupyter-widgets/base",
       "_view_module_version": "2.0.0",
       "_view_name": "LayoutView",
       "align_content": null,
       "align_items": null,
       "align_self": null,
       "border_bottom": null,
       "border_left": null,
       "border_right": null,
       "border_top": null,
       "bottom": null,
       "display": null,
       "flex": null,
       "flex_flow": null,
       "grid_area": null,
       "grid_auto_columns": null,
       "grid_auto_flow": null,
       "grid_auto_rows": null,
       "grid_column": null,
       "grid_gap": null,
       "grid_row": null,
       "grid_template_areas": null,
       "grid_template_columns": null,
       "grid_template_rows": null,
       "height": null,
       "justify_content": null,
       "justify_items": null,
       "left": null,
       "margin": null,
       "max_height": null,
       "max_width": null,
       "min_height": null,
       "min_width": null,
       "object_fit": null,
       "object_position": null,
       "order": null,
       "overflow": null,
       "padding": null,
       "right": null,
       "top": null,
       "visibility": null,
       "width": null
      }
     },
     "e65520284e2840f3ae896f4b46a19a67": {
      "model_module": "@jupyter-widgets/base",
      "model_module_version": "2.0.0",
      "model_name": "LayoutModel",
      "state": {
       "_model_module": "@jupyter-widgets/base",
       "_model_module_version": "2.0.0",
       "_model_name": "LayoutModel",
       "_view_count": null,
       "_view_module": "@jupyter-widgets/base",
       "_view_module_version": "2.0.0",
       "_view_name": "LayoutView",
       "align_content": null,
       "align_items": null,
       "align_self": null,
       "border_bottom": null,
       "border_left": null,
       "border_right": null,
       "border_top": null,
       "bottom": null,
       "display": null,
       "flex": null,
       "flex_flow": null,
       "grid_area": null,
       "grid_auto_columns": null,
       "grid_auto_flow": null,
       "grid_auto_rows": null,
       "grid_column": null,
       "grid_gap": null,
       "grid_row": null,
       "grid_template_areas": null,
       "grid_template_columns": null,
       "grid_template_rows": null,
       "height": null,
       "justify_content": null,
       "justify_items": null,
       "left": null,
       "margin": null,
       "max_height": null,
       "max_width": null,
       "min_height": null,
       "min_width": null,
       "object_fit": null,
       "object_position": null,
       "order": null,
       "overflow": null,
       "padding": null,
       "right": null,
       "top": null,
       "visibility": null,
       "width": null
      }
     },
     "e97ccc6bc1174f73852e39e94db2b728": {
      "model_module": "@jupyter-widgets/controls",
      "model_module_version": "2.0.0",
      "model_name": "HTMLModel",
      "state": {
       "_dom_classes": [],
       "_model_module": "@jupyter-widgets/controls",
       "_model_module_version": "2.0.0",
       "_model_name": "HTMLModel",
       "_view_count": null,
       "_view_module": "@jupyter-widgets/controls",
       "_view_module_version": "2.0.0",
       "_view_name": "HTMLView",
       "description": "",
       "description_allow_html": false,
       "layout": "IPY_MODEL_87a7ec1cb6c64623a8b458f63d506b21",
       "placeholder": "​",
       "style": "IPY_MODEL_4634e1c16de14a92bf8763174baf41cb",
       "tabbable": null,
       "tooltip": null,
       "value": "100%"
      }
     },
     "feacd7d9a9dd41c6971a063b11c0f83e": {
      "model_module": "@jupyter-widgets/controls",
      "model_module_version": "2.0.0",
      "model_name": "ProgressStyleModel",
      "state": {
       "_model_module": "@jupyter-widgets/controls",
       "_model_module_version": "2.0.0",
       "_model_name": "ProgressStyleModel",
       "_view_count": null,
       "_view_module": "@jupyter-widgets/base",
       "_view_module_version": "2.0.0",
       "_view_name": "StyleView",
       "bar_color": null,
       "description_width": ""
      }
     }
    },
    "version_major": 2,
    "version_minor": 0
   }
  }
 },
 "nbformat": 4,
 "nbformat_minor": 4
}
