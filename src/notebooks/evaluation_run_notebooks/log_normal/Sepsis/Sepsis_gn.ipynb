{
 "cells": [
  {
   "cell_type": "code",
   "execution_count": 1,
   "metadata": {
    "execution": {
     "iopub.execute_input": "2025-04-29T20:07:05.206283Z",
     "iopub.status.busy": "2025-04-29T20:07:05.206148Z",
     "iopub.status.idle": "2025-04-29T20:07:05.909474Z",
     "shell.execute_reply": "2025-04-29T20:07:05.909121Z"
    }
   },
   "outputs": [],
   "source": [
    "import importlib\n",
    "import sys\n",
    "import torch\n",
    "import pickle\n",
    "import os\n",
    "\n",
    "sys.path.insert(0, '..')\n",
    "sys.path.insert(0, '../..')\n",
    "sys.path.insert(0, '../../..')\n",
    "sys.path.insert(0, '../../../..')\n",
    "\n",
    "from model.dropout_uncertainty_enc_dec_LSTM.dropout_uncertainty_model import DropoutUncertaintyEncoderDecoderLSTM"
   ]
  },
  {
   "cell_type": "code",
   "execution_count": 2,
   "metadata": {
    "execution": {
     "iopub.execute_input": "2025-04-29T20:07:05.910964Z",
     "iopub.status.busy": "2025-04-29T20:07:05.910836Z",
     "iopub.status.idle": "2025-04-29T20:07:06.380047Z",
     "shell.execute_reply": "2025-04-29T20:07:06.379735Z"
    }
   },
   "outputs": [
    {
     "name": "stdout",
     "output_type": "stream",
     "text": [
      "Data set categories:  ([('concept:name', 18, {'Admission IC': 1, 'Admission NC': 2, 'CRP': 3, 'EOS': 4, 'ER Registration': 5, 'ER Sepsis Triage': 6, 'ER Triage': 7, 'IV Antibiotics': 8, 'IV Liquid': 9, 'LacticAcid': 10, 'Leucocytes': 11, 'Release A': 12, 'Release B': 13, 'Release C': 14, 'Release D': 15, 'Release E': 16, 'Return ER': 17}), ('InfectionSuspected', 5, {'EOS': 1, 'False': 2, 'True': 3, nan: 4}), ('org:group', 27, {'?': 1, 'A': 2, 'B': 3, 'C': 4, 'D': 5, 'E': 6, 'EOS': 7, 'F': 8, 'G': 9, 'H': 10, 'I': 11, 'J': 12, 'K': 13, 'L': 14, 'M': 15, 'N': 16, 'O': 17, 'P': 18, 'Q': 19, 'R': 20, 'S': 21, 'T': 22, 'U': 23, 'V': 24, 'W': 25, 'X': 26}), ('DiagnosticBlood', 5, {'EOS': 1, 'False': 2, 'True': 3, nan: 4}), ('DisfuncOrg', 5, {'EOS': 1, 'False': 2, 'True': 3, nan: 4}), ('SIRSCritTachypnea', 5, {'EOS': 1, 'False': 2, 'True': 3, nan: 4}), ('Hypotensie', 5, {'EOS': 1, 'False': 2, 'True': 3, nan: 4}), ('SIRSCritHeartRate', 5, {'EOS': 1, 'False': 2, 'True': 3, nan: 4}), ('Infusion', 5, {'EOS': 1, 'False': 2, 'True': 3, nan: 4}), ('DiagnosticArtAstrup', 5, {'EOS': 1, 'False': 2, 'True': 3, nan: 4}), ('DiagnosticIC', 5, {'EOS': 1, 'False': 2, 'True': 3, nan: 4}), ('DiagnosticSputum', 5, {'EOS': 1, 'False': 2, 'True': 3, nan: 4}), ('DiagnosticLiquor', 5, {'EOS': 1, 'False': 2, 'True': 3, nan: 4}), ('DiagnosticOther', 5, {'EOS': 1, 'False': 2, 'True': 3, nan: 4}), ('SIRSCriteria2OrMore', 5, {'EOS': 1, 'False': 2, 'True': 3, nan: 4}), ('DiagnosticXthorax', 5, {'EOS': 1, 'False': 2, 'True': 3, nan: 4}), ('SIRSCritTemperature', 5, {'EOS': 1, 'False': 2, 'True': 3, nan: 4}), ('DiagnosticUrinaryCulture', 5, {'EOS': 1, 'False': 2, 'True': 3, nan: 4}), ('SIRSCritLeucos', 5, {'EOS': 1, 'False': 2, 'True': 3, nan: 4}), ('Oligurie', 5, {'EOS': 1, 'False': 2, 'True': 3, nan: 4}), ('DiagnosticLacticAcid', 5, {'EOS': 1, 'False': 2, 'True': 3, nan: 4}), ('lifecycle:transition', 3, {'EOS': 1, 'complete': 2}), ('Diagnose', 123, {'A': 1, 'AA': 2, 'AB': 3, 'AC': 4, 'AE': 5, 'B': 6, 'BA': 7, 'BB': 8, 'BC': 9, 'BD': 10, 'C': 11, 'CA': 12, 'CB': 13, 'CC': 14, 'CE': 15, 'D': 16, 'DC': 17, 'DD': 18, 'DE': 19, 'E': 20, 'EA': 21, 'EB': 22, 'EC': 23, 'ED': 24, 'EE': 25, 'EOS': 26, 'F': 27, 'FB': 28, 'FC': 29, 'FD': 30, 'FE': 31, 'G': 32, 'GA': 33, 'GB': 34, 'GD': 35, 'H': 36, 'HA': 37, 'HB': 38, 'HC': 39, 'HD': 40, 'HE': 41, 'I': 42, 'IA': 43, 'IB': 44, 'IC': 45, 'ID': 46, 'IE': 47, 'J': 48, 'JA': 49, 'JB': 50, 'JC': 51, 'JD': 52, 'JE': 53, 'K': 54, 'KA': 55, 'KB': 56, 'KC': 57, 'KD': 58, 'KE': 59, 'L': 60, 'LA': 61, 'LB': 62, 'LC': 63, 'M': 64, 'MA': 65, 'MB': 66, 'MC': 67, 'MD': 68, 'ME': 69, 'N': 70, 'NB': 71, 'NC': 72, 'O': 73, 'OA': 74, 'OB': 75, 'OC': 76, 'OD': 77, 'OE': 78, 'P': 79, 'PA': 80, 'PC': 81, 'PD': 82, 'PE': 83, 'Q': 84, 'QC': 85, 'QD': 86, 'R': 87, 'RA': 88, 'RB': 89, 'RC': 90, 'RD': 91, 'S': 92, 'SA': 93, 'SC': 94, 'SD': 95, 'T': 96, 'TB': 97, 'TD': 98, 'U': 99, 'UA': 100, 'UB': 101, 'UC': 102, 'VA': 103, 'VB': 104, 'VC': 105, 'VD': 106, 'W': 107, 'WD': 108, 'X': 109, 'XA': 110, 'XB': 111, 'XC': 112, 'XD': 113, 'Y': 114, 'YA': 115, 'YC': 116, 'YD': 117, 'Z': 118, 'ZA': 119, 'ZB': 120, 'ZC': 121, nan: 122}), ('Hypoxie', 5, {'EOS': 1, 'False': 2, 'True': 3, nan: 4}), ('DiagnosticUrinarySediment', 5, {'EOS': 1, 'False': 2, 'True': 3, nan: 4}), ('DiagnosticECG', 5, {'EOS': 1, 'False': 2, 'True': 3, nan: 4})], [('day_in_week', 1, {}), ('seconds_in_day', 1, {}), ('Age', 1, {}), ('Leucocytes', 1, {}), ('CRP', 1, {}), ('LacticAcid', 1, {}), ('case_elapsed_time', 1, {}), ('event_elapsed_time', 1, {})])\n",
      "Encoder input features:  [['concept:name', 'InfectionSuspected', 'org:group', 'DiagnosticBlood', 'DisfuncOrg', 'SIRSCritTachypnea', 'Hypotensie', 'SIRSCritHeartRate', 'Infusion', 'DiagnosticArtAstrup', 'DiagnosticIC', 'DiagnosticSputum', 'DiagnosticLiquor', 'DiagnosticOther', 'SIRSCriteria2OrMore', 'DiagnosticXthorax', 'SIRSCritTemperature', 'DiagnosticUrinaryCulture', 'SIRSCritLeucos', 'Oligurie', 'DiagnosticLacticAcid', 'lifecycle:transition', 'Diagnose', 'Hypoxie', 'DiagnosticUrinarySediment', 'DiagnosticECG'], ['day_in_week', 'seconds_in_day', 'Age', 'Leucocytes', 'CRP', 'LacticAcid', 'case_elapsed_time', 'event_elapsed_time']]\n",
      "Decoder input+output features:  [['concept:name', 'org:group', 'lifecycle:transition'], ['case_elapsed_time', 'event_elapsed_time']]\n",
      "\n",
      "\n",
      "Sequence length of decoder output:  4\n",
      "\n",
      "\n",
      "Cells hidden size:  128\n",
      "Number of LSTM layer:  4\n",
      "Dropout rate:  0.1\n",
      "\n",
      "\n",
      "Encoder number of labels for each input feature (categorical, numerical):  [[18, 5, 27, 5, 5, 5, 5, 5, 5, 5, 5, 5, 5, 5, 5, 5, 5, 5, 5, 5, 5, 3, 123, 5, 5, 5], [1, 1, 1, 1, 1, 1, 1, 1]]\n",
      "Encoder indices of tensors in dataset used as input:  [[0, 1, 2, 3, 4, 5, 6, 7, 8, 9, 10, 11, 12, 13, 14, 15, 16, 17, 18, 19, 20, 21, 22, 23, 24, 25], [0, 1, 2, 3, 4, 5, 6, 7]]\n",
      "Embeddings encoder:  ModuleList(\n",
      "  (0): Embedding(18, 8)\n",
      "  (1): Embedding(5, 4)\n",
      "  (2): Embedding(27, 10)\n",
      "  (3-20): 18 x Embedding(5, 4)\n",
      "  (21): Embedding(3, 3)\n",
      "  (22): Embedding(123, 24)\n",
      "  (23-25): 3 x Embedding(5, 4)\n",
      ")\n",
      "Total embedding feature size encoder:  133\n",
      "Total numerical feature size encoder:  8\n",
      "Input feature size encoder:  141\n",
      "Encoder initialized! \n",
      "\n",
      "Decoder label values size for each categorical input feature:  [18, 27, 3]\n",
      "Decoder label values size for each numerical input feature:  [1, 1]\n",
      "Decoder indices of tensors in dataset used as input:  [[0, 2, 21], [6, 7]]\n",
      "Embeddings decoder:  ModuleList(\n",
      "  (0): Embedding(18, 8)\n",
      "  (1): Embedding(27, 10)\n",
      "  (2): Embedding(3, 3)\n",
      ")\n",
      "Total embedding feature size decoder:  21\n",
      "Total numerical feature size decoder:  2\n",
      "Input feature size decoder:  23\n",
      "Output feature list of dicts (featue name, feature output size) of decoder:  [{'concept:name': 18, 'org:group': 27, 'lifecycle:transition': 3}, {'case_elapsed_time': 1, 'event_elapsed_time': 1}]\n",
      "Decoder initialized! \n",
      "\n",
      "Output feature list of dicts (featue name, tensor index in dataset) of decoder:  [{'concept:name': 0, 'org:group': 2, 'lifecycle:transition': 21}, {'case_elapsed_time': 6, 'event_elapsed_time': 7}]\n"
     ]
    }
   ],
   "source": [
    "#load model\n",
    "file_path_model = '../../../training_variational_dropout_log_normal/Sepsis/Sepsis_full_grad_lognorm_v1.pkl'\n",
    "model = DropoutUncertaintyEncoderDecoderLSTM.load(file_path_model, dropout=0.1)\n",
    "\n",
    "# Load the dataset\n",
    "file_path_data_set = '../../../../../encoded_data/log_stand/Sepsis_all_lognormal_5_test.pkl'\n",
    "sepsis_test_dataset = torch.load(file_path_data_set, weights_only=False)"
   ]
  },
  {
   "cell_type": "code",
   "execution_count": null,
   "metadata": {
    "execution": {
     "iopub.execute_input": "2025-04-29T20:07:06.381338Z",
     "iopub.status.busy": "2025-04-29T20:07:06.381190Z",
     "iopub.status.idle": "2025-04-29T20:07:06.489745Z",
     "shell.execute_reply": "2025-04-29T20:07:06.489511Z"
    }
   },
   "outputs": [],
   "source": [
    "import evaluation.probabilistic_evaluation\n",
    "importlib.reload(evaluation.probabilistic_evaluation)\n",
    "from evaluation.probabilistic_evaluation import ProbabilisticEvaluation\n",
    "\n",
    "new_eval = ProbabilisticEvaluation(model, \n",
    "                                   sepsis_test_dataset,\n",
    "                                   #concept_name='Activity',\n",
    "                                   #growing_num_values = [],\n",
    "                                   growing_num_values = ['case_elapsed_time'],\n",
    "                                   num_processes=16,\n",
    "                                   samples_per_case = 1000,\n",
    "                                   sample_argmax = False,\n",
    "                                   use_variance_cat = True,\n",
    "                                   use_variance_num = True,\n",
    "                                   all_cat=['concept:name', 'org:group', 'lifecycle:transition'],\n",
    "                                   all_num=['case_elapsed_time', 'event_elapsed_time']\n",
    "                                   )\n"
   ]
  },
  {
   "cell_type": "code",
   "execution_count": null,
   "metadata": {
    "execution": {
     "iopub.execute_input": "2025-04-29T20:07:06.490749Z",
     "iopub.status.busy": "2025-04-29T20:07:06.490660Z",
     "iopub.status.idle": "2025-04-30T04:50:41.213879Z",
     "shell.execute_reply": "2025-04-30T04:50:41.213618Z"
    }
   },
   "outputs": [
    {
     "data": {
      "application/vnd.jupyter.widget-view+json": {
       "model_id": "e3f841384b6d44788d11cc37ecddbb25",
       "version_major": 2,
       "version_minor": 0
      },
      "text/plain": [
       "  0%|          | 0/132 [00:00<?, ?it/s]"
      ]
     },
     "metadata": {},
     "output_type": "display_data"
    },
    {
     "name": "stdout",
     "output_type": "stream",
     "text": [
      "Saved 10 results to ../../../../../../../evaluation_results/Sepsis/gn_lognormal/v1/results_part_010.pkl\n"
     ]
    },
    {
     "name": "stdout",
     "output_type": "stream",
     "text": [
      "Saved 10 results to ../../../../../../../evaluation_results/Sepsis/gn_lognormal/v1/results_part_020.pkl\n"
     ]
    },
    {
     "name": "stdout",
     "output_type": "stream",
     "text": [
      "Saved 10 results to ../../../../../../../evaluation_results/Sepsis/gn_lognormal/v1/results_part_030.pkl\n"
     ]
    },
    {
     "name": "stdout",
     "output_type": "stream",
     "text": [
      "Saved 10 results to ../../../../../../../evaluation_results/Sepsis/gn_lognormal/v1/results_part_040.pkl\n"
     ]
    },
    {
     "name": "stdout",
     "output_type": "stream",
     "text": [
      "Saved 10 results to ../../../../../../../evaluation_results/Sepsis/gn_lognormal/v1/results_part_050.pkl\n"
     ]
    },
    {
     "name": "stdout",
     "output_type": "stream",
     "text": [
      "Saved 10 results to ../../../../../../../evaluation_results/Sepsis/gn_lognormal/v1/results_part_060.pkl\n"
     ]
    },
    {
     "name": "stdout",
     "output_type": "stream",
     "text": [
      "Saved 10 results to ../../../../../../../evaluation_results/Sepsis/gn_lognormal/v1/results_part_070.pkl\n"
     ]
    },
    {
     "name": "stdout",
     "output_type": "stream",
     "text": [
      "Saved 10 results to ../../../../../../../evaluation_results/Sepsis/gn_lognormal/v1/results_part_080.pkl\n"
     ]
    },
    {
     "name": "stdout",
     "output_type": "stream",
     "text": [
      "Saved 10 results to ../../../../../../../evaluation_results/Sepsis/gn_lognormal/v1/results_part_090.pkl\n"
     ]
    },
    {
     "name": "stdout",
     "output_type": "stream",
     "text": [
      "Saved 10 results to ../../../../../../../evaluation_results/Sepsis/gn_lognormal/v1/results_part_100.pkl\n"
     ]
    },
    {
     "name": "stdout",
     "output_type": "stream",
     "text": [
      "Saved 10 results to ../../../../../../../evaluation_results/Sepsis/gn_lognormal/v1/results_part_110.pkl\n"
     ]
    },
    {
     "name": "stdout",
     "output_type": "stream",
     "text": [
      "Saved 10 results to ../../../../../../../evaluation_results/Sepsis/gn_lognormal/v1/results_part_120.pkl\n"
     ]
    },
    {
     "name": "stdout",
     "output_type": "stream",
     "text": [
      "Saved 10 results to ../../../../../../../evaluation_results/Sepsis/gn_lognormal/v1/results_part_130.pkl\n"
     ]
    },
    {
     "name": "stdout",
     "output_type": "stream",
     "text": [
      "Saved 10 results to ../../../../../../../evaluation_results/Sepsis/gn_lognormal/v1/results_part_140.pkl\n"
     ]
    },
    {
     "name": "stdout",
     "output_type": "stream",
     "text": [
      "Saved 10 results to ../../../../../../../evaluation_results/Sepsis/gn_lognormal/v1/results_part_150.pkl\n"
     ]
    },
    {
     "name": "stdout",
     "output_type": "stream",
     "text": [
      "Saved 10 results to ../../../../../../../evaluation_results/Sepsis/gn_lognormal/v1/results_part_160.pkl\n"
     ]
    },
    {
     "name": "stdout",
     "output_type": "stream",
     "text": [
      "Saved 10 results to ../../../../../../../evaluation_results/Sepsis/gn_lognormal/v1/results_part_170.pkl\n"
     ]
    },
    {
     "name": "stdout",
     "output_type": "stream",
     "text": [
      "Saved 10 results to ../../../../../../../evaluation_results/Sepsis/gn_lognormal/v1/results_part_180.pkl\n"
     ]
    },
    {
     "name": "stdout",
     "output_type": "stream",
     "text": [
      "Saved 10 results to ../../../../../../../evaluation_results/Sepsis/gn_lognormal/v1/results_part_190.pkl\n"
     ]
    },
    {
     "name": "stdout",
     "output_type": "stream",
     "text": [
      "Saved 10 results to ../../../../../../../evaluation_results/Sepsis/gn_lognormal/v1/results_part_200.pkl\n"
     ]
    },
    {
     "name": "stdout",
     "output_type": "stream",
     "text": [
      "Saved 10 results to ../../../../../../../evaluation_results/Sepsis/gn_lognormal/v1/results_part_210.pkl\n"
     ]
    },
    {
     "name": "stdout",
     "output_type": "stream",
     "text": [
      "Saved 10 results to ../../../../../../../evaluation_results/Sepsis/gn_lognormal/v1/results_part_220.pkl\n"
     ]
    },
    {
     "name": "stdout",
     "output_type": "stream",
     "text": [
      "Saved 10 results to ../../../../../../../evaluation_results/Sepsis/gn_lognormal/v1/results_part_230.pkl\n"
     ]
    },
    {
     "name": "stdout",
     "output_type": "stream",
     "text": [
      "Saved 10 results to ../../../../../../../evaluation_results/Sepsis/gn_lognormal/v1/results_part_240.pkl\n"
     ]
    },
    {
     "name": "stdout",
     "output_type": "stream",
     "text": [
      "Saved 10 results to ../../../../../../../evaluation_results/Sepsis/gn_lognormal/v1/results_part_250.pkl\n"
     ]
    },
    {
     "name": "stdout",
     "output_type": "stream",
     "text": [
      "Saved 10 results to ../../../../../../../evaluation_results/Sepsis/gn_lognormal/v1/results_part_260.pkl\n"
     ]
    },
    {
     "name": "stdout",
     "output_type": "stream",
     "text": [
      "Saved 10 results to ../../../../../../../evaluation_results/Sepsis/gn_lognormal/v1/results_part_270.pkl\n"
     ]
    },
    {
     "name": "stdout",
     "output_type": "stream",
     "text": [
      "Saved 10 results to ../../../../../../../evaluation_results/Sepsis/gn_lognormal/v1/results_part_280.pkl\n"
     ]
    },
    {
     "name": "stdout",
     "output_type": "stream",
     "text": [
      "Saved 10 results to ../../../../../../../evaluation_results/Sepsis/gn_lognormal/v1/results_part_290.pkl\n"
     ]
    },
    {
     "name": "stdout",
     "output_type": "stream",
     "text": [
      "Saved 10 results to ../../../../../../../evaluation_results/Sepsis/gn_lognormal/v1/results_part_300.pkl\n"
     ]
    },
    {
     "name": "stdout",
     "output_type": "stream",
     "text": [
      "Saved 10 results to ../../../../../../../evaluation_results/Sepsis/gn_lognormal/v1/results_part_310.pkl\n"
     ]
    },
    {
     "name": "stdout",
     "output_type": "stream",
     "text": [
      "Saved 10 results to ../../../../../../../evaluation_results/Sepsis/gn_lognormal/v1/results_part_320.pkl\n"
     ]
    },
    {
     "name": "stdout",
     "output_type": "stream",
     "text": [
      "Saved 10 results to ../../../../../../../evaluation_results/Sepsis/gn_lognormal/v1/results_part_330.pkl\n"
     ]
    },
    {
     "name": "stdout",
     "output_type": "stream",
     "text": [
      "Saved 10 results to ../../../../../../../evaluation_results/Sepsis/gn_lognormal/v1/results_part_340.pkl\n"
     ]
    },
    {
     "name": "stdout",
     "output_type": "stream",
     "text": [
      "Saved 10 results to ../../../../../../../evaluation_results/Sepsis/gn_lognormal/v1/results_part_350.pkl\n"
     ]
    },
    {
     "name": "stdout",
     "output_type": "stream",
     "text": [
      "Saved 10 results to ../../../../../../../evaluation_results/Sepsis/gn_lognormal/v1/results_part_360.pkl\n"
     ]
    },
    {
     "name": "stdout",
     "output_type": "stream",
     "text": [
      "Saved 10 results to ../../../../../../../evaluation_results/Sepsis/gn_lognormal/v1/results_part_370.pkl\n"
     ]
    },
    {
     "name": "stdout",
     "output_type": "stream",
     "text": [
      "Saved 10 results to ../../../../../../../evaluation_results/Sepsis/gn_lognormal/v1/results_part_380.pkl\n"
     ]
    },
    {
     "name": "stdout",
     "output_type": "stream",
     "text": [
      "Saved 10 results to ../../../../../../../evaluation_results/Sepsis/gn_lognormal/v1/results_part_390.pkl\n"
     ]
    },
    {
     "name": "stdout",
     "output_type": "stream",
     "text": [
      "Saved 10 results to ../../../../../../../evaluation_results/Sepsis/gn_lognormal/v1/results_part_400.pkl\n"
     ]
    },
    {
     "name": "stdout",
     "output_type": "stream",
     "text": [
      "Saved 10 results to ../../../../../../../evaluation_results/Sepsis/gn_lognormal/v1/results_part_410.pkl\n"
     ]
    },
    {
     "name": "stdout",
     "output_type": "stream",
     "text": [
      "Saved 10 results to ../../../../../../../evaluation_results/Sepsis/gn_lognormal/v1/results_part_420.pkl\n"
     ]
    },
    {
     "name": "stdout",
     "output_type": "stream",
     "text": [
      "Saved 10 results to ../../../../../../../evaluation_results/Sepsis/gn_lognormal/v1/results_part_430.pkl\n"
     ]
    },
    {
     "name": "stdout",
     "output_type": "stream",
     "text": [
      "Saved 10 results to ../../../../../../../evaluation_results/Sepsis/gn_lognormal/v1/results_part_440.pkl\n"
     ]
    },
    {
     "name": "stdout",
     "output_type": "stream",
     "text": [
      "Saved 10 results to ../../../../../../../evaluation_results/Sepsis/gn_lognormal/v1/results_part_450.pkl\n"
     ]
    },
    {
     "name": "stdout",
     "output_type": "stream",
     "text": [
      "Saved 10 results to ../../../../../../../evaluation_results/Sepsis/gn_lognormal/v1/results_part_460.pkl\n"
     ]
    },
    {
     "name": "stdout",
     "output_type": "stream",
     "text": [
      "Saved 10 results to ../../../../../../../evaluation_results/Sepsis/gn_lognormal/v1/results_part_470.pkl\n"
     ]
    },
    {
     "name": "stdout",
     "output_type": "stream",
     "text": [
      "Saved 10 results to ../../../../../../../evaluation_results/Sepsis/gn_lognormal/v1/results_part_480.pkl\n"
     ]
    },
    {
     "name": "stdout",
     "output_type": "stream",
     "text": [
      "Saved 10 results to ../../../../../../../evaluation_results/Sepsis/gn_lognormal/v1/results_part_490.pkl\n"
     ]
    },
    {
     "name": "stdout",
     "output_type": "stream",
     "text": [
      "Saved 10 results to ../../../../../../../evaluation_results/Sepsis/gn_lognormal/v1/results_part_500.pkl\n"
     ]
    },
    {
     "name": "stdout",
     "output_type": "stream",
     "text": [
      "Saved 10 results to ../../../../../../../evaluation_results/Sepsis/gn_lognormal/v1/results_part_510.pkl\n"
     ]
    },
    {
     "name": "stdout",
     "output_type": "stream",
     "text": [
      "Saved 10 results to ../../../../../../../evaluation_results/Sepsis/gn_lognormal/v1/results_part_520.pkl\n"
     ]
    },
    {
     "name": "stdout",
     "output_type": "stream",
     "text": [
      "Saved 10 results to ../../../../../../../evaluation_results/Sepsis/gn_lognormal/v1/results_part_530.pkl\n"
     ]
    },
    {
     "name": "stdout",
     "output_type": "stream",
     "text": [
      "Saved 10 results to ../../../../../../../evaluation_results/Sepsis/gn_lognormal/v1/results_part_540.pkl\n"
     ]
    },
    {
     "name": "stdout",
     "output_type": "stream",
     "text": [
      "Saved 10 results to ../../../../../../../evaluation_results/Sepsis/gn_lognormal/v1/results_part_550.pkl\n"
     ]
    },
    {
     "name": "stdout",
     "output_type": "stream",
     "text": [
      "Saved 10 results to ../../../../../../../evaluation_results/Sepsis/gn_lognormal/v1/results_part_560.pkl\n"
     ]
    },
    {
     "name": "stdout",
     "output_type": "stream",
     "text": [
      "Saved 10 results to ../../../../../../../evaluation_results/Sepsis/gn_lognormal/v1/results_part_570.pkl\n"
     ]
    },
    {
     "name": "stdout",
     "output_type": "stream",
     "text": [
      "Saved 10 results to ../../../../../../../evaluation_results/Sepsis/gn_lognormal/v1/results_part_580.pkl\n"
     ]
    },
    {
     "name": "stdout",
     "output_type": "stream",
     "text": [
      "Saved 10 results to ../../../../../../../evaluation_results/Sepsis/gn_lognormal/v1/results_part_590.pkl\n"
     ]
    },
    {
     "name": "stdout",
     "output_type": "stream",
     "text": [
      "Saved 10 results to ../../../../../../../evaluation_results/Sepsis/gn_lognormal/v1/results_part_600.pkl\n"
     ]
    },
    {
     "name": "stdout",
     "output_type": "stream",
     "text": [
      "Saved 10 results to ../../../../../../../evaluation_results/Sepsis/gn_lognormal/v1/results_part_610.pkl\n"
     ]
    },
    {
     "name": "stdout",
     "output_type": "stream",
     "text": [
      "Saved 10 results to ../../../../../../../evaluation_results/Sepsis/gn_lognormal/v1/results_part_620.pkl\n"
     ]
    },
    {
     "name": "stdout",
     "output_type": "stream",
     "text": [
      "Saved 10 results to ../../../../../../../evaluation_results/Sepsis/gn_lognormal/v1/results_part_630.pkl\n"
     ]
    },
    {
     "name": "stdout",
     "output_type": "stream",
     "text": [
      "Saved 10 results to ../../../../../../../evaluation_results/Sepsis/gn_lognormal/v1/results_part_640.pkl\n"
     ]
    },
    {
     "name": "stdout",
     "output_type": "stream",
     "text": [
      "Saved 10 results to ../../../../../../../evaluation_results/Sepsis/gn_lognormal/v1/results_part_650.pkl\n"
     ]
    },
    {
     "name": "stdout",
     "output_type": "stream",
     "text": [
      "Saved 10 results to ../../../../../../../evaluation_results/Sepsis/gn_lognormal/v1/results_part_660.pkl\n"
     ]
    },
    {
     "name": "stdout",
     "output_type": "stream",
     "text": [
      "Saved 10 results to ../../../../../../../evaluation_results/Sepsis/gn_lognormal/v1/results_part_670.pkl\n"
     ]
    },
    {
     "name": "stdout",
     "output_type": "stream",
     "text": [
      "Saved 10 results to ../../../../../../../evaluation_results/Sepsis/gn_lognormal/v1/results_part_680.pkl\n"
     ]
    },
    {
     "name": "stdout",
     "output_type": "stream",
     "text": [
      "Saved 10 results to ../../../../../../../evaluation_results/Sepsis/gn_lognormal/v1/results_part_690.pkl\n"
     ]
    },
    {
     "name": "stdout",
     "output_type": "stream",
     "text": [
      "Saved 10 results to ../../../../../../../evaluation_results/Sepsis/gn_lognormal/v1/results_part_700.pkl\n"
     ]
    },
    {
     "name": "stdout",
     "output_type": "stream",
     "text": [
      "Saved 10 results to ../../../../../../../evaluation_results/Sepsis/gn_lognormal/v1/results_part_710.pkl\n"
     ]
    },
    {
     "name": "stdout",
     "output_type": "stream",
     "text": [
      "Saved 10 results to ../../../../../../../evaluation_results/Sepsis/gn_lognormal/v1/results_part_720.pkl\n"
     ]
    },
    {
     "name": "stdout",
     "output_type": "stream",
     "text": [
      "Saved 10 results to ../../../../../../../evaluation_results/Sepsis/gn_lognormal/v1/results_part_730.pkl\n"
     ]
    },
    {
     "name": "stdout",
     "output_type": "stream",
     "text": [
      "Saved 10 results to ../../../../../../../evaluation_results/Sepsis/gn_lognormal/v1/results_part_740.pkl\n"
     ]
    },
    {
     "name": "stdout",
     "output_type": "stream",
     "text": [
      "Saved 10 results to ../../../../../../../evaluation_results/Sepsis/gn_lognormal/v1/results_part_750.pkl\n"
     ]
    },
    {
     "name": "stdout",
     "output_type": "stream",
     "text": [
      "Saved 10 results to ../../../../../../../evaluation_results/Sepsis/gn_lognormal/v1/results_part_760.pkl\n"
     ]
    },
    {
     "name": "stdout",
     "output_type": "stream",
     "text": [
      "Saved 10 results to ../../../../../../../evaluation_results/Sepsis/gn_lognormal/v1/results_part_770.pkl\n"
     ]
    },
    {
     "name": "stdout",
     "output_type": "stream",
     "text": [
      "Saved 10 results to ../../../../../../../evaluation_results/Sepsis/gn_lognormal/v1/results_part_780.pkl\n"
     ]
    },
    {
     "name": "stdout",
     "output_type": "stream",
     "text": [
      "Saved 10 results to ../../../../../../../evaluation_results/Sepsis/gn_lognormal/v1/results_part_790.pkl\n"
     ]
    },
    {
     "name": "stdout",
     "output_type": "stream",
     "text": [
      "Saved 10 results to ../../../../../../../evaluation_results/Sepsis/gn_lognormal/v1/results_part_800.pkl\n"
     ]
    },
    {
     "name": "stdout",
     "output_type": "stream",
     "text": [
      "Saved 10 results to ../../../../../../../evaluation_results/Sepsis/gn_lognormal/v1/results_part_810.pkl\n"
     ]
    },
    {
     "name": "stdout",
     "output_type": "stream",
     "text": [
      "Saved 10 results to ../../../../../../../evaluation_results/Sepsis/gn_lognormal/v1/results_part_820.pkl\n"
     ]
    },
    {
     "name": "stdout",
     "output_type": "stream",
     "text": [
      "Saved 10 results to ../../../../../../../evaluation_results/Sepsis/gn_lognormal/v1/results_part_830.pkl\n"
     ]
    },
    {
     "name": "stdout",
     "output_type": "stream",
     "text": [
      "Saved 10 results to ../../../../../../../evaluation_results/Sepsis/gn_lognormal/v1/results_part_840.pkl\n"
     ]
    },
    {
     "name": "stdout",
     "output_type": "stream",
     "text": [
      "Saved 10 results to ../../../../../../../evaluation_results/Sepsis/gn_lognormal/v1/results_part_850.pkl\n"
     ]
    },
    {
     "name": "stdout",
     "output_type": "stream",
     "text": [
      "Saved 10 results to ../../../../../../../evaluation_results/Sepsis/gn_lognormal/v1/results_part_860.pkl\n"
     ]
    },
    {
     "name": "stdout",
     "output_type": "stream",
     "text": [
      "Saved 10 results to ../../../../../../../evaluation_results/Sepsis/gn_lognormal/v1/results_part_870.pkl\n"
     ]
    },
    {
     "name": "stdout",
     "output_type": "stream",
     "text": [
      "Saved 10 results to ../../../../../../../evaluation_results/Sepsis/gn_lognormal/v1/results_part_880.pkl\n"
     ]
    },
    {
     "name": "stdout",
     "output_type": "stream",
     "text": [
      "Saved 10 results to ../../../../../../../evaluation_results/Sepsis/gn_lognormal/v1/results_part_890.pkl\n"
     ]
    },
    {
     "name": "stdout",
     "output_type": "stream",
     "text": [
      "Saved 10 results to ../../../../../../../evaluation_results/Sepsis/gn_lognormal/v1/results_part_900.pkl\n"
     ]
    },
    {
     "name": "stdout",
     "output_type": "stream",
     "text": [
      "Saved 10 results to ../../../../../../../evaluation_results/Sepsis/gn_lognormal/v1/results_part_910.pkl\n"
     ]
    },
    {
     "name": "stdout",
     "output_type": "stream",
     "text": [
      "Saved 10 results to ../../../../../../../evaluation_results/Sepsis/gn_lognormal/v1/results_part_920.pkl\n"
     ]
    },
    {
     "name": "stdout",
     "output_type": "stream",
     "text": [
      "Saved 10 results to ../../../../../../../evaluation_results/Sepsis/gn_lognormal/v1/results_part_930.pkl\n"
     ]
    },
    {
     "name": "stdout",
     "output_type": "stream",
     "text": [
      "Saved 10 results to ../../../../../../../evaluation_results/Sepsis/gn_lognormal/v1/results_part_940.pkl\n"
     ]
    },
    {
     "name": "stdout",
     "output_type": "stream",
     "text": [
      "Saved 10 results to ../../../../../../../evaluation_results/Sepsis/gn_lognormal/v1/results_part_950.pkl\n"
     ]
    },
    {
     "name": "stdout",
     "output_type": "stream",
     "text": [
      "Saved 10 results to ../../../../../../../evaluation_results/Sepsis/gn_lognormal/v1/results_part_960.pkl\n"
     ]
    },
    {
     "name": "stdout",
     "output_type": "stream",
     "text": [
      "Saved 10 results to ../../../../../../../evaluation_results/Sepsis/gn_lognormal/v1/results_part_970.pkl\n"
     ]
    },
    {
     "name": "stdout",
     "output_type": "stream",
     "text": [
      "Saved 10 results to ../../../../../../../evaluation_results/Sepsis/gn_lognormal/v1/results_part_980.pkl\n"
     ]
    },
    {
     "name": "stdout",
     "output_type": "stream",
     "text": [
      "Saved 10 results to ../../../../../../../evaluation_results/Sepsis/gn_lognormal/v1/results_part_990.pkl\n"
     ]
    },
    {
     "name": "stdout",
     "output_type": "stream",
     "text": [
      "Saved 10 results to ../../../../../../../evaluation_results/Sepsis/gn_lognormal/v1/results_part_1000.pkl\n"
     ]
    },
    {
     "name": "stdout",
     "output_type": "stream",
     "text": [
      "Saved 10 results to ../../../../../../../evaluation_results/Sepsis/gn_lognormal/v1/results_part_1010.pkl\n"
     ]
    },
    {
     "name": "stdout",
     "output_type": "stream",
     "text": [
      "Saved 10 results to ../../../../../../../evaluation_results/Sepsis/gn_lognormal/v1/results_part_1020.pkl\n"
     ]
    },
    {
     "name": "stdout",
     "output_type": "stream",
     "text": [
      "Saved 10 results to ../../../../../../../evaluation_results/Sepsis/gn_lognormal/v1/results_part_1030.pkl\n"
     ]
    },
    {
     "name": "stdout",
     "output_type": "stream",
     "text": [
      "Saved 10 results to ../../../../../../../evaluation_results/Sepsis/gn_lognormal/v1/results_part_1040.pkl\n"
     ]
    },
    {
     "name": "stdout",
     "output_type": "stream",
     "text": [
      "Saved 10 results to ../../../../../../../evaluation_results/Sepsis/gn_lognormal/v1/results_part_1050.pkl\n"
     ]
    },
    {
     "name": "stdout",
     "output_type": "stream",
     "text": [
      "Saved 10 results to ../../../../../../../evaluation_results/Sepsis/gn_lognormal/v1/results_part_1060.pkl\n"
     ]
    },
    {
     "name": "stdout",
     "output_type": "stream",
     "text": [
      "Saved 10 results to ../../../../../../../evaluation_results/Sepsis/gn_lognormal/v1/results_part_1070.pkl\n"
     ]
    },
    {
     "name": "stdout",
     "output_type": "stream",
     "text": [
      "Saved 10 results to ../../../../../../../evaluation_results/Sepsis/gn_lognormal/v1/results_part_1080.pkl\n"
     ]
    },
    {
     "name": "stdout",
     "output_type": "stream",
     "text": [
      "Saved 10 results to ../../../../../../../evaluation_results/Sepsis/gn_lognormal/v1/results_part_1090.pkl\n"
     ]
    },
    {
     "name": "stdout",
     "output_type": "stream",
     "text": [
      "Saved 10 results to ../../../../../../../evaluation_results/Sepsis/gn_lognormal/v1/results_part_1100.pkl\n"
     ]
    },
    {
     "name": "stdout",
     "output_type": "stream",
     "text": [
      "Saved 10 results to ../../../../../../../evaluation_results/Sepsis/gn_lognormal/v1/results_part_1110.pkl\n"
     ]
    },
    {
     "name": "stdout",
     "output_type": "stream",
     "text": [
      "Saved 10 results to ../../../../../../../evaluation_results/Sepsis/gn_lognormal/v1/results_part_1120.pkl\n"
     ]
    },
    {
     "name": "stdout",
     "output_type": "stream",
     "text": [
      "Saved 10 results to ../../../../../../../evaluation_results/Sepsis/gn_lognormal/v1/results_part_1130.pkl\n"
     ]
    },
    {
     "name": "stdout",
     "output_type": "stream",
     "text": [
      "Saved 10 results to ../../../../../../../evaluation_results/Sepsis/gn_lognormal/v1/results_part_1140.pkl\n"
     ]
    },
    {
     "name": "stdout",
     "output_type": "stream",
     "text": [
      "Saved 10 results to ../../../../../../../evaluation_results/Sepsis/gn_lognormal/v1/results_part_1150.pkl\n"
     ]
    },
    {
     "name": "stdout",
     "output_type": "stream",
     "text": [
      "Saved 10 results to ../../../../../../../evaluation_results/Sepsis/gn_lognormal/v1/results_part_1160.pkl\n"
     ]
    },
    {
     "name": "stdout",
     "output_type": "stream",
     "text": [
      "Saved 10 results to ../../../../../../../evaluation_results/Sepsis/gn_lognormal/v1/results_part_1170.pkl\n"
     ]
    },
    {
     "name": "stdout",
     "output_type": "stream",
     "text": [
      "Saved 10 results to ../../../../../../../evaluation_results/Sepsis/gn_lognormal/v1/results_part_1180.pkl\n"
     ]
    },
    {
     "name": "stdout",
     "output_type": "stream",
     "text": [
      "Saved 10 results to ../../../../../../../evaluation_results/Sepsis/gn_lognormal/v1/results_part_1190.pkl\n"
     ]
    },
    {
     "name": "stdout",
     "output_type": "stream",
     "text": [
      "Saved 10 results to ../../../../../../../evaluation_results/Sepsis/gn_lognormal/v1/results_part_1200.pkl\n"
     ]
    },
    {
     "name": "stdout",
     "output_type": "stream",
     "text": [
      "Saved 10 results to ../../../../../../../evaluation_results/Sepsis/gn_lognormal/v1/results_part_1210.pkl\n"
     ]
    },
    {
     "name": "stdout",
     "output_type": "stream",
     "text": [
      "Saved 10 results to ../../../../../../../evaluation_results/Sepsis/gn_lognormal/v1/results_part_1220.pkl\n"
     ]
    },
    {
     "name": "stdout",
     "output_type": "stream",
     "text": [
      "Saved 10 results to ../../../../../../../evaluation_results/Sepsis/gn_lognormal/v1/results_part_1230.pkl\n"
     ]
    },
    {
     "name": "stdout",
     "output_type": "stream",
     "text": [
      "Saved 10 results to ../../../../../../../evaluation_results/Sepsis/gn_lognormal/v1/results_part_1240.pkl\n"
     ]
    },
    {
     "name": "stdout",
     "output_type": "stream",
     "text": [
      "Saved 10 results to ../../../../../../../evaluation_results/Sepsis/gn_lognormal/v1/results_part_1250.pkl\n"
     ]
    },
    {
     "name": "stdout",
     "output_type": "stream",
     "text": [
      "Saved 10 results to ../../../../../../../evaluation_results/Sepsis/gn_lognormal/v1/results_part_1260.pkl\n"
     ]
    },
    {
     "name": "stdout",
     "output_type": "stream",
     "text": [
      "Saved 10 results to ../../../../../../../evaluation_results/Sepsis/gn_lognormal/v1/results_part_1270.pkl\n"
     ]
    },
    {
     "name": "stdout",
     "output_type": "stream",
     "text": [
      "Saved 10 results to ../../../../../../../evaluation_results/Sepsis/gn_lognormal/v1/results_part_1280.pkl\n"
     ]
    },
    {
     "name": "stdout",
     "output_type": "stream",
     "text": [
      "Saved 10 results to ../../../../../../../evaluation_results/Sepsis/gn_lognormal/v1/results_part_1290.pkl\n"
     ]
    },
    {
     "name": "stdout",
     "output_type": "stream",
     "text": [
      "Saved 10 results to ../../../../../../../evaluation_results/Sepsis/gn_lognormal/v1/results_part_1300.pkl\n"
     ]
    },
    {
     "name": "stdout",
     "output_type": "stream",
     "text": [
      "Saved 10 results to ../../../../../../../evaluation_results/Sepsis/gn_lognormal/v1/results_part_1310.pkl\n"
     ]
    },
    {
     "name": "stdout",
     "output_type": "stream",
     "text": [
      "Saved 10 results to ../../../../../../../evaluation_results/Sepsis/gn_lognormal/v1/results_part_1320.pkl\n"
     ]
    },
    {
     "name": "stdout",
     "output_type": "stream",
     "text": [
      "Saved 10 results to ../../../../../../../evaluation_results/Sepsis/gn_lognormal/v1/results_part_1330.pkl\n"
     ]
    },
    {
     "name": "stdout",
     "output_type": "stream",
     "text": [
      "Saved 10 results to ../../../../../../../evaluation_results/Sepsis/gn_lognormal/v1/results_part_1340.pkl\n"
     ]
    },
    {
     "name": "stdout",
     "output_type": "stream",
     "text": [
      "Saved 10 results to ../../../../../../../evaluation_results/Sepsis/gn_lognormal/v1/results_part_1350.pkl\n"
     ]
    },
    {
     "name": "stdout",
     "output_type": "stream",
     "text": [
      "Saved 10 results to ../../../../../../../evaluation_results/Sepsis/gn_lognormal/v1/results_part_1360.pkl\n"
     ]
    },
    {
     "name": "stdout",
     "output_type": "stream",
     "text": [
      "Saved 10 results to ../../../../../../../evaluation_results/Sepsis/gn_lognormal/v1/results_part_1370.pkl\n"
     ]
    },
    {
     "name": "stdout",
     "output_type": "stream",
     "text": [
      "Saved 10 results to ../../../../../../../evaluation_results/Sepsis/gn_lognormal/v1/results_part_1380.pkl\n"
     ]
    },
    {
     "name": "stdout",
     "output_type": "stream",
     "text": [
      "Saved 10 results to ../../../../../../../evaluation_results/Sepsis/gn_lognormal/v1/results_part_1390.pkl\n"
     ]
    },
    {
     "name": "stdout",
     "output_type": "stream",
     "text": [
      "Saved 10 results to ../../../../../../../evaluation_results/Sepsis/gn_lognormal/v1/results_part_1400.pkl\n"
     ]
    },
    {
     "name": "stdout",
     "output_type": "stream",
     "text": [
      "Saved 10 results to ../../../../../../../evaluation_results/Sepsis/gn_lognormal/v1/results_part_1410.pkl\n"
     ]
    },
    {
     "name": "stdout",
     "output_type": "stream",
     "text": [
      "Saved 10 results to ../../../../../../../evaluation_results/Sepsis/gn_lognormal/v1/results_part_1420.pkl\n"
     ]
    },
    {
     "name": "stdout",
     "output_type": "stream",
     "text": [
      "Saved 10 results to ../../../../../../../evaluation_results/Sepsis/gn_lognormal/v1/results_part_1430.pkl\n"
     ]
    },
    {
     "name": "stdout",
     "output_type": "stream",
     "text": [
      "Saved 10 results to ../../../../../../../evaluation_results/Sepsis/gn_lognormal/v1/results_part_1440.pkl\n"
     ]
    },
    {
     "name": "stdout",
     "output_type": "stream",
     "text": [
      "Saved 10 results to ../../../../../../../evaluation_results/Sepsis/gn_lognormal/v1/results_part_1450.pkl\n"
     ]
    },
    {
     "name": "stdout",
     "output_type": "stream",
     "text": [
      "Saved 10 results to ../../../../../../../evaluation_results/Sepsis/gn_lognormal/v1/results_part_1460.pkl\n"
     ]
    },
    {
     "name": "stdout",
     "output_type": "stream",
     "text": [
      "Saved 10 results to ../../../../../../../evaluation_results/Sepsis/gn_lognormal/v1/results_part_1470.pkl\n"
     ]
    },
    {
     "name": "stdout",
     "output_type": "stream",
     "text": [
      "Saved 10 results to ../../../../../../../evaluation_results/Sepsis/gn_lognormal/v1/results_part_1480.pkl\n"
     ]
    },
    {
     "name": "stdout",
     "output_type": "stream",
     "text": [
      "Saved 10 results to ../../../../../../../evaluation_results/Sepsis/gn_lognormal/v1/results_part_1490.pkl\n"
     ]
    },
    {
     "name": "stdout",
     "output_type": "stream",
     "text": [
      "Saved 10 results to ../../../../../../../evaluation_results/Sepsis/gn_lognormal/v1/results_part_1500.pkl\n"
     ]
    },
    {
     "name": "stdout",
     "output_type": "stream",
     "text": [
      "Saved 10 results to ../../../../../../../evaluation_results/Sepsis/gn_lognormal/v1/results_part_1510.pkl\n"
     ]
    },
    {
     "name": "stdout",
     "output_type": "stream",
     "text": [
      "Saved 10 results to ../../../../../../../evaluation_results/Sepsis/gn_lognormal/v1/results_part_1520.pkl\n"
     ]
    },
    {
     "name": "stdout",
     "output_type": "stream",
     "text": [
      "Saved 10 results to ../../../../../../../evaluation_results/Sepsis/gn_lognormal/v1/results_part_1530.pkl\n"
     ]
    },
    {
     "name": "stdout",
     "output_type": "stream",
     "text": [
      "Saved 10 results to ../../../../../../../evaluation_results/Sepsis/gn_lognormal/v1/results_part_1540.pkl\n"
     ]
    },
    {
     "name": "stdout",
     "output_type": "stream",
     "text": [
      "Saved 10 results to ../../../../../../../evaluation_results/Sepsis/gn_lognormal/v1/results_part_1550.pkl\n"
     ]
    },
    {
     "name": "stdout",
     "output_type": "stream",
     "text": [
      "Saved 10 results to ../../../../../../../evaluation_results/Sepsis/gn_lognormal/v1/results_part_1560.pkl\n"
     ]
    },
    {
     "name": "stdout",
     "output_type": "stream",
     "text": [
      "Saved 10 results to ../../../../../../../evaluation_results/Sepsis/gn_lognormal/v1/results_part_1570.pkl\n"
     ]
    },
    {
     "name": "stdout",
     "output_type": "stream",
     "text": [
      "Saved 10 results to ../../../../../../../evaluation_results/Sepsis/gn_lognormal/v1/results_part_1580.pkl\n"
     ]
    },
    {
     "name": "stdout",
     "output_type": "stream",
     "text": [
      "Saved 10 results to ../../../../../../../evaluation_results/Sepsis/gn_lognormal/v1/results_part_1590.pkl\n"
     ]
    },
    {
     "name": "stdout",
     "output_type": "stream",
     "text": [
      "Saved 10 results to ../../../../../../../evaluation_results/Sepsis/gn_lognormal/v1/results_part_1600.pkl\n"
     ]
    },
    {
     "name": "stdout",
     "output_type": "stream",
     "text": [
      "Saved 10 results to ../../../../../../../evaluation_results/Sepsis/gn_lognormal/v1/results_part_1610.pkl\n"
     ]
    },
    {
     "name": "stdout",
     "output_type": "stream",
     "text": [
      "Saved 10 results to ../../../../../../../evaluation_results/Sepsis/gn_lognormal/v1/results_part_1620.pkl\n"
     ]
    },
    {
     "name": "stdout",
     "output_type": "stream",
     "text": [
      "Saved 10 results to ../../../../../../../evaluation_results/Sepsis/gn_lognormal/v1/results_part_1630.pkl\n"
     ]
    },
    {
     "name": "stdout",
     "output_type": "stream",
     "text": [
      "Saved 10 results to ../../../../../../../evaluation_results/Sepsis/gn_lognormal/v1/results_part_1640.pkl\n"
     ]
    },
    {
     "name": "stdout",
     "output_type": "stream",
     "text": [
      "Saved 10 results to ../../../../../../../evaluation_results/Sepsis/gn_lognormal/v1/results_part_1650.pkl\n"
     ]
    },
    {
     "name": "stdout",
     "output_type": "stream",
     "text": [
      "Saved 10 results to ../../../../../../../evaluation_results/Sepsis/gn_lognormal/v1/results_part_1660.pkl\n"
     ]
    },
    {
     "name": "stdout",
     "output_type": "stream",
     "text": [
      "Saved 10 results to ../../../../../../../evaluation_results/Sepsis/gn_lognormal/v1/results_part_1670.pkl\n"
     ]
    },
    {
     "name": "stdout",
     "output_type": "stream",
     "text": [
      "Saved 10 results to ../../../../../../../evaluation_results/Sepsis/gn_lognormal/v1/results_part_1680.pkl\n"
     ]
    },
    {
     "name": "stdout",
     "output_type": "stream",
     "text": [
      "Saved 10 results to ../../../../../../../evaluation_results/Sepsis/gn_lognormal/v1/results_part_1690.pkl\n"
     ]
    },
    {
     "name": "stdout",
     "output_type": "stream",
     "text": [
      "Saved 10 results to ../../../../../../../evaluation_results/Sepsis/gn_lognormal/v1/results_part_1700.pkl\n"
     ]
    }
   ],
   "source": [
    "def save_chunk(results, i):\n",
    "    chunk_number = (i + 1)\n",
    "    filename = os.path.join(output_dir, f'results_part_{chunk_number:03d}.pkl')\n",
    "    with open(filename, 'wb') as f:\n",
    "        pickle.dump(results, f)\n",
    "    print(f\"Saved {len(results)} results to {filename}\")\n",
    "\n",
    "output_dir = '../../../../../../../evaluation_results/Sepsis/gn_lognormal/'\n",
    "\n",
    "save_every = 10\n",
    "results = {}\n",
    "for i, (case_name, prefix_len, prefix, predicted_suffixes, suffix, mean_prediction) in enumerate(new_eval.evaluate(random_order=False, include_model_states=True)):\n",
    "    # print(case_name, prefix_len)\n",
    "    results[(case_name, prefix_len)] = (prefix, suffix, mean_prediction, predicted_suffixes)\n",
    "    if (i + 1) % save_every == 0:\n",
    "        save_chunk(results, i)\n",
    "        results = {}\n",
    "\n",
    "if len(results):\n",
    "    save_chunk(results, i)"
   ]
  }
 ],
 "metadata": {
  "kernelspec": {
   "display_name": "PrimePPM-tDGhFIeG",
   "language": "python",
   "name": "python3"
  },
  "language_info": {
   "codemirror_mode": {
    "name": "ipython",
    "version": 3
   },
   "file_extension": ".py",
   "mimetype": "text/x-python",
   "name": "python",
   "nbconvert_exporter": "python",
   "pygments_lexer": "ipython3",
   "version": "3.13.1"
  },
  "widgets": {
   "application/vnd.jupyter.widget-state+json": {
    "state": {
     "0741a155783a4a018aad39d415d86abe": {
      "model_module": "@jupyter-widgets/controls",
      "model_module_version": "2.0.0",
      "model_name": "HTMLModel",
      "state": {
       "_dom_classes": [],
       "_model_module": "@jupyter-widgets/controls",
       "_model_module_version": "2.0.0",
       "_model_name": "HTMLModel",
       "_view_count": null,
       "_view_module": "@jupyter-widgets/controls",
       "_view_module_version": "2.0.0",
       "_view_name": "HTMLView",
       "description": "",
       "description_allow_html": false,
       "layout": "IPY_MODEL_95972e3f7d294596b3e86b4b8957fd1b",
       "placeholder": "​",
       "style": "IPY_MODEL_beb26e764fe84360b5d9b434db4bb87c",
       "tabbable": null,
       "tooltip": null,
       "value": "100%"
      }
     },
     "0a1f9265e41945c0b11a7fbb842e44cd": {
      "model_module": "@jupyter-widgets/controls",
      "model_module_version": "2.0.0",
      "model_name": "HTMLModel",
      "state": {
       "_dom_classes": [],
       "_model_module": "@jupyter-widgets/controls",
       "_model_module_version": "2.0.0",
       "_model_name": "HTMLModel",
       "_view_count": null,
       "_view_module": "@jupyter-widgets/controls",
       "_view_module_version": "2.0.0",
       "_view_name": "HTMLView",
       "description": "",
       "description_allow_html": false,
       "layout": "IPY_MODEL_b43c1d9578474525931f3e987a53be79",
       "placeholder": "​",
       "style": "IPY_MODEL_37eb346e8676462698a1be973bb91063",
       "tabbable": null,
       "tooltip": null,
       "value": " 132/132 [8:43:34&lt;00:00, 218.62s/it]"
      }
     },
     "37eb346e8676462698a1be973bb91063": {
      "model_module": "@jupyter-widgets/controls",
      "model_module_version": "2.0.0",
      "model_name": "HTMLStyleModel",
      "state": {
       "_model_module": "@jupyter-widgets/controls",
       "_model_module_version": "2.0.0",
       "_model_name": "HTMLStyleModel",
       "_view_count": null,
       "_view_module": "@jupyter-widgets/base",
       "_view_module_version": "2.0.0",
       "_view_name": "StyleView",
       "background": null,
       "description_width": "",
       "font_size": null,
       "text_color": null
      }
     },
     "447ef993af9a4a479722fdccd369ea32": {
      "model_module": "@jupyter-widgets/controls",
      "model_module_version": "2.0.0",
      "model_name": "FloatProgressModel",
      "state": {
       "_dom_classes": [],
       "_model_module": "@jupyter-widgets/controls",
       "_model_module_version": "2.0.0",
       "_model_name": "FloatProgressModel",
       "_view_count": null,
       "_view_module": "@jupyter-widgets/controls",
       "_view_module_version": "2.0.0",
       "_view_name": "ProgressView",
       "bar_style": "success",
       "description": "",
       "description_allow_html": false,
       "layout": "IPY_MODEL_aaedc4a241984d3281a48b55ebbbc7ca",
       "max": 132,
       "min": 0,
       "orientation": "horizontal",
       "style": "IPY_MODEL_a736a7e61ae643678405ce1498c603ae",
       "tabbable": null,
       "tooltip": null,
       "value": 132
      }
     },
     "688e17cc14f34266ae692f931290c2c3": {
      "model_module": "@jupyter-widgets/base",
      "model_module_version": "2.0.0",
      "model_name": "LayoutModel",
      "state": {
       "_model_module": "@jupyter-widgets/base",
       "_model_module_version": "2.0.0",
       "_model_name": "LayoutModel",
       "_view_count": null,
       "_view_module": "@jupyter-widgets/base",
       "_view_module_version": "2.0.0",
       "_view_name": "LayoutView",
       "align_content": null,
       "align_items": null,
       "align_self": null,
       "border_bottom": null,
       "border_left": null,
       "border_right": null,
       "border_top": null,
       "bottom": null,
       "display": null,
       "flex": null,
       "flex_flow": null,
       "grid_area": null,
       "grid_auto_columns": null,
       "grid_auto_flow": null,
       "grid_auto_rows": null,
       "grid_column": null,
       "grid_gap": null,
       "grid_row": null,
       "grid_template_areas": null,
       "grid_template_columns": null,
       "grid_template_rows": null,
       "height": null,
       "justify_content": null,
       "justify_items": null,
       "left": null,
       "margin": null,
       "max_height": null,
       "max_width": null,
       "min_height": null,
       "min_width": null,
       "object_fit": null,
       "object_position": null,
       "order": null,
       "overflow": null,
       "padding": null,
       "right": null,
       "top": null,
       "visibility": null,
       "width": null
      }
     },
     "95972e3f7d294596b3e86b4b8957fd1b": {
      "model_module": "@jupyter-widgets/base",
      "model_module_version": "2.0.0",
      "model_name": "LayoutModel",
      "state": {
       "_model_module": "@jupyter-widgets/base",
       "_model_module_version": "2.0.0",
       "_model_name": "LayoutModel",
       "_view_count": null,
       "_view_module": "@jupyter-widgets/base",
       "_view_module_version": "2.0.0",
       "_view_name": "LayoutView",
       "align_content": null,
       "align_items": null,
       "align_self": null,
       "border_bottom": null,
       "border_left": null,
       "border_right": null,
       "border_top": null,
       "bottom": null,
       "display": null,
       "flex": null,
       "flex_flow": null,
       "grid_area": null,
       "grid_auto_columns": null,
       "grid_auto_flow": null,
       "grid_auto_rows": null,
       "grid_column": null,
       "grid_gap": null,
       "grid_row": null,
       "grid_template_areas": null,
       "grid_template_columns": null,
       "grid_template_rows": null,
       "height": null,
       "justify_content": null,
       "justify_items": null,
       "left": null,
       "margin": null,
       "max_height": null,
       "max_width": null,
       "min_height": null,
       "min_width": null,
       "object_fit": null,
       "object_position": null,
       "order": null,
       "overflow": null,
       "padding": null,
       "right": null,
       "top": null,
       "visibility": null,
       "width": null
      }
     },
     "a736a7e61ae643678405ce1498c603ae": {
      "model_module": "@jupyter-widgets/controls",
      "model_module_version": "2.0.0",
      "model_name": "ProgressStyleModel",
      "state": {
       "_model_module": "@jupyter-widgets/controls",
       "_model_module_version": "2.0.0",
       "_model_name": "ProgressStyleModel",
       "_view_count": null,
       "_view_module": "@jupyter-widgets/base",
       "_view_module_version": "2.0.0",
       "_view_name": "StyleView",
       "bar_color": null,
       "description_width": ""
      }
     },
     "aaedc4a241984d3281a48b55ebbbc7ca": {
      "model_module": "@jupyter-widgets/base",
      "model_module_version": "2.0.0",
      "model_name": "LayoutModel",
      "state": {
       "_model_module": "@jupyter-widgets/base",
       "_model_module_version": "2.0.0",
       "_model_name": "LayoutModel",
       "_view_count": null,
       "_view_module": "@jupyter-widgets/base",
       "_view_module_version": "2.0.0",
       "_view_name": "LayoutView",
       "align_content": null,
       "align_items": null,
       "align_self": null,
       "border_bottom": null,
       "border_left": null,
       "border_right": null,
       "border_top": null,
       "bottom": null,
       "display": null,
       "flex": null,
       "flex_flow": null,
       "grid_area": null,
       "grid_auto_columns": null,
       "grid_auto_flow": null,
       "grid_auto_rows": null,
       "grid_column": null,
       "grid_gap": null,
       "grid_row": null,
       "grid_template_areas": null,
       "grid_template_columns": null,
       "grid_template_rows": null,
       "height": null,
       "justify_content": null,
       "justify_items": null,
       "left": null,
       "margin": null,
       "max_height": null,
       "max_width": null,
       "min_height": null,
       "min_width": null,
       "object_fit": null,
       "object_position": null,
       "order": null,
       "overflow": null,
       "padding": null,
       "right": null,
       "top": null,
       "visibility": null,
       "width": null
      }
     },
     "b43c1d9578474525931f3e987a53be79": {
      "model_module": "@jupyter-widgets/base",
      "model_module_version": "2.0.0",
      "model_name": "LayoutModel",
      "state": {
       "_model_module": "@jupyter-widgets/base",
       "_model_module_version": "2.0.0",
       "_model_name": "LayoutModel",
       "_view_count": null,
       "_view_module": "@jupyter-widgets/base",
       "_view_module_version": "2.0.0",
       "_view_name": "LayoutView",
       "align_content": null,
       "align_items": null,
       "align_self": null,
       "border_bottom": null,
       "border_left": null,
       "border_right": null,
       "border_top": null,
       "bottom": null,
       "display": null,
       "flex": null,
       "flex_flow": null,
       "grid_area": null,
       "grid_auto_columns": null,
       "grid_auto_flow": null,
       "grid_auto_rows": null,
       "grid_column": null,
       "grid_gap": null,
       "grid_row": null,
       "grid_template_areas": null,
       "grid_template_columns": null,
       "grid_template_rows": null,
       "height": null,
       "justify_content": null,
       "justify_items": null,
       "left": null,
       "margin": null,
       "max_height": null,
       "max_width": null,
       "min_height": null,
       "min_width": null,
       "object_fit": null,
       "object_position": null,
       "order": null,
       "overflow": null,
       "padding": null,
       "right": null,
       "top": null,
       "visibility": null,
       "width": null
      }
     },
     "beb26e764fe84360b5d9b434db4bb87c": {
      "model_module": "@jupyter-widgets/controls",
      "model_module_version": "2.0.0",
      "model_name": "HTMLStyleModel",
      "state": {
       "_model_module": "@jupyter-widgets/controls",
       "_model_module_version": "2.0.0",
       "_model_name": "HTMLStyleModel",
       "_view_count": null,
       "_view_module": "@jupyter-widgets/base",
       "_view_module_version": "2.0.0",
       "_view_name": "StyleView",
       "background": null,
       "description_width": "",
       "font_size": null,
       "text_color": null
      }
     },
     "e3f841384b6d44788d11cc37ecddbb25": {
      "model_module": "@jupyter-widgets/controls",
      "model_module_version": "2.0.0",
      "model_name": "HBoxModel",
      "state": {
       "_dom_classes": [],
       "_model_module": "@jupyter-widgets/controls",
       "_model_module_version": "2.0.0",
       "_model_name": "HBoxModel",
       "_view_count": null,
       "_view_module": "@jupyter-widgets/controls",
       "_view_module_version": "2.0.0",
       "_view_name": "HBoxView",
       "box_style": "",
       "children": [
        "IPY_MODEL_0741a155783a4a018aad39d415d86abe",
        "IPY_MODEL_447ef993af9a4a479722fdccd369ea32",
        "IPY_MODEL_0a1f9265e41945c0b11a7fbb842e44cd"
       ],
       "layout": "IPY_MODEL_688e17cc14f34266ae692f931290c2c3",
       "tabbable": null,
       "tooltip": null
      }
     }
    },
    "version_major": 2,
    "version_minor": 0
   }
  }
 },
 "nbformat": 4,
 "nbformat_minor": 2
}
