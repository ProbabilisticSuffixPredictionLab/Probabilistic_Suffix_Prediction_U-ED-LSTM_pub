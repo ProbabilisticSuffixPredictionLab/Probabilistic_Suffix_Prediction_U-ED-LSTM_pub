{
 "cells": [
  {
   "cell_type": "code",
   "execution_count": 1,
   "metadata": {
    "execution": {
     "iopub.execute_input": "2025-05-13T15:32:08.936417Z",
     "iopub.status.busy": "2025-05-13T15:32:08.936306Z",
     "iopub.status.idle": "2025-05-13T15:32:09.970490Z",
     "shell.execute_reply": "2025-05-13T15:32:09.970130Z"
    }
   },
   "outputs": [],
   "source": [
    "import importlib\n",
    "import sys\n",
    "import torch\n",
    "import pickle\n",
    "import os\n",
    "\n",
    "sys.path.insert(0, '..')\n",
    "sys.path.insert(0, '../..')\n",
    "sys.path.insert(0, '../../..')\n",
    "sys.path.insert(0, '../../../..')\n",
    "\n",
    "\n",
    "from model.dropout_uncertainty_enc_dec_LSTM.dropout_uncertainty_model import DropoutUncertaintyEncoderDecoderLSTM"
   ]
  },
  {
   "cell_type": "code",
   "execution_count": 2,
   "metadata": {
    "execution": {
     "iopub.execute_input": "2025-05-13T15:32:09.971662Z",
     "iopub.status.busy": "2025-05-13T15:32:09.971529Z",
     "iopub.status.idle": "2025-05-13T15:32:10.768769Z",
     "shell.execute_reply": "2025-05-13T15:32:10.768386Z"
    }
   },
   "outputs": [
    {
     "name": "stdout",
     "output_type": "stream",
     "text": [
      "Data set categories:  ([('concept:name', 10, {'Callback timeout': 1, 'EOS': 2, 'Export result': 3, 'Export to EMS': 4, 'Match patient data': 5, 'Receive sample state': 6, 'Send notification': 7, 'Wait for plate validation': 8, 'timeout': 9}), ('cpee:lifecycle:transition', 6, {'EOS': 1, 'activity/calling': 2, 'activity/done': 3, 'activity/receiving': 4, 'dataelements/change': 5})], [('case_elapsed_time', 1, {}), ('event_elapsed_time', 1, {}), ('day_in_week', 1, {}), ('seconds_in_day', 1, {})])\n",
      "Encoder input features:  [['concept:name', 'cpee:lifecycle:transition'], ['case_elapsed_time', 'event_elapsed_time', 'day_in_week', 'seconds_in_day']]\n",
      "Decoder input+output features:  [['concept:name'], ['case_elapsed_time', 'event_elapsed_time']]\n",
      "\n",
      "\n",
      "Sequence length of decoder output:  4\n",
      "\n",
      "\n",
      "Cells hidden size:  128\n",
      "Number of LSTM layer:  4\n",
      "Dropout rate:  0.1\n",
      "\n",
      "\n",
      "Encoder number of labels for each input feature (categorical, numerical):  [[10, 6], [1, 1, 1, 1]]\n",
      "Encoder indices of tensors in dataset used as input:  [[0, 1], [0, 1, 2, 3]]\n",
      "Embeddings encoder:  ModuleList(\n",
      "  (0): Embedding(10, 6)\n",
      "  (1): Embedding(6, 4)\n",
      ")\n",
      "Total embedding feature size encoder:  10\n",
      "Total numerical feature size encoder:  4\n",
      "Input feature size encoder:  14\n",
      "Encoder initialized! \n",
      "\n",
      "Decoder label values size for each categorical input feature:  [10]\n",
      "Decoder label values size for each numerical input feature:  [1, 1]\n",
      "Decoder indices of tensors in dataset used as input:  [[0], [0, 1]]\n",
      "Embeddings decoder:  ModuleList(\n",
      "  (0): Embedding(10, 6)\n",
      ")\n",
      "Total embedding feature size decoder:  6\n",
      "Total numerical feature size decoder:  2\n",
      "Input feature size decoder:  8\n",
      "Output feature list of dicts (featue name, feature output size) of decoder:  [{'concept:name': 10}, {'case_elapsed_time': 1, 'event_elapsed_time': 1}]\n",
      "Decoder initialized! \n",
      "\n",
      "Output feature list of dicts (featue name, tensor index in dataset) of decoder:  [{'concept:name': 0}, {'case_elapsed_time': 0, 'event_elapsed_time': 1}]\n"
     ]
    }
   ],
   "source": [
    "#load model\n",
    "file_path_model = '../../../training_variational_dropout/PCR-Test/PCR_full_grad_norm_new_4layer.pkl'\n",
    "model = DropoutUncertaintyEncoderDecoderLSTM.load(file_path_model, dropout=0.1)\n",
    "\n",
    "# Load the dataset\n",
    "file_path_data_set = '../../../../../encoded_data/PCR_5_test.pkl'\n",
    "pcr_test_dataset = torch.load(file_path_data_set, weights_only=False)"
   ]
  },
  {
   "cell_type": "code",
   "execution_count": 3,
   "metadata": {
    "execution": {
     "iopub.execute_input": "2025-05-13T15:32:10.770203Z",
     "iopub.status.busy": "2025-05-13T15:32:10.770050Z",
     "iopub.status.idle": "2025-05-13T15:32:10.984518Z",
     "shell.execute_reply": "2025-05-13T15:32:10.984125Z"
    }
   },
   "outputs": [],
   "source": [
    "import evaluation.probabilistic_evaluation\n",
    "importlib.reload(evaluation.probabilistic_evaluation)\n",
    "from evaluation.probabilistic_evaluation import ProbabilisticEvaluation\n",
    "\n",
    "new_eval = ProbabilisticEvaluation(model, \n",
    "                                   pcr_test_dataset,\n",
    "                                   concept_name='concept:name',\n",
    "                                   num_processes=16,\n",
    "                                   #growing_num_values = [],\n",
    "                                   growing_num_values = ['case_elapsed_time'],\n",
    "                                   samples_per_case = 1000,\n",
    "                                   sample_argmax = False,\n",
    "                                   use_variance_cat = True,\n",
    "                                   use_variance_num = True,\n",
    "                                   all_cat=['concept:name'],\n",
    "                                   all_num=['case_elapsed_time', 'event_elapsed_time']\n",
    "                                   )\n"
   ]
  },
  {
   "cell_type": "code",
   "execution_count": 4,
   "metadata": {
    "execution": {
     "iopub.execute_input": "2025-05-13T15:32:10.985658Z",
     "iopub.status.busy": "2025-05-13T15:32:10.985404Z",
     "iopub.status.idle": "2025-05-13T21:42:08.407675Z",
     "shell.execute_reply": "2025-05-13T21:42:08.407189Z"
    }
   },
   "outputs": [
    {
     "data": {
      "application/vnd.jupyter.widget-view+json": {
       "model_id": "f1c0d60851ec4e00a64ef8014b048677",
       "version_major": 2,
       "version_minor": 0
      },
      "text/plain": [
       "  0%|          | 0/998 [00:00<?, ?it/s]"
      ]
     },
     "metadata": {},
     "output_type": "display_data"
    },
    {
     "name": "stdout",
     "output_type": "stream",
     "text": [
      "Saved 50 results to ../../../../../../../evaluation_results/PCR/gn_l4/results_part_050.pkl\n"
     ]
    },
    {
     "name": "stdout",
     "output_type": "stream",
     "text": [
      "Saved 50 results to ../../../../../../../evaluation_results/PCR/gn_l4/results_part_100.pkl\n"
     ]
    },
    {
     "name": "stdout",
     "output_type": "stream",
     "text": [
      "Saved 50 results to ../../../../../../../evaluation_results/PCR/gn_l4/results_part_150.pkl\n"
     ]
    },
    {
     "name": "stdout",
     "output_type": "stream",
     "text": [
      "Saved 50 results to ../../../../../../../evaluation_results/PCR/gn_l4/results_part_200.pkl\n"
     ]
    },
    {
     "name": "stdout",
     "output_type": "stream",
     "text": [
      "Saved 50 results to ../../../../../../../evaluation_results/PCR/gn_l4/results_part_250.pkl\n"
     ]
    },
    {
     "name": "stdout",
     "output_type": "stream",
     "text": [
      "Saved 50 results to ../../../../../../../evaluation_results/PCR/gn_l4/results_part_300.pkl\n"
     ]
    },
    {
     "name": "stdout",
     "output_type": "stream",
     "text": [
      "Saved 50 results to ../../../../../../../evaluation_results/PCR/gn_l4/results_part_350.pkl\n"
     ]
    },
    {
     "name": "stdout",
     "output_type": "stream",
     "text": [
      "Saved 50 results to ../../../../../../../evaluation_results/PCR/gn_l4/results_part_400.pkl\n"
     ]
    },
    {
     "name": "stdout",
     "output_type": "stream",
     "text": [
      "Saved 50 results to ../../../../../../../evaluation_results/PCR/gn_l4/results_part_450.pkl\n"
     ]
    },
    {
     "name": "stdout",
     "output_type": "stream",
     "text": [
      "Saved 50 results to ../../../../../../../evaluation_results/PCR/gn_l4/results_part_500.pkl\n"
     ]
    },
    {
     "name": "stdout",
     "output_type": "stream",
     "text": [
      "Saved 50 results to ../../../../../../../evaluation_results/PCR/gn_l4/results_part_550.pkl\n"
     ]
    },
    {
     "name": "stdout",
     "output_type": "stream",
     "text": [
      "Saved 50 results to ../../../../../../../evaluation_results/PCR/gn_l4/results_part_600.pkl\n"
     ]
    },
    {
     "name": "stdout",
     "output_type": "stream",
     "text": [
      "Saved 50 results to ../../../../../../../evaluation_results/PCR/gn_l4/results_part_650.pkl\n"
     ]
    },
    {
     "name": "stdout",
     "output_type": "stream",
     "text": [
      "Saved 50 results to ../../../../../../../evaluation_results/PCR/gn_l4/results_part_700.pkl\n"
     ]
    },
    {
     "name": "stdout",
     "output_type": "stream",
     "text": [
      "Saved 50 results to ../../../../../../../evaluation_results/PCR/gn_l4/results_part_750.pkl\n"
     ]
    },
    {
     "name": "stdout",
     "output_type": "stream",
     "text": [
      "Saved 50 results to ../../../../../../../evaluation_results/PCR/gn_l4/results_part_800.pkl\n"
     ]
    },
    {
     "name": "stdout",
     "output_type": "stream",
     "text": [
      "Saved 50 results to ../../../../../../../evaluation_results/PCR/gn_l4/results_part_850.pkl\n"
     ]
    },
    {
     "name": "stdout",
     "output_type": "stream",
     "text": [
      "Saved 50 results to ../../../../../../../evaluation_results/PCR/gn_l4/results_part_900.pkl\n"
     ]
    },
    {
     "name": "stdout",
     "output_type": "stream",
     "text": [
      "Saved 50 results to ../../../../../../../evaluation_results/PCR/gn_l4/results_part_950.pkl\n"
     ]
    },
    {
     "name": "stdout",
     "output_type": "stream",
     "text": [
      "Saved 50 results to ../../../../../../../evaluation_results/PCR/gn_l4/results_part_1000.pkl\n"
     ]
    },
    {
     "name": "stdout",
     "output_type": "stream",
     "text": [
      "Saved 50 results to ../../../../../../../evaluation_results/PCR/gn_l4/results_part_1050.pkl\n"
     ]
    },
    {
     "name": "stdout",
     "output_type": "stream",
     "text": [
      "Saved 50 results to ../../../../../../../evaluation_results/PCR/gn_l4/results_part_1100.pkl\n"
     ]
    },
    {
     "name": "stdout",
     "output_type": "stream",
     "text": [
      "Saved 50 results to ../../../../../../../evaluation_results/PCR/gn_l4/results_part_1150.pkl\n"
     ]
    },
    {
     "name": "stdout",
     "output_type": "stream",
     "text": [
      "Saved 50 results to ../../../../../../../evaluation_results/PCR/gn_l4/results_part_1200.pkl\n"
     ]
    },
    {
     "name": "stdout",
     "output_type": "stream",
     "text": [
      "Saved 50 results to ../../../../../../../evaluation_results/PCR/gn_l4/results_part_1250.pkl\n"
     ]
    },
    {
     "name": "stdout",
     "output_type": "stream",
     "text": [
      "Saved 50 results to ../../../../../../../evaluation_results/PCR/gn_l4/results_part_1300.pkl\n"
     ]
    },
    {
     "name": "stdout",
     "output_type": "stream",
     "text": [
      "Saved 50 results to ../../../../../../../evaluation_results/PCR/gn_l4/results_part_1350.pkl\n"
     ]
    },
    {
     "name": "stdout",
     "output_type": "stream",
     "text": [
      "Saved 50 results to ../../../../../../../evaluation_results/PCR/gn_l4/results_part_1400.pkl\n"
     ]
    },
    {
     "name": "stdout",
     "output_type": "stream",
     "text": [
      "Saved 50 results to ../../../../../../../evaluation_results/PCR/gn_l4/results_part_1450.pkl\n"
     ]
    },
    {
     "name": "stdout",
     "output_type": "stream",
     "text": [
      "Saved 50 results to ../../../../../../../evaluation_results/PCR/gn_l4/results_part_1500.pkl\n"
     ]
    },
    {
     "name": "stdout",
     "output_type": "stream",
     "text": [
      "Saved 50 results to ../../../../../../../evaluation_results/PCR/gn_l4/results_part_1550.pkl\n"
     ]
    },
    {
     "name": "stdout",
     "output_type": "stream",
     "text": [
      "Saved 50 results to ../../../../../../../evaluation_results/PCR/gn_l4/results_part_1600.pkl\n"
     ]
    },
    {
     "name": "stdout",
     "output_type": "stream",
     "text": [
      "Saved 50 results to ../../../../../../../evaluation_results/PCR/gn_l4/results_part_1650.pkl\n"
     ]
    },
    {
     "name": "stdout",
     "output_type": "stream",
     "text": [
      "Saved 50 results to ../../../../../../../evaluation_results/PCR/gn_l4/results_part_1700.pkl\n"
     ]
    },
    {
     "name": "stdout",
     "output_type": "stream",
     "text": [
      "Saved 50 results to ../../../../../../../evaluation_results/PCR/gn_l4/results_part_1750.pkl\n"
     ]
    },
    {
     "name": "stdout",
     "output_type": "stream",
     "text": [
      "Saved 50 results to ../../../../../../../evaluation_results/PCR/gn_l4/results_part_1800.pkl\n"
     ]
    },
    {
     "name": "stdout",
     "output_type": "stream",
     "text": [
      "Saved 50 results to ../../../../../../../evaluation_results/PCR/gn_l4/results_part_1850.pkl\n"
     ]
    },
    {
     "name": "stdout",
     "output_type": "stream",
     "text": [
      "Saved 50 results to ../../../../../../../evaluation_results/PCR/gn_l4/results_part_1900.pkl\n"
     ]
    },
    {
     "name": "stdout",
     "output_type": "stream",
     "text": [
      "Saved 50 results to ../../../../../../../evaluation_results/PCR/gn_l4/results_part_1950.pkl\n"
     ]
    },
    {
     "name": "stdout",
     "output_type": "stream",
     "text": [
      "Saved 50 results to ../../../../../../../evaluation_results/PCR/gn_l4/results_part_2000.pkl\n"
     ]
    },
    {
     "name": "stdout",
     "output_type": "stream",
     "text": [
      "Saved 50 results to ../../../../../../../evaluation_results/PCR/gn_l4/results_part_2050.pkl\n"
     ]
    },
    {
     "name": "stdout",
     "output_type": "stream",
     "text": [
      "Saved 50 results to ../../../../../../../evaluation_results/PCR/gn_l4/results_part_2100.pkl\n"
     ]
    },
    {
     "name": "stdout",
     "output_type": "stream",
     "text": [
      "Saved 50 results to ../../../../../../../evaluation_results/PCR/gn_l4/results_part_2150.pkl\n"
     ]
    },
    {
     "name": "stdout",
     "output_type": "stream",
     "text": [
      "Saved 50 results to ../../../../../../../evaluation_results/PCR/gn_l4/results_part_2200.pkl\n"
     ]
    },
    {
     "name": "stdout",
     "output_type": "stream",
     "text": [
      "Saved 50 results to ../../../../../../../evaluation_results/PCR/gn_l4/results_part_2250.pkl\n"
     ]
    },
    {
     "name": "stdout",
     "output_type": "stream",
     "text": [
      "Saved 50 results to ../../../../../../../evaluation_results/PCR/gn_l4/results_part_2300.pkl\n"
     ]
    },
    {
     "name": "stdout",
     "output_type": "stream",
     "text": [
      "Saved 50 results to ../../../../../../../evaluation_results/PCR/gn_l4/results_part_2350.pkl\n"
     ]
    },
    {
     "name": "stdout",
     "output_type": "stream",
     "text": [
      "Saved 50 results to ../../../../../../../evaluation_results/PCR/gn_l4/results_part_2400.pkl\n"
     ]
    },
    {
     "name": "stdout",
     "output_type": "stream",
     "text": [
      "Saved 50 results to ../../../../../../../evaluation_results/PCR/gn_l4/results_part_2450.pkl\n"
     ]
    },
    {
     "name": "stdout",
     "output_type": "stream",
     "text": [
      "Saved 50 results to ../../../../../../../evaluation_results/PCR/gn_l4/results_part_2500.pkl\n"
     ]
    },
    {
     "name": "stdout",
     "output_type": "stream",
     "text": [
      "Saved 50 results to ../../../../../../../evaluation_results/PCR/gn_l4/results_part_2550.pkl\n"
     ]
    },
    {
     "name": "stdout",
     "output_type": "stream",
     "text": [
      "Saved 50 results to ../../../../../../../evaluation_results/PCR/gn_l4/results_part_2600.pkl\n"
     ]
    },
    {
     "name": "stdout",
     "output_type": "stream",
     "text": [
      "Saved 50 results to ../../../../../../../evaluation_results/PCR/gn_l4/results_part_2650.pkl\n"
     ]
    },
    {
     "name": "stdout",
     "output_type": "stream",
     "text": [
      "Saved 50 results to ../../../../../../../evaluation_results/PCR/gn_l4/results_part_2700.pkl\n"
     ]
    },
    {
     "name": "stdout",
     "output_type": "stream",
     "text": [
      "Saved 50 results to ../../../../../../../evaluation_results/PCR/gn_l4/results_part_2750.pkl\n"
     ]
    },
    {
     "name": "stdout",
     "output_type": "stream",
     "text": [
      "Saved 50 results to ../../../../../../../evaluation_results/PCR/gn_l4/results_part_2800.pkl\n"
     ]
    },
    {
     "name": "stdout",
     "output_type": "stream",
     "text": [
      "Saved 50 results to ../../../../../../../evaluation_results/PCR/gn_l4/results_part_2850.pkl\n"
     ]
    },
    {
     "name": "stdout",
     "output_type": "stream",
     "text": [
      "Saved 50 results to ../../../../../../../evaluation_results/PCR/gn_l4/results_part_2900.pkl\n"
     ]
    },
    {
     "name": "stdout",
     "output_type": "stream",
     "text": [
      "Saved 50 results to ../../../../../../../evaluation_results/PCR/gn_l4/results_part_2950.pkl\n"
     ]
    },
    {
     "name": "stdout",
     "output_type": "stream",
     "text": [
      "Saved 50 results to ../../../../../../../evaluation_results/PCR/gn_l4/results_part_3000.pkl\n"
     ]
    },
    {
     "name": "stdout",
     "output_type": "stream",
     "text": [
      "Saved 50 results to ../../../../../../../evaluation_results/PCR/gn_l4/results_part_3050.pkl\n"
     ]
    },
    {
     "name": "stdout",
     "output_type": "stream",
     "text": [
      "Saved 50 results to ../../../../../../../evaluation_results/PCR/gn_l4/results_part_3100.pkl\n"
     ]
    },
    {
     "name": "stdout",
     "output_type": "stream",
     "text": [
      "Saved 50 results to ../../../../../../../evaluation_results/PCR/gn_l4/results_part_3150.pkl\n"
     ]
    },
    {
     "name": "stdout",
     "output_type": "stream",
     "text": [
      "Saved 50 results to ../../../../../../../evaluation_results/PCR/gn_l4/results_part_3200.pkl\n"
     ]
    },
    {
     "name": "stdout",
     "output_type": "stream",
     "text": [
      "Saved 50 results to ../../../../../../../evaluation_results/PCR/gn_l4/results_part_3250.pkl\n"
     ]
    },
    {
     "name": "stdout",
     "output_type": "stream",
     "text": [
      "Saved 50 results to ../../../../../../../evaluation_results/PCR/gn_l4/results_part_3300.pkl\n"
     ]
    },
    {
     "name": "stdout",
     "output_type": "stream",
     "text": [
      "Saved 50 results to ../../../../../../../evaluation_results/PCR/gn_l4/results_part_3350.pkl\n"
     ]
    },
    {
     "name": "stdout",
     "output_type": "stream",
     "text": [
      "Saved 50 results to ../../../../../../../evaluation_results/PCR/gn_l4/results_part_3400.pkl\n"
     ]
    },
    {
     "name": "stdout",
     "output_type": "stream",
     "text": [
      "Saved 50 results to ../../../../../../../evaluation_results/PCR/gn_l4/results_part_3450.pkl\n"
     ]
    },
    {
     "name": "stdout",
     "output_type": "stream",
     "text": [
      "Saved 50 results to ../../../../../../../evaluation_results/PCR/gn_l4/results_part_3500.pkl\n"
     ]
    },
    {
     "name": "stdout",
     "output_type": "stream",
     "text": [
      "Saved 50 results to ../../../../../../../evaluation_results/PCR/gn_l4/results_part_3550.pkl\n"
     ]
    },
    {
     "name": "stdout",
     "output_type": "stream",
     "text": [
      "Saved 50 results to ../../../../../../../evaluation_results/PCR/gn_l4/results_part_3600.pkl\n"
     ]
    },
    {
     "name": "stdout",
     "output_type": "stream",
     "text": [
      "Saved 50 results to ../../../../../../../evaluation_results/PCR/gn_l4/results_part_3650.pkl\n"
     ]
    },
    {
     "name": "stdout",
     "output_type": "stream",
     "text": [
      "Saved 50 results to ../../../../../../../evaluation_results/PCR/gn_l4/results_part_3700.pkl\n"
     ]
    },
    {
     "name": "stdout",
     "output_type": "stream",
     "text": [
      "Saved 50 results to ../../../../../../../evaluation_results/PCR/gn_l4/results_part_3750.pkl\n"
     ]
    },
    {
     "name": "stdout",
     "output_type": "stream",
     "text": [
      "Saved 50 results to ../../../../../../../evaluation_results/PCR/gn_l4/results_part_3800.pkl\n"
     ]
    },
    {
     "name": "stdout",
     "output_type": "stream",
     "text": [
      "Saved 50 results to ../../../../../../../evaluation_results/PCR/gn_l4/results_part_3850.pkl\n"
     ]
    },
    {
     "name": "stdout",
     "output_type": "stream",
     "text": [
      "Saved 50 results to ../../../../../../../evaluation_results/PCR/gn_l4/results_part_3900.pkl\n"
     ]
    },
    {
     "name": "stdout",
     "output_type": "stream",
     "text": [
      "Saved 50 results to ../../../../../../../evaluation_results/PCR/gn_l4/results_part_3950.pkl\n"
     ]
    },
    {
     "name": "stdout",
     "output_type": "stream",
     "text": [
      "Saved 50 results to ../../../../../../../evaluation_results/PCR/gn_l4/results_part_4000.pkl\n"
     ]
    },
    {
     "name": "stdout",
     "output_type": "stream",
     "text": [
      "Saved 50 results to ../../../../../../../evaluation_results/PCR/gn_l4/results_part_4050.pkl\n"
     ]
    },
    {
     "name": "stdout",
     "output_type": "stream",
     "text": [
      "Saved 50 results to ../../../../../../../evaluation_results/PCR/gn_l4/results_part_4100.pkl\n"
     ]
    },
    {
     "name": "stdout",
     "output_type": "stream",
     "text": [
      "Saved 50 results to ../../../../../../../evaluation_results/PCR/gn_l4/results_part_4150.pkl\n"
     ]
    },
    {
     "name": "stdout",
     "output_type": "stream",
     "text": [
      "Saved 50 results to ../../../../../../../evaluation_results/PCR/gn_l4/results_part_4200.pkl\n"
     ]
    },
    {
     "name": "stdout",
     "output_type": "stream",
     "text": [
      "Saved 50 results to ../../../../../../../evaluation_results/PCR/gn_l4/results_part_4250.pkl\n"
     ]
    },
    {
     "name": "stdout",
     "output_type": "stream",
     "text": [
      "Saved 50 results to ../../../../../../../evaluation_results/PCR/gn_l4/results_part_4300.pkl\n"
     ]
    },
    {
     "name": "stdout",
     "output_type": "stream",
     "text": [
      "Saved 50 results to ../../../../../../../evaluation_results/PCR/gn_l4/results_part_4350.pkl\n"
     ]
    },
    {
     "name": "stdout",
     "output_type": "stream",
     "text": [
      "Saved 50 results to ../../../../../../../evaluation_results/PCR/gn_l4/results_part_4400.pkl\n"
     ]
    },
    {
     "name": "stdout",
     "output_type": "stream",
     "text": [
      "Saved 50 results to ../../../../../../../evaluation_results/PCR/gn_l4/results_part_4450.pkl\n"
     ]
    },
    {
     "name": "stdout",
     "output_type": "stream",
     "text": [
      "Saved 50 results to ../../../../../../../evaluation_results/PCR/gn_l4/results_part_4500.pkl\n"
     ]
    },
    {
     "name": "stdout",
     "output_type": "stream",
     "text": [
      "Saved 50 results to ../../../../../../../evaluation_results/PCR/gn_l4/results_part_4550.pkl\n"
     ]
    },
    {
     "name": "stdout",
     "output_type": "stream",
     "text": [
      "Saved 50 results to ../../../../../../../evaluation_results/PCR/gn_l4/results_part_4600.pkl\n"
     ]
    },
    {
     "name": "stdout",
     "output_type": "stream",
     "text": [
      "Saved 50 results to ../../../../../../../evaluation_results/PCR/gn_l4/results_part_4650.pkl\n"
     ]
    },
    {
     "name": "stdout",
     "output_type": "stream",
     "text": [
      "Saved 50 results to ../../../../../../../evaluation_results/PCR/gn_l4/results_part_4700.pkl\n"
     ]
    },
    {
     "name": "stdout",
     "output_type": "stream",
     "text": [
      "Saved 50 results to ../../../../../../../evaluation_results/PCR/gn_l4/results_part_4750.pkl\n"
     ]
    },
    {
     "name": "stdout",
     "output_type": "stream",
     "text": [
      "Saved 50 results to ../../../../../../../evaluation_results/PCR/gn_l4/results_part_4800.pkl\n"
     ]
    },
    {
     "name": "stdout",
     "output_type": "stream",
     "text": [
      "Saved 50 results to ../../../../../../../evaluation_results/PCR/gn_l4/results_part_4850.pkl\n"
     ]
    },
    {
     "name": "stdout",
     "output_type": "stream",
     "text": [
      "Saved 50 results to ../../../../../../../evaluation_results/PCR/gn_l4/results_part_4900.pkl\n"
     ]
    },
    {
     "name": "stdout",
     "output_type": "stream",
     "text": [
      "Saved 50 results to ../../../../../../../evaluation_results/PCR/gn_l4/results_part_4950.pkl\n"
     ]
    },
    {
     "name": "stdout",
     "output_type": "stream",
     "text": [
      "Saved 50 results to ../../../../../../../evaluation_results/PCR/gn_l4/results_part_5000.pkl\n"
     ]
    },
    {
     "name": "stdout",
     "output_type": "stream",
     "text": [
      "Saved 50 results to ../../../../../../../evaluation_results/PCR/gn_l4/results_part_5050.pkl\n"
     ]
    },
    {
     "name": "stdout",
     "output_type": "stream",
     "text": [
      "Saved 50 results to ../../../../../../../evaluation_results/PCR/gn_l4/results_part_5100.pkl\n"
     ]
    },
    {
     "name": "stdout",
     "output_type": "stream",
     "text": [
      "Saved 50 results to ../../../../../../../evaluation_results/PCR/gn_l4/results_part_5150.pkl\n"
     ]
    },
    {
     "name": "stdout",
     "output_type": "stream",
     "text": [
      "Saved 50 results to ../../../../../../../evaluation_results/PCR/gn_l4/results_part_5200.pkl\n"
     ]
    },
    {
     "name": "stdout",
     "output_type": "stream",
     "text": [
      "Saved 50 results to ../../../../../../../evaluation_results/PCR/gn_l4/results_part_5250.pkl\n"
     ]
    },
    {
     "name": "stdout",
     "output_type": "stream",
     "text": [
      "Saved 50 results to ../../../../../../../evaluation_results/PCR/gn_l4/results_part_5300.pkl\n"
     ]
    },
    {
     "name": "stdout",
     "output_type": "stream",
     "text": [
      "Saved 50 results to ../../../../../../../evaluation_results/PCR/gn_l4/results_part_5350.pkl\n"
     ]
    },
    {
     "name": "stdout",
     "output_type": "stream",
     "text": [
      "Saved 50 results to ../../../../../../../evaluation_results/PCR/gn_l4/results_part_5400.pkl\n"
     ]
    },
    {
     "name": "stdout",
     "output_type": "stream",
     "text": [
      "Saved 50 results to ../../../../../../../evaluation_results/PCR/gn_l4/results_part_5450.pkl\n"
     ]
    },
    {
     "name": "stdout",
     "output_type": "stream",
     "text": [
      "Saved 50 results to ../../../../../../../evaluation_results/PCR/gn_l4/results_part_5500.pkl\n"
     ]
    },
    {
     "name": "stdout",
     "output_type": "stream",
     "text": [
      "Saved 50 results to ../../../../../../../evaluation_results/PCR/gn_l4/results_part_5550.pkl\n"
     ]
    },
    {
     "name": "stdout",
     "output_type": "stream",
     "text": [
      "Saved 50 results to ../../../../../../../evaluation_results/PCR/gn_l4/results_part_5600.pkl\n"
     ]
    },
    {
     "name": "stdout",
     "output_type": "stream",
     "text": [
      "Saved 50 results to ../../../../../../../evaluation_results/PCR/gn_l4/results_part_5650.pkl\n"
     ]
    },
    {
     "name": "stdout",
     "output_type": "stream",
     "text": [
      "Saved 50 results to ../../../../../../../evaluation_results/PCR/gn_l4/results_part_5700.pkl\n"
     ]
    },
    {
     "name": "stdout",
     "output_type": "stream",
     "text": [
      "Saved 50 results to ../../../../../../../evaluation_results/PCR/gn_l4/results_part_5750.pkl\n"
     ]
    },
    {
     "name": "stdout",
     "output_type": "stream",
     "text": [
      "Saved 50 results to ../../../../../../../evaluation_results/PCR/gn_l4/results_part_5800.pkl\n"
     ]
    },
    {
     "name": "stdout",
     "output_type": "stream",
     "text": [
      "Saved 50 results to ../../../../../../../evaluation_results/PCR/gn_l4/results_part_5850.pkl\n"
     ]
    },
    {
     "name": "stdout",
     "output_type": "stream",
     "text": [
      "Saved 50 results to ../../../../../../../evaluation_results/PCR/gn_l4/results_part_5900.pkl\n"
     ]
    },
    {
     "name": "stdout",
     "output_type": "stream",
     "text": [
      "Saved 50 results to ../../../../../../../evaluation_results/PCR/gn_l4/results_part_5950.pkl\n"
     ]
    },
    {
     "name": "stdout",
     "output_type": "stream",
     "text": [
      "Saved 50 results to ../../../../../../../evaluation_results/PCR/gn_l4/results_part_6000.pkl\n"
     ]
    },
    {
     "name": "stdout",
     "output_type": "stream",
     "text": [
      "Saved 50 results to ../../../../../../../evaluation_results/PCR/gn_l4/results_part_6050.pkl\n"
     ]
    },
    {
     "name": "stdout",
     "output_type": "stream",
     "text": [
      "Saved 50 results to ../../../../../../../evaluation_results/PCR/gn_l4/results_part_6100.pkl\n"
     ]
    },
    {
     "name": "stdout",
     "output_type": "stream",
     "text": [
      "Saved 50 results to ../../../../../../../evaluation_results/PCR/gn_l4/results_part_6150.pkl\n"
     ]
    },
    {
     "name": "stdout",
     "output_type": "stream",
     "text": [
      "Saved 50 results to ../../../../../../../evaluation_results/PCR/gn_l4/results_part_6200.pkl\n"
     ]
    },
    {
     "name": "stdout",
     "output_type": "stream",
     "text": [
      "Saved 50 results to ../../../../../../../evaluation_results/PCR/gn_l4/results_part_6250.pkl\n"
     ]
    },
    {
     "name": "stdout",
     "output_type": "stream",
     "text": [
      "Saved 50 results to ../../../../../../../evaluation_results/PCR/gn_l4/results_part_6300.pkl\n"
     ]
    },
    {
     "name": "stdout",
     "output_type": "stream",
     "text": [
      "Saved 50 results to ../../../../../../../evaluation_results/PCR/gn_l4/results_part_6350.pkl\n"
     ]
    },
    {
     "name": "stdout",
     "output_type": "stream",
     "text": [
      "Saved 50 results to ../../../../../../../evaluation_results/PCR/gn_l4/results_part_6400.pkl\n"
     ]
    },
    {
     "name": "stdout",
     "output_type": "stream",
     "text": [
      "Saved 50 results to ../../../../../../../evaluation_results/PCR/gn_l4/results_part_6450.pkl\n"
     ]
    },
    {
     "name": "stdout",
     "output_type": "stream",
     "text": [
      "Saved 50 results to ../../../../../../../evaluation_results/PCR/gn_l4/results_part_6500.pkl\n"
     ]
    },
    {
     "name": "stdout",
     "output_type": "stream",
     "text": [
      "Saved 50 results to ../../../../../../../evaluation_results/PCR/gn_l4/results_part_6550.pkl\n"
     ]
    },
    {
     "name": "stdout",
     "output_type": "stream",
     "text": [
      "Saved 50 results to ../../../../../../../evaluation_results/PCR/gn_l4/results_part_6600.pkl\n"
     ]
    },
    {
     "name": "stdout",
     "output_type": "stream",
     "text": [
      "Saved 50 results to ../../../../../../../evaluation_results/PCR/gn_l4/results_part_6650.pkl\n"
     ]
    },
    {
     "name": "stdout",
     "output_type": "stream",
     "text": [
      "Saved 50 results to ../../../../../../../evaluation_results/PCR/gn_l4/results_part_6700.pkl\n"
     ]
    },
    {
     "name": "stdout",
     "output_type": "stream",
     "text": [
      "Saved 50 results to ../../../../../../../evaluation_results/PCR/gn_l4/results_part_6750.pkl\n"
     ]
    },
    {
     "name": "stdout",
     "output_type": "stream",
     "text": [
      "Saved 50 results to ../../../../../../../evaluation_results/PCR/gn_l4/results_part_6800.pkl\n"
     ]
    },
    {
     "name": "stdout",
     "output_type": "stream",
     "text": [
      "Saved 50 results to ../../../../../../../evaluation_results/PCR/gn_l4/results_part_6850.pkl\n"
     ]
    },
    {
     "name": "stdout",
     "output_type": "stream",
     "text": [
      "Saved 50 results to ../../../../../../../evaluation_results/PCR/gn_l4/results_part_6900.pkl\n"
     ]
    },
    {
     "name": "stdout",
     "output_type": "stream",
     "text": [
      "Saved 50 results to ../../../../../../../evaluation_results/PCR/gn_l4/results_part_6950.pkl\n"
     ]
    },
    {
     "name": "stdout",
     "output_type": "stream",
     "text": [
      "Saved 50 results to ../../../../../../../evaluation_results/PCR/gn_l4/results_part_7000.pkl\n"
     ]
    },
    {
     "name": "stdout",
     "output_type": "stream",
     "text": [
      "Saved 50 results to ../../../../../../../evaluation_results/PCR/gn_l4/results_part_7050.pkl\n"
     ]
    },
    {
     "name": "stdout",
     "output_type": "stream",
     "text": [
      "Saved 50 results to ../../../../../../../evaluation_results/PCR/gn_l4/results_part_7100.pkl\n"
     ]
    },
    {
     "name": "stdout",
     "output_type": "stream",
     "text": [
      "Saved 50 results to ../../../../../../../evaluation_results/PCR/gn_l4/results_part_7150.pkl\n"
     ]
    },
    {
     "name": "stdout",
     "output_type": "stream",
     "text": [
      "Saved 50 results to ../../../../../../../evaluation_results/PCR/gn_l4/results_part_7200.pkl\n"
     ]
    },
    {
     "name": "stdout",
     "output_type": "stream",
     "text": [
      "Saved 50 results to ../../../../../../../evaluation_results/PCR/gn_l4/results_part_7250.pkl\n"
     ]
    },
    {
     "name": "stdout",
     "output_type": "stream",
     "text": [
      "Saved 50 results to ../../../../../../../evaluation_results/PCR/gn_l4/results_part_7300.pkl\n"
     ]
    },
    {
     "name": "stdout",
     "output_type": "stream",
     "text": [
      "Saved 50 results to ../../../../../../../evaluation_results/PCR/gn_l4/results_part_7350.pkl\n"
     ]
    },
    {
     "name": "stdout",
     "output_type": "stream",
     "text": [
      "Saved 50 results to ../../../../../../../evaluation_results/PCR/gn_l4/results_part_7400.pkl\n"
     ]
    },
    {
     "name": "stdout",
     "output_type": "stream",
     "text": [
      "Saved 50 results to ../../../../../../../evaluation_results/PCR/gn_l4/results_part_7450.pkl\n"
     ]
    },
    {
     "name": "stdout",
     "output_type": "stream",
     "text": [
      "Saved 50 results to ../../../../../../../evaluation_results/PCR/gn_l4/results_part_7500.pkl\n"
     ]
    },
    {
     "name": "stdout",
     "output_type": "stream",
     "text": [
      "Saved 50 results to ../../../../../../../evaluation_results/PCR/gn_l4/results_part_7550.pkl\n"
     ]
    },
    {
     "name": "stdout",
     "output_type": "stream",
     "text": [
      "Saved 50 results to ../../../../../../../evaluation_results/PCR/gn_l4/results_part_7600.pkl\n"
     ]
    },
    {
     "name": "stdout",
     "output_type": "stream",
     "text": [
      "Saved 50 results to ../../../../../../../evaluation_results/PCR/gn_l4/results_part_7650.pkl\n"
     ]
    },
    {
     "name": "stdout",
     "output_type": "stream",
     "text": [
      "Saved 50 results to ../../../../../../../evaluation_results/PCR/gn_l4/results_part_7700.pkl\n"
     ]
    },
    {
     "name": "stdout",
     "output_type": "stream",
     "text": [
      "Saved 50 results to ../../../../../../../evaluation_results/PCR/gn_l4/results_part_7750.pkl\n"
     ]
    },
    {
     "name": "stdout",
     "output_type": "stream",
     "text": [
      "Saved 50 results to ../../../../../../../evaluation_results/PCR/gn_l4/results_part_7800.pkl\n"
     ]
    },
    {
     "name": "stdout",
     "output_type": "stream",
     "text": [
      "Saved 50 results to ../../../../../../../evaluation_results/PCR/gn_l4/results_part_7850.pkl\n"
     ]
    },
    {
     "name": "stdout",
     "output_type": "stream",
     "text": [
      "Saved 50 results to ../../../../../../../evaluation_results/PCR/gn_l4/results_part_7900.pkl\n"
     ]
    },
    {
     "name": "stdout",
     "output_type": "stream",
     "text": [
      "Saved 50 results to ../../../../../../../evaluation_results/PCR/gn_l4/results_part_7950.pkl\n"
     ]
    },
    {
     "name": "stdout",
     "output_type": "stream",
     "text": [
      "Saved 50 results to ../../../../../../../evaluation_results/PCR/gn_l4/results_part_8000.pkl\n"
     ]
    },
    {
     "name": "stdout",
     "output_type": "stream",
     "text": [
      "Saved 50 results to ../../../../../../../evaluation_results/PCR/gn_l4/results_part_8050.pkl\n"
     ]
    },
    {
     "name": "stdout",
     "output_type": "stream",
     "text": [
      "Saved 50 results to ../../../../../../../evaluation_results/PCR/gn_l4/results_part_8100.pkl\n"
     ]
    },
    {
     "name": "stdout",
     "output_type": "stream",
     "text": [
      "Saved 50 results to ../../../../../../../evaluation_results/PCR/gn_l4/results_part_8150.pkl\n"
     ]
    },
    {
     "name": "stdout",
     "output_type": "stream",
     "text": [
      "Saved 50 results to ../../../../../../../evaluation_results/PCR/gn_l4/results_part_8200.pkl\n"
     ]
    },
    {
     "name": "stdout",
     "output_type": "stream",
     "text": [
      "Saved 50 results to ../../../../../../../evaluation_results/PCR/gn_l4/results_part_8250.pkl\n"
     ]
    },
    {
     "name": "stdout",
     "output_type": "stream",
     "text": [
      "Saved 50 results to ../../../../../../../evaluation_results/PCR/gn_l4/results_part_8300.pkl\n"
     ]
    },
    {
     "name": "stdout",
     "output_type": "stream",
     "text": [
      "Saved 50 results to ../../../../../../../evaluation_results/PCR/gn_l4/results_part_8350.pkl\n"
     ]
    },
    {
     "name": "stdout",
     "output_type": "stream",
     "text": [
      "Saved 50 results to ../../../../../../../evaluation_results/PCR/gn_l4/results_part_8400.pkl\n"
     ]
    },
    {
     "name": "stdout",
     "output_type": "stream",
     "text": [
      "Saved 50 results to ../../../../../../../evaluation_results/PCR/gn_l4/results_part_8450.pkl\n"
     ]
    },
    {
     "name": "stdout",
     "output_type": "stream",
     "text": [
      "Saved 50 results to ../../../../../../../evaluation_results/PCR/gn_l4/results_part_8500.pkl\n"
     ]
    },
    {
     "name": "stdout",
     "output_type": "stream",
     "text": [
      "Saved 50 results to ../../../../../../../evaluation_results/PCR/gn_l4/results_part_8550.pkl\n"
     ]
    },
    {
     "name": "stdout",
     "output_type": "stream",
     "text": [
      "Saved 50 results to ../../../../../../../evaluation_results/PCR/gn_l4/results_part_8600.pkl\n"
     ]
    },
    {
     "name": "stdout",
     "output_type": "stream",
     "text": [
      "Saved 50 results to ../../../../../../../evaluation_results/PCR/gn_l4/results_part_8650.pkl\n"
     ]
    },
    {
     "name": "stdout",
     "output_type": "stream",
     "text": [
      "Saved 50 results to ../../../../../../../evaluation_results/PCR/gn_l4/results_part_8700.pkl\n"
     ]
    },
    {
     "name": "stdout",
     "output_type": "stream",
     "text": [
      "Saved 50 results to ../../../../../../../evaluation_results/PCR/gn_l4/results_part_8750.pkl\n"
     ]
    },
    {
     "name": "stdout",
     "output_type": "stream",
     "text": [
      "Saved 50 results to ../../../../../../../evaluation_results/PCR/gn_l4/results_part_8800.pkl\n"
     ]
    },
    {
     "name": "stdout",
     "output_type": "stream",
     "text": [
      "Saved 50 results to ../../../../../../../evaluation_results/PCR/gn_l4/results_part_8850.pkl\n"
     ]
    },
    {
     "name": "stdout",
     "output_type": "stream",
     "text": [
      "Saved 50 results to ../../../../../../../evaluation_results/PCR/gn_l4/results_part_8900.pkl\n"
     ]
    },
    {
     "name": "stdout",
     "output_type": "stream",
     "text": [
      "Saved 50 results to ../../../../../../../evaluation_results/PCR/gn_l4/results_part_8950.pkl\n"
     ]
    },
    {
     "name": "stdout",
     "output_type": "stream",
     "text": [
      "Saved 50 results to ../../../../../../../evaluation_results/PCR/gn_l4/results_part_9000.pkl\n"
     ]
    },
    {
     "name": "stdout",
     "output_type": "stream",
     "text": [
      "Saved 50 results to ../../../../../../../evaluation_results/PCR/gn_l4/results_part_9050.pkl\n"
     ]
    },
    {
     "name": "stdout",
     "output_type": "stream",
     "text": [
      "Saved 50 results to ../../../../../../../evaluation_results/PCR/gn_l4/results_part_9100.pkl\n"
     ]
    },
    {
     "name": "stdout",
     "output_type": "stream",
     "text": [
      "Saved 50 results to ../../../../../../../evaluation_results/PCR/gn_l4/results_part_9150.pkl\n"
     ]
    },
    {
     "name": "stdout",
     "output_type": "stream",
     "text": [
      "Saved 50 results to ../../../../../../../evaluation_results/PCR/gn_l4/results_part_9200.pkl\n"
     ]
    },
    {
     "name": "stdout",
     "output_type": "stream",
     "text": [
      "Saved 50 results to ../../../../../../../evaluation_results/PCR/gn_l4/results_part_9250.pkl\n"
     ]
    },
    {
     "name": "stdout",
     "output_type": "stream",
     "text": [
      "Saved 50 results to ../../../../../../../evaluation_results/PCR/gn_l4/results_part_9300.pkl\n"
     ]
    },
    {
     "name": "stdout",
     "output_type": "stream",
     "text": [
      "Saved 50 results to ../../../../../../../evaluation_results/PCR/gn_l4/results_part_9350.pkl\n"
     ]
    },
    {
     "name": "stdout",
     "output_type": "stream",
     "text": [
      "Saved 50 results to ../../../../../../../evaluation_results/PCR/gn_l4/results_part_9400.pkl\n"
     ]
    },
    {
     "name": "stdout",
     "output_type": "stream",
     "text": [
      "Saved 50 results to ../../../../../../../evaluation_results/PCR/gn_l4/results_part_9450.pkl\n"
     ]
    },
    {
     "name": "stdout",
     "output_type": "stream",
     "text": [
      "Saved 50 results to ../../../../../../../evaluation_results/PCR/gn_l4/results_part_9500.pkl\n"
     ]
    },
    {
     "name": "stdout",
     "output_type": "stream",
     "text": [
      "Saved 50 results to ../../../../../../../evaluation_results/PCR/gn_l4/results_part_9550.pkl\n"
     ]
    },
    {
     "name": "stdout",
     "output_type": "stream",
     "text": [
      "Saved 50 results to ../../../../../../../evaluation_results/PCR/gn_l4/results_part_9600.pkl\n"
     ]
    },
    {
     "name": "stdout",
     "output_type": "stream",
     "text": [
      "Saved 50 results to ../../../../../../../evaluation_results/PCR/gn_l4/results_part_9650.pkl\n"
     ]
    },
    {
     "name": "stdout",
     "output_type": "stream",
     "text": [
      "Saved 50 results to ../../../../../../../evaluation_results/PCR/gn_l4/results_part_9700.pkl\n"
     ]
    },
    {
     "name": "stdout",
     "output_type": "stream",
     "text": [
      "Saved 50 results to ../../../../../../../evaluation_results/PCR/gn_l4/results_part_9750.pkl\n"
     ]
    },
    {
     "name": "stdout",
     "output_type": "stream",
     "text": [
      "Saved 50 results to ../../../../../../../evaluation_results/PCR/gn_l4/results_part_9800.pkl\n"
     ]
    },
    {
     "name": "stdout",
     "output_type": "stream",
     "text": [
      "Saved 50 results to ../../../../../../../evaluation_results/PCR/gn_l4/results_part_9850.pkl\n"
     ]
    },
    {
     "name": "stdout",
     "output_type": "stream",
     "text": [
      "Saved 50 results to ../../../../../../../evaluation_results/PCR/gn_l4/results_part_9900.pkl\n"
     ]
    },
    {
     "name": "stdout",
     "output_type": "stream",
     "text": [
      "Saved 50 results to ../../../../../../../evaluation_results/PCR/gn_l4/results_part_9950.pkl\n"
     ]
    },
    {
     "name": "stdout",
     "output_type": "stream",
     "text": [
      "Saved 50 results to ../../../../../../../evaluation_results/PCR/gn_l4/results_part_10000.pkl\n"
     ]
    },
    {
     "name": "stdout",
     "output_type": "stream",
     "text": [
      "Saved 50 results to ../../../../../../../evaluation_results/PCR/gn_l4/results_part_10050.pkl\n"
     ]
    },
    {
     "name": "stdout",
     "output_type": "stream",
     "text": [
      "Saved 50 results to ../../../../../../../evaluation_results/PCR/gn_l4/results_part_10100.pkl\n"
     ]
    },
    {
     "name": "stdout",
     "output_type": "stream",
     "text": [
      "Saved 50 results to ../../../../../../../evaluation_results/PCR/gn_l4/results_part_10150.pkl\n"
     ]
    },
    {
     "name": "stdout",
     "output_type": "stream",
     "text": [
      "Saved 50 results to ../../../../../../../evaluation_results/PCR/gn_l4/results_part_10200.pkl\n"
     ]
    },
    {
     "name": "stdout",
     "output_type": "stream",
     "text": [
      "Saved 50 results to ../../../../../../../evaluation_results/PCR/gn_l4/results_part_10250.pkl\n"
     ]
    },
    {
     "name": "stdout",
     "output_type": "stream",
     "text": [
      "Saved 50 results to ../../../../../../../evaluation_results/PCR/gn_l4/results_part_10300.pkl\n"
     ]
    },
    {
     "name": "stdout",
     "output_type": "stream",
     "text": [
      "Saved 50 results to ../../../../../../../evaluation_results/PCR/gn_l4/results_part_10350.pkl\n"
     ]
    },
    {
     "name": "stdout",
     "output_type": "stream",
     "text": [
      "Saved 50 results to ../../../../../../../evaluation_results/PCR/gn_l4/results_part_10400.pkl\n"
     ]
    },
    {
     "name": "stdout",
     "output_type": "stream",
     "text": [
      "Saved 50 results to ../../../../../../../evaluation_results/PCR/gn_l4/results_part_10450.pkl\n"
     ]
    },
    {
     "name": "stdout",
     "output_type": "stream",
     "text": [
      "Saved 50 results to ../../../../../../../evaluation_results/PCR/gn_l4/results_part_10500.pkl\n"
     ]
    },
    {
     "name": "stdout",
     "output_type": "stream",
     "text": [
      "Saved 50 results to ../../../../../../../evaluation_results/PCR/gn_l4/results_part_10550.pkl\n"
     ]
    },
    {
     "name": "stdout",
     "output_type": "stream",
     "text": [
      "Saved 50 results to ../../../../../../../evaluation_results/PCR/gn_l4/results_part_10600.pkl\n"
     ]
    },
    {
     "name": "stdout",
     "output_type": "stream",
     "text": [
      "Saved 50 results to ../../../../../../../evaluation_results/PCR/gn_l4/results_part_10650.pkl\n"
     ]
    },
    {
     "name": "stdout",
     "output_type": "stream",
     "text": [
      "Saved 50 results to ../../../../../../../evaluation_results/PCR/gn_l4/results_part_10700.pkl\n"
     ]
    },
    {
     "name": "stdout",
     "output_type": "stream",
     "text": [
      "Saved 50 results to ../../../../../../../evaluation_results/PCR/gn_l4/results_part_10750.pkl\n"
     ]
    },
    {
     "name": "stdout",
     "output_type": "stream",
     "text": [
      "Saved 50 results to ../../../../../../../evaluation_results/PCR/gn_l4/results_part_10800.pkl\n"
     ]
    },
    {
     "name": "stdout",
     "output_type": "stream",
     "text": [
      "Saved 50 results to ../../../../../../../evaluation_results/PCR/gn_l4/results_part_10850.pkl\n"
     ]
    },
    {
     "name": "stdout",
     "output_type": "stream",
     "text": [
      "Saved 50 results to ../../../../../../../evaluation_results/PCR/gn_l4/results_part_10900.pkl\n"
     ]
    },
    {
     "name": "stdout",
     "output_type": "stream",
     "text": [
      "Saved 50 results to ../../../../../../../evaluation_results/PCR/gn_l4/results_part_10950.pkl\n"
     ]
    },
    {
     "name": "stdout",
     "output_type": "stream",
     "text": [
      "Saved 50 results to ../../../../../../../evaluation_results/PCR/gn_l4/results_part_11000.pkl\n"
     ]
    },
    {
     "name": "stdout",
     "output_type": "stream",
     "text": [
      "Saved 50 results to ../../../../../../../evaluation_results/PCR/gn_l4/results_part_11050.pkl\n"
     ]
    },
    {
     "name": "stdout",
     "output_type": "stream",
     "text": [
      "Saved 50 results to ../../../../../../../evaluation_results/PCR/gn_l4/results_part_11100.pkl\n"
     ]
    },
    {
     "name": "stdout",
     "output_type": "stream",
     "text": [
      "Saved 50 results to ../../../../../../../evaluation_results/PCR/gn_l4/results_part_11150.pkl\n"
     ]
    },
    {
     "name": "stdout",
     "output_type": "stream",
     "text": [
      "Saved 50 results to ../../../../../../../evaluation_results/PCR/gn_l4/results_part_11200.pkl\n"
     ]
    },
    {
     "name": "stdout",
     "output_type": "stream",
     "text": [
      "Saved 50 results to ../../../../../../../evaluation_results/PCR/gn_l4/results_part_11250.pkl\n"
     ]
    },
    {
     "name": "stdout",
     "output_type": "stream",
     "text": [
      "Saved 50 results to ../../../../../../../evaluation_results/PCR/gn_l4/results_part_11300.pkl\n"
     ]
    },
    {
     "name": "stdout",
     "output_type": "stream",
     "text": [
      "Saved 50 results to ../../../../../../../evaluation_results/PCR/gn_l4/results_part_11350.pkl\n"
     ]
    },
    {
     "name": "stdout",
     "output_type": "stream",
     "text": [
      "Saved 50 results to ../../../../../../../evaluation_results/PCR/gn_l4/results_part_11400.pkl\n"
     ]
    },
    {
     "name": "stdout",
     "output_type": "stream",
     "text": [
      "Saved 50 results to ../../../../../../../evaluation_results/PCR/gn_l4/results_part_11450.pkl\n"
     ]
    },
    {
     "name": "stdout",
     "output_type": "stream",
     "text": [
      "Saved 50 results to ../../../../../../../evaluation_results/PCR/gn_l4/results_part_11500.pkl\n"
     ]
    },
    {
     "name": "stdout",
     "output_type": "stream",
     "text": [
      "Saved 50 results to ../../../../../../../evaluation_results/PCR/gn_l4/results_part_11550.pkl\n"
     ]
    },
    {
     "name": "stdout",
     "output_type": "stream",
     "text": [
      "Saved 50 results to ../../../../../../../evaluation_results/PCR/gn_l4/results_part_11600.pkl\n"
     ]
    },
    {
     "name": "stdout",
     "output_type": "stream",
     "text": [
      "Saved 50 results to ../../../../../../../evaluation_results/PCR/gn_l4/results_part_11650.pkl\n"
     ]
    },
    {
     "name": "stdout",
     "output_type": "stream",
     "text": [
      "Saved 50 results to ../../../../../../../evaluation_results/PCR/gn_l4/results_part_11700.pkl\n"
     ]
    },
    {
     "name": "stdout",
     "output_type": "stream",
     "text": [
      "Saved 50 results to ../../../../../../../evaluation_results/PCR/gn_l4/results_part_11750.pkl\n"
     ]
    },
    {
     "name": "stdout",
     "output_type": "stream",
     "text": [
      "Saved 50 results to ../../../../../../../evaluation_results/PCR/gn_l4/results_part_11800.pkl\n"
     ]
    },
    {
     "name": "stdout",
     "output_type": "stream",
     "text": [
      "Saved 50 results to ../../../../../../../evaluation_results/PCR/gn_l4/results_part_11850.pkl\n"
     ]
    },
    {
     "name": "stdout",
     "output_type": "stream",
     "text": [
      "Saved 50 results to ../../../../../../../evaluation_results/PCR/gn_l4/results_part_11900.pkl\n"
     ]
    },
    {
     "name": "stdout",
     "output_type": "stream",
     "text": [
      "Saved 50 results to ../../../../../../../evaluation_results/PCR/gn_l4/results_part_11950.pkl\n"
     ]
    },
    {
     "name": "stdout",
     "output_type": "stream",
     "text": [
      "Saved 50 results to ../../../../../../../evaluation_results/PCR/gn_l4/results_part_12000.pkl\n"
     ]
    },
    {
     "name": "stdout",
     "output_type": "stream",
     "text": [
      "Saved 50 results to ../../../../../../../evaluation_results/PCR/gn_l4/results_part_12050.pkl\n"
     ]
    },
    {
     "name": "stdout",
     "output_type": "stream",
     "text": [
      "Saved 50 results to ../../../../../../../evaluation_results/PCR/gn_l4/results_part_12100.pkl\n"
     ]
    },
    {
     "name": "stdout",
     "output_type": "stream",
     "text": [
      "Saved 50 results to ../../../../../../../evaluation_results/PCR/gn_l4/results_part_12150.pkl\n"
     ]
    },
    {
     "name": "stdout",
     "output_type": "stream",
     "text": [
      "Saved 50 results to ../../../../../../../evaluation_results/PCR/gn_l4/results_part_12200.pkl\n"
     ]
    },
    {
     "name": "stdout",
     "output_type": "stream",
     "text": [
      "Saved 50 results to ../../../../../../../evaluation_results/PCR/gn_l4/results_part_12250.pkl\n"
     ]
    },
    {
     "name": "stdout",
     "output_type": "stream",
     "text": [
      "Saved 50 results to ../../../../../../../evaluation_results/PCR/gn_l4/results_part_12300.pkl\n"
     ]
    },
    {
     "name": "stdout",
     "output_type": "stream",
     "text": [
      "Saved 50 results to ../../../../../../../evaluation_results/PCR/gn_l4/results_part_12350.pkl\n"
     ]
    },
    {
     "name": "stdout",
     "output_type": "stream",
     "text": [
      "Saved 50 results to ../../../../../../../evaluation_results/PCR/gn_l4/results_part_12400.pkl\n"
     ]
    },
    {
     "name": "stdout",
     "output_type": "stream",
     "text": [
      "Saved 50 results to ../../../../../../../evaluation_results/PCR/gn_l4/results_part_12450.pkl\n"
     ]
    },
    {
     "name": "stdout",
     "output_type": "stream",
     "text": [
      "Saved 50 results to ../../../../../../../evaluation_results/PCR/gn_l4/results_part_12500.pkl\n"
     ]
    },
    {
     "name": "stdout",
     "output_type": "stream",
     "text": [
      "Saved 50 results to ../../../../../../../evaluation_results/PCR/gn_l4/results_part_12550.pkl\n"
     ]
    },
    {
     "name": "stdout",
     "output_type": "stream",
     "text": [
      "Saved 50 results to ../../../../../../../evaluation_results/PCR/gn_l4/results_part_12600.pkl\n"
     ]
    },
    {
     "name": "stdout",
     "output_type": "stream",
     "text": [
      "Saved 50 results to ../../../../../../../evaluation_results/PCR/gn_l4/results_part_12650.pkl\n"
     ]
    },
    {
     "name": "stdout",
     "output_type": "stream",
     "text": [
      "Saved 50 results to ../../../../../../../evaluation_results/PCR/gn_l4/results_part_12700.pkl\n"
     ]
    },
    {
     "name": "stdout",
     "output_type": "stream",
     "text": [
      "Saved 50 results to ../../../../../../../evaluation_results/PCR/gn_l4/results_part_12750.pkl\n"
     ]
    },
    {
     "name": "stdout",
     "output_type": "stream",
     "text": [
      "Saved 50 results to ../../../../../../../evaluation_results/PCR/gn_l4/results_part_12800.pkl\n"
     ]
    },
    {
     "name": "stdout",
     "output_type": "stream",
     "text": [
      "Saved 50 results to ../../../../../../../evaluation_results/PCR/gn_l4/results_part_12850.pkl\n"
     ]
    },
    {
     "name": "stdout",
     "output_type": "stream",
     "text": [
      "Saved 50 results to ../../../../../../../evaluation_results/PCR/gn_l4/results_part_12900.pkl\n"
     ]
    },
    {
     "name": "stdout",
     "output_type": "stream",
     "text": [
      "Saved 50 results to ../../../../../../../evaluation_results/PCR/gn_l4/results_part_12950.pkl\n"
     ]
    },
    {
     "name": "stdout",
     "output_type": "stream",
     "text": [
      "Saved 50 results to ../../../../../../../evaluation_results/PCR/gn_l4/results_part_13000.pkl\n"
     ]
    },
    {
     "name": "stdout",
     "output_type": "stream",
     "text": [
      "Saved 50 results to ../../../../../../../evaluation_results/PCR/gn_l4/results_part_13050.pkl\n"
     ]
    },
    {
     "name": "stdout",
     "output_type": "stream",
     "text": [
      "Saved 50 results to ../../../../../../../evaluation_results/PCR/gn_l4/results_part_13100.pkl\n"
     ]
    },
    {
     "name": "stdout",
     "output_type": "stream",
     "text": [
      "Saved 50 results to ../../../../../../../evaluation_results/PCR/gn_l4/results_part_13150.pkl\n"
     ]
    },
    {
     "name": "stdout",
     "output_type": "stream",
     "text": [
      "Saved 50 results to ../../../../../../../evaluation_results/PCR/gn_l4/results_part_13200.pkl\n"
     ]
    },
    {
     "name": "stdout",
     "output_type": "stream",
     "text": [
      "Saved 50 results to ../../../../../../../evaluation_results/PCR/gn_l4/results_part_13250.pkl\n"
     ]
    },
    {
     "name": "stdout",
     "output_type": "stream",
     "text": [
      "Saved 50 results to ../../../../../../../evaluation_results/PCR/gn_l4/results_part_13300.pkl\n"
     ]
    },
    {
     "name": "stdout",
     "output_type": "stream",
     "text": [
      "Saved 50 results to ../../../../../../../evaluation_results/PCR/gn_l4/results_part_13350.pkl\n"
     ]
    },
    {
     "name": "stdout",
     "output_type": "stream",
     "text": [
      "Saved 50 results to ../../../../../../../evaluation_results/PCR/gn_l4/results_part_13400.pkl\n"
     ]
    },
    {
     "name": "stdout",
     "output_type": "stream",
     "text": [
      "Saved 50 results to ../../../../../../../evaluation_results/PCR/gn_l4/results_part_13450.pkl\n"
     ]
    },
    {
     "name": "stdout",
     "output_type": "stream",
     "text": [
      "Saved 50 results to ../../../../../../../evaluation_results/PCR/gn_l4/results_part_13500.pkl\n"
     ]
    },
    {
     "name": "stdout",
     "output_type": "stream",
     "text": [
      "Saved 50 results to ../../../../../../../evaluation_results/PCR/gn_l4/results_part_13550.pkl\n"
     ]
    },
    {
     "name": "stdout",
     "output_type": "stream",
     "text": [
      "Saved 50 results to ../../../../../../../evaluation_results/PCR/gn_l4/results_part_13600.pkl\n"
     ]
    },
    {
     "name": "stdout",
     "output_type": "stream",
     "text": [
      "Saved 50 results to ../../../../../../../evaluation_results/PCR/gn_l4/results_part_13650.pkl\n"
     ]
    },
    {
     "name": "stdout",
     "output_type": "stream",
     "text": [
      "Saved 50 results to ../../../../../../../evaluation_results/PCR/gn_l4/results_part_13700.pkl\n"
     ]
    },
    {
     "name": "stdout",
     "output_type": "stream",
     "text": [
      "Saved 50 results to ../../../../../../../evaluation_results/PCR/gn_l4/results_part_13750.pkl\n"
     ]
    },
    {
     "name": "stdout",
     "output_type": "stream",
     "text": [
      "Saved 50 results to ../../../../../../../evaluation_results/PCR/gn_l4/results_part_13800.pkl\n"
     ]
    },
    {
     "name": "stdout",
     "output_type": "stream",
     "text": [
      "Saved 50 results to ../../../../../../../evaluation_results/PCR/gn_l4/results_part_13850.pkl\n"
     ]
    },
    {
     "name": "stdout",
     "output_type": "stream",
     "text": [
      "Saved 50 results to ../../../../../../../evaluation_results/PCR/gn_l4/results_part_13900.pkl\n"
     ]
    },
    {
     "name": "stdout",
     "output_type": "stream",
     "text": [
      "Saved 50 results to ../../../../../../../evaluation_results/PCR/gn_l4/results_part_13950.pkl\n"
     ]
    },
    {
     "name": "stdout",
     "output_type": "stream",
     "text": [
      "Saved 50 results to ../../../../../../../evaluation_results/PCR/gn_l4/results_part_14000.pkl\n"
     ]
    },
    {
     "name": "stdout",
     "output_type": "stream",
     "text": [
      "Saved 50 results to ../../../../../../../evaluation_results/PCR/gn_l4/results_part_14050.pkl\n"
     ]
    },
    {
     "name": "stdout",
     "output_type": "stream",
     "text": [
      "Saved 50 results to ../../../../../../../evaluation_results/PCR/gn_l4/results_part_14100.pkl\n"
     ]
    },
    {
     "name": "stdout",
     "output_type": "stream",
     "text": [
      "Saved 50 results to ../../../../../../../evaluation_results/PCR/gn_l4/results_part_14150.pkl\n"
     ]
    },
    {
     "name": "stdout",
     "output_type": "stream",
     "text": [
      "Saved 50 results to ../../../../../../../evaluation_results/PCR/gn_l4/results_part_14200.pkl\n"
     ]
    },
    {
     "name": "stdout",
     "output_type": "stream",
     "text": [
      "Saved 50 results to ../../../../../../../evaluation_results/PCR/gn_l4/results_part_14250.pkl\n"
     ]
    },
    {
     "name": "stdout",
     "output_type": "stream",
     "text": [
      "Saved 50 results to ../../../../../../../evaluation_results/PCR/gn_l4/results_part_14300.pkl\n"
     ]
    },
    {
     "name": "stdout",
     "output_type": "stream",
     "text": [
      "Saved 50 results to ../../../../../../../evaluation_results/PCR/gn_l4/results_part_14350.pkl\n"
     ]
    },
    {
     "name": "stdout",
     "output_type": "stream",
     "text": [
      "Saved 50 results to ../../../../../../../evaluation_results/PCR/gn_l4/results_part_14400.pkl\n"
     ]
    },
    {
     "name": "stdout",
     "output_type": "stream",
     "text": [
      "Saved 50 results to ../../../../../../../evaluation_results/PCR/gn_l4/results_part_14450.pkl\n"
     ]
    },
    {
     "name": "stdout",
     "output_type": "stream",
     "text": [
      "Saved 50 results to ../../../../../../../evaluation_results/PCR/gn_l4/results_part_14500.pkl\n"
     ]
    },
    {
     "name": "stdout",
     "output_type": "stream",
     "text": [
      "Saved 50 results to ../../../../../../../evaluation_results/PCR/gn_l4/results_part_14550.pkl\n"
     ]
    },
    {
     "name": "stdout",
     "output_type": "stream",
     "text": [
      "Saved 50 results to ../../../../../../../evaluation_results/PCR/gn_l4/results_part_14600.pkl\n"
     ]
    },
    {
     "name": "stdout",
     "output_type": "stream",
     "text": [
      "Saved 50 results to ../../../../../../../evaluation_results/PCR/gn_l4/results_part_14650.pkl\n"
     ]
    },
    {
     "name": "stdout",
     "output_type": "stream",
     "text": [
      "Saved 50 results to ../../../../../../../evaluation_results/PCR/gn_l4/results_part_14700.pkl\n"
     ]
    },
    {
     "name": "stdout",
     "output_type": "stream",
     "text": [
      "Saved 50 results to ../../../../../../../evaluation_results/PCR/gn_l4/results_part_14750.pkl\n"
     ]
    },
    {
     "name": "stdout",
     "output_type": "stream",
     "text": [
      "Saved 50 results to ../../../../../../../evaluation_results/PCR/gn_l4/results_part_14800.pkl\n"
     ]
    },
    {
     "name": "stdout",
     "output_type": "stream",
     "text": [
      "Saved 50 results to ../../../../../../../evaluation_results/PCR/gn_l4/results_part_14850.pkl\n"
     ]
    },
    {
     "name": "stdout",
     "output_type": "stream",
     "text": [
      "Saved 50 results to ../../../../../../../evaluation_results/PCR/gn_l4/results_part_14900.pkl\n"
     ]
    },
    {
     "name": "stdout",
     "output_type": "stream",
     "text": [
      "Saved 50 results to ../../../../../../../evaluation_results/PCR/gn_l4/results_part_14950.pkl\n"
     ]
    },
    {
     "name": "stdout",
     "output_type": "stream",
     "text": [
      "Saved 50 results to ../../../../../../../evaluation_results/PCR/gn_l4/results_part_15000.pkl\n"
     ]
    },
    {
     "name": "stdout",
     "output_type": "stream",
     "text": [
      "Saved 50 results to ../../../../../../../evaluation_results/PCR/gn_l4/results_part_15050.pkl\n"
     ]
    },
    {
     "name": "stdout",
     "output_type": "stream",
     "text": [
      "Saved 50 results to ../../../../../../../evaluation_results/PCR/gn_l4/results_part_15100.pkl\n"
     ]
    },
    {
     "name": "stdout",
     "output_type": "stream",
     "text": [
      "Saved 50 results to ../../../../../../../evaluation_results/PCR/gn_l4/results_part_15150.pkl\n"
     ]
    },
    {
     "name": "stdout",
     "output_type": "stream",
     "text": [
      "Saved 50 results to ../../../../../../../evaluation_results/PCR/gn_l4/results_part_15200.pkl\n"
     ]
    },
    {
     "name": "stdout",
     "output_type": "stream",
     "text": [
      "Saved 50 results to ../../../../../../../evaluation_results/PCR/gn_l4/results_part_15250.pkl\n"
     ]
    },
    {
     "name": "stdout",
     "output_type": "stream",
     "text": [
      "Saved 50 results to ../../../../../../../evaluation_results/PCR/gn_l4/results_part_15300.pkl\n"
     ]
    },
    {
     "name": "stdout",
     "output_type": "stream",
     "text": [
      "Saved 50 results to ../../../../../../../evaluation_results/PCR/gn_l4/results_part_15350.pkl\n"
     ]
    },
    {
     "name": "stdout",
     "output_type": "stream",
     "text": [
      "Saved 50 results to ../../../../../../../evaluation_results/PCR/gn_l4/results_part_15400.pkl\n"
     ]
    },
    {
     "name": "stdout",
     "output_type": "stream",
     "text": [
      "Saved 50 results to ../../../../../../../evaluation_results/PCR/gn_l4/results_part_15450.pkl\n"
     ]
    },
    {
     "name": "stdout",
     "output_type": "stream",
     "text": [
      "Saved 50 results to ../../../../../../../evaluation_results/PCR/gn_l4/results_part_15500.pkl\n"
     ]
    },
    {
     "name": "stdout",
     "output_type": "stream",
     "text": [
      "Saved 50 results to ../../../../../../../evaluation_results/PCR/gn_l4/results_part_15550.pkl\n"
     ]
    },
    {
     "name": "stdout",
     "output_type": "stream",
     "text": [
      "Saved 50 results to ../../../../../../../evaluation_results/PCR/gn_l4/results_part_15600.pkl\n"
     ]
    },
    {
     "name": "stdout",
     "output_type": "stream",
     "text": [
      "Saved 50 results to ../../../../../../../evaluation_results/PCR/gn_l4/results_part_15650.pkl\n"
     ]
    },
    {
     "name": "stdout",
     "output_type": "stream",
     "text": [
      "Saved 50 results to ../../../../../../../evaluation_results/PCR/gn_l4/results_part_15700.pkl\n"
     ]
    },
    {
     "name": "stdout",
     "output_type": "stream",
     "text": [
      "Saved 50 results to ../../../../../../../evaluation_results/PCR/gn_l4/results_part_15750.pkl\n"
     ]
    },
    {
     "name": "stdout",
     "output_type": "stream",
     "text": [
      "Saved 50 results to ../../../../../../../evaluation_results/PCR/gn_l4/results_part_15800.pkl\n"
     ]
    },
    {
     "name": "stdout",
     "output_type": "stream",
     "text": [
      "Saved 50 results to ../../../../../../../evaluation_results/PCR/gn_l4/results_part_15850.pkl\n"
     ]
    },
    {
     "name": "stdout",
     "output_type": "stream",
     "text": [
      "Saved 50 results to ../../../../../../../evaluation_results/PCR/gn_l4/results_part_15900.pkl\n"
     ]
    },
    {
     "name": "stdout",
     "output_type": "stream",
     "text": [
      "Saved 50 results to ../../../../../../../evaluation_results/PCR/gn_l4/results_part_15950.pkl\n"
     ]
    },
    {
     "name": "stdout",
     "output_type": "stream",
     "text": [
      "Saved 50 results to ../../../../../../../evaluation_results/PCR/gn_l4/results_part_16000.pkl\n"
     ]
    },
    {
     "name": "stdout",
     "output_type": "stream",
     "text": [
      "Saved 50 results to ../../../../../../../evaluation_results/PCR/gn_l4/results_part_16050.pkl\n"
     ]
    },
    {
     "name": "stdout",
     "output_type": "stream",
     "text": [
      "Saved 50 results to ../../../../../../../evaluation_results/PCR/gn_l4/results_part_16100.pkl\n"
     ]
    },
    {
     "name": "stdout",
     "output_type": "stream",
     "text": [
      "Saved 50 results to ../../../../../../../evaluation_results/PCR/gn_l4/results_part_16150.pkl\n"
     ]
    },
    {
     "name": "stdout",
     "output_type": "stream",
     "text": [
      "Saved 50 results to ../../../../../../../evaluation_results/PCR/gn_l4/results_part_16200.pkl\n"
     ]
    },
    {
     "name": "stdout",
     "output_type": "stream",
     "text": [
      "Saved 50 results to ../../../../../../../evaluation_results/PCR/gn_l4/results_part_16250.pkl\n"
     ]
    },
    {
     "name": "stdout",
     "output_type": "stream",
     "text": [
      "Saved 50 results to ../../../../../../../evaluation_results/PCR/gn_l4/results_part_16300.pkl\n"
     ]
    },
    {
     "name": "stdout",
     "output_type": "stream",
     "text": [
      "Saved 50 results to ../../../../../../../evaluation_results/PCR/gn_l4/results_part_16350.pkl\n"
     ]
    },
    {
     "name": "stdout",
     "output_type": "stream",
     "text": [
      "Saved 50 results to ../../../../../../../evaluation_results/PCR/gn_l4/results_part_16400.pkl\n"
     ]
    },
    {
     "name": "stdout",
     "output_type": "stream",
     "text": [
      "Saved 50 results to ../../../../../../../evaluation_results/PCR/gn_l4/results_part_16450.pkl\n"
     ]
    },
    {
     "name": "stdout",
     "output_type": "stream",
     "text": [
      "Saved 50 results to ../../../../../../../evaluation_results/PCR/gn_l4/results_part_16500.pkl\n"
     ]
    },
    {
     "name": "stdout",
     "output_type": "stream",
     "text": [
      "Saved 50 results to ../../../../../../../evaluation_results/PCR/gn_l4/results_part_16550.pkl\n"
     ]
    },
    {
     "name": "stdout",
     "output_type": "stream",
     "text": [
      "Saved 50 results to ../../../../../../../evaluation_results/PCR/gn_l4/results_part_16600.pkl\n"
     ]
    },
    {
     "name": "stdout",
     "output_type": "stream",
     "text": [
      "Saved 50 results to ../../../../../../../evaluation_results/PCR/gn_l4/results_part_16650.pkl\n"
     ]
    },
    {
     "name": "stdout",
     "output_type": "stream",
     "text": [
      "Saved 50 results to ../../../../../../../evaluation_results/PCR/gn_l4/results_part_16700.pkl\n"
     ]
    },
    {
     "name": "stdout",
     "output_type": "stream",
     "text": [
      "Saved 50 results to ../../../../../../../evaluation_results/PCR/gn_l4/results_part_16750.pkl\n"
     ]
    },
    {
     "name": "stdout",
     "output_type": "stream",
     "text": [
      "Saved 50 results to ../../../../../../../evaluation_results/PCR/gn_l4/results_part_16800.pkl\n"
     ]
    },
    {
     "name": "stdout",
     "output_type": "stream",
     "text": [
      "Saved 50 results to ../../../../../../../evaluation_results/PCR/gn_l4/results_part_16850.pkl\n"
     ]
    },
    {
     "name": "stdout",
     "output_type": "stream",
     "text": [
      "Saved 50 results to ../../../../../../../evaluation_results/PCR/gn_l4/results_part_16900.pkl\n"
     ]
    },
    {
     "name": "stdout",
     "output_type": "stream",
     "text": [
      "Saved 50 results to ../../../../../../../evaluation_results/PCR/gn_l4/results_part_16950.pkl\n"
     ]
    },
    {
     "name": "stdout",
     "output_type": "stream",
     "text": [
      "Saved 50 results to ../../../../../../../evaluation_results/PCR/gn_l4/results_part_17000.pkl\n"
     ]
    },
    {
     "name": "stdout",
     "output_type": "stream",
     "text": [
      "Saved 50 results to ../../../../../../../evaluation_results/PCR/gn_l4/results_part_17050.pkl\n"
     ]
    },
    {
     "name": "stdout",
     "output_type": "stream",
     "text": [
      "Saved 50 results to ../../../../../../../evaluation_results/PCR/gn_l4/results_part_17100.pkl\n"
     ]
    },
    {
     "name": "stdout",
     "output_type": "stream",
     "text": [
      "Saved 50 results to ../../../../../../../evaluation_results/PCR/gn_l4/results_part_17150.pkl\n"
     ]
    },
    {
     "name": "stdout",
     "output_type": "stream",
     "text": [
      "Saved 50 results to ../../../../../../../evaluation_results/PCR/gn_l4/results_part_17200.pkl\n"
     ]
    },
    {
     "name": "stdout",
     "output_type": "stream",
     "text": [
      "Saved 50 results to ../../../../../../../evaluation_results/PCR/gn_l4/results_part_17250.pkl\n"
     ]
    },
    {
     "name": "stdout",
     "output_type": "stream",
     "text": [
      "Saved 50 results to ../../../../../../../evaluation_results/PCR/gn_l4/results_part_17300.pkl\n"
     ]
    },
    {
     "name": "stdout",
     "output_type": "stream",
     "text": [
      "Saved 50 results to ../../../../../../../evaluation_results/PCR/gn_l4/results_part_17350.pkl\n"
     ]
    },
    {
     "name": "stdout",
     "output_type": "stream",
     "text": [
      "Saved 50 results to ../../../../../../../evaluation_results/PCR/gn_l4/results_part_17400.pkl\n"
     ]
    },
    {
     "name": "stdout",
     "output_type": "stream",
     "text": [
      "Saved 50 results to ../../../../../../../evaluation_results/PCR/gn_l4/results_part_17450.pkl\n"
     ]
    },
    {
     "name": "stdout",
     "output_type": "stream",
     "text": [
      "Saved 50 results to ../../../../../../../evaluation_results/PCR/gn_l4/results_part_17500.pkl\n"
     ]
    },
    {
     "name": "stdout",
     "output_type": "stream",
     "text": [
      "Saved 50 results to ../../../../../../../evaluation_results/PCR/gn_l4/results_part_17550.pkl\n"
     ]
    },
    {
     "name": "stdout",
     "output_type": "stream",
     "text": [
      "Saved 50 results to ../../../../../../../evaluation_results/PCR/gn_l4/results_part_17600.pkl\n"
     ]
    },
    {
     "name": "stdout",
     "output_type": "stream",
     "text": [
      "Saved 50 results to ../../../../../../../evaluation_results/PCR/gn_l4/results_part_17650.pkl\n"
     ]
    },
    {
     "name": "stdout",
     "output_type": "stream",
     "text": [
      "Saved 50 results to ../../../../../../../evaluation_results/PCR/gn_l4/results_part_17700.pkl\n"
     ]
    },
    {
     "name": "stdout",
     "output_type": "stream",
     "text": [
      "Saved 50 results to ../../../../../../../evaluation_results/PCR/gn_l4/results_part_17750.pkl\n"
     ]
    },
    {
     "name": "stdout",
     "output_type": "stream",
     "text": [
      "Saved 50 results to ../../../../../../../evaluation_results/PCR/gn_l4/results_part_17800.pkl\n"
     ]
    },
    {
     "name": "stdout",
     "output_type": "stream",
     "text": [
      "Saved 50 results to ../../../../../../../evaluation_results/PCR/gn_l4/results_part_17850.pkl\n"
     ]
    },
    {
     "name": "stdout",
     "output_type": "stream",
     "text": [
      "Saved 50 results to ../../../../../../../evaluation_results/PCR/gn_l4/results_part_17900.pkl\n"
     ]
    },
    {
     "name": "stdout",
     "output_type": "stream",
     "text": [
      "Saved 50 results to ../../../../../../../evaluation_results/PCR/gn_l4/results_part_17950.pkl\n"
     ]
    },
    {
     "name": "stdout",
     "output_type": "stream",
     "text": [
      "Saved 50 results to ../../../../../../../evaluation_results/PCR/gn_l4/results_part_18000.pkl\n"
     ]
    },
    {
     "name": "stdout",
     "output_type": "stream",
     "text": [
      "Saved 50 results to ../../../../../../../evaluation_results/PCR/gn_l4/results_part_18050.pkl\n"
     ]
    },
    {
     "name": "stdout",
     "output_type": "stream",
     "text": [
      "Saved 50 results to ../../../../../../../evaluation_results/PCR/gn_l4/results_part_18100.pkl\n"
     ]
    },
    {
     "name": "stdout",
     "output_type": "stream",
     "text": [
      "Saved 50 results to ../../../../../../../evaluation_results/PCR/gn_l4/results_part_18150.pkl\n"
     ]
    },
    {
     "name": "stdout",
     "output_type": "stream",
     "text": [
      "Saved 50 results to ../../../../../../../evaluation_results/PCR/gn_l4/results_part_18200.pkl\n"
     ]
    },
    {
     "name": "stdout",
     "output_type": "stream",
     "text": [
      "Saved 50 results to ../../../../../../../evaluation_results/PCR/gn_l4/results_part_18250.pkl\n"
     ]
    },
    {
     "name": "stdout",
     "output_type": "stream",
     "text": [
      "Saved 7 results to ../../../../../../../evaluation_results/PCR/gn_l4/results_part_18257.pkl\n"
     ]
    }
   ],
   "source": [
    "def save_chunk(results, i):\n",
    "    chunk_number = (i + 1)\n",
    "    filename = os.path.join(output_dir, f'results_part_{chunk_number:03d}.pkl')\n",
    "    with open(filename, 'wb') as f:\n",
    "        pickle.dump(results, f)\n",
    "    print(f\"Saved {len(results)} results to {filename}\")\n",
    "    \n",
    "# Directory path on NAS - evaluation results directory on top of the project\n",
    "  \n",
    "output_dir = '../../../../../../../evaluation_results/PCR/gn_l4/'  \n",
    "\n",
    "save_every = 50\n",
    "\n",
    "results = {}\n",
    "for i, (case_name, prefix_len, prefix, predicted_suffixes, suffix, mean_prediction) in enumerate(new_eval.evaluate_multi_processing(random_order=False)):\n",
    "    # print(case_name, prefix_len)\n",
    "    assert((case_name, prefix_len) not in results)\n",
    "    results[(case_name, prefix_len)] = (prefix, suffix, mean_prediction, predicted_suffixes)\n",
    "    # print(prefix_len, len(suffix))\n",
    "    if (i + 1) % save_every == 0:\n",
    "        save_chunk(results, i)\n",
    "        results = {}\n",
    "\n",
    "if len(results):\n",
    "    save_chunk(results, i)"
   ]
  }
 ],
 "metadata": {
  "kernelspec": {
   "display_name": "PrimePPM-tDGhFIeG",
   "language": "python",
   "name": "python3"
  },
  "language_info": {
   "codemirror_mode": {
    "name": "ipython",
    "version": 3
   },
   "file_extension": ".py",
   "mimetype": "text/x-python",
   "name": "python",
   "nbconvert_exporter": "python",
   "pygments_lexer": "ipython3",
   "version": "3.13.1"
  },
  "widgets": {
   "application/vnd.jupyter.widget-state+json": {
    "state": {
     "1fcbf0334f9c43298a7683836eb2d891": {
      "model_module": "@jupyter-widgets/base",
      "model_module_version": "2.0.0",
      "model_name": "LayoutModel",
      "state": {
       "_model_module": "@jupyter-widgets/base",
       "_model_module_version": "2.0.0",
       "_model_name": "LayoutModel",
       "_view_count": null,
       "_view_module": "@jupyter-widgets/base",
       "_view_module_version": "2.0.0",
       "_view_name": "LayoutView",
       "align_content": null,
       "align_items": null,
       "align_self": null,
       "border_bottom": null,
       "border_left": null,
       "border_right": null,
       "border_top": null,
       "bottom": null,
       "display": null,
       "flex": null,
       "flex_flow": null,
       "grid_area": null,
       "grid_auto_columns": null,
       "grid_auto_flow": null,
       "grid_auto_rows": null,
       "grid_column": null,
       "grid_gap": null,
       "grid_row": null,
       "grid_template_areas": null,
       "grid_template_columns": null,
       "grid_template_rows": null,
       "height": null,
       "justify_content": null,
       "justify_items": null,
       "left": null,
       "margin": null,
       "max_height": null,
       "max_width": null,
       "min_height": null,
       "min_width": null,
       "object_fit": null,
       "object_position": null,
       "order": null,
       "overflow": null,
       "padding": null,
       "right": null,
       "top": null,
       "visibility": null,
       "width": null
      }
     },
     "32660873384a427db06cee3d371580bb": {
      "model_module": "@jupyter-widgets/base",
      "model_module_version": "2.0.0",
      "model_name": "LayoutModel",
      "state": {
       "_model_module": "@jupyter-widgets/base",
       "_model_module_version": "2.0.0",
       "_model_name": "LayoutModel",
       "_view_count": null,
       "_view_module": "@jupyter-widgets/base",
       "_view_module_version": "2.0.0",
       "_view_name": "LayoutView",
       "align_content": null,
       "align_items": null,
       "align_self": null,
       "border_bottom": null,
       "border_left": null,
       "border_right": null,
       "border_top": null,
       "bottom": null,
       "display": null,
       "flex": null,
       "flex_flow": null,
       "grid_area": null,
       "grid_auto_columns": null,
       "grid_auto_flow": null,
       "grid_auto_rows": null,
       "grid_column": null,
       "grid_gap": null,
       "grid_row": null,
       "grid_template_areas": null,
       "grid_template_columns": null,
       "grid_template_rows": null,
       "height": null,
       "justify_content": null,
       "justify_items": null,
       "left": null,
       "margin": null,
       "max_height": null,
       "max_width": null,
       "min_height": null,
       "min_width": null,
       "object_fit": null,
       "object_position": null,
       "order": null,
       "overflow": null,
       "padding": null,
       "right": null,
       "top": null,
       "visibility": null,
       "width": null
      }
     },
     "4d09aee035f64e2da2ba08eecafb62c5": {
      "model_module": "@jupyter-widgets/base",
      "model_module_version": "2.0.0",
      "model_name": "LayoutModel",
      "state": {
       "_model_module": "@jupyter-widgets/base",
       "_model_module_version": "2.0.0",
       "_model_name": "LayoutModel",
       "_view_count": null,
       "_view_module": "@jupyter-widgets/base",
       "_view_module_version": "2.0.0",
       "_view_name": "LayoutView",
       "align_content": null,
       "align_items": null,
       "align_self": null,
       "border_bottom": null,
       "border_left": null,
       "border_right": null,
       "border_top": null,
       "bottom": null,
       "display": null,
       "flex": null,
       "flex_flow": null,
       "grid_area": null,
       "grid_auto_columns": null,
       "grid_auto_flow": null,
       "grid_auto_rows": null,
       "grid_column": null,
       "grid_gap": null,
       "grid_row": null,
       "grid_template_areas": null,
       "grid_template_columns": null,
       "grid_template_rows": null,
       "height": null,
       "justify_content": null,
       "justify_items": null,
       "left": null,
       "margin": null,
       "max_height": null,
       "max_width": null,
       "min_height": null,
       "min_width": null,
       "object_fit": null,
       "object_position": null,
       "order": null,
       "overflow": null,
       "padding": null,
       "right": null,
       "top": null,
       "visibility": null,
       "width": null
      }
     },
     "5d1bfa6133e84b37a342929054a7682c": {
      "model_module": "@jupyter-widgets/controls",
      "model_module_version": "2.0.0",
      "model_name": "HTMLStyleModel",
      "state": {
       "_model_module": "@jupyter-widgets/controls",
       "_model_module_version": "2.0.0",
       "_model_name": "HTMLStyleModel",
       "_view_count": null,
       "_view_module": "@jupyter-widgets/base",
       "_view_module_version": "2.0.0",
       "_view_name": "StyleView",
       "background": null,
       "description_width": "",
       "font_size": null,
       "text_color": null
      }
     },
     "65d172ee70e747608e03ec67817f0362": {
      "model_module": "@jupyter-widgets/controls",
      "model_module_version": "2.0.0",
      "model_name": "HTMLModel",
      "state": {
       "_dom_classes": [],
       "_model_module": "@jupyter-widgets/controls",
       "_model_module_version": "2.0.0",
       "_model_name": "HTMLModel",
       "_view_count": null,
       "_view_module": "@jupyter-widgets/controls",
       "_view_module_version": "2.0.0",
       "_view_name": "HTMLView",
       "description": "",
       "description_allow_html": false,
       "layout": "IPY_MODEL_32660873384a427db06cee3d371580bb",
       "placeholder": "​",
       "style": "IPY_MODEL_5d1bfa6133e84b37a342929054a7682c",
       "tabbable": null,
       "tooltip": null,
       "value": " 998/998 [6:09:45&lt;00:00, 21.58s/it]"
      }
     },
     "75f6ac757c364bf7a8505355de764a93": {
      "model_module": "@jupyter-widgets/controls",
      "model_module_version": "2.0.0",
      "model_name": "HTMLStyleModel",
      "state": {
       "_model_module": "@jupyter-widgets/controls",
       "_model_module_version": "2.0.0",
       "_model_name": "HTMLStyleModel",
       "_view_count": null,
       "_view_module": "@jupyter-widgets/base",
       "_view_module_version": "2.0.0",
       "_view_name": "StyleView",
       "background": null,
       "description_width": "",
       "font_size": null,
       "text_color": null
      }
     },
     "8ef91ee599f640e5995aed297f739c4f": {
      "model_module": "@jupyter-widgets/controls",
      "model_module_version": "2.0.0",
      "model_name": "FloatProgressModel",
      "state": {
       "_dom_classes": [],
       "_model_module": "@jupyter-widgets/controls",
       "_model_module_version": "2.0.0",
       "_model_name": "FloatProgressModel",
       "_view_count": null,
       "_view_module": "@jupyter-widgets/controls",
       "_view_module_version": "2.0.0",
       "_view_name": "ProgressView",
       "bar_style": "success",
       "description": "",
       "description_allow_html": false,
       "layout": "IPY_MODEL_4d09aee035f64e2da2ba08eecafb62c5",
       "max": 998.0,
       "min": 0.0,
       "orientation": "horizontal",
       "style": "IPY_MODEL_e0fd35f39b3f44d6a0a8d2d23bb6963f",
       "tabbable": null,
       "tooltip": null,
       "value": 998.0
      }
     },
     "d3434ba01a1d4190933db814bc164f22": {
      "model_module": "@jupyter-widgets/base",
      "model_module_version": "2.0.0",
      "model_name": "LayoutModel",
      "state": {
       "_model_module": "@jupyter-widgets/base",
       "_model_module_version": "2.0.0",
       "_model_name": "LayoutModel",
       "_view_count": null,
       "_view_module": "@jupyter-widgets/base",
       "_view_module_version": "2.0.0",
       "_view_name": "LayoutView",
       "align_content": null,
       "align_items": null,
       "align_self": null,
       "border_bottom": null,
       "border_left": null,
       "border_right": null,
       "border_top": null,
       "bottom": null,
       "display": null,
       "flex": null,
       "flex_flow": null,
       "grid_area": null,
       "grid_auto_columns": null,
       "grid_auto_flow": null,
       "grid_auto_rows": null,
       "grid_column": null,
       "grid_gap": null,
       "grid_row": null,
       "grid_template_areas": null,
       "grid_template_columns": null,
       "grid_template_rows": null,
       "height": null,
       "justify_content": null,
       "justify_items": null,
       "left": null,
       "margin": null,
       "max_height": null,
       "max_width": null,
       "min_height": null,
       "min_width": null,
       "object_fit": null,
       "object_position": null,
       "order": null,
       "overflow": null,
       "padding": null,
       "right": null,
       "top": null,
       "visibility": null,
       "width": null
      }
     },
     "d4e248b98a014fb49de4cb964c14e330": {
      "model_module": "@jupyter-widgets/controls",
      "model_module_version": "2.0.0",
      "model_name": "HTMLModel",
      "state": {
       "_dom_classes": [],
       "_model_module": "@jupyter-widgets/controls",
       "_model_module_version": "2.0.0",
       "_model_name": "HTMLModel",
       "_view_count": null,
       "_view_module": "@jupyter-widgets/controls",
       "_view_module_version": "2.0.0",
       "_view_name": "HTMLView",
       "description": "",
       "description_allow_html": false,
       "layout": "IPY_MODEL_d3434ba01a1d4190933db814bc164f22",
       "placeholder": "​",
       "style": "IPY_MODEL_75f6ac757c364bf7a8505355de764a93",
       "tabbable": null,
       "tooltip": null,
       "value": "100%"
      }
     },
     "e0fd35f39b3f44d6a0a8d2d23bb6963f": {
      "model_module": "@jupyter-widgets/controls",
      "model_module_version": "2.0.0",
      "model_name": "ProgressStyleModel",
      "state": {
       "_model_module": "@jupyter-widgets/controls",
       "_model_module_version": "2.0.0",
       "_model_name": "ProgressStyleModel",
       "_view_count": null,
       "_view_module": "@jupyter-widgets/base",
       "_view_module_version": "2.0.0",
       "_view_name": "StyleView",
       "bar_color": null,
       "description_width": ""
      }
     },
     "f1c0d60851ec4e00a64ef8014b048677": {
      "model_module": "@jupyter-widgets/controls",
      "model_module_version": "2.0.0",
      "model_name": "HBoxModel",
      "state": {
       "_dom_classes": [],
       "_model_module": "@jupyter-widgets/controls",
       "_model_module_version": "2.0.0",
       "_model_name": "HBoxModel",
       "_view_count": null,
       "_view_module": "@jupyter-widgets/controls",
       "_view_module_version": "2.0.0",
       "_view_name": "HBoxView",
       "box_style": "",
       "children": [
        "IPY_MODEL_d4e248b98a014fb49de4cb964c14e330",
        "IPY_MODEL_8ef91ee599f640e5995aed297f739c4f",
        "IPY_MODEL_65d172ee70e747608e03ec67817f0362"
       ],
       "layout": "IPY_MODEL_1fcbf0334f9c43298a7683836eb2d891",
       "tabbable": null,
       "tooltip": null
      }
     }
    },
    "version_major": 2,
    "version_minor": 0
   }
  }
 },
 "nbformat": 4,
 "nbformat_minor": 2
}
