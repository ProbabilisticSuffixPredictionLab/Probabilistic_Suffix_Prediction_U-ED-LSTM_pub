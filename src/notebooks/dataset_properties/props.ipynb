{
 "cells": [
  {
   "cell_type": "code",
   "execution_count": null,
   "metadata": {},
   "outputs": [],
   "source": [
    "import sys\n",
    "import pandas as pd\n",
    "import numpy as np\n",
    "\n",
    "sys.path.insert(0, '..')\n",
    "sys.path.insert(0, '../..')\n",
    "sys.path.insert(0, '../../..')\n",
    "\n",
    "# Load the event log from a CSV file\n",
    "# bpic_log = pd.read_csv('../../../data/BPI Challenge 2017.csv')\n",
    "# helpdesk_log = pd.read_csv('../../../data/helpdesk.csv')\n",
    "# sepsis_log = pd.read_csv('../../../data/Sepsis.csv')\n",
    "pcr_log = pd.read_csv('../../../data/pcr_event_log.csv')"
   ]
  },
  {
   "cell_type": "code",
   "execution_count": null,
   "metadata": {},
   "outputs": [],
   "source": [
    "# Variants:\n",
    "\n",
    "# Step 1: Group by case_id and extract sequences of activities for each case\n",
    "# case_sequences = bpic_log.groupby('case:concept:name')['concept:name'].apply(lambda x: tuple(x)).tolist()\n",
    "# case_sequences = helpdesk_log.groupby('CaseID')['Activity'].apply(lambda x: tuple(x)).tolist()\n",
    "# case_sequences = sepsis_log.groupby('case:concept:name')['concept:name'].apply(lambda x: tuple(x)).tolist()\n",
    "case_sequences = pcr_log.groupby('concept:instance')['concept:name'].apply(lambda x: tuple(x)).tolist()\n",
    "\n",
    "# Step 2: Find the distinct sequences of activities\n",
    "distinct_sequences = set(case_sequences)\n",
    "# Step 3: Calculate the number of distinct sequences\n",
    "num_distinct_sequences = len(distinct_sequences)\n",
    "\n",
    "print(f\"Number of distinct cases (based on activity sequences): {num_distinct_sequences}\")"
   ]
  },
  {
   "cell_type": "code",
   "execution_count": null,
   "metadata": {},
   "outputs": [],
   "source": [
    "# Mean, S.D case length.\n",
    "\n",
    "# Step 1: Group by case_id and extract sequences of activities for each case\n",
    "# case_sequences = bpic_log.groupby('case:concept:name')['concept:name'].apply(lambda x: tuple(x)).tolist()\n",
    "# case_sequences = helpdesk_log.groupby('CaseID')['Activity'].apply(lambda x: tuple(x)).tolist()\n",
    "# case_sequences = sepsis_log.groupby('case:concept:name')['concept:name'].apply(lambda x: tuple(x)).tolist()\n",
    "case_sequences = pcr_log.groupby('concept:instance')['concept:name'].apply(lambda x: tuple(x)).tolist()\n",
    "\n",
    "# Step 3: Calculate the length of each sequence (number of activities per case)\n",
    "sequence_lengths = [len(sequence) for sequence in case_sequences]\n",
    "\n",
    "# Step 5: Calculate the mean and standard deviation of the sequence lengths\n",
    "mean_length = np.mean(sequence_lengths)\n",
    "std_dev_length = np.std(sequence_lengths)\n",
    "\n",
    "print(f\"Mean size of activity lists: {mean_length}\")\n",
    "print(f\"Standard deviation of activity lists: {std_dev_length}\")"
   ]
  },
  {
   "cell_type": "code",
   "execution_count": null,
   "metadata": {},
   "outputs": [],
   "source": [
    "# Mean, S.D case duration.\n",
    "\n",
    "# Step 1: Group by case_id and extract timestamps for each case\n",
    "# case_start_times = pd.to_datetime(bpic_log.groupby('case:concept:name')['time:timestamp'].min().to_list())\n",
    "# case_end_times = pd.to_datetime(bpic_log.groupby('case:concept:name')['time:timestamp'].max().to_list())\n",
    "# case_start_times = pd.to_datetime(helpdesk_log.groupby('CaseID')['CompleteTimestamp'].min().to_list())\n",
    "# case_end_times = pd.to_datetime(helpdesk_log.groupby('CaseID')['CompleteTimestamp'].max().to_list())\n",
    "# case_start_times = pd.to_datetime(sepsis_log.groupby('case:concept:name')['time:timestamp'].min().to_list())\n",
    "# case_end_times = pd.to_datetime(sepsis_log.groupby('case:concept:name')['time:timestamp'].max().to_list())\n",
    "case_start_times = pd.to_datetime(pcr_log.groupby('concept:instance')['time:timestamp'].min().to_list())\n",
    "case_end_times = pd.to_datetime(pcr_log.groupby('concept:instance')['time:timestamp'].max().to_list())\n",
    "\n",
    "# Step 2: Calculate case durations (end time - start time)\n",
    "case_durations = case_end_times - case_start_times\n",
    "\n",
    "# Step 3: Calculate the duration in seconds, hours, and days\n",
    "case_durations_seconds = case_durations.total_seconds()\n",
    "case_durations_hours = case_durations_seconds / 3600  # 60 * 60\n",
    "case_durations_days = case_durations_seconds / 86400  # 60 * 60 * 24\n",
    "\n",
    "# Step 4: Calculate the mean and standard deviation\n",
    "mean_duration_seconds = np.mean(case_durations_seconds)\n",
    "std_duration_seconds = np.std(case_durations_seconds)\n",
    "# \n",
    "mean_duration_hours = np.mean(case_durations_hours)\n",
    "std_duration_hours = np.std(case_durations_hours)\n",
    "# \n",
    "mean_duration_days = np.mean(case_durations_days)\n",
    "std_duration_days = np.std(case_durations_days)\n",
    "\n",
    "# Print the results\n",
    "print(f\"Mean case duration in seconds: {mean_duration_seconds}\")\n",
    "print(f\"std case duration in seconds: {std_duration_seconds}\")\n",
    "\n",
    "print(f\"Mean case duration in hours: {mean_duration_hours}\")\n",
    "print(f\"std case duration in hours: {std_duration_hours}\")\n",
    "\n",
    "print(f\"Mean case duration in days: {mean_duration_days}\")\n",
    "print(f\"std case duration in days: {std_duration_days}\")"
   ]
  }
 ],
 "metadata": {
  "kernelspec": {
   "display_name": "PrimePPM-tDGhFIeG",
   "language": "python",
   "name": "python3"
  },
  "language_info": {
   "codemirror_mode": {
    "name": "ipython",
    "version": 3
   },
   "file_extension": ".py",
   "mimetype": "text/x-python",
   "name": "python",
   "nbconvert_exporter": "python",
   "pygments_lexer": "ipython3",
   "version": "3.13.1"
  }
 },
 "nbformat": 4,
 "nbformat_minor": 2
}
