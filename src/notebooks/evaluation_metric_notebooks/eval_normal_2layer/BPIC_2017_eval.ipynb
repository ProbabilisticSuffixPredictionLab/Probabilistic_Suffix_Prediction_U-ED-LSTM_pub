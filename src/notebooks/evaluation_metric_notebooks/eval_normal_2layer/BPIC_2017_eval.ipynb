{
 "cells": [
  {
   "cell_type": "code",
   "execution_count": null,
   "metadata": {
    "execution": {
     "iopub.execute_input": "2025-03-14T06:51:06.374538Z",
     "iopub.status.busy": "2025-03-14T06:51:06.374453Z",
     "iopub.status.idle": "2025-03-14T06:51:07.717698Z",
     "shell.execute_reply": "2025-03-14T06:51:07.717396Z"
    }
   },
   "outputs": [],
   "source": [
    "import importlib\n",
    "import sys\n",
    "import pickle\n",
    "import numpy as np\n",
    "\n",
    "sys.path.insert(0, '..')\n",
    "sys.path.insert(0, '../..')\n",
    "sys.path.insert(0, '../../..')\n",
    "sys.path.insert(0, '../../../..')\n"
   ]
  },
  {
   "cell_type": "code",
   "execution_count": null,
   "metadata": {
    "execution": {
     "iopub.execute_input": "2025-03-14T06:51:07.719177Z",
     "iopub.status.busy": "2025-03-14T06:51:07.719037Z",
     "iopub.status.idle": "2025-03-14T06:51:07.725034Z",
     "shell.execute_reply": "2025-03-14T06:51:07.724807Z"
    }
   },
   "outputs": [],
   "source": [
    "import src.evaluation_metrics.conduct_evaluation\n",
    "importlib.reload(src.evaluation_metrics.conduct_evaluation)\n",
    "\n",
    "import src.evaluation_metrics.metrics\n",
    "importlib.reload(src.evaluation_metrics.metrics)"
   ]
  },
  {
   "cell_type": "code",
   "execution_count": null,
   "metadata": {
    "execution": {
     "iopub.execute_input": "2025-03-14T06:51:07.745894Z",
     "iopub.status.busy": "2025-03-14T06:51:07.745740Z",
     "iopub.status.idle": "2025-03-14T21:30:43.112391Z",
     "shell.execute_reply": "2025-03-14T21:30:43.111826Z"
    }
   },
   "outputs": [],
   "source": [
    "import src.evaluation_metrics.plots\n",
    "importlib.reload(src.evaluation_metrics.plots)\n",
    "\n",
    "output_dirs = ['../../../../../../evaluation_results/BPIC17/gn/']\n",
    "\n",
    "all_results = dict()\n",
    "\n",
    "for output_dir in output_dirs:\n",
    "    evaluation_metrics = {\n",
    "        #'RemainingTime_MSE_seconds' : src.evaluation_metrics.metrics.LastValueMeanMSE('case_elapsed_time'),\n",
    "        #'RemainingTime_MAE_Var_seconds' : src.evaluation_metrics.metrics.LastValueMeanMedianVarMAE('case_elapsed_time', percentile=0.16),\n",
    "        #'RemainingTime_MSE_Var_seconds' : src.evaluation_metrics.metrics.LastValueMeanVarMSE('case_elapsed_time', percentile=0.16),\n",
    "        #'RemainingTime_CRPS_seconds' : src.evaluation_metrics.metrics.LastValueCRPS('case_elapsed_time'),\n",
    "        #'Levenshtein_CRPS_activity' : src.evaluation_metrics.metrics.LevenshteinCRPS('concept:name'),\n",
    "        'LevenshteinMeanVar_activity' : src.evaluation_metrics.metrics.LevenshteinMeanVar('concept:name', percentile=0.25),\n",
    "        #'Raw_activity' : src.evaluation_metrics.metrics.RawAttribute('Activity'),\n",
    "        #'LevenshteinMeanVar_activity' : src.evaluation_metrics.metrics.LevenshteinMeanVar('concept:name', percentile=0.16),\n",
    "        #'LevenshteinMeanVar_resource' : src.evaluation_metrics.metrics.LevenshteinMeanVar('org:resource', percentile=0.16),\n",
    "\n",
    "        #'NormalizedDamerauLevenshteinCRPS_activity' : src.evaluation_metrics.metrics.NormalizedDamerauLevenshteinDistanceCRPS('concept:name'),\n",
    "        'NormalizedDamerauLevenshteinMeanVar_activity' : src.evaluation_metrics.metrics.NormalizedDamerauLevenshteinDistanceMeanVar('concept:name', percentile=0.25),\n",
    "        'FakedNormalizedDamerauLevenshteinMeanVar_activity' : src.evaluation_metrics.metrics.FakedNormalizedDamerauLevenshteinDistanceMeanVar('concept:name', percentile=0.25),\n",
    "\n",
    "        #'NormalizedDamerauLevenshteinMeanVar_resource' : src.evaluation_metrics.metrics.NormalizedDamerauLevenshteinDistanceMedianVar('Activity', percentile=0.16),\n",
    "        #'RemainingTime_PIT' : src.evaluation_metrics.metrics.LastValuePIT('case_elapsed_time'),\n",
    "        #'EventElapsed_PIT' : src.evaluation_metrics.metrics.LastValuePIT('event_elapsed_time'),\n",
    "\n",
    "\n",
    "        #'RemainingTime_MAE_Median_Var_seconds' : src.evaluation_metrics.metrics.LastValueMedianVarMAE('case_elapsed_time', percentile=0.16),\n",
    "        #'RemainingTime_MAE_Median2_Var_seconds' : src.evaluation_metrics.metrics.LastValueMedian2VarMAE('case_elapsed_time', percentile=0.16),\n",
    "        #'RemainingTime_MAE_Mean_Var_seconds' : src.evaluation_metrics.metrics.LastValueMeanVarMAE('case_elapsed_time', percentile=0.16),\n",
    "        #'RemainingTime_MAE_Mean2_Var_seconds' : src.evaluation_metrics.metrics.LastValueMean2VarMAE('case_elapsed_time', percentile=0.16),\n",
    "\n",
    "        #'RemainingTime_MSE_Median_Var_seconds' : src.evaluation_metrics.metrics.LastValueMedianVarMSE('case_elapsed_time', percentile=0.16),\n",
    "        #'RemainingTime_MSE_Median2_Var_seconds' : src.evaluation_metrics.metrics.LastValueMedian2VarMSE('case_elapsed_time', percentile=0.16),\n",
    "        #'RemainingTime_MSE_Mean_Var_seconds' : src.evaluation_metrics.metrics.LastValueMeanVarMSE('case_elapsed_time', percentile=0.16),\n",
    "        #'RemainingTime_MSE_Mean2_Var_seconds' : src.evaluation_metrics.metrics.LastValueMean2VarMSE('case_elapsed_time', percentile=0.16),\n",
    "\n",
    "\n",
    "        #'RemainingTime_SUM_Mean_MSE_outliers' : src.evaluation_metrics.metrics.SumValueMeanMSE('event_elapsed_time', percentile=0.16),\n",
    "        'RemainingTime_SUM_Mean_MAE_outliers' : src.evaluation_metrics.metrics.SumValueMeanMAE('event_elapsed_time', percentile=0.25, value_factor = 3600*24),\n",
    "        'RemainingTime_SUM_Abs_Mean_MAE_outliers' : src.evaluation_metrics.metrics.SumAbsValueMeanMAE('event_elapsed_time', percentile=0.25, value_factor = 3600*24),\n",
    "\n",
    "        #'RemainingTime_SUM_Mean_MSE_2' : src.evaluation_metrics.metrics.SumValueMeanMSE('event_elapsed_time', percentile=0.16, outlier_removal=2),\n",
    "        #'RemainingTime_SUM_Mean_MAE_2' : src.evaluation_metrics.metrics.SumValueMeanMAE('event_elapsed_time', percentile=0.16, outlier_removal=2),\n",
    "\n",
    "        'RemainingTime_LastEvent_Mean2_Var_seconds_outliers' : src.evaluation_metrics.metrics.LastValueMean2VarMAE('case_elapsed_time', percentile=0.25, value_factor=3600*24),\n",
    "\n",
    "        #'RemainingTime_MAE_Mean2_Var_seconds_outliers' : src.evaluation_metrics.metrics.LastValueMean2VarMAE('case_elapsed_time', percentile=0.16),\n",
    "        #'RemainingTime_MAE_Mean2_Var_seconds_3.5' : src.evaluation_metrics.metrics.LastValueMean2VarMAE('case_elapsed_time', percentile=0.16, outlier_removal=3.5),\n",
    "        #'RemainingTime_MAE_Mean2_Var_seconds_2.5' : src.evaluation_metrics.metrics.LastValueMean2VarMAE('case_elapsed_time', percentile=0.16, outlier_removal=2.5),\n",
    "        #'RemainingTime_MAE_Mean2_Var_seconds_2' : src.evaluation_metrics.metrics.LastValueMean2VarMAE('case_elapsed_time', percentile=0.16, outlier_removal=2),\n",
    "\n",
    "\n",
    "        #'RemainingTime_MSE_Median_Var_seconds' : src.evaluation_metrics.metrics.LastValueMedianVarMSE('case_elapsed_time', percentile=0.16),\n",
    "        #'RemainingTime_MSE_Median2_Var_seconds' : src.evaluation_metrics.metrics.LastValueMedian2VarMSE('case_elapsed_time', percentile=0.16),\n",
    "        #'RemainingTime_MSE_Mean_Var_seconds' : src.evaluation_metrics.metrics.LastValueMeanVarMSE('case_elapsed_time', percentile=0.16),\n",
    "        #'RemainingTime_MSE_Mean2_Var_seconds_3.5' : src.evaluation_metrics.metrics.LastValueMean2VarMSE('case_elapsed_time', percentile=0.16, outlier_removal=3.5),\n",
    "        #'RemainingTime_MSE_Mean2_Var_seconds_2.5' : src.evaluation_metrics.metrics.LastValueMean2VarMSE('case_elapsed_time', percentile=0.16, outlier_removal=2.5),\n",
    "        #'RemainingTime_MSE_Mean2_Var_seconds_2' : src.evaluation_metrics.metrics.LastValueMean2VarMSE('case_elapsed_time', percentile=0.16, outlier_removal=2),\n",
    "        #'RemainingTime_MSE_Mean2_Var_seconds_outliers' : src.evaluation_metrics.metrics.LastValueMean2VarMSE('case_elapsed_time', percentile=0.16),\n",
    "\n",
    "        'RemainingTime_PIT' : src.evaluation_metrics.metrics.LastValuePIT('case_elapsed_time'),\n",
    "        'EventElapsed_PIT' : src.evaluation_metrics.metrics.SumValuesPIT('event_elapsed_time'),\n",
    "        'SuffixCount' : src.evaluation_metrics.metrics.SuffixCount(),\n",
    "        'SuffixCountMAE' : src.evaluation_metrics.metrics.SuffixCountMAE(percentile=0.25)\n",
    "    }\n",
    "\n",
    "    res_raw, c = src.evaluation_metrics.conduct_evaluation.batch_evaluate(output_dir, evaluation_metrics, num_workers=32)\n",
    "    # res_raw, c = src.evaluation_metrics.conduct_evaluation.evaluate_sequentially(output_dir, evaluation_metrics)\n",
    "    all_results[output_dir] = (res_raw, c)\n",
    "\n",
    "with open(\"BPIC17_eval.pkl\", \"wb\") as file:\n",
    "    pickle.dump(all_results, file)"
   ]
  },
  {
   "cell_type": "code",
   "execution_count": null,
   "metadata": {
    "execution": {
     "iopub.execute_input": "2025-03-14T21:30:43.124054Z",
     "iopub.status.busy": "2025-03-14T21:30:43.123935Z",
     "iopub.status.idle": "2025-03-14T21:30:55.646959Z",
     "shell.execute_reply": "2025-03-14T21:30:55.646624Z"
    }
   },
   "outputs": [],
   "source": [
    "with open(\"BPIC17_eval.pkl\", \"rb\") as file:\n",
    "    all_results = pickle.load(file)\n",
    "\n",
    "import src.evaluation_metrics.plots\n",
    "importlib.reload(src.evaluation_metrics.plots)\n",
    "\n",
    "res_raw, c = all_results['../../../../../../evaluation_results/BPIC17/gn/']\n",
    "keys_to_keep = [\n",
    "                ('SuffixCountMAE', 'Suffix length MAE'),\n",
    "                #'LevenshteinMeanVar_activity',\n",
    "                ('NormalizedDamerauLevenshteinMeanVar_activity', 'DLS'),\n",
    "                #'RemainingTime_MAE_Median_Var_seconds',\n",
    "                #'RemainingTime_MAE_Median2_Var_seconds',\n",
    "                #'RemainingTime_MAE_Mean_Var_seconds',\n",
    "                #'RemainingTime_MAE_Mean2_Var_seconds',\n",
    "                #'RemainingTime_MAE_Mean2_Var_seconds_outliers',\n",
    "                \n",
    "                #'RemainingTime_MSE_Median_Var_seconds',\n",
    "                #'RemainingTime_MSE_Median2_Var_seconds',\n",
    "                #'RemainingTime_MSE_Mean_Var_seconds',\n",
    "                #'RemainingTime_MSE_Mean2_Var_seconds',\n",
    "                #'RemainingTime_MSE_Mean2_Var_seconds_outlier'\n",
    "\n",
    "                #'RemainingTime_SUM_Mean_MSE',\n",
    "                ('RemainingTime_SUM_Abs_Mean_MAE_outliers', 'Remaining time MAE (days)'),\n",
    "                #'RemainingTime_SUM_Mean_MAE_2',\n",
    "\n",
    "\n",
    "                #'RemainingTime_MAE_Mean2_Var_seconds_outliers',\n",
    "                #'RemainingTime_MAE_Mean2_Var_seconds_3.5',\n",
    "                #'RemainingTime_MAE_Mean2_Var_seconds_2.5',\n",
    "                #'RemainingTime_MAE_Mean2_Var_seconds_2',\n",
    "\n",
    "                #'RemainingTime_MSE_Mean2_Var_seconds_outliers',\n",
    "                #'RemainingTime_MSE_Mean2_Var_seconds_3.5',\n",
    "                #'RemainingTime_MSE_Mean2_Var_seconds_2.5',\n",
    "                #'RemainingTime_MSE_Mean2_Var_seconds_2'\n",
    "]\n",
    "\n",
    "res = {(k, label) : res_raw[k] for k, label in keys_to_keep}\n",
    "print(res_raw.keys())\n",
    "print(len(res_raw.keys()))\n",
    "print(len(res.keys()))\n",
    "print(len(keys_to_keep))\n",
    "print(res.keys())\n",
    "p = src.evaluation_metrics.plots.plot_res(res, c, columns=2, caption='BPIC17', pgf=True)#int(len(keys_to_keep)))\n",
    "with open('BPIC17_eval.pgf', 'wb') as f:\n",
    "    f.write(p)\n"
   ]
  },
  {
   "cell_type": "code",
   "execution_count": null,
   "metadata": {
    "execution": {
     "iopub.execute_input": "2025-03-14T21:30:55.656554Z",
     "iopub.status.busy": "2025-03-14T21:30:55.656396Z",
     "iopub.status.idle": "2025-03-14T21:30:55.953284Z",
     "shell.execute_reply": "2025-03-14T21:30:55.953034Z"
    }
   },
   "outputs": [],
   "source": [
    "import src.evaluation_metrics.plots\n",
    "importlib.reload(src.evaluation_metrics.plots)\n",
    "\n",
    "with open('BPIC17_PIT_event_elapsed.pgf', 'wb') as f:\n",
    "    r = src.evaluation_metrics.plots.plot_pits(res_raw['EventElapsed_PIT'], caption='BPIC17', x_label='Sum of event processing times', pgf=True)\n",
    "    f.write(r)\n",
    "\n",
    "with open('BPIC17_PIT_remaining_time.pgf', 'wb') as f:\n",
    "    r = src.evaluation_metrics.plots.plot_pits(res_raw['RemainingTime_PIT'], caption='BPIC17', x_label='Last case elapsed time', pgf=True)\n",
    "    f.write(r)"
   ]
  },
  {
   "cell_type": "code",
   "execution_count": null,
   "metadata": {
    "execution": {
     "iopub.execute_input": "2025-03-14T21:30:55.954377Z",
     "iopub.status.busy": "2025-03-14T21:30:55.954292Z",
     "iopub.status.idle": "2025-03-14T21:30:56.041826Z",
     "shell.execute_reply": "2025-03-14T21:30:56.041600Z"
    }
   },
   "outputs": [],
   "source": [
    "print('Suffix length MAE')\n",
    "print(np.mean([i['mean'] for i in res_raw['SuffixCountMAE'].values()]))\n",
    "print('Probabilistic suffix length MAE')\n",
    "print(np.mean([i['prob'][0] for i in res_raw['SuffixCountMAE'].values()]))\n",
    "\n",
    "print('DLS')\n",
    "print(np.mean([i['mean'] for i in res_raw['NormalizedDamerauLevenshteinMeanVar_activity'].values()]))\n",
    "print('Probabilistic DLS')\n",
    "print(np.mean([i['prob'][0] for i in res_raw['NormalizedDamerauLevenshteinMeanVar_activity'].values()]))\n",
    "\n",
    "print('Mean MAE sum remaining time:')\n",
    "print(np.mean([i['mean'] for i in res_raw['RemainingTime_SUM_Mean_MAE_outliers'].values()]))\n",
    "print('Probabilistic MAE sum remaining time:')\n",
    "print(np.mean([i['prob'][0] for i in res_raw['RemainingTime_SUM_Mean_MAE_outliers'].values()]))\n",
    "\n",
    "print('Mean MAE last event:')\n",
    "print(np.mean([i['mean'] for i in res_raw['RemainingTime_LastEvent_Mean2_Var_seconds_outliers'].values()]))\n",
    "print('Probabilistic MAE last event:')\n",
    "print(np.mean([i['prob'][0] for i in res_raw['RemainingTime_LastEvent_Mean2_Var_seconds_outliers'].values()]))\n"
   ]
  },
  {
   "cell_type": "code",
   "execution_count": null,
   "metadata": {
    "execution": {
     "iopub.execute_input": "2025-03-14T21:30:56.044463Z",
     "iopub.status.busy": "2025-03-14T21:30:56.044339Z",
     "iopub.status.idle": "2025-03-14T21:30:56.051462Z",
     "shell.execute_reply": "2025-03-14T21:30:56.051300Z"
    }
   },
   "outputs": [],
   "source": [
    "res_raw['Raw_activity'].keys()"
   ]
  },
  {
   "cell_type": "code",
   "execution_count": null,
   "metadata": {
    "execution": {
     "iopub.execute_input": "2025-03-14T21:30:56.052392Z",
     "iopub.status.busy": "2025-03-14T21:30:56.052311Z",
     "iopub.status.idle": "2025-03-14T21:30:56.058544Z",
     "shell.execute_reply": "2025-03-14T21:30:56.058384Z"
    }
   },
   "outputs": [],
   "source": [
    "res_raw['Raw_activity'][('HCA', 1, 7)]"
   ]
  },
  {
   "cell_type": "code",
   "execution_count": null,
   "metadata": {
    "execution": {
     "iopub.execute_input": "2025-03-14T21:30:56.059839Z",
     "iopub.status.busy": "2025-03-14T21:30:56.059760Z",
     "iopub.status.idle": "2025-03-14T21:30:56.065912Z",
     "shell.execute_reply": "2025-03-14T21:30:56.065755Z"
    }
   },
   "outputs": [],
   "source": [
    "res_raw['Raw_RemainingTime'][('HCA', 1, 7)]"
   ]
  }
 ],
 "metadata": {
  "kernelspec": {
   "display_name": "PrimePPM-tDGhFIeG",
   "language": "python",
   "name": "python3"
  },
  "language_info": {
   "codemirror_mode": {
    "name": "ipython",
    "version": 3
   },
   "file_extension": ".py",
   "mimetype": "text/x-python",
   "name": "python",
   "nbconvert_exporter": "python",
   "pygments_lexer": "ipython3",
   "version": "3.13.1"
  }
 },
 "nbformat": 4,
 "nbformat_minor": 2
}
