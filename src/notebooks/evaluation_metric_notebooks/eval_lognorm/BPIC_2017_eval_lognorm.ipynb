{
 "cells": [
  {
   "cell_type": "code",
   "execution_count": 1,
   "metadata": {
    "execution": {
     "iopub.execute_input": "2025-03-14T06:51:06.374538Z",
     "iopub.status.busy": "2025-03-14T06:51:06.374453Z",
     "iopub.status.idle": "2025-03-14T06:51:07.717698Z",
     "shell.execute_reply": "2025-03-14T06:51:07.717396Z"
    }
   },
   "outputs": [],
   "source": [
    "import importlib\n",
    "import sys\n",
    "import pickle\n",
    "import numpy as np\n",
    "\n",
    "sys.path.insert(0, '..')\n",
    "sys.path.insert(0, '../..')\n",
    "sys.path.insert(0, '../../..')\n",
    "sys.path.insert(0, '../../../..')\n"
   ]
  },
  {
   "cell_type": "code",
   "execution_count": 2,
   "metadata": {
    "execution": {
     "iopub.execute_input": "2025-03-14T06:51:07.719177Z",
     "iopub.status.busy": "2025-03-14T06:51:07.719037Z",
     "iopub.status.idle": "2025-03-14T06:51:07.725034Z",
     "shell.execute_reply": "2025-03-14T06:51:07.724807Z"
    }
   },
   "outputs": [
    {
     "data": {
      "text/plain": [
       "<module 'src.evaluation_metrics.metrics' from '/home/LordKunkler/prob_suffix_pred_sim_framework/probabilistic_suffix_prediction_dev/src/notebooks/evaluation_metric_notebooks/eval_lognorm/../../../../src/evaluation_metrics/metrics.py'>"
      ]
     },
     "execution_count": 2,
     "metadata": {},
     "output_type": "execute_result"
    }
   ],
   "source": [
    "import src.evaluation_metrics.conduct_evaluation\n",
    "importlib.reload(src.evaluation_metrics.conduct_evaluation)\n",
    "\n",
    "import src.evaluation_metrics.metrics\n",
    "importlib.reload(src.evaluation_metrics.metrics)"
   ]
  },
  {
   "cell_type": "code",
   "execution_count": 3,
   "metadata": {
    "execution": {
     "iopub.execute_input": "2025-03-14T06:51:07.745894Z",
     "iopub.status.busy": "2025-03-14T06:51:07.745740Z",
     "iopub.status.idle": "2025-03-14T21:30:43.112391Z",
     "shell.execute_reply": "2025-03-14T21:30:43.111826Z"
    }
   },
   "outputs": [
    {
     "ename": "KeyboardInterrupt",
     "evalue": "",
     "output_type": "error",
     "traceback": [
      "\u001b[31m---------------------------------------------------------------------------\u001b[39m",
      "\u001b[31mKeyboardInterrupt\u001b[39m                         Traceback (most recent call last)",
      "\u001b[36mCell\u001b[39m\u001b[36m \u001b[39m\u001b[32mIn[3]\u001b[39m\u001b[32m, line 70\u001b[39m\n\u001b[32m      9\u001b[39m     evaluation_metrics = {\n\u001b[32m     10\u001b[39m         \u001b[38;5;66;03m#'RemainingTime_MSE_seconds' : src.evaluation_metrics.metrics.LastValueMeanMSE('case_elapsed_time'),\u001b[39;00m\n\u001b[32m     11\u001b[39m         \u001b[38;5;66;03m#'RemainingTime_MAE_Var_seconds' : src.evaluation_metrics.metrics.LastValueMeanMedianVarMAE('case_elapsed_time', percentile=0.16),\u001b[39;00m\n\u001b[32m   (...)\u001b[39m\u001b[32m     66\u001b[39m         \u001b[33m'\u001b[39m\u001b[33mSuffixCountMAE\u001b[39m\u001b[33m'\u001b[39m : src.evaluation_metrics.metrics.SuffixCountMAE(percentile=\u001b[32m0.25\u001b[39m)\n\u001b[32m     67\u001b[39m     }\n\u001b[32m     69\u001b[39m     \u001b[38;5;66;03m# res_raw, c = src.evaluation_metrics.conduct_evaluation.batch_evaluate(output_dir, evaluation_metrics, num_workers=32)\u001b[39;00m\n\u001b[32m---> \u001b[39m\u001b[32m70\u001b[39m     res_raw, c = \u001b[43msrc\u001b[49m\u001b[43m.\u001b[49m\u001b[43mevaluation_metrics\u001b[49m\u001b[43m.\u001b[49m\u001b[43mconduct_evaluation\u001b[49m\u001b[43m.\u001b[49m\u001b[43mevaluate_sequentially\u001b[49m\u001b[43m(\u001b[49m\u001b[43moutput_dir\u001b[49m\u001b[43m,\u001b[49m\u001b[43m \u001b[49m\u001b[43mevaluation_metrics\u001b[49m\u001b[43m)\u001b[49m\n\u001b[32m     71\u001b[39m     all_results[output_dir] = (res_raw, c)\n\u001b[32m     73\u001b[39m \u001b[38;5;28;01mwith\u001b[39;00m \u001b[38;5;28mopen\u001b[39m(\u001b[33m\"\u001b[39m\u001b[33mBPIC17_eval.pkl\u001b[39m\u001b[33m\"\u001b[39m, \u001b[33m\"\u001b[39m\u001b[33mwb\u001b[39m\u001b[33m\"\u001b[39m) \u001b[38;5;28;01mas\u001b[39;00m file:\n",
      "\u001b[36mFile \u001b[39m\u001b[32m~/prob_suffix_pred_sim_framework/probabilistic_suffix_prediction_dev/src/notebooks/evaluation_metric_notebooks/eval_lognorm/../../../../src/evaluation_metrics/conduct_evaluation.py:51\u001b[39m, in \u001b[36mevaluate_sequentially\u001b[39m\u001b[34m(batch_folder, metrics)\u001b[39m\n\u001b[32m     49\u001b[39m results = {metric_name : {} \u001b[38;5;28;01mfor\u001b[39;00m metric_name \u001b[38;5;129;01min\u001b[39;00m metrics.keys()}\n\u001b[32m     50\u001b[39m \u001b[38;5;28;01mfor\u001b[39;00m filename \u001b[38;5;129;01min\u001b[39;00m pickle_files:\n\u001b[32m---> \u001b[39m\u001b[32m51\u001b[39m     new_results, (pc, sc) = \u001b[43mevaluate_single\u001b[49m\u001b[43m(\u001b[49m\u001b[43mbatch_folder\u001b[49m\u001b[43m,\u001b[49m\u001b[43m \u001b[49m\u001b[43mfilename\u001b[49m\u001b[43m,\u001b[49m\u001b[43m \u001b[49m\u001b[43mmetrics\u001b[49m\u001b[43m)\u001b[49m\n\u001b[32m     52\u001b[39m     \u001b[38;5;28;01mfor\u001b[39;00m metric_name, metric \u001b[38;5;129;01min\u001b[39;00m results.items():\n\u001b[32m     53\u001b[39m         metric.update(new_results[metric_name])\n",
      "\u001b[36mFile \u001b[39m\u001b[32m~/prob_suffix_pred_sim_framework/probabilistic_suffix_prediction_dev/src/notebooks/evaluation_metric_notebooks/eval_lognorm/../../../../src/evaluation_metrics/conduct_evaluation.py:36\u001b[39m, in \u001b[36mevaluate_single\u001b[39m\u001b[34m(batch_folder, filename, metrics)\u001b[39m\n\u001b[32m     34\u001b[39m         predicted_suffixes = [p[\u001b[32m0\u001b[39m] \u001b[38;5;28;01mfor\u001b[39;00m p \u001b[38;5;129;01min\u001b[39;00m predicted_suffixes]\n\u001b[32m     35\u001b[39m     \u001b[38;5;28;01mfor\u001b[39;00m metric_name, metric_obj \u001b[38;5;129;01min\u001b[39;00m metrics.items():\n\u001b[32m---> \u001b[39m\u001b[32m36\u001b[39m         result = \u001b[43mevaluate_metric\u001b[49m\u001b[43m(\u001b[49m\u001b[43mmetric_obj\u001b[49m\u001b[43m,\u001b[49m\u001b[43m \u001b[49m\u001b[43mprefix\u001b[49m\u001b[43m,\u001b[49m\u001b[43m \u001b[49m\u001b[43msuffix\u001b[49m\u001b[43m,\u001b[49m\u001b[43m \u001b[49m\u001b[43mmean_prediction\u001b[49m\u001b[43m,\u001b[49m\u001b[43m \u001b[49m\u001b[43mpredicted_suffixes\u001b[49m\u001b[43m)\u001b[49m\n\u001b[32m     37\u001b[39m         results[metric_name][(case_name, prefix_len, suffix_len)] = result\n\u001b[32m     38\u001b[39m \u001b[38;5;28mprint\u001b[39m(\u001b[33mf\u001b[39m\u001b[33m'\u001b[39m\u001b[33mLoaded: \u001b[39m\u001b[38;5;132;01m{\u001b[39;00mfilename\u001b[38;5;132;01m}\u001b[39;00m\u001b[33m'\u001b[39m)\n",
      "\u001b[36mFile \u001b[39m\u001b[32m~/prob_suffix_pred_sim_framework/probabilistic_suffix_prediction_dev/src/notebooks/evaluation_metric_notebooks/eval_lognorm/../../../../src/evaluation_metrics/conduct_evaluation.py:18\u001b[39m, in \u001b[36mevaluate_metric\u001b[39m\u001b[34m(metric, prefix, suffix, mean_prediction, predicted_suffix)\u001b[39m\n\u001b[32m     11\u001b[39m \u001b[38;5;28;01mdef\u001b[39;00m\u001b[38;5;250m \u001b[39m\u001b[34mevaluate_metric\u001b[39m(\n\u001b[32m     12\u001b[39m     metric : \u001b[38;5;28mobject\u001b[39m,\n\u001b[32m     13\u001b[39m     prefix : \u001b[38;5;28mlist\u001b[39m,\n\u001b[32m   (...)\u001b[39m\u001b[32m     16\u001b[39m     predicted_suffix : \u001b[38;5;28mlist\u001b[39m[\u001b[38;5;28mlist\u001b[39m]\n\u001b[32m     17\u001b[39m ):\n\u001b[32m---> \u001b[39m\u001b[32m18\u001b[39m     \u001b[38;5;28;01mreturn\u001b[39;00m \u001b[43mmetric\u001b[49m\u001b[43m.\u001b[49m\u001b[43mevaluate\u001b[49m\u001b[43m(\u001b[49m\u001b[43mprefix\u001b[49m\u001b[43m,\u001b[49m\u001b[43m \u001b[49m\u001b[43msuffix\u001b[49m\u001b[43m,\u001b[49m\u001b[43m \u001b[49m\u001b[43mmean_prediction\u001b[49m\u001b[43m,\u001b[49m\u001b[43m \u001b[49m\u001b[43mpredicted_suffix\u001b[49m\u001b[43m)\u001b[49m\n",
      "\u001b[36mFile \u001b[39m\u001b[32m~/prob_suffix_pred_sim_framework/probabilistic_suffix_prediction_dev/src/notebooks/evaluation_metric_notebooks/eval_lognorm/../../../../src/evaluation_metrics/metrics.py:619\u001b[39m, in \u001b[36mFakedNormalizedDamerauLevenshteinDistanceMeanVar.evaluate\u001b[39m\u001b[34m(self, prefix, suffix, mean_prediction, predicted_suffixes)\u001b[39m\n\u001b[32m    618\u001b[39m \u001b[38;5;28;01mdef\u001b[39;00m\u001b[38;5;250m \u001b[39m\u001b[34mevaluate\u001b[39m(\u001b[38;5;28mself\u001b[39m, prefix : \u001b[38;5;28mlist\u001b[39m, suffix : \u001b[38;5;28mlist\u001b[39m, mean_prediction : \u001b[38;5;28mlist\u001b[39m, predicted_suffixes : \u001b[38;5;28mlist\u001b[39m[\u001b[38;5;28mlist\u001b[39m]):\n\u001b[32m--> \u001b[39m\u001b[32m619\u001b[39m     mean_distance, proba_distances = \u001b[38;5;28;43msuper\u001b[39;49m\u001b[43m(\u001b[49m\u001b[43m)\u001b[49m\u001b[43m.\u001b[49m\u001b[43mevaluate\u001b[49m\u001b[43m(\u001b[49m\u001b[43mprefix\u001b[49m\u001b[43m,\u001b[49m\u001b[43m \u001b[49m\u001b[43msuffix\u001b[49m\u001b[43m,\u001b[49m\u001b[43m \u001b[49m\u001b[43mmean_prediction\u001b[49m\u001b[43m,\u001b[49m\u001b[43m \u001b[49m\u001b[43mpredicted_suffixes\u001b[49m\u001b[43m)\u001b[49m\n\u001b[32m    620\u001b[39m     proba_mean_distance = np.mean(proba_distances)\n\u001b[32m    621\u001b[39m     bottom_proba_distance = np.percentile(proba_distances, \u001b[32m100\u001b[39m*\u001b[38;5;28mself\u001b[39m.percentile)\n",
      "\u001b[36mFile \u001b[39m\u001b[32m~/prob_suffix_pred_sim_framework/probabilistic_suffix_prediction_dev/src/notebooks/evaluation_metric_notebooks/eval_lognorm/../../../../src/evaluation_metrics/metrics.py:563\u001b[39m, in \u001b[36mFakedNormalizedDamerauLevenshteinDistance.evaluate\u001b[39m\u001b[34m(self, prefix, suffix, mean_prediction, predicted_suffixes)\u001b[39m\n\u001b[32m    561\u001b[39m proba_suffixes = [\u001b[33m'\u001b[39m\u001b[33m'\u001b[39m.join([event[\u001b[38;5;28mself\u001b[39m.attribute_name] \u001b[38;5;28;01mif\u001b[39;00m event[\u001b[38;5;28mself\u001b[39m.attribute_name] \u001b[38;5;28;01melse\u001b[39;00m \u001b[33m'\u001b[39m\u001b[33m'\u001b[39m \u001b[38;5;28;01mfor\u001b[39;00m event \u001b[38;5;129;01min\u001b[39;00m proba_suffix]) \u001b[38;5;28;01mfor\u001b[39;00m proba_suffix \u001b[38;5;129;01min\u001b[39;00m predicted_suffixes]\n\u001b[32m    562\u001b[39m mean_distance = normalized_damerau_levenshtein_distance(mean_suffix, true_suffix)\n\u001b[32m--> \u001b[39m\u001b[32m563\u001b[39m proba_distances = [\u001b[43mnormalized_damerau_levenshtein_distance\u001b[49m\u001b[43m(\u001b[49m\u001b[43mproba_suffix\u001b[49m\u001b[43m,\u001b[49m\u001b[43m \u001b[49m\u001b[43mtrue_suffix\u001b[49m\u001b[43m)\u001b[49m \u001b[38;5;28;01mfor\u001b[39;00m proba_suffix \u001b[38;5;129;01min\u001b[39;00m proba_suffixes]\n\u001b[32m    564\u001b[39m \u001b[38;5;28;01mreturn\u001b[39;00m mean_distance, proba_distances\n",
      "\u001b[31mKeyboardInterrupt\u001b[39m: "
     ]
    }
   ],
   "source": [
    "import src.evaluation_metrics.plots\n",
    "importlib.reload(src.evaluation_metrics.plots)\n",
    "\n",
    "output_dirs = ['../../../../../../evaluation_results/BPIC17/gn_lognormal/']\n",
    "\n",
    "all_results = dict()\n",
    "\n",
    "for output_dir in output_dirs:\n",
    "    evaluation_metrics = {\n",
    "        #'RemainingTime_MSE_seconds' : src.evaluation_metrics.metrics.LastValueMeanMSE('case_elapsed_time'),\n",
    "        #'RemainingTime_MAE_Var_seconds' : src.evaluation_metrics.metrics.LastValueMeanMedianVarMAE('case_elapsed_time', percentile=0.16),\n",
    "        #'RemainingTime_MSE_Var_seconds' : src.evaluation_metrics.metrics.LastValueMeanVarMSE('case_elapsed_time', percentile=0.16),\n",
    "        #'RemainingTime_CRPS_seconds' : src.evaluation_metrics.metrics.LastValueCRPS('case_elapsed_time'),\n",
    "        #'Levenshtein_CRPS_activity' : src.evaluation_metrics.metrics.LevenshteinCRPS('concept:name'),\n",
    "        'LevenshteinMeanVar_activity' : src.evaluation_metrics.metrics.LevenshteinMeanVar('concept:name', percentile=0.25),\n",
    "        #'Raw_activity' : src.evaluation_metrics.metrics.RawAttribute('Activity'),\n",
    "        #'LevenshteinMeanVar_activity' : src.evaluation_metrics.metrics.LevenshteinMeanVar('concept:name', percentile=0.16),\n",
    "        #'LevenshteinMeanVar_resource' : src.evaluation_metrics.metrics.LevenshteinMeanVar('org:resource', percentile=0.16),\n",
    "\n",
    "        #'NormalizedDamerauLevenshteinCRPS_activity' : src.evaluation_metrics.metrics.NormalizedDamerauLevenshteinDistanceCRPS('concept:name'),\n",
    "        'NormalizedDamerauLevenshteinMeanVar_activity' : src.evaluation_metrics.metrics.NormalizedDamerauLevenshteinDistanceMeanVar('concept:name', percentile=0.25),\n",
    "        'FakedNormalizedDamerauLevenshteinMeanVar_activity' : src.evaluation_metrics.metrics.FakedNormalizedDamerauLevenshteinDistanceMeanVar('concept:name', percentile=0.25),\n",
    "\n",
    "        #'NormalizedDamerauLevenshteinMeanVar_resource' : src.evaluation_metrics.metrics.NormalizedDamerauLevenshteinDistanceMedianVar('Activity', percentile=0.16),\n",
    "        #'RemainingTime_PIT' : src.evaluation_metrics.metrics.LastValuePIT('case_elapsed_time'),\n",
    "        #'EventElapsed_PIT' : src.evaluation_metrics.metrics.LastValuePIT('event_elapsed_time'),\n",
    "\n",
    "\n",
    "        #'RemainingTime_MAE_Median_Var_seconds' : src.evaluation_metrics.metrics.LastValueMedianVarMAE('case_elapsed_time', percentile=0.16),\n",
    "        #'RemainingTime_MAE_Median2_Var_seconds' : src.evaluation_metrics.metrics.LastValueMedian2VarMAE('case_elapsed_time', percentile=0.16),\n",
    "        #'RemainingTime_MAE_Mean_Var_seconds' : src.evaluation_metrics.metrics.LastValueMeanVarMAE('case_elapsed_time', percentile=0.16),\n",
    "        #'RemainingTime_MAE_Mean2_Var_seconds' : src.evaluation_metrics.metrics.LastValueMean2VarMAE('case_elapsed_time', percentile=0.16),\n",
    "\n",
    "        #'RemainingTime_MSE_Median_Var_seconds' : src.evaluation_metrics.metrics.LastValueMedianVarMSE('case_elapsed_time', percentile=0.16),\n",
    "        #'RemainingTime_MSE_Median2_Var_seconds' : src.evaluation_metrics.metrics.LastValueMedian2VarMSE('case_elapsed_time', percentile=0.16),\n",
    "        #'RemainingTime_MSE_Mean_Var_seconds' : src.evaluation_metrics.metrics.LastValueMeanVarMSE('case_elapsed_time', percentile=0.16),\n",
    "        #'RemainingTime_MSE_Mean2_Var_seconds' : src.evaluation_metrics.metrics.LastValueMean2VarMSE('case_elapsed_time', percentile=0.16),\n",
    "\n",
    "\n",
    "        #'RemainingTime_SUM_Mean_MSE_outliers' : src.evaluation_metrics.metrics.SumValueMeanMSE('event_elapsed_time', percentile=0.16),\n",
    "        'RemainingTime_SUM_Mean_MAE_outliers' : src.evaluation_metrics.metrics.SumValueMeanMAE('event_elapsed_time', percentile=0.25, value_factor = 3600*24),\n",
    "        'RemainingTime_SUM_Abs_Mean_MAE_outliers' : src.evaluation_metrics.metrics.SumAbsValueMeanMAE('event_elapsed_time', percentile=0.25, value_factor = 3600*24),\n",
    "\n",
    "        #'RemainingTime_SUM_Mean_MSE_2' : src.evaluation_metrics.metrics.SumValueMeanMSE('event_elapsed_time', percentile=0.16, outlier_removal=2),\n",
    "        #'RemainingTime_SUM_Mean_MAE_2' : src.evaluation_metrics.metrics.SumValueMeanMAE('event_elapsed_time', percentile=0.16, outlier_removal=2),\n",
    "\n",
    "        'RemainingTime_LastEvent_Mean2_Var_seconds_outliers' : src.evaluation_metrics.metrics.LastValueMean2VarMAE('case_elapsed_time', percentile=0.25, value_factor=3600*24),\n",
    "\n",
    "        #'RemainingTime_MAE_Mean2_Var_seconds_outliers' : src.evaluation_metrics.metrics.LastValueMean2VarMAE('case_elapsed_time', percentile=0.16),\n",
    "        #'RemainingTime_MAE_Mean2_Var_seconds_3.5' : src.evaluation_metrics.metrics.LastValueMean2VarMAE('case_elapsed_time', percentile=0.16, outlier_removal=3.5),\n",
    "        #'RemainingTime_MAE_Mean2_Var_seconds_2.5' : src.evaluation_metrics.metrics.LastValueMean2VarMAE('case_elapsed_time', percentile=0.16, outlier_removal=2.5),\n",
    "        #'RemainingTime_MAE_Mean2_Var_seconds_2' : src.evaluation_metrics.metrics.LastValueMean2VarMAE('case_elapsed_time', percentile=0.16, outlier_removal=2),\n",
    "\n",
    "\n",
    "        #'RemainingTime_MSE_Median_Var_seconds' : src.evaluation_metrics.metrics.LastValueMedianVarMSE('case_elapsed_time', percentile=0.16),\n",
    "        #'RemainingTime_MSE_Median2_Var_seconds' : src.evaluation_metrics.metrics.LastValueMedian2VarMSE('case_elapsed_time', percentile=0.16),\n",
    "        #'RemainingTime_MSE_Mean_Var_seconds' : src.evaluation_metrics.metrics.LastValueMeanVarMSE('case_elapsed_time', percentile=0.16),\n",
    "        #'RemainingTime_MSE_Mean2_Var_seconds_3.5' : src.evaluation_metrics.metrics.LastValueMean2VarMSE('case_elapsed_time', percentile=0.16, outlier_removal=3.5),\n",
    "        #'RemainingTime_MSE_Mean2_Var_seconds_2.5' : src.evaluation_metrics.metrics.LastValueMean2VarMSE('case_elapsed_time', percentile=0.16, outlier_removal=2.5),\n",
    "        #'RemainingTime_MSE_Mean2_Var_seconds_2' : src.evaluation_metrics.metrics.LastValueMean2VarMSE('case_elapsed_time', percentile=0.16, outlier_removal=2),\n",
    "        #'RemainingTime_MSE_Mean2_Var_seconds_outliers' : src.evaluation_metrics.metrics.LastValueMean2VarMSE('case_elapsed_time', percentile=0.16),\n",
    "\n",
    "        'RemainingTime_PIT' : src.evaluation_metrics.metrics.LastValuePIT('case_elapsed_time'),\n",
    "        'EventElapsed_PIT' : src.evaluation_metrics.metrics.SumValuesPIT('event_elapsed_time'),\n",
    "        'SuffixCount' : src.evaluation_metrics.metrics.SuffixCount(),\n",
    "        'SuffixCountMAE' : src.evaluation_metrics.metrics.SuffixCountMAE(percentile=0.25)\n",
    "    }\n",
    "\n",
    "    # res_raw, c = src.evaluation_metrics.conduct_evaluation.batch_evaluate(output_dir, evaluation_metrics, num_workers=32)\n",
    "    res_raw, c = src.evaluation_metrics.conduct_evaluation.evaluate_sequentially(output_dir, evaluation_metrics)\n",
    "    all_results[output_dir] = (res_raw, c)\n",
    "\n",
    "with open(\"BPIC17_eval.pkl\", \"wb\") as file:\n",
    "    pickle.dump(all_results, file)"
   ]
  },
  {
   "cell_type": "code",
   "execution_count": null,
   "metadata": {
    "execution": {
     "iopub.execute_input": "2025-03-14T21:30:43.124054Z",
     "iopub.status.busy": "2025-03-14T21:30:43.123935Z",
     "iopub.status.idle": "2025-03-14T21:30:55.646959Z",
     "shell.execute_reply": "2025-03-14T21:30:55.646624Z"
    }
   },
   "outputs": [],
   "source": [
    "with open(\"BPIC17_eval.pkl\", \"rb\") as file:\n",
    "    all_results = pickle.load(file)\n",
    "\n",
    "import src.evaluation_metrics.plots\n",
    "importlib.reload(src.evaluation_metrics.plots)\n",
    "\n",
    "res_raw, c = all_results['../../../../../../evaluation_results/BPIC17/gn_lognormal/']\n",
    "keys_to_keep = [\n",
    "                ('SuffixCountMAE', 'Suffix length MAE'),\n",
    "                #'LevenshteinMeanVar_activity',\n",
    "                ('NormalizedDamerauLevenshteinMeanVar_activity', 'DLS'),\n",
    "                #'RemainingTime_MAE_Median_Var_seconds',\n",
    "                #'RemainingTime_MAE_Median2_Var_seconds',\n",
    "                #'RemainingTime_MAE_Mean_Var_seconds',\n",
    "                #'RemainingTime_MAE_Mean2_Var_seconds',\n",
    "                #'RemainingTime_MAE_Mean2_Var_seconds_outliers',\n",
    "                \n",
    "                #'RemainingTime_MSE_Median_Var_seconds',\n",
    "                #'RemainingTime_MSE_Median2_Var_seconds',\n",
    "                #'RemainingTime_MSE_Mean_Var_seconds',\n",
    "                #'RemainingTime_MSE_Mean2_Var_seconds',\n",
    "                #'RemainingTime_MSE_Mean2_Var_seconds_outlier'\n",
    "\n",
    "                #'RemainingTime_SUM_Mean_MSE',\n",
    "                ('RemainingTime_SUM_Abs_Mean_MAE_outliers', 'Remaining time MAE (days)'),\n",
    "                #'RemainingTime_SUM_Mean_MAE_2',\n",
    "\n",
    "\n",
    "                #'RemainingTime_MAE_Mean2_Var_seconds_outliers',\n",
    "                #'RemainingTime_MAE_Mean2_Var_seconds_3.5',\n",
    "                #'RemainingTime_MAE_Mean2_Var_seconds_2.5',\n",
    "                #'RemainingTime_MAE_Mean2_Var_seconds_2',\n",
    "\n",
    "                #'RemainingTime_MSE_Mean2_Var_seconds_outliers',\n",
    "                #'RemainingTime_MSE_Mean2_Var_seconds_3.5',\n",
    "                #'RemainingTime_MSE_Mean2_Var_seconds_2.5',\n",
    "                #'RemainingTime_MSE_Mean2_Var_seconds_2'\n",
    "]\n",
    "\n",
    "res = {(k, label) : res_raw[k] for k, label in keys_to_keep}\n",
    "print(res_raw.keys())\n",
    "print(len(res_raw.keys()))\n",
    "print(len(res.keys()))\n",
    "print(len(keys_to_keep))\n",
    "print(res.keys())\n",
    "p = src.evaluation_metrics.plots.plot_res(res, c, columns=2, caption='BPIC17', pgf=True)#int(len(keys_to_keep)))\n",
    "with open('BPIC17.pgf', 'wb') as f:\n",
    "    f.write(p)\n"
   ]
  },
  {
   "cell_type": "code",
   "execution_count": null,
   "metadata": {
    "execution": {
     "iopub.execute_input": "2025-03-14T21:30:55.656554Z",
     "iopub.status.busy": "2025-03-14T21:30:55.656396Z",
     "iopub.status.idle": "2025-03-14T21:30:55.953284Z",
     "shell.execute_reply": "2025-03-14T21:30:55.953034Z"
    }
   },
   "outputs": [],
   "source": [
    "import src.evaluation_metrics.plots\n",
    "importlib.reload(src.evaluation_metrics.plots)\n",
    "\n",
    "with open('BPIC17_PIT_event_elapsed.pgf', 'wb') as f:\n",
    "    r = src.evaluation_metrics.plots.plot_pits(res_raw['EventElapsed_PIT'], caption='BPIC17', x_label='Sum of event processing times', pgf=True)\n",
    "    f.write(r)\n",
    "\n",
    "with open('BPIC17_PIT_remaining_time.pgf', 'wb') as f:\n",
    "    r = src.evaluation_metrics.plots.plot_pits(res_raw['RemainingTime_PIT'], caption='BPIC17', x_label='Last case elapsed time', pgf=True)\n",
    "    f.write(r)"
   ]
  },
  {
   "cell_type": "code",
   "execution_count": null,
   "metadata": {
    "execution": {
     "iopub.execute_input": "2025-03-14T21:30:55.954377Z",
     "iopub.status.busy": "2025-03-14T21:30:55.954292Z",
     "iopub.status.idle": "2025-03-14T21:30:56.041826Z",
     "shell.execute_reply": "2025-03-14T21:30:56.041600Z"
    }
   },
   "outputs": [],
   "source": [
    "print('Suffix length MAE')\n",
    "print(np.mean([i['mean'] for i in res_raw['SuffixCountMAE'].values()]))\n",
    "print('Probabilistic suffix length MAE')\n",
    "print(np.mean([i['prob'][0] for i in res_raw['SuffixCountMAE'].values()]))\n",
    "\n",
    "print('DLS')\n",
    "print(np.mean([i['mean'] for i in res_raw['NormalizedDamerauLevenshteinMeanVar_activity'].values()]))\n",
    "print('Probabilistic DLS')\n",
    "print(np.mean([i['prob'][0] for i in res_raw['NormalizedDamerauLevenshteinMeanVar_activity'].values()]))\n",
    "\n",
    "print('Mean MAE sum remaining time:')\n",
    "print(np.mean([i['mean'] for i in res_raw['RemainingTime_SUM_Mean_MAE_outliers'].values()]))\n",
    "print('Probabilistic MAE sum remaining time:')\n",
    "print(np.mean([i['prob'][0] for i in res_raw['RemainingTime_SUM_Mean_MAE_outliers'].values()]))\n",
    "\n",
    "print('Mean MAE last event:')\n",
    "print(np.mean([i['mean'] for i in res_raw['RemainingTime_LastEvent_Mean2_Var_seconds_outliers'].values()]))\n",
    "print('Probabilistic MAE last event:')\n",
    "print(np.mean([i['prob'][0] for i in res_raw['RemainingTime_LastEvent_Mean2_Var_seconds_outliers'].values()]))\n"
   ]
  },
  {
   "cell_type": "code",
   "execution_count": null,
   "metadata": {
    "execution": {
     "iopub.execute_input": "2025-03-14T21:30:56.044463Z",
     "iopub.status.busy": "2025-03-14T21:30:56.044339Z",
     "iopub.status.idle": "2025-03-14T21:30:56.051462Z",
     "shell.execute_reply": "2025-03-14T21:30:56.051300Z"
    }
   },
   "outputs": [],
   "source": [
    "res_raw['Raw_activity'].keys()"
   ]
  },
  {
   "cell_type": "code",
   "execution_count": null,
   "metadata": {
    "execution": {
     "iopub.execute_input": "2025-03-14T21:30:56.052392Z",
     "iopub.status.busy": "2025-03-14T21:30:56.052311Z",
     "iopub.status.idle": "2025-03-14T21:30:56.058544Z",
     "shell.execute_reply": "2025-03-14T21:30:56.058384Z"
    }
   },
   "outputs": [],
   "source": [
    "res_raw['Raw_activity'][('HCA', 1, 7)]"
   ]
  },
  {
   "cell_type": "code",
   "execution_count": null,
   "metadata": {
    "execution": {
     "iopub.execute_input": "2025-03-14T21:30:56.059839Z",
     "iopub.status.busy": "2025-03-14T21:30:56.059760Z",
     "iopub.status.idle": "2025-03-14T21:30:56.065912Z",
     "shell.execute_reply": "2025-03-14T21:30:56.065755Z"
    }
   },
   "outputs": [],
   "source": [
    "res_raw['Raw_RemainingTime'][('HCA', 1, 7)]"
   ]
  }
 ],
 "metadata": {
  "kernelspec": {
   "display_name": "PrimePPM-tDGhFIeG",
   "language": "python",
   "name": "python3"
  },
  "language_info": {
   "codemirror_mode": {
    "name": "ipython",
    "version": 3
   },
   "file_extension": ".py",
   "mimetype": "text/x-python",
   "name": "python",
   "nbconvert_exporter": "python",
   "pygments_lexer": "ipython3",
   "version": "3.13.1"
  }
 },
 "nbformat": 4,
 "nbformat_minor": 2
}
